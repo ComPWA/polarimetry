{
 "cells": [
  {
   "cell_type": "markdown",
   "metadata": {
    "user_expressions": []
   },
   "source": [
    "# B-matrix extension of polarimeter"
   ]
  },
  {
   "cell_type": "code",
   "execution_count": null,
   "metadata": {
    "jupyter": {
     "source_hidden": true
    },
    "mystnb": {
     "code_prompt_show": "Import python libraries"
    },
    "tags": [
     "hide-cell",
     "scroll-input"
    ]
   },
   "outputs": [],
   "source": [
    "from __future__ import annotations\n",
    "\n",
    "import logging\n",
    "from warnings import filterwarnings\n",
    "\n",
    "import jax.numpy as jnp\n",
    "import matplotlib.pyplot as plt\n",
    "import numpy as np\n",
    "import sympy as sp\n",
    "from ampform.sympy import PoolSum\n",
    "from IPython.display import display\n",
    "from matplotlib import cm\n",
    "from sympy.physics.matrices import msigma\n",
    "from tqdm.auto import tqdm\n",
    "\n",
    "from polarimetry import _to_index\n",
    "from polarimetry.data import create_data_transformer, generate_meshgrid_sample\n",
    "from polarimetry.io import (\n",
    "    mute_jax_warnings,\n",
    "    perform_cached_doit,\n",
    "    perform_cached_lambdify,\n",
    ")\n",
    "from polarimetry.lhcb import load_model_builder, load_model_parameters\n",
    "from polarimetry.lhcb.particle import load_particles\n",
    "from polarimetry.plot import use_mpl_latex_fonts\n",
    "\n",
    "filterwarnings(\"ignore\")\n",
    "logging.getLogger(\"polarimetry.function\").setLevel(logging.INFO)\n",
    "mute_jax_warnings()"
   ]
  },
  {
   "cell_type": "markdown",
   "metadata": {
    "user_expressions": []
   },
   "source": [
    "## Formulate expressions"
   ]
  },
  {
   "cell_type": "markdown",
   "metadata": {
    "user_expressions": []
   },
   "source": [
    "Reference subsystem 1 is defined as:\n",
    "\n",
    "![](../docs/_images/orientation-K.svg)"
   ]
  },
  {
   "cell_type": "code",
   "execution_count": null,
   "metadata": {
    "jupyter": {
     "source_hidden": true
    },
    "mystnb": {
     "code_prompt_show": "Formulate amplitude models"
    },
    "tags": [
     "hide-input"
    ]
   },
   "outputs": [],
   "source": [
    "model_choice = 0\n",
    "model_file = \"../data/model-definitions.yaml\"\n",
    "particles = load_particles(\"../data/particle-definitions.yaml\")\n",
    "builder = load_model_builder(model_file, particles, model_choice)\n",
    "imported_parameter_values = load_model_parameters(\n",
    "    model_file, builder.decay, model_choice, particles\n",
    ")\n",
    "reference_subsystem = 1\n",
    "model = builder.formulate(reference_subsystem, cleanup_summations=True)\n",
    "model.parameter_defaults.update(imported_parameter_values)"
   ]
  },
  {
   "cell_type": "markdown",
   "metadata": {
    "user_expressions": []
   },
   "source": [
    "$$\n",
    "\\vec\\alpha = \\sum_{\\nu',\\nu,\\{\\lambda\\}} A^*_{\\nu',\\{\\lambda\\}}\\vec\\sigma_{\\nu',\\nu} A_{\\nu,\\{\\lambda\\}} \\,\\big / I_0 \\\\\n",
    "\\vec\\beta = \\sum_{\\nu,\\lambda',\\lambda} A^*_{\\nu,\\lambda'} \\vec\\sigma_{\\lambda',\\lambda} A^*_{\\nu,\\lambda} \\,\\big/ I_0 \\\\\n",
    "B_{\\tau,\\rho} = \\sum_{\\nu,\\nu',\\lambda',\\lambda} A^*_{\\nu',\\lambda'} \\sigma_{\\nu',\\nu}^\\tau A_{\\nu,\\lambda} \\sigma_{\\lambda',\\lambda}^\\rho\n",
    "$$"
   ]
  },
  {
   "cell_type": "code",
   "execution_count": null,
   "metadata": {
    "jupyter": {
     "source_hidden": true
    },
    "mystnb": {
     "code_prompt_show": "Symbol definitions"
    },
    "tags": [
     "hide-input"
    ]
   },
   "outputs": [],
   "source": [
    "half = sp.Rational(1, 2)\n",
    "λ, λp = sp.symbols(R\"lambda \\lambda^{\\prime}\", rational=True)\n",
    "v, vp = sp.symbols(R\"nu \\nu^{\\prime}\", rational=True)\n",
    "σ = [sp.Matrix([[1, 0], [0, 1]])]\n",
    "σ.extend(msigma(i) for i in (1, 2, 3))"
   ]
  },
  {
   "cell_type": "code",
   "execution_count": null,
   "metadata": {
    "tags": []
   },
   "outputs": [],
   "source": [
    "ref = reference_subsystem\n",
    "B = tuple(\n",
    "    tuple(\n",
    "        PoolSum(\n",
    "            builder.formulate_aligned_amplitude(vp, λp, 0, 0, ref)[0].conjugate()\n",
    "            * σ[τ][_to_index(vp), _to_index(v)]\n",
    "            * builder.formulate_aligned_amplitude(v, λ, 0, 0, ref)[0]\n",
    "            * σ[ρ][_to_index(λp), _to_index(λ)],\n",
    "            (v, [-half, +half]),\n",
    "            (vp, [-half, +half]),\n",
    "            (λ, [-half, +half]),\n",
    "            (λp, [-half, +half]),\n",
    "        ).cleanup()\n",
    "        for ρ in range(4)\n",
    "    )\n",
    "    for τ in range(4)\n",
    ")\n",
    "B = sp.Matrix(B)"
   ]
  },
  {
   "cell_type": "code",
   "execution_count": null,
   "metadata": {
    "jupyter": {
     "source_hidden": true
    },
    "tags": [
     "remove-cell"
    ]
   },
   "outputs": [],
   "source": [
    "B_test = tuple(\n",
    "    tuple(sp.Symbol(Rf\"\\tau={τ}, \\rho={ρ}\") for ρ in range(4)) for τ in range(4)\n",
    ")\n",
    "B_test = sp.Matrix(B_test)\n",
    "B_test"
   ]
  },
  {
   "cell_type": "code",
   "execution_count": null,
   "metadata": {
    "tags": [
     "remove-cell"
    ]
   },
   "outputs": [],
   "source": [
    "B_test[0, 2]"
   ]
  },
  {
   "cell_type": "markdown",
   "metadata": {
    "jp-MarkdownHeadingCollapsed": true,
    "tags": [],
    "user_expressions": []
   },
   "source": [
    "## Functions and data"
   ]
  },
  {
   "cell_type": "code",
   "execution_count": null,
   "metadata": {
    "jupyter": {
     "source_hidden": true
    },
    "mystnb": {
     "code_prompt_show": "Unfold symbolic expressions"
    },
    "tags": [
     "hide-cell"
    ]
   },
   "outputs": [],
   "source": [
    "progress_bar = tqdm(desc=\"Unfolding expressions\", total=16)\n",
    "B_exprs = []\n",
    "for τ in range(4):\n",
    "    row = []\n",
    "    for ρ in range(4):\n",
    "        expr = perform_cached_doit(B[τ, ρ].doit().xreplace(model.amplitudes))\n",
    "        progress_bar.update()\n",
    "        row.append(expr)\n",
    "    B_exprs.append(row)\n",
    "progress_bar.close()\n",
    "B_exprs = np.array(B_exprs)\n",
    "B_exprs.shape"
   ]
  },
  {
   "cell_type": "code",
   "execution_count": null,
   "metadata": {
    "jupyter": {
     "source_hidden": true
    },
    "mystnb": {
     "code_prompt_show": "Lambdify to JAX"
    },
    "tags": [
     "hide-cell"
    ]
   },
   "outputs": [],
   "source": [
    "progress_bar = tqdm(desc=\"Lambdifying\", total=16)\n",
    "B_funcs = []\n",
    "for τ in range(4):\n",
    "    row = []\n",
    "    for ρ in range(4):\n",
    "        func = perform_cached_lambdify(\n",
    "            B_exprs[τ, ρ].xreplace(model.parameter_defaults),\n",
    "            backend=\"jax\",\n",
    "        )\n",
    "        progress_bar.update()\n",
    "        row.append(func)\n",
    "    B_funcs.append(row)\n",
    "progress_bar.close()\n",
    "B_funcs = np.array(B_funcs)"
   ]
  },
  {
   "cell_type": "code",
   "execution_count": null,
   "metadata": {
    "jupyter": {
     "source_hidden": true
    },
    "mystnb": {
     "code_prompt_show": "Generate data grid for Dalitz plot"
    },
    "tags": [
     "hide-cell",
     "remove-output"
    ]
   },
   "outputs": [],
   "source": [
    "data_sample = generate_meshgrid_sample(model.decay, resolution=400)\n",
    "X = data_sample[\"sigma1\"]\n",
    "Y = data_sample[\"sigma2\"]\n",
    "transformer = create_data_transformer(model)\n",
    "data_sample.update(transformer(data_sample))"
   ]
  },
  {
   "cell_type": "code",
   "execution_count": null,
   "metadata": {
    "mystnb": {
     "code_prompt_show": "Compute B-matrix over Dalitz grid"
    },
    "tags": [
     "hide-cell"
    ]
   },
   "outputs": [],
   "source": [
    "B_arrays = jnp.array(\n",
    "    [[B_funcs[τ, ρ](data_sample) for τ in range(4)] for ρ in range(4)]\n",
    ")\n",
    "B_norm = B_arrays / B_arrays[0, 0]\n",
    "B_arrays.shape"
   ]
  },
  {
   "cell_type": "code",
   "execution_count": null,
   "metadata": {
    "tags": [
     "remove-cell"
    ]
   },
   "outputs": [],
   "source": [
    "decimals = 6\n",
    "display(\n",
    "    jnp.round(jnp.nanmax(B_norm.imag, axis=(2, 3)), decimals),\n",
    "    jnp.round(jnp.nanmax(B_norm.real, axis=(2, 3)), decimals),\n",
    "    jnp.round(jnp.nanmean(B_norm.real, axis=(2, 3)), decimals),\n",
    "    jnp.round(jnp.nanstd(B_norm.real, axis=(2, 3)), decimals),\n",
    ")"
   ]
  },
  {
   "cell_type": "markdown",
   "metadata": {
    "user_expressions": []
   },
   "source": [
    "## Plots"
   ]
  },
  {
   "cell_type": "code",
   "execution_count": null,
   "metadata": {
    "jupyter": {
     "source_hidden": true
    },
    "tags": [
     "hide-input"
    ]
   },
   "outputs": [],
   "source": [
    "%config InlineBackend.figure_formats = ['png']\n",
    "plt.rcdefaults()\n",
    "use_mpl_latex_fonts()\n",
    "plt.rc(\"font\", size=18)\n",
    "s1_label = R\"$m^2\\left(K^-\\pi^+\\right)$ [GeV$^2$]\"\n",
    "s2_label = R\"$m^2\\left(pK^-\\right)$ [GeV$^2$]\"\n",
    "fig, ax = plt.subplots(figsize=(8, 6.8))\n",
    "ax.set_title(\"$I_0 = B_{0, 0}$\")\n",
    "ax.set_xlabel(s1_label)\n",
    "ax.set_ylabel(s2_label)\n",
    "ax.set_box_aspect(1)\n",
    "ax.pcolormesh(X, Y, B_arrays[0, 0].real)\n",
    "plt.show()"
   ]
  },
  {
   "cell_type": "code",
   "execution_count": null,
   "metadata": {
    "jupyter": {
     "source_hidden": true
    },
    "tags": [
     "hide-input",
     "full-width"
    ]
   },
   "outputs": [],
   "source": [
    "%config InlineBackend.figure_formats = ['png']\n",
    "plt.rcdefaults()\n",
    "use_mpl_latex_fonts()\n",
    "plt.rc(\"font\", size=10)\n",
    "fig, axes = plt.subplots(\n",
    "    dpi=200,\n",
    "    figsize=(11, 10),\n",
    "    ncols=4,\n",
    "    nrows=4,\n",
    "    sharex=True,\n",
    "    sharey=True,\n",
    ")\n",
    "fig.suptitle(\n",
    "    R\"$B_{\\tau,\\rho} = \\sum_{\\nu,\\nu',\\lambda',\\lambda} A^*_{\\nu',\\lambda'}\"\n",
    "    R\" \\sigma_{\\nu',\\nu}^\\tau A_{\\nu,\\lambda} \\sigma_{\\lambda',\\lambda}^\\rho$\"\n",
    ")\n",
    "progress_bar = tqdm(total=16)\n",
    "for ρ in range(4):\n",
    "    for τ in range(4):\n",
    "        ax = axes[τ, ρ]\n",
    "        ax.set_box_aspect(1)\n",
    "        if τ == 0 and ρ == 0:\n",
    "            Z = B_arrays[τ, ρ].real\n",
    "            ax.set_title(f\"$B_{{{τ}{ρ}}}$\")\n",
    "            cmap = cmap = cm.viridis\n",
    "        else:\n",
    "            Z = B_norm[τ, ρ].real\n",
    "            ax.set_title(f\"$B_{{{τ}{ρ}}} / B_{{00}}$\")\n",
    "            cmap = cmap = cm.coolwarm\n",
    "        mesh = ax.pcolormesh(X, Y, Z, cmap=cmap)\n",
    "        cbar = fig.colorbar(mesh, ax=ax, fraction=0.047, pad=0.01)\n",
    "        if τ != 0 or ρ != 0:\n",
    "            mesh.set_clim(vmin=-1, vmax=+1)\n",
    "            cbar.set_ticks([-1, 0, +1])\n",
    "            cbar.set_ticklabels([\"-1\", \"0\", \"+1\"])\n",
    "        if τ == 3:\n",
    "            ax.set_xlabel(s1_label)\n",
    "        if ρ == 0:\n",
    "            ax.set_ylabel(s2_label)\n",
    "        progress_bar.update()\n",
    "progress_bar.close()\n",
    "fig.tight_layout()\n",
    "plt.show()"
   ]
  },
  {
   "cell_type": "markdown",
   "metadata": {
    "user_expressions": []
   },
   "source": [
    "**Hypothesis**:\n",
    "\n",
    "$$\n",
    "B_{0,\\rho} = \\vec\\beta B_{00} \\\\\n",
    "B_{\\tau,0} = \\vec\\alpha B_{00} \\\\\n",
    "B_{00} = I_0\n",
    "$$"
   ]
  },
  {
   "cell_type": "code",
   "execution_count": null,
   "metadata": {
    "jupyter": {
     "source_hidden": true
    },
    "mystnb": {
     "code_prompt_show": "Function definitions for quiver plot"
    },
    "tags": [
     "hide-cell"
    ]
   },
   "outputs": [],
   "source": [
    "%config InlineBackend.figure_formats = ['svg']\n",
    "\n",
    "\n",
    "def plot_field(vx, vy, v_abs, ax, strides=12, cmap=cm.viridis_r):\n",
    "    mesh = ax.quiver(\n",
    "        X[::strides, ::strides],\n",
    "        Y[::strides, ::strides],\n",
    "        vx[::strides, ::strides].real,\n",
    "        vy[::strides, ::strides].real,\n",
    "        v_abs[::strides, ::strides],\n",
    "        cmap=cmap,\n",
    "    )\n",
    "    mesh.set_clim(vmin=0, vmax=+1)\n",
    "    return mesh\n",
    "\n",
    "\n",
    "def plot(x, y, z, strides=14):\n",
    "    plt.rcdefaults()\n",
    "    use_mpl_latex_fonts()\n",
    "    plt.rc(\"font\", size=18)\n",
    "    fig, ax = plt.subplots(figsize=(8, 6.8), tight_layout=True)\n",
    "    ax.set_box_aspect(1)\n",
    "    v_abs = jnp.sqrt(x.real**2 + y.real**2 + z.real**2)\n",
    "    mesh = plot_field(x, y, v_abs, ax, strides)\n",
    "    color_bar = fig.colorbar(mesh, ax=ax, pad=0.01)\n",
    "    return ax, color_bar"
   ]
  },
  {
   "cell_type": "code",
   "execution_count": null,
   "metadata": {
    "jupyter": {
     "source_hidden": true
    },
    "tags": [
     "hide-input"
    ]
   },
   "outputs": [],
   "source": [
    "ax, cbar = plot(\n",
    "    x=B_norm[3, 0],\n",
    "    y=B_norm[1, 0],\n",
    "    z=B_norm[2, 0],\n",
    "    strides=10,\n",
    ")\n",
    "ax.set_title(\n",
    "    R\"$B_{\\tau, 0} / B_{00} = \\sum_{\\nu',\\nu,\\{\\lambda\\}}\"\n",
    "    R\" A^*_{\\nu',\\{\\lambda\\}}\\vec\\sigma_{\\nu',\\nu} A_{\\nu,\\{\\lambda\\}} \\,\\big / I_0$\"\n",
    ")\n",
    "ax.set_xlabel(Rf\"{s1_label}, $\\quad\\alpha_z$\")\n",
    "ax.set_ylabel(Rf\"{s2_label}, $\\quad\\alpha_x$\")\n",
    "cbar.set_label(R\"$\\left|\\vec{\\alpha}\\right|$\")"
   ]
  },
  {
   "cell_type": "code",
   "execution_count": null,
   "metadata": {
    "jupyter": {
     "source_hidden": true
    },
    "tags": [
     "hide-input"
    ]
   },
   "outputs": [],
   "source": [
    "ax, cbar = plot(\n",
    "    y=B_norm[0, 3],\n",
    "    x=B_norm[0, 1],\n",
    "    z=B_norm[0, 2],\n",
    "    strides=10,\n",
    ")\n",
    "ax.set_title(\n",
    "    R\"$B_{0,\\rho} / B_{00} = \\sum_{\\nu,\\lambda',\\lambda} A^*_{\\nu,\\lambda'}\"\n",
    "    R\" \\vec\\sigma_{\\lambda',\\lambda} A^*_{\\nu,\\lambda} \\,\\big/ I_0$\"\n",
    ")\n",
    "ax.set_xlabel(Rf\"{s1_label}, $\\quad \\beta_z = B_{{03}}$\")\n",
    "ax.set_ylabel(Rf\"{s2_label}, $\\quad \\beta_x = B_{{01}}$\")\n",
    "cbar.set_label(R\"$\\left|\\vec{\\beta}\\right|$\")"
   ]
  }
 ],
 "metadata": {
  "kernelspec": {
   "display_name": "Python 3 (ipykernel)",
   "language": "python",
   "name": "python3"
  },
  "language_info": {
   "codemirror_mode": {
    "name": "ipython",
    "version": 3
   },
   "file_extension": ".py",
   "mimetype": "text/x-python",
   "name": "python",
   "nbconvert_exporter": "python",
   "pygments_lexer": "ipython3",
   "version": "3.8.16"
  },
  "myst": {
   "all_links_external": true
  }
 },
 "nbformat": 4,
 "nbformat_minor": 4
}
