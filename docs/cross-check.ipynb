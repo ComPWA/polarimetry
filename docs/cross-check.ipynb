{
 "cells": [
  {
   "cell_type": "markdown",
   "metadata": {},
   "source": [
    "# LHCb cross-check"
   ]
  },
  {
   "cell_type": "code",
   "execution_count": null,
   "metadata": {
    "jupyter": {
     "source_hidden": true
    },
    "tags": [
     "hide-cell",
     "scroll-input"
    ]
   },
   "outputs": [],
   "source": [
    "from __future__ import annotations\n",
    "\n",
    "import json\n",
    "import logging\n",
    "import re\n",
    "from itertools import product\n",
    "from typing import Pattern\n",
    "\n",
    "import matplotlib.pyplot as plt\n",
    "import numpy as np\n",
    "import sympy as sp\n",
    "from ampform.helicity.naming import natural_sorting\n",
    "from ampform.sympy import PoolSum\n",
    "from IPython.display import Markdown, Math, display\n",
    "from matplotlib.colors import LogNorm\n",
    "from sympy.core.symbol import Str\n",
    "from sympy.physics.quantum.spin import Rotation as Wigner\n",
    "from tensorwaves.data.transform import SympyDataTransformer\n",
    "from tensorwaves.function import ParametrizedBackendFunction\n",
    "from tensorwaves.function.sympy import create_function, create_parametrized_function\n",
    "from tqdm.notebook import tqdm\n",
    "\n",
    "from polarization.decay import Particle, ThreeBodyDecay\n",
    "from polarization.dynamics import (\n",
    "    BuggBreitWigner,\n",
    "    FlattéSWave,\n",
    "    Källén,\n",
    "    RelativisticBreitWigner,\n",
    ")\n",
    "from polarization.io import as_latex, as_markdown_table, display_latex\n",
    "from polarization.lhcb import K, Λc, Σ, load_three_body_decays, p, π\n",
    "from polarization.spin import create_spin_range\n",
    "\n",
    "\n",
    "# hack for moving Indexed indices below superscript of the base\n",
    "def _print_Indexed_latex(self, printer, *args):\n",
    "    base = printer._print(self.base)\n",
    "    indices = \", \".join(map(printer._print, self.indices))\n",
    "    return f\"{base}_{{{indices}}}\"\n",
    "\n",
    "\n",
    "sp.Indexed._latex = _print_Indexed_latex"
   ]
  },
  {
   "cell_type": "markdown",
   "metadata": {
    "tags": []
   },
   "source": [
    "## Amplitude model"
   ]
  },
  {
   "cell_type": "markdown",
   "metadata": {},
   "source": [
    "### Resonances and $LS$-scheme"
   ]
  },
  {
   "cell_type": "markdown",
   "metadata": {},
   "source": [
    "Particle definitions for $\\Lambda_c^+$ and $p, \\pi^+, K^-$:"
   ]
  },
  {
   "cell_type": "code",
   "execution_count": null,
   "metadata": {
    "jupyter": {
     "source_hidden": true
    },
    "tags": [
     "hide-input"
    ]
   },
   "outputs": [],
   "source": [
    "Markdown(as_markdown_table([Λc, p, π, K, Σ]))"
   ]
  },
  {
   "cell_type": "markdown",
   "metadata": {
    "tags": []
   },
   "source": [
    "Resonance definitions as defined in {download}`data/isobars.json <../data/isobars.json>`:"
   ]
  },
  {
   "cell_type": "code",
   "execution_count": null,
   "metadata": {
    "tags": []
   },
   "outputs": [],
   "source": [
    "decays = load_three_body_decays(\"../data/isobars.json\")"
   ]
  },
  {
   "cell_type": "code",
   "execution_count": null,
   "metadata": {
    "jupyter": {
     "source_hidden": true
    },
    "tags": [
     "hide-input",
     "full-width"
    ]
   },
   "outputs": [],
   "source": [
    "def create_markdown_table_row(*items):\n",
    "    items = map(lambda i: f\"{i}\", items)\n",
    "    return \"| \" + \" | \".join(items) + \" |\\n\"\n",
    "\n",
    "\n",
    "column_names = [\n",
    "    \"resonance\",\n",
    "    R\"$j^P$\",\n",
    "    R\"$m$ (MeV)\",\n",
    "    R\"$\\Gamma_0$ (MeV)\",\n",
    "    R\"$l_R$\",\n",
    "    R\"$l_{\\Lambda_c}^\\mathrm{min}$\",\n",
    "    \"lineshape\",\n",
    "]\n",
    "src = create_markdown_table_row(*column_names)\n",
    "src += create_markdown_table_row(*[\"---\" for _ in column_names])\n",
    "for decay in decays:\n",
    "    child1, child2 = map(as_latex, decay.decay_products)\n",
    "    src += create_markdown_table_row(\n",
    "        Rf\"${decay.resonance.latex} \\to\" Rf\" {child1} {child2}$\",\n",
    "        Rf\"${as_latex(decay.resonance, only_jp=True)}$\",\n",
    "        int(1e3 * decay.resonance.mass),\n",
    "        int(1e3 * decay.resonance.width),\n",
    "        decay.outgoing_ls.L,\n",
    "        decay.incoming_ls.L,\n",
    "        decay.resonance.lineshape,\n",
    "    )\n",
    "Markdown(src)"
   ]
  },
  {
   "cell_type": "markdown",
   "metadata": {},
   "source": [
    "### Aligned amplitude"
   ]
  },
  {
   "cell_type": "code",
   "execution_count": null,
   "metadata": {
    "jupyter": {
     "source_hidden": true
    },
    "tags": [
     "full-width",
     "hide-input"
    ]
   },
   "outputs": [],
   "source": [
    "A_K = sp.IndexedBase(R\"A^K\")\n",
    "A_Λ = sp.IndexedBase(R\"A^{\\Lambda}\")\n",
    "A_Δ = sp.IndexedBase(R\"A^{\\Delta}\")\n",
    "\n",
    "half = sp.S.Half\n",
    "\n",
    "ζ_0_11 = sp.Symbol(R\"\\zeta^0_{1(1)}\", real=True)\n",
    "ζ_0_21 = sp.Symbol(R\"\\zeta^0_{2(1)}\", real=True)\n",
    "ζ_0_31 = sp.Symbol(R\"\\zeta^0_{3(1)}\", real=True)\n",
    "ζ_1_11 = sp.Symbol(R\"\\zeta^1_{1(1)}\", real=True)\n",
    "ζ_1_21 = sp.Symbol(R\"\\zeta^1_{2(1)}\", real=True)\n",
    "ζ_1_31 = sp.Symbol(R\"\\zeta^1_{3(1)}\", real=True)\n",
    "\n",
    "\n",
    "def formulate_aligned_amplitude(λ_Λc, λ_p):\n",
    "    _ν = sp.Symbol(R\"\\nu^{\\prime}\", rational=True)\n",
    "    _λ = sp.Symbol(R\"\\lambda^{\\prime}\", rational=True)\n",
    "    return PoolSum(\n",
    "        A_K[_ν, _λ] * Wigner.d(half, λ_Λc, _ν, ζ_0_11) * Wigner.d(half, _λ, λ_p, ζ_1_11)\n",
    "        + A_Λ[_ν, _λ]\n",
    "        * Wigner.d(half, λ_Λc, _ν, ζ_0_21)\n",
    "        * Wigner.d(half, _λ, λ_p, ζ_1_21)\n",
    "        + A_Δ[_ν, _λ]\n",
    "        * Wigner.d(half, λ_Λc, _ν, ζ_0_31)\n",
    "        * Wigner.d(half, _λ, λ_p, ζ_1_31),\n",
    "        (_λ, [-half, +half]),\n",
    "        (_ν, [-half, +half]),\n",
    "    )\n",
    "\n",
    "\n",
    "ν = sp.Symbol(\"nu\")\n",
    "λ = sp.Symbol(\"lambda\")\n",
    "formulate_aligned_amplitude(λ_Λc=ν, λ_p=λ)"
   ]
  },
  {
   "cell_type": "markdown",
   "metadata": {},
   "source": [
    "### Sub-system amplitudes"
   ]
  },
  {
   "cell_type": "markdown",
   "metadata": {},
   "source": [
    ":::{warning}\n",
    "\n",
    "Couplings are remapped from the LHCb paper to Dalitz-Plot Decomposition with [these relations](https://user-images.githubusercontent.com/22725744/165932213-34013235-8464-4018-bd21-3ebde1e86faf.png).\n",
    "\n",
    ":::"
   ]
  },
  {
   "cell_type": "code",
   "execution_count": null,
   "metadata": {
    "jupyter": {
     "source_hidden": true
    },
    "tags": [
     "scroll-input",
     "hide-input",
     "full-width"
    ]
   },
   "outputs": [],
   "source": [
    "H_prod = sp.IndexedBase(R\"\\mathcal{H}^\\mathrm{production}\")\n",
    "H_dec = sp.IndexedBase(R\"\\mathcal{H}^\\mathrm{decay}\")\n",
    "\n",
    "θ23 = sp.Symbol(\"theta23\", real=True)\n",
    "θ31 = sp.Symbol(\"theta31\", real=True)\n",
    "θ12 = sp.Symbol(\"theta12\", real=True)\n",
    "\n",
    "σ1, σ2, σ3 = sp.symbols(\"sigma1:4\", nonnegative=True)\n",
    "m1, m2, m3 = sp.symbols(R\"m_p m_pi m_K\", nonnegative=True)\n",
    "\n",
    "\n",
    "def formulate_subsystem_amplitude(subsystem: int, λ_Λc, λ_p):\n",
    "    if subsystem == 1:\n",
    "        return formulate_K_amplitude(λ_Λc, λ_p, filter_isobars(decays, \"K\"))\n",
    "    if subsystem == 2:\n",
    "        return formulate_Λ_amplitude(λ_Λc, λ_p, filter_isobars(decays, \"L\"))\n",
    "    if subsystem == 3:\n",
    "        return formulate_Δ_amplitude(λ_Λc, λ_p, filter_isobars(decays, \"D\"))\n",
    "    raise NotImplementedError(f\"No chain implemented for sub-system {subsystem}\")\n",
    "\n",
    "\n",
    "def formulate_K_amplitude(λ_Λc, λ_p, decays: list[ThreeBodyDecay]):\n",
    "    τ = sp.Symbol(\"tau\", rational=True)\n",
    "    return sp.Add(\n",
    "        *[\n",
    "            PoolSum(\n",
    "                sp.KroneckerDelta(λ_Λc, τ - λ_p)\n",
    "                * H_prod[stringify(decay.resonance), τ, -λ_p]\n",
    "                * formulate_dynamics(decay, σ1, m2, m3)\n",
    "                * (-1) ** (half - λ_p)\n",
    "                * Wigner.d(sp.Rational(decay.resonance.spin), τ, 0, θ23)\n",
    "                * H_dec[stringify(decay.resonance), 0, 0],\n",
    "                (τ, create_spin_range(decay.resonance.spin)),\n",
    "            )\n",
    "            for decay in decays\n",
    "        ]\n",
    "    )\n",
    "\n",
    "\n",
    "def formulate_Λ_amplitude(λ_Λc, λ_p, decays: list[ThreeBodyDecay]):\n",
    "    τ = sp.Symbol(\"tau\", rational=True)\n",
    "    return sp.Add(\n",
    "        *[\n",
    "            PoolSum(\n",
    "                sp.KroneckerDelta(λ_Λc, τ)\n",
    "                * H_prod[stringify(decay.resonance), -τ, 0]\n",
    "                * formulate_dynamics(decay, σ2, m1, m3)\n",
    "                * Wigner.d(sp.Rational(decay.resonance.spin), τ, -λ_p, θ31)\n",
    "                * H_dec[stringify(decay.resonance), 0, λ_p]\n",
    "                * (-1) ** (half - λ_p)\n",
    "                / (-decay.resonance.parity),\n",
    "                (τ, create_spin_range(decay.resonance.spin)),\n",
    "            )\n",
    "            for decay in decays\n",
    "        ]\n",
    "    )\n",
    "\n",
    "\n",
    "def formulate_Δ_amplitude(λ_Λc, λ_p, decays: list[ThreeBodyDecay]):\n",
    "    τ = sp.Symbol(\"tau\", rational=True)\n",
    "    return sp.Add(\n",
    "        *[\n",
    "            PoolSum(\n",
    "                sp.KroneckerDelta(λ_Λc, τ)\n",
    "                * H_prod[stringify(decay.resonance), -τ, 0]\n",
    "                * formulate_dynamics(decay, σ3, m1, m2)\n",
    "                * Wigner.d(sp.Rational(decay.resonance.spin), τ, λ_p, θ12)\n",
    "                * H_dec[stringify(decay.resonance), λ_p, 0]\n",
    "                / (-decay.resonance.parity * (-1) ** (decay.resonance.spin - half)),\n",
    "                (τ, create_spin_range(decay.resonance.spin)),\n",
    "            )\n",
    "            for decay in decays\n",
    "        ]\n",
    "    )\n",
    "\n",
    "\n",
    "def formulate_dynamics(decay: ThreeBodyDecay, s, m1, m2):\n",
    "    lineshape = decay.resonance.lineshape\n",
    "    if lineshape == \"BreitWignerMinL\":\n",
    "        return formulate_breit_wigner(decay, s, m1, m2)\n",
    "    if lineshape == \"BuggBreitWignerMinL\":\n",
    "        return formulate_bugg_breit_wigner(decay, s, m1, m2)\n",
    "    if lineshape == \"Flatte1405\":\n",
    "        return formulate_flatté_1405(decay, s, m1, m2)\n",
    "    raise NotImplementedError(f'No dynamics implemented for lineshape \"{lineshape}\"')\n",
    "\n",
    "\n",
    "def formulate_breit_wigner(decay: ThreeBodyDecay, s, m1, m2):\n",
    "    l_dec = sp.Rational(decay.incoming_ls.L)\n",
    "    l_prod = sp.Rational(decay.outgoing_ls.L)\n",
    "    mass = sp.Symbol(f\"m_{{{decay.resonance.latex}}}\")\n",
    "    width = sp.Symbol(Rf\"\\Gamma_{{{decay.resonance.latex}}}\")\n",
    "    R_dec = sp.Symbol(R\"R_\\mathrm{res}\")\n",
    "    R_prod = sp.Symbol(R\"R_{\\Lambda_c}\")\n",
    "    safe_update_parameters(mass, decay.resonance.mass)\n",
    "    safe_update_parameters(width, decay.resonance.width)\n",
    "    # https://github.com/redeboer/polarization-sensitivity/pull/11#issuecomment-1128784376\n",
    "    safe_update_parameters(R_dec, 1.5)\n",
    "    safe_update_parameters(R_prod, 5)\n",
    "    return RelativisticBreitWigner(s, mass, width, m1, m2, l_dec, l_prod, R_dec, R_prod)\n",
    "\n",
    "\n",
    "def formulate_bugg_breit_wigner(decay: ThreeBodyDecay, s, m1, m2):\n",
    "    gamma = sp.Symbol(Rf\"\\gamma_{{{decay.resonance.latex}}}\")\n",
    "    mass = sp.Symbol(f\"m_{{{decay.resonance.latex}}}\")\n",
    "    width = sp.Symbol(Rf\"\\Gamma_{{{decay.resonance.latex}}}\")\n",
    "    safe_update_parameters(mass, decay.resonance.mass)\n",
    "    safe_update_parameters(width, decay.resonance.width)\n",
    "    safe_update_parameters(gamma, 1)\n",
    "    return BuggBreitWigner(s, mass, width, m1, m2, gamma)\n",
    "\n",
    "\n",
    "def formulate_flatté_1405(decay: ThreeBodyDecay, s, m1, m2):\n",
    "    mass = sp.Symbol(f\"m_{{{decay.resonance.latex}}}\")\n",
    "    width = sp.Symbol(Rf\"\\Gamma_{{{decay.resonance.latex}}}\")\n",
    "    mπ = sp.Symbol(f\"m_{{{π.latex}}}\")\n",
    "    mΣ = sp.Symbol(f\"m_{{{Σ.latex}}}\")\n",
    "    safe_update_parameters(mass, decay.resonance.mass)\n",
    "    safe_update_parameters(width, decay.resonance.width)\n",
    "    safe_update_parameters(mπ, π.width)\n",
    "    safe_update_parameters(mΣ, Σ.width)\n",
    "    return FlattéSWave(s, mass, width, (m1, m2), (mπ, mΣ))\n",
    "\n",
    "\n",
    "def safe_update_parameters(parameter: sp.Symbol, value) -> None:\n",
    "    parameter_defaults[parameter] = parameter_defaults.get(parameter, value)\n",
    "\n",
    "\n",
    "def stringify(obj) -> Str:\n",
    "    if isinstance(obj, Particle):\n",
    "        return Str(obj.latex)\n",
    "    return Str(f\"{obj}\")\n",
    "\n",
    "\n",
    "def filter_isobars(\n",
    "    decays: list[ThreeBodyDecay], resonance_pattern: str\n",
    ") -> list[ThreeBodyDecay]:\n",
    "    return [dec for dec in decays if dec.resonance.name.startswith(resonance_pattern)]"
   ]
  },
  {
   "cell_type": "markdown",
   "metadata": {},
   "source": [
    "### Angle definitions"
   ]
  },
  {
   "cell_type": "code",
   "execution_count": null,
   "metadata": {
    "jupyter": {
     "source_hidden": true
    },
    "tags": [
     "scroll-input",
     "hide-input"
    ]
   },
   "outputs": [],
   "source": [
    "m0 = sp.Symbol(R\"m_{\\Lambda_c}\", nonnegative=True)\n",
    "angles = {\n",
    "    θ12: sp.acos(\n",
    "        (\n",
    "            2 * σ3 * (σ2 - m3**2 - m1**2)\n",
    "            - (σ3 + m1**2 - m2**2) * (m0**2 - σ3 - m3**2)\n",
    "        )\n",
    "        / (\n",
    "            sp.sqrt(Källén(m0**2, m3**2, σ3))\n",
    "            * sp.sqrt(Källén(σ3, m1**2, m2**2))\n",
    "        )\n",
    "    ),\n",
    "    θ23: sp.acos(\n",
    "        (\n",
    "            2 * σ1 * (σ3 - m1**2 - m2**2)\n",
    "            - (σ1 + m2**2 - m3**2) * (m0**2 - σ1 - m1**2)\n",
    "        )\n",
    "        / (\n",
    "            sp.sqrt(Källén(m0**2, m1**2, σ1))\n",
    "            * sp.sqrt(Källén(σ1, m2**2, m3**2))\n",
    "        )\n",
    "    ),\n",
    "    θ31: sp.acos(\n",
    "        (\n",
    "            2 * σ2 * (σ1 - m2**2 - m3**2)\n",
    "            - (σ2 + m3**2 - m1**2) * (m0**2 - σ2 - m2**2)\n",
    "        )\n",
    "        / (\n",
    "            sp.sqrt(Källén(m0**2, m2**2, σ2))\n",
    "            * sp.sqrt(Källén(σ2, m3**2, m1**2))\n",
    "        )\n",
    "    ),\n",
    "    ζ_0_11: sp.S.Zero,  # = \\hat\\theta^0_{1(1)}\n",
    "    ζ_0_21: -sp.acos(  # = -\\hat\\theta^{1(2)}\n",
    "        (\n",
    "            (m0**2 + m1**2 - σ1) * (m0**2 + m2**2 - σ2)\n",
    "            - 2 * m0**2 * (σ3 - m1**2 - m2**2)\n",
    "        )\n",
    "        / (\n",
    "            sp.sqrt(Källén(m0**2, m2**2, σ2))\n",
    "            * sp.sqrt(Källén(m0**2, σ1, m1**2))\n",
    "        )\n",
    "    ),\n",
    "    ζ_0_31: sp.acos(  # = \\hat\\theta^{3(1)}\n",
    "        (\n",
    "            (m0**2 + m3**2 - σ3) * (m0**2 + m1**2 - σ1)\n",
    "            - 2 * m0**2 * (σ2 - m3**2 - m1**2)\n",
    "        )\n",
    "        / (\n",
    "            sp.sqrt(Källén(m0**2, m1**2, σ1))\n",
    "            * sp.sqrt(Källén(m0**2, σ3, m3**2))\n",
    "        )\n",
    "    ),\n",
    "    ζ_1_11: sp.S.Zero,\n",
    "    ζ_1_21: sp.acos(\n",
    "        (\n",
    "            2 * m1**2 * (σ3 - m0**2 - m3**2)\n",
    "            + (m0**2 + m1**2 - σ1) * (σ2 - m1**2 - m3**2)\n",
    "        )\n",
    "        / (\n",
    "            sp.sqrt(Källén(m0**2, m1**2, σ1))\n",
    "            * sp.sqrt(Källén(σ2, m1**2, m3**2))\n",
    "        )\n",
    "    ),\n",
    "    ζ_1_31: -sp.acos(  # = -\\zeta^1_{1(3)}\n",
    "        (\n",
    "            2 * m1**2 * (σ2 - m0**2 - m2**2)\n",
    "            + (m0**2 + m1**2 - σ1) * (σ3 - m1**2 - m2**2)\n",
    "        )\n",
    "        / (\n",
    "            sp.sqrt(Källén(m0**2, m1**2, σ1))\n",
    "            * sp.sqrt(Källén(σ3, m1**2, m2**2))\n",
    "        )\n",
    "    ),\n",
    "}\n",
    "\n",
    "display_latex(angles)"
   ]
  },
  {
   "cell_type": "code",
   "execution_count": null,
   "metadata": {
    "jupyter": {
     "source_hidden": true
    },
    "tags": [
     "hide-input"
    ]
   },
   "outputs": [],
   "source": [
    "masses = {\n",
    "    m0: Λc.mass,\n",
    "    m1: p.mass,\n",
    "    m2: π.mass,\n",
    "    m3: K.mass,\n",
    "}\n",
    "display_latex(masses)"
   ]
  },
  {
   "cell_type": "markdown",
   "metadata": {
    "tags": []
   },
   "source": [
    "### Helicity coupling values"
   ]
  },
  {
   "cell_type": "code",
   "execution_count": null,
   "metadata": {
    "jupyter": {
     "source_hidden": true
    },
    "tags": [
     "hide-cell",
     "scroll-input"
    ]
   },
   "outputs": [],
   "source": [
    "def to_symbol_definitions(\n",
    "    parameter_dict: dict[str, str]\n",
    ") -> dict[sp.Basic, complex | float]:\n",
    "    key_to_val: dict[str, complex | float] = {}\n",
    "    for key, str_value in parameter_dict.items():\n",
    "        if key.startswith(\"Ar\"):\n",
    "            identifier = key[2:]\n",
    "            str_imag = parameter_dict[f\"Ai{identifier}\"]\n",
    "            real = to_float(str_value)\n",
    "            imag = to_float(str_imag)\n",
    "            key_to_val[f\"A{identifier}\"] = complex(real, imag)\n",
    "        elif key.startswith(\"Ai\"):\n",
    "            continue\n",
    "        else:\n",
    "            key_to_val[key] = to_float(str_value)\n",
    "    return {to_symbol(key): value for key, value in key_to_val.items()}\n",
    "\n",
    "\n",
    "def to_float(str_value: str) -> float:\n",
    "    value, _ = map(float, str_value.split(\" ± \"))\n",
    "    return value\n",
    "\n",
    "\n",
    "def to_symbol(key: str) -> sp.Indexed | sp.Symbol:\n",
    "    if key.startswith(\"A\"):\n",
    "        res = stringify(key[1:-1])\n",
    "        i = int(key[-1])\n",
    "        if str(res).startswith(\"L\"):\n",
    "            if i == 1:\n",
    "                return H_prod[res, +half, 0]\n",
    "            if i == 2:\n",
    "                return H_prod[res, -half, 0]\n",
    "        if str(res).startswith(\"D\"):\n",
    "            if i == 1:\n",
    "                return H_prod[res, +half, 0]\n",
    "            if i == 2:\n",
    "                return H_prod[res, -half, 0]\n",
    "        if str(res).startswith(\"K\"):\n",
    "            if str(res) in {\"K(700)\", \"K(1430)\"}:\n",
    "                if i == 1:\n",
    "                    return H_prod[res, 0, -half]\n",
    "                if i == 2:\n",
    "                    return H_prod[res, 0, +half]\n",
    "            else:\n",
    "                if i == 1:\n",
    "                    return H_prod[res, 0, +half]\n",
    "                if i == 2:\n",
    "                    return H_prod[res, -1, +half]\n",
    "                if i == 3:\n",
    "                    return H_prod[res, +1, -half]\n",
    "                if i == 4:\n",
    "                    return H_prod[res, 0, -half]\n",
    "    if key.startswith(\"gamma\"):\n",
    "        res = stringify(key[5:])\n",
    "        return sp.Symbol(Rf\"\\gamma_{{{res}}}\")\n",
    "    if key.startswith(\"M\"):\n",
    "        res = stringify(key[1:])\n",
    "        return sp.Symbol(Rf\"m_{{{res}}}\")\n",
    "    if key.startswith(\"G\"):\n",
    "        res = stringify(key[1:])\n",
    "        return sp.Symbol(Rf\"\\Gamma_{{{res}}}\")\n",
    "    raise NotImplementedError(\n",
    "        f'Cannot convert key \"{key}\" in model parameter JSON file to SymPy symbol'\n",
    "    )\n",
    "\n",
    "\n",
    "with open(\"../data/modelparameters.json\") as stream:\n",
    "    data = json.load(stream)\n",
    "assert len(data[\"modelstudies\"]) == 18\n",
    "\n",
    "model_number = 0\n",
    "model_json = data[\"modelstudies\"][model_number][\"parameters\"]\n",
    "# https://github.com/redeboer/polarization-sensitivity/blob/34f5330/julia/notebooks/model0.jl#L301-L302\n",
    "model_json[\"ArK(892)1\"] = \"1.0 ± 0.0\"\n",
    "model_json[\"AiK(892)1\"] = \"0.0 ± 0.0\"\n",
    "\n",
    "parameter_defaults = to_symbol_definitions(model_json)"
   ]
  },
  {
   "cell_type": "code",
   "execution_count": null,
   "metadata": {
    "jupyter": {
     "source_hidden": true
    },
    "tags": [
     "hide-input"
    ]
   },
   "outputs": [],
   "source": [
    "prod_couplings = {\n",
    "    key: value\n",
    "    for key, value in parameter_defaults.items()\n",
    "    if isinstance(key, sp.Indexed) and key.base == H_prod\n",
    "}\n",
    "display_latex(prod_couplings)"
   ]
  },
  {
   "cell_type": "code",
   "execution_count": null,
   "metadata": {
    "jupyter": {
     "source_hidden": true
    },
    "tags": [
     "hide-input"
    ]
   },
   "outputs": [],
   "source": [
    "dec_couplings = {}\n",
    "for decay in decays:\n",
    "    i = stringify(decay.resonance)\n",
    "    if decay.resonance.name.startswith(\"K\"):\n",
    "        dec_couplings[H_dec[i, 0, 0]] = 1\n",
    "    if decay.resonance.name.startswith(\"L\"):\n",
    "        dec_couplings[H_dec[i, 0, half]] = 1\n",
    "        dec_couplings[H_dec[i, 0, -half]] = (\n",
    "            int(decay.resonance.parity)\n",
    "            * int(K.parity)\n",
    "            * int(p.parity)\n",
    "            * (-1) ** (decay.resonance.spin - K.spin - p.spin)\n",
    "        )\n",
    "    if decay.resonance.name.startswith(\"D\"):\n",
    "        dec_couplings[H_dec[i, half, 0]] = 1\n",
    "        dec_couplings[H_dec[i, -half, 0]] = (\n",
    "            int(decay.resonance.parity)\n",
    "            * int(p.parity)\n",
    "            * int(π.parity)\n",
    "            * (-1) ** (decay.resonance.spin - p.spin - π.spin)\n",
    "        )\n",
    "parameter_defaults.update(dec_couplings)\n",
    "display_latex(dec_couplings)"
   ]
  },
  {
   "cell_type": "markdown",
   "metadata": {},
   "source": [
    "### Intensity expression"
   ]
  },
  {
   "cell_type": "code",
   "execution_count": null,
   "metadata": {
    "jupyter": {
     "source_hidden": true
    },
    "tags": [
     "hide-input",
     "full-width"
    ]
   },
   "outputs": [],
   "source": [
    "intensity_expr = PoolSum(\n",
    "    sp.Abs(formulate_aligned_amplitude(ν, λ)) ** 2,\n",
    "    (λ, [-half, +half]),\n",
    "    (ν, [-half, +half]),\n",
    ")\n",
    "display(intensity_expr)"
   ]
  },
  {
   "cell_type": "code",
   "execution_count": null,
   "metadata": {
    "jupyter": {
     "source_hidden": true
    },
    "tags": [
     "hide-input",
     "full-width"
    ]
   },
   "outputs": [],
   "source": [
    "A = {1: A_K, 2: A_Λ, 3: A_Δ}\n",
    "amp_definitions = {}\n",
    "for subsystem in range(1, 4):\n",
    "    for Λc_heli, p_heli in product([-half, +half], [-half, +half]):\n",
    "        symbol = A[subsystem][Λc_heli, p_heli]\n",
    "        expr = formulate_subsystem_amplitude(subsystem, ν, λ)\n",
    "        amp_definitions[symbol] = expr.subs({ν: Λc_heli, λ: p_heli})\n",
    "display_latex(amp_definitions)"
   ]
  },
  {
   "cell_type": "markdown",
   "metadata": {
    "tags": []
   },
   "source": [
    "It takes about **one minute** to run the following cell, given the resonances as defined in {download}`data/isobars.json <../data/isobars.json>`."
   ]
  },
  {
   "cell_type": "code",
   "execution_count": null,
   "metadata": {
    "jupyter": {
     "source_hidden": true
    },
    "tags": [
     "hide-input"
    ]
   },
   "outputs": [],
   "source": [
    "def assert_all_symbols_defined(expr: sp.Expr) -> None:\n",
    "    remaining_symbols = expr.xreplace(parameter_defaults).free_symbols\n",
    "    assert remaining_symbols <= set(angles) | set(masses) | {σ1, σ2, σ3}\n",
    "\n",
    "\n",
    "subs_intensity_expr = intensity_expr.doit().xreplace(amp_definitions).doit()\n",
    "assert_all_symbols_defined(subs_intensity_expr)\n",
    "print(f\"Intensity expression has {sp.count_ops(subs_intensity_expr):,} operations\")"
   ]
  },
  {
   "cell_type": "markdown",
   "metadata": {},
   "source": [
    "### Non-coupling parameter definitions"
   ]
  },
  {
   "cell_type": "code",
   "execution_count": null,
   "metadata": {
    "jupyter": {
     "source_hidden": true
    },
    "tags": [
     "hide-input"
    ]
   },
   "outputs": [],
   "source": [
    "couplings = set(dec_couplings) | set(prod_couplings)\n",
    "display_latex({k: v for k, v in parameter_defaults.items() if k not in couplings})"
   ]
  },
  {
   "cell_type": "markdown",
   "metadata": {},
   "source": [
    "## Cross-check in LHCb paper"
   ]
  },
  {
   "cell_type": "code",
   "execution_count": null,
   "metadata": {
    "tags": []
   },
   "outputs": [],
   "source": [
    "with open(\"../data/crosscheck.json\") as stream:\n",
    "    crosscheck_data = json.load(stream)"
   ]
  },
  {
   "cell_type": "code",
   "execution_count": null,
   "metadata": {
    "jupyter": {
     "source_hidden": true
    },
    "tags": [
     "remove-cell"
    ]
   },
   "outputs": [],
   "source": [
    "from IPython.display import JSON\n",
    "\n",
    "JSON(crosscheck_data)"
   ]
  },
  {
   "cell_type": "markdown",
   "metadata": {},
   "source": [
    "### Lineshape comparison"
   ]
  },
  {
   "cell_type": "code",
   "execution_count": null,
   "metadata": {
    "jupyter": {
     "source_hidden": true
    },
    "tags": [
     "hide-cell"
    ]
   },
   "outputs": [],
   "source": [
    "variables = {var: value for var, value in crosscheck_data[\"mainvars\"].items()}\n",
    "substitutions = {\n",
    "    σ1: variables[\"m2kpi\"],\n",
    "    σ2: variables[\"m2pk\"],\n",
    "}\n",
    "substitutions.update(masses)\n",
    "substitutions.update(parameter_defaults)"
   ]
  },
  {
   "cell_type": "code",
   "execution_count": null,
   "metadata": {
    "jupyter": {
     "source_hidden": true
    },
    "tags": [
     "hide-input"
    ]
   },
   "outputs": [],
   "source": [
    "K892_decay = next(filter(lambda d: d.resonance.name == \"K(892)\", decays))\n",
    "L1405_decay = next(filter(lambda d: d.resonance.name == \"L(1405)\", decays))\n",
    "L1690_decay = next(filter(lambda d: d.resonance.name == \"L(1690)\", decays))\n",
    "Math(as_latex([K892_decay, L1405_decay, L1690_decay]))"
   ]
  },
  {
   "cell_type": "code",
   "execution_count": null,
   "metadata": {},
   "outputs": [],
   "source": [
    "crosscheck_data[\"lineshapes\"]"
   ]
  },
  {
   "cell_type": "code",
   "execution_count": null,
   "metadata": {},
   "outputs": [],
   "source": [
    "formulate_dynamics(K892_decay, σ1, m2, m3).doit().subs(substitutions).n()"
   ]
  },
  {
   "cell_type": "code",
   "execution_count": null,
   "metadata": {},
   "outputs": [],
   "source": [
    "formulate_dynamics(L1405_decay, σ2, m1, m3).doit().subs(substitutions).n()"
   ]
  },
  {
   "cell_type": "code",
   "execution_count": null,
   "metadata": {},
   "outputs": [],
   "source": [
    "formulate_dynamics(L1690_decay, σ2, m1, m3).doit().subs(substitutions).n()"
   ]
  },
  {
   "cell_type": "markdown",
   "metadata": {},
   "source": [
    "## Computations with TensorWaves\n"
   ]
  },
  {
   "cell_type": "markdown",
   "metadata": {},
   "source": [
    "### Phase space and helicity angles"
   ]
  },
  {
   "cell_type": "code",
   "execution_count": null,
   "metadata": {
    "jupyter": {
     "source_hidden": true
    },
    "tags": []
   },
   "outputs": [],
   "source": [
    "σ3_expr = m0**2 + m1**2 + m2**2 + m3**2 - σ1 - σ2\n",
    "compute_third_mandelstam = create_function(σ3_expr.subs(masses), backend=\"jax\")\n",
    "display_latex({σ3: σ3_expr})"
   ]
  },
  {
   "cell_type": "code",
   "execution_count": null,
   "metadata": {
    "jupyter": {
     "source_hidden": true
    },
    "tags": []
   },
   "outputs": [],
   "source": [
    "def kibble_function(σ1, σ2):\n",
    "    return Källén(\n",
    "        Källén(σ2, m2**2, m0**2),\n",
    "        Källén(σ3, m3**2, m0**2),\n",
    "        Källén(σ1, m1**2, m0**2),\n",
    "    )\n",
    "\n",
    "\n",
    "def is_within_phsp(σ1, σ2, non_phsp_value=sp.nan):\n",
    "    return sp.Piecewise(\n",
    "        (1, sp.LessThan(kibble_function(σ1, σ2), 0)),\n",
    "        (non_phsp_value, True),\n",
    "    )\n",
    "\n",
    "\n",
    "is_within_phsp(σ1, σ2)"
   ]
  },
  {
   "cell_type": "code",
   "execution_count": null,
   "metadata": {
    "tags": []
   },
   "outputs": [],
   "source": [
    "in_phsp_expr = is_within_phsp(σ1, σ2).subs(σ3, σ3_expr).subs(masses).doit()\n",
    "assert in_phsp_expr.free_symbols == {σ1, σ2}"
   ]
  },
  {
   "cell_type": "code",
   "execution_count": null,
   "metadata": {
    "tags": [
     "remove-output"
    ]
   },
   "outputs": [],
   "source": [
    "resolution = 200\n",
    "m0_val, m1_val, m2_val, m3_val = masses.values()\n",
    "σ1_min = (m2_val + m3_val) ** 2\n",
    "σ1_max = (m0_val - m1_val) ** 2\n",
    "σ2_min = (m1_val + m3_val) ** 2\n",
    "σ2_max = (m0_val - m2_val) ** 2\n",
    "x = np.linspace(σ1_min, σ1_max, num=resolution)\n",
    "y = np.linspace(σ2_min, σ2_max, num=resolution)\n",
    "X, Y = np.meshgrid(x, y)\n",
    "Z = compute_third_mandelstam.function(X, Y)\n",
    "σ_arrays = {\"sigma1\": X, \"sigma2\": Y, \"sigma3\": Z}\n",
    "\n",
    "in_phsp = create_function(in_phsp_expr, backend=\"numpy\")\n",
    "phsp = in_phsp(σ_arrays)"
   ]
  },
  {
   "cell_type": "code",
   "execution_count": null,
   "metadata": {
    "tags": []
   },
   "outputs": [],
   "source": [
    "kinematic_variables = {\n",
    "    symbol: expression.doit().subs(masses) for symbol, expression in angles.items()\n",
    "}\n",
    "kinematic_variables.update({s: s for s in [σ1, σ2, σ3]})  # include identity\n",
    "transformer = SympyDataTransformer.from_sympy(kinematic_variables, backend=\"jax\")\n",
    "kinematic_arrays = transformer(σ_arrays)"
   ]
  },
  {
   "cell_type": "markdown",
   "metadata": {},
   "source": [
    "### Definition of free parameters"
   ]
  },
  {
   "cell_type": "code",
   "execution_count": null,
   "metadata": {},
   "outputs": [],
   "source": [
    "free_parameters = {\n",
    "    symbol: value\n",
    "    for symbol, value in parameter_defaults.items()\n",
    "    if symbol.name.startswith(\"m_\")\n",
    "    or symbol.name.startswith(R\"\\Gamma_\")\n",
    "    or symbol in prod_couplings\n",
    "}\n",
    "fixed_parameters = {\n",
    "    symbol: value\n",
    "    for symbol, value in parameter_defaults.items()\n",
    "    if symbol not in free_parameters\n",
    "}\n",
    "fixed_parameters.update(masses)"
   ]
  },
  {
   "cell_type": "markdown",
   "metadata": {},
   "source": [
    "### Intensity distribution"
   ]
  },
  {
   "cell_type": "code",
   "execution_count": null,
   "metadata": {
    "tags": []
   },
   "outputs": [],
   "source": [
    "intensity_func = create_parametrized_function(\n",
    "    subs_intensity_expr.xreplace(fixed_parameters),\n",
    "    parameters=free_parameters,\n",
    "    backend=\"jax\",\n",
    ")"
   ]
  },
  {
   "cell_type": "code",
   "execution_count": null,
   "metadata": {
    "tags": [
     "remove-input"
    ]
   },
   "outputs": [],
   "source": [
    "%config InlineBackend.figure_formats = ['png']"
   ]
  },
  {
   "cell_type": "code",
   "execution_count": null,
   "metadata": {
    "jupyter": {
     "source_hidden": true
    },
    "tags": [
     "hide-input"
    ]
   },
   "outputs": [],
   "source": [
    "s1_label = R\"$\\sigma_1=m^2\\left(K\\pi\\right)$\"\n",
    "s2_label = R\"$\\sigma_2=m^2\\left(pK\\right)$\"\n",
    "s3_label = R\"$\\sigma_3=m^2\\left(p\\pi\\right)$\"\n",
    "\n",
    "fig, ax = plt.subplots(\n",
    "    figsize=(10, 8),\n",
    "    tight_layout=True,\n",
    ")\n",
    "ax.set_title(\"Intensity distribution\")\n",
    "ax.set_xlabel(s1_label)\n",
    "ax.set_ylabel(s2_label)\n",
    "\n",
    "mesh = ax.pcolormesh(\n",
    "    X,\n",
    "    Y,\n",
    "    phsp * intensity_func(kinematic_arrays),\n",
    "    norm=LogNorm(),\n",
    ")\n",
    "fig.colorbar(mesh, ax=ax)\n",
    "plt.show()"
   ]
  },
  {
   "cell_type": "code",
   "execution_count": null,
   "metadata": {
    "tags": [
     "remove-input"
    ]
   },
   "outputs": [],
   "source": [
    "%config InlineBackend.figure_formats = ['svg']"
   ]
  },
  {
   "cell_type": "code",
   "execution_count": null,
   "metadata": {
    "jupyter": {
     "source_hidden": true
    },
    "tags": [
     "hide-input",
     "full-width"
    ]
   },
   "outputs": [],
   "source": [
    "def compute_sub_func(\n",
    "    func: ParametrizedBackendFunction, input_data, non_zero_couplings: list[str]\n",
    ") -> None:\n",
    "    old_parameters = dict(func.parameters)\n",
    "    pattern = rf\"\\\\mathcal{{H}}.*\\[(?!{'|'.join(non_zero_couplings)})\"\n",
    "    set_parameter_to_zero(func, pattern)\n",
    "    array = func(input_data)\n",
    "    func.update_parameters(old_parameters)\n",
    "    return array\n",
    "\n",
    "\n",
    "def set_parameter_to_zero(\n",
    "    func: ParametrizedBackendFunction, search_term: Pattern\n",
    ") -> None:\n",
    "    new_parameters = dict(func.parameters)\n",
    "    no_parameters_selected = True\n",
    "    for par_name in func.parameters:\n",
    "        if re.match(search_term, par_name) is not None:\n",
    "            new_parameters[par_name] = 0\n",
    "            no_parameters_selected = False\n",
    "    if no_parameters_selected:\n",
    "        logging.warning(f\"All couplings were set to zero for search term {search_term}\")\n",
    "    func.update_parameters(new_parameters)\n",
    "\n",
    "\n",
    "def set_ylim_to_zero(ax):\n",
    "    _, y_max = ax.get_ylim()\n",
    "    ax.set_ylim(0, y_max)\n",
    "\n",
    "\n",
    "fig, (ax1, ax2) = plt.subplots(\n",
    "    ncols=2,\n",
    "    figsize=(12, 5),\n",
    "    tight_layout=True,\n",
    ")\n",
    "ax1.set_xlabel(s1_label)\n",
    "ax2.set_xlabel(s2_label)\n",
    "\n",
    "subsystem_identifiers = [\"K\", \"L\", \"D\"]\n",
    "subsystem_labels = [\"K^{**}\", R\"\\Lambda^{**}\", R\"\\Delta^{**}\"]\n",
    "intensity_array = intensity_func(kinematic_arrays)\n",
    "ax1.fill(x, np.nansum(intensity_array, axis=0), alpha=0.3)\n",
    "ax2.fill(y, np.nansum(intensity_array, axis=1), alpha=0.3)\n",
    "\n",
    "original_parameters = dict(intensity_func.parameters)\n",
    "for label, identifier in zip(subsystem_labels, subsystem_identifiers):\n",
    "    label = f\"${label}$\"\n",
    "    intensity_array = compute_sub_func(intensity_func, kinematic_arrays, [identifier])\n",
    "    ax1.plot(x, np.nansum(intensity_array, axis=0), label=label)\n",
    "    ax2.plot(y, np.nansum(intensity_array, axis=1), label=label)\n",
    "    intensity_func.update_parameters(original_parameters)\n",
    "set_ylim_to_zero(ax1)\n",
    "set_ylim_to_zero(ax2)\n",
    "ax2.legend()\n",
    "plt.show()"
   ]
  },
  {
   "cell_type": "markdown",
   "metadata": {},
   "source": [
    "### Fit fractions"
   ]
  },
  {
   "cell_type": "code",
   "execution_count": null,
   "metadata": {
    "tags": [
     "remove-output"
    ]
   },
   "outputs": [],
   "source": [
    "def sub_intensity(data, non_zero_couplings: list[str]):\n",
    "    intensity_array = compute_sub_func(intensity_func, data, non_zero_couplings)\n",
    "    return integrate_intensity(intensity_array)\n",
    "\n",
    "\n",
    "def integrate_intensity(intensities):\n",
    "    return np.nansum(intensities) / len(intensities)\n",
    "\n",
    "\n",
    "I_tot = integrate_intensity(intensity_func(kinematic_arrays))\n",
    "np.testing.assert_allclose(\n",
    "    I_tot,\n",
    "    sub_intensity(kinematic_arrays, [\"K\", \"L\", \"D\"]),\n",
    ")"
   ]
  },
  {
   "cell_type": "code",
   "execution_count": null,
   "metadata": {
    "tags": []
   },
   "outputs": [],
   "source": [
    "def interference_intensity(\n",
    "    data,\n",
    "    chain1: list[str],\n",
    "    chain2: list[str],\n",
    ") -> float:\n",
    "    I_interference = sub_intensity(data, chain1 + chain2)\n",
    "    I_chain1 = sub_intensity(data, chain1)\n",
    "    I_chain2 = sub_intensity(data, chain2)\n",
    "    return I_interference - I_chain1 - I_chain2\n",
    "\n",
    "\n",
    "I_K = sub_intensity(kinematic_arrays, non_zero_couplings=[\"K\"])\n",
    "I_Λ = sub_intensity(kinematic_arrays, non_zero_couplings=[\"L\"])\n",
    "I_Δ = sub_intensity(kinematic_arrays, non_zero_couplings=[\"D\"])\n",
    "I_ΛΔ = interference_intensity(kinematic_arrays, [\"L\"], [\"D\"])\n",
    "I_KΔ = interference_intensity(kinematic_arrays, [\"K\"], [\"D\"])\n",
    "I_KΛ = interference_intensity(kinematic_arrays, [\"K\"], [\"L\"])\n",
    "np.testing.assert_allclose(I_tot, I_K + I_Λ + I_Δ + I_ΛΔ + I_KΔ + I_KΛ)"
   ]
  },
  {
   "cell_type": "code",
   "execution_count": null,
   "metadata": {
    "jupyter": {
     "source_hidden": true
    },
    "tags": [
     "hide-cell",
     "remove-output"
    ]
   },
   "outputs": [],
   "source": [
    "def to_regex(text: str) -> str:\n",
    "    text = text.replace(\"(\", r\"\\(\")\n",
    "    text = text.replace(\")\", r\"\\)\")\n",
    "    return text\n",
    "\n",
    "\n",
    "resonances = sorted(\n",
    "    (d.resonance for d in decays),\n",
    "    key=lambda p: natural_sorting(p.name),\n",
    "    reverse=True,\n",
    ")\n",
    "n_resonances = len(resonances)\n",
    "decay_rates = np.zeros(shape=(n_resonances, n_resonances))\n",
    "combinations = list(product(enumerate(resonances), enumerate(resonances)))\n",
    "progress_bar = tqdm(\n",
    "    desc=\"Calculating rate matrix\",\n",
    "    total=(len(combinations) + n_resonances) // 2,\n",
    ")\n",
    "for (i, resonance1), (j, resonance2) in combinations:\n",
    "    if j < i:\n",
    "        continue\n",
    "    progress_bar.postfix = f\"{resonance1.name} × {resonance2.name}\"\n",
    "    res1 = to_regex(resonance1.name)\n",
    "    res2 = to_regex(resonance2.name)\n",
    "    if res1 == res2:\n",
    "        I_sub = sub_intensity(kinematic_arrays, non_zero_couplings=[res1])\n",
    "    else:\n",
    "        I_sub = interference_intensity(kinematic_arrays, [res1], [res2])\n",
    "    decay_rates[i, j] = I_sub / I_tot\n",
    "    if i != j:\n",
    "        decay_rates[j, i] = decay_rates[i, j]\n",
    "    progress_bar.update()\n",
    "progress_bar.close()"
   ]
  },
  {
   "cell_type": "code",
   "execution_count": null,
   "metadata": {
    "jupyter": {
     "source_hidden": true
    },
    "tags": [
     "hide-input"
    ]
   },
   "outputs": [],
   "source": [
    "vmax = np.max(decay_rates)\n",
    "fig, ax = plt.subplots(figsize=(9, 9))\n",
    "ax.set_title(\"Rate matrix for isobars (%%)\")\n",
    "ax.matshow(np.rot90(decay_rates).T, cmap=plt.cm.coolwarm, vmin=-vmax, vmax=+vmax)\n",
    "\n",
    "resonance_names = [p.name for p in resonances]\n",
    "ax.set_xticks(range(n_resonances))\n",
    "ax.set_xticklabels(reversed(resonance_names))\n",
    "ax.set_yticks(range(n_resonances))\n",
    "ax.set_yticklabels(resonance_names)\n",
    "for i in range(n_resonances):\n",
    "    for j in range(n_resonances):\n",
    "        if j < i:\n",
    "            continue\n",
    "        rate = decay_rates[i, j]\n",
    "        ax.text(n_resonances - j - 1, i, f\"{100 * rate:.2f}\", va=\"center\", ha=\"center\")\n",
    "fig.tight_layout()\n",
    "plt.show()"
   ]
  }
 ],
 "metadata": {
  "kernelspec": {
   "display_name": "Python 3 (ipykernel)",
   "language": "python",
   "name": "python3"
  },
  "language_info": {
   "codemirror_mode": {
    "name": "ipython",
    "version": 3
   },
   "file_extension": ".py",
   "mimetype": "text/x-python",
   "name": "python",
   "nbconvert_exporter": "python",
   "pygments_lexer": "ipython3",
   "version": "3.8.13"
  }
 },
 "nbformat": 4,
 "nbformat_minor": 4
}
