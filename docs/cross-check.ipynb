{
 "cells": [
  {
   "cell_type": "markdown",
   "metadata": {
    "tags": []
   },
   "source": [
    "# Cross-check with LHCb data"
   ]
  },
  {
   "cell_type": "markdown",
   "metadata": {},
   "source": [
    "```{autolink-concat}\n",
    "```"
   ]
  },
  {
   "cell_type": "code",
   "execution_count": null,
   "metadata": {
    "jupyter": {
     "source_hidden": true
    },
    "tags": [
     "hide-cell",
     "scroll-input"
    ]
   },
   "outputs": [],
   "source": [
    "from __future__ import annotations\n",
    "\n",
    "import json\n",
    "import logging\n",
    "import os\n",
    "\n",
    "import numpy as np\n",
    "import sympy as sp\n",
    "from IPython.display import Markdown, Math, display\n",
    "from tqdm.auto import tqdm\n",
    "\n",
    "from polarimetry.amplitude import simplify_latex_rendering\n",
    "from polarimetry.data import create_data_transformer\n",
    "from polarimetry.io import (\n",
    "    as_latex,\n",
    "    display_latex,\n",
    "    mute_jax_warnings,\n",
    "    perform_cached_doit,\n",
    "    perform_cached_lambdify,\n",
    ")\n",
    "from polarimetry.lhcb import (\n",
    "    get_conversion_factor,\n",
    "    load_model,\n",
    "    load_model_builder,\n",
    "    parameter_key_to_symbol,\n",
    ")\n",
    "from polarimetry.lhcb.particle import load_particles\n",
    "\n",
    "mute_jax_warnings()\n",
    "\n",
    "model_file = \"../data/model-definitions.yaml\"\n",
    "particles = load_particles(\"../data/particle-definitions.yaml\")\n",
    "model = load_model(model_file, particles, model_id=0)\n",
    "simplify_latex_rendering()\n",
    "\n",
    "NO_TQDM = \"EXECUTE_NB\" in os.environ\n",
    "if NO_TQDM:\n",
    "    logging.getLogger().setLevel(logging.ERROR)"
   ]
  },
  {
   "cell_type": "code",
   "execution_count": null,
   "metadata": {
    "tags": []
   },
   "outputs": [],
   "source": [
    "with open(\"../data/crosscheck.json\") as stream:\n",
    "    crosscheck_data = json.load(stream)"
   ]
  },
  {
   "cell_type": "markdown",
   "metadata": {},
   "source": [
    "## Lineshape comparison"
   ]
  },
  {
   "cell_type": "code",
   "execution_count": null,
   "metadata": {
    "tags": [
     "hide-cell"
    ]
   },
   "outputs": [],
   "source": [
    "σ1, σ2, σ3 = sp.symbols(\"sigma1:4\", nonnegative=True)\n",
    "lineshape_vars = {k: v for k, v in crosscheck_data[\"mainvars\"].items()}\n",
    "lineshape_subs = {\n",
    "    σ1: lineshape_vars[\"m2kpi\"],\n",
    "    σ2: lineshape_vars[\"m2pk\"],\n",
    "    **model.parameter_defaults,\n",
    "}"
   ]
  },
  {
   "cell_type": "code",
   "execution_count": null,
   "metadata": {
    "jupyter": {
     "source_hidden": true
    },
    "tags": [
     "hide-input"
    ]
   },
   "outputs": [],
   "source": [
    "K892_chain = model.decay.find_chain(\"K(892)\")\n",
    "L1405_chain = model.decay.find_chain(\"L(1405)\")\n",
    "L1690_chain = model.decay.find_chain(\"L(1690)\")\n",
    "Math(as_latex([K892_chain, L1405_chain, L1690_chain]))"
   ]
  },
  {
   "cell_type": "code",
   "execution_count": null,
   "metadata": {},
   "outputs": [],
   "source": [
    "crosscheck_data[\"lineshapes\"]"
   ]
  },
  {
   "cell_type": "code",
   "execution_count": null,
   "metadata": {
    "jupyter": {
     "source_hidden": true
    },
    "tags": [
     "hide-input"
    ]
   },
   "outputs": [],
   "source": [
    "amplitude_builder = load_model_builder(model_file, particles, model_id=0)\n",
    "build_dynamics = lambda c: amplitude_builder.dynamics_choices.get_builder(c)(c)[\n",
    "    0\n",
    "].doit()\n",
    "K892_bw_val = build_dynamics(K892_chain).xreplace(lineshape_subs).n()\n",
    "L1405_bw_val = build_dynamics(L1405_chain).xreplace(lineshape_subs).n()\n",
    "L1690_bw_val = build_dynamics(L1690_chain).xreplace(lineshape_subs).n()\n",
    "display_latex([K892_bw_val, L1405_bw_val, L1690_bw_val])"
   ]
  },
  {
   "cell_type": "code",
   "execution_count": null,
   "metadata": {
    "jupyter": {
     "source_hidden": true
    },
    "tags": [
     "remove-input"
    ]
   },
   "outputs": [],
   "source": [
    "lineshape_decimals = 13\n",
    "np.testing.assert_array_almost_equal(\n",
    "    np.array(list(map(complex, crosscheck_data[\"lineshapes\"].values()))),\n",
    "    np.array(list(map(complex, [K892_bw_val, L1405_bw_val, L1690_bw_val]))),\n",
    "    decimal=lineshape_decimals,\n",
    ")\n",
    "src = f\"\"\"\n",
    ":::{{tip}}\n",
    "These values are **equal up to {lineshape_decimals} decimals**.\n",
    ":::\n",
    "\"\"\"\n",
    "Markdown(src)"
   ]
  },
  {
   "cell_type": "markdown",
   "metadata": {},
   "source": [
    "## Amplitude comparison"
   ]
  },
  {
   "cell_type": "markdown",
   "metadata": {},
   "source": [
    "### SymPy expressions"
   ]
  },
  {
   "cell_type": "code",
   "execution_count": null,
   "metadata": {},
   "outputs": [],
   "source": [
    "half = sp.Rational(1, 2)\n",
    "amplitude_exprs = {\n",
    "    (λ_Λc, λ_p): amplitude_builder.formulate_aligned_amplitude(λ_Λc, λ_p, 0, 0)[0]\n",
    "    for λ_Λc in [-half, +half]\n",
    "    for λ_p in [-half, +half]\n",
    "}"
   ]
  },
  {
   "cell_type": "code",
   "execution_count": null,
   "metadata": {},
   "outputs": [],
   "source": [
    "unfolded_amplitude_exprs = {\n",
    "    k: perform_cached_doit(expr.doit().xreplace(model.amplitudes))\n",
    "    for k, expr in tqdm(amplitude_exprs.items(), disable=NO_TQDM)\n",
    "}"
   ]
  },
  {
   "cell_type": "markdown",
   "metadata": {},
   "source": [
    "### Numerical functions"
   ]
  },
  {
   "cell_type": "code",
   "execution_count": null,
   "metadata": {
    "jupyter": {
     "source_hidden": true
    },
    "tags": []
   },
   "outputs": [],
   "source": [
    "%%time\n",
    "production_couplings = {\n",
    "    symbol: value\n",
    "    for symbol, value in model.parameter_defaults.items()\n",
    "    if isinstance(symbol, sp.Indexed)\n",
    "    if \"production\" in str(symbol)\n",
    "}\n",
    "fixed_parameters = {\n",
    "    s: v\n",
    "    for s, v in model.parameter_defaults.items()\n",
    "    if s not in production_couplings\n",
    "}\n",
    "amplitude_funcs = {\n",
    "    k: perform_cached_lambdify(\n",
    "        expr.xreplace(fixed_parameters),\n",
    "        parameters=production_couplings,\n",
    "        backend=\"numpy\",\n",
    "    )\n",
    "    for k, expr in unfolded_amplitude_exprs.items()\n",
    "}"
   ]
  },
  {
   "cell_type": "markdown",
   "metadata": {},
   "source": [
    "### Input data"
   ]
  },
  {
   "cell_type": "code",
   "execution_count": null,
   "metadata": {
    "tags": [
     "hide-input"
    ]
   },
   "outputs": [],
   "source": [
    "amplitude_vars = {k: v for k, v in crosscheck_data[\"chainvars\"].items()}\n",
    "display(amplitude_vars)"
   ]
  },
  {
   "cell_type": "code",
   "execution_count": null,
   "metadata": {
    "tags": [
     "hide-cell"
    ]
   },
   "outputs": [],
   "source": [
    "transformer = create_data_transformer(model)\n",
    "input_data = {\n",
    "    str(σ1): amplitude_vars[\"m2kpi\"],\n",
    "    str(σ2): amplitude_vars[\"m2pk\"],\n",
    "    str(σ3): amplitude_vars[\"m2ppi\"],\n",
    "}\n",
    "input_data = {k: float(v) for k, v in transformer(input_data).items()}"
   ]
  },
  {
   "cell_type": "code",
   "execution_count": null,
   "metadata": {
    "jupyter": {
     "source_hidden": true
    },
    "tags": [
     "remove-input"
    ]
   },
   "outputs": [],
   "source": [
    "display_latex({sp.Symbol(k): v for k, v in input_data.items()})"
   ]
  },
  {
   "cell_type": "markdown",
   "metadata": {},
   "source": [
    "### Comparison table"
   ]
  },
  {
   "cell_type": "code",
   "execution_count": null,
   "metadata": {
    "jupyter": {
     "source_hidden": true
    },
    "tags": [
     "hide-input"
    ]
   },
   "outputs": [],
   "source": [
    "def plusminus_to_helicity(plusminus: str) -> sp.Rational:\n",
    "    if plusminus == \"+\":\n",
    "        return +half\n",
    "    if plusminus == \"-\":\n",
    "        return -half\n",
    "    raise NotImplementedError(plusminus)\n",
    "\n",
    "\n",
    "amplitude_decimals = 13\n",
    "real_amp_crosscheck = {\n",
    "    k: v for k, v in crosscheck_data[\"chains\"].items() if k.startswith(\"Ar\")\n",
    "}\n",
    "couplings_to_zero = {str(symbol): 0 for symbol in production_couplings}\n",
    "\n",
    "src = f\"\"\"\n",
    ":::{{tip}}\n",
    "Computed amplitudes are equal to LHCb amplitudes up to **{amplitude_decimals} decimals**.\n",
    ":::\n",
    "\n",
    "|     | Computed | Expected | Difference |\n",
    "| ---:| --------:| --------:| ----------:|\n",
    "\"\"\"\n",
    "for i, (amp_identifier, entry) in enumerate(real_amp_crosscheck.items()):\n",
    "    resonance_name = amp_identifier[2:-1]\n",
    "    subsystem_identifier = resonance_name[0]\n",
    "    coupling = parameter_key_to_symbol(amp_identifier.replace(\"Ar\", \"A\"))\n",
    "    src += f\"| **`{amp_identifier}`** | ${sp.latex(coupling)}$ |\\n\"\n",
    "    for matrix_key, expected in entry.items():\n",
    "        matrix_suffix = matrix_key[1:]  # ++, +-, -+, --\n",
    "        λ_Λc, λ_p = map(plusminus_to_helicity, matrix_suffix)\n",
    "        func = amplitude_funcs[(λ_Λc, -λ_p)]\n",
    "        func.update_parameters(couplings_to_zero)\n",
    "        func.update_parameters({str(coupling): 1})\n",
    "        computed = complex(func(input_data))\n",
    "        resonance = model.decay.find_chain(amp_identifier[2:-1]).resonance\n",
    "        computed *= get_conversion_factor(resonance, -λ_p)\n",
    "        expected = complex(expected)\n",
    "        if abs(expected) != 0.0:\n",
    "            diff = abs(computed - expected) / abs(expected)\n",
    "            if diff < 1e-6:\n",
    "                diff = f\"{diff:.2e}\"\n",
    "            else:\n",
    "                diff = f'<span style=\"color:red;\">{diff:.2e}</span>'\n",
    "        else:\n",
    "            diff = \"\"\n",
    "        np.testing.assert_array_almost_equal(\n",
    "            computed,\n",
    "            expected,\n",
    "            decimal=amplitude_decimals,\n",
    "            err_msg=f\"  {amp_identifier} {matrix_key}\",\n",
    "        )\n",
    "        src += f\"| `{matrix_key}` | {computed:>.6f} | {expected:>.6f} | {diff} |\\n\"\n",
    "Markdown(src)"
   ]
  }
 ],
 "metadata": {
  "kernelspec": {
   "display_name": "Python 3 (ipykernel)",
   "language": "python",
   "name": "python3"
  },
  "language_info": {
   "codemirror_mode": {
    "name": "ipython",
    "version": 3
   },
   "file_extension": ".py",
   "mimetype": "text/x-python",
   "name": "python",
   "nbconvert_exporter": "python",
   "pygments_lexer": "ipython3",
   "version": "3.8.15"
  }
 },
 "nbformat": 4,
 "nbformat_minor": 4
}
