{
 "cells": [
  {
   "cell_type": "markdown",
   "metadata": {
    "tags": []
   },
   "source": [
    "# Cross-check with LHCb data"
   ]
  },
  {
   "cell_type": "code",
   "execution_count": null,
   "metadata": {
    "tags": [
     "remove-cell"
    ]
   },
   "outputs": [],
   "source": [
    "%%capture\n",
    "%run ./amplitude-model.ipynb"
   ]
  },
  {
   "cell_type": "markdown",
   "metadata": {},
   "source": [
    "```{autolink-concat}\n",
    "```"
   ]
  },
  {
   "cell_type": "code",
   "execution_count": null,
   "metadata": {
    "jupyter": {
     "source_hidden": true
    },
    "tags": [
     "hide-cell",
     "scroll-input"
    ]
   },
   "outputs": [],
   "source": [
    "# pyright: reportUndefinedVariable=false\n",
    "from __future__ import annotations\n",
    "\n",
    "import json\n",
    "\n",
    "import numpy as np\n",
    "import sympy as sp\n",
    "from IPython.display import Markdown, Math\n",
    "from tqdm.notebook import tqdm\n",
    "\n",
    "from polarization.io import as_latex, display_latex"
   ]
  },
  {
   "cell_type": "code",
   "execution_count": null,
   "metadata": {
    "tags": []
   },
   "outputs": [],
   "source": [
    "with open(\"../data/crosscheck.json\") as stream:\n",
    "    crosscheck_data = json.load(stream)"
   ]
  },
  {
   "cell_type": "markdown",
   "metadata": {},
   "source": [
    "## Lineshape comparison"
   ]
  },
  {
   "cell_type": "code",
   "execution_count": null,
   "metadata": {
    "jupyter": {
     "source_hidden": true
    },
    "tags": [
     "hide-cell"
    ]
   },
   "outputs": [],
   "source": [
    "lineshape_vars = {k: v for k, v in crosscheck_data[\"mainvars\"].items()}\n",
    "lineshape_subs = {\n",
    "    σ1: lineshape_vars[\"m2kpi\"],\n",
    "    σ2: lineshape_vars[\"m2pk\"],\n",
    "    **parameter_defaults,\n",
    "}"
   ]
  },
  {
   "cell_type": "code",
   "execution_count": null,
   "metadata": {
    "jupyter": {
     "source_hidden": true
    },
    "tags": [
     "hide-input"
    ]
   },
   "outputs": [],
   "source": [
    "K892_decay = next(filter(lambda d: d.resonance.name == \"K(892)\", decays))\n",
    "L1405_decay = next(filter(lambda d: d.resonance.name == \"L(1405)\", decays))\n",
    "L1690_decay = next(filter(lambda d: d.resonance.name == \"L(1690)\", decays))\n",
    "Math(as_latex([K892_decay, L1405_decay, L1690_decay]))"
   ]
  },
  {
   "cell_type": "code",
   "execution_count": null,
   "metadata": {},
   "outputs": [],
   "source": [
    "crosscheck_data[\"lineshapes\"]"
   ]
  },
  {
   "cell_type": "code",
   "execution_count": null,
   "metadata": {
    "jupyter": {
     "source_hidden": true
    },
    "tags": [
     "hide-input"
    ]
   },
   "outputs": [],
   "source": [
    "K892_bw_val = formulate_dynamics(K892_decay).doit().xreplace(lineshape_subs).n()\n",
    "L1405_bw_val = formulate_dynamics(L1405_decay).doit().xreplace(lineshape_subs).n()\n",
    "L1690_bw_val = formulate_dynamics(L1690_decay).doit().xreplace(lineshape_subs).n()\n",
    "display_latex([K892_bw_val, L1405_bw_val, L1690_bw_val])"
   ]
  },
  {
   "cell_type": "code",
   "execution_count": null,
   "metadata": {
    "jupyter": {
     "source_hidden": true
    },
    "tags": [
     "remove-cell"
    ]
   },
   "outputs": [],
   "source": [
    "np.testing.assert_array_almost_equal(\n",
    "    np.array(list(map(complex, crosscheck_data[\"lineshapes\"].values()))),\n",
    "    np.array(list(map(complex, [K892_bw_val, L1405_bw_val, L1690_bw_val]))),\n",
    "    decimal=13,\n",
    ")"
   ]
  },
  {
   "cell_type": "markdown",
   "metadata": {},
   "source": [
    "## Amplitude comparison"
   ]
  },
  {
   "cell_type": "code",
   "execution_count": null,
   "metadata": {
    "jupyter": {
     "source_hidden": true
    },
    "tags": [
     "hide-cell"
    ]
   },
   "outputs": [],
   "source": [
    "amplitude_vars = {k: v for k, v in crosscheck_data[\"chainvars\"].items()}\n",
    "amplitude_subs = {\n",
    "    σ1: amplitude_vars[\"m2kpi\"],\n",
    "    σ2: amplitude_vars[\"m2pk\"],\n",
    "    σ3: amplitude_vars[\"m2ppi\"],\n",
    "    **masses,\n",
    "    **parameter_defaults,\n",
    "}\n",
    "amplitude_subs.update({s: 0 for s in prod_couplings})"
   ]
  },
  {
   "cell_type": "code",
   "execution_count": null,
   "metadata": {
    "jupyter": {
     "source_hidden": true
    },
    "tags": [
     "hide-input",
     "scroll-output"
    ]
   },
   "outputs": [],
   "source": [
    "def plusminus_to_helicity(plusminus: str) -> sp.Rational:\n",
    "    if plusminus == \"+\":\n",
    "        return +half\n",
    "    if plusminus == \"-\":\n",
    "        return -half\n",
    "    raise NotImplementedError(plusminus)\n",
    "\n",
    "\n",
    "def render_difference(computed: complex, expected: complex) -> str:\n",
    "    if abs(expected) == 0.0:\n",
    "        if abs(computed) == 0.0:\n",
    "            return \"✅\"\n",
    "        return \"❌\"\n",
    "    diff = 100 * (abs(computed) / abs(expected)) - 100\n",
    "    if abs(diff) >= 5:\n",
    "        return \"❌\"\n",
    "    return f\"{diff:.1f}%\"\n",
    "\n",
    "\n",
    "id_to_amp_builder = {\n",
    "    \"D\": formulate_Δ_amplitude,\n",
    "    \"K\": formulate_K_amplitude,\n",
    "    \"L\": formulate_Λ_amplitude,\n",
    "}\n",
    "real_amp_crosscheck = {\n",
    "    k: v for k, v in crosscheck_data[\"chains\"].items() if k.startswith(\"Ar\")\n",
    "}\n",
    "progress_bar = tqdm(\n",
    "    desc=\"Computing amplitude for cross-check\",\n",
    "    total=4 * len(real_amp_crosscheck),\n",
    ")\n",
    "src = \"\"\"\n",
    "|     | Computed | Expected |     |\n",
    "| ---:| --------:| --------:|:---:|\n",
    "\"\"\"\n",
    "for amp_identifier, entry in real_amp_crosscheck.items():\n",
    "    resonance_name = amp_identifier[2:-1]\n",
    "    decay = next(filter(lambda d: d.resonance.name == resonance_name, decays))\n",
    "    subsystem_identifier = resonance_name[0]\n",
    "    amp_builder = id_to_amp_builder[subsystem_identifier]\n",
    "    src += f\"| **`{amp_identifier}`** |\\n\"\n",
    "    for matrix_key, expected in entry.items():\n",
    "        progress_bar.postfix = f\"{amp_identifier}, {matrix_key}\"\n",
    "        matrix_suffix = matrix_key[1:]  # ++, +-, -+, --\n",
    "        λ_Λc, λ_p = map(plusminus_to_helicity, matrix_suffix)\n",
    "        amp_expr = amp_builder(λ_Λc, λ_p, [decay]).doit()\n",
    "        amp_expr = amp_expr.xreplace(angles).doit()\n",
    "        coupling_subs = {\n",
    "            s: 1\n",
    "            for s in amp_expr.free_symbols\n",
    "            if isinstance(s, sp.Indexed) and s.base == H_prod\n",
    "        }\n",
    "        if len(coupling_subs) > 1:\n",
    "            raise ValueError(\n",
    "                f\"Multiple production couplings for {amp_identifier}, {matrix_key}\"\n",
    "            )\n",
    "        amp_expr = amp_expr.xreplace(coupling_subs)\n",
    "        amp_expr = amp_expr.xreplace(amplitude_subs)\n",
    "        computed = complex(amp_expr.n())\n",
    "        expected = complex(expected)\n",
    "        diff = render_difference(computed, expected)\n",
    "        src += f\"| `{matrix_key}` | {computed:>16.4f} | {expected:>16.4f} | {diff} |\\n\"\n",
    "        progress_bar.update()\n",
    "progress_bar.postfix = \"\"\n",
    "progress_bar.close()\n",
    "Markdown(src)"
   ]
  }
 ],
 "metadata": {
  "kernelspec": {
   "display_name": "Python 3 (ipykernel)",
   "language": "python",
   "name": "python3"
  },
  "language_info": {
   "codemirror_mode": {
    "name": "ipython",
    "version": 3
   },
   "file_extension": ".py",
   "mimetype": "text/x-python",
   "name": "python",
   "nbconvert_exporter": "python",
   "pygments_lexer": "ipython3",
   "version": "3.8.13"
  }
 },
 "nbformat": 4,
 "nbformat_minor": 4
}
