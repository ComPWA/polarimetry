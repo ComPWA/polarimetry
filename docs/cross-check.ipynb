{
 "cells": [
  {
   "cell_type": "markdown",
   "metadata": {
    "tags": []
   },
   "source": [
    "# Cross-check with LHCb data"
   ]
  },
  {
   "cell_type": "code",
   "execution_count": null,
   "metadata": {
    "tags": [
     "remove-cell"
    ]
   },
   "outputs": [],
   "source": [
    "%%capture\n",
    "%run ./amplitude-model.ipynb"
   ]
  },
  {
   "cell_type": "markdown",
   "metadata": {},
   "source": [
    "```{autolink-concat}\n",
    "```"
   ]
  },
  {
   "cell_type": "code",
   "execution_count": null,
   "metadata": {
    "jupyter": {
     "source_hidden": true
    },
    "tags": [
     "hide-cell",
     "scroll-input"
    ]
   },
   "outputs": [],
   "source": [
    "# pyright: reportUndefinedVariable=false\n",
    "from __future__ import annotations\n",
    "\n",
    "import json\n",
    "\n",
    "import numpy as np\n",
    "import sympy as sp\n",
    "from IPython.display import Markdown, Math\n",
    "from tqdm.notebook import tqdm\n",
    "\n",
    "from polarization.io import as_latex, display_latex"
   ]
  },
  {
   "cell_type": "code",
   "execution_count": null,
   "metadata": {
    "tags": []
   },
   "outputs": [],
   "source": [
    "with open(\"../data/crosscheck.json\") as stream:\n",
    "    crosscheck_data = json.load(stream)"
   ]
  },
  {
   "cell_type": "markdown",
   "metadata": {},
   "source": [
    "## Lineshape comparison"
   ]
  },
  {
   "cell_type": "code",
   "execution_count": null,
   "metadata": {
    "jupyter": {
     "source_hidden": true
    },
    "tags": [
     "hide-cell"
    ]
   },
   "outputs": [],
   "source": [
    "lineshape_vars = {k: v for k, v in crosscheck_data[\"mainvars\"].items()}\n",
    "lineshape_subs = {\n",
    "    σ1: lineshape_vars[\"m2kpi\"],\n",
    "    σ2: lineshape_vars[\"m2pk\"],\n",
    "    **parameter_defaults,\n",
    "}"
   ]
  },
  {
   "cell_type": "code",
   "execution_count": null,
   "metadata": {
    "jupyter": {
     "source_hidden": true
    },
    "tags": [
     "hide-input"
    ]
   },
   "outputs": [],
   "source": [
    "K892_decay = next(filter(lambda d: d.resonance.name == \"K(892)\", decays))\n",
    "L1405_decay = next(filter(lambda d: d.resonance.name == \"L(1405)\", decays))\n",
    "L1690_decay = next(filter(lambda d: d.resonance.name == \"L(1690)\", decays))\n",
    "Math(as_latex([K892_decay, L1405_decay, L1690_decay]))"
   ]
  },
  {
   "cell_type": "code",
   "execution_count": null,
   "metadata": {},
   "outputs": [],
   "source": [
    "crosscheck_data[\"lineshapes\"]"
   ]
  },
  {
   "cell_type": "code",
   "execution_count": null,
   "metadata": {
    "jupyter": {
     "source_hidden": true
    },
    "tags": [
     "hide-input"
    ]
   },
   "outputs": [],
   "source": [
    "K892_bw_val = formulate_dynamics(K892_decay).doit().xreplace(lineshape_subs).n()\n",
    "L1405_bw_val = formulate_dynamics(L1405_decay).doit().xreplace(lineshape_subs).n()\n",
    "L1690_bw_val = formulate_dynamics(L1690_decay).doit().xreplace(lineshape_subs).n()\n",
    "display_latex([K892_bw_val, L1405_bw_val, L1690_bw_val])"
   ]
  },
  {
   "cell_type": "code",
   "execution_count": null,
   "metadata": {
    "jupyter": {
     "source_hidden": true
    },
    "tags": [
     "remove-cell"
    ]
   },
   "outputs": [],
   "source": [
    "np.testing.assert_array_almost_equal(\n",
    "    np.array(list(map(complex, crosscheck_data[\"lineshapes\"].values()))),\n",
    "    np.array(list(map(complex, [K892_bw_val, L1405_bw_val, L1690_bw_val]))),\n",
    "    decimal=13,\n",
    ")"
   ]
  },
  {
   "cell_type": "markdown",
   "metadata": {},
   "source": [
    "## Amplitude comparison"
   ]
  },
  {
   "cell_type": "code",
   "execution_count": null,
   "metadata": {},
   "outputs": [],
   "source": [
    "amplitude_exprs = {\n",
    "    (ν, λ): formulate_aligned_amplitude(ν, λ)\n",
    "    for λ in [-half, +half]\n",
    "    for ν in [-half, +half]\n",
    "}"
   ]
  },
  {
   "cell_type": "code",
   "execution_count": null,
   "metadata": {},
   "outputs": [],
   "source": [
    "unfolded_amplitude_exprs = {\n",
    "    k: expr.doit().xreplace(amp_definitions).xreplace(angles).doit()\n",
    "    for k, expr in tqdm(amplitude_exprs.items())\n",
    "}"
   ]
  },
  {
   "cell_type": "code",
   "execution_count": null,
   "metadata": {
    "tags": [
     "hide-cell"
    ]
   },
   "outputs": [],
   "source": [
    "amplitude_vars = {k: v for k, v in crosscheck_data[\"chainvars\"].items()}\n",
    "couplings_to_zero = {s: 0 for s in prod_couplings}\n",
    "parameter_subs = {\n",
    "    σ1: amplitude_vars[\"m2kpi\"],\n",
    "    σ2: amplitude_vars[\"m2pk\"],\n",
    "    σ3: amplitude_vars[\"m2ppi\"],\n",
    "    **masses,\n",
    "    **parameter_defaults,\n",
    "}"
   ]
  },
  {
   "cell_type": "code",
   "execution_count": null,
   "metadata": {
    "jupyter": {
     "source_hidden": true
    },
    "tags": [
     "hide-input",
     "scroll-output"
    ]
   },
   "outputs": [],
   "source": [
    "def plusminus_to_helicity(plusminus: str) -> sp.Rational:\n",
    "    if plusminus == \"+\":\n",
    "        return +half\n",
    "    if plusminus == \"-\":\n",
    "        return -half\n",
    "    raise NotImplementedError(plusminus)\n",
    "\n",
    "\n",
    "real_amp_crosscheck = {\n",
    "    k: v for k, v in crosscheck_data[\"chains\"].items() if k.startswith(\"Ar\")\n",
    "}\n",
    "progress_bar = tqdm(\n",
    "    desc=\"Computing amplitude for cross-check\",\n",
    "    total=4 * len(real_amp_crosscheck),\n",
    ")\n",
    "src = \"\"\"\n",
    "|     | Computed | Expected | Difference |\n",
    "| ---:| --------:| --------:| ----------:|\n",
    "\"\"\"\n",
    "for i, (amp_identifier, entry) in enumerate(real_amp_crosscheck.items()):\n",
    "    resonance_name = amp_identifier[2:-1]\n",
    "    decay = next(filter(lambda d: d.resonance.name == resonance_name, decays))\n",
    "    subsystem_identifier = resonance_name[0]\n",
    "    coupling = to_symbol(amp_identifier.replace(\"Ar\", \"A\"))\n",
    "    src += f\"| **`{amp_identifier}`** | ${sp.latex(coupling)}$ |\\n\"\n",
    "    for matrix_key, expected in entry.items():\n",
    "        progress_bar.postfix = f\"{amp_identifier}, {matrix_key}\"\n",
    "        matrix_suffix = matrix_key[1:]  # ++, +-, -+, --\n",
    "        λ_Λc, λ_p = map(plusminus_to_helicity, matrix_suffix)\n",
    "        amp_expr = unfolded_amplitude_exprs[(λ_Λc, -λ_p)].xreplace({coupling: 1})\n",
    "        amp_expr /= (-1) ** (half + λ_p)\n",
    "        amp_expr = amp_expr.xreplace(couplings_to_zero)\n",
    "        amp_expr = amp_expr.xreplace(parameter_subs)\n",
    "        computed = complex(amp_expr.n())\n",
    "        expected = complex(expected)\n",
    "        if abs(expected) != 0.0:\n",
    "            diff = abs(computed - expected) / abs(expected)\n",
    "            if diff < 1e-6:\n",
    "                diff = f\"{diff:.2e}\"\n",
    "            else:\n",
    "                diff = f'<span style=\"color:red;\">{diff:.2e}</span>'\n",
    "        else:\n",
    "            diff = \"\"\n",
    "        np.testing.assert_array_almost_equal(computed, expected, decimal=4)\n",
    "        src += f\"| `{matrix_key}` | {computed:>.6f} | {expected:>.6f} | {diff} |\\n\"\n",
    "        progress_bar.update()\n",
    "progress_bar.postfix = \"\"\n",
    "progress_bar.close()\n",
    "Markdown(src)"
   ]
  }
 ],
 "metadata": {
  "kernelspec": {
   "display_name": "Python 3 (ipykernel)",
   "language": "python",
   "name": "python3"
  },
  "language_info": {
   "codemirror_mode": {
    "name": "ipython",
    "version": 3
   },
   "file_extension": ".py",
   "mimetype": "text/x-python",
   "name": "python",
   "nbconvert_exporter": "python",
   "pygments_lexer": "ipython3",
   "version": "3.8.13"
  }
 },
 "nbformat": 4,
 "nbformat_minor": 4
}
