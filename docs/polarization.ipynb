{
 "cells": [
  {
   "cell_type": "markdown",
   "metadata": {},
   "source": [
    "# Polarization sensitivity"
   ]
  },
  {
   "cell_type": "markdown",
   "metadata": {},
   "source": [
    "```{autolink-concat}\n",
    "```"
   ]
  },
  {
   "cell_type": "code",
   "execution_count": null,
   "metadata": {
    "jupyter": {
     "source_hidden": true
    },
    "tags": [
     "hide-cell",
     "scroll-input"
    ]
   },
   "outputs": [],
   "source": [
    "from __future__ import annotations\n",
    "\n",
    "import json\n",
    "import math\n",
    "import os\n",
    "from functools import reduce\n",
    "\n",
    "import jax.numpy as jnp\n",
    "import matplotlib.pyplot as plt\n",
    "import numpy as np\n",
    "import pandas as pd\n",
    "import sympy as sp\n",
    "from IPython.display import Markdown, Math, display\n",
    "from matplotlib import cm\n",
    "from matplotlib.axes import Axes\n",
    "from matplotlib.collections import LineCollection\n",
    "from matplotlib.colors import LogNorm\n",
    "from tensorwaves.function.sympy import create_parametrized_function\n",
    "from tensorwaves.interface import DataSample\n",
    "from tqdm.auto import tqdm\n",
    "\n",
    "from polarization import formulate_polarization\n",
    "from polarization.amplitude import DalitzPlotDecompositionBuilder\n",
    "from polarization.data import (\n",
    "    create_data_transformer,\n",
    "    generate_meshgrid_sample,\n",
    "    generate_phasespace_sample,\n",
    ")\n",
    "from polarization.function import compute_sub_function\n",
    "from polarization.io import mute_jax_warnings, perform_cached_doit\n",
    "from polarization.lhcb import _load_model_parameters, load_three_body_decays\n",
    "from polarization.plot import get_contour_line, stylize_contour\n",
    "\n",
    "mute_jax_warnings()\n",
    "\n",
    "reference_subsystem = 1\n",
    "dynamics_configurator = load_three_body_decays(\"../data/isobars.json\")\n",
    "decay = dynamics_configurator.decay\n",
    "amplitude_builder = DalitzPlotDecompositionBuilder(decay)\n",
    "amplitude_builder.dynamics_choices = dynamics_configurator\n",
    "model = amplitude_builder.formulate(reference_subsystem)\n",
    "imported_parameter_values = _load_model_parameters(\n",
    "    \"../data/modelparameters.json\", decay\n",
    ")\n",
    "model.parameter_defaults.update(imported_parameter_values)"
   ]
  },
  {
   "cell_type": "markdown",
   "metadata": {},
   "source": [
    "## SymPy expressions"
   ]
  },
  {
   "cell_type": "code",
   "execution_count": null,
   "metadata": {},
   "outputs": [],
   "source": [
    "%%time\n",
    "polarization_exprs = formulate_polarization(amplitude_builder, reference_subsystem)\n",
    "unfolded_polarization_exprs = [\n",
    "    perform_cached_doit(expr.doit().xreplace(model.amplitudes))\n",
    "    for expr in tqdm(polarization_exprs, desc=\"Unfolding polarization expressions\")\n",
    "]\n",
    "unfolded_intensity_expr = perform_cached_doit(model.full_expression)"
   ]
  },
  {
   "cell_type": "markdown",
   "metadata": {},
   "source": [
    "## Definition of free parameters"
   ]
  },
  {
   "cell_type": "code",
   "execution_count": null,
   "metadata": {
    "tags": []
   },
   "outputs": [],
   "source": [
    "production_couplings = {\n",
    "    symbol: value\n",
    "    for symbol, value in model.parameter_defaults.items()\n",
    "    if isinstance(symbol, sp.Indexed)\n",
    "    if \"production\" in str(symbol)\n",
    "}\n",
    "fixed_parameters = {\n",
    "    symbol: value\n",
    "    for symbol, value in model.parameter_defaults.items()\n",
    "    if symbol not in production_couplings\n",
    "}"
   ]
  },
  {
   "cell_type": "code",
   "execution_count": null,
   "metadata": {
    "tags": []
   },
   "outputs": [],
   "source": [
    "subs_polarization_exprs = [\n",
    "    expr.xreplace(fixed_parameters) for expr in unfolded_polarization_exprs\n",
    "]\n",
    "subs_intensity_expr = unfolded_intensity_expr.xreplace(fixed_parameters)"
   ]
  },
  {
   "cell_type": "code",
   "execution_count": null,
   "metadata": {
    "jupyter": {
     "source_hidden": true
    },
    "tags": [
     "remove-input"
    ]
   },
   "outputs": [],
   "source": [
    "src = \"Number of operations after substituting non-production-couplings:\\n\"\n",
    "for xyz, (expr, subs_expr) in enumerate(\n",
    "    zip(unfolded_polarization_exprs, subs_polarization_exprs)\n",
    "):\n",
    "    old_n_ops = sp.count_ops(expr)\n",
    "    new_n_ops = sp.count_ops(subs_expr)\n",
    "    src += Rf\"- $\\alpha_{'xyz'[xyz]}$: from {old_n_ops:,} to {new_n_ops:,}\" + \"\\n\"\n",
    "src += (\n",
    "    Rf\"- $I_\\mathrm{{tot}}$: from {sp.count_ops(unfolded_intensity_expr):,} to\"\n",
    "    rf\" {sp.count_ops(subs_intensity_expr):,}\"\n",
    ")\n",
    "Markdown(src)"
   ]
  },
  {
   "cell_type": "markdown",
   "metadata": {},
   "source": [
    "## Polarization distributions"
   ]
  },
  {
   "cell_type": "code",
   "execution_count": null,
   "metadata": {
    "tags": []
   },
   "outputs": [],
   "source": [
    "polarization_funcs = [\n",
    "    create_parametrized_function(\n",
    "        subs_polarization_exprs[xyz],\n",
    "        parameters=production_couplings,\n",
    "        backend=\"jax\",\n",
    "    )\n",
    "    for xyz in tqdm(range(3))\n",
    "]\n",
    "intensity_func = create_parametrized_function(\n",
    "    subs_intensity_expr,\n",
    "    parameters=production_couplings,\n",
    "    backend=\"jax\",\n",
    ")"
   ]
  },
  {
   "cell_type": "code",
   "execution_count": null,
   "metadata": {
    "jupyter": {
     "source_hidden": true
    },
    "tags": [
     "remove-input"
    ]
   },
   "outputs": [],
   "source": [
    "def render_mean(array, weights, plus=True):\n",
    "    array = array.real\n",
    "    mean = compute_weighted_average(array, weights)\n",
    "    variance = compute_weighted_average((array - mean) ** 2, weights)\n",
    "    std = jnp.sqrt(variance)\n",
    "    mean = f\"{mean:.3f}\"\n",
    "    std = f\"{std:.3f}\"\n",
    "    if plus and float(mean) > 0:\n",
    "        mean = f\"+{mean}\"\n",
    "    return Rf\"{mean} \\pm {std}\"\n",
    "\n",
    "\n",
    "def compute_weighted_average(values, weights):\n",
    "    return jnp.nansum(values * weights) / jnp.nansum(weights)\n",
    "\n",
    "\n",
    "def create_average_polarization_table() -> None:\n",
    "    latex = R\"\\begin{array}{cccc}\" + \"\\n\"\n",
    "    latex += R\"& \\bar{|\\alpha|} & \\bar\\alpha_x & \\bar\\alpha_y & \\bar\\alpha_z \\\\\" + \"\\n\"\n",
    "    weights = intensity_func(data_sample)\n",
    "    for label, identifier in zip(subsystem_labels, subsystem_identifiers):\n",
    "        latex += f\"  {label} & \"\n",
    "        x, y, z = (\n",
    "            compute_sub_function(polarization_funcs[xyz], data_sample, [identifier])\n",
    "            for xyz in range(3)\n",
    "        )\n",
    "        alpha_abs = jnp.sqrt(x**2 + y**2 + z**2)\n",
    "        latex += render_mean(alpha_abs, weights, plus=False) + \" & \"\n",
    "        latex += \" & \".join(render_mean(i, weights) for i in [x, y, z])\n",
    "        latex += R\" \\\\\" + \"\\n\"\n",
    "    latex += R\"\\end{array}\"\n",
    "    display(Math(latex))\n",
    "\n",
    "\n",
    "phsp_sample = generate_meshgrid_sample(decay, resolution=400)\n",
    "X = phsp_sample[\"sigma1\"]\n",
    "Y = phsp_sample[\"sigma2\"]\n",
    "transformer = create_data_transformer(model)\n",
    "data_sample = transformer(phsp_sample)\n",
    "\n",
    "subsystem_identifiers = [\"K\", \"L\", \"D\"]\n",
    "subsystem_labels = [\"K^{**}\", R\"\\Lambda^{**}\", R\"\\Delta^{**}\"]\n",
    "create_average_polarization_table()"
   ]
  },
  {
   "cell_type": "code",
   "execution_count": null,
   "metadata": {
    "tags": [
     "remove-input"
    ]
   },
   "outputs": [],
   "source": [
    "%config InlineBackend.figure_formats = ['png']"
   ]
  },
  {
   "cell_type": "code",
   "execution_count": null,
   "metadata": {
    "jupyter": {
     "source_hidden": true
    },
    "tags": [
     "hide-cell"
    ]
   },
   "outputs": [],
   "source": [
    "def create_dominant_region_contours(\n",
    "    decay, data_sample: DataSample, threshold: float\n",
    ") -> dict[str, jnp.ndarray]:\n",
    "    I_tot = intensity_func(data_sample)\n",
    "    resonance_names = [chain.resonance.name for chain in decay.chains]\n",
    "    region_filters = {}\n",
    "    progress_bar = tqdm(\n",
    "        desc=\"Computing dominant region contours\",\n",
    "        total=len(resonance_names),\n",
    "    )\n",
    "    for resonance_name in resonance_names:\n",
    "        progress_bar.postfix = resonance_name\n",
    "        regex_filter = resonance_name.replace(\"(\", r\"\\(\").replace(\")\", r\"\\)\")\n",
    "        I_sub = compute_sub_function(intensity_func, data_sample, [regex_filter])\n",
    "        ratio = I_sub / I_tot\n",
    "        selection = jnp.select(\n",
    "            [jnp.isnan(ratio), ratio < threshold, True],\n",
    "            [0, 0, 1],\n",
    "        )\n",
    "        progress_bar.update()\n",
    "        if jnp.all(selection == 0):\n",
    "            continue\n",
    "        region_filters[resonance_name] = selection\n",
    "    contour_arrays = {}\n",
    "    for contour_level, subsystem in enumerate([\"K\", \"L\", \"D\"], 1):\n",
    "        contour_array = reduce(\n",
    "            jnp.bitwise_or,\n",
    "            (a for k, a in region_filters.items() if k.startswith(subsystem)),\n",
    "        )\n",
    "        contour_array *= contour_level\n",
    "        contour_arrays[subsystem] = contour_array\n",
    "    return contour_arrays\n",
    "\n",
    "\n",
    "def indicate_dominant_regions(\n",
    "    contour_arrays, ax: Axes, selected_subsystems=None\n",
    ") -> dict[str, LineCollection]:\n",
    "    if selected_subsystems is None:\n",
    "        selected_subsystems = {\"K\", \"L\", \"D\"}\n",
    "    selected_subsystems = set(selected_subsystems)\n",
    "    colors = dict(K=\"red\", L=\"blue\", D=\"green\")\n",
    "    labels = dict(K=\"K^{**}\", L=R\"\\Lambda^{**}\", D=R\"\\Delta^{**}\")\n",
    "    legend_elements = {}\n",
    "    for subsystem, Z in contour_arrays.items():\n",
    "        if subsystem not in selected_subsystems:\n",
    "            continue\n",
    "        contour_set = ax.contour(X, Y, Z, colors=\"none\")\n",
    "        stylize_contour(\n",
    "            contour_set,\n",
    "            edgecolor=colors[subsystem],\n",
    "            linewidth=0.5,\n",
    "            label=f\"${labels[subsystem]}$\",\n",
    "        )\n",
    "        line_collection = get_contour_line(contour_set)\n",
    "        legend_elements[subsystem] = line_collection\n",
    "    return legend_elements"
   ]
  },
  {
   "cell_type": "code",
   "execution_count": null,
   "metadata": {
    "jupyter": {
     "source_hidden": true
    },
    "tags": [
     "scroll-input",
     "full-width",
     "hide-input"
    ]
   },
   "outputs": [],
   "source": [
    "%%time\n",
    "nrows = 4\n",
    "ncols = 5\n",
    "scale = 3.0\n",
    "aspect_ratio = 1.15\n",
    "fig, axes = plt.subplots(\n",
    "    figsize=scale * np.array([ncols, aspect_ratio * nrows]),\n",
    "    ncols=ncols,\n",
    "    nrows=nrows,\n",
    "    sharex=True,\n",
    "    sharey=True,\n",
    "    gridspec_kw={\"width_ratios\": (ncols - 1) * [1] + [1.24]},\n",
    "    tight_layout=True,\n",
    ")\n",
    "\n",
    "s1_label = R\"$\\sigma_1=m^2\\left(K\\pi\\right)$\"\n",
    "s2_label = R\"$\\sigma_2=m^2\\left(pK\\right)$\"\n",
    "for subsystem in range(nrows):\n",
    "    for i in range(ncols):\n",
    "        ax = axes[subsystem, i]\n",
    "        if i == 0:\n",
    "            alpha_str = R\"I_\\mathrm{tot}\"\n",
    "        elif i == 1:\n",
    "            alpha_str = R\"|\\alpha|\"\n",
    "        else:\n",
    "            xyz = i - 2\n",
    "            alpha_str = Rf\"\\alpha_{'xyz'[xyz]}\"\n",
    "        title = alpha_str\n",
    "        if subsystem > 0:\n",
    "            label = subsystem_labels[subsystem - 1]\n",
    "            title = Rf\"{title}\\left({label}\\right)\"\n",
    "        ax.set_title(f\"${title}$\")\n",
    "        if ax is axes[-1, i]:\n",
    "            ax.set_xlabel(s1_label)\n",
    "        if i == 0:\n",
    "            ax.set_ylabel(s2_label)\n",
    "\n",
    "intensity_arrays = []\n",
    "polarization_arrays = []\n",
    "for subsystem in range(nrows):\n",
    "    # alpha_xyz distributions\n",
    "    alpha_xyz_arrays = []\n",
    "    for i in range(2, ncols):\n",
    "        xyz = i - 2\n",
    "        if subsystem == 0:\n",
    "            z_values = polarization_funcs[xyz](data_sample)\n",
    "            polarization_arrays.append(z_values)\n",
    "        else:\n",
    "            identifier = subsystem_identifiers[subsystem - 1]\n",
    "            z_values = compute_sub_function(\n",
    "                polarization_funcs[xyz], data_sample, identifier\n",
    "            )\n",
    "        z_values = np.real(z_values)\n",
    "        alpha_xyz_arrays.append(z_values)\n",
    "        mesh = axes[subsystem, i].pcolormesh(X, Y, z_values, cmap=cm.coolwarm)\n",
    "        if xyz == 2:\n",
    "            fig.colorbar(mesh, ax=axes[subsystem, i])\n",
    "        mesh.set_clim(vmin=-1, vmax=+1)\n",
    "    # absolute value of alpha_xyz vector\n",
    "    alpha_abs = np.sqrt(np.sum(np.array(alpha_xyz_arrays) ** 2, axis=0))\n",
    "    mesh = axes[subsystem, 1].pcolormesh(X, Y, alpha_abs, cmap=cm.coolwarm)\n",
    "    mesh.set_clim(vmin=-1, vmax=+1)\n",
    "    # total intensity\n",
    "    if subsystem == 0:\n",
    "        z_values = intensity_func(data_sample)\n",
    "    else:\n",
    "        identifier = subsystem_identifiers[subsystem - 1]\n",
    "        z_values = compute_sub_function(intensity_func, data_sample, identifier)\n",
    "    intensity_arrays.append(z_values)\n",
    "    axes[subsystem, 0].pcolormesh(X, Y, z_values, norm=LogNorm())\n",
    "\n",
    "threshold = 0.7\n",
    "contour_arrays = create_dominant_region_contours(decay, data_sample, threshold)\n",
    "\n",
    "for ax in axes[0]:\n",
    "    legend_elements = indicate_dominant_regions(contour_arrays, ax)\n",
    "    if ax is axes[0, -1]:\n",
    "        leg = ax.legend(\n",
    "            handles=legend_elements.values(),\n",
    "            title=f\">{100*threshold:.0f}%\",\n",
    "        )\n",
    "\n",
    "for subsystem, ax_row in zip([\"K\", \"L\", \"D\"], axes[1:]):\n",
    "    for ax in ax_row:\n",
    "        indicate_dominant_regions(contour_arrays, ax, selected_subsystems=[subsystem])\n",
    "\n",
    "plt.show()"
   ]
  },
  {
   "cell_type": "code",
   "execution_count": null,
   "metadata": {
    "jupyter": {
     "source_hidden": true
    },
    "tags": [
     "hide-input"
    ]
   },
   "outputs": [],
   "source": [
    "fig, axes = plt.subplots(\n",
    "    figsize=(13, 5),\n",
    "    ncols=3,\n",
    "    gridspec_kw={\"width_ratios\": [1, 1, 1.2]},\n",
    "    sharey=True,\n",
    "    tight_layout=True,\n",
    ")\n",
    "axes[0].set_ylabel(s2_label)\n",
    "I_times_alpha = jnp.array(\n",
    "    [array * intensity_arrays[0] for array in polarization_arrays]\n",
    ")\n",
    "global_min_max = float(jnp.nanmax(jnp.abs(I_times_alpha)))\n",
    "for ax, z_values, xyz in zip(axes, I_times_alpha, \"xyz\"):\n",
    "    ax.set_title(Rf\"$\\alpha_{xyz} \\cdot I$\")\n",
    "    ax.set_xlabel(s1_label)\n",
    "    mesh = ax.pcolormesh(X, Y, np.real(z_values), cmap=cm.RdYlGn_r)\n",
    "    mesh.set_clim(vmin=-global_min_max, vmax=global_min_max)\n",
    "    if ax is axes[-1]:\n",
    "        fig.colorbar(mesh, ax=ax, pad=0.02)\n",
    "plt.show()"
   ]
  },
  {
   "cell_type": "code",
   "execution_count": null,
   "metadata": {
    "tags": [
     "remove-input"
    ]
   },
   "outputs": [],
   "source": [
    "%config InlineBackend.figure_formats = ['svg']"
   ]
  },
  {
   "cell_type": "code",
   "execution_count": null,
   "metadata": {
    "jupyter": {
     "source_hidden": true
    },
    "tags": [
     "hide-input"
    ]
   },
   "outputs": [],
   "source": [
    "polarization_arrays = jnp.array(polarization_arrays)\n",
    "alpha_abs = jnp.sqrt(jnp.sum(polarization_arrays**2, axis=0))\n",
    "fig, ax = plt.subplots(figsize=(8, 7), tight_layout=True)\n",
    "ax.set_title(R\"Total polarization field $\\vec{\\alpha}$\")\n",
    "ax.set_xlabel(s1_label + R\",$\\quad\\vec{\\alpha}_x$\")\n",
    "ax.set_ylabel(s2_label + R\",$\\quad\\vec{\\alpha}_z$\")\n",
    "strides = 12\n",
    "mesh = ax.quiver(\n",
    "    X[::strides, ::strides],\n",
    "    Y[::strides, ::strides],\n",
    "    np.real(polarization_arrays[0][::strides, ::strides]),\n",
    "    np.real(polarization_arrays[3][::strides, ::strides]),\n",
    "    np.real(alpha_abs[::strides, ::strides]),\n",
    "    cmap=cm.RdYlGn_r,\n",
    ")\n",
    "mesh.set_clim(vmin=0, vmax=+1)\n",
    "color_bar = fig.colorbar(mesh, ax=ax, pad=0.01)\n",
    "color_bar.set_label(R\"$\\left|\\vec{\\alpha}\\right|$\")\n",
    "plt.show()"
   ]
  },
  {
   "cell_type": "markdown",
   "metadata": {},
   "source": [
    "## Serialization"
   ]
  },
  {
   "cell_type": "code",
   "execution_count": null,
   "metadata": {},
   "outputs": [],
   "source": [
    "array = polarization_funcs[0](data_sample).real\n",
    "df = pd.DataFrame(array, index=X[0], columns=Y[:, 0])\n",
    "df.to_json(\"alpha-x-pandas.json\")\n",
    "df.to_json(\"alpha-x-pandas-json.zip\", compression={\"method\": \"zip\"})\n",
    "df.to_csv(\"alpha-x-pandas.csv\")\n",
    "\n",
    "df_dict = df.to_dict()\n",
    "filtered_df_dict = {\n",
    "    x: {y: v for y, v in row.items() if not math.isnan(v)} for x, row in df_dict.items()\n",
    "}\n",
    "with open(\"alpha-x-python.json\", \"w\") as f:\n",
    "    json.dump(filtered_df_dict, f, separators=(\",\", \":\"))"
   ]
  },
  {
   "cell_type": "code",
   "execution_count": null,
   "metadata": {
    "jupyter": {
     "source_hidden": true
    },
    "tags": [
     "remove-input"
    ]
   },
   "outputs": [],
   "source": [
    "def render_kilobytes(path, markdown: bool = False) -> str:\n",
    "    byt = os.path.getsize(path)\n",
    "    if markdown:\n",
    "        return f\"\\n - **{1e-6*byt:.2f} MB**: {{download}}`{path}`\"\n",
    "    return f\"\\n  {1e-6*byt:5.2f} MB  {path}\"\n",
    "\n",
    "\n",
    "src = f\"File sizes for {len(X[0])}x{len(Y[:, 0])} grid:\"\n",
    "markdown = \"EXECUTE_NB\" in os.environ\n",
    "src += render_kilobytes(\"alpha-x-pandas.json\", markdown)\n",
    "src += render_kilobytes(\"alpha-x-python.json\", markdown)\n",
    "src += render_kilobytes(\"alpha-x-pandas-json.zip\", markdown)\n",
    "src += render_kilobytes(\"alpha-x-pandas.csv\", markdown)\n",
    "if markdown:\n",
    "    display(Markdown(src))\n",
    "else:\n",
    "    print(src)"
   ]
  },
  {
   "cell_type": "markdown",
   "metadata": {},
   "source": [
    "## Benchmarking"
   ]
  },
  {
   "cell_type": "markdown",
   "metadata": {},
   "source": [
    ":::{tip}\n",
    "Compare with Julia results as reported in [redeboer/polarization-sensitivity#27](https://github.com/redeboer/polarization-sensitivity/issues/27).\n",
    ":::"
   ]
  },
  {
   "cell_type": "code",
   "execution_count": null,
   "metadata": {},
   "outputs": [],
   "source": [
    "phsp = generate_phasespace_sample(decay, 100_000, seed=0)\n",
    "%timeit transformer(phsp)\n",
    "phsp = transformer(phsp)"
   ]
  },
  {
   "cell_type": "code",
   "execution_count": null,
   "metadata": {},
   "outputs": [],
   "source": [
    "random_point = {k: v[0] if len(v.shape) > 0 else v for k, v in phsp.items()}\n",
    "%timeit intensity_func(random_point)"
   ]
  },
  {
   "cell_type": "code",
   "execution_count": null,
   "metadata": {},
   "outputs": [],
   "source": [
    "%%timeit\n",
    "polarization_funcs[0](random_point)\n",
    "polarization_funcs[1](random_point)\n",
    "polarization_funcs[2](random_point)"
   ]
  },
  {
   "cell_type": "code",
   "execution_count": null,
   "metadata": {},
   "outputs": [],
   "source": [
    "phsp_meshgrid54 = generate_meshgrid_sample(decay, resolution=54)\n",
    "data_sample54 = transformer(phsp_meshgrid54)\n",
    "X54 = phsp_meshgrid54[\"sigma1\"]\n",
    "Y54 = phsp_meshgrid54[\"sigma2\"]\n",
    "%timeit intensity_func(data_sample54)"
   ]
  },
  {
   "cell_type": "code",
   "execution_count": null,
   "metadata": {},
   "outputs": [],
   "source": [
    "%%timeit\n",
    "polarization_funcs[0](data_sample54)\n",
    "polarization_funcs[1](data_sample54)\n",
    "polarization_funcs[2](data_sample54)"
   ]
  },
  {
   "cell_type": "code",
   "execution_count": null,
   "metadata": {
    "tags": [
     "remove-input"
    ]
   },
   "outputs": [],
   "source": [
    "%config InlineBackend.figure_formats = ['png']"
   ]
  },
  {
   "cell_type": "code",
   "execution_count": null,
   "metadata": {
    "jupyter": {
     "source_hidden": true
    },
    "tags": [
     "hide-input"
    ]
   },
   "outputs": [],
   "source": [
    "intensity54 = intensity_func(data_sample54)\n",
    "fig, ax = plt.subplots(figsize=(4, 4))\n",
    "ax.pcolormesh(X54, Y54, intensity54)\n",
    "plt.show()"
   ]
  },
  {
   "cell_type": "code",
   "execution_count": null,
   "metadata": {},
   "outputs": [],
   "source": [
    "%%timeit\n",
    "intensity_func(phsp)"
   ]
  },
  {
   "cell_type": "code",
   "execution_count": null,
   "metadata": {},
   "outputs": [],
   "source": [
    "%%timeit\n",
    "polarization_funcs[0](phsp)\n",
    "polarization_funcs[1](phsp)\n",
    "polarization_funcs[2](phsp)"
   ]
  }
 ],
 "metadata": {
  "kernelspec": {
   "display_name": "Python 3 (ipykernel)",
   "language": "python",
   "name": "python3"
  },
  "language_info": {
   "codemirror_mode": {
    "name": "ipython",
    "version": 3
   },
   "file_extension": ".py",
   "mimetype": "text/x-python",
   "name": "python",
   "nbconvert_exporter": "python",
   "pygments_lexer": "ipython3",
   "version": "3.8.13"
  }
 },
 "nbformat": 4,
 "nbformat_minor": 4
}
