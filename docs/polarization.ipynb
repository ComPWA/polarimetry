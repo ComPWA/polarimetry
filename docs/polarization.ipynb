{
 "cells": [
  {
   "cell_type": "markdown",
   "metadata": {},
   "source": [
    "# Polarization sensitivity"
   ]
  },
  {
   "cell_type": "code",
   "execution_count": null,
   "metadata": {
    "tags": [
     "remove-cell"
    ]
   },
   "outputs": [],
   "source": [
    "%%capture\n",
    "%run ./phase-space.ipynb"
   ]
  },
  {
   "cell_type": "markdown",
   "metadata": {},
   "source": [
    "```{autolink-concat}\n",
    "```"
   ]
  },
  {
   "cell_type": "code",
   "execution_count": null,
   "metadata": {
    "jupyter": {
     "source_hidden": true
    },
    "tags": [
     "hide-cell",
     "scroll-input"
    ]
   },
   "outputs": [],
   "source": [
    "# pyright: reportUndefinedVariable=false\n",
    "from __future__ import annotations\n",
    "\n",
    "import re\n",
    "from typing import Pattern\n",
    "\n",
    "import matplotlib.pyplot as plt\n",
    "import numpy as np\n",
    "import sympy as sp\n",
    "from ampform.sympy import PoolSum\n",
    "from IPython.display import Markdown, Math\n",
    "from matplotlib import cm\n",
    "from matplotlib.colors import LogNorm\n",
    "from sympy.physics.matrices import msigma\n",
    "from tensorwaves.function import ParametrizedBackendFunction\n",
    "from tensorwaves.function.sympy import create_parametrized_function\n",
    "from tqdm.notebook import tqdm"
   ]
  },
  {
   "cell_type": "markdown",
   "metadata": {},
   "source": [
    "## SymPy expressions"
   ]
  },
  {
   "cell_type": "code",
   "execution_count": null,
   "metadata": {
    "jupyter": {
     "source_hidden": true
    },
    "tags": []
   },
   "outputs": [],
   "source": [
    "def to_index(helicity):\n",
    "    \"\"\"Symbolic conversion of half-value helicities to Pauli matrix indices.\"\"\"\n",
    "    return sp.Piecewise(\n",
    "        (1, sp.LessThan(helicity, 0)),\n",
    "        (0, True),\n",
    "    )\n",
    "\n",
    "\n",
    "ν_prime = sp.Symbol(R\"\\nu^{\\prime}\")\n",
    "polarization_exprs = [\n",
    "    PoolSum(\n",
    "        formulate_aligned_amplitude(ν, λ).conjugate()\n",
    "        * pauli_matrix[to_index(ν), to_index(ν_prime)]\n",
    "        * formulate_aligned_amplitude(ν_prime, λ),\n",
    "        (λ, [-half, +half]),\n",
    "        (ν, [-half, +half]),\n",
    "        (ν_prime, [-half, +half]),\n",
    "    )\n",
    "    / intensity_expr\n",
    "    for pauli_matrix in map(msigma, [1, 2, 3])\n",
    "]"
   ]
  },
  {
   "cell_type": "code",
   "execution_count": null,
   "metadata": {},
   "outputs": [],
   "source": [
    "%%time\n",
    "unfolded_polarization_exprs = [\n",
    "    expr.doit().xreplace(amp_definitions).doit()\n",
    "    for expr in tqdm(polarization_exprs, desc=\"Unfolding polarization expressions\")\n",
    "]\n",
    "unfolded_intensity_expr = intensity_expr.doit().xreplace(amp_definitions).doit()"
   ]
  },
  {
   "cell_type": "markdown",
   "metadata": {},
   "source": [
    "## Definition of free parameters"
   ]
  },
  {
   "cell_type": "code",
   "execution_count": null,
   "metadata": {
    "tags": []
   },
   "outputs": [],
   "source": [
    "free_parameters = {\n",
    "    symbol: value\n",
    "    for symbol, value in parameter_defaults.items()\n",
    "    if symbol in prod_couplings\n",
    "}\n",
    "fixed_parameters = {\n",
    "    symbol: value\n",
    "    for symbol, value in parameter_defaults.items()\n",
    "    if symbol not in free_parameters\n",
    "}\n",
    "fixed_parameters.update(masses)"
   ]
  },
  {
   "cell_type": "code",
   "execution_count": null,
   "metadata": {
    "tags": []
   },
   "outputs": [],
   "source": [
    "subs_polarization_exprs = [\n",
    "    expr.xreplace(fixed_parameters) for expr in unfolded_polarization_exprs\n",
    "]\n",
    "subs_intensity_expr = unfolded_intensity_expr.xreplace(fixed_parameters)"
   ]
  },
  {
   "cell_type": "code",
   "execution_count": null,
   "metadata": {
    "jupyter": {
     "source_hidden": true
    },
    "tags": [
     "remove-input"
    ]
   },
   "outputs": [],
   "source": [
    "src = \"Number of operations after substituting non-production-couplings:\\n\"\n",
    "for xyz, (expr, subs_expr) in enumerate(\n",
    "    zip(unfolded_polarization_exprs, subs_polarization_exprs)\n",
    "):\n",
    "    old_n_ops = sp.count_ops(expr)\n",
    "    new_n_ops = sp.count_ops(subs_expr)\n",
    "    src += Rf\"- $\\alpha_{'xyz'[xyz]}$: from {old_n_ops:,} to {new_n_ops:,}\" + \"\\n\"\n",
    "src += (\n",
    "    Rf\"- $I_\\mathrm{{tot}}$: from {sp.count_ops(unfolded_intensity_expr):,} to\"\n",
    "    rf\" {sp.count_ops(subs_intensity_expr):,}\"\n",
    ")\n",
    "Markdown(src)"
   ]
  },
  {
   "cell_type": "markdown",
   "metadata": {},
   "source": [
    "## Polarization distributions"
   ]
  },
  {
   "cell_type": "code",
   "execution_count": null,
   "metadata": {
    "tags": []
   },
   "outputs": [],
   "source": [
    "polarization_funcs = [\n",
    "    create_parametrized_function(\n",
    "        subs_polarization_exprs[xyz],\n",
    "        parameters=free_parameters,\n",
    "        backend=\"jax\",\n",
    "    )\n",
    "    for xyz in tqdm(range(3))\n",
    "]\n",
    "intensity_func = create_parametrized_function(\n",
    "    subs_intensity_expr,\n",
    "    parameters=free_parameters,\n",
    "    backend=\"jax\",\n",
    ")"
   ]
  },
  {
   "cell_type": "code",
   "execution_count": null,
   "metadata": {
    "jupyter": {
     "source_hidden": true
    },
    "tags": [
     "remove-input"
    ]
   },
   "outputs": [],
   "source": [
    "def compute_sub_func(\n",
    "    func: ParametrizedBackendFunction, input_data, non_zero_couplings: list[str]\n",
    ") -> None:\n",
    "    old_parameters = dict(func.parameters)\n",
    "    pattern = rf\"\\\\mathcal{{H}}.*\\[(?!{'|'.join(non_zero_couplings)})\"\n",
    "    set_parameter_to_zero(func, pattern)\n",
    "    array = func(input_data)\n",
    "    func.update_parameters(old_parameters)\n",
    "    return array\n",
    "\n",
    "\n",
    "def set_parameter_to_zero(\n",
    "    func: ParametrizedBackendFunction, search_term: Pattern\n",
    ") -> None:\n",
    "    new_parameters = dict(func.parameters)\n",
    "    no_parameters_selected = True\n",
    "    for par_name in func.parameters:\n",
    "        if re.match(search_term, par_name) is not None:\n",
    "            new_parameters[par_name] = 0\n",
    "            no_parameters_selected = False\n",
    "    if no_parameters_selected:\n",
    "        logging.warning(f\"All couplings were set to zero for search term {search_term}\")\n",
    "    func.update_parameters(new_parameters)\n",
    "\n",
    "\n",
    "def render_mean(array, plus=True):\n",
    "    array = array.real\n",
    "    mean = f\"{np.nanmean(array):.3f}\"\n",
    "    std = f\"{np.nanstd(array):.3f}\"\n",
    "    if plus and float(mean) > 0:\n",
    "        mean = f\"+{mean}\"\n",
    "    return Rf\"{mean} \\pm {std}\"\n",
    "\n",
    "\n",
    "X, Y, data_sample, phsp_filter = generate_uniform_phsp(resolution=400)\n",
    "\n",
    "subsystem_identifiers = [\"K\", \"L\", \"D\"]\n",
    "subsystem_labels = [\"K^{**}\", R\"\\Lambda^{**}\", R\"\\Delta^{**}\"]\n",
    "latex = R\"\\begin{array}{cccc}\" + \"\\n\"\n",
    "latex += R\"& \\bar{|\\alpha|} & \\bar\\alpha_x & \\bar\\alpha_y & \\bar\\alpha_z \\\\\" + \"\\n\"\n",
    "for label, identifier in zip(subsystem_labels, subsystem_identifiers):\n",
    "    latex += f\"  {label} & \"\n",
    "    x, y, z = (\n",
    "        compute_sub_func(polarization_funcs[xyz], data_sample, [identifier])\n",
    "        for xyz in range(3)\n",
    "    )\n",
    "    latex += render_mean(np.sqrt(x**2 + y**2 + z**2), plus=False) + \" & \"\n",
    "    latex += \" & \".join(map(render_mean, [x, y, z]))\n",
    "    latex += R\" \\\\\" + \"\\n\"\n",
    "latex += R\"\\end{array}\"\n",
    "Math(latex)"
   ]
  },
  {
   "cell_type": "code",
   "execution_count": null,
   "metadata": {
    "tags": [
     "remove-input"
    ]
   },
   "outputs": [],
   "source": [
    "%config InlineBackend.figure_formats = ['png']"
   ]
  },
  {
   "cell_type": "code",
   "execution_count": null,
   "metadata": {
    "jupyter": {
     "source_hidden": true
    },
    "tags": [
     "scroll-input",
     "full-width",
     "hide-input"
    ]
   },
   "outputs": [],
   "source": [
    "%%time\n",
    "nrows = 4\n",
    "ncols = 5\n",
    "scale = 3.0\n",
    "aspect_ratio = 1.15\n",
    "fig, axes = plt.subplots(\n",
    "    figsize=scale * np.array([ncols, aspect_ratio * nrows]),\n",
    "    ncols=ncols,\n",
    "    nrows=nrows,\n",
    "    sharex=True,\n",
    "    sharey=True,\n",
    "    gridspec_kw={\"width_ratios\": (ncols - 1) * [1] + [1.24]},\n",
    "    tight_layout=True,\n",
    ")\n",
    "\n",
    "s1_label = R\"$\\sigma_1=m^2\\left(K\\pi\\right)$\"\n",
    "s2_label = R\"$\\sigma_2=m^2\\left(pK\\right)$\"\n",
    "for subsystem in range(nrows):\n",
    "    for i in range(ncols):\n",
    "        ax = axes[subsystem, i]\n",
    "        if i == 0:\n",
    "            alpha_str = R\"I_\\mathrm{tot}\"\n",
    "        elif i == 1:\n",
    "            alpha_str = R\"|\\alpha|\"\n",
    "        else:\n",
    "            xyz = i - 2\n",
    "            alpha_str = Rf\"\\alpha_{'xyz'[xyz]}\"\n",
    "        title = alpha_str\n",
    "        if subsystem > 0:\n",
    "            label = subsystem_labels[subsystem - 1]\n",
    "            title = Rf\"{title}\\left({label}\\right)\"\n",
    "        ax.set_title(f\"${title}$\")\n",
    "        if ax is axes[-1, i]:\n",
    "            ax.set_xlabel(s1_label)\n",
    "        if i == 0:\n",
    "            ax.set_ylabel(s2_label)\n",
    "\n",
    "for subsystem in range(nrows):\n",
    "    # alpha_xyz distributions\n",
    "    alpha_xyz_arrays = []\n",
    "    for i in range(2, ncols):\n",
    "        xyz = i - 2\n",
    "        if subsystem == 0:\n",
    "            z_values = polarization_funcs[xyz](data_sample)\n",
    "        else:\n",
    "            identifier = subsystem_identifiers[subsystem - 1]\n",
    "            z_values = compute_sub_func(\n",
    "                polarization_funcs[xyz], data_sample, identifier\n",
    "            )\n",
    "        z_values = np.real(z_values)\n",
    "        alpha_xyz_arrays.append(z_values)\n",
    "        mesh = axes[subsystem, i].pcolormesh(X, Y, z_values, cmap=cm.coolwarm)\n",
    "        if xyz == 2:\n",
    "            fig.colorbar(mesh, ax=axes[subsystem, i])\n",
    "        mesh.set_clim(vmin=-1, vmax=+1)\n",
    "    # absolute value of alpha_xyz vector\n",
    "    alpha_abs = np.sqrt(np.sum(np.array(alpha_xyz_arrays) ** 2, axis=0))\n",
    "    mesh = axes[subsystem, 1].pcolormesh(X, Y, alpha_abs, cmap=cm.coolwarm)\n",
    "    mesh.set_clim(vmin=-1, vmax=+1)\n",
    "    # total intensity\n",
    "    if subsystem == 0:\n",
    "        z_values = intensity_func(data_sample)\n",
    "    else:\n",
    "        identifier = subsystem_identifiers[subsystem - 1]\n",
    "        z_values = compute_sub_func(intensity_func, data_sample, identifier)\n",
    "    axes[subsystem, 0].pcolormesh(X, Y, z_values, norm=LogNorm())\n",
    "plt.show()"
   ]
  }
 ],
 "metadata": {
  "kernelspec": {
   "display_name": "Python 3 (ipykernel)",
   "language": "python",
   "name": "python3"
  },
  "language_info": {
   "codemirror_mode": {
    "name": "ipython",
    "version": 3
   },
   "file_extension": ".py",
   "mimetype": "text/x-python",
   "name": "python",
   "nbconvert_exporter": "python",
   "pygments_lexer": "ipython3",
   "version": "3.8.13"
  }
 },
 "nbformat": 4,
 "nbformat_minor": 4
}
