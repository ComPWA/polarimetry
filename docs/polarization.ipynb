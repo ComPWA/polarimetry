{
 "cells": [
  {
   "cell_type": "markdown",
   "metadata": {},
   "source": [
    "# Polarization sensitivity"
   ]
  },
  {
   "cell_type": "markdown",
   "metadata": {},
   "source": [
    "```{autolink-concat}\n",
    "```"
   ]
  },
  {
   "cell_type": "code",
   "execution_count": null,
   "metadata": {
    "jupyter": {
     "source_hidden": true
    },
    "tags": [
     "hide-cell",
     "scroll-input"
    ]
   },
   "outputs": [],
   "source": [
    "from __future__ import annotations\n",
    "\n",
    "import logging\n",
    "import math\n",
    "from functools import reduce\n",
    "\n",
    "import jax.numpy as jnp\n",
    "import matplotlib.pyplot as plt\n",
    "import numpy as np\n",
    "import sympy as sp\n",
    "from IPython.display import Math, display\n",
    "from matplotlib import cm\n",
    "from matplotlib.axes import Axes\n",
    "from matplotlib.collections import LineCollection\n",
    "from matplotlib.colors import LogNorm\n",
    "from tensorwaves.function.sympy import create_parametrized_function\n",
    "from tensorwaves.interface import DataSample\n",
    "from tqdm.auto import tqdm\n",
    "\n",
    "from polarization import formulate_polarization\n",
    "from polarization.data import create_data_transformer, generate_meshgrid_sample\n",
    "from polarization.function import compute_sub_function\n",
    "from polarization.io import mute_jax_warnings, perform_cached_doit\n",
    "from polarization.lhcb import (\n",
    "    flip_production_coupling_signs,\n",
    "    load_model_builder,\n",
    "    load_model_parameters,\n",
    ")\n",
    "from polarization.lhcb.particle import load_particles\n",
    "from polarization.plot import get_contour_line, stylize_contour, use_mpl_latex_fonts\n",
    "\n",
    "logging.getLogger(\"polarization.function\").setLevel(logging.INFO)\n",
    "mute_jax_warnings()"
   ]
  },
  {
   "cell_type": "markdown",
   "metadata": {},
   "source": [
    "Final state IDs:\n",
    "1. $p$\n",
    "2. $\\pi^+$\n",
    "3. $K^-$\n",
    "\n",
    "Sub-system definitions:\n",
    "1. $K^{**} \\to \\pi^+ K^-$\n",
    "2. $\\Lambda^{**} \\to p K^-$\n",
    "3. $\\Delta^{**} \\to p \\pi^+$"
   ]
  },
  {
   "cell_type": "code",
   "execution_count": null,
   "metadata": {
    "jupyter": {
     "source_hidden": true
    },
    "tags": [
     "hide-cell",
     "scroll-input"
    ]
   },
   "outputs": [],
   "source": [
    "model_choice = 0\n",
    "model_file = \"../data/model-definitions.yaml\"\n",
    "particles = load_particles(\"../data/particle-definitions.yaml\")\n",
    "amplitude_builder = load_model_builder(model_file, particles, model_choice)\n",
    "imported_parameter_values = load_model_parameters(\n",
    "    model_file, amplitude_builder.decay, model_choice\n",
    ")\n",
    "models = {}\n",
    "for reference_subsystem in [1, 2, 3]:\n",
    "    models[reference_subsystem] = amplitude_builder.formulate(\n",
    "        reference_subsystem, cleanup_summations=True\n",
    "    )\n",
    "    models[reference_subsystem].parameter_defaults.update(imported_parameter_values)\n",
    "del reference_subsystem\n",
    "\n",
    "models[2] = flip_production_coupling_signs(models[2], subsystem_names=[\"K\", \"L\"])\n",
    "models[3] = flip_production_coupling_signs(models[3], subsystem_names=[\"K\", \"D\"])\n",
    "\n",
    "DECAY = models[1].decay\n",
    "FINAL_STATE = {\n",
    "    1: \"p\",\n",
    "    2: R\"\\pi^+\",\n",
    "    3: \"K^-\",\n",
    "}"
   ]
  },
  {
   "cell_type": "markdown",
   "metadata": {},
   "source": [
    "## SymPy expressions"
   ]
  },
  {
   "cell_type": "code",
   "execution_count": null,
   "metadata": {
    "tags": [
     "remove-output"
    ]
   },
   "outputs": [],
   "source": [
    "unfolded_polarization_exprs = {}\n",
    "unfolded_intensity_expr = {}\n",
    "for i, model in tqdm(models.items(), \"Unfolding expressions\"):\n",
    "    reference_subsystem = i\n",
    "    polarization_exprs = formulate_polarization(\n",
    "        amplitude_builder, reference_subsystem\n",
    "    )\n",
    "    unfolded_polarization_exprs[i] = [\n",
    "        perform_cached_doit(expr.doit().xreplace(model.amplitudes))\n",
    "        for expr in tqdm(polarization_exprs, leave=False)\n",
    "    ]\n",
    "    unfolded_intensity_expr[i] = perform_cached_doit(model.full_expression)\n",
    "del i, polarization_exprs, reference_subsystem"
   ]
  },
  {
   "cell_type": "markdown",
   "metadata": {},
   "source": [
    "## Definition of free parameters"
   ]
  },
  {
   "cell_type": "code",
   "execution_count": null,
   "metadata": {
    "tags": []
   },
   "outputs": [],
   "source": [
    "polarization_funcs = {}\n",
    "intensity_func = {}\n",
    "for i, model in tqdm(models.items(), \"Lambdifying to JAX\"):\n",
    "    production_couplings = {\n",
    "        symbol: value\n",
    "        for symbol, value in model.parameter_defaults.items()\n",
    "        if isinstance(symbol, sp.Indexed)\n",
    "        if \"production\" in str(symbol)\n",
    "    }\n",
    "    fixed_parameters = {\n",
    "        symbol: value\n",
    "        for symbol, value in model.parameter_defaults.items()\n",
    "        if symbol not in production_couplings\n",
    "    }\n",
    "    polarization_funcs[i] = [\n",
    "        create_parametrized_function(\n",
    "            expr.xreplace(fixed_parameters),\n",
    "            parameters=production_couplings,\n",
    "            backend=\"jax\",\n",
    "        )\n",
    "        for expr in tqdm(unfolded_polarization_exprs[i], leave=False)\n",
    "    ]\n",
    "    intensity_func[i] = create_parametrized_function(\n",
    "        unfolded_intensity_expr[i].xreplace(fixed_parameters),\n",
    "        parameters=production_couplings,\n",
    "        backend=\"jax\",\n",
    "    )\n",
    "\n",
    "del model\n",
    "del fixed_parameters, production_couplings"
   ]
  },
  {
   "cell_type": "markdown",
   "metadata": {},
   "source": [
    "## Polarization distributions"
   ]
  },
  {
   "cell_type": "code",
   "execution_count": null,
   "metadata": {
    "jupyter": {
     "source_hidden": true
    },
    "tags": []
   },
   "outputs": [],
   "source": [
    "data_sample = generate_meshgrid_sample(DECAY, resolution=400)\n",
    "X = data_sample[\"sigma1\"]\n",
    "Y = data_sample[\"sigma2\"]\n",
    "for model in models.values():\n",
    "    transformer = create_data_transformer(model)\n",
    "    data_sample.update(transformer(data_sample))\n",
    "del model, transformer"
   ]
  },
  {
   "cell_type": "markdown",
   "metadata": {},
   "source": [
    "### Average polarization values"
   ]
  },
  {
   "cell_type": "code",
   "execution_count": null,
   "metadata": {
    "jupyter": {
     "source_hidden": true
    },
    "tags": [
     "hide-cell"
    ]
   },
   "outputs": [],
   "source": [
    "def render_mean(array, weights, plus=True):\n",
    "    array = array.real\n",
    "    mean = compute_weighted_average(array, weights)\n",
    "    variance = compute_weighted_average((array - mean) ** 2, weights)\n",
    "    std = jnp.sqrt(variance)\n",
    "    mean = f\"{mean:.3f}\"\n",
    "    std = f\"{std:.3f}\"\n",
    "    if plus and float(mean) > 0:\n",
    "        mean = f\"+{mean}\"\n",
    "    return Rf\"{mean} \\pm {std}\"\n",
    "\n",
    "\n",
    "def compute_weighted_average(values, weights):\n",
    "    return jnp.nansum(values * weights) / jnp.nansum(weights)\n",
    "\n",
    "\n",
    "def create_average_polarization_table(reference_subsystem: int) -> None:\n",
    "    latex = R\"\\begin{array}{cccc}\" + \"\\n\"\n",
    "    latex += (\n",
    "        R\"& \\bar{|\\alpha|} & \\bar\\alpha_x & \\bar\\alpha_y & \\bar\\alpha_z \\\\\" + \"\\n\"\n",
    "    )\n",
    "    weights = intensity_func[1](data_sample)\n",
    "    for label, identifier in zip(subsystem_labels, subsystem_identifiers):\n",
    "        latex += f\"  {label} & \"\n",
    "        x, y, z = (\n",
    "            compute_sub_function(\n",
    "                polarization_funcs[reference_subsystem][xyz],\n",
    "                data_sample,\n",
    "                [identifier],\n",
    "            )\n",
    "            for xyz in range(3)\n",
    "        )\n",
    "        alpha_abs = jnp.sqrt(x**2 + y**2 + z**2)\n",
    "        latex += render_mean(alpha_abs, weights, plus=False) + \" & \"\n",
    "        latex += \" & \".join(render_mean(i, weights) for i in [x, y, z])\n",
    "        latex += R\" \\\\\" + \"\\n\"\n",
    "    latex += R\"\\end{array}\"\n",
    "    display(Math(latex))\n",
    "\n",
    "\n",
    "subsystem_identifiers = [\"K\", \"L\", \"D\"]\n",
    "subsystem_labels = [\"K^{**}\", R\"\\Lambda^{**}\", R\"\\Delta^{**}\"]"
   ]
  },
  {
   "cell_type": "markdown",
   "metadata": {},
   "source": [
    "**Reference sub-system 1** ($K^{**} \\to \\pi^+ K^-$):"
   ]
  },
  {
   "cell_type": "code",
   "execution_count": null,
   "metadata": {
    "tags": [
     "remove-input"
    ]
   },
   "outputs": [],
   "source": [
    "create_average_polarization_table(1)"
   ]
  },
  {
   "cell_type": "markdown",
   "metadata": {},
   "source": [
    "**Reference sub-system 2** ($\\Lambda^{**} \\to p K^-$):"
   ]
  },
  {
   "cell_type": "code",
   "execution_count": null,
   "metadata": {},
   "outputs": [],
   "source": [
    "create_average_polarization_table(2)"
   ]
  },
  {
   "cell_type": "markdown",
   "metadata": {},
   "source": [
    "**Reference sub-system 3** ($\\Delta^{**} \\to p \\pi^+$):"
   ]
  },
  {
   "cell_type": "code",
   "execution_count": null,
   "metadata": {
    "tags": []
   },
   "outputs": [],
   "source": [
    "create_average_polarization_table(3)"
   ]
  },
  {
   "cell_type": "markdown",
   "metadata": {},
   "source": [
    "### Dominant contributions"
   ]
  },
  {
   "cell_type": "code",
   "execution_count": null,
   "metadata": {
    "tags": [
     "remove-input"
    ]
   },
   "outputs": [],
   "source": [
    "%config InlineBackend.figure_formats = ['png']"
   ]
  },
  {
   "cell_type": "code",
   "execution_count": null,
   "metadata": {
    "jupyter": {
     "source_hidden": true
    },
    "tags": [
     "hide-cell"
    ]
   },
   "outputs": [],
   "source": [
    "def create_dominant_region_contours(\n",
    "    decay, data_sample: DataSample, threshold: float\n",
    ") -> dict[str, jnp.ndarray]:\n",
    "    I_tot = intensity_func[1](data_sample)\n",
    "    resonance_names = [chain.resonance.name for chain in decay.chains]\n",
    "    region_filters = {}\n",
    "    progress_bar = tqdm(\n",
    "        desc=\"Computing dominant region contours\",\n",
    "        total=len(resonance_names),\n",
    "    )\n",
    "    for resonance_name in resonance_names:\n",
    "        progress_bar.postfix = resonance_name\n",
    "        regex_filter = resonance_name.replace(\"(\", r\"\\(\").replace(\")\", r\"\\)\")\n",
    "        I_sub = compute_sub_function(intensity_func[1], data_sample, [regex_filter])\n",
    "        ratio = I_sub / I_tot\n",
    "        selection = jnp.select(\n",
    "            [jnp.isnan(ratio), ratio < threshold, True],\n",
    "            [0, 0, 1],\n",
    "        )\n",
    "        progress_bar.update()\n",
    "        if jnp.all(selection == 0):\n",
    "            continue\n",
    "        region_filters[resonance_name] = selection\n",
    "    contour_arrays = {}\n",
    "    for contour_level, subsystem in enumerate([\"K\", \"L\", \"D\"], 1):\n",
    "        contour_array = reduce(\n",
    "            jnp.bitwise_or,\n",
    "            (a for k, a in region_filters.items() if k.startswith(subsystem)),\n",
    "        )\n",
    "        contour_array *= contour_level\n",
    "        contour_arrays[subsystem] = contour_array\n",
    "    return contour_arrays\n",
    "\n",
    "\n",
    "def indicate_dominant_regions(\n",
    "    contour_arrays, ax: Axes, selected_subsystems=None\n",
    ") -> dict[str, LineCollection]:\n",
    "    if selected_subsystems is None:\n",
    "        selected_subsystems = {\"K\", \"L\", \"D\"}\n",
    "    selected_subsystems = set(selected_subsystems)\n",
    "    colors = dict(K=\"red\", L=\"blue\", D=\"green\")\n",
    "    labels = dict(K=\"K^{**}\", L=R\"\\Lambda^{**}\", D=R\"\\Delta^{**}\")\n",
    "    legend_elements = {}\n",
    "    for subsystem, Z in contour_arrays.items():\n",
    "        if subsystem not in selected_subsystems:\n",
    "            continue\n",
    "        contour_set = ax.contour(X, Y, Z, colors=\"none\")\n",
    "        stylize_contour(\n",
    "            contour_set,\n",
    "            edgecolor=colors[subsystem],\n",
    "            linewidth=0.5,\n",
    "            label=f\"${labels[subsystem]}$\",\n",
    "        )\n",
    "        line_collection = get_contour_line(contour_set)\n",
    "        legend_elements[subsystem] = line_collection\n",
    "    return legend_elements"
   ]
  },
  {
   "cell_type": "code",
   "execution_count": null,
   "metadata": {
    "jupyter": {
     "source_hidden": true
    },
    "tags": [
     "scroll-input",
     "full-width",
     "hide-input"
    ]
   },
   "outputs": [],
   "source": [
    "%%time\n",
    "nrows = 4\n",
    "ncols = 5\n",
    "scale = 3.0\n",
    "aspect_ratio = 1.05\n",
    "plt.rcdefaults()\n",
    "use_mpl_latex_fonts()\n",
    "plt.rc(\"font\", size=15)\n",
    "fig, axes = plt.subplots(\n",
    "    dpi=200,\n",
    "    figsize=scale * np.array([ncols, aspect_ratio * nrows]),\n",
    "    gridspec_kw={\"width_ratios\": (ncols - 1) * [1] + [1.24]},\n",
    "    ncols=ncols,\n",
    "    nrows=nrows,\n",
    "    sharex=True,\n",
    "    sharey=True,\n",
    ")\n",
    "plt.subplots_adjust(wspace=0.05)\n",
    "\n",
    "s1_label = R\"$m^2\\left(K\\pi\\right)$ [GeV$/c^2]$\"\n",
    "s2_label = R\"$m^2\\left(pK\\right)$ [GeV$/c^2]$\"\n",
    "for subsystem in range(nrows):\n",
    "    for i in range(ncols):\n",
    "        ax = axes[subsystem, i]\n",
    "        if i == 0:\n",
    "            alpha_str = R\"I_\\mathrm{tot}\"\n",
    "        elif i == 1:\n",
    "            alpha_str = R\"|\\alpha|\"\n",
    "        else:\n",
    "            xyz = i - 2\n",
    "            alpha_str = Rf\"\\alpha_{'xyz'[xyz]}\"\n",
    "        title = alpha_str\n",
    "        if subsystem > 0:\n",
    "            label = subsystem_labels[subsystem - 1]\n",
    "            title = Rf\"{title}\\left({label}\\right)\"\n",
    "        ax.set_title(f\"${title}$\")\n",
    "        if ax is axes[-1, i]:\n",
    "            ax.set_xlabel(s1_label)\n",
    "        if i == 0:\n",
    "            ax.set_ylabel(s2_label)\n",
    "\n",
    "intensity_arrays = []\n",
    "polarization_arrays = []\n",
    "for subsystem in range(nrows):\n",
    "    # alpha_xyz distributions\n",
    "    alpha_xyz_arrays = []\n",
    "    for i in range(2, ncols):\n",
    "        xyz = i - 2\n",
    "        if subsystem == 0:\n",
    "            z_values = polarization_funcs[1][xyz](data_sample)\n",
    "            polarization_arrays.append(z_values)\n",
    "        else:\n",
    "            identifier = subsystem_identifiers[subsystem - 1]\n",
    "            z_values = compute_sub_function(\n",
    "                polarization_funcs[1][xyz], data_sample, identifier\n",
    "            )\n",
    "        z_values = np.real(z_values)\n",
    "        alpha_xyz_arrays.append(z_values)\n",
    "        mesh = axes[subsystem, i].pcolormesh(X, Y, z_values, cmap=cm.coolwarm)\n",
    "        mesh.set_clim(vmin=-1, vmax=+1)\n",
    "        if xyz == 2:\n",
    "            c_bar = fig.colorbar(mesh, ax=axes[subsystem, i])\n",
    "            c_bar.set_ticks([-1, 0, +1])\n",
    "            c_bar.set_ticklabels([\"-1\", \"0\", \"+1\"])\n",
    "    # absolute value of alpha_xyz vector\n",
    "    alpha_abs = np.sqrt(np.sum(np.array(alpha_xyz_arrays) ** 2, axis=0))\n",
    "    mesh = axes[subsystem, 1].pcolormesh(X, Y, alpha_abs, cmap=cm.coolwarm)\n",
    "    mesh.set_clim(vmin=-1, vmax=+1)\n",
    "    # total intensity\n",
    "    if subsystem == 0:\n",
    "        z_values = intensity_func[1](data_sample)\n",
    "    else:\n",
    "        identifier = subsystem_identifiers[subsystem - 1]\n",
    "        z_values = compute_sub_function(intensity_func[1], data_sample, identifier)\n",
    "    intensity_arrays.append(z_values)\n",
    "    axes[subsystem, 0].pcolormesh(X, Y, z_values, norm=LogNorm())\n",
    "\n",
    "threshold = 0.7\n",
    "contour_arrays = create_dominant_region_contours(DECAY, data_sample, threshold)\n",
    "\n",
    "for ax in axes[0]:\n",
    "    legend_elements = indicate_dominant_regions(contour_arrays, ax)\n",
    "    if ax is axes[0, -1]:\n",
    "        leg = ax.legend(\n",
    "            handles=legend_elements.values(),\n",
    "            title=Rf\"$>{100*threshold:.0f}\\%$\",\n",
    "            bbox_to_anchor=(0.9, 0.88, 1.0, 0.1),\n",
    "            framealpha=1,\n",
    "        )\n",
    "\n",
    "for subsystem, ax_row in zip([\"K\", \"L\", \"D\"], axes[1:]):\n",
    "    for ax in ax_row:\n",
    "        indicate_dominant_regions(\n",
    "            contour_arrays, ax, selected_subsystems=[subsystem]\n",
    "        )\n",
    "\n",
    "plt.show()"
   ]
  },
  {
   "cell_type": "code",
   "execution_count": null,
   "metadata": {
    "jupyter": {
     "source_hidden": true
    },
    "tags": [
     "full-width",
     "hide-input"
    ]
   },
   "outputs": [],
   "source": [
    "plt.rcdefaults()\n",
    "use_mpl_latex_fonts()\n",
    "plt.rc(\"font\", size=16)\n",
    "fig, axes = plt.subplots(\n",
    "    dpi=200,\n",
    "    figsize=(13, 5),\n",
    "    gridspec_kw={\"width_ratios\": [1, 1, 1.2]},\n",
    "    ncols=3,\n",
    "    sharey=True,\n",
    "    tight_layout=True,\n",
    ")\n",
    "axes[0].set_ylabel(s2_label)\n",
    "I_times_alpha = jnp.array(\n",
    "    [array * intensity_arrays[0] for array in polarization_arrays]\n",
    ")\n",
    "global_min_max = float(jnp.nanmax(jnp.abs(I_times_alpha)))\n",
    "for ax, z_values, xyz in zip(axes, I_times_alpha, \"xyz\"):\n",
    "    ax.set_title(Rf\"$\\alpha_{xyz} \\cdot I$\")\n",
    "    ax.set_xlabel(s1_label)\n",
    "    mesh = ax.pcolormesh(X, Y, np.real(z_values), cmap=cm.RdYlGn_r)\n",
    "    mesh.set_clim(vmin=-global_min_max, vmax=global_min_max)\n",
    "    if ax is axes[-1]:\n",
    "        fig.colorbar(mesh, ax=ax, pad=0.02)\n",
    "plt.show()"
   ]
  },
  {
   "cell_type": "markdown",
   "metadata": {},
   "source": [
    "### Total polarization vector field"
   ]
  },
  {
   "cell_type": "code",
   "execution_count": null,
   "metadata": {
    "tags": [
     "remove-input"
    ]
   },
   "outputs": [],
   "source": [
    "%config InlineBackend.figure_formats = ['svg']"
   ]
  },
  {
   "cell_type": "code",
   "execution_count": null,
   "metadata": {
    "jupyter": {
     "source_hidden": true
    },
    "tags": [
     "hide-input"
    ]
   },
   "outputs": [],
   "source": [
    "def plot_polarization_field(polarization_arrays, ax, strides=14, cmap=cm.RdYlGn_r):\n",
    "    alpha_abs = jnp.sqrt(jnp.sum(polarization_arrays**2, axis=0))\n",
    "    mesh = ax.quiver(\n",
    "        X[::strides, ::strides],\n",
    "        Y[::strides, ::strides],\n",
    "        np.real(polarization_arrays[2][::strides, ::strides]),\n",
    "        np.real(polarization_arrays[0][::strides, ::strides]),\n",
    "        np.real(alpha_abs[::strides, ::strides]),\n",
    "        cmap=cmap,\n",
    "    )\n",
    "    mesh.set_clim(vmin=0, vmax=+1)\n",
    "    return mesh\n",
    "\n",
    "\n",
    "def plot_total_field(reference_subsystem: int) -> None:\n",
    "    plt.rcdefaults()\n",
    "    use_mpl_latex_fonts()\n",
    "    plt.rc(\"font\", size=18)\n",
    "    fig, ax = plt.subplots(figsize=(8, 7), tight_layout=True)\n",
    "    fig.suptitle(R\"Total polarization field $\\vec{\\alpha}$\", x=0.45, y=0.93)\n",
    "    ax.set_title(f\"(reference subsystem {reference_subsystem})\")\n",
    "    ax.set_xlabel(s1_label + R\",$\\quad\\vec{\\alpha}_z$\")\n",
    "    ax.set_ylabel(s2_label + R\",$\\quad\\vec{\\alpha}_x$\")\n",
    "    polarization_arrays = [\n",
    "        func(data_sample) for func in polarization_funcs[reference_subsystem]\n",
    "    ]\n",
    "    mesh = plot_polarization_field(jnp.array(polarization_arrays), ax)\n",
    "    color_bar = fig.colorbar(mesh, ax=ax, pad=0.01)\n",
    "    color_bar.set_label(R\"$\\left|\\vec{\\alpha}\\right|$\")\n",
    "    plt.show()\n",
    "\n",
    "\n",
    "plot_total_field(reference_subsystem=1)"
   ]
  },
  {
   "cell_type": "code",
   "execution_count": null,
   "metadata": {
    "jupyter": {
     "source_hidden": true
    },
    "tags": []
   },
   "outputs": [],
   "source": [
    "plot_total_field(reference_subsystem=2)"
   ]
  },
  {
   "cell_type": "code",
   "execution_count": null,
   "metadata": {
    "jupyter": {
     "source_hidden": true
    },
    "tags": []
   },
   "outputs": [],
   "source": [
    "plot_total_field(reference_subsystem=3)"
   ]
  },
  {
   "cell_type": "markdown",
   "metadata": {},
   "source": [
    "### Aligned vector fields per chain"
   ]
  },
  {
   "cell_type": "code",
   "execution_count": null,
   "metadata": {
    "jupyter": {
     "source_hidden": true
    },
    "tags": [
     "hide-input",
     "full-width"
    ]
   },
   "outputs": [],
   "source": [
    "def to_regex(text: str) -> str:\n",
    "    regex = text\n",
    "    regex = regex.replace(\"(\", R\"\\(\")\n",
    "    regex = regex.replace(\")\", R\"\\)\")\n",
    "    return regex\n",
    "\n",
    "\n",
    "def plot_polarization_field_per_resonance(reference_subsystem: int) -> None:\n",
    "    spectator = FINAL_STATE[reference_subsystem]\n",
    "    subsystem_name = subsystem_identifiers[reference_subsystem - 1]\n",
    "    subsystem_resonances = [\n",
    "        chain.resonance\n",
    "        for chain in DECAY.chains\n",
    "        if chain.resonance.name.startswith(subsystem_name)\n",
    "    ]\n",
    "    ncols = 3\n",
    "    nrows = math.ceil(len(subsystem_resonances) / ncols)\n",
    "    fig, axes = plt.subplots(\n",
    "        figsize={1: (13, 5), 2: (13, 9.5)}[nrows],\n",
    "        gridspec_kw={\"width_ratios\": [1, 1, 1.13]},\n",
    "        ncols=3,\n",
    "        nrows=nrows,\n",
    "        sharex=True,\n",
    "        sharey=True,\n",
    "        tight_layout=True,\n",
    "    )\n",
    "    fig.suptitle(\n",
    "        f\"Polarization field, aligned to ${spectator}$\",\n",
    "        y={1: 0.92, 2: 0.96}[nrows],\n",
    "    )\n",
    "    for i, (ax, resonance) in enumerate(zip(axes.flatten(), subsystem_resonances)):\n",
    "        non_zero_couplings = [to_regex(resonance.name)]\n",
    "        polarizations = [\n",
    "            compute_sub_function(func, data_sample, non_zero_couplings)\n",
    "            for func in polarization_funcs[reference_subsystem]\n",
    "        ]\n",
    "        polarizations = jnp.array(polarizations).real\n",
    "        abs_alpha = jnp.sqrt(jnp.sum(polarizations**2, axis=0))\n",
    "        mesh = plot_polarization_field(\n",
    "            polarizations,\n",
    "            ax=ax,\n",
    "            cmap=cm.viridis,\n",
    "            strides=22,\n",
    "        )\n",
    "        mean = jnp.nanmean(abs_alpha)\n",
    "        std = jnp.nanstd(abs_alpha)\n",
    "\n",
    "        ax.text(\n",
    "            x=1.85,\n",
    "            y=4.45,\n",
    "            s=Rf\"$\\overline{{\\left|\\vec\\alpha\\right|}} = {mean:.3f} \\pm {std:.3f}$\",\n",
    "            fontsize=12,\n",
    "            horizontalalignment=\"right\",\n",
    "        )\n",
    "        ax.set_title(f\"${resonance.latex}$\")\n",
    "        if i % 3 == 2:\n",
    "            color_bar = fig.colorbar(mesh, ax=ax, pad=0.01)\n",
    "            color_bar.set_label(R\"$\\left|\\vec{\\alpha}\\right|$\")\n",
    "    plt.show()\n",
    "\n",
    "\n",
    "for reference_subsystem in tqdm([1, 2, 3]):\n",
    "    plot_polarization_field_per_resonance(reference_subsystem)\n",
    "    del reference_subsystem"
   ]
  },
  {
   "cell_type": "code",
   "execution_count": null,
   "metadata": {
    "jupyter": {
     "source_hidden": true
    },
    "tags": [
     "hide-input",
     "full-width"
    ]
   },
   "outputs": [],
   "source": [
    "fig, axes = plt.subplots(\n",
    "    figsize=(12, 4.9),\n",
    "    gridspec_kw={\"width_ratios\": [1, 1, 1.14]},\n",
    "    ncols=3,\n",
    "    sharey=True,\n",
    "    tight_layout=True,\n",
    ")\n",
    "fig.suptitle(\"Polarization field per sub-system\", y=0.93)\n",
    "items = zip(axes, [1, 2, 3], subsystem_identifiers, subsystem_labels)\n",
    "for ax, reference_subsystem, subsystem_name, subsystem_label in items:\n",
    "    non_zero_couplings = [subsystem_name]\n",
    "    polarizations = [\n",
    "        compute_sub_function(func, data_sample, non_zero_couplings)\n",
    "        for func in polarization_funcs[reference_subsystem]\n",
    "    ]\n",
    "    polarizations = jnp.array(polarizations).real\n",
    "    abs_alpha = jnp.sqrt(jnp.sum(polarizations**2, axis=0))\n",
    "    mesh = plot_polarization_field(\n",
    "        polarizations,\n",
    "        ax=ax,\n",
    "        cmap=cm.viridis,\n",
    "        strides=18,\n",
    "    )\n",
    "    mean = jnp.nanmean(abs_alpha)\n",
    "    std = jnp.nanstd(abs_alpha)\n",
    "\n",
    "    ax.text(\n",
    "        x=1.8,\n",
    "        y=4.4,\n",
    "        s=Rf\"$\\overline{{\\left|\\vec\\alpha\\right|}} = {mean:.3f} \\pm {std:.3f}$\",\n",
    "        fontsize=12,\n",
    "        horizontalalignment=\"right\",\n",
    "    )\n",
    "    spectator = FINAL_STATE[reference_subsystem]\n",
    "    ax.set_title(f\"${subsystem_label}$ (aligned to ${spectator}$)\")\n",
    "    if ax is axes[-1]:\n",
    "        color_bar = fig.colorbar(mesh, ax=ax, pad=0.01)\n",
    "        color_bar.set_label(R\"$\\left|\\vec{\\alpha}\\right|$\")"
   ]
  }
 ],
 "metadata": {
  "kernelspec": {
   "display_name": "Python 3 (ipykernel)",
   "language": "python",
   "name": "python3"
  },
  "language_info": {
   "codemirror_mode": {
    "name": "ipython",
    "version": 3
   },
   "file_extension": ".py",
   "mimetype": "text/x-python",
   "name": "python",
   "nbconvert_exporter": "python",
   "pygments_lexer": "ipython3",
   "version": "3.8.13"
  }
 },
 "nbformat": 4,
 "nbformat_minor": 4
}
