{
 "cells": [
  {
   "cell_type": "markdown",
   "metadata": {},
   "source": [
    "# Polarization sensitivity"
   ]
  },
  {
   "cell_type": "code",
   "execution_count": null,
   "metadata": {
    "tags": [
     "remove-cell"
    ]
   },
   "outputs": [],
   "source": [
    "%%capture\n",
    "%run ./phase-space.ipynb"
   ]
  },
  {
   "cell_type": "markdown",
   "metadata": {},
   "source": [
    "```{autolink-concat}\n",
    "```"
   ]
  },
  {
   "cell_type": "code",
   "execution_count": null,
   "metadata": {
    "jupyter": {
     "source_hidden": true
    },
    "tags": [
     "hide-cell",
     "scroll-input"
    ]
   },
   "outputs": [],
   "source": [
    "# pyright: reportUndefinedVariable=false\n",
    "from __future__ import annotations\n",
    "\n",
    "import re\n",
    "from typing import Pattern\n",
    "\n",
    "import jax.numpy as jnp\n",
    "import matplotlib.pyplot as plt\n",
    "import numpy as np\n",
    "import sympy as sp\n",
    "from ampform.sympy import PoolSum\n",
    "from IPython.display import Markdown, Math\n",
    "from matplotlib import cm\n",
    "from matplotlib.colors import LogNorm\n",
    "from sympy.physics.matrices import msigma\n",
    "from tensorwaves.function import ParametrizedBackendFunction\n",
    "from tensorwaves.function.sympy import create_parametrized_function\n",
    "from tqdm.notebook import tqdm\n",
    "\n",
    "from polarization import formulate_polarization\n",
    "from polarization.io import perform_cached_doit"
   ]
  },
  {
   "cell_type": "markdown",
   "metadata": {},
   "source": [
    "## SymPy expressions"
   ]
  },
  {
   "cell_type": "code",
   "execution_count": null,
   "metadata": {},
   "outputs": [],
   "source": [
    "%%time\n",
    "polarization_exprs = formulate_polarization(amplitude_builder)\n",
    "unfolded_polarization_exprs = [\n",
    "    perform_cached_doit(expr.doit().xreplace(model.amplitudes))\n",
    "    for expr in tqdm(polarization_exprs, desc=\"Unfolding polarization expressions\")\n",
    "]\n",
    "unfolded_intensity_expr = perform_cached_doit(model.full_expression)"
   ]
  },
  {
   "cell_type": "markdown",
   "metadata": {},
   "source": [
    "## Definition of free parameters"
   ]
  },
  {
   "cell_type": "code",
   "execution_count": null,
   "metadata": {
    "tags": []
   },
   "outputs": [],
   "source": [
    "free_parameters = {\n",
    "    symbol: value\n",
    "    for symbol, value in model.parameter_defaults.items()\n",
    "    if symbol in production_couplings\n",
    "}\n",
    "fixed_parameters = {\n",
    "    symbol: value\n",
    "    for symbol, value in model.parameter_defaults.items()\n",
    "    if symbol not in free_parameters\n",
    "}\n",
    "fixed_parameters.update(masses)"
   ]
  },
  {
   "cell_type": "code",
   "execution_count": null,
   "metadata": {
    "tags": []
   },
   "outputs": [],
   "source": [
    "subs_polarization_exprs = [\n",
    "    expr.xreplace(fixed_parameters) for expr in unfolded_polarization_exprs\n",
    "]\n",
    "subs_intensity_expr = unfolded_intensity_expr.xreplace(fixed_parameters)"
   ]
  },
  {
   "cell_type": "code",
   "execution_count": null,
   "metadata": {
    "jupyter": {
     "source_hidden": true
    },
    "tags": [
     "remove-input"
    ]
   },
   "outputs": [],
   "source": [
    "src = \"Number of operations after substituting non-production-couplings:\\n\"\n",
    "for xyz, (expr, subs_expr) in enumerate(\n",
    "    zip(unfolded_polarization_exprs, subs_polarization_exprs)\n",
    "):\n",
    "    old_n_ops = sp.count_ops(expr)\n",
    "    new_n_ops = sp.count_ops(subs_expr)\n",
    "    src += Rf\"- $\\alpha_{'xyz'[xyz]}$: from {old_n_ops:,} to {new_n_ops:,}\" + \"\\n\"\n",
    "src += (\n",
    "    Rf\"- $I_\\mathrm{{tot}}$: from {sp.count_ops(unfolded_intensity_expr):,} to\"\n",
    "    rf\" {sp.count_ops(subs_intensity_expr):,}\"\n",
    ")\n",
    "Markdown(src)"
   ]
  },
  {
   "cell_type": "markdown",
   "metadata": {},
   "source": [
    "## Polarization distributions"
   ]
  },
  {
   "cell_type": "code",
   "execution_count": null,
   "metadata": {
    "tags": []
   },
   "outputs": [],
   "source": [
    "polarization_funcs = [\n",
    "    create_parametrized_function(\n",
    "        subs_polarization_exprs[xyz],\n",
    "        parameters=free_parameters,\n",
    "        backend=\"jax\",\n",
    "    )\n",
    "    for xyz in tqdm(range(3))\n",
    "]\n",
    "intensity_func = create_parametrized_function(\n",
    "    subs_intensity_expr,\n",
    "    parameters=free_parameters,\n",
    "    backend=\"jax\",\n",
    ")"
   ]
  },
  {
   "cell_type": "code",
   "execution_count": null,
   "metadata": {
    "jupyter": {
     "source_hidden": true
    },
    "tags": [
     "remove-input"
    ]
   },
   "outputs": [],
   "source": [
    "def compute_sub_func(\n",
    "    func: ParametrizedBackendFunction, input_data, non_zero_couplings: list[str]\n",
    ") -> None:\n",
    "    old_parameters = dict(func.parameters)\n",
    "    pattern = rf\"\\\\mathcal{{H}}.*\\[(?!{'|'.join(non_zero_couplings)})\"\n",
    "    set_parameter_to_zero(func, pattern)\n",
    "    array = func(input_data)\n",
    "    func.update_parameters(old_parameters)\n",
    "    return array\n",
    "\n",
    "\n",
    "def set_parameter_to_zero(\n",
    "    func: ParametrizedBackendFunction, search_term: Pattern\n",
    ") -> None:\n",
    "    new_parameters = dict(func.parameters)\n",
    "    no_parameters_selected = True\n",
    "    for par_name in func.parameters:\n",
    "        if re.match(search_term, par_name) is not None:\n",
    "            new_parameters[par_name] = 0\n",
    "            no_parameters_selected = False\n",
    "    if no_parameters_selected:\n",
    "        logging.warning(f\"All couplings were set to zero for search term {search_term}\")\n",
    "    func.update_parameters(new_parameters)\n",
    "\n",
    "\n",
    "def render_mean(array, weights=None, plus=True):\n",
    "    array = array.real\n",
    "    if weights is None:\n",
    "        mean = jnp.nanmean(array)\n",
    "        std = jnp.nanstd(array)\n",
    "    else:\n",
    "        mean = compute_weighted_average(array, weights)\n",
    "        variance = compute_weighted_average((array - mean) ** 2, weights)\n",
    "        std = jnp.sqrt(variance)\n",
    "    mean = f\"{mean:.3f}\"\n",
    "    std = f\"{std:.3f}\"\n",
    "    if plus and float(mean) > 0:\n",
    "        mean = f\"+{mean}\"\n",
    "    return Rf\"{mean} \\pm {std}\"\n",
    "\n",
    "\n",
    "def compute_weighted_average(values, weights):\n",
    "    return jnp.nansum(values * weights) / jnp.nansum(weights)\n",
    "\n",
    "\n",
    "def create_average_polarization_table(average_with_intensity: bool) -> None:\n",
    "    latex = R\"\\begin{array}{cccc}\" + \"\\n\"\n",
    "    latex += R\"& \\bar{|\\alpha|} & \\bar\\alpha_x & \\bar\\alpha_y & \\bar\\alpha_z \\\\\" + \"\\n\"\n",
    "    if average_with_intensity:\n",
    "        weights = intensity_func(data_sample)\n",
    "    else:\n",
    "        weights = None\n",
    "    for label, identifier in zip(subsystem_labels, subsystem_identifiers):\n",
    "        latex += f\"  {label} & \"\n",
    "        x, y, z = (\n",
    "            compute_sub_func(polarization_funcs[xyz], data_sample, [identifier])\n",
    "            for xyz in range(3)\n",
    "        )\n",
    "        alpha_abs = jnp.sqrt(x**2 + y**2 + z**2)\n",
    "        latex += render_mean(alpha_abs, weights, plus=False) + \" & \"\n",
    "        latex += \" & \".join(render_mean(i, weights) for i in [x, y, z])\n",
    "        latex += R\" \\\\\" + \"\\n\"\n",
    "    latex += R\"\\end{array}\"\n",
    "    display(Math(latex))\n",
    "\n",
    "\n",
    "X, Y, data_sample, phsp_filter = generate_uniform_phsp(resolution=400)\n",
    "\n",
    "subsystem_identifiers = [\"K\", \"L\", \"D\"]\n",
    "subsystem_labels = [\"K^{**}\", R\"\\Lambda^{**}\", R\"\\Delta^{**}\"]\n",
    "create_average_polarization_table(average_with_intensity=False)\n",
    "display(Markdown(\"Average with intensity weights:\"))\n",
    "create_average_polarization_table(average_with_intensity=True)"
   ]
  },
  {
   "cell_type": "code",
   "execution_count": null,
   "metadata": {
    "tags": [
     "remove-input"
    ]
   },
   "outputs": [],
   "source": [
    "%config InlineBackend.figure_formats = ['png']"
   ]
  },
  {
   "cell_type": "code",
   "execution_count": null,
   "metadata": {
    "jupyter": {
     "source_hidden": true
    },
    "tags": [
     "scroll-input",
     "full-width",
     "hide-input"
    ]
   },
   "outputs": [],
   "source": [
    "%%time\n",
    "nrows = 4\n",
    "ncols = 5\n",
    "scale = 3.0\n",
    "aspect_ratio = 1.15\n",
    "fig, axes = plt.subplots(\n",
    "    figsize=scale * np.array([ncols, aspect_ratio * nrows]),\n",
    "    ncols=ncols,\n",
    "    nrows=nrows,\n",
    "    sharex=True,\n",
    "    sharey=True,\n",
    "    gridspec_kw={\"width_ratios\": (ncols - 1) * [1] + [1.24]},\n",
    "    tight_layout=True,\n",
    ")\n",
    "\n",
    "s1_label = R\"$\\sigma_1=m^2\\left(K\\pi\\right)$\"\n",
    "s2_label = R\"$\\sigma_2=m^2\\left(pK\\right)$\"\n",
    "for subsystem in range(nrows):\n",
    "    for i in range(ncols):\n",
    "        ax = axes[subsystem, i]\n",
    "        if i == 0:\n",
    "            alpha_str = R\"I_\\mathrm{tot}\"\n",
    "        elif i == 1:\n",
    "            alpha_str = R\"|\\alpha|\"\n",
    "        else:\n",
    "            xyz = i - 2\n",
    "            alpha_str = Rf\"\\alpha_{'xyz'[xyz]}\"\n",
    "        title = alpha_str\n",
    "        if subsystem > 0:\n",
    "            label = subsystem_labels[subsystem - 1]\n",
    "            title = Rf\"{title}\\left({label}\\right)\"\n",
    "        ax.set_title(f\"${title}$\")\n",
    "        if ax is axes[-1, i]:\n",
    "            ax.set_xlabel(s1_label)\n",
    "        if i == 0:\n",
    "            ax.set_ylabel(s2_label)\n",
    "\n",
    "intensity_arrays = []\n",
    "polarization_arrays = []\n",
    "for subsystem in range(nrows):\n",
    "    # alpha_xyz distributions\n",
    "    alpha_xyz_arrays = []\n",
    "    for i in range(2, ncols):\n",
    "        xyz = i - 2\n",
    "        if subsystem == 0:\n",
    "            z_values = polarization_funcs[xyz](data_sample)\n",
    "            polarization_arrays.append(z_values)\n",
    "        else:\n",
    "            identifier = subsystem_identifiers[subsystem - 1]\n",
    "            z_values = compute_sub_func(\n",
    "                polarization_funcs[xyz], data_sample, identifier\n",
    "            )\n",
    "        z_values = np.real(z_values)\n",
    "        alpha_xyz_arrays.append(z_values)\n",
    "        mesh = axes[subsystem, i].pcolormesh(X, Y, z_values, cmap=cm.coolwarm)\n",
    "        if xyz == 2:\n",
    "            fig.colorbar(mesh, ax=axes[subsystem, i])\n",
    "        mesh.set_clim(vmin=-1, vmax=+1)\n",
    "    # absolute value of alpha_xyz vector\n",
    "    alpha_abs = np.sqrt(np.sum(np.array(alpha_xyz_arrays) ** 2, axis=0))\n",
    "    mesh = axes[subsystem, 1].pcolormesh(X, Y, alpha_abs, cmap=cm.coolwarm)\n",
    "    mesh.set_clim(vmin=-1, vmax=+1)\n",
    "    # total intensity\n",
    "    if subsystem == 0:\n",
    "        z_values = intensity_func(data_sample)\n",
    "    else:\n",
    "        identifier = subsystem_identifiers[subsystem - 1]\n",
    "        z_values = compute_sub_func(intensity_func, data_sample, identifier)\n",
    "    intensity_arrays.append(z_values)\n",
    "    axes[subsystem, 0].pcolormesh(X, Y, z_values, norm=LogNorm())\n",
    "plt.show()"
   ]
  },
  {
   "cell_type": "code",
   "execution_count": null,
   "metadata": {
    "jupyter": {
     "source_hidden": true
    },
    "tags": [
     "hide-input"
    ]
   },
   "outputs": [],
   "source": [
    "fig, axes = plt.subplots(\n",
    "    figsize=(13, 5),\n",
    "    ncols=3,\n",
    "    gridspec_kw={\"width_ratios\": [1, 1, 1.2]},\n",
    "    sharey=True,\n",
    "    tight_layout=True,\n",
    ")\n",
    "axes[0].set_ylabel(s2_label)\n",
    "I_times_alpha = jnp.array(\n",
    "    [array * intensity_arrays[0] for array in polarization_arrays]\n",
    ")\n",
    "global_min_max = float(jnp.nanmax(jnp.abs(I_times_alpha)))\n",
    "for ax, z_values, xyz in zip(axes, I_times_alpha, \"xyz\"):\n",
    "    ax.set_title(Rf\"$\\alpha_{xyz} \\cdot I$\")\n",
    "    ax.set_xlabel(s1_label)\n",
    "    mesh = ax.pcolormesh(X, Y, np.real(z_values), cmap=cm.RdYlGn_r)\n",
    "    mesh.set_clim(vmin=-global_min_max, vmax=global_min_max)\n",
    "color_bar = fig.colorbar(mesh, ax=ax, pad=0.02)\n",
    "plt.show()"
   ]
  },
  {
   "cell_type": "code",
   "execution_count": null,
   "metadata": {
    "tags": [
     "remove-input"
    ]
   },
   "outputs": [],
   "source": [
    "%config InlineBackend.figure_formats = ['svg']"
   ]
  },
  {
   "cell_type": "code",
   "execution_count": null,
   "metadata": {
    "jupyter": {
     "source_hidden": true
    },
    "tags": [
     "hide-input"
    ]
   },
   "outputs": [],
   "source": [
    "fig, ax = plt.subplots(figsize=(9, 8), tight_layout=True)\n",
    "ax.set_title(R\"Total polarization field $\\vec{\\alpha}$\")\n",
    "ax.set_xlabel(s1_label + R\",$\\quad\\vec{\\alpha}_x$\")\n",
    "ax.set_ylabel(s2_label + R\",$\\quad\\vec{\\alpha}_y$\")\n",
    "strides = 10\n",
    "mesh = ax.quiver(\n",
    "    X[::strides, ::strides],\n",
    "    Y[::strides, ::strides],\n",
    "    np.real(polarization_arrays[0][::strides, ::strides]),\n",
    "    np.real(polarization_arrays[1][::strides, ::strides]),\n",
    "    np.real(polarization_arrays[2][::strides, ::strides]),\n",
    "    cmap=cm.coolwarm,\n",
    ")\n",
    "mesh.set_clim(vmin=-1, vmax=+1)\n",
    "color_bar = fig.colorbar(mesh, ax=ax, pad=0.01)\n",
    "color_bar.ax.set_yticks([-1, 0, 1])\n",
    "color_bar.ax.set_yticklabels([\"-1\", \"0\", \"+1\"])\n",
    "color_bar.set_label(R\"$\\vec{\\alpha}_z$\")\n",
    "plt.show()"
   ]
  },
  {
   "cell_type": "markdown",
   "metadata": {},
   "source": [
    "## Benchmarking"
   ]
  },
  {
   "cell_type": "markdown",
   "metadata": {},
   "source": [
    ":::{tip}\n",
    "Compare with Julia results as reported in [redeboer/polarization-sensitivity#27](https://github.com/redeboer/polarization-sensitivity/issues/27).\n",
    ":::"
   ]
  },
  {
   "cell_type": "code",
   "execution_count": null,
   "metadata": {},
   "outputs": [],
   "source": [
    "phsp = generate_phasespace_sample(100_000, seed=0)\n",
    "%timeit transformer(phsp)\n",
    "phsp = transformer(phsp)"
   ]
  },
  {
   "cell_type": "code",
   "execution_count": null,
   "metadata": {},
   "outputs": [],
   "source": [
    "random_point = {k: v[0] if len(v.shape) > 0 else v for k, v in phsp.items()}\n",
    "%timeit intensity_func(random_point)"
   ]
  },
  {
   "cell_type": "code",
   "execution_count": null,
   "metadata": {},
   "outputs": [],
   "source": [
    "%%timeit\n",
    "polarization_funcs[0](random_point)\n",
    "polarization_funcs[1](random_point)\n",
    "polarization_funcs[2](random_point)"
   ]
  },
  {
   "cell_type": "code",
   "execution_count": null,
   "metadata": {},
   "outputs": [],
   "source": [
    "X54, Y54, data_sample54, _ = generate_uniform_phsp(resolution=54)\n",
    "%timeit intensity_func(data_sample54)"
   ]
  },
  {
   "cell_type": "code",
   "execution_count": null,
   "metadata": {},
   "outputs": [],
   "source": [
    "%%timeit\n",
    "polarization_funcs[0](data_sample54)\n",
    "polarization_funcs[1](data_sample54)\n",
    "polarization_funcs[2](data_sample54)"
   ]
  },
  {
   "cell_type": "code",
   "execution_count": null,
   "metadata": {
    "tags": [
     "remove-input"
    ]
   },
   "outputs": [],
   "source": [
    "%config InlineBackend.figure_formats = ['png']"
   ]
  },
  {
   "cell_type": "code",
   "execution_count": null,
   "metadata": {
    "jupyter": {
     "source_hidden": true
    },
    "tags": [
     "hide-input"
    ]
   },
   "outputs": [],
   "source": [
    "intensity54 = intensity_func(data_sample54)\n",
    "fig, ax = plt.subplots(figsize=(4, 4))\n",
    "ax.pcolormesh(X54, Y54, intensity54)\n",
    "plt.show()"
   ]
  },
  {
   "cell_type": "code",
   "execution_count": null,
   "metadata": {},
   "outputs": [],
   "source": [
    "%%timeit\n",
    "polarization_funcs[0](data_sample54)\n",
    "polarization_funcs[1](data_sample54)\n",
    "polarization_funcs[2](data_sample54)"
   ]
  },
  {
   "cell_type": "code",
   "execution_count": null,
   "metadata": {},
   "outputs": [],
   "source": [
    "%%timeit\n",
    "intensity_func(phsp)"
   ]
  },
  {
   "cell_type": "code",
   "execution_count": null,
   "metadata": {},
   "outputs": [],
   "source": [
    "%%timeit\n",
    "polarization_funcs[0](phsp)\n",
    "polarization_funcs[1](phsp)\n",
    "polarization_funcs[2](phsp)"
   ]
  }
 ],
 "metadata": {
  "kernelspec": {
   "display_name": "Python 3 (ipykernel)",
   "language": "python",
   "name": "python3"
  },
  "language_info": {
   "codemirror_mode": {
    "name": "ipython",
    "version": 3
   },
   "file_extension": ".py",
   "mimetype": "text/x-python",
   "name": "python",
   "nbconvert_exporter": "python",
   "pygments_lexer": "ipython3",
   "version": "3.8.13"
  }
 },
 "nbformat": 4,
 "nbformat_minor": 4
}
