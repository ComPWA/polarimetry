{
 "cells": [
  {
   "cell_type": "markdown",
   "metadata": {},
   "source": [
    "# Polarimetry in Λ<sub>c</sub>⁺&nbsp;→&nbsp;p&nbsp;K⁻&nbsp;π⁺"
   ]
  },
  {
   "cell_type": "markdown",
   "metadata": {},
   "source": [
    ":::{title} Welcome\n",
    ":::\n",
    "\n",
    "[![10.48550/arXiv.2301.07010](https://zenodo.org/badge/doi/10.48550/arXiv.2301.07010.svg)](https://doi.org/10.48550/arXiv.2301.07010)\n",
    "[![10.5281/zenodo.7544989](https://zenodo.org/badge/doi/10.5281/zenodo.7544989.svg)](https://doi.org/10.5281/zenodo.7544989)"
   ]
  },
  {
   "cell_type": "markdown",
   "metadata": {},
   "source": [
    "<!-- cspell:disable -->\n",
    ":::{card} $\\Lambda^+_\\mathrm{c}$ polarimetry using the dominant hadronic mode\n",
    ":link: https://doi.org/10.1007/JHEP07(2023)228\n",
    "The polarimeter vector field for multibody decays of a spin-half baryon is introduced as a generalisation of the baryon asymmetry parameters. Using a recent amplitude analysis of the $\\Lambda^+_\\mathrm{c} \\to p K^- \\pi^+$ decay performed at the LHCb experiment, we compute the distribution of the kinematic-dependent polarimeter vector for this process in the space of Mandelstam variables to express the polarised decay rate in a model-agnostic form. The obtained representation can facilitate polarisation measurements of the $\\Lambda^+_\\mathrm{c}$ baryon and eases inclusion of the $\\Lambda^+_\\mathrm{c} \\to p K^- \\pi^+$ decay mode in hadronic amplitude analyses.\n",
    ":::\n",
    "<!-- cspell:enable -->"
   ]
  },
  {
   "cell_type": "markdown",
   "metadata": {},
   "source": [
    ":::::{only} html\n",
    "::::{grid} 1 2 2 2\n",
    ":margin: 4 4 0 0\n",
    ":gutter: 1\n",
    "\n",
    ":::{grid-item-card} {material-regular}`functions` Symbolic expressions\n",
    ":link: amplitude-model\n",
    ":link-type: doc\n",
    "Compute the amplitude model over large data samples with symbolic expressions.\n",
    ":::\n",
    "\n",
    ":::{grid-item-card} {octicon}`file-code` JSON grids\n",
    ":link: exported-distributions\n",
    ":link-type: ref\n",
    "Reuse the computed polarimeter field in any amplitude analysis involving $\\Lambda_\\mathrm{c}^+$.\n",
    ":::\n",
    "\n",
    ":::{grid-item-card} {material-regular}`ads_click` Inspect interactively\n",
    ":link: appendix/widget\n",
    ":link-type: doc\n",
    "Investigate how parameters in the amplitude model affect the polarimeter field.\n",
    ":::\n",
    "\n",
    ":::{grid-item-card} {octicon}`book` Compute polarization\n",
    ":link: zz.polarization-fit\n",
    ":link-type: doc\n",
    "Learn how to determine the polarization vector using the polarimeter field.\n",
    ":::\n",
    "\n",
    "{{ DOWNLOAD_SINGLE_PDF }}\n",
    "::::\n",
    ":::::"
   ]
  },
  {
   "cell_type": "markdown",
   "metadata": {},
   "source": [
    "This website shows all analysis results that led to the publication of [LHCb-PAPER-2022-044](https://cds.cern.ch/record/2838694). More information on this publication can be found on the following pages:\n",
    "\n",
    "- Publication on JHEP: [J. High Energ. Phys. 2023, 228 (2023)](<https://doi.org/10.1007/JHEP07(2023)228>)\n",
    "  <!-- cspell:ignore Energ -->\n",
    "- Publication on arXiv: [arXiv:2301.07010](https://arxiv.org/abs/2301.07010)\n",
    "- Record on CDS: [cds.cern.ch/record/2838694](https://cds.cern.ch/record/2838694)\n",
    "- Record for the source code on Zenodo: [10.5281/zenodo.7544989](https://doi.org/10.5281/zenodo.7544989)\n",
    "- Archived documentation on GitLab Pages: [lc2pkpi-polarimetry.docs.cern.ch](https://lc2pkpi-polarimetry.docs.cern.ch)\n",
    "- Archived repository on CERN GitLab: [gitlab.cern.ch/polarimetry/Lc2pKpi](https://gitlab.cern.ch/polarimetry/Lc2pKpi)\n",
    "- Active repository on GitHub containing discussions: [github.com/ComPWA/polarimetry](https://github.com/ComPWA/polarimetry)"
   ]
  },
  {
   "cell_type": "markdown",
   "metadata": {},
   "source": [
    ":::{admonition} Behind SSO login (LHCb members only)\n",
    ":class: toggle\n",
    "- LHCb TWiki page: [twiki.cern.ch/twiki/bin/viewauth/LHCbPhysics/PolarimetryLc2pKpi](https://twiki.cern.ch/twiki/bin/viewauth/LHCbPhysics/PolarimetryLc2pKpi)\n",
    "- Charm WG meeting: [indico.cern.ch/event/1187317](https://indico.cern.ch/event/1187317)\n",
    "- RC approval presentation: [indico.cern.ch/event/1213570](https://indico.cern.ch/event/1213570)\n",
    "- Silent approval to submit: [indico.cern.ch/event/1242323](https://indico.cern.ch/event/1242323)\n",
    "<!-- cspell:ignore lc2pkpi -->\n",
    ":::"
   ]
  },
  {
   "cell_type": "markdown",
   "metadata": {},
   "source": [
    "::::{only} latex\n",
    ":::{note}\n",
    "This document is a PDF rendering of the supplemental material hosted behind SSO-login on [lc2pkpi‑polarimetry.docs.cern.ch](https://lc2pkpi-polarimetry.docs.cern.ch). Go to this webpage for a more extensive and interactive experience.\n",
    ":::\n",
    "::::"
   ]
  },
  {
   "cell_type": "markdown",
   "metadata": {},
   "source": [
    "## Python package"
   ]
  },
  {
   "cell_type": "markdown",
   "metadata": {
    "editable": true,
    "slideshow": {
     "slide_type": ""
    },
    "tags": []
   },
   "source": [
    "[![PyPI package](https://badge.fury.io/py/polarimetry-lc2pkpi.svg)](https://pypi.org/project/polarimetry-lc2pkpi)\n",
    "[![Supported Python versions](https://img.shields.io/pypi/pyversions/polarimetry-lc2pkpi)](https://pypi.org/project/polarimetry-lc2pkpi)\n",
    "\n",
    "Each of the pages contain code examples for how to reproduce the results with the Python package hosted at [github.com/ComPWA/polarimetry](https://github.com/ComPWA/polarimetry). However, to quickly get import the model in another package, it is possible to install the package from PyPI:\n",
    "\n",
    "```bash\n",
    "pip install polarimetry-lc2pkpi\n",
    "```\n",
    "\n",
    ":::{autolink-concat}\n",
    ":::\n",
    "\n",
    "Each of the models can then simply be imported as"
   ]
  },
  {
   "cell_type": "code",
   "execution_count": null,
   "metadata": {
    "editable": true,
    "jupyter": {
     "source_hidden": true
    },
    "slideshow": {
     "slide_type": ""
    },
    "tags": [
     "remove-input"
    ]
   },
   "outputs": [],
   "source": [
    "from polarimetry.amplitude import simplify_latex_rendering\n",
    "\n",
    "simplify_latex_rendering()"
   ]
  },
  {
   "cell_type": "code",
   "execution_count": null,
   "metadata": {
    "editable": true,
    "slideshow": {
     "slide_type": ""
    },
    "tags": [
     "full-width"
    ]
   },
   "outputs": [],
   "source": [
    "import polarimetry\n",
    "\n",
    "model = polarimetry.published_model(\"Default amplitude model\")\n",
    "model.intensity.cleanup()"
   ]
  },
  {
   "cell_type": "markdown",
   "metadata": {},
   "source": [
    "For more examples of how to use the codebase, see the following pages."
   ]
  },
  {
   "cell_type": "markdown",
   "metadata": {
    "editable": true,
    "slideshow": {
     "slide_type": ""
    },
    "tags": []
   },
   "source": [
    "```{toctree}\n",
    "---\n",
    "caption: Table of contents\n",
    "maxdepth: 2\n",
    "numbered:\n",
    "---\n",
    "amplitude-model\n",
    "cross-check\n",
    "intensity\n",
    "polarimetry\n",
    "uncertainties\n",
    "resonance-polarimetry\n",
    "appendix\n",
    "references\n",
    "API <api/polarimetry>\n",
    "```"
   ]
  },
  {
   "cell_type": "markdown",
   "metadata": {
    "editable": true,
    "slideshow": {
     "slide_type": ""
    },
    "tags": []
   },
   "source": [
    ":::{only} html\n",
    "```{toctree}\n",
    "---\n",
    "caption: External links\n",
    "hidden:\n",
    "---\n",
    "JHEP <https://doi.org/10.1007/JHEP07(2023)228>\n",
    "arXiv:2301.07010 <https://arxiv.org/abs/2301.07010>\n",
    "ComPWA Project <https://compwa.github.io>\n",
    "GitHub repository <https://github.com/ComPWA/polarimetry>\n",
    "CERN GitLab (archived) <https://gitlab.cern.ch/polarimetry/Lc2pKpi>\n",
    "```\n",
    ":::\n",
    "\n",
    "{{ LINK_TO_JULIA_PAGES }}\n",
    "\n",
    "{{ DOWNLOAD_PAPER_FIGURES }}\n",
    "\n",
    "::::{dropdown} Notebook execution times\n",
    ":::{nb-exec-table}\n",
    ":::\n",
    "::::"
   ]
  }
 ],
 "metadata": {
  "colab": {
   "toc_visible": true
  },
  "kernelspec": {
   "display_name": "Python 3 (ipykernel)",
   "language": "python",
   "name": "python3"
  },
  "language_info": {
   "codemirror_mode": {
    "name": "ipython",
    "version": 3
   },
   "file_extension": ".py",
   "mimetype": "text/x-python",
   "name": "python",
   "nbconvert_exporter": "python",
   "pygments_lexer": "ipython3",
   "version": "3.9.18"
  },
  "myst": {
   "all_links_external": true
  }
 },
 "nbformat": 4,
 "nbformat_minor": 4
}
