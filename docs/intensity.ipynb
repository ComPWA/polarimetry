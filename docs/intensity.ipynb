{
 "cells": [
  {
   "cell_type": "markdown",
   "metadata": {
    "tags": []
   },
   "source": [
    "# Intensity distribution"
   ]
  },
  {
   "cell_type": "markdown",
   "metadata": {},
   "source": [
    "```{autolink-concat}\n",
    "```"
   ]
  },
  {
   "cell_type": "code",
   "execution_count": null,
   "metadata": {
    "jupyter": {
     "source_hidden": true
    },
    "tags": [
     "hide-cell",
     "scroll-input"
    ]
   },
   "outputs": [],
   "source": [
    "from __future__ import annotations\n",
    "\n",
    "import logging\n",
    "import re\n",
    "from itertools import product\n",
    "from typing import Pattern\n",
    "\n",
    "import jax.numpy as jnp\n",
    "import matplotlib.pyplot as plt\n",
    "import numpy as np\n",
    "import sympy as sp\n",
    "from ampform.helicity.naming import natural_sorting\n",
    "from IPython.display import Markdown\n",
    "from matplotlib.collections import LineCollection, PathCollection\n",
    "from matplotlib.colors import LogNorm\n",
    "from matplotlib.contour import QuadContourSet\n",
    "from tensorwaves.function import ParametrizedBackendFunction\n",
    "from tensorwaves.function.sympy import create_parametrized_function\n",
    "from tqdm.auto import tqdm\n",
    "\n",
    "from polarization.amplitude import DalitzPlotDecompositionBuilder\n",
    "from polarization.data import (\n",
    "    create_data_transformer,\n",
    "    generate_meshgrid_sample,\n",
    "    generate_phasespace_sample,\n",
    ")\n",
    "from polarization.decay import Particle\n",
    "from polarization.function import compute_sub_function\n",
    "from polarization.io import mute_jax_warnings, perform_cached_doit\n",
    "from polarization.lhcb import load_model_parameters, load_three_body_decays\n",
    "\n",
    "mute_jax_warnings()\n",
    "\n",
    "reference_subsystem = 1\n",
    "dynamics_configurator = load_three_body_decays(\"../data/isobars.json\")\n",
    "decay = dynamics_configurator.decay\n",
    "amplitude_builder = DalitzPlotDecompositionBuilder(decay)\n",
    "amplitude_builder.dynamics_choices = dynamics_configurator\n",
    "model = amplitude_builder.formulate(reference_subsystem)\n",
    "imported_parameter_values = load_model_parameters(\"../data/modelparameters.json\", decay)\n",
    "model.parameter_defaults.update(imported_parameter_values)"
   ]
  },
  {
   "cell_type": "code",
   "execution_count": null,
   "metadata": {
    "tags": []
   },
   "outputs": [],
   "source": [
    "%%time\n",
    "unfolded_intensity_expr = perform_cached_doit(model.full_expression)"
   ]
  },
  {
   "cell_type": "code",
   "execution_count": null,
   "metadata": {
    "jupyter": {
     "source_hidden": true
    },
    "tags": [
     "remove-input"
    ]
   },
   "outputs": [],
   "source": [
    "def assert_all_symbols_defined(expr: sp.Expr) -> None:\n",
    "    sigmas = sp.symbols(\"sigma1:4\", nonnegative=True)\n",
    "    remaining_symbols = expr.xreplace(model.parameter_defaults).free_symbols\n",
    "    remaining_symbols -= set(model.variables)\n",
    "    remaining_symbols -= set(sigmas)\n",
    "    assert not remaining_symbols, remaining_symbols\n",
    "\n",
    "\n",
    "assert_all_symbols_defined(unfolded_intensity_expr)\n",
    "Markdown(\n",
    "    \"The complete intensity expression contains\"\n",
    "    f\" **{sp.count_ops(unfolded_intensity_expr):,} mathematical operations**.\"\n",
    ")"
   ]
  },
  {
   "cell_type": "markdown",
   "metadata": {},
   "source": [
    "## Definition of free parameters"
   ]
  },
  {
   "cell_type": "code",
   "execution_count": null,
   "metadata": {
    "jupyter": {
     "source_hidden": true
    },
    "tags": []
   },
   "outputs": [],
   "source": [
    "free_parameters = {\n",
    "    symbol: value\n",
    "    for symbol, value in model.parameter_defaults.items()\n",
    "    if isinstance(symbol, sp.Indexed)\n",
    "    if \"production\" in str(symbol)\n",
    "}\n",
    "fixed_parameters = {\n",
    "    symbol: value\n",
    "    for symbol, value in model.parameter_defaults.items()\n",
    "    if symbol not in free_parameters\n",
    "}\n",
    "subs_intensity_expr = unfolded_intensity_expr.xreplace(fixed_parameters)"
   ]
  },
  {
   "cell_type": "code",
   "execution_count": null,
   "metadata": {
    "jupyter": {
     "source_hidden": true
    },
    "tags": [
     "remove-input"
    ]
   },
   "outputs": [],
   "source": [
    "Markdown(\n",
    "    \"After substituting the parameters that are not production couplings, the total\"\n",
    "    \" intensity expression contains\"\n",
    "    f\" **{sp.count_ops(subs_intensity_expr):,} operations**.\"\n",
    ")"
   ]
  },
  {
   "cell_type": "markdown",
   "metadata": {},
   "source": [
    "## Distribution"
   ]
  },
  {
   "cell_type": "code",
   "execution_count": null,
   "metadata": {
    "tags": []
   },
   "outputs": [],
   "source": [
    "intensity_func = create_parametrized_function(\n",
    "    subs_intensity_expr,\n",
    "    parameters=free_parameters,\n",
    "    backend=\"jax\",\n",
    ")"
   ]
  },
  {
   "cell_type": "code",
   "execution_count": null,
   "metadata": {
    "tags": [
     "remove-input"
    ]
   },
   "outputs": [],
   "source": [
    "%config InlineBackend.figure_formats = ['png']"
   ]
  },
  {
   "cell_type": "code",
   "execution_count": null,
   "metadata": {
    "jupyter": {
     "source_hidden": true
    },
    "tags": [
     "hide-input"
    ]
   },
   "outputs": [],
   "source": [
    "s1_label = R\"$\\sigma_1=m^2\\left(K\\pi\\right)$\"\n",
    "s2_label = R\"$\\sigma_2=m^2\\left(pK\\right)$\"\n",
    "s3_label = R\"$\\sigma_3=m^2\\left(p\\pi\\right)$\"\n",
    "\n",
    "fig, ax = plt.subplots(\n",
    "    figsize=(10, 8),\n",
    "    tight_layout=True,\n",
    ")\n",
    "ax.set_title(\"Intensity distribution\")\n",
    "ax.set_xlabel(s1_label)\n",
    "ax.set_ylabel(s2_label)\n",
    "\n",
    "phsp_sample = generate_meshgrid_sample(decay, resolution=1_000)\n",
    "transformer = create_data_transformer(model)\n",
    "data_sample = transformer(phsp_sample)\n",
    "X = phsp_sample[\"sigma1\"]\n",
    "Y = phsp_sample[\"sigma2\"]\n",
    "Z = intensity_func(data_sample)\n",
    "mesh = ax.pcolormesh(X, Y, Z, norm=LogNorm())\n",
    "fig.colorbar(mesh, ax=ax)\n",
    "plt.show()"
   ]
  },
  {
   "cell_type": "code",
   "execution_count": null,
   "metadata": {
    "tags": [
     "remove-input"
    ]
   },
   "outputs": [],
   "source": [
    "%config InlineBackend.figure_formats = ['svg']"
   ]
  },
  {
   "cell_type": "code",
   "execution_count": null,
   "metadata": {
    "jupyter": {
     "source_hidden": true
    },
    "tags": [
     "hide-input",
     "full-width"
    ]
   },
   "outputs": [],
   "source": [
    "def set_parameter_to_zero(\n",
    "    func: ParametrizedBackendFunction, search_term: Pattern\n",
    ") -> None:\n",
    "    new_parameters = dict(func.parameters)\n",
    "    no_parameters_selected = True\n",
    "    for par_name in func.parameters:\n",
    "        if re.match(search_term, par_name) is not None:\n",
    "            new_parameters[par_name] = 0\n",
    "            no_parameters_selected = False\n",
    "    if no_parameters_selected:\n",
    "        logging.warning(f\"All couplings were set to zero for search term {search_term}\")\n",
    "    func.update_parameters(new_parameters)\n",
    "\n",
    "\n",
    "def set_ylim_to_zero(ax):\n",
    "    _, y_max = ax.get_ylim()\n",
    "    ax.set_ylim(0, y_max)\n",
    "\n",
    "\n",
    "fig, (ax1, ax2) = plt.subplots(\n",
    "    ncols=2,\n",
    "    figsize=(12, 5),\n",
    "    tight_layout=True,\n",
    ")\n",
    "ax1.set_xlabel(s1_label)\n",
    "ax2.set_xlabel(s2_label)\n",
    "\n",
    "subsystem_identifiers = [\"K\", \"L\", \"D\"]\n",
    "subsystem_labels = [\"K^{**}\", R\"\\Lambda^{**}\", R\"\\Delta^{**}\"]\n",
    "intensity_array = intensity_func(data_sample)\n",
    "x, y = X[0], Y[:, 0]\n",
    "ax1.fill(x, np.nansum(intensity_array, axis=0), alpha=0.3)\n",
    "ax2.fill(y, np.nansum(intensity_array, axis=1), alpha=0.3)\n",
    "\n",
    "original_parameters = dict(intensity_func.parameters)\n",
    "for label, identifier in zip(subsystem_labels, subsystem_identifiers):\n",
    "    label = f\"${label}$\"\n",
    "    intensity_array = compute_sub_function(intensity_func, data_sample, [identifier])\n",
    "    ax1.plot(x, np.nansum(intensity_array, axis=0), label=label)\n",
    "    ax2.plot(y, np.nansum(intensity_array, axis=1), label=label)\n",
    "    intensity_func.update_parameters(original_parameters)\n",
    "set_ylim_to_zero(ax1)\n",
    "set_ylim_to_zero(ax2)\n",
    "ax2.legend()\n",
    "plt.show()"
   ]
  },
  {
   "cell_type": "code",
   "execution_count": null,
   "metadata": {
    "jupyter": {
     "source_hidden": true
    },
    "tags": [
     "hide-input"
    ]
   },
   "outputs": [],
   "source": [
    "def stylize_contour(\n",
    "    contour_set: QuadContourSet,\n",
    "    *,\n",
    "    color=None,\n",
    "    label: str | None = None,\n",
    "    linestyle: str | None = None,\n",
    "    linewidth: float | None = None,\n",
    ") -> None:\n",
    "    contour_line: PathCollection = contour_set.collections[0]\n",
    "    if color is not None:\n",
    "        contour_line.set_edgecolor(color)\n",
    "    if label is not None:\n",
    "        contour_line.set_label(label)\n",
    "    if linestyle is not None:\n",
    "        contour_line.set_linestyle(linestyle)\n",
    "    if linewidth is not None:\n",
    "        contour_line.set_linewidth(linewidth)\n",
    "\n",
    "\n",
    "def get_contour_line(contour_set: QuadContourSet) -> LineCollection:\n",
    "    (line_collection, *_), _ = contour_set.legend_elements()\n",
    "    return line_collection\n",
    "\n",
    "\n",
    "threshold = 0.5\n",
    "percentage = int(100 * threshold)\n",
    "I_tot = intensity_func(data_sample)\n",
    "\n",
    "fig, ax = plt.subplots(figsize=(7, 7), sharey=True, tight_layout=True)\n",
    "ax.set_ylabel(s2_label)\n",
    "ax.set_xlabel(s1_label)\n",
    "ax.set_title(Rf\"Regions where the resonance has a decay ratio of $\\geq {percentage}$%\")\n",
    "\n",
    "phsp_region = jnp.select(\n",
    "    [I_tot > 0, True],\n",
    "    (1, 0),\n",
    ")\n",
    "contour_set = ax.contour(X, Y, phsp_region, colors=\"none\")\n",
    "stylize_contour(contour_set, color=\"black\", linewidth=0.2)\n",
    "\n",
    "resonances_names = [c.resonance.name for c in decay.chains]\n",
    "contour_levels = [i for i, _ in enumerate(resonances_names, 1)]\n",
    "colors = [plt.cm.rainbow(x) for x in np.linspace(0, 1, len(resonances_names))]\n",
    "items = list(zip(contour_levels, resonances_names, colors))  # tqdm requires len\n",
    "legend_elements = []\n",
    "for res_id, resonance, color in tqdm(items):\n",
    "    regex_filter = resonance.replace(\"(\", r\"\\(\").replace(\")\", r\"\\)\")\n",
    "    I_sub = compute_sub_function(intensity_func, data_sample, [regex_filter])\n",
    "    ratio = I_sub / I_tot\n",
    "    selection = jnp.select(\n",
    "        [jnp.isnan(ratio), ratio < threshold, True],\n",
    "        [0, 0, res_id],\n",
    "    )\n",
    "    if jnp.all(selection == 0):\n",
    "        continue\n",
    "    contour_set = ax.contour(X, Y, selection, colors=\"none\")\n",
    "    contour_set.set_clim(vmin=1, vmax=len(decay.chains))\n",
    "    stylize_contour(contour_set, label=resonance, color=color)\n",
    "    line_collection = get_contour_line(contour_set)\n",
    "    legend_elements.append(line_collection)\n",
    "leg = plt.legend(handles=legend_elements)\n",
    "plt.show()"
   ]
  },
  {
   "cell_type": "markdown",
   "metadata": {},
   "source": [
    "## Fit fractions"
   ]
  },
  {
   "cell_type": "code",
   "execution_count": null,
   "metadata": {},
   "outputs": [],
   "source": [
    "integration_sample = generate_phasespace_sample(decay, n_events=100_000, seed=0)\n",
    "integration_sample = transformer(integration_sample)"
   ]
  },
  {
   "cell_type": "code",
   "execution_count": null,
   "metadata": {
    "tags": []
   },
   "outputs": [],
   "source": [
    "def sub_intensity(data, non_zero_couplings: list[str]):\n",
    "    intensity_array = compute_sub_function(intensity_func, data, non_zero_couplings)\n",
    "    return integrate_intensity(intensity_array)\n",
    "\n",
    "\n",
    "def integrate_intensity(intensities) -> float:\n",
    "    flattened_intensities = intensities.flatten()\n",
    "    non_nan_intensities = flattened_intensities[~jnp.isnan(flattened_intensities)]\n",
    "    return float(jnp.sum(non_nan_intensities) / len(non_nan_intensities))\n",
    "\n",
    "\n",
    "I_tot = integrate_intensity(intensity_func(integration_sample))"
   ]
  },
  {
   "cell_type": "code",
   "execution_count": null,
   "metadata": {
    "jupyter": {
     "source_hidden": true
    },
    "tags": [
     "remove-cell"
    ]
   },
   "outputs": [],
   "source": [
    "np.testing.assert_allclose(\n",
    "    I_tot,\n",
    "    sub_intensity(integration_sample, [\"K\", \"L\", \"D\"]),\n",
    ")"
   ]
  },
  {
   "cell_type": "code",
   "execution_count": null,
   "metadata": {
    "tags": []
   },
   "outputs": [],
   "source": [
    "def interference_intensity(data, chain1: list[str], chain2: list[str]) -> float:\n",
    "    I_interference = sub_intensity(data, chain1 + chain2)\n",
    "    I_chain1 = sub_intensity(data, chain1)\n",
    "    I_chain2 = sub_intensity(data, chain2)\n",
    "    return I_interference - I_chain1 - I_chain2\n",
    "\n",
    "\n",
    "I_K = sub_intensity(integration_sample, non_zero_couplings=[\"K\"])\n",
    "I_Λ = sub_intensity(integration_sample, non_zero_couplings=[\"L\"])\n",
    "I_Δ = sub_intensity(integration_sample, non_zero_couplings=[\"D\"])\n",
    "I_ΛΔ = interference_intensity(integration_sample, [\"L\"], [\"D\"])\n",
    "I_KΔ = interference_intensity(integration_sample, [\"K\"], [\"D\"])\n",
    "I_KΛ = interference_intensity(integration_sample, [\"K\"], [\"L\"])\n",
    "np.testing.assert_allclose(I_tot, I_K + I_Λ + I_Δ + I_ΛΔ + I_KΔ + I_KΛ)"
   ]
  },
  {
   "cell_type": "code",
   "execution_count": null,
   "metadata": {
    "jupyter": {
     "source_hidden": true
    },
    "tags": [
     "hide-cell",
     "remove-output"
    ]
   },
   "outputs": [],
   "source": [
    "def to_regex(text: str) -> str:\n",
    "    text = text.replace(\"(\", r\"\\(\")\n",
    "    text = text.replace(\")\", r\"\\)\")\n",
    "    return text\n",
    "\n",
    "\n",
    "def sort_resonances(resonance: Particle):\n",
    "    KDL = {\"L\": 1, \"D\": 2, \"K\": 3}\n",
    "    return KDL[resonance.name[0]], natural_sorting(resonance.name)\n",
    "\n",
    "\n",
    "resonances = sorted(\n",
    "    (chain.resonance for chain in decay.chains),\n",
    "    key=sort_resonances,\n",
    "    reverse=True,\n",
    ")\n",
    "n_resonances = len(resonances)\n",
    "decay_rates = np.zeros(shape=(n_resonances, n_resonances))\n",
    "combinations = list(product(enumerate(resonances), enumerate(resonances)))\n",
    "progress_bar = tqdm(\n",
    "    desc=\"Calculating rate matrix\",\n",
    "    total=(len(combinations) + n_resonances) // 2,\n",
    ")\n",
    "for (i, resonance1), (j, resonance2) in combinations:\n",
    "    if j < i:\n",
    "        continue\n",
    "    progress_bar.postfix = f\"{resonance1.name} × {resonance2.name}\"\n",
    "    res1 = to_regex(resonance1.name)\n",
    "    res2 = to_regex(resonance2.name)\n",
    "    if res1 == res2:\n",
    "        I_sub = sub_intensity(integration_sample, non_zero_couplings=[res1])\n",
    "    else:\n",
    "        I_sub = interference_intensity(integration_sample, [res1], [res2])\n",
    "    decay_rates[i, j] = I_sub / I_tot\n",
    "    if i != j:\n",
    "        decay_rates[j, i] = decay_rates[i, j]\n",
    "    progress_bar.update()\n",
    "progress_bar.close()"
   ]
  },
  {
   "cell_type": "code",
   "execution_count": null,
   "metadata": {
    "jupyter": {
     "source_hidden": true
    },
    "tags": [
     "hide-input"
    ]
   },
   "outputs": [],
   "source": [
    "vmax = np.max(np.abs(decay_rates))\n",
    "fig, ax = plt.subplots(figsize=(9, 9))\n",
    "ax.set_title(\"Rate matrix for isobars (%)\")\n",
    "ax.matshow(np.rot90(decay_rates).T, cmap=plt.cm.coolwarm, vmin=-vmax, vmax=+vmax)\n",
    "\n",
    "resonance_names = [p.name for p in resonances]\n",
    "ax.set_xticks(range(n_resonances))\n",
    "ax.set_xticklabels(reversed(resonance_names))\n",
    "ax.set_yticks(range(n_resonances))\n",
    "ax.set_yticklabels(resonance_names)\n",
    "for i in range(n_resonances):\n",
    "    for j in range(n_resonances):\n",
    "        if j < i:\n",
    "            continue\n",
    "        rate = decay_rates[i, j]\n",
    "        ax.text(n_resonances - j - 1, i, f\"{100 * rate:.2f}\", va=\"center\", ha=\"center\")\n",
    "fig.tight_layout()\n",
    "plt.show()"
   ]
  }
 ],
 "metadata": {
  "kernelspec": {
   "display_name": "Python 3 (ipykernel)",
   "language": "python",
   "name": "python3"
  },
  "language_info": {
   "codemirror_mode": {
    "name": "ipython",
    "version": 3
   },
   "file_extension": ".py",
   "mimetype": "text/x-python",
   "name": "python",
   "nbconvert_exporter": "python",
   "pygments_lexer": "ipython3",
   "version": "3.8.13"
  }
 },
 "nbformat": 4,
 "nbformat_minor": 4
}
