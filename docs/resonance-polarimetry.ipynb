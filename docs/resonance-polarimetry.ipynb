{
 "cells": [
  {
   "cell_type": "markdown",
   "metadata": {},
   "source": [
    "# Average polarimeter per resonance"
   ]
  },
  {
   "cell_type": "markdown",
   "metadata": {},
   "source": [
    "```{autolink-concat}\n",
    "```"
   ]
  },
  {
   "cell_type": "code",
   "execution_count": null,
   "metadata": {
    "jupyter": {
     "source_hidden": true
    },
    "tags": [
     "hide-cell",
     "scroll-input"
    ]
   },
   "outputs": [],
   "source": [
    "from __future__ import annotations\n",
    "\n",
    "import logging\n",
    "import os\n",
    "from collections import defaultdict\n",
    "from functools import lru_cache\n",
    "from textwrap import dedent\n",
    "\n",
    "import jax.numpy as jnp\n",
    "import numpy as np\n",
    "import plotly.express as px\n",
    "import sympy as sp\n",
    "import yaml\n",
    "from ampform.sympy import PoolSum\n",
    "from IPython.display import Latex\n",
    "from tensorwaves.function import ParametrizedBackendFunction\n",
    "from tqdm.auto import tqdm\n",
    "\n",
    "from polarimetry import formulate_polarimetry\n",
    "from polarimetry.amplitude import AmplitudeModel\n",
    "from polarimetry.data import create_data_transformer, generate_phasespace_sample\n",
    "from polarimetry.decay import Particle\n",
    "from polarimetry.function import compute_sub_function\n",
    "from polarimetry.io import (\n",
    "    mute_jax_warnings,\n",
    "    perform_cached_doit,\n",
    "    perform_cached_lambdify,\n",
    ")\n",
    "from polarimetry.lhcb import (\n",
    "    ParameterBootstrap,\n",
    "    flip_production_coupling_signs,\n",
    "    load_model_builder,\n",
    "    load_model_parameters,\n",
    ")\n",
    "from polarimetry.lhcb.particle import load_particles\n",
    "\n",
    "logging.getLogger(\"polarimetry.io\").setLevel(logging.INFO)\n",
    "mute_jax_warnings()\n",
    "FUNCTION_CACHE: dict[sp.Expr, ParametrizedBackendFunction] = {}\n",
    "MODEL_FILE = \"../data/model-definitions.yaml\"\n",
    "PARTICLES = load_particles(\"../data/particle-definitions.yaml\")\n",
    "\n",
    "NO_TQDM = \"EXECUTE_NB\" in os.environ\n",
    "if NO_TQDM:\n",
    "    logging.getLogger().setLevel(logging.ERROR)\n",
    "    logging.getLogger(\"polarimetry.io\").setLevel(logging.ERROR)"
   ]
  },
  {
   "cell_type": "markdown",
   "metadata": {},
   "source": [
    "## Computations"
   ]
  },
  {
   "cell_type": "code",
   "execution_count": null,
   "metadata": {
    "jupyter": {
     "source_hidden": true
    },
    "tags": [
     "hide-input",
     "remove-output"
    ]
   },
   "outputs": [],
   "source": [
    "def formulate_all_models() -> dict[str, dict[int, AmplitudeModel]]:\n",
    "    with open(MODEL_FILE) as f:\n",
    "        data = yaml.load(f, Loader=yaml.SafeLoader)\n",
    "    allowed_model_titles = [title for title in data if \"LS couplings\" not in title]\n",
    "    models = defaultdict(dict)\n",
    "    for title in tqdm(\n",
    "        allowed_model_titles,\n",
    "        desc=\"Formulate models\",\n",
    "        disable=NO_TQDM,\n",
    "    ):\n",
    "        builder = load_model_builder(MODEL_FILE, PARTICLES, title)\n",
    "        imported_parameters = load_model_parameters(MODEL_FILE, builder.decay, title)\n",
    "        for reference_subsystem in [1, 2, 3]:\n",
    "            model = builder.formulate(reference_subsystem)\n",
    "            model.parameter_defaults.update(imported_parameters)\n",
    "            models[title][reference_subsystem] = model\n",
    "        models[title][2] = flip_production_coupling_signs(\n",
    "            models[title][2], [\"K\", \"L\"]\n",
    "        )\n",
    "        models[title][3] = flip_production_coupling_signs(\n",
    "            models[title][3], [\"K\", \"D\"]\n",
    "        )\n",
    "    return {i: {k: v for k, v in dct.items()} for i, dct in models.items()}\n",
    "\n",
    "\n",
    "MODELS = formulate_all_models()\n",
    "NOMINAL_MODEL_TITLE = \"Default amplitude model\"\n",
    "NOMINAL_MODEL = MODELS[NOMINAL_MODEL_TITLE]\n",
    "DECAY = NOMINAL_MODEL[1].decay"
   ]
  },
  {
   "cell_type": "code",
   "execution_count": null,
   "metadata": {
    "jupyter": {
     "source_hidden": true
    },
    "tags": [
     "hide-input",
     "remove-output"
    ]
   },
   "outputs": [],
   "source": [
    "def unfold_expressions() -> (\n",
    "    tuple[\n",
    "        dict[str, dict[int, sp.Expr]],\n",
    "        dict[str, dict[int, sp.Expr]],\n",
    "    ]\n",
    "):\n",
    "    intensity_exprs = defaultdict(dict)\n",
    "    alpha_z_exprs = defaultdict(dict)\n",
    "    for title, ref_models in tqdm(\n",
    "        MODELS.items(),\n",
    "        desc=\"Unfolding expressions\",\n",
    "        disable=NO_TQDM,\n",
    "    ):\n",
    "        for ref, model in tqdm(ref_models.items(), disable=NO_TQDM, leave=False):\n",
    "            exprs = unfold_intensity_and_alpha_z(model, title, ref)\n",
    "            intensity_exprs[title][ref] = exprs[0]\n",
    "            alpha_z_exprs[title][ref] = exprs[1]\n",
    "    return (\n",
    "        {i: {k: v for k, v in dct.items()} for i, dct in intensity_exprs.items()},\n",
    "        {i: {k: v for k, v in dct.items()} for i, dct in alpha_z_exprs.items()},\n",
    "    )\n",
    "\n",
    "\n",
    "def unfold_intensity_and_alpha_z(\n",
    "    model: AmplitudeModel, title: str, reference_subsystem: int\n",
    ") -> tuple[sp.Expr, sp.Expr]:\n",
    "    builder = load_model_builder(MODEL_FILE, PARTICLES, model_id=title)\n",
    "    _, _, alpha_z = formulate_polarimetry(builder, reference_subsystem)\n",
    "    return (\n",
    "        doit(doit(model.intensity).xreplace(model.amplitudes)),\n",
    "        doit(doit(alpha_z).xreplace(model.amplitudes)),\n",
    "    )\n",
    "\n",
    "\n",
    "@lru_cache(maxsize=None)\n",
    "def doit(expr: PoolSum) -> sp.Expr:\n",
    "    return perform_cached_doit(expr)\n",
    "\n",
    "\n",
    "ALPHA_Z_EXPRS, INTENSITY_EXPRS = unfold_expressions()"
   ]
  },
  {
   "cell_type": "code",
   "execution_count": null,
   "metadata": {
    "jupyter": {
     "source_hidden": true
    },
    "tags": [
     "hide-input",
     "remove-output"
    ]
   },
   "outputs": [],
   "source": [
    "def lambdify_expressions() -> (\n",
    "    tuple[\n",
    "        dict[str, dict[int, sp.Expr]],\n",
    "        dict[str, dict[int, sp.Expr]],\n",
    "        dict[str, dict[int, float]],\n",
    "    ]\n",
    "):\n",
    "    intensity_funcs = defaultdict(dict)\n",
    "    alpha_z_funcs = defaultdict(dict)\n",
    "    original_parameters = defaultdict(dict)\n",
    "    for title, ref_models in tqdm(\n",
    "        MODELS.items(),\n",
    "        desc=\"Lambdifying\",\n",
    "        disable=NO_TQDM,\n",
    "    ):\n",
    "        for ref, model in ref_models.items():\n",
    "            intensity_expr = INTENSITY_EXPRS[title][ref]\n",
    "            alpha_z_expr = ALPHA_Z_EXPRS[title][ref]\n",
    "            intensity_funcs[title][ref] = cached_lambdify(intensity_expr, model)\n",
    "            alpha_z_funcs[title][ref] = cached_lambdify(alpha_z_expr, model)\n",
    "            str_parameters = {str(k): v for k, v in model.parameter_defaults.items()}\n",
    "            original_parameters[title][ref] = str_parameters\n",
    "    return (\n",
    "        {i: {k: v for k, v in dct.items()} for i, dct in intensity_funcs.items()},\n",
    "        {i: {k: v for k, v in dct.items()} for i, dct in alpha_z_funcs.items()},\n",
    "        {\n",
    "            i: {k: v for k, v in dct.items()}\n",
    "            for i, dct in original_parameters.items()\n",
    "        },\n",
    "    )\n",
    "\n",
    "\n",
    "def cached_lambdify(\n",
    "    expr: sp.Expr, model: AmplitudeModel\n",
    ") -> ParametrizedBackendFunction:\n",
    "    func = FUNCTION_CACHE.get(expr)\n",
    "    if func is None:\n",
    "        func = perform_cached_lambdify(\n",
    "            expr,\n",
    "            parameters=model.parameter_defaults,\n",
    "            backend=\"jax\",\n",
    "        )\n",
    "        FUNCTION_CACHE[expr] = func\n",
    "    str_parameters = {str(k): v for k, v in model.parameter_defaults.items()}\n",
    "    func.update_parameters(str_parameters)\n",
    "    return func\n",
    "\n",
    "\n",
    "ALPHA_Z_FUNCS, INTENSITY_FUNCS, ORIGINAL_PARAMETERS = lambdify_expressions()"
   ]
  },
  {
   "cell_type": "code",
   "execution_count": null,
   "metadata": {
    "jupyter": {
     "source_hidden": true
    },
    "tags": [
     "remove-output",
     "hide-input"
    ]
   },
   "outputs": [],
   "source": [
    "N_EVENTS = 100_000\n",
    "PHSP = generate_phasespace_sample(DECAY, N_EVENTS, seed=0)\n",
    "for ref in tqdm([1, 2, 3], disable=NO_TQDM, leave=False):\n",
    "    transformer = create_data_transformer(NOMINAL_MODEL[ref])\n",
    "    PHSP.update(transformer(PHSP))\n",
    "    del transformer"
   ]
  },
  {
   "cell_type": "code",
   "execution_count": null,
   "metadata": {
    "jupyter": {
     "source_hidden": true
    },
    "tags": [
     "remove-output",
     "hide-input"
    ]
   },
   "outputs": [],
   "source": [
    "def create_bootstraps() -> dict[int, ParameterBootstrap]:\n",
    "    bootstraps = {\n",
    "        ref: ParameterBootstrap(MODEL_FILE, DECAY, NOMINAL_MODEL_TITLE)\n",
    "        for ref, model in NOMINAL_MODEL.items()\n",
    "    }\n",
    "    bootstraps[2] = flip_production_coupling_signs(bootstraps[2], [\"K\", \"L\"])\n",
    "    bootstraps[3] = flip_production_coupling_signs(bootstraps[3], [\"K\", \"D\"])\n",
    "    return {\n",
    "        i: b.create_distribution(N_BOOTSTRAPS, seed=0) for i, b in bootstraps.items()\n",
    "    }\n",
    "\n",
    "\n",
    "def compute_statistics_weighted_alpha_z():\n",
    "    weighted_alpha_z = defaultdict(list)\n",
    "    resonances = get_resonance_to_reference()\n",
    "    for resonance, ref in tqdm(\n",
    "        resonances.items(),\n",
    "        desc=\"Computing statistics\",\n",
    "        disable=NO_TQDM,\n",
    "    ):\n",
    "        _filter = [resonance.name.replace(\"(\", R\"\\(\").replace(\")\", R\"\\)\")]\n",
    "        intensity_func = INTENSITY_FUNCS[NOMINAL_MODEL_TITLE][ref]\n",
    "        alpha_z_func = ALPHA_Z_FUNCS[NOMINAL_MODEL_TITLE][ref]\n",
    "        original_parameters = ORIGINAL_PARAMETERS[NOMINAL_MODEL_TITLE][ref]\n",
    "        for i in tqdm(range(N_BOOTSTRAPS), disable=NO_TQDM, leave=False):\n",
    "            new_parameters = {k: v[i] for k, v in BOOTSTRAP_PARAMETERS[ref].items()}\n",
    "            intensity_func.update_parameters(new_parameters)\n",
    "            alpha_z_func.update_parameters(new_parameters)\n",
    "            intensities = compute_sub_function(intensity_func, PHSP, _filter)\n",
    "            alpha_z = compute_sub_function(alpha_z_func, PHSP, _filter).real\n",
    "            alpha_z = compute_weighted_average(alpha_z, intensities)\n",
    "            weighted_alpha_z[resonance.name].append(alpha_z)\n",
    "            intensity_func.update_parameters(original_parameters)\n",
    "            alpha_z_func.update_parameters(original_parameters)\n",
    "    return {k: np.array(v) for k, v in weighted_alpha_z.items()}\n",
    "\n",
    "\n",
    "def get_resonance_to_reference() -> dict[Particle, int]:\n",
    "    subsystem_ids = dict(K=1, L=2, D=3)\n",
    "    resonances = [\n",
    "        c.resonance\n",
    "        for c in sorted(\n",
    "            DECAY.chains,\n",
    "            key=lambda p: (subsystem_ids[p.resonance.name[0]], p.resonance.mass),\n",
    "        )\n",
    "    ]\n",
    "    return {p: subsystem_ids[p.name[0]] for p in resonances}\n",
    "\n",
    "\n",
    "def compute_weighted_average(v: jnp.ndarray, weights: jnp.ndarray) -> jnp.ndarray:\n",
    "    return jnp.nansum(v * weights, axis=-1) / jnp.nansum(weights, axis=-1)\n",
    "\n",
    "\n",
    "N_BOOTSTRAPS = 100\n",
    "BOOTSTRAP_PARAMETERS = create_bootstraps()\n",
    "STAT_WEIGHTED_ALPHA_Z = compute_statistics_weighted_alpha_z()"
   ]
  },
  {
   "cell_type": "code",
   "execution_count": null,
   "metadata": {
    "jupyter": {
     "source_hidden": true
    },
    "tags": [
     "hide-input",
     "remove-output"
    ]
   },
   "outputs": [],
   "source": [
    "def compute_systematic_weighted_alpha_z():\n",
    "    weighted_alpha_z = defaultdict(list)\n",
    "    resonances = get_resonance_to_reference()\n",
    "    for resonance, ref in tqdm(\n",
    "        resonances.items(),\n",
    "        desc=\"Computing systematics\",\n",
    "        disable=NO_TQDM,\n",
    "    ):\n",
    "        _filter = [resonance.name.replace(\"(\", R\"\\(\").replace(\")\", R\"\\)\")]\n",
    "        for title in tqdm(MODELS, disable=NO_TQDM, leave=False):\n",
    "            intensity_func = INTENSITY_FUNCS[title][ref]\n",
    "            alpha_z_func = ALPHA_Z_FUNCS[title][ref]\n",
    "            original_parameters = ORIGINAL_PARAMETERS[title][ref]\n",
    "            intensity_func.update_parameters(original_parameters)\n",
    "            alpha_z_func.update_parameters(original_parameters)\n",
    "            intensities = compute_sub_function(intensity_func, PHSP, _filter)\n",
    "            alpha_z = compute_sub_function(alpha_z_func, PHSP, _filter)\n",
    "            alpha_z = compute_weighted_average(alpha_z, intensities).real\n",
    "            weighted_alpha_z[resonance.name].append(alpha_z)\n",
    "    return {k: np.array(v) for k, v in weighted_alpha_z.items()}\n",
    "\n",
    "\n",
    "SYST_WEIGHTED_ALPHA_Z = compute_systematic_weighted_alpha_z()"
   ]
  },
  {
   "cell_type": "markdown",
   "metadata": {},
   "source": [
    "## Result and comparison"
   ]
  },
  {
   "cell_type": "markdown",
   "metadata": {},
   "source": [
    "LHCb values are taken from [from the original study](https://arxiv.org/pdf/2208.03262.pdf#page=23):"
   ]
  },
  {
   "cell_type": "code",
   "execution_count": null,
   "metadata": {
    "jupyter": {
     "source_hidden": true
    },
    "tags": [
     "hide-input",
     "full-width"
    ]
   },
   "outputs": [],
   "source": [
    "def tabulate_alpha_z():\n",
    "    lhcb_values = {\n",
    "        \"L(1405)\": (-0.58, 0.05, 0.28, 0.01),\n",
    "        \"L(1520)\": (-0.925, 0.025, 0.084, 0.005),\n",
    "        \"L(1600)\": (-0.20, 0.06, 0.50, 0.03),\n",
    "        \"L(1670)\": (-0.817, 0.042, 0.073, 0.006),\n",
    "        \"L(1690)\": (-0.958, 0.020, 0.027, 0.006),\n",
    "        \"L(2000)\": (+0.57, 0.03, 0.19, 0.01),\n",
    "        \"D(1232)\": (-0.548, 0.014, 0.036, 0.004),\n",
    "        \"D(1600)\": (+0.50, 0.05, 0.17, 0.01),\n",
    "        \"D(1700)\": (-0.216, 0.036, 0.075, 0.011),\n",
    "        \"K(700)\": (+0.06, 0.66, 0.24, 0.23),\n",
    "        \"K(1430)\": (-0.34, 0.03, 0.14, 0.01),\n",
    "    }\n",
    "    model_ids = list(range(len(MODELS)))\n",
    "    alignment = \"r\".join(\"\" for _ in model_ids)\n",
    "    header = \" & \".join(Rf\"\\textbf{{{i}}}\" for i in model_ids[1:])\n",
    "    src = Rf\"\\begin{{array}}{{l|c|c|{alignment}}}\" \"\\n\"\n",
    "    src += Rf\" & \\textbf{{this study}} & \\textbf{{LHCb}} & {header} \\\\\" \"\\n\"\n",
    "    src += R\"\\hline\" \"\\n\"\n",
    "    src = dedent(src)\n",
    "    for resonance in get_resonance_to_reference():\n",
    "        src += f\" {resonance.latex} & \"\n",
    "        stat_array = 1e3 * STAT_WEIGHTED_ALPHA_Z[resonance.name]\n",
    "        syst_array = 1e3 * SYST_WEIGHTED_ALPHA_Z[resonance.name]\n",
    "        syst_diff = syst_array[1:] - syst_array[0]\n",
    "        value = syst_array[0]\n",
    "        std = stat_array.std()\n",
    "        min_ = syst_diff.min()\n",
    "        max_ = syst_diff.max()\n",
    "        src += Rf\"{value:>+.0f} \\pm {std:.0f}_{{{min_:+.0f}}}^{{{max_:+.0f}}}\"\n",
    "        src += \" & \"\n",
    "        lhcb = lhcb_values.get(resonance.name)\n",
    "        if lhcb is not None:\n",
    "            val, stat, _, syst = lhcb\n",
    "            src += Rf\"{1e3*val:+.0f} \\pm {1e3*stat:.0f} \\pm {1e3*syst:.0f}\"\n",
    "        for diff in syst_diff:\n",
    "            diff_str = f\"{diff:>+.0f}\"\n",
    "            if diff == syst_diff.max():\n",
    "                src += Rf\" & \\color{{red}}{{{diff_str}}}\"\n",
    "            elif diff == syst_diff.min():\n",
    "                src += Rf\" & \\color{{blue}}{{{diff_str}}}\"\n",
    "            else:\n",
    "                src += f\" & {diff_str}\"\n",
    "        src += R\" \\\\\" \"\\n\"\n",
    "    src += R\"\\end{array}\"\n",
    "    return Latex(src)\n",
    "\n",
    "\n",
    "tabulate_alpha_z()"
   ]
  },
  {
   "cell_type": "markdown",
   "metadata": {},
   "source": [
    "## Distribution analysis"
   ]
  },
  {
   "cell_type": "code",
   "execution_count": null,
   "metadata": {
    "jupyter": {
     "source_hidden": true
    },
    "tags": [
     "hide-input",
     "full-width"
    ]
   },
   "outputs": [],
   "source": [
    "layout_kwargs = dict(\n",
    "    height=800,\n",
    "    xaxis_title=\"Resonance\",\n",
    "    yaxis_title=\"ɑ̅<sub>z</sub>\",\n",
    "    font=dict(size=18),\n",
    ")\n",
    "\n",
    "fig = px.box(STAT_WEIGHTED_ALPHA_Z, points=\"all\")\n",
    "fig.update_layout(\n",
    "    title=\"<b>Statistical</b> distribution of weighted ɑ̅<sub>z</sub>\",\n",
    "    **layout_kwargs,\n",
    ")\n",
    "fig.show()\n",
    "fig.update_layout(font=dict(size=24), width=1200)\n",
    "fig.write_image(\"_images/alpha-z-per-resonance-statistical.svg\")\n",
    "\n",
    "fig = px.box(SYST_WEIGHTED_ALPHA_Z, points=\"all\")\n",
    "fig.update_layout(\n",
    "    title=\"<b>Systematics</b> distribution of weighted ɑ̅<sub>z</sub>\",\n",
    "    **layout_kwargs,\n",
    ")\n",
    "fig.show()\n",
    "fig.update_layout(font=dict(size=24), width=1200)\n",
    "fig.write_image(\"_images/alpha-z-per-resonance-systematics.svg\")"
   ]
  },
  {
   "cell_type": "markdown",
   "metadata": {},
   "source": [
    ":::{only} latex\n",
    "![](_images/alpha-z-per-resonance-statistical.svg)\n",
    "![](_images/alpha-z-per-resonance-systematics.svg)\n",
    ":::"
   ]
  }
 ],
 "metadata": {
  "kernelspec": {
   "display_name": "Python 3 (ipykernel)",
   "language": "python",
   "name": "python3"
  },
  "language_info": {
   "codemirror_mode": {
    "name": "ipython",
    "version": 3
   },
   "file_extension": ".py",
   "mimetype": "text/x-python",
   "name": "python",
   "nbconvert_exporter": "python",
   "pygments_lexer": "ipython3",
   "version": "3.8.13"
  }
 },
 "nbformat": 4,
 "nbformat_minor": 4
}
