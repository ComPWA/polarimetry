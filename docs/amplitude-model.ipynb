{
 "cells": [
  {
   "cell_type": "markdown",
   "metadata": {},
   "source": [
    "# Amplitude model"
   ]
  },
  {
   "cell_type": "markdown",
   "metadata": {},
   "source": [
    "```{autolink-concat}\n",
    "```"
   ]
  },
  {
   "cell_type": "code",
   "execution_count": null,
   "metadata": {
    "jupyter": {
     "source_hidden": true
    },
    "tags": [
     "hide-cell",
     "scroll-input"
    ]
   },
   "outputs": [],
   "source": [
    "from itertools import product\n",
    "from typing import List\n",
    "\n",
    "import sympy as sp\n",
    "from ampform.sympy import PoolSum\n",
    "from IPython.display import Markdown, display\n",
    "from sympy.core.symbol import Str\n",
    "from sympy.physics.quantum.spin import Rotation as Wigner\n",
    "\n",
    "from polarization.amplitude.angles import (\n",
    "    formulate_scattering_angle,\n",
    "    formulate_zeta_angle,\n",
    ")\n",
    "from polarization.decay import Particle, ThreeBodyDecay, ThreeBodyDecayChain\n",
    "from polarization.dynamics import BreitWignerMinL, BuggBreitWigner, FlattéSWave\n",
    "from polarization.io import as_markdown_table, display_latex\n",
    "from polarization.lhcb import K, Λc, Σ, load_three_body_decays, p, π\n",
    "from polarization.spin import create_spin_range\n",
    "\n",
    "\n",
    "# hack for moving Indexed indices below superscript of the base\n",
    "def _print_Indexed_latex(self, printer, *args):\n",
    "    base = printer._print(self.base)\n",
    "    indices = \", \".join(map(printer._print, self.indices))\n",
    "    return f\"{base}_{{{indices}}}\"\n",
    "\n",
    "\n",
    "sp.Indexed._latex = _print_Indexed_latex"
   ]
  },
  {
   "cell_type": "markdown",
   "metadata": {},
   "source": [
    "## Resonances and LS-scheme"
   ]
  },
  {
   "cell_type": "markdown",
   "metadata": {},
   "source": [
    "Particle definitions for $\\Lambda_c^+$ and $p, \\pi^+, K^-$:"
   ]
  },
  {
   "cell_type": "code",
   "execution_count": null,
   "metadata": {
    "jupyter": {
     "source_hidden": true
    },
    "tags": [
     "hide-input"
    ]
   },
   "outputs": [],
   "source": [
    "Markdown(as_markdown_table([Λc, p, π, K, Σ]))"
   ]
  },
  {
   "cell_type": "markdown",
   "metadata": {
    "tags": []
   },
   "source": [
    "Resonance definitions as defined in {download}`data/isobars.json <../data/isobars.json>`:"
   ]
  },
  {
   "cell_type": "code",
   "execution_count": null,
   "metadata": {
    "tags": []
   },
   "outputs": [],
   "source": [
    "decay = load_three_body_decays(\"../data/isobars.json\")"
   ]
  },
  {
   "cell_type": "code",
   "execution_count": null,
   "metadata": {
    "jupyter": {
     "source_hidden": true
    },
    "tags": [
     "hide-input",
     "full-width"
    ]
   },
   "outputs": [],
   "source": [
    "src = as_markdown_table(decay)\n",
    "Markdown(src)"
   ]
  },
  {
   "cell_type": "markdown",
   "metadata": {},
   "source": [
    "## Amplitude"
   ]
  },
  {
   "cell_type": "markdown",
   "metadata": {},
   "source": [
    "### Spin-alignment with DPD"
   ]
  },
  {
   "cell_type": "code",
   "execution_count": null,
   "metadata": {
    "jupyter": {
     "source_hidden": true
    },
    "tags": [
     "full-width",
     "hide-input"
    ]
   },
   "outputs": [],
   "source": [
    "A1 = sp.IndexedBase(R\"A^K\")\n",
    "A2 = sp.IndexedBase(R\"A^{\\Lambda}\")\n",
    "A3 = sp.IndexedBase(R\"A^{\\Delta}\")\n",
    "\n",
    "half = sp.S.Half\n",
    "\n",
    "ζ_0_11, ζ_0_11_expr = formulate_zeta_angle(0, 1, 1)\n",
    "ζ_0_21, ζ_0_21_expr = formulate_zeta_angle(0, 2, 1)\n",
    "ζ_0_31, ζ_0_31_expr = formulate_zeta_angle(0, 3, 1)\n",
    "ζ_1_11, ζ_1_11_expr = formulate_zeta_angle(1, 1, 1)\n",
    "ζ_1_21, ζ_1_21_expr = formulate_zeta_angle(1, 2, 1)\n",
    "ζ_1_31, ζ_1_31_expr = formulate_zeta_angle(1, 3, 1)\n",
    "\n",
    "\n",
    "def formulate_aligned_amplitude(λ0, λ1):\n",
    "    _λ0 = sp.Symbol(R\"\\nu^{\\prime}\", rational=True)\n",
    "    _λ1 = sp.Symbol(R\"\\lambda^{\\prime}\", rational=True)\n",
    "    return PoolSum(\n",
    "        A1[_λ0, _λ1] * Wigner.d(half, λ0, _λ0, ζ_0_11) * Wigner.d(half, _λ1, λ1, ζ_1_11)\n",
    "        + A2[_λ0, _λ1]\n",
    "        * Wigner.d(half, λ0, _λ0, ζ_0_21)\n",
    "        * Wigner.d(half, _λ1, λ1, ζ_1_21)\n",
    "        + A3[_λ0, _λ1]\n",
    "        * Wigner.d(half, λ0, _λ0, ζ_0_31)\n",
    "        * Wigner.d(half, _λ1, λ1, ζ_1_31),\n",
    "        (_λ1, [-half, +half]),\n",
    "        (_λ0, [-half, +half]),\n",
    "    )\n",
    "\n",
    "\n",
    "ν = sp.Symbol(\"nu\")\n",
    "λ = sp.Symbol(\"lambda\")\n",
    "formulate_aligned_amplitude(λ0=ν, λ1=λ)"
   ]
  },
  {
   "cell_type": "markdown",
   "metadata": {},
   "source": [
    "### Sub-system amplitudes"
   ]
  },
  {
   "cell_type": "markdown",
   "metadata": {},
   "source": [
    ":::{warning}\n",
    "\n",
    "Couplings are remapped from the LHCb paper to Dalitz-Plot Decomposition with [these relations](https://user-images.githubusercontent.com/22725744/165932213-34013235-8464-4018-bd21-3ebde1e86faf.png).\n",
    "\n",
    ":::"
   ]
  },
  {
   "cell_type": "code",
   "execution_count": null,
   "metadata": {
    "jupyter": {
     "source_hidden": true
    },
    "tags": [
     "scroll-input",
     "hide-input",
     "full-width"
    ]
   },
   "outputs": [],
   "source": [
    "H_prod = sp.IndexedBase(R\"\\mathcal{H}^\\mathrm{production}\")\n",
    "H_dec = sp.IndexedBase(R\"\\mathcal{H}^\\mathrm{decay}\")\n",
    "\n",
    "θ12, θ12_expr = formulate_scattering_angle(1, 2)\n",
    "θ23, θ23_expr = formulate_scattering_angle(2, 3)\n",
    "θ31, θ31_expr = formulate_scattering_angle(3, 1)\n",
    "particle_to_id = {\n",
    "    Λc: 0,\n",
    "    p: 1,\n",
    "    π: 2,\n",
    "    K: 3,\n",
    "}\n",
    "\n",
    "\n",
    "def to_mass_symbol(particle: Particle) -> sp.Symbol:\n",
    "    if particle in particle_to_id:\n",
    "        i = particle_to_id[particle]\n",
    "        return sp.Symbol(f\"m{i}\", nonnegative=True)\n",
    "    return sp.Symbol(f\"m_{{{particle.latex}}}\", nonnegative=True)\n",
    "\n",
    "\n",
    "σ1, σ2, σ3 = sp.symbols(\"sigma1:4\", nonnegative=True)\n",
    "m1, m2, m3 = sp.symbols(\"m1:4\", nonnegative=True)\n",
    "\n",
    "\n",
    "def get_mandelstam_s(decay: ThreeBodyDecayChain) -> sp.Symbol:\n",
    "    decay_products = set(decay.decay_products)\n",
    "    if decay_products == {π, K}:\n",
    "        return σ1\n",
    "    if decay_products == {p, K}:\n",
    "        return σ2\n",
    "    if decay_products == {p, π}:\n",
    "        return σ3\n",
    "    raise NotImplementedError(\n",
    "        \"Cannot find Mandelstam variable for\"\n",
    "        f\" {', '.join(map(lambda p: p.name, decay_products))}\"\n",
    "    )\n",
    "\n",
    "\n",
    "def formulate_subsystem_amplitude(subsystem: int, λ0, λ1):\n",
    "    if subsystem == 1:\n",
    "        return formulate_K_amplitude(λ0, λ1, filter_isobars(decay, \"K\"))\n",
    "    if subsystem == 2:\n",
    "        return formulate_Λ_amplitude(λ0, λ1, filter_isobars(decay, \"L\"))\n",
    "    if subsystem == 3:\n",
    "        return formulate_Δ_amplitude(λ0, λ1, filter_isobars(decay, \"D\"))\n",
    "    raise NotImplementedError(f\"No chain implemented for sub-system {subsystem}\")\n",
    "\n",
    "\n",
    "def formulate_K_amplitude(λ0, λ1, chains: List[ThreeBodyDecayChain]):\n",
    "    τ = sp.Symbol(\"tau\", rational=True)\n",
    "    return sp.Add(\n",
    "        *[\n",
    "            PoolSum(\n",
    "                sp.KroneckerDelta(λ0, τ - λ1)\n",
    "                * H_prod[stringify(chain.resonance), τ, -λ1]\n",
    "                * formulate_dynamics(chain)\n",
    "                * (-1) ** (half - λ1)\n",
    "                * Wigner.d(sp.Rational(chain.resonance.spin), τ, 0, θ23)\n",
    "                * H_dec[stringify(chain.resonance), 0, 0],\n",
    "                (τ, create_spin_range(chain.resonance.spin)),\n",
    "            )\n",
    "            for chain in chains\n",
    "        ]\n",
    "    )\n",
    "\n",
    "\n",
    "def formulate_Λ_amplitude(λ0, λ1, chains: List[ThreeBodyDecayChain]):\n",
    "    τ = sp.Symbol(\"tau\", rational=True)\n",
    "    return sp.Add(\n",
    "        *[\n",
    "            PoolSum(\n",
    "                sp.KroneckerDelta(λ0, τ)\n",
    "                * H_prod[stringify(chain.resonance), -τ, 0]\n",
    "                * formulate_dynamics(chain)\n",
    "                * Wigner.d(sp.Rational(chain.resonance.spin), τ, -λ1, θ31)\n",
    "                * H_dec[stringify(chain.resonance), 0, λ1]\n",
    "                * (-1) ** (half - λ1)\n",
    "                / (-chain.resonance.parity),\n",
    "                (τ, create_spin_range(chain.resonance.spin)),\n",
    "            )\n",
    "            for chain in chains\n",
    "        ]\n",
    "    )\n",
    "\n",
    "\n",
    "def formulate_Δ_amplitude(λ0, λ1, chains: List[ThreeBodyDecayChain]):\n",
    "    τ = sp.Symbol(\"tau\", rational=True)\n",
    "    return sp.Add(\n",
    "        *[\n",
    "            PoolSum(\n",
    "                sp.KroneckerDelta(λ0, τ)\n",
    "                * H_prod[stringify(chain.resonance), -τ, 0]\n",
    "                * formulate_dynamics(chain)\n",
    "                * Wigner.d(sp.Rational(chain.resonance.spin), τ, λ1, θ12)\n",
    "                * H_dec[stringify(chain.resonance), λ1, 0]\n",
    "                / (-chain.resonance.parity * (-1) ** (chain.resonance.spin - half)),\n",
    "                (τ, create_spin_range(chain.resonance.spin)),\n",
    "            )\n",
    "            for chain in chains\n",
    "        ]\n",
    "    )\n",
    "\n",
    "\n",
    "def formulate_dynamics(chain: ThreeBodyDecayChain):\n",
    "    lineshape = chain.resonance.lineshape\n",
    "    if lineshape == \"BreitWignerMinL\":\n",
    "        return formulate_breit_wigner(chain)\n",
    "    if lineshape == \"BuggBreitWignerMinL\":\n",
    "        return formulate_bugg_breit_wigner(chain)\n",
    "    if lineshape == \"Flatte1405\":\n",
    "        return formulate_flatté_1405(chain)\n",
    "    raise NotImplementedError(f'No dynamics implemented for lineshape \"{lineshape}\"')\n",
    "\n",
    "\n",
    "def formulate_breit_wigner(decay: ThreeBodyDecayChain):\n",
    "    s = get_mandelstam_s(decay)\n",
    "    child1_mass, child2_mass = map(to_mass_symbol, decay.decay_products)\n",
    "    l_dec = sp.Rational(decay.outgoing_ls.L)\n",
    "    l_prod = sp.Rational(decay.incoming_ls.L)\n",
    "    parent_mass = sp.Symbol(f\"m_{{{decay.parent.latex}}}\")\n",
    "    spectator_mass = sp.Symbol(f\"m_{{{decay.spectator.latex}}}\")\n",
    "    resonance_mass = sp.Symbol(f\"m_{{{decay.resonance.latex}}}\")\n",
    "    resonance_width = sp.Symbol(Rf\"\\Gamma_{{{decay.resonance.latex}}}\")\n",
    "    R_dec = sp.Symbol(R\"R_\\mathrm{res}\")\n",
    "    R_prod = sp.Symbol(R\"R_{\\Lambda_c}\")\n",
    "    safe_update_parameters(parent_mass, decay.parent.mass)\n",
    "    safe_update_parameters(spectator_mass, decay.spectator.mass)\n",
    "    safe_update_parameters(resonance_mass, decay.resonance.mass)\n",
    "    safe_update_parameters(resonance_width, decay.resonance.width)\n",
    "    safe_update_parameters(child1_mass, decay.decay_products[0].mass)\n",
    "    safe_update_parameters(child2_mass, decay.decay_products[1].mass)\n",
    "    # https://github.com/redeboer/polarization-sensitivity/pull/11#issuecomment-1128784376\n",
    "    safe_update_parameters(R_dec, 1.5)\n",
    "    safe_update_parameters(R_prod, 5)\n",
    "    return BreitWignerMinL(\n",
    "        s,\n",
    "        parent_mass,\n",
    "        spectator_mass,\n",
    "        resonance_mass,\n",
    "        resonance_width,\n",
    "        child1_mass,\n",
    "        child2_mass,\n",
    "        l_dec,\n",
    "        l_prod,\n",
    "        R_dec,\n",
    "        R_prod,\n",
    "    )\n",
    "\n",
    "\n",
    "def formulate_bugg_breit_wigner(decay: ThreeBodyDecayChain):\n",
    "    if set(decay.decay_products) != {π, K}:\n",
    "        raise ValueError(\"Bugg Breit-Wigner only defined for K* → Kπ\")\n",
    "    s = get_mandelstam_s(decay)\n",
    "    gamma = sp.Symbol(Rf\"\\gamma_{{{decay.resonance.latex}}}\")\n",
    "    mass = sp.Symbol(f\"m_{{{decay.resonance.latex}}}\")\n",
    "    width = sp.Symbol(Rf\"\\Gamma_{{{decay.resonance.latex}}}\")\n",
    "    safe_update_parameters(mass, decay.resonance.mass)\n",
    "    safe_update_parameters(width, decay.resonance.width)\n",
    "    safe_update_parameters(m2, π.mass)\n",
    "    safe_update_parameters(m3, K.mass)\n",
    "    safe_update_parameters(gamma, 1)\n",
    "    return BuggBreitWigner(s, mass, width, m3, m2, gamma)  # Adler zero for K minus π\n",
    "\n",
    "\n",
    "def formulate_flatté_1405(decay: ThreeBodyDecayChain):\n",
    "    s = get_mandelstam_s(decay)\n",
    "    m1, m2 = map(to_mass_symbol, decay.decay_products)\n",
    "    mass = sp.Symbol(f\"m_{{{decay.resonance.latex}}}\")\n",
    "    width = sp.Symbol(Rf\"\\Gamma_{{{decay.resonance.latex}}}\")\n",
    "    mπ = sp.Symbol(f\"m_{{{π.latex}}}\")\n",
    "    mΣ = sp.Symbol(f\"m_{{{Σ.latex}}}\")\n",
    "    safe_update_parameters(mass, decay.resonance.mass)\n",
    "    safe_update_parameters(width, decay.resonance.width)\n",
    "    safe_update_parameters(m1, decay.decay_products[0].mass)\n",
    "    safe_update_parameters(m2, decay.decay_products[1].mass)\n",
    "    safe_update_parameters(mπ, π.mass)\n",
    "    safe_update_parameters(mΣ, Σ.mass)\n",
    "    return FlattéSWave(s, mass, width, (m1, m2), (mπ, mΣ))\n",
    "\n",
    "\n",
    "parameter_defaults = {}\n",
    "\n",
    "\n",
    "def safe_update_parameters(parameter: sp.Symbol, value) -> None:\n",
    "    parameter_defaults[parameter] = parameter_defaults.get(parameter, value)\n",
    "\n",
    "\n",
    "def stringify(obj) -> Str:\n",
    "    if isinstance(obj, Particle):\n",
    "        return Str(obj.latex)\n",
    "    return Str(f\"{obj}\")\n",
    "\n",
    "\n",
    "def filter_isobars(\n",
    "    decay: ThreeBodyDecay, resonance_pattern: str\n",
    ") -> List[ThreeBodyDecayChain]:\n",
    "    return [\n",
    "        chain\n",
    "        for chain in decay.chains\n",
    "        if chain.resonance.name.startswith(resonance_pattern)\n",
    "    ]"
   ]
  },
  {
   "cell_type": "markdown",
   "metadata": {},
   "source": [
    "### Angle definitions"
   ]
  },
  {
   "cell_type": "code",
   "execution_count": null,
   "metadata": {
    "jupyter": {
     "source_hidden": true
    },
    "tags": [
     "scroll-input",
     "hide-input"
    ]
   },
   "outputs": [],
   "source": [
    "m0 = sp.Symbol(\"m0\", nonnegative=True)\n",
    "angles = {\n",
    "    θ12: θ12_expr,\n",
    "    θ23: θ23_expr,\n",
    "    θ31: θ31_expr,\n",
    "    ζ_0_11: ζ_0_11_expr,\n",
    "    ζ_0_21: ζ_0_21_expr,\n",
    "    ζ_0_31: ζ_0_31_expr,\n",
    "    ζ_1_11: ζ_1_11_expr,\n",
    "    ζ_1_21: ζ_1_21_expr,\n",
    "    ζ_1_31: ζ_1_31_expr,\n",
    "}\n",
    "display_latex(angles)"
   ]
  },
  {
   "cell_type": "code",
   "execution_count": null,
   "metadata": {
    "jupyter": {
     "source_hidden": true
    },
    "tags": [
     "hide-input"
    ]
   },
   "outputs": [],
   "source": [
    "masses = {\n",
    "    m0: Λc.mass,\n",
    "    m1: p.mass,\n",
    "    m2: π.mass,\n",
    "    m3: K.mass,\n",
    "}\n",
    "display_latex(masses)"
   ]
  },
  {
   "cell_type": "markdown",
   "metadata": {},
   "source": [
    "### Intensity expression"
   ]
  },
  {
   "cell_type": "code",
   "execution_count": null,
   "metadata": {
    "jupyter": {
     "source_hidden": true
    },
    "tags": [
     "hide-input",
     "full-width"
    ]
   },
   "outputs": [],
   "source": [
    "intensity_expr = PoolSum(\n",
    "    sp.Abs(formulate_aligned_amplitude(ν, λ)) ** 2,\n",
    "    (λ, [-half, +half]),\n",
    "    (ν, [-half, +half]),\n",
    ")\n",
    "display(intensity_expr)"
   ]
  },
  {
   "cell_type": "code",
   "execution_count": null,
   "metadata": {
    "jupyter": {
     "source_hidden": true
    },
    "tags": [
     "hide-input",
     "full-width"
    ]
   },
   "outputs": [],
   "source": [
    "A = {1: A1, 2: A2, 3: A3}\n",
    "amp_definitions = {}\n",
    "for subsystem in range(1, 4):\n",
    "    for Λc_heli, p_heli in product([-half, +half], [-half, +half]):\n",
    "        symbol = A[subsystem][Λc_heli, p_heli]\n",
    "        expr = formulate_subsystem_amplitude(subsystem, ν, λ)\n",
    "        amp_definitions[symbol] = expr.subs({ν: Λc_heli, λ: p_heli})\n",
    "display_latex(amp_definitions)"
   ]
  },
  {
   "cell_type": "markdown",
   "metadata": {},
   "source": [
    "## Parameter definitions"
   ]
  },
  {
   "cell_type": "code",
   "execution_count": null,
   "metadata": {
    "jupyter": {
     "source_hidden": true
    },
    "tags": [
     "hide-cell",
     "scroll-input"
    ]
   },
   "outputs": [],
   "source": [
    "from polarization.lhcb import load_model_parameters\n",
    "\n",
    "imported_parameter_values = load_model_parameters(\n",
    "    \"../data/modelparameters.json\", model_number=0\n",
    ")\n",
    "parameter_defaults.update(imported_parameter_values)"
   ]
  },
  {
   "cell_type": "markdown",
   "metadata": {
    "tags": []
   },
   "source": [
    "### Helicity coupling values"
   ]
  },
  {
   "cell_type": "markdown",
   "metadata": {},
   "source": [
    "#### Production couplings"
   ]
  },
  {
   "cell_type": "code",
   "execution_count": null,
   "metadata": {
    "jupyter": {
     "source_hidden": true
    },
    "tags": [
     "hide-cell"
    ]
   },
   "outputs": [],
   "source": [
    "prod_couplings = {\n",
    "    key: value\n",
    "    for key, value in parameter_defaults.items()\n",
    "    if isinstance(key, sp.Indexed) and key.base == H_prod\n",
    "}\n",
    "display_latex(prod_couplings)"
   ]
  },
  {
   "cell_type": "markdown",
   "metadata": {},
   "source": [
    "#### Decay couplings"
   ]
  },
  {
   "cell_type": "code",
   "execution_count": null,
   "metadata": {
    "jupyter": {
     "source_hidden": true
    },
    "tags": [
     "hide-input"
    ]
   },
   "outputs": [],
   "source": [
    "dec_couplings = {}\n",
    "for chain in decay.chains:\n",
    "    i = stringify(chain.resonance)\n",
    "    if chain.resonance.name.startswith(\"K\"):\n",
    "        dec_couplings[H_dec[i, 0, 0]] = 1\n",
    "    if chain.resonance.name.startswith(\"L\"):\n",
    "        dec_couplings[H_dec[i, 0, half]] = 1\n",
    "        dec_couplings[H_dec[i, 0, -half]] = (\n",
    "            int(chain.resonance.parity)\n",
    "            * int(K.parity)\n",
    "            * int(p.parity)\n",
    "            * (-1) ** (chain.resonance.spin - K.spin - p.spin)\n",
    "        )\n",
    "    if chain.resonance.name.startswith(\"D\"):\n",
    "        dec_couplings[H_dec[i, half, 0]] = 1\n",
    "        dec_couplings[H_dec[i, -half, 0]] = (\n",
    "            int(chain.resonance.parity)\n",
    "            * int(p.parity)\n",
    "            * int(π.parity)\n",
    "            * (-1) ** (chain.resonance.spin - p.spin - π.spin)\n",
    "        )\n",
    "parameter_defaults.update(dec_couplings)\n",
    "display_latex(dec_couplings)"
   ]
  },
  {
   "cell_type": "markdown",
   "metadata": {},
   "source": [
    "### Non-coupling parameters"
   ]
  },
  {
   "cell_type": "code",
   "execution_count": null,
   "metadata": {
    "jupyter": {
     "source_hidden": true
    },
    "tags": [
     "hide-input"
    ]
   },
   "outputs": [],
   "source": [
    "couplings = set(dec_couplings) | set(prod_couplings)\n",
    "display_latex({k: v for k, v in parameter_defaults.items() if k not in couplings})"
   ]
  }
 ],
 "metadata": {
  "kernelspec": {
   "display_name": "Python 3.8.13 ('polarization')",
   "language": "python",
   "name": "python3"
  },
  "language_info": {
   "codemirror_mode": {
    "name": "ipython",
    "version": 3
   },
   "file_extension": ".py",
   "mimetype": "text/x-python",
   "name": "python",
   "nbconvert_exporter": "python",
   "pygments_lexer": "ipython3",
   "version": "3.8.13"
  }
 },
 "nbformat": 4,
 "nbformat_minor": 4
}
