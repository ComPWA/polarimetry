{
 "cells": [
  {
   "cell_type": "markdown",
   "metadata": {},
   "source": [
    "# Amplitude model"
   ]
  },
  {
   "cell_type": "markdown",
   "metadata": {},
   "source": [
    "```{autolink-concat}\n",
    "```"
   ]
  },
  {
   "cell_type": "code",
   "execution_count": null,
   "metadata": {
    "jupyter": {
     "source_hidden": true
    },
    "tags": [
     "hide-cell",
     "scroll-input"
    ]
   },
   "outputs": [],
   "source": [
    "import json\n",
    "from itertools import product\n",
    "from typing import Dict, List, Union  # run magic does not support PEP563\n",
    "\n",
    "import sympy as sp\n",
    "from ampform.sympy import PoolSum\n",
    "from IPython.display import Markdown, display\n",
    "from sympy.core.symbol import Str\n",
    "from sympy.physics.quantum.spin import Rotation as Wigner\n",
    "\n",
    "from polarization.decay import Particle, Resonance, ThreeBodyDecay\n",
    "from polarization.dynamics import BreitWignerMinL, BuggBreitWigner, FlattéSWave, Källén\n",
    "from polarization.io import as_markdown_table, display_latex\n",
    "from polarization.lhcb import K, Λc, Σ, load_three_body_decays, p, π\n",
    "from polarization.spin import create_spin_range\n",
    "\n",
    "\n",
    "# hack for moving Indexed indices below superscript of the base\n",
    "def _print_Indexed_latex(self, printer, *args):\n",
    "    base = printer._print(self.base)\n",
    "    indices = \", \".join(map(printer._print, self.indices))\n",
    "    return f\"{base}_{{{indices}}}\"\n",
    "\n",
    "\n",
    "sp.Indexed._latex = _print_Indexed_latex"
   ]
  },
  {
   "cell_type": "markdown",
   "metadata": {},
   "source": [
    "## Resonances and LS-scheme"
   ]
  },
  {
   "cell_type": "markdown",
   "metadata": {},
   "source": [
    "Particle definitions for $\\Lambda_c^+$ and $p, \\pi^+, K^-$:"
   ]
  },
  {
   "cell_type": "code",
   "execution_count": null,
   "metadata": {
    "jupyter": {
     "source_hidden": true
    },
    "tags": [
     "hide-input"
    ]
   },
   "outputs": [],
   "source": [
    "Markdown(as_markdown_table([Λc, p, π, K, Σ]))"
   ]
  },
  {
   "cell_type": "markdown",
   "metadata": {
    "tags": []
   },
   "source": [
    "Resonance definitions as defined in {download}`data/isobars.json <../data/isobars.json>`:"
   ]
  },
  {
   "cell_type": "code",
   "execution_count": null,
   "metadata": {
    "tags": []
   },
   "outputs": [],
   "source": [
    "decays = load_three_body_decays(\"../data/isobars.json\")"
   ]
  },
  {
   "cell_type": "code",
   "execution_count": null,
   "metadata": {
    "jupyter": {
     "source_hidden": true
    },
    "tags": [
     "hide-input",
     "full-width"
    ]
   },
   "outputs": [],
   "source": [
    "src = as_markdown_table(decays)\n",
    "Markdown(src)"
   ]
  },
  {
   "cell_type": "markdown",
   "metadata": {},
   "source": [
    "## Amplitude"
   ]
  },
  {
   "cell_type": "markdown",
   "metadata": {},
   "source": [
    "### Spin-alignment with DPD"
   ]
  },
  {
   "cell_type": "code",
   "execution_count": null,
   "metadata": {
    "jupyter": {
     "source_hidden": true
    },
    "tags": [
     "full-width",
     "hide-input"
    ]
   },
   "outputs": [],
   "source": [
    "A_K = sp.IndexedBase(R\"A^K\")\n",
    "A_Λ = sp.IndexedBase(R\"A^{\\Lambda}\")\n",
    "A_Δ = sp.IndexedBase(R\"A^{\\Delta}\")\n",
    "\n",
    "half = sp.S.Half\n",
    "\n",
    "ζ_0_11 = sp.Symbol(R\"\\zeta^0_{1(1)}\", real=True)\n",
    "ζ_0_21 = sp.Symbol(R\"\\zeta^0_{2(1)}\", real=True)\n",
    "ζ_0_31 = sp.Symbol(R\"\\zeta^0_{3(1)}\", real=True)\n",
    "ζ_1_11 = sp.Symbol(R\"\\zeta^1_{1(1)}\", real=True)\n",
    "ζ_1_21 = sp.Symbol(R\"\\zeta^1_{2(1)}\", real=True)\n",
    "ζ_1_31 = sp.Symbol(R\"\\zeta^1_{3(1)}\", real=True)\n",
    "\n",
    "\n",
    "def formulate_aligned_amplitude(λ_Λc, λ_p):\n",
    "    _ν = sp.Symbol(R\"\\nu^{\\prime}\", rational=True)\n",
    "    _λ = sp.Symbol(R\"\\lambda^{\\prime}\", rational=True)\n",
    "    return PoolSum(\n",
    "        A_K[_ν, _λ] * Wigner.d(half, λ_Λc, _ν, ζ_0_11) * Wigner.d(half, _λ, λ_p, ζ_1_11)\n",
    "        + A_Λ[_ν, _λ]\n",
    "        * Wigner.d(half, λ_Λc, _ν, ζ_0_21)\n",
    "        * Wigner.d(half, _λ, λ_p, ζ_1_21)\n",
    "        + A_Δ[_ν, _λ]\n",
    "        * Wigner.d(half, λ_Λc, _ν, ζ_0_31)\n",
    "        * Wigner.d(half, _λ, λ_p, ζ_1_31),\n",
    "        (_λ, [-half, +half]),\n",
    "        (_ν, [-half, +half]),\n",
    "    )\n",
    "\n",
    "\n",
    "ν = sp.Symbol(\"nu\")\n",
    "λ = sp.Symbol(\"lambda\")\n",
    "formulate_aligned_amplitude(λ_Λc=ν, λ_p=λ)"
   ]
  },
  {
   "cell_type": "markdown",
   "metadata": {},
   "source": [
    "### Sub-system amplitudes"
   ]
  },
  {
   "cell_type": "markdown",
   "metadata": {},
   "source": [
    ":::{warning}\n",
    "\n",
    "Couplings are remapped from the LHCb paper to Dalitz-Plot Decomposition with [these relations](https://user-images.githubusercontent.com/22725744/165932213-34013235-8464-4018-bd21-3ebde1e86faf.png).\n",
    "\n",
    ":::"
   ]
  },
  {
   "cell_type": "code",
   "execution_count": null,
   "metadata": {
    "jupyter": {
     "source_hidden": true
    },
    "tags": [
     "scroll-input",
     "hide-input",
     "full-width"
    ]
   },
   "outputs": [],
   "source": [
    "H_prod = sp.IndexedBase(R\"\\mathcal{H}^\\mathrm{production}\")\n",
    "H_dec = sp.IndexedBase(R\"\\mathcal{H}^\\mathrm{decay}\")\n",
    "\n",
    "θ23 = sp.Symbol(\"theta23\", real=True)\n",
    "θ31 = sp.Symbol(\"theta31\", real=True)\n",
    "θ12 = sp.Symbol(\"theta12\", real=True)\n",
    "\n",
    "\n",
    "def to_mass_symbol(particle: Resonance) -> sp.Symbol:\n",
    "    return sp.Symbol(f\"m_{{{particle.latex}}}\")\n",
    "\n",
    "\n",
    "σ1, σ2, σ3 = sp.symbols(\"sigma1:4\", nonnegative=True)\n",
    "m1, m2, m3 = map(to_mass_symbol, [p, π, K])\n",
    "\n",
    "\n",
    "def get_mandelstam_s(decay: ThreeBodyDecay) -> sp.Symbol:\n",
    "    decay_masses = {to_mass_symbol(p) for p in decay.decay_products}\n",
    "    if decay_masses == {m2, m3}:\n",
    "        return σ1\n",
    "    if decay_masses == {m1, m3}:\n",
    "        return σ2\n",
    "    if decay_masses == {m1, m2}:\n",
    "        return σ3\n",
    "    raise NotImplementedError(\n",
    "        f\"Cannot find Mandelstam variable for {''.join(decay_masses)}\"\n",
    "    )\n",
    "\n",
    "\n",
    "def formulate_subsystem_amplitude(subsystem: int, λ_Λc, λ_p):\n",
    "    if subsystem == 1:\n",
    "        return formulate_K_amplitude(λ_Λc, λ_p, filter_isobars(decays, \"K\"))\n",
    "    if subsystem == 2:\n",
    "        return formulate_Λ_amplitude(λ_Λc, λ_p, filter_isobars(decays, \"L\"))\n",
    "    if subsystem == 3:\n",
    "        return formulate_Δ_amplitude(λ_Λc, λ_p, filter_isobars(decays, \"D\"))\n",
    "    raise NotImplementedError(f\"No chain implemented for sub-system {subsystem}\")\n",
    "\n",
    "\n",
    "def formulate_K_amplitude(λ_Λc, λ_p, decays: List[ThreeBodyDecay]):\n",
    "    τ = sp.Symbol(\"tau\", rational=True)\n",
    "    return sp.Add(\n",
    "        *[\n",
    "            PoolSum(\n",
    "                sp.KroneckerDelta(λ_Λc, τ - λ_p)\n",
    "                * H_prod[stringify(decay.resonance), τ, -λ_p]\n",
    "                * formulate_dynamics(decay)\n",
    "                * (-1) ** (half - λ_p)\n",
    "                * Wigner.d(sp.Rational(decay.resonance.spin), τ, 0, θ23)\n",
    "                * H_dec[stringify(decay.resonance), 0, 0],\n",
    "                (τ, create_spin_range(decay.resonance.spin)),\n",
    "            )\n",
    "            for decay in decays\n",
    "        ]\n",
    "    )\n",
    "\n",
    "\n",
    "def formulate_Λ_amplitude(λ_Λc, λ_p, decays: List[ThreeBodyDecay]):\n",
    "    τ = sp.Symbol(\"tau\", rational=True)\n",
    "    return sp.Add(\n",
    "        *[\n",
    "            PoolSum(\n",
    "                sp.KroneckerDelta(λ_Λc, τ)\n",
    "                * H_prod[stringify(decay.resonance), -τ, 0]\n",
    "                * formulate_dynamics(decay)\n",
    "                * Wigner.d(sp.Rational(decay.resonance.spin), τ, -λ_p, θ31)\n",
    "                * H_dec[stringify(decay.resonance), 0, λ_p]\n",
    "                * (-1) ** (half - λ_p)\n",
    "                / (-decay.resonance.parity),\n",
    "                (τ, create_spin_range(decay.resonance.spin)),\n",
    "            )\n",
    "            for decay in decays\n",
    "        ]\n",
    "    )\n",
    "\n",
    "\n",
    "def formulate_Δ_amplitude(λ_Λc, λ_p, decays: List[ThreeBodyDecay]):\n",
    "    τ = sp.Symbol(\"tau\", rational=True)\n",
    "    return sp.Add(\n",
    "        *[\n",
    "            PoolSum(\n",
    "                sp.KroneckerDelta(λ_Λc, τ)\n",
    "                * H_prod[stringify(decay.resonance), -τ, 0]\n",
    "                * formulate_dynamics(decay)\n",
    "                * Wigner.d(sp.Rational(decay.resonance.spin), τ, λ_p, θ12)\n",
    "                * H_dec[stringify(decay.resonance), λ_p, 0]\n",
    "                / (-decay.resonance.parity * (-1) ** (decay.resonance.spin - half)),\n",
    "                (τ, create_spin_range(decay.resonance.spin)),\n",
    "            )\n",
    "            for decay in decays\n",
    "        ]\n",
    "    )\n",
    "\n",
    "\n",
    "def formulate_dynamics(decay: ThreeBodyDecay):\n",
    "    lineshape = decay.resonance.lineshape\n",
    "    if lineshape == \"BreitWignerMinL\":\n",
    "        return formulate_breit_wigner(decay)\n",
    "    if lineshape == \"BuggBreitWignerMinL\":\n",
    "        return formulate_bugg_breit_wigner(decay)\n",
    "    if lineshape == \"Flatte1405\":\n",
    "        return formulate_flatté_1405(decay)\n",
    "    raise NotImplementedError(f'No dynamics implemented for lineshape \"{lineshape}\"')\n",
    "\n",
    "\n",
    "def formulate_breit_wigner(decay: ThreeBodyDecay):\n",
    "    s = get_mandelstam_s(decay)\n",
    "    child1_mass, child2_mass = map(to_mass_symbol, decay.decay_products)\n",
    "    l_dec = sp.Rational(decay.outgoing_ls.L)\n",
    "    l_prod = sp.Rational(decay.incoming_ls.L)\n",
    "    parent_mass = sp.Symbol(f\"m_{{{decay.parent.latex}}}\")\n",
    "    spectator_mass = sp.Symbol(f\"m_{{{decay.spectator.latex}}}\")\n",
    "    resonance_mass = sp.Symbol(f\"m_{{{decay.resonance.latex}}}\")\n",
    "    resonance_width = sp.Symbol(Rf\"\\Gamma_{{{decay.resonance.latex}}}\")\n",
    "    R_dec = sp.Symbol(R\"R_\\mathrm{res}\")\n",
    "    R_prod = sp.Symbol(R\"R_{\\Lambda_c}\")\n",
    "    safe_update_parameters(parent_mass, decay.parent.mass)\n",
    "    safe_update_parameters(spectator_mass, decay.spectator.mass)\n",
    "    safe_update_parameters(resonance_mass, decay.resonance.mass)\n",
    "    safe_update_parameters(resonance_width, decay.resonance.width)\n",
    "    safe_update_parameters(child1_mass, decay.decay_products[0].mass)\n",
    "    safe_update_parameters(child2_mass, decay.decay_products[1].mass)\n",
    "    # https://github.com/redeboer/polarization-sensitivity/pull/11#issuecomment-1128784376\n",
    "    safe_update_parameters(R_dec, 1.5)\n",
    "    safe_update_parameters(R_prod, 5)\n",
    "    return BreitWignerMinL(\n",
    "        s,\n",
    "        parent_mass,\n",
    "        spectator_mass,\n",
    "        resonance_mass,\n",
    "        resonance_width,\n",
    "        child1_mass,\n",
    "        child2_mass,\n",
    "        l_dec,\n",
    "        l_prod,\n",
    "        R_dec,\n",
    "        R_prod,\n",
    "    )\n",
    "\n",
    "\n",
    "def formulate_bugg_breit_wigner(decay: ThreeBodyDecay):\n",
    "    decay_masses = set(map(to_mass_symbol, decay.decay_products))\n",
    "    if decay_masses != {m2, m3}:\n",
    "        raise ValueError(\"Bugg Breit-Wigner only defined for K* → Kπ\")\n",
    "    s = get_mandelstam_s(decay)\n",
    "    gamma = sp.Symbol(Rf\"\\gamma_{{{decay.resonance.latex}}}\")\n",
    "    mass = sp.Symbol(f\"m_{{{decay.resonance.latex}}}\")\n",
    "    width = sp.Symbol(Rf\"\\Gamma_{{{decay.resonance.latex}}}\")\n",
    "    safe_update_parameters(mass, decay.resonance.mass)\n",
    "    safe_update_parameters(width, decay.resonance.width)\n",
    "    safe_update_parameters(m2, π.mass)\n",
    "    safe_update_parameters(m3, K.mass)\n",
    "    safe_update_parameters(gamma, 1)\n",
    "    return BuggBreitWigner(s, mass, width, m3, m2, gamma)  # Adler zero for K minus π\n",
    "\n",
    "\n",
    "def formulate_flatté_1405(decay: ThreeBodyDecay):\n",
    "    s = get_mandelstam_s(decay)\n",
    "    m1, m2 = map(to_mass_symbol, decay.decay_products)\n",
    "    mass = sp.Symbol(f\"m_{{{decay.resonance.latex}}}\")\n",
    "    width = sp.Symbol(Rf\"\\Gamma_{{{decay.resonance.latex}}}\")\n",
    "    mπ = sp.Symbol(f\"m_{{{π.latex}}}\")\n",
    "    mΣ = sp.Symbol(f\"m_{{{Σ.latex}}}\")\n",
    "    safe_update_parameters(mass, decay.resonance.mass)\n",
    "    safe_update_parameters(width, decay.resonance.width)\n",
    "    safe_update_parameters(m1, decay.decay_products[0].mass)\n",
    "    safe_update_parameters(m2, decay.decay_products[1].mass)\n",
    "    safe_update_parameters(mπ, π.mass)\n",
    "    safe_update_parameters(mΣ, Σ.mass)\n",
    "    return FlattéSWave(s, mass, width, (m1, m2), (mπ, mΣ))\n",
    "\n",
    "\n",
    "parameter_defaults = {}\n",
    "\n",
    "\n",
    "def safe_update_parameters(parameter: sp.Symbol, value) -> None:\n",
    "    parameter_defaults[parameter] = parameter_defaults.get(parameter, value)\n",
    "\n",
    "\n",
    "def stringify(obj) -> Str:\n",
    "    if isinstance(obj, Particle):\n",
    "        return Str(obj.latex)\n",
    "    return Str(f\"{obj}\")\n",
    "\n",
    "\n",
    "def filter_isobars(\n",
    "    decays: List[ThreeBodyDecay], resonance_pattern: str\n",
    ") -> List[ThreeBodyDecay]:\n",
    "    return [dec for dec in decays if dec.resonance.name.startswith(resonance_pattern)]"
   ]
  },
  {
   "cell_type": "markdown",
   "metadata": {},
   "source": [
    "### Angle definitions"
   ]
  },
  {
   "cell_type": "code",
   "execution_count": null,
   "metadata": {
    "jupyter": {
     "source_hidden": true
    },
    "tags": [
     "scroll-input",
     "hide-input"
    ]
   },
   "outputs": [],
   "source": [
    "m0 = sp.Symbol(R\"m_{\\Lambda_c}\", nonnegative=True)\n",
    "angles = {\n",
    "    θ12: sp.acos(\n",
    "        (\n",
    "            2 * σ3 * (σ2 - m3**2 - m1**2)\n",
    "            - (σ3 + m1**2 - m2**2) * (m0**2 - σ3 - m3**2)\n",
    "        )\n",
    "        / (\n",
    "            sp.sqrt(Källén(m0**2, m3**2, σ3))\n",
    "            * sp.sqrt(Källén(σ3, m1**2, m2**2))\n",
    "        )\n",
    "    ),\n",
    "    θ23: sp.acos(\n",
    "        (\n",
    "            2 * σ1 * (σ3 - m1**2 - m2**2)\n",
    "            - (σ1 + m2**2 - m3**2) * (m0**2 - σ1 - m1**2)\n",
    "        )\n",
    "        / (\n",
    "            sp.sqrt(Källén(m0**2, m1**2, σ1))\n",
    "            * sp.sqrt(Källén(σ1, m2**2, m3**2))\n",
    "        )\n",
    "    ),\n",
    "    θ31: sp.acos(\n",
    "        (\n",
    "            2 * σ2 * (σ1 - m2**2 - m3**2)\n",
    "            - (σ2 + m3**2 - m1**2) * (m0**2 - σ2 - m2**2)\n",
    "        )\n",
    "        / (\n",
    "            sp.sqrt(Källén(m0**2, m2**2, σ2))\n",
    "            * sp.sqrt(Källén(σ2, m3**2, m1**2))\n",
    "        )\n",
    "    ),\n",
    "    ζ_0_11: sp.S.Zero,  # = \\hat\\theta^0_{1(1)}\n",
    "    ζ_0_21: -sp.acos(  # = -\\hat\\theta^{1(2)}\n",
    "        (\n",
    "            (m0**2 + m1**2 - σ1) * (m0**2 + m2**2 - σ2)\n",
    "            - 2 * m0**2 * (σ3 - m1**2 - m2**2)\n",
    "        )\n",
    "        / (\n",
    "            sp.sqrt(Källén(m0**2, m2**2, σ2))\n",
    "            * sp.sqrt(Källén(m0**2, σ1, m1**2))\n",
    "        )\n",
    "    ),\n",
    "    ζ_0_31: sp.acos(  # = \\hat\\theta^{3(1)}\n",
    "        (\n",
    "            (m0**2 + m3**2 - σ3) * (m0**2 + m1**2 - σ1)\n",
    "            - 2 * m0**2 * (σ2 - m3**2 - m1**2)\n",
    "        )\n",
    "        / (\n",
    "            sp.sqrt(Källén(m0**2, m1**2, σ1))\n",
    "            * sp.sqrt(Källén(m0**2, σ3, m3**2))\n",
    "        )\n",
    "    ),\n",
    "    ζ_1_11: sp.S.Zero,\n",
    "    ζ_1_21: sp.acos(\n",
    "        (\n",
    "            2 * m1**2 * (σ3 - m0**2 - m3**2)\n",
    "            + (m0**2 + m1**2 - σ1) * (σ2 - m1**2 - m3**2)\n",
    "        )\n",
    "        / (\n",
    "            sp.sqrt(Källén(m0**2, m1**2, σ1))\n",
    "            * sp.sqrt(Källén(σ2, m1**2, m3**2))\n",
    "        )\n",
    "    ),\n",
    "    ζ_1_31: -sp.acos(  # = -\\zeta^1_{1(3)}\n",
    "        (\n",
    "            2 * m1**2 * (σ2 - m0**2 - m2**2)\n",
    "            + (m0**2 + m1**2 - σ1) * (σ3 - m1**2 - m2**2)\n",
    "        )\n",
    "        / (\n",
    "            sp.sqrt(Källén(m0**2, m1**2, σ1))\n",
    "            * sp.sqrt(Källén(σ3, m1**2, m2**2))\n",
    "        )\n",
    "    ),\n",
    "}\n",
    "\n",
    "display_latex(angles)"
   ]
  },
  {
   "cell_type": "code",
   "execution_count": null,
   "metadata": {
    "jupyter": {
     "source_hidden": true
    },
    "tags": [
     "hide-input"
    ]
   },
   "outputs": [],
   "source": [
    "masses = {\n",
    "    m0: Λc.mass,\n",
    "    m1: p.mass,\n",
    "    m2: π.mass,\n",
    "    m3: K.mass,\n",
    "}\n",
    "display_latex(masses)"
   ]
  },
  {
   "cell_type": "markdown",
   "metadata": {},
   "source": [
    "### Intensity expression"
   ]
  },
  {
   "cell_type": "code",
   "execution_count": null,
   "metadata": {
    "jupyter": {
     "source_hidden": true
    },
    "tags": [
     "hide-input",
     "full-width"
    ]
   },
   "outputs": [],
   "source": [
    "intensity_expr = PoolSum(\n",
    "    sp.Abs(formulate_aligned_amplitude(ν, λ)) ** 2,\n",
    "    (λ, [-half, +half]),\n",
    "    (ν, [-half, +half]),\n",
    ")\n",
    "display(intensity_expr)"
   ]
  },
  {
   "cell_type": "code",
   "execution_count": null,
   "metadata": {
    "jupyter": {
     "source_hidden": true
    },
    "tags": [
     "hide-input",
     "full-width"
    ]
   },
   "outputs": [],
   "source": [
    "A = {1: A_K, 2: A_Λ, 3: A_Δ}\n",
    "amp_definitions = {}\n",
    "for subsystem in range(1, 4):\n",
    "    for Λc_heli, p_heli in product([-half, +half], [-half, +half]):\n",
    "        symbol = A[subsystem][Λc_heli, p_heli]\n",
    "        expr = formulate_subsystem_amplitude(subsystem, ν, λ)\n",
    "        amp_definitions[symbol] = expr.subs({ν: Λc_heli, λ: p_heli})\n",
    "display_latex(amp_definitions)"
   ]
  },
  {
   "cell_type": "markdown",
   "metadata": {},
   "source": [
    "## Parameter definitions"
   ]
  },
  {
   "cell_type": "markdown",
   "metadata": {
    "tags": []
   },
   "source": [
    "### Helicity coupling values"
   ]
  },
  {
   "cell_type": "markdown",
   "metadata": {},
   "source": [
    "#### Production couplings"
   ]
  },
  {
   "cell_type": "code",
   "execution_count": null,
   "metadata": {
    "jupyter": {
     "source_hidden": true
    },
    "tags": [
     "hide-cell",
     "scroll-input"
    ]
   },
   "outputs": [],
   "source": [
    "def to_symbol_definitions(\n",
    "    parameter_dict: Dict[str, str]\n",
    ") -> Dict[sp.Basic, Union[complex, float]]:\n",
    "    key_to_val: Dict[str, Union[complex, float]] = {}\n",
    "    for key, str_value in parameter_dict.items():\n",
    "        if key.startswith(\"Ar\"):\n",
    "            identifier = key[2:]\n",
    "            str_imag = parameter_dict[f\"Ai{identifier}\"]\n",
    "            real = to_float(str_value)\n",
    "            imag = to_float(str_imag)\n",
    "            key_to_val[f\"A{identifier}\"] = complex(real, imag)\n",
    "        elif key.startswith(\"Ai\"):\n",
    "            continue\n",
    "        else:\n",
    "            key_to_val[key] = to_float(str_value)\n",
    "    return {to_symbol(key): value for key, value in key_to_val.items()}\n",
    "\n",
    "\n",
    "def to_float(str_value: str) -> float:\n",
    "    value, _ = map(float, str_value.split(\" ± \"))\n",
    "    return value\n",
    "\n",
    "\n",
    "def to_symbol(key: str) -> Union[sp.Indexed, sp.Symbol]:\n",
    "    if key.startswith(\"A\"):\n",
    "        res = stringify(key[1:-1])\n",
    "        i = int(key[-1])\n",
    "        if str(res).startswith(\"L\"):\n",
    "            if i == 1:\n",
    "                return H_prod[res, +half, 0]\n",
    "            if i == 2:\n",
    "                return H_prod[res, -half, 0]\n",
    "        if str(res).startswith(\"D\"):\n",
    "            if i == 1:\n",
    "                return H_prod[res, +half, 0]\n",
    "            if i == 2:\n",
    "                return H_prod[res, -half, 0]\n",
    "        if str(res).startswith(\"K\"):\n",
    "            if str(res) in {\"K(700)\", \"K(1430)\"}:\n",
    "                if i == 1:\n",
    "                    return H_prod[res, 0, -half]\n",
    "                if i == 2:\n",
    "                    return H_prod[res, 0, +half]\n",
    "            else:\n",
    "                if i == 1:\n",
    "                    return H_prod[res, 0, +half]\n",
    "                if i == 2:\n",
    "                    return H_prod[res, -1, +half]\n",
    "                if i == 3:\n",
    "                    return H_prod[res, +1, -half]\n",
    "                if i == 4:\n",
    "                    return H_prod[res, 0, -half]\n",
    "    if key.startswith(\"gamma\"):\n",
    "        res = stringify(key[5:])\n",
    "        return sp.Symbol(Rf\"\\gamma_{{{res}}}\")\n",
    "    if key.startswith(\"M\"):\n",
    "        res = stringify(key[1:])\n",
    "        return sp.Symbol(Rf\"m_{{{res}}}\")\n",
    "    if key.startswith(\"G\"):\n",
    "        res = stringify(key[1:])\n",
    "        return sp.Symbol(Rf\"\\Gamma_{{{res}}}\")\n",
    "    raise NotImplementedError(\n",
    "        f'Cannot convert key \"{key}\" in model parameter JSON file to SymPy symbol'\n",
    "    )\n",
    "\n",
    "\n",
    "with open(\"../data/modelparameters.json\") as stream:\n",
    "    data = json.load(stream)\n",
    "assert len(data[\"modelstudies\"]) == 18\n",
    "\n",
    "model_number = 0\n",
    "model_json = data[\"modelstudies\"][model_number][\"parameters\"]\n",
    "# https://github.com/redeboer/polarization-sensitivity/blob/34f5330/julia/notebooks/model0.jl#L301-L302\n",
    "model_json[\"ArK(892)1\"] = \"1.0 ± 0.0\"\n",
    "model_json[\"AiK(892)1\"] = \"0.0 ± 0.0\"\n",
    "\n",
    "parameter_defaults.update(to_symbol_definitions(model_json))"
   ]
  },
  {
   "cell_type": "code",
   "execution_count": null,
   "metadata": {
    "jupyter": {
     "source_hidden": true
    },
    "tags": [
     "hide-input"
    ]
   },
   "outputs": [],
   "source": [
    "prod_couplings = {\n",
    "    key: value\n",
    "    for key, value in parameter_defaults.items()\n",
    "    if isinstance(key, sp.Indexed) and key.base == H_prod\n",
    "}\n",
    "display_latex(prod_couplings)"
   ]
  },
  {
   "cell_type": "markdown",
   "metadata": {},
   "source": [
    "#### Decay couplings"
   ]
  },
  {
   "cell_type": "code",
   "execution_count": null,
   "metadata": {
    "jupyter": {
     "source_hidden": true
    },
    "tags": [
     "hide-input"
    ]
   },
   "outputs": [],
   "source": [
    "dec_couplings = {}\n",
    "for decay in decays:\n",
    "    i = stringify(decay.resonance)\n",
    "    if decay.resonance.name.startswith(\"K\"):\n",
    "        dec_couplings[H_dec[i, 0, 0]] = 1\n",
    "    if decay.resonance.name.startswith(\"L\"):\n",
    "        dec_couplings[H_dec[i, 0, half]] = 1\n",
    "        dec_couplings[H_dec[i, 0, -half]] = (\n",
    "            int(decay.resonance.parity)\n",
    "            * int(K.parity)\n",
    "            * int(p.parity)\n",
    "            * (-1) ** (decay.resonance.spin - K.spin - p.spin)\n",
    "        )\n",
    "    if decay.resonance.name.startswith(\"D\"):\n",
    "        dec_couplings[H_dec[i, half, 0]] = 1\n",
    "        dec_couplings[H_dec[i, -half, 0]] = (\n",
    "            int(decay.resonance.parity)\n",
    "            * int(p.parity)\n",
    "            * int(π.parity)\n",
    "            * (-1) ** (decay.resonance.spin - p.spin - π.spin)\n",
    "        )\n",
    "parameter_defaults.update(dec_couplings)\n",
    "display_latex(dec_couplings)"
   ]
  },
  {
   "cell_type": "markdown",
   "metadata": {},
   "source": [
    "### Non-coupling parameters"
   ]
  },
  {
   "cell_type": "code",
   "execution_count": null,
   "metadata": {
    "jupyter": {
     "source_hidden": true
    },
    "tags": [
     "hide-input"
    ]
   },
   "outputs": [],
   "source": [
    "couplings = set(dec_couplings) | set(prod_couplings)\n",
    "display_latex({k: v for k, v in parameter_defaults.items() if k not in couplings})"
   ]
  }
 ],
 "metadata": {
  "kernelspec": {
   "display_name": "Python 3 (ipykernel)",
   "language": "python",
   "name": "python3"
  },
  "language_info": {
   "codemirror_mode": {
    "name": "ipython",
    "version": 3
   },
   "file_extension": ".py",
   "mimetype": "text/x-python",
   "name": "python",
   "nbconvert_exporter": "python",
   "pygments_lexer": "ipython3",
   "version": "3.8.13"
  }
 },
 "nbformat": 4,
 "nbformat_minor": 4
}
