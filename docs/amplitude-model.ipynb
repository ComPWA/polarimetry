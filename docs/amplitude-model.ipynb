{
 "cells": [
  {
   "cell_type": "markdown",
   "metadata": {},
   "source": [
    "# Amplitude model"
   ]
  },
  {
   "cell_type": "markdown",
   "metadata": {},
   "source": [
    "```{autolink-concat}\n",
    "```"
   ]
  },
  {
   "cell_type": "code",
   "execution_count": null,
   "metadata": {
    "jupyter": {
     "source_hidden": true
    },
    "tags": [
     "hide-cell",
     "scroll-input"
    ]
   },
   "outputs": [],
   "source": [
    "import sympy as sp\n",
    "from IPython.display import Markdown, display\n",
    "\n",
    "from polarization.amplitude import (\n",
    "    DalitzPlotDecompositionBuilder,\n",
    "    simplify_latex_rendering,\n",
    ")\n",
    "from polarization.io import as_markdown_table, display_latex\n",
    "from polarization.lhcb import _load_model_parameters, load_three_body_decays\n",
    "from polarization.lhcb.particle import K, Λc, Σ, p, π\n",
    "\n",
    "simplify_latex_rendering()"
   ]
  },
  {
   "cell_type": "markdown",
   "metadata": {},
   "source": [
    "## Resonances and LS-scheme"
   ]
  },
  {
   "cell_type": "markdown",
   "metadata": {},
   "source": [
    "Particle definitions for $\\Lambda_c^+$ and $p, \\pi^+, K^-$:"
   ]
  },
  {
   "cell_type": "code",
   "execution_count": null,
   "metadata": {
    "jupyter": {
     "source_hidden": true
    },
    "tags": [
     "hide-input"
    ]
   },
   "outputs": [],
   "source": [
    "Markdown(as_markdown_table([Λc, p, π, K, Σ]))"
   ]
  },
  {
   "cell_type": "markdown",
   "metadata": {
    "tags": []
   },
   "source": [
    "Resonance definitions as defined in {download}`data/isobars.json <../data/isobars.json>`:"
   ]
  },
  {
   "cell_type": "code",
   "execution_count": null,
   "metadata": {
    "tags": []
   },
   "outputs": [],
   "source": [
    "dynamics_configurator = load_three_body_decays(\"../data/isobars.json\")\n",
    "decay = dynamics_configurator.decay"
   ]
  },
  {
   "cell_type": "code",
   "execution_count": null,
   "metadata": {
    "jupyter": {
     "source_hidden": true
    },
    "tags": [
     "hide-input",
     "full-width"
    ]
   },
   "outputs": [],
   "source": [
    "src = as_markdown_table(decay)\n",
    "Markdown(src)"
   ]
  },
  {
   "cell_type": "markdown",
   "metadata": {},
   "source": [
    "## Amplitude"
   ]
  },
  {
   "cell_type": "markdown",
   "metadata": {},
   "source": [
    "### Spin-alignment amplitude"
   ]
  },
  {
   "cell_type": "markdown",
   "metadata": {},
   "source": [
    "The full intensity of the amplitude model is obtained by summing the following aligned amplitude over all helicity values $\\lambda_i$ in the initial state $0$ and final states $1, 2, 3$:"
   ]
  },
  {
   "cell_type": "code",
   "execution_count": null,
   "metadata": {
    "tags": []
   },
   "outputs": [],
   "source": [
    "amplitude_builder = DalitzPlotDecompositionBuilder(decay)\n",
    "amplitude_builder.dynamics_choices = dynamics_configurator\n",
    "model = amplitude_builder.formulate()"
   ]
  },
  {
   "cell_type": "code",
   "execution_count": null,
   "metadata": {
    "jupyter": {
     "source_hidden": true
    },
    "tags": [
     "hide-input",
     "full-width"
    ]
   },
   "outputs": [],
   "source": [
    "def simplify_notation(expr):\n",
    "    def substitute_node(node):\n",
    "        if isinstance(node, sp.Indexed):\n",
    "            if node.indices[2:] == (0, 0):\n",
    "                return sp.Indexed(node.base, *node.indices[:2])\n",
    "        return node\n",
    "\n",
    "    for node in sp.preorder_traversal(expr):\n",
    "        new_node = substitute_node(node)\n",
    "        expr = expr.xreplace({node: new_node})\n",
    "    return expr\n",
    "\n",
    "\n",
    "display(simplify_notation(model.intensity.args[0].args[0].args[0].cleanup()))"
   ]
  },
  {
   "cell_type": "markdown",
   "metadata": {
    "tags": []
   },
   "source": [
    "Note that we simplified notation here: the amplitude indices for the spinless states are not rendered and their corresponding Wigner-$d$ alignment functions are simply $1$.\n",
    "\n",
    "The relevant $\\zeta^i_{j(k)}$ angles are {doc}`defined as</appendix/angles>`:"
   ]
  },
  {
   "cell_type": "code",
   "execution_count": null,
   "metadata": {
    "jupyter": {
     "source_hidden": true
    },
    "tags": [
     "hide-input"
    ]
   },
   "outputs": [],
   "source": [
    "display_latex({k: v for k, v in model.variables.items() if \"zeta\" in str(k)})"
   ]
  },
  {
   "cell_type": "markdown",
   "metadata": {},
   "source": [
    "### Sub-system amplitudes"
   ]
  },
  {
   "cell_type": "code",
   "execution_count": null,
   "metadata": {
    "jupyter": {
     "source_hidden": true
    },
    "tags": [
     "hide-input",
     "full-width"
    ]
   },
   "outputs": [],
   "source": [
    "display_latex({simplify_notation(k): v for k, v in model.amplitudes.items()})"
   ]
  },
  {
   "cell_type": "markdown",
   "metadata": {
    "tags": []
   },
   "source": [
    "The $\\theta_{ij}$ angles are {doc}`defined as</appendix/angles>`:"
   ]
  },
  {
   "cell_type": "code",
   "execution_count": null,
   "metadata": {
    "jupyter": {
     "source_hidden": true
    },
    "tags": [
     "hide-input"
    ]
   },
   "outputs": [],
   "source": [
    "display_latex({k: v for k, v in model.variables.items() if \"theta\" in str(k)})"
   ]
  },
  {
   "cell_type": "markdown",
   "metadata": {},
   "source": [
    "Definitions for the $\\phi_{ij}$ angles can be found under {doc}`/appendix/angles`."
   ]
  },
  {
   "cell_type": "markdown",
   "metadata": {},
   "source": [
    "## Parameter definitions"
   ]
  },
  {
   "cell_type": "code",
   "execution_count": null,
   "metadata": {
    "jupyter": {
     "source_hidden": true
    },
    "tags": [
     "hide-cell",
     "scroll-input"
    ]
   },
   "outputs": [],
   "source": [
    "imported_parameter_values = _load_model_parameters(\n",
    "    \"../data/modelparameters.json\", decay, model_id=\"Default amplitude model.\"\n",
    ")\n",
    "not_defined_in_model = set(imported_parameter_values) - set(model.parameter_defaults)\n",
    "not_defined_in_model_text = \"\\n\" + \"\\n\".join(\n",
    "    map(str, sorted(not_defined_in_model, key=str))\n",
    ")\n",
    "assert not_defined_in_model == set(), not_defined_in_model_text\n",
    "model.parameter_defaults.update(imported_parameter_values)"
   ]
  },
  {
   "cell_type": "markdown",
   "metadata": {
    "tags": []
   },
   "source": [
    "### Helicity coupling values"
   ]
  },
  {
   "cell_type": "markdown",
   "metadata": {},
   "source": [
    "#### Production couplings"
   ]
  },
  {
   "cell_type": "code",
   "execution_count": null,
   "metadata": {
    "jupyter": {
     "source_hidden": true
    },
    "tags": [
     "hide-input"
    ]
   },
   "outputs": [],
   "source": [
    "production_couplings = {\n",
    "    key: value\n",
    "    for key, value in model.parameter_defaults.items()\n",
    "    if isinstance(key, sp.Indexed)\n",
    "    if \"production\" in str(key.base)\n",
    "    if str(value) != \"1\"\n",
    "}\n",
    "display_latex(production_couplings)"
   ]
  },
  {
   "cell_type": "markdown",
   "metadata": {},
   "source": [
    "#### Decay couplings"
   ]
  },
  {
   "cell_type": "code",
   "execution_count": null,
   "metadata": {
    "jupyter": {
     "source_hidden": true
    },
    "tags": [
     "hide-input"
    ]
   },
   "outputs": [],
   "source": [
    "decay_couplings = {\n",
    "    key: value\n",
    "    for key, value in model.parameter_defaults.items()\n",
    "    if isinstance(key, sp.Indexed)\n",
    "    if \"decay\" in str(key.base)\n",
    "}\n",
    "display_latex(decay_couplings)"
   ]
  },
  {
   "cell_type": "markdown",
   "metadata": {},
   "source": [
    "### Non-coupling parameters"
   ]
  },
  {
   "cell_type": "code",
   "execution_count": null,
   "metadata": {
    "jupyter": {
     "source_hidden": true
    },
    "tags": [
     "hide-input"
    ]
   },
   "outputs": [],
   "source": [
    "couplings = set(production_couplings) | set(decay_couplings)\n",
    "non_coupling_parameters = {\n",
    "    symbol: model.parameter_defaults[symbol]\n",
    "    for symbol in sorted(model.parameter_defaults, key=str)\n",
    "    if not isinstance(symbol, sp.Indexed)\n",
    "}\n",
    "display_latex(non_coupling_parameters)"
   ]
  }
 ],
 "metadata": {
  "kernelspec": {
   "display_name": "Python 3 (ipykernel)",
   "language": "python",
   "name": "python3"
  },
  "language_info": {
   "codemirror_mode": {
    "name": "ipython",
    "version": 3
   },
   "file_extension": ".py",
   "mimetype": "text/x-python",
   "name": "python",
   "nbconvert_exporter": "python",
   "pygments_lexer": "ipython3",
   "version": "3.8.13"
  }
 },
 "nbformat": 4,
 "nbformat_minor": 4
}
