{
 "cells": [
  {
   "cell_type": "markdown",
   "metadata": {},
   "source": [
    "# Polarization sensitivity in $\\Lambda_c \\to p \\pi K$"
   ]
  },
  {
   "cell_type": "markdown",
   "metadata": {},
   "source": [
    "_This notebook originates from [ComPWA/compwa-org#129](https://github.com/ComPWA/compwa-org/pull/129) [[TR-018](https://compwa-org--129.org.readthedocs.build/report/018.html)], [`625e50c`](https://github.com/ComPWA/compwa-org/pull/129/commits/94ceb51)._"
   ]
  },
  {
   "cell_type": "code",
   "execution_count": null,
   "metadata": {
    "jupyter": {
     "source_hidden": true
    },
    "tags": [
     "hide-cell"
    ]
   },
   "outputs": [],
   "source": [
    "from __future__ import annotations\n",
    "\n",
    "import itertools\n",
    "import logging\n",
    "from functools import partial\n",
    "\n",
    "import matplotlib.pyplot as plt\n",
    "import numpy as np\n",
    "import qrules\n",
    "import sympy as sp\n",
    "from ampform.sympy import PoolSum, UnevaluatedExpression\n",
    "from attrs import frozen\n",
    "from IPython.display import HTML, Math, display\n",
    "from ipywidgets import Button, Combobox, HBox, HTMLMath, Tab, VBox, interactive_output\n",
    "from matplotlib import cm\n",
    "from matplotlib.colors import LogNorm\n",
    "from qrules.particle import Particle\n",
    "from symplot import create_slider\n",
    "from sympy.core.symbol import Str\n",
    "from sympy.physics.matrices import msigma\n",
    "from sympy.physics.quantum.spin import Rotation as Wigner\n",
    "from tensorwaves.data.transform import SympyDataTransformer\n",
    "from tensorwaves.function.sympy import create_function, create_parametrized_function\n",
    "\n",
    "from polarization.dynamics import (\n",
    "    BlattWeisskopf,\n",
    "    EnergyDependentWidth,\n",
    "    Källén,\n",
    "    P,\n",
    "    Q,\n",
    "    RelativisticBreitWigner,\n",
    ")\n",
    "from polarization.io import as_latex\n",
    "\n",
    "LOGGER = logging.getLogger()\n",
    "LOGGER.setLevel(logging.ERROR)\n",
    "\n",
    "PDG = qrules.load_pdg()\n",
    "\n",
    "\n",
    "def display_latex(obj) -> None:\n",
    "    latex = as_latex(obj)\n",
    "    display(Math(latex))\n",
    "\n",
    "\n",
    "def display_doit(\n",
    "    expr: UnevaluatedExpression, deep=False, terms_per_line: int | None = None\n",
    ") -> None:\n",
    "    if terms_per_line is None:\n",
    "        latex = as_latex({expr: expr.doit(deep=deep)})\n",
    "    else:\n",
    "        latex = sp.multiline_latex(\n",
    "            lhs=expr,\n",
    "            rhs=expr.doit(deep=deep),\n",
    "            terms_per_line=terms_per_line,\n",
    "            environment=\"eqnarray\",\n",
    "        )\n",
    "    display(Math(latex))\n",
    "\n",
    "\n",
    "# hack for moving Indexed indices below superscript of the base\n",
    "def _print_Indexed_latex(self, printer, *args):\n",
    "    base = printer._print(self.base)\n",
    "    indices = \", \".join(map(printer._print, self.indices))\n",
    "    return f\"{base}_{{{indices}}}\"\n",
    "\n",
    "\n",
    "sp.Indexed._latex = _print_Indexed_latex"
   ]
  },
  {
   "cell_type": "markdown",
   "metadata": {
    "tags": []
   },
   "source": [
    "## Amplitude model"
   ]
  },
  {
   "cell_type": "markdown",
   "metadata": {},
   "source": [
    "### Resonances and $LS$-scheme"
   ]
  },
  {
   "cell_type": "code",
   "execution_count": null,
   "metadata": {
    "tags": []
   },
   "outputs": [],
   "source": [
    "Λc = PDG[\"Lambda(c)+\"]\n",
    "p = PDG[\"p\"]\n",
    "K = PDG[\"K-\"]\n",
    "π = PDG[\"pi+\"]\n",
    "decay_products = {\n",
    "    1: (π, K),\n",
    "    2: (p, K),\n",
    "    3: (p, π),\n",
    "}\n",
    "siblings = {\n",
    "    1: p,\n",
    "    2: π,\n",
    "    3: K,\n",
    "}\n",
    "chain_ids = {\n",
    "    1: \"K^{**}\",\n",
    "    2: R\"\\Lambda^{**}\",\n",
    "    3: R\"\\Delta^{**}\",\n",
    "}"
   ]
  },
  {
   "cell_type": "code",
   "execution_count": null,
   "metadata": {},
   "outputs": [],
   "source": [
    "resonance_names = {\n",
    "    1: [\"K*(892)0\"],\n",
    "    2: [\"Lambda(1520)\", \"Lambda(1670)\"],\n",
    "    3: [\"Delta(1232)++\"],\n",
    "}"
   ]
  },
  {
   "cell_type": "code",
   "execution_count": null,
   "metadata": {
    "tags": [
     "hide-input"
    ]
   },
   "outputs": [],
   "source": [
    "@frozen\n",
    "class Resonance:\n",
    "    particle: Particle\n",
    "    l_R: int\n",
    "    l_Λc: int\n",
    "\n",
    "    @staticmethod\n",
    "    def generate_ls(particle: Particle, chain_id: int) -> Resonance:\n",
    "        LS_prod = generate_ls(Λc, particle, siblings[chain_id], strong=False)\n",
    "        LS_prod = [L for L, _ in LS_prod]\n",
    "        LS_dec = generate_ls(particle, *decay_products[chain_id])\n",
    "        LS_dec = [L for L, _ in LS_dec]\n",
    "        return Resonance(particle, l_R=min(LS_dec), l_Λc=min(LS_prod))\n",
    "\n",
    "\n",
    "def generate_ls(\n",
    "    parent: Particle,\n",
    "    child1: Particle,\n",
    "    child2: Particle,\n",
    "    strong: bool = True,\n",
    "    max_L: int = 3,\n",
    "):\n",
    "    s1 = child1.spin\n",
    "    s2 = child2.spin\n",
    "    s_values = arange(abs(s1 - s2), s1 + s2)\n",
    "    LS_values = set()\n",
    "    for S in s_values:\n",
    "        for L in arange(0, max_L):\n",
    "            if not abs(L - S) <= parent.spin <= L + S:\n",
    "                continue\n",
    "            η0, η1, η2 = [\n",
    "                int(parent.parity),\n",
    "                int(child1.parity),\n",
    "                int(child2.parity),\n",
    "            ]\n",
    "            if strong and η0 != η1 * η2 * (-1) ** L:\n",
    "                continue\n",
    "            LS_values.add((L, S))\n",
    "    return sorted(LS_values)\n",
    "\n",
    "\n",
    "def arange(x1, x2):\n",
    "    spin_range = np.arange(float(x1), +float(x2) + 0.5)\n",
    "    return list(map(sp.Rational, spin_range))\n",
    "\n",
    "\n",
    "resonance_particles = {\n",
    "    chain_id: [PDG[name] for name in names]\n",
    "    for chain_id, names in resonance_names.items()\n",
    "}\n",
    "ls_resonances = {\n",
    "    chain_id: [Resonance.generate_ls(particle, chain_id) for particle in particles]\n",
    "    for chain_id, particles in resonance_particles.items()\n",
    "}\n",
    "\n",
    "\n",
    "def jp(particle: Particle):\n",
    "    if particle.parity is None:\n",
    "        raise ValueError(f\"Particle {particle.name} has no parity\")\n",
    "    p = \"+\" if particle.parity > 0 else \"-\"\n",
    "    j = sp.Rational(particle.spin)\n",
    "    return Rf\"\\({j}^{p}\\)\"\n",
    "\n",
    "\n",
    "def create_html_table_row(*items, typ=\"td\"):\n",
    "    items = map(lambda i: f\"<{typ}>{i}</{typ}>\", items)\n",
    "    return \"<tr>\" + \"\".join(items) + \"</tr>\\n\"\n",
    "\n",
    "\n",
    "column_names = [\n",
    "    \"resonance\",\n",
    "    R\"\\(j^P\\)\",\n",
    "    R\"\\(m\\) (MeV)\",\n",
    "    R\"\\(\\Gamma_0\\) (MeV)\",\n",
    "    R\"\\(l_R\\)\",\n",
    "    R\"\\(l_{\\Lambda_c}^\\mathrm{min}\\)\",\n",
    "]\n",
    "src = \"<table>\\n\"\n",
    "src += create_html_table_row(*column_names, typ=\"th\")\n",
    "for chain_id, resonance_list in ls_resonances.items():\n",
    "    child1, child2 = decay_products[chain_id]\n",
    "    for resonance in resonance_list:\n",
    "        src += create_html_table_row(\n",
    "            Rf\"\\({resonance.particle.latex} \\to\" Rf\" {child1.latex} {child2.latex}\\)\",\n",
    "            jp(resonance.particle),\n",
    "            int(1e3 * resonance.particle.mass),\n",
    "            int(1e3 * resonance.particle.width),\n",
    "            resonance.l_R,\n",
    "            resonance.l_Λc,\n",
    "        )\n",
    "src += \"</table>\\n\"\n",
    "HTML(src)"
   ]
  },
  {
   "cell_type": "markdown",
   "metadata": {},
   "source": [
    "### Aligned amplitude"
   ]
  },
  {
   "cell_type": "code",
   "execution_count": null,
   "metadata": {
    "tags": [
     "full-width",
     "hide-input"
    ]
   },
   "outputs": [],
   "source": [
    "A_K = sp.IndexedBase(R\"A^K\")\n",
    "A_Λ = sp.IndexedBase(R\"A^{\\Lambda}\")\n",
    "A_Δ = sp.IndexedBase(R\"A^{\\Delta}\")\n",
    "\n",
    "half = sp.S.Half\n",
    "\n",
    "ζ_0_11 = sp.Symbol(R\"\\zeta^0_{1(1)}\", real=True)\n",
    "ζ_0_21 = sp.Symbol(R\"\\zeta^0_{2(1)}\", real=True)\n",
    "ζ_0_31 = sp.Symbol(R\"\\zeta^0_{3(1)}\", real=True)\n",
    "ζ_1_11 = sp.Symbol(R\"\\zeta^1_{1(1)}\", real=True)\n",
    "ζ_1_21 = sp.Symbol(R\"\\zeta^1_{2(1)}\", real=True)\n",
    "ζ_1_31 = sp.Symbol(R\"\\zeta^1_{3(1)}\", real=True)\n",
    "\n",
    "\n",
    "def formulate_aligned_amplitude(λ_Λc, λ_p):\n",
    "    _ν = sp.Symbol(R\"\\nu^{\\prime}\", rational=True)\n",
    "    _λ = sp.Symbol(R\"\\lambda^{\\prime}\", rational=True)\n",
    "    return PoolSum(\n",
    "        A_K[_ν, _λ] * Wigner.d(half, λ_Λc, _ν, ζ_0_11) * Wigner.d(half, _λ, λ_p, ζ_1_11)\n",
    "        + A_Λ[_ν, _λ]\n",
    "        * Wigner.d(half, λ_Λc, _ν, ζ_0_21)\n",
    "        * Wigner.d(half, _λ, λ_p, ζ_1_21)\n",
    "        + A_Δ[_ν, _λ]\n",
    "        * Wigner.d(half, λ_Λc, _ν, ζ_0_31)\n",
    "        * Wigner.d(half, _λ, λ_p, ζ_1_31),\n",
    "        (_λ, [-half, +half]),\n",
    "        (_ν, [-half, +half]),\n",
    "    )\n",
    "\n",
    "\n",
    "ν = sp.Symbol(\"nu\")\n",
    "λ = sp.Symbol(\"lambda\")\n",
    "formulate_aligned_amplitude(λ_Λc=ν, λ_p=λ)"
   ]
  },
  {
   "cell_type": "markdown",
   "metadata": {},
   "source": [
    "### Dynamics"
   ]
  },
  {
   "cell_type": "code",
   "execution_count": null,
   "metadata": {
    "tags": [
     "hide-input"
    ]
   },
   "outputs": [],
   "source": [
    "z = sp.Symbol(\"z\", positive=True)\n",
    "L = sp.Symbol(\"L\", integer=True, nonnegative=True)\n",
    "display_doit(BlattWeisskopf(z, L))"
   ]
  },
  {
   "cell_type": "code",
   "execution_count": null,
   "metadata": {
    "tags": [
     "hide-input"
    ]
   },
   "outputs": [],
   "source": [
    "x, y, z = sp.symbols(\"x:z\")\n",
    "display_doit(Källén(x, y, z))"
   ]
  },
  {
   "cell_type": "code",
   "execution_count": null,
   "metadata": {
    "tags": [
     "hide-input"
    ]
   },
   "outputs": [],
   "source": [
    "s, m0, mi, mj, mk = sp.symbols(\"s m0 m_i:k\", nonnegative=True)\n",
    "display_doit(P(s, mi, mj))\n",
    "display_doit(Q(s, m0, mk))"
   ]
  },
  {
   "cell_type": "code",
   "execution_count": null,
   "metadata": {
    "tags": [
     "hide-input"
    ]
   },
   "outputs": [],
   "source": [
    "R = sp.Symbol(\"R\")\n",
    "parameter_defaults = {\n",
    "    R: 5,  # GeV^{-1} (length factor)\n",
    "}\n",
    "l_R = sp.Symbol(\"l_R\", integer=True, positive=True)\n",
    "m, Γ0, m1, m2 = sp.symbols(\"m Γ0 m1 m2\", nonnegative=True)\n",
    "display_doit(EnergyDependentWidth(s, m, Γ0, m1, m2, l_R, R))"
   ]
  },
  {
   "cell_type": "code",
   "execution_count": null,
   "metadata": {
    "tags": [
     "hide-input"
    ]
   },
   "outputs": [],
   "source": [
    "l_Λc = sp.Symbol(R\"l_{\\Lambda_c}\", integer=True, positive=True)\n",
    "display_doit(RelativisticBreitWigner(s, m, Γ0, m1, m2, l_R, l_Λc, R))"
   ]
  },
  {
   "cell_type": "markdown",
   "metadata": {},
   "source": [
    "### Decay chain amplitudes"
   ]
  },
  {
   "cell_type": "code",
   "execution_count": null,
   "metadata": {
    "tags": [
     "scroll-input",
     "hide-input",
     "full-width"
    ]
   },
   "outputs": [],
   "source": [
    "def formulate_chain_amplitude(chain_id: int, λ_Λc, λ_p):\n",
    "    resonances = ls_resonances[chain_id]\n",
    "    if chain_id == 1:\n",
    "        return formulate_K_amplitude(λ_Λc, λ_p, resonances)\n",
    "    if chain_id == 2:\n",
    "        return formulate_Λ_amplitude(λ_Λc, λ_p, resonances)\n",
    "    if chain_id == 3:\n",
    "        return formulate_Δ_amplitude(λ_Λc, λ_p, resonances)\n",
    "    raise NotImplementedError\n",
    "\n",
    "\n",
    "H_prod = sp.IndexedBase(R\"\\mathcal{H}^\\mathrm{production}\")\n",
    "H_dec = sp.IndexedBase(R\"\\mathcal{H}^\\mathrm{decay}\")\n",
    "\n",
    "θ23 = sp.Symbol(\"theta23\", real=True)\n",
    "θ31 = sp.Symbol(\"theta31\", real=True)\n",
    "θ12 = sp.Symbol(\"theta12\", real=True)\n",
    "\n",
    "σ1, σ2, σ3 = sp.symbols(\"sigma1:4\", nonnegative=True)\n",
    "m1, m2, m3 = sp.symbols(R\"m_p m_pi m_K\", nonnegative=True)\n",
    "\n",
    "\n",
    "def formulate_K_amplitude(λ_Λc, λ_p, resonances: list[Resonance]):\n",
    "    τ = sp.Symbol(\"tau\", rational=True)\n",
    "    return sp.Add(\n",
    "        *[\n",
    "            PoolSum(\n",
    "                sp.KroneckerDelta(λ_Λc, τ - λ_p)\n",
    "                * H_prod[stringify(res), τ, λ_p]\n",
    "                * formulate_dynamics(res, σ1, m2, m3)\n",
    "                * (-1) ** (half - λ_p)\n",
    "                * Wigner.d(sp.Rational(res.particle.spin), τ, 0, θ23)\n",
    "                * H_dec[stringify(res), 0, 0],\n",
    "                (τ, create_spin_range(res.particle.spin)),\n",
    "            )\n",
    "            for res in resonances\n",
    "        ]\n",
    "    )\n",
    "\n",
    "\n",
    "def formulate_Λ_amplitude(λ_Λc, λ_p, resonances: list[Resonance]):\n",
    "    τ = sp.Symbol(\"tau\", rational=True)\n",
    "    return sp.Add(\n",
    "        *[\n",
    "            PoolSum(\n",
    "                sp.KroneckerDelta(λ_Λc, τ)\n",
    "                * H_prod[stringify(res), τ, 0]\n",
    "                * formulate_dynamics(res, σ2, m1, m3)\n",
    "                * Wigner.d(sp.Rational(res.particle.spin), τ, -λ_p, θ31)\n",
    "                * H_dec[stringify(res), 0, λ_p]\n",
    "                * (-1) ** (half - λ_p),\n",
    "                (τ, create_spin_range(res.particle.spin)),\n",
    "            )\n",
    "            for res in resonances\n",
    "        ]\n",
    "    )\n",
    "\n",
    "\n",
    "def formulate_Δ_amplitude(λ_Λc, λ_p, resonances: list[Resonance]):\n",
    "    τ = sp.Symbol(\"tau\", rational=True)\n",
    "    return sp.Add(\n",
    "        *[\n",
    "            PoolSum(\n",
    "                sp.KroneckerDelta(λ_Λc, τ)\n",
    "                * H_prod[stringify(res), τ, 0]\n",
    "                * formulate_dynamics(res, σ3, m1, m2)\n",
    "                * Wigner.d(sp.Rational(res.particle.spin), τ, λ_p, θ12)\n",
    "                * H_dec[stringify(res), λ_p, 0],\n",
    "                (τ, create_spin_range(res.particle.spin)),\n",
    "            )\n",
    "            for res in resonances\n",
    "        ]\n",
    "    )\n",
    "\n",
    "\n",
    "def formulate_dynamics(decay: Resonance, s, m1, m2):\n",
    "    l_R = sp.Rational(decay.l_R)\n",
    "    l_Λc = sp.Rational(decay.l_Λc)\n",
    "    mass = sp.Symbol(f\"m_{{{decay.particle.latex}}}\")\n",
    "    width = sp.Symbol(Rf\"\\Gamma_{{{decay.particle.latex}}}\")\n",
    "    parameter_defaults[mass] = decay.particle.mass\n",
    "    parameter_defaults[width] = decay.particle.width\n",
    "    return RelativisticBreitWigner(s, mass, width, m1, m2, l_R, l_Λc, R)\n",
    "\n",
    "\n",
    "def stringify(particle: Particle | Resonance) -> Str:\n",
    "    if isinstance(particle, Resonance):\n",
    "        particle = particle.particle\n",
    "    return Str(particle.latex)\n",
    "\n",
    "\n",
    "def create_spin_range(j):\n",
    "    return arange(-j, +j)\n",
    "\n",
    "\n",
    "display(\n",
    "    formulate_chain_amplitude(1, ν, λ),\n",
    "    formulate_chain_amplitude(2, ν, λ),\n",
    "    formulate_chain_amplitude(3, ν, λ),\n",
    ")"
   ]
  },
  {
   "cell_type": "markdown",
   "metadata": {},
   "source": [
    "### Angle definitions"
   ]
  },
  {
   "cell_type": "code",
   "execution_count": null,
   "metadata": {
    "tags": [
     "scroll-input",
     "hide-input"
    ]
   },
   "outputs": [],
   "source": [
    "m0 = sp.Symbol(R\"m_{\\Lambda_c}\", nonnegative=True)\n",
    "angles = {\n",
    "    θ12: sp.acos(\n",
    "        (\n",
    "            2 * σ3 * (σ2 - m3**2 - m1**2)\n",
    "            - (σ3 + m1**2 - m2**2) * (m0**2 - σ3 - m3**2)\n",
    "        )\n",
    "        / (\n",
    "            sp.sqrt(Källén(m0**2, m3**2, σ3))\n",
    "            * sp.sqrt(Källén(σ3, m1**2, m2**2))\n",
    "        )\n",
    "    ),\n",
    "    θ23: sp.acos(\n",
    "        (\n",
    "            2 * σ1 * (σ3 - m1**2 - m2**2)\n",
    "            - (σ1 + m2**2 - m3**2) * (m0**2 - σ1 - m1**2)\n",
    "        )\n",
    "        / (\n",
    "            sp.sqrt(Källén(m0**2, m1**2, σ1))\n",
    "            * sp.sqrt(Källén(σ1, m2**2, m3**2))\n",
    "        )\n",
    "    ),\n",
    "    θ31: sp.acos(\n",
    "        (\n",
    "            2 * σ2 * (σ1 - m2**2 - m3**2)\n",
    "            - (σ2 + m3**2 - m1**2) * (m0**2 - σ2 - m2**2)\n",
    "        )\n",
    "        / (\n",
    "            sp.sqrt(Källén(m0**2, m2**2, σ2))\n",
    "            * sp.sqrt(Källén(σ2, m3**2, m1**2))\n",
    "        )\n",
    "    ),\n",
    "    ζ_0_11: sp.S.Zero,  # = \\hat\\theta^0_{1(1)}\n",
    "    ζ_0_21: -sp.acos(  # = -\\hat\\theta^{1(2)}\n",
    "        (\n",
    "            (m0**2 + m1**2 - σ1) * (m0**2 + m2**2 - σ2)\n",
    "            - 2 * m0**2 * (σ3 - m1**2 - m2**2)\n",
    "        )\n",
    "        / (\n",
    "            sp.sqrt(Källén(m0**2, m2**2, σ2))\n",
    "            * sp.sqrt(Källén(m0**2, σ1, m1**2))\n",
    "        )\n",
    "    ),\n",
    "    ζ_0_31: sp.acos(  # = \\hat\\theta^{3(1)}\n",
    "        (\n",
    "            (m0**2 + m3**2 - σ3) * (m0**2 + m1**2 - σ1)\n",
    "            - 2 * m0**2 * (σ2 - m3**2 - m1**2)\n",
    "        )\n",
    "        / (\n",
    "            sp.sqrt(Källén(m0**2, m1**2, σ1))\n",
    "            * sp.sqrt(Källén(m0**2, σ3, m3**2))\n",
    "        )\n",
    "    ),\n",
    "    ζ_1_11: sp.S.Zero,\n",
    "    ζ_1_21: sp.acos(\n",
    "        (\n",
    "            2 * m1**2 * (σ3 - m0**2 - m3**2)\n",
    "            + (m0**2 + m1**2 - σ1) * (σ2 - m1**2 - m3**2)\n",
    "        )\n",
    "        / (\n",
    "            sp.sqrt(Källén(m0**2, m1**2, σ1))\n",
    "            * sp.sqrt(Källén(σ2, m1**2, m3**2))\n",
    "        )\n",
    "    ),\n",
    "    ζ_1_31: -sp.acos(  # = -\\zeta^1_{1(3)}\n",
    "        (\n",
    "            2 * m1**2 * (σ2 - m0**2 - m2**2)\n",
    "            + (m0**2 + m1**2 - σ1) * (σ3 - m1**2 - m2**2)\n",
    "        )\n",
    "        / (\n",
    "            sp.sqrt(Källén(m0**2, m1**2, σ1))\n",
    "            * sp.sqrt(Källén(σ3, m1**2, m2**2))\n",
    "        )\n",
    "    ),\n",
    "}\n",
    "\n",
    "display_latex(angles)"
   ]
  },
  {
   "cell_type": "code",
   "execution_count": null,
   "metadata": {
    "tags": [
     "hide-input"
    ]
   },
   "outputs": [],
   "source": [
    "masses = {\n",
    "    m0: Λc.mass,\n",
    "    m1: p.mass,\n",
    "    m2: π.mass,\n",
    "    m3: K.mass,\n",
    "}\n",
    "display_latex(masses)"
   ]
  },
  {
   "cell_type": "markdown",
   "metadata": {
    "tags": []
   },
   "source": [
    "### Helicity coupling values"
   ]
  },
  {
   "cell_type": "code",
   "execution_count": null,
   "metadata": {
    "tags": [
     "hide-input"
    ]
   },
   "outputs": [],
   "source": [
    "dec_couplings = {}\n",
    "for res in ls_resonances[1]:\n",
    "    i = stringify(res)\n",
    "    dec_couplings[H_dec[i, 0, 0]] = 1\n",
    "for res in ls_resonances[2]:\n",
    "    i = stringify(res.particle)\n",
    "    dec_couplings[H_dec[i, 0, half]] = 1\n",
    "    dec_couplings[H_dec[i, 0, -half]] = (\n",
    "        int(res.particle.parity)\n",
    "        * int(K.parity)\n",
    "        * int(p.parity)\n",
    "        * (-1) ** (res.particle.spin - K.spin - p.spin)\n",
    "    )\n",
    "for res in ls_resonances[3]:\n",
    "    i = stringify(res.particle)\n",
    "    dec_couplings[H_dec[i, half, 0]] = 1\n",
    "    dec_couplings[H_dec[i, -half, 0]] = (\n",
    "        int(res.particle.parity)\n",
    "        * int(p.parity)\n",
    "        * int(π.parity)\n",
    "        * (-1) ** (res.particle.spin - p.spin - π.spin)\n",
    "    )\n",
    "parameter_defaults.update(dec_couplings)\n",
    "display_latex(dec_couplings)"
   ]
  },
  {
   "cell_type": "code",
   "execution_count": null,
   "metadata": {
    "tags": [
     "hide-input"
    ]
   },
   "outputs": [],
   "source": [
    "prod_couplings = {\n",
    "    # chain 23:\n",
    "    H_prod[Str(\"K^{*}(892)^{0}\"), 0, -half]: 1,\n",
    "    H_prod[Str(\"K^{*}(892)^{0}\"), -1, -half]: 1 - 1j,\n",
    "    H_prod[Str(\"K^{*}(892)^{0}\"), +1, +half]: -3 - 3j,\n",
    "    H_prod[Str(\"K^{*}(892)^{0}\"), 0, +half]: -1 - 4j,\n",
    "    #\n",
    "    H_prod[Str(\"K_{0}^{*}(1430)^{0}\"), 0, -half]: 1,\n",
    "    H_prod[Str(\"K_{0}^{*}(1430)^{0}\"), -1, -half]: 1 - 1j,\n",
    "    H_prod[Str(\"K_{0}^{*}(1430)^{0}\"), +1, +half]: -3 - 3j,\n",
    "    H_prod[Str(\"K_{0}^{*}(1430)^{0}\"), 0, +half]: -1 - 4j,\n",
    "    #\n",
    "    H_prod[Str(\"K_{2}^{*}(1430)^{0}\"), 0, -half]: 1,\n",
    "    H_prod[Str(\"K_{2}^{*}(1430)^{0}\"), -1, -half]: 1 - 1j,\n",
    "    H_prod[Str(\"K_{2}^{*}(1430)^{0}\"), +1, +half]: -3 - 3j,\n",
    "    H_prod[Str(\"K_{2}^{*}(1430)^{0}\"), 0, +half]: -1 - 4j,\n",
    "    #\n",
    "    # chain 31:\n",
    "    H_prod[Str(R\"\\Lambda(1520)\"), +half, 0]: 1.5,\n",
    "    H_prod[Str(R\"\\Lambda(1520)\"), -half, 0]: 0.3,\n",
    "    H_prod[Str(R\"\\Lambda(1670)\"), +half, 0]: -0.5 + 1j,\n",
    "    H_prod[Str(R\"\\Lambda(1670)\"), -half, 0]: -0.3 - 0.1j,\n",
    "    # chain 12:\n",
    "    H_prod[Str(R\"\\Delta(1232)^{++}\"), +half, 0]: -13 + 5j,\n",
    "    H_prod[Str(R\"\\Delta(1232)^{++}\"), -half, 0]: -7 + 3j,\n",
    "}\n",
    "display_latex(prod_couplings)\n",
    "couplings = dict(dec_couplings)\n",
    "couplings.update(prod_couplings)\n",
    "parameter_defaults.update(prod_couplings)"
   ]
  },
  {
   "cell_type": "markdown",
   "metadata": {},
   "source": [
    "### Intensity expression"
   ]
  },
  {
   "cell_type": "code",
   "execution_count": null,
   "metadata": {
    "tags": [
     "hide-input",
     "full-width"
    ]
   },
   "outputs": [],
   "source": [
    "def formulate_intensity(amplitude_builder):\n",
    "    return PoolSum(\n",
    "        sp.Abs(amplitude_builder(ν, λ)) ** 2,\n",
    "        (λ, [-half, +half]),\n",
    "        (ν, [-half, +half]),\n",
    "    )\n",
    "\n",
    "\n",
    "intensity_expressions = {\n",
    "    0: formulate_intensity(formulate_aligned_amplitude),\n",
    "    1: formulate_intensity(partial(formulate_chain_amplitude, 1)),\n",
    "    2: formulate_intensity(partial(formulate_chain_amplitude, 2)),\n",
    "    3: formulate_intensity(partial(formulate_chain_amplitude, 3)),\n",
    "}\n",
    "intensity_expressions[0]"
   ]
  },
  {
   "cell_type": "code",
   "execution_count": null,
   "metadata": {
    "tags": [
     "hide-input",
     "full-width"
    ]
   },
   "outputs": [],
   "source": [
    "A = {1: A_K, 2: A_Λ, 3: A_Δ}\n",
    "amp_definitions = {}\n",
    "for chain_id in chain_ids:\n",
    "    for Λc_heli, p_heli in itertools.product([-half, +half], [-half, +half]):\n",
    "        symbol = A[chain_id][Λc_heli, p_heli]\n",
    "        expr = formulate_chain_amplitude(chain_id, ν, λ)\n",
    "        amp_definitions[symbol] = expr.subs({ν: Λc_heli, λ: p_heli})\n",
    "display_latex(amp_definitions)"
   ]
  },
  {
   "cell_type": "code",
   "execution_count": null,
   "metadata": {
    "tags": [
     "hide-cell"
    ]
   },
   "outputs": [],
   "source": [
    "substituted_intensity_expressions = {}\n",
    "for chain_id, expr in intensity_expressions.items():\n",
    "    expr = expr.doit().xreplace(amp_definitions).doit()\n",
    "    expr = expr.xreplace(angles).doit().xreplace(masses)\n",
    "    substituted_intensity_expressions[chain_id] = expr\n",
    "    expr = expr.xreplace(parameter_defaults)\n",
    "    if chain_id == 0:\n",
    "        assert expr.free_symbols == {σ1, σ2, σ3}\n",
    "    else:\n",
    "        assert expr.free_symbols < {σ1, σ2, σ3}"
   ]
  },
  {
   "cell_type": "markdown",
   "metadata": {},
   "source": [
    "## Polarization sensitivity"
   ]
  },
  {
   "cell_type": "markdown",
   "metadata": {},
   "source": [
    "### Total polarization sensitivity"
   ]
  },
  {
   "cell_type": "code",
   "execution_count": null,
   "metadata": {
    "tags": []
   },
   "outputs": [],
   "source": [
    "def to_index(helicity):\n",
    "    \"\"\"Symbolic conversion of half-value helicities to Pauli matrix indices.\"\"\"\n",
    "    # https://github.com/ComPWA/compwa-org/pull/129#issuecomment-1096599896\n",
    "    return sp.Piecewise(\n",
    "        (1, sp.LessThan(helicity, 0)),\n",
    "        (0, True),\n",
    "    )\n",
    "\n",
    "\n",
    "ν_prime = sp.Symbol(R\"\\nu^{\\prime}\")\n",
    "total_polarization = sp.Array(\n",
    "    PoolSum(\n",
    "        formulate_aligned_amplitude(ν, λ).conjugate()\n",
    "        * msigma(i)[to_index(ν), to_index(ν_prime)]\n",
    "        * formulate_aligned_amplitude(ν_prime, λ),\n",
    "        (λ, [-half, +half]),\n",
    "        (ν, [-half, +half]),\n",
    "        (ν_prime, [-half, +half]),\n",
    "    )\n",
    "    / intensity_expressions[0]\n",
    "    for i in [1, 2, 3]\n",
    ")"
   ]
  },
  {
   "cell_type": "markdown",
   "metadata": {},
   "source": [
    "### Polarization sensitivity per chain"
   ]
  },
  {
   "cell_type": "code",
   "execution_count": null,
   "metadata": {
    "tags": []
   },
   "outputs": [],
   "source": [
    "polarization_expressions = {0: total_polarization}\n",
    "for chain_id in chain_ids:\n",
    "    polarization_expressions[chain_id] = sp.Array(\n",
    "        PoolSum(\n",
    "            formulate_chain_amplitude(chain_id, ν, λ).conjugate()\n",
    "            * msigma(i)[to_index(ν), to_index(ν_prime)]\n",
    "            * formulate_chain_amplitude(chain_id, ν_prime, λ),\n",
    "            (λ, [-half, +half]),\n",
    "            (ν, [-half, +half]),\n",
    "            (ν_prime, [-half, +half]),\n",
    "        )\n",
    "        / intensity_expressions[chain_id]\n",
    "        for i in [1, 2, 3]\n",
    "    )"
   ]
  },
  {
   "cell_type": "code",
   "execution_count": null,
   "metadata": {
    "tags": [
     "hide-cell"
    ]
   },
   "outputs": [],
   "source": [
    "substituted_polarization_expressions = {}\n",
    "for chain_id, expr in polarization_expressions.items():\n",
    "    expr = expr.doit().xreplace(amp_definitions).doit()\n",
    "    expr = expr.xreplace(angles).doit().xreplace(masses)\n",
    "    substituted_polarization_expressions[chain_id] = expr\n",
    "    expr = expr.xreplace(parameter_defaults)\n",
    "    if chain_id == 0:\n",
    "        assert expr.free_symbols == {σ1, σ2, σ3}\n",
    "    else:\n",
    "        assert expr.free_symbols < {σ1, σ2, σ3}"
   ]
  },
  {
   "cell_type": "markdown",
   "metadata": {},
   "source": [
    "## Computations with TensorWaves\n"
   ]
  },
  {
   "cell_type": "markdown",
   "metadata": {
    "tags": []
   },
   "source": [
    "### Conversion to computational backend"
   ]
  },
  {
   "cell_type": "code",
   "execution_count": null,
   "metadata": {},
   "outputs": [],
   "source": [
    "free_parameters = {\n",
    "    symbol: value\n",
    "    for symbol, value in parameter_defaults.items()\n",
    "    if symbol.name.startswith(\"m_\")\n",
    "    or symbol.name.startswith(R\"\\Gamma_\")\n",
    "    or symbol in prod_couplings\n",
    "}\n",
    "fixed_parameters = {\n",
    "    symbol: value\n",
    "    for symbol, value in parameter_defaults.items()\n",
    "    if symbol not in free_parameters\n",
    "}"
   ]
  },
  {
   "cell_type": "code",
   "execution_count": null,
   "metadata": {
    "tags": []
   },
   "outputs": [],
   "source": [
    "intensity_functions = {\n",
    "    chain_id: create_parametrized_function(\n",
    "        expr.subs(fixed_parameters),\n",
    "        parameters=free_parameters,\n",
    "        backend=\"jax\",\n",
    "    )\n",
    "    for chain_id, expr in substituted_intensity_expressions.items()\n",
    "}"
   ]
  },
  {
   "cell_type": "code",
   "execution_count": null,
   "metadata": {
    "tags": []
   },
   "outputs": [],
   "source": [
    "polarization_functions = {\n",
    "    chain_id: [\n",
    "        create_parametrized_function(\n",
    "            expr[i].subs(fixed_parameters),\n",
    "            parameters=free_parameters,\n",
    "            backend=\"jax\",\n",
    "        )\n",
    "        for i in range(3)\n",
    "    ]\n",
    "    for chain_id, expr in substituted_polarization_expressions.items()\n",
    "}"
   ]
  },
  {
   "cell_type": "markdown",
   "metadata": {},
   "source": [
    "### Phase space"
   ]
  },
  {
   "cell_type": "code",
   "execution_count": null,
   "metadata": {
    "tags": []
   },
   "outputs": [],
   "source": [
    "computed_σ3 = m0**2 + m1**2 + m2**2 + m3**2 - σ1 - σ2\n",
    "compute_third_mandelstam = create_function(computed_σ3.subs(masses), backend=\"jax\")\n",
    "display_latex({σ3: computed_σ3})"
   ]
  },
  {
   "cell_type": "code",
   "execution_count": null,
   "metadata": {
    "tags": []
   },
   "outputs": [],
   "source": [
    "def kibble_function(σ1, σ2):\n",
    "    return Källén(\n",
    "        Källén(σ2, m2**2, m0**2),\n",
    "        Källén(σ3, m3**2, m0**2),\n",
    "        Källén(σ1, m1**2, m0**2),\n",
    "    )\n",
    "\n",
    "\n",
    "def is_within_phsp(σ1, σ2, non_phsp_value=sp.nan):\n",
    "    return sp.Piecewise(\n",
    "        (1, sp.LessThan(kibble_function(σ1, σ2), 0)),\n",
    "        (non_phsp_value, True),\n",
    "    )\n",
    "\n",
    "\n",
    "is_within_phsp(σ1, σ2)"
   ]
  },
  {
   "cell_type": "code",
   "execution_count": null,
   "metadata": {
    "tags": []
   },
   "outputs": [],
   "source": [
    "in_phsp_expr = is_within_phsp(σ1, σ2).subs(σ3, computed_σ3).subs(masses).doit()\n",
    "in_phsp_expr.free_symbols"
   ]
  },
  {
   "cell_type": "code",
   "execution_count": null,
   "metadata": {
    "tags": []
   },
   "outputs": [],
   "source": [
    "resolution = 200\n",
    "m0_val, m1_val, m2_val, m3_val = masses.values()\n",
    "σ1_min = (m2_val + m3_val) ** 2\n",
    "σ1_max = (m0_val - m1_val) ** 2\n",
    "σ2_min = (m1_val + m3_val) ** 2\n",
    "σ2_max = (m0_val - m2_val) ** 2\n",
    "x = np.linspace(σ1_min, σ1_max, num=resolution)\n",
    "y = np.linspace(σ2_min, σ2_max, num=resolution)\n",
    "X, Y = np.meshgrid(x, y)\n",
    "Z = compute_third_mandelstam.function(X, Y)\n",
    "σ_arrays = {\"sigma1\": X, \"sigma2\": Y, \"sigma3\": Z}\n",
    "\n",
    "in_phsp = create_function(in_phsp_expr, backend=\"numpy\")\n",
    "phsp = in_phsp(σ_arrays)"
   ]
  },
  {
   "cell_type": "code",
   "execution_count": null,
   "metadata": {
    "tags": []
   },
   "outputs": [],
   "source": [
    "kinematic_variables = {\n",
    "    symbol: expression.doit().subs(masses).subs(fixed_parameters)\n",
    "    for symbol, expression in angles.items()\n",
    "}\n",
    "kinematic_variables.update({s: s for s in [σ1, σ2, σ3]})  # include identity\n",
    "transformer = SympyDataTransformer.from_sympy(kinematic_variables, backend=\"jax\")\n",
    "kinematic_arrays = transformer(σ_arrays)"
   ]
  },
  {
   "cell_type": "markdown",
   "metadata": {},
   "source": [
    "### Intensity distribution"
   ]
  },
  {
   "cell_type": "code",
   "execution_count": null,
   "metadata": {},
   "outputs": [],
   "source": [
    "intensities = {\n",
    "    chain_id: func(kinematic_arrays) for chain_id, func in intensity_functions.items()\n",
    "}"
   ]
  },
  {
   "cell_type": "code",
   "execution_count": null,
   "metadata": {
    "tags": [
     "remove-input"
    ]
   },
   "outputs": [],
   "source": [
    "%config InlineBackend.figure_formats = ['png']"
   ]
  },
  {
   "cell_type": "code",
   "execution_count": null,
   "metadata": {
    "tags": [
     "hide-input"
    ]
   },
   "outputs": [],
   "source": [
    "s1_label = R\"$\\sigma_1=m^2\\left(K\\pi\\right)$\"\n",
    "s2_label = R\"$\\sigma_2=m^2\\left(pK\\right)$\"\n",
    "s3_label = R\"$\\sigma_3=m^2\\left(p\\pi\\right)$\"\n",
    "\n",
    "fig, ax = plt.subplots(\n",
    "    figsize=(10, 8),\n",
    "    tight_layout=True,\n",
    ")\n",
    "ax.set_title(\"Intensity distribution\")\n",
    "ax.set_xlabel(s1_label)\n",
    "ax.set_ylabel(s2_label)\n",
    "\n",
    "mesh = ax.pcolormesh(X, Y, phsp * intensities[0], norm=LogNorm())\n",
    "fig.colorbar(mesh, ax=ax)\n",
    "plt.show()"
   ]
  },
  {
   "cell_type": "code",
   "execution_count": null,
   "metadata": {
    "tags": [
     "remove-input"
    ]
   },
   "outputs": [],
   "source": [
    "%config InlineBackend.figure_formats = ['svg']"
   ]
  },
  {
   "cell_type": "code",
   "execution_count": null,
   "metadata": {
    "tags": [
     "hide-input"
    ]
   },
   "outputs": [],
   "source": [
    "def set_ylim_to_zero(ax):\n",
    "    _, y_max = ax.get_ylim()\n",
    "    ax.set_ylim(0, y_max)\n",
    "\n",
    "\n",
    "fig, (ax1, ax2) = plt.subplots(\n",
    "    ncols=2,\n",
    "    figsize=(12, 5),\n",
    "    tight_layout=True,\n",
    ")\n",
    "ax1.set_xlabel(s1_label)\n",
    "ax2.set_xlabel(s2_label)\n",
    "\n",
    "ax1.fill(x, np.nansum(intensities[0], axis=0), alpha=0.3)\n",
    "ax2.fill(y, np.nansum(intensities[0], axis=1), alpha=0.3)\n",
    "for chain_id in range(1, 4):\n",
    "    label = f\"${chain_ids[chain_id]}$\"\n",
    "    ax1.plot(x, np.nansum(intensities[chain_id], axis=0), label=label)\n",
    "    ax2.plot(y, np.nansum(intensities[chain_id], axis=1), label=label)\n",
    "set_ylim_to_zero(ax1)\n",
    "set_ylim_to_zero(ax2)\n",
    "ax1.legend()\n",
    "plt.show()"
   ]
  },
  {
   "cell_type": "markdown",
   "metadata": {},
   "source": [
    "### Fit fractions"
   ]
  },
  {
   "cell_type": "code",
   "execution_count": null,
   "metadata": {
    "tags": []
   },
   "outputs": [],
   "source": [
    "def sub_intensity(data, non_zero_couplings: list[str]):\n",
    "    func = intensity_functions[0]\n",
    "    new_parameters = dict(func.parameters)\n",
    "    for par_name in new_parameters:\n",
    "        if not par_name.startswith(R\"\\mathcal{H}\"):\n",
    "            continue\n",
    "        if any(map(lambda s: s in par_name, non_zero_couplings)):\n",
    "            continue\n",
    "        new_parameters[par_name] = 0\n",
    "    old_parameters = dict(func.parameters)\n",
    "    func.update_parameters(new_parameters)\n",
    "    intensities = func(data)\n",
    "    func.update_parameters(old_parameters)\n",
    "    return integrate_intensity(intensities)\n",
    "\n",
    "\n",
    "def integrate_intensity(intensities):\n",
    "    return np.nansum(intensities) / len(intensities)\n",
    "\n",
    "\n",
    "I_tot = integrate_intensity(intensity_functions[0](kinematic_arrays))\n",
    "np.testing.assert_allclose(\n",
    "    I_tot,\n",
    "    sub_intensity(kinematic_arrays, [\"K\", R\"\\Lambda\", R\"\\Delta\"]),\n",
    ")"
   ]
  },
  {
   "cell_type": "code",
   "execution_count": null,
   "metadata": {
    "tags": []
   },
   "outputs": [],
   "source": [
    "def interference_intensity(\n",
    "    data,\n",
    "    chain1: list[str],\n",
    "    chain2: list[str],\n",
    "):\n",
    "    I_interference = sub_intensity(data, chain1 + chain2)\n",
    "    I_chain1 = sub_intensity(data, chain1)\n",
    "    I_chain2 = sub_intensity(data, chain2)\n",
    "    return I_interference - I_chain1 - I_chain2\n",
    "\n",
    "\n",
    "I_K = sub_intensity(kinematic_arrays, non_zero_couplings=[\"K\"])\n",
    "I_Λ = sub_intensity(kinematic_arrays, non_zero_couplings=[\"Lambda\"])\n",
    "I_Δ = sub_intensity(kinematic_arrays, non_zero_couplings=[\"Delta\"])\n",
    "I_ΛΔ = interference_intensity(kinematic_arrays, [\"Lambda\"], [\"Delta\"])\n",
    "I_KΔ = interference_intensity(kinematic_arrays, [\"K\"], [\"Delta\"])\n",
    "I_KΛ = interference_intensity(kinematic_arrays, [\"K\"], [\"Lambda\"])\n",
    "np.testing.assert_allclose(I_tot, I_K + I_Λ + I_Δ + I_ΛΔ + I_KΔ + I_KΛ)"
   ]
  },
  {
   "cell_type": "code",
   "execution_count": null,
   "metadata": {
    "tags": [
     "hide-input"
    ]
   },
   "outputs": [],
   "source": [
    "def render_resonance_row(chain_id):\n",
    "    rows = [\n",
    "        (\n",
    "            Rf\"\\color{{gray}}{{{p.latex}}}\",\n",
    "            Rf\"\\color{{gray}}{{{sub_intensity(kinematic_arrays, [p.name])/I_tot:.3f}}}\",\n",
    "        )\n",
    "        for p in resonance_particles[chain_id]\n",
    "    ]\n",
    "    if len(rows) > 1:\n",
    "        return rows\n",
    "    return []\n",
    "\n",
    "\n",
    "rows = [\n",
    "    R\"\\hline\",\n",
    "    (\"K^{**}\", f\"{I_K/I_tot:.3f}\"),\n",
    "    *render_resonance_row(chain_id=1),\n",
    "    (R\"\\Lambda^{**}\", f\"{I_Λ/I_tot:.3f}\"),\n",
    "    *render_resonance_row(chain_id=2),\n",
    "    (R\"\\Delta^{**}\", f\"{I_Δ/I_tot:.3f}\"),\n",
    "    *render_resonance_row(chain_id=3),\n",
    "    (R\"\\Delta/\\Lambda\", f\"{I_ΛΔ/I_tot:.3f}\"),\n",
    "    (R\"K/\\Delta\", f\"{I_KΔ/I_tot:.3f}\"),\n",
    "    (R\"K/\\Lambda\", f\"{I_KΛ/I_tot:.3f}\"),\n",
    "    R\"\\hline\",\n",
    "    (\n",
    "        R\"\\mathrm{total}\",\n",
    "        f\"{(I_K + I_Λ + I_Δ + I_ΛΔ + I_KΔ + I_KΛ) /I_tot:.3f}\",\n",
    "    ),\n",
    "]\n",
    "\n",
    "latex = R\"\\begin{array}{crr}\" + \"\\n\"\n",
    "latex += R\"& I_\\mathrm{sub}\\,/\\,I \\\\\" + \"\\n\"\n",
    "for row in rows:\n",
    "    if row == R\"\\hline\":\n",
    "        latex += R\"\\hline\"\n",
    "    else:\n",
    "        latex += \"  \" + \" & \".join(row) + R\" \\\\\" + \"\\n\"\n",
    "latex += R\"\\end{array}\"\n",
    "Math(latex)"
   ]
  },
  {
   "cell_type": "markdown",
   "metadata": {},
   "source": [
    "### Polarization distributions"
   ]
  },
  {
   "cell_type": "code",
   "execution_count": null,
   "metadata": {
    "tags": []
   },
   "outputs": [],
   "source": [
    "polarization_values = {\n",
    "    chain_id: [func[i](kinematic_arrays) for i in range(3)]\n",
    "    for chain_id, func in polarization_functions.items()\n",
    "}\n",
    "for chain_id in range(4):\n",
    "    for array in polarization_values[chain_id]:\n",
    "        assert np.nanmax(array.imag) < 1e-10"
   ]
  },
  {
   "cell_type": "code",
   "execution_count": null,
   "metadata": {
    "tags": [
     "hide-input"
    ]
   },
   "outputs": [],
   "source": [
    "def render_mean(array, plus=True):\n",
    "    array = array.real\n",
    "    mean = f\"{np.nanmean(array):.3f}\"\n",
    "    std = f\"{np.nanstd(array):.3f}\"\n",
    "    if plus and float(mean) > 0:\n",
    "        mean = f\"+{mean}\"\n",
    "    return Rf\"{mean} \\pm {std}\"\n",
    "\n",
    "\n",
    "latex = R\"\\begin{array}{cccc}\" + \"\\n\"\n",
    "latex += R\"& \\bar{|\\alpha|} & \\bar\\alpha_x & \\bar\\alpha_y & \\bar\\alpha_z \\\\\" + \"\\n\"\n",
    "for chain_id, label in chain_ids.items():\n",
    "    latex += f\"  {label} & \"\n",
    "    x, y, z = polarization_values[chain_id]\n",
    "    latex += render_mean(np.sqrt(x**2 + y**2 + z**2), plus=False) + \" & \"\n",
    "    latex += \" & \".join(map(render_mean, [x, y, z]))\n",
    "    latex += R\" \\\\\" + \"\\n\"\n",
    "latex += R\"\\end{array}\"\n",
    "Math(latex)"
   ]
  },
  {
   "cell_type": "code",
   "execution_count": null,
   "metadata": {
    "tags": [
     "remove-input"
    ]
   },
   "outputs": [],
   "source": [
    "%config InlineBackend.figure_formats = ['png']\n",
    "%matplotlib widget"
   ]
  },
  {
   "cell_type": "markdown",
   "metadata": {},
   "source": [
    "#### Slider definitions"
   ]
  },
  {
   "cell_type": "code",
   "execution_count": null,
   "metadata": {
    "tags": [
     "scroll-input",
     "hide-cell",
     "remove-output"
    ]
   },
   "outputs": [],
   "source": [
    "# Slider construction\n",
    "sliders = {}\n",
    "for symbol, value in free_parameters.items():\n",
    "    if symbol.name.startswith(R\"\\mathcal{H}\"):\n",
    "        real_slider = create_slider(symbol)\n",
    "        imag_slider = create_slider(symbol)\n",
    "        sliders[f\"{symbol.name}_real\"] = real_slider\n",
    "        sliders[f\"{symbol.name}_imag\"] = imag_slider\n",
    "        real_slider.description = R\"\\(\\mathrm{Re}\\)\"\n",
    "        imag_slider.description = R\"\\(\\mathrm{Im}\\)\"\n",
    "    else:\n",
    "        slider = create_slider(symbol)\n",
    "        sliders[symbol.name] = slider\n",
    "\n",
    "# Slider ranges\n",
    "σ3_max = (m0_val - m3_val) ** 2\n",
    "σ3_min = (m1_val + m2_val) ** 2\n",
    "\n",
    "for name, slider in sliders.items():\n",
    "    slider.continuous_update = False\n",
    "    slider.step = 0.01\n",
    "    if name.startswith(\"m_\"):\n",
    "        if \"K\" in name:\n",
    "            slider.min = np.sqrt(σ1_min)\n",
    "            slider.max = np.sqrt(σ1_max)\n",
    "        elif R\"\\Lambda\" in name:\n",
    "            slider.min = np.sqrt(σ2_min)\n",
    "            slider.max = np.sqrt(σ2_max)\n",
    "        elif R\"\\Delta\" in name:\n",
    "            slider.min = np.sqrt(σ3_min)\n",
    "            slider.max = np.sqrt(σ3_max)\n",
    "    elif name.startswith(R\"\\Gamma_\"):\n",
    "        slider.min = 0\n",
    "        slider.max = max(0.5, 2 * slider.value)\n",
    "    elif name.startswith(R\"\\mathcal{H}\"):\n",
    "        slider.min = -15\n",
    "        slider.max = +15\n",
    "\n",
    "\n",
    "# Slider values\n",
    "def reset_sliders(click_event):\n",
    "    for symbol, value in free_parameters.items():\n",
    "        if symbol.name.startswith(R\"\\mathcal{H}\"):\n",
    "            set_slider(sliders[symbol.name + \"_real\"], value)\n",
    "            set_slider(sliders[symbol.name + \"_imag\"], value)\n",
    "        else:\n",
    "            set_slider(sliders[symbol.name], value)\n",
    "\n",
    "\n",
    "def set_coupling_to_zero(filter_pattern):\n",
    "    if isinstance(filter_pattern, Combobox):\n",
    "        filter_pattern = filter_pattern.value\n",
    "    for name, slider in sliders.items():\n",
    "        if not name.startswith(R\"\\mathcal{H}\"):\n",
    "            continue\n",
    "        if filter_pattern not in name:\n",
    "            continue\n",
    "        set_slider(slider, 0)\n",
    "\n",
    "\n",
    "def set_slider(slider, value):\n",
    "    if slider.description == R\"\\(\\mathrm{Im}\\)\":\n",
    "        value = complex(value).imag\n",
    "    else:\n",
    "        value = complex(value).real\n",
    "    n_decimals = -round(np.log10(slider.step))\n",
    "    if slider.value != round(value, n_decimals):  # widget performance\n",
    "        slider.value = value\n",
    "\n",
    "\n",
    "reset_sliders(click_event=None)\n",
    "reset_button = Button(description=\"Reset slider values\")\n",
    "reset_button.on_click(reset_sliders)\n",
    "\n",
    "all_resonances = [r.latex for r_list in resonance_particles.values() for r in r_list]\n",
    "filter_button = Combobox(\n",
    "    placeholder=\"Enter coupling filter pattern\",\n",
    "    options=all_resonances,\n",
    "    description=R\"$\\mathcal{H}=0$\",\n",
    ")\n",
    "filter_button.on_submit(set_coupling_to_zero)\n",
    "\n",
    "# UI design\n",
    "latex = {symbol.name: sp.latex(symbol) for symbol in free_parameters}\n",
    "mass_sliders = [sliders[n] for n in sliders if n.startswith(\"m_\")]\n",
    "width_sliders = [sliders[n] for n in sliders if n.startswith(R\"\\Gamma_\")]\n",
    "coupling_sliders = {}\n",
    "for res_list in resonance_particles.values():\n",
    "    for res in res_list:\n",
    "        coupling_sliders[res.name] = (\n",
    "            [s for n, s in sliders.items() if n.endswith(\"_real\") and res.latex in n],\n",
    "            [s for n, s in sliders.items() if n.endswith(\"_imag\") and res.latex in n],\n",
    "            [\n",
    "                HTMLMath(f\"${latex[n[:-5]]}$\")\n",
    "                for n in sliders\n",
    "                if n.endswith(\"_real\") and res.latex in n\n",
    "            ],\n",
    "        )\n",
    "slider_tabs = Tab(\n",
    "    children=[\n",
    "        Tab(\n",
    "            children=[\n",
    "                VBox([HBox(s) for s in zip(*pair)])\n",
    "                for pair in coupling_sliders.values()\n",
    "            ],\n",
    "            _titles={i: label for i, label in enumerate(coupling_sliders)},\n",
    "        ),\n",
    "        VBox([HBox([r, i]) for r, i in zip(mass_sliders, width_sliders)]),\n",
    "    ],\n",
    "    _titles=dict(enumerate([\"Couplings\", \"Masses and widths\"])),\n",
    ")\n",
    "ui = VBox([slider_tabs, HBox([reset_button, filter_button])])"
   ]
  },
  {
   "cell_type": "markdown",
   "metadata": {},
   "source": [
    "#### Interactive plot"
   ]
  },
  {
   "cell_type": "code",
   "execution_count": null,
   "metadata": {
    "tags": [
     "scroll-input",
     "hide-cell",
     "remove-output"
    ]
   },
   "outputs": [],
   "source": [
    "nrows = 3\n",
    "ncols = 5\n",
    "scale = 2.6\n",
    "aspect_ratio = 1.15\n",
    "fig, axes = plt.subplots(\n",
    "    figsize=scale * np.array([ncols, aspect_ratio * nrows]),\n",
    "    ncols=ncols,\n",
    "    nrows=nrows,\n",
    "    sharex=True,\n",
    "    sharey=True,\n",
    "    gridspec_kw={\"width_ratios\": (ncols - 1) * [1] + [1.24]},\n",
    "    tight_layout=True,\n",
    ")\n",
    "fig.canvas.toolbar_visible = False\n",
    "fig.canvas.header_visible = False\n",
    "fig.canvas.footer_visible = False\n",
    "\n",
    "for chain_id in range(nrows):\n",
    "    for i in range(ncols):\n",
    "        ax = axes[chain_id, i]\n",
    "        if i == 0:\n",
    "            alpha_str = R\"I_\\mathrm{tot}\"\n",
    "        elif i == 1:\n",
    "            alpha_str = R\"|\\alpha|\"\n",
    "        else:\n",
    "            alpha_str = Rf\"\\alpha_{'xyz'[i-2]}\"\n",
    "        title = alpha_str\n",
    "        if chain_id > 0:\n",
    "            title = Rf\"{title}\\left({chain_ids[chain_id]}\\right)\"\n",
    "        ax.set_title(f\"${title}$\")\n",
    "        if ax is axes[-1, i]:\n",
    "            ax.set_xlabel(s1_label)\n",
    "        if i == 0:\n",
    "            ax.set_ylabel(s2_label)\n",
    "\n",
    "color_mesh = np.full([nrows, ncols], None)\n",
    "\n",
    "\n",
    "def plot3(**kwargs):\n",
    "    global color_mesh\n",
    "    kwargs = to_complex_kwargs(**kwargs)\n",
    "    for chain_id in range(nrows):\n",
    "        # alpha_xyz distributions\n",
    "        alpha_xyz_arrays = []\n",
    "        for i in range(2, ncols):\n",
    "            xyz = i - 2\n",
    "            func = polarization_functions[chain_id][xyz]\n",
    "            func.update_parameters(kwargs)\n",
    "            z_values = func(kinematic_arrays)\n",
    "            z_values = np.real(z_values)\n",
    "            alpha_xyz_arrays.append(z_values)\n",
    "            ax = axes[chain_id, i]\n",
    "            if color_mesh[chain_id, i] is None:\n",
    "                color_mesh[chain_id, i] = ax.pcolormesh(\n",
    "                    X, Y, z_values, cmap=cm.coolwarm\n",
    "                )\n",
    "                if ax is axes[chain_id, -1]:\n",
    "                    fig.colorbar(color_mesh[chain_id, i], ax=ax)\n",
    "            else:\n",
    "                color_mesh[chain_id, i].set_array(z_values)\n",
    "            color_mesh[chain_id, i].set_clim(vmin=-1, vmax=+1)\n",
    "        # absolute value of alpha_xyz vector\n",
    "        i = 1\n",
    "        alpha_abs = np.sqrt(np.sum(np.array(alpha_xyz_arrays) ** 2, axis=0))\n",
    "        ax = axes[chain_id, i]\n",
    "        if color_mesh[chain_id, i] is None:\n",
    "            color_mesh[chain_id, i] = ax.pcolormesh(X, Y, alpha_abs, cmap=cm.coolwarm)\n",
    "        else:\n",
    "            color_mesh[chain_id, i].set_array(alpha_abs)\n",
    "        color_mesh[chain_id, i].set_clim(vmin=-1, vmax=+1)\n",
    "        # total intensity\n",
    "        i = 0\n",
    "        func = intensity_functions[chain_id]\n",
    "        func.update_parameters(kwargs)\n",
    "        z_values = func(kinematic_arrays)\n",
    "        ax = axes[chain_id, i]\n",
    "        if color_mesh[chain_id, i] is None:\n",
    "            color_mesh[chain_id, i] = ax.pcolormesh(X, Y, z_values)\n",
    "        else:\n",
    "            color_mesh[chain_id, i].set_array(z_values)\n",
    "    fig.canvas.draw()\n",
    "\n",
    "\n",
    "def to_complex_kwargs(**kwargs):\n",
    "    complex_valued_kwargs = {}\n",
    "    for key, value in dict(kwargs).items():\n",
    "        if key.endswith(\"real\"):\n",
    "            symbol_name = key[:-5]\n",
    "            imag = kwargs[f\"{symbol_name}_imag\"]\n",
    "            complex_valued_kwargs[symbol_name] = complex(value, imag)\n",
    "        elif key.endswith(\"imag\"):\n",
    "            continue\n",
    "        else:\n",
    "            complex_valued_kwargs[key] = value\n",
    "    return complex_valued_kwargs\n",
    "\n",
    "\n",
    "output = interactive_output(plot3, controls=sliders)\n",
    "display(ui, output)"
   ]
  }
 ],
 "metadata": {
  "kernelspec": {
   "display_name": "Python 3 (ipykernel)",
   "language": "python",
   "name": "python3"
  },
  "language_info": {
   "codemirror_mode": {
    "name": "ipython",
    "version": 3
   },
   "file_extension": ".py",
   "mimetype": "text/x-python",
   "name": "python",
   "nbconvert_exporter": "python",
   "pygments_lexer": "ipython3",
   "version": "3.8.13"
  }
 },
 "nbformat": 4,
 "nbformat_minor": 4
}
