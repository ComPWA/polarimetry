{
 "cells": [
  {
   "cell_type": "markdown",
   "metadata": {},
   "source": [
    "# Polarization sensitivity in $\\Lambda_c \\to p \\pi K$"
   ]
  },
  {
   "cell_type": "markdown",
   "metadata": {},
   "source": [
    "_This notebook originates from [ComPWA/compwa-org#129](https://github.com/ComPWA/compwa-org/pull/129) [[TR-018](https://compwa-org--129.org.readthedocs.build/report/018.html)], [`625e50c`](https://github.com/ComPWA/compwa-org/pull/129/commits/94ceb51)._"
   ]
  },
  {
   "cell_type": "code",
   "execution_count": null,
   "metadata": {
    "jupyter": {
     "source_hidden": true
    },
    "tags": [
     "hide-cell"
    ]
   },
   "outputs": [],
   "source": [
    "from __future__ import annotations\n",
    "\n",
    "import itertools\n",
    "import json\n",
    "import re\n",
    "from typing import Pattern\n",
    "\n",
    "import matplotlib.pyplot as plt\n",
    "import numpy as np\n",
    "import qrules\n",
    "import sympy as sp\n",
    "from ampform.sympy import PoolSum, UnevaluatedExpression\n",
    "from attrs import evolve\n",
    "from IPython.display import HTML, Math, display\n",
    "from ipywidgets import Button, Combobox, HBox, HTMLMath, Tab, VBox, interactive_output\n",
    "from matplotlib import cm\n",
    "from matplotlib.colors import LogNorm\n",
    "from qrules.particle import Particle\n",
    "from symplot import create_slider\n",
    "from sympy.core.symbol import Str\n",
    "from sympy.physics.matrices import msigma\n",
    "from sympy.physics.quantum.spin import Rotation as Wigner\n",
    "from tensorwaves.data.transform import SympyDataTransformer\n",
    "from tensorwaves.function import ParametrizedBackendFunction\n",
    "from tensorwaves.function.sympy import create_function, create_parametrized_function\n",
    "\n",
    "from polarization.decay import IsobarNode, Resonance, ThreeBodyDecay\n",
    "from polarization.dynamics import (\n",
    "    BlattWeisskopf,\n",
    "    BuggBreitWigner,\n",
    "    EnergyDependentWidth,\n",
    "    FlattéSWave,\n",
    "    Källén,\n",
    "    P,\n",
    "    Q,\n",
    "    RelativisticBreitWigner,\n",
    ")\n",
    "from polarization.io import as_latex, from_qrules, load_resonance_definitions\n",
    "from polarization.spin import (\n",
    "    create_spin_range,\n",
    "    filter_parity_violating_ls,\n",
    "    generate_ls_couplings,\n",
    ")\n",
    "\n",
    "PDG = qrules.load_pdg()\n",
    "\n",
    "\n",
    "def display_latex(obj) -> None:\n",
    "    latex = as_latex(obj)\n",
    "    display(Math(latex))\n",
    "\n",
    "\n",
    "def display_doit(\n",
    "    expr: UnevaluatedExpression, deep=False, terms_per_line: int | None = None\n",
    ") -> None:\n",
    "    if terms_per_line is None:\n",
    "        latex = as_latex({expr: expr.doit(deep=deep)})\n",
    "    else:\n",
    "        latex = sp.multiline_latex(\n",
    "            lhs=expr,\n",
    "            rhs=expr.doit(deep=deep),\n",
    "            terms_per_line=terms_per_line,\n",
    "            environment=\"eqnarray\",\n",
    "        )\n",
    "    display(Math(latex))\n",
    "\n",
    "\n",
    "# hack for moving Indexed indices below superscript of the base\n",
    "def _print_Indexed_latex(self, printer, *args):\n",
    "    base = printer._print(self.base)\n",
    "    indices = \", \".join(map(printer._print, self.indices))\n",
    "    return f\"{base}_{{{indices}}}\"\n",
    "\n",
    "\n",
    "sp.Indexed._latex = _print_Indexed_latex"
   ]
  },
  {
   "cell_type": "markdown",
   "metadata": {
    "tags": []
   },
   "source": [
    "## Amplitude model"
   ]
  },
  {
   "cell_type": "markdown",
   "metadata": {},
   "source": [
    "### Resonances and $LS$-scheme"
   ]
  },
  {
   "cell_type": "markdown",
   "metadata": {},
   "source": [
    "Particle definitions for $\\Lambda_c^+$ and $p, \\pi^+, K^-$:"
   ]
  },
  {
   "cell_type": "code",
   "execution_count": null,
   "metadata": {
    "tags": []
   },
   "outputs": [],
   "source": [
    "Λc = from_qrules(evolve(PDG[\"Lambda(c)+\"], mass=2.28646))\n",
    "p = from_qrules(evolve(PDG[\"p\"], mass=0.938272046))\n",
    "K = from_qrules(evolve(PDG[\"K-\"], mass=0.493677))\n",
    "π = from_qrules(evolve(PDG[\"pi+\"], mass=0.13957018))\n",
    "\n",
    "# https://github.com/redeboer/polarization-sensitivity/blob/34f5330/julia/notebooks/model0.jl#L43-L47\n",
    "Σ = from_qrules(evolve(PDG[\"Sigma-\"], mass=1.18937))  # for Flatté"
   ]
  },
  {
   "cell_type": "markdown",
   "metadata": {
    "tags": []
   },
   "source": [
    "Resonance definitions as defined in [`data/isobars.json`](../data/isobars.json):"
   ]
  },
  {
   "cell_type": "code",
   "execution_count": null,
   "metadata": {},
   "outputs": [],
   "source": [
    "resonances = load_resonance_definitions(\"../data/isobars.json\")\n",
    "len(resonances)"
   ]
  },
  {
   "cell_type": "code",
   "execution_count": null,
   "metadata": {
    "jupyter": {
     "source_hidden": true
    },
    "tags": []
   },
   "outputs": [],
   "source": [
    "def create_isobar(resonance: Resonance) -> ThreeBodyDecay:\n",
    "    if resonance.name.startswith(\"K\"):\n",
    "        child1, child2, sibling = π, K, p\n",
    "    elif resonance.name.startswith(\"L\"):\n",
    "        child1, child2, sibling = p, K, π\n",
    "    elif resonance.name.startswith(\"D\"):\n",
    "        child1, child2, sibling = p, π, K\n",
    "    else:\n",
    "        raise NotImplementedError\n",
    "    decay = IsobarNode(\n",
    "        parent=Λc,\n",
    "        child1=sibling,\n",
    "        child2=IsobarNode(\n",
    "            parent=resonance,\n",
    "            child1=child1,\n",
    "            child2=child2,\n",
    "            interaction=generate_L_min(resonance, child1, child2),\n",
    "        ),\n",
    "        interaction=generate_L_min(Λc, sibling, resonance),\n",
    "    )\n",
    "    return ThreeBodyDecay(decay)\n",
    "\n",
    "\n",
    "def generate_L_min(parent: Resonance, child1: Resonance, child2: Resonance) -> int:\n",
    "    ls = generate_ls_couplings(parent.spin, child1.spin, child2.spin)\n",
    "    ls = filter_parity_violating_ls(ls, parent.parity, child1.parity, child2.parity)\n",
    "    return min(ls)\n",
    "\n",
    "\n",
    "decays = [create_isobar(res) for res in resonances.values()]\n",
    "Math(as_latex(decays, with_jp=True))"
   ]
  },
  {
   "cell_type": "code",
   "execution_count": null,
   "metadata": {
    "jupyter": {
     "source_hidden": true
    },
    "tags": [
     "hide-input"
    ]
   },
   "outputs": [],
   "source": [
    "def create_html_table_row(*items, typ=\"td\"):\n",
    "    items = map(lambda i: f\"<{typ}>{i}</{typ}>\", items)\n",
    "    return \"<tr>\" + \"\".join(items) + \"</tr>\\n\"\n",
    "\n",
    "\n",
    "column_names = [\n",
    "    \"resonance\",\n",
    "    R\"\\(j^P\\)\",\n",
    "    R\"\\(m\\) (MeV)\",\n",
    "    R\"\\(\\Gamma_0\\) (MeV)\",\n",
    "    R\"\\(l_R\\)\",\n",
    "    R\"\\(l_{\\Lambda_c}^\\mathrm{min}\\)\",\n",
    "    \"lineshape\",\n",
    "]\n",
    "src = \"<table>\\n\"\n",
    "src += create_html_table_row(*column_names, typ=\"th\")\n",
    "for decay in decays:\n",
    "    child1, child2 = map(as_latex, decay.decay_products)\n",
    "    src += create_html_table_row(\n",
    "        Rf\"\\({decay.resonance.latex} \\to\" Rf\" {child1} {child2}\\)\",\n",
    "        Rf\"\\({as_latex(decay.resonance, only_jp=True)}\\)\",\n",
    "        int(1e3 * decay.resonance.mass),\n",
    "        int(1e3 * decay.resonance.width),\n",
    "        decay.incoming_ls.L,\n",
    "        decay.outgoing_ls.L,\n",
    "        decay.resonance.lineshape,\n",
    "    )\n",
    "src += \"</table>\\n\"\n",
    "HTML(src)"
   ]
  },
  {
   "cell_type": "markdown",
   "metadata": {},
   "source": [
    "### Aligned amplitude"
   ]
  },
  {
   "cell_type": "code",
   "execution_count": null,
   "metadata": {
    "jupyter": {
     "source_hidden": true
    },
    "tags": [
     "full-width",
     "hide-input"
    ]
   },
   "outputs": [],
   "source": [
    "A_K = sp.IndexedBase(R\"A^K\")\n",
    "A_Λ = sp.IndexedBase(R\"A^{\\Lambda}\")\n",
    "A_Δ = sp.IndexedBase(R\"A^{\\Delta}\")\n",
    "\n",
    "half = sp.S.Half\n",
    "\n",
    "ζ_0_11 = sp.Symbol(R\"\\zeta^0_{1(1)}\", real=True)\n",
    "ζ_0_21 = sp.Symbol(R\"\\zeta^0_{2(1)}\", real=True)\n",
    "ζ_0_31 = sp.Symbol(R\"\\zeta^0_{3(1)}\", real=True)\n",
    "ζ_1_11 = sp.Symbol(R\"\\zeta^1_{1(1)}\", real=True)\n",
    "ζ_1_21 = sp.Symbol(R\"\\zeta^1_{2(1)}\", real=True)\n",
    "ζ_1_31 = sp.Symbol(R\"\\zeta^1_{3(1)}\", real=True)\n",
    "\n",
    "\n",
    "def formulate_aligned_amplitude(λ_Λc, λ_p):\n",
    "    _ν = sp.Symbol(R\"\\nu^{\\prime}\", rational=True)\n",
    "    _λ = sp.Symbol(R\"\\lambda^{\\prime}\", rational=True)\n",
    "    return PoolSum(\n",
    "        A_K[_ν, _λ] * Wigner.d(half, λ_Λc, _ν, ζ_0_11) * Wigner.d(half, _λ, λ_p, ζ_1_11)\n",
    "        + A_Λ[_ν, _λ]\n",
    "        * Wigner.d(half, λ_Λc, _ν, ζ_0_21)\n",
    "        * Wigner.d(half, _λ, λ_p, ζ_1_21)\n",
    "        + A_Δ[_ν, _λ]\n",
    "        * Wigner.d(half, λ_Λc, _ν, ζ_0_31)\n",
    "        * Wigner.d(half, _λ, λ_p, ζ_1_31),\n",
    "        (_λ, [-half, +half]),\n",
    "        (_ν, [-half, +half]),\n",
    "    )\n",
    "\n",
    "\n",
    "ν = sp.Symbol(\"nu\")\n",
    "λ = sp.Symbol(\"lambda\")\n",
    "formulate_aligned_amplitude(λ_Λc=ν, λ_p=λ)"
   ]
  },
  {
   "cell_type": "markdown",
   "metadata": {},
   "source": [
    "### Dynamics"
   ]
  },
  {
   "cell_type": "code",
   "execution_count": null,
   "metadata": {
    "jupyter": {
     "source_hidden": true
    },
    "tags": [
     "hide-input"
    ]
   },
   "outputs": [],
   "source": [
    "z = sp.Symbol(\"z\", positive=True)\n",
    "L = sp.Symbol(\"L\", integer=True, nonnegative=True)\n",
    "display_doit(BlattWeisskopf(z, L))"
   ]
  },
  {
   "cell_type": "code",
   "execution_count": null,
   "metadata": {
    "jupyter": {
     "source_hidden": true
    },
    "tags": [
     "hide-input"
    ]
   },
   "outputs": [],
   "source": [
    "x, y, z = sp.symbols(\"x:z\")\n",
    "display_doit(Källén(x, y, z))"
   ]
  },
  {
   "cell_type": "code",
   "execution_count": null,
   "metadata": {
    "jupyter": {
     "source_hidden": true
    },
    "tags": [
     "hide-input"
    ]
   },
   "outputs": [],
   "source": [
    "s, m0, mi, mj, mk = sp.symbols(\"s m0 m_i:k\", nonnegative=True)\n",
    "display_doit(P(s, mi, mj))\n",
    "display_doit(Q(s, m0, mk))"
   ]
  },
  {
   "cell_type": "code",
   "execution_count": null,
   "metadata": {
    "jupyter": {
     "source_hidden": true
    },
    "tags": [
     "hide-input"
    ]
   },
   "outputs": [],
   "source": [
    "R = sp.Symbol(\"R\")\n",
    "l_R = sp.Symbol(\"l_R\", integer=True, positive=True)\n",
    "m, Γ0, m1, m2 = sp.symbols(\"m Γ0 m1 m2\", nonnegative=True)\n",
    "display_doit(EnergyDependentWidth(s, m, Γ0, m1, m2, l_R, R))"
   ]
  },
  {
   "cell_type": "code",
   "execution_count": null,
   "metadata": {
    "jupyter": {
     "source_hidden": true
    },
    "tags": [
     "hide-input"
    ]
   },
   "outputs": [],
   "source": [
    "l_Λc = sp.Symbol(R\"l_{\\Lambda_c}\", integer=True, positive=True)\n",
    "display_doit(RelativisticBreitWigner(s, m, Γ0, m1, m2, l_R, l_Λc, R))"
   ]
  },
  {
   "cell_type": "code",
   "execution_count": null,
   "metadata": {
    "jupyter": {
     "source_hidden": true
    },
    "tags": []
   },
   "outputs": [],
   "source": [
    "m1_1, m2_1, m1_2, m2_2 = sp.symbols(\"m1_1 m2_1 m1_2 m2_2\")\n",
    "display_doit(FlattéSWave(s, m, Γ0, (m1_1, m2_1), (m1_2, m2_2)))"
   ]
  },
  {
   "cell_type": "code",
   "execution_count": null,
   "metadata": {
    "jupyter": {
     "source_hidden": true
    },
    "tags": []
   },
   "outputs": [],
   "source": [
    "mKπ, m0, Γ0, mK, mπ, γ = sp.symbols(R\"m_{K\\pi} m0 Gamma0 m_K m_pi gamma\")\n",
    "bugg = BuggBreitWigner(mKπ**2, m0, Γ0, mK, mπ, γ)\n",
    "q = P(mKπ**2, mK, mπ)\n",
    "s_A = sp.Symbol(\"s_A\")\n",
    "definitions = {\n",
    "    s_A: mK**2 - mπ**2,\n",
    "    sp.Symbol(R\"\\rho_{K\\pi}\"): 2 * q / mKπ**2,\n",
    "    q: q.evaluate(),\n",
    "}\n",
    "display_latex({bugg: bugg.evaluate().subs({v: k for k, v in definitions.items()})})\n",
    "display_latex(definitions)"
   ]
  },
  {
   "cell_type": "markdown",
   "metadata": {},
   "source": [
    "### Sub-system amplitudes"
   ]
  },
  {
   "cell_type": "code",
   "execution_count": null,
   "metadata": {
    "jupyter": {
     "source_hidden": true
    },
    "tags": [
     "scroll-input",
     "hide-input",
     "full-width"
    ]
   },
   "outputs": [],
   "source": [
    "H_prod = sp.IndexedBase(R\"\\mathcal{H}^\\mathrm{production}\")\n",
    "H_dec = sp.IndexedBase(R\"\\mathcal{H}^\\mathrm{decay}\")\n",
    "\n",
    "θ23 = sp.Symbol(\"theta23\", real=True)\n",
    "θ31 = sp.Symbol(\"theta31\", real=True)\n",
    "θ12 = sp.Symbol(\"theta12\", real=True)\n",
    "\n",
    "σ1, σ2, σ3 = sp.symbols(\"sigma1:4\", nonnegative=True)\n",
    "m1, m2, m3 = sp.symbols(R\"m_p m_pi m_K\", nonnegative=True)\n",
    "\n",
    "\n",
    "def formulate_subsystem_amplitude(subsystem: int, λ_Λc, λ_p):\n",
    "    if subsystem == 1:\n",
    "        return formulate_K_amplitude(λ_Λc, λ_p, filter_isobars(decays, \"K\"))\n",
    "    if subsystem == 2:\n",
    "        return formulate_Λ_amplitude(λ_Λc, λ_p, filter_isobars(decays, \"L\"))\n",
    "    if subsystem == 3:\n",
    "        return formulate_Δ_amplitude(λ_Λc, λ_p, filter_isobars(decays, \"D\"))\n",
    "    raise NotImplementedError(f\"No chain implemented for sub-system {subsystem}\")\n",
    "\n",
    "\n",
    "def formulate_K_amplitude(λ_Λc, λ_p, decays: list[ThreeBodyDecay]):\n",
    "    τ = sp.Symbol(\"tau\", rational=True)\n",
    "    return sp.Add(\n",
    "        *[\n",
    "            PoolSum(\n",
    "                sp.KroneckerDelta(λ_Λc, τ - λ_p)\n",
    "                * H_prod[stringify(decay.resonance), τ, λ_p]\n",
    "                * formulate_dynamics(decay, σ1, m2, m3)\n",
    "                * (-1) ** (half - λ_p)\n",
    "                * Wigner.d(sp.Rational(decay.resonance.spin), τ, 0, θ23)\n",
    "                * H_dec[stringify(decay.resonance), 0, 0],\n",
    "                (τ, create_spin_range(decay.resonance.spin)),\n",
    "            )\n",
    "            for decay in decays\n",
    "        ]\n",
    "    )\n",
    "\n",
    "\n",
    "def formulate_Λ_amplitude(λ_Λc, λ_p, decays: list[ThreeBodyDecay]):\n",
    "    τ = sp.Symbol(\"tau\", rational=True)\n",
    "    return sp.Add(\n",
    "        *[\n",
    "            PoolSum(\n",
    "                sp.KroneckerDelta(λ_Λc, τ)\n",
    "                * H_prod[stringify(decay.resonance), τ, 0]\n",
    "                * formulate_dynamics(decay, σ2, m1, m3)\n",
    "                * Wigner.d(sp.Rational(decay.resonance.spin), τ, -λ_p, θ31)\n",
    "                * H_dec[stringify(decay.resonance), 0, λ_p]\n",
    "                * (-1) ** (half - λ_p),\n",
    "                (τ, create_spin_range(decay.resonance.spin)),\n",
    "            )\n",
    "            for decay in decays\n",
    "        ]\n",
    "    )\n",
    "\n",
    "\n",
    "def formulate_Δ_amplitude(λ_Λc, λ_p, decays: list[ThreeBodyDecay]):\n",
    "    τ = sp.Symbol(\"tau\", rational=True)\n",
    "    return sp.Add(\n",
    "        *[\n",
    "            PoolSum(\n",
    "                sp.KroneckerDelta(λ_Λc, τ)\n",
    "                * H_prod[stringify(decay.resonance), τ, 0]\n",
    "                * formulate_dynamics(decay, σ3, m1, m2)\n",
    "                * Wigner.d(sp.Rational(decay.resonance.spin), τ, λ_p, θ12)\n",
    "                * H_dec[stringify(decay.resonance), λ_p, 0],\n",
    "                (τ, create_spin_range(decay.resonance.spin)),\n",
    "            )\n",
    "            for decay in decays\n",
    "        ]\n",
    "    )\n",
    "\n",
    "\n",
    "def formulate_dynamics(decay: ThreeBodyDecay, s, m1, m2):\n",
    "    lineshape = decay.resonance.lineshape\n",
    "    if lineshape == \"BreitWignerMinL\":\n",
    "        return formulate_breit_wigner(decay, s, m1, m2)\n",
    "    if lineshape == \"BuggBreitWignerMinL\":\n",
    "        return formulate_bugg_breit_wigner(decay, s, m1, m2)\n",
    "    if lineshape == \"Flatte1405\":\n",
    "        return formulate_flatté_1405(decay, s, m1, m2)\n",
    "    raise NotImplementedError(f'No dynamics implemented for lineshape \"{lineshape}\"')\n",
    "\n",
    "\n",
    "def formulate_breit_wigner(decay: ThreeBodyDecay, s, m1, m2):\n",
    "    l_R = sp.Rational(decay.incoming_ls.L)\n",
    "    l_Λc = sp.Rational(decay.outgoing_ls.L)\n",
    "    mass = sp.Symbol(f\"m_{{{decay.resonance.latex}}}\")\n",
    "    width = sp.Symbol(Rf\"\\Gamma_{{{decay.resonance.latex}}}\")\n",
    "    safe_update_parameters(mass, decay.resonance.mass)\n",
    "    safe_update_parameters(width, decay.resonance.width)\n",
    "    return RelativisticBreitWigner(s, mass, width, m1, m2, l_R, l_Λc, R)\n",
    "\n",
    "\n",
    "def formulate_bugg_breit_wigner(decay: ThreeBodyDecay, s, m1, m2):\n",
    "    gamma = sp.Symbol(Rf\"\\gamma_{{{decay.resonance.latex}}}\")\n",
    "    mass = sp.Symbol(f\"m_{{{decay.resonance.latex}}}\")\n",
    "    width = sp.Symbol(Rf\"\\Gamma_{{{decay.resonance.latex}}}\")\n",
    "    safe_update_parameters(mass, decay.resonance.mass)\n",
    "    safe_update_parameters(width, decay.resonance.width)\n",
    "    safe_update_parameters(gamma, 1)\n",
    "    return BuggBreitWigner(s, mass, width, m1, m2, gamma)\n",
    "\n",
    "\n",
    "def formulate_flatté_1405(decay: ThreeBodyDecay, s, m1, m2):\n",
    "    mass = sp.Symbol(f\"m_{{{decay.resonance.latex}}}\")\n",
    "    width = sp.Symbol(Rf\"\\Gamma_{{{decay.resonance.latex}}}\")\n",
    "    mπ = sp.Symbol(f\"m_{{{π.latex}}}\")\n",
    "    mΣ = sp.Symbol(f\"m_{{{Σ.latex}}}\")\n",
    "    safe_update_parameters(mass, decay.resonance.mass)\n",
    "    safe_update_parameters(width, decay.resonance.width)\n",
    "    safe_update_parameters(mπ, π.width)\n",
    "    safe_update_parameters(mΣ, Σ.width)\n",
    "    return FlattéSWave(s, mass, width, (m1, m2), (mπ, mΣ))\n",
    "\n",
    "\n",
    "def safe_update_parameters(parameter: sp.Symbol, value) -> None:\n",
    "    parameter_defaults[parameter] = parameter_defaults.get(parameter, value)\n",
    "\n",
    "\n",
    "def stringify(obj) -> Str:\n",
    "    if isinstance(obj, (Particle, Resonance)):\n",
    "        return Str(obj.latex)\n",
    "    return Str(f\"{obj}\")\n",
    "\n",
    "\n",
    "def filter_isobars(\n",
    "    decays: list[ThreeBodyDecay], resonance_pattern: str\n",
    ") -> list[ThreeBodyDecay]:\n",
    "    return [dec for dec in decays if dec.resonance.name.startswith(resonance_pattern)]"
   ]
  },
  {
   "cell_type": "markdown",
   "metadata": {},
   "source": [
    "### Angle definitions"
   ]
  },
  {
   "cell_type": "code",
   "execution_count": null,
   "metadata": {
    "jupyter": {
     "source_hidden": true
    },
    "tags": [
     "scroll-input",
     "hide-input"
    ]
   },
   "outputs": [],
   "source": [
    "m0 = sp.Symbol(R\"m_{\\Lambda_c}\", nonnegative=True)\n",
    "angles = {\n",
    "    θ12: sp.acos(\n",
    "        (\n",
    "            2 * σ3 * (σ2 - m3**2 - m1**2)\n",
    "            - (σ3 + m1**2 - m2**2) * (m0**2 - σ3 - m3**2)\n",
    "        )\n",
    "        / (\n",
    "            sp.sqrt(Källén(m0**2, m3**2, σ3))\n",
    "            * sp.sqrt(Källén(σ3, m1**2, m2**2))\n",
    "        )\n",
    "    ),\n",
    "    θ23: sp.acos(\n",
    "        (\n",
    "            2 * σ1 * (σ3 - m1**2 - m2**2)\n",
    "            - (σ1 + m2**2 - m3**2) * (m0**2 - σ1 - m1**2)\n",
    "        )\n",
    "        / (\n",
    "            sp.sqrt(Källén(m0**2, m1**2, σ1))\n",
    "            * sp.sqrt(Källén(σ1, m2**2, m3**2))\n",
    "        )\n",
    "    ),\n",
    "    θ31: sp.acos(\n",
    "        (\n",
    "            2 * σ2 * (σ1 - m2**2 - m3**2)\n",
    "            - (σ2 + m3**2 - m1**2) * (m0**2 - σ2 - m2**2)\n",
    "        )\n",
    "        / (\n",
    "            sp.sqrt(Källén(m0**2, m2**2, σ2))\n",
    "            * sp.sqrt(Källén(σ2, m3**2, m1**2))\n",
    "        )\n",
    "    ),\n",
    "    ζ_0_11: sp.S.Zero,  # = \\hat\\theta^0_{1(1)}\n",
    "    ζ_0_21: -sp.acos(  # = -\\hat\\theta^{1(2)}\n",
    "        (\n",
    "            (m0**2 + m1**2 - σ1) * (m0**2 + m2**2 - σ2)\n",
    "            - 2 * m0**2 * (σ3 - m1**2 - m2**2)\n",
    "        )\n",
    "        / (\n",
    "            sp.sqrt(Källén(m0**2, m2**2, σ2))\n",
    "            * sp.sqrt(Källén(m0**2, σ1, m1**2))\n",
    "        )\n",
    "    ),\n",
    "    ζ_0_31: sp.acos(  # = \\hat\\theta^{3(1)}\n",
    "        (\n",
    "            (m0**2 + m3**2 - σ3) * (m0**2 + m1**2 - σ1)\n",
    "            - 2 * m0**2 * (σ2 - m3**2 - m1**2)\n",
    "        )\n",
    "        / (\n",
    "            sp.sqrt(Källén(m0**2, m1**2, σ1))\n",
    "            * sp.sqrt(Källén(m0**2, σ3, m3**2))\n",
    "        )\n",
    "    ),\n",
    "    ζ_1_11: sp.S.Zero,\n",
    "    ζ_1_21: sp.acos(\n",
    "        (\n",
    "            2 * m1**2 * (σ3 - m0**2 - m3**2)\n",
    "            + (m0**2 + m1**2 - σ1) * (σ2 - m1**2 - m3**2)\n",
    "        )\n",
    "        / (\n",
    "            sp.sqrt(Källén(m0**2, m1**2, σ1))\n",
    "            * sp.sqrt(Källén(σ2, m1**2, m3**2))\n",
    "        )\n",
    "    ),\n",
    "    ζ_1_31: -sp.acos(  # = -\\zeta^1_{1(3)}\n",
    "        (\n",
    "            2 * m1**2 * (σ2 - m0**2 - m2**2)\n",
    "            + (m0**2 + m1**2 - σ1) * (σ3 - m1**2 - m2**2)\n",
    "        )\n",
    "        / (\n",
    "            sp.sqrt(Källén(m0**2, m1**2, σ1))\n",
    "            * sp.sqrt(Källén(σ3, m1**2, m2**2))\n",
    "        )\n",
    "    ),\n",
    "}\n",
    "\n",
    "display_latex(angles)"
   ]
  },
  {
   "cell_type": "code",
   "execution_count": null,
   "metadata": {
    "jupyter": {
     "source_hidden": true
    },
    "tags": [
     "hide-input"
    ]
   },
   "outputs": [],
   "source": [
    "masses = {\n",
    "    m0: Λc.mass,\n",
    "    m1: p.mass,\n",
    "    m2: π.mass,\n",
    "    m3: K.mass,\n",
    "}\n",
    "display_latex(masses)"
   ]
  },
  {
   "cell_type": "markdown",
   "metadata": {
    "tags": []
   },
   "source": [
    "### Helicity coupling values"
   ]
  },
  {
   "cell_type": "code",
   "execution_count": null,
   "metadata": {
    "jupyter": {
     "source_hidden": true
    },
    "tags": []
   },
   "outputs": [],
   "source": [
    "def to_symbol_definitions(\n",
    "    parameter_dict: dict[str, str]\n",
    ") -> dict[sp.Basic, complex | float]:\n",
    "    key_to_val: dict[str, complex | float] = {}\n",
    "    for key, str_value in parameter_dict.items():\n",
    "        if key.startswith(\"Ar\"):\n",
    "            identifier = key[2:]\n",
    "            str_imag = parameter_dict[f\"Ai{identifier}\"]\n",
    "            real = to_float(str_value)\n",
    "            imag = to_float(str_imag)\n",
    "            key_to_val[f\"A{identifier}\"] = complex(real, imag)\n",
    "        elif key.startswith(\"Ai\"):\n",
    "            continue\n",
    "        else:\n",
    "            key_to_val[key] = to_float(str_value)\n",
    "    return {to_symbol(key): value for key, value in key_to_val.items()}\n",
    "\n",
    "\n",
    "def to_float(str_value: str) -> float:\n",
    "    value, _ = map(float, str_value.split(\" ± \"))\n",
    "    return value\n",
    "\n",
    "\n",
    "def to_symbol(key: str) -> sp.Indexed | sp.Symbol:\n",
    "    if key.startswith(\"A\"):\n",
    "        res = stringify(key[1:-1])\n",
    "        i = int(key[-1])\n",
    "        if str(res).startswith(\"L\"):\n",
    "            if i == 1:\n",
    "                return H_prod[res, +half, 0]\n",
    "            if i == 2:\n",
    "                return H_prod[res, -half, 0]\n",
    "        if str(res).startswith(\"D\"):\n",
    "            if i == 1:\n",
    "                return H_prod[res, +half, 0]\n",
    "            if i == 2:\n",
    "                return H_prod[res, -half, 0]\n",
    "        if str(res).startswith(\"K\"):\n",
    "            if str(res) in {\"K(700)\", \"K(1430)\"}:\n",
    "                if i == 1:\n",
    "                    return H_prod[res, 0, -half]\n",
    "                if i == 2:\n",
    "                    return H_prod[res, 0, +half]\n",
    "            else:\n",
    "                if i == 1:\n",
    "                    return H_prod[res, 0, +half]\n",
    "                if i == 2:\n",
    "                    return H_prod[res, +1, +half]\n",
    "                if i == 3:\n",
    "                    return H_prod[res, -1, -half]\n",
    "                if i == 4:\n",
    "                    return H_prod[res, 0, -half]\n",
    "    if key.startswith(\"gamma\"):\n",
    "        res = stringify(key[5:])\n",
    "        return sp.Symbol(Rf\"\\gamma_{{{res}}}\")\n",
    "    if key.startswith(\"M\"):\n",
    "        res = stringify(key[1:])\n",
    "        return sp.Symbol(Rf\"m_{{{res}}}\")\n",
    "    if key.startswith(\"G\"):\n",
    "        res = stringify(key[1:])\n",
    "        return sp.Symbol(Rf\"\\Gamma_{{{res}}}\")\n",
    "    raise NotImplementedError(\n",
    "        f'Cannot convert key \"{key}\" in model parameter JSON file to SymPy symbol'\n",
    "    )\n",
    "\n",
    "\n",
    "with open(\"../data/modelparameters.json\") as stream:\n",
    "    data = json.load(stream)\n",
    "assert len(data[\"modelstudies\"]) == 18\n",
    "\n",
    "model_number = 0\n",
    "model_json = data[\"modelstudies\"][model_number][\"parameters\"]\n",
    "# https://github.com/redeboer/polarization-sensitivity/blob/34f5330/julia/notebooks/model0.jl#L301-L302\n",
    "model_json[\"ArK(892)1\"] = \"1.0 ± 0.0\"\n",
    "model_json[\"AiK(892)1\"] = \"0.0 ± 0.0\"\n",
    "\n",
    "parameter_defaults = to_symbol_definitions(model_json)\n",
    "parameter_defaults[R] = 5  # GeV^{-1} (length factor)"
   ]
  },
  {
   "cell_type": "code",
   "execution_count": null,
   "metadata": {
    "jupyter": {
     "source_hidden": true
    },
    "tags": [
     "hide-input"
    ]
   },
   "outputs": [],
   "source": [
    "prod_couplings = {\n",
    "    key: value\n",
    "    for key, value in parameter_defaults.items()\n",
    "    if isinstance(key, sp.Indexed) and key.base == H_prod\n",
    "}\n",
    "display_latex(prod_couplings)"
   ]
  },
  {
   "cell_type": "code",
   "execution_count": null,
   "metadata": {
    "jupyter": {
     "source_hidden": true
    },
    "tags": [
     "hide-input"
    ]
   },
   "outputs": [],
   "source": [
    "dec_couplings = {}\n",
    "for decay in decays:\n",
    "    i = stringify(decay.resonance)\n",
    "    if decay.resonance.name.startswith(\"K\"):\n",
    "        dec_couplings[H_dec[i, 0, 0]] = 1\n",
    "    if decay.resonance.name.startswith(\"L\"):\n",
    "        dec_couplings[H_dec[i, 0, half]] = 1\n",
    "        dec_couplings[H_dec[i, 0, -half]] = (\n",
    "            int(decay.resonance.parity)\n",
    "            * int(K.parity)\n",
    "            * int(p.parity)\n",
    "            * (-1) ** (decay.resonance.spin - K.spin - p.spin)\n",
    "        )\n",
    "    if decay.resonance.name.startswith(\"D\"):\n",
    "        dec_couplings[H_dec[i, half, 0]] = 1\n",
    "        dec_couplings[H_dec[i, -half, 0]] = (\n",
    "            int(decay.resonance.parity)\n",
    "            * int(p.parity)\n",
    "            * int(π.parity)\n",
    "            * (-1) ** (decay.resonance.spin - p.spin - π.spin)\n",
    "        )\n",
    "parameter_defaults.update(dec_couplings)\n",
    "display_latex(dec_couplings)"
   ]
  },
  {
   "cell_type": "code",
   "execution_count": null,
   "metadata": {
    "jupyter": {
     "source_hidden": true
    },
    "tags": []
   },
   "outputs": [],
   "source": [
    "couplings = set(dec_couplings) | set(prod_couplings)\n",
    "display_latex({k: v for k, v in parameter_defaults.items() if k not in couplings})"
   ]
  },
  {
   "cell_type": "markdown",
   "metadata": {},
   "source": [
    "### Intensity expression"
   ]
  },
  {
   "cell_type": "code",
   "execution_count": null,
   "metadata": {
    "jupyter": {
     "source_hidden": true
    },
    "tags": [
     "hide-input",
     "full-width"
    ]
   },
   "outputs": [],
   "source": [
    "intensity_expr = PoolSum(\n",
    "    sp.Abs(formulate_aligned_amplitude(ν, λ)) ** 2,\n",
    "    (λ, [-half, +half]),\n",
    "    (ν, [-half, +half]),\n",
    ")\n",
    "display(intensity_expr)"
   ]
  },
  {
   "cell_type": "code",
   "execution_count": null,
   "metadata": {
    "jupyter": {
     "source_hidden": true
    },
    "tags": [
     "hide-input",
     "full-width"
    ]
   },
   "outputs": [],
   "source": [
    "A = {1: A_K, 2: A_Λ, 3: A_Δ}\n",
    "amp_definitions = {}\n",
    "for subsystem in range(1, 4):\n",
    "    for Λc_heli, p_heli in itertools.product([-half, +half], [-half, +half]):\n",
    "        symbol = A[subsystem][Λc_heli, p_heli]\n",
    "        expr = formulate_subsystem_amplitude(subsystem, ν, λ)\n",
    "        amp_definitions[symbol] = expr.subs({ν: Λc_heli, λ: p_heli})\n",
    "display_latex(amp_definitions)"
   ]
  },
  {
   "cell_type": "markdown",
   "metadata": {
    "jupyter": {
     "source_hidden": true
    },
    "tags": []
   },
   "source": [
    "It takes about **one minute** to run this cell, given the resonances as defined in [`data/isobars.json`](../data/isobars.json)."
   ]
  },
  {
   "cell_type": "code",
   "execution_count": null,
   "metadata": {
    "jupyter": {
     "source_hidden": true
    },
    "tags": [
     "hide-cell"
    ]
   },
   "outputs": [],
   "source": [
    "def assert_all_symbols_defined(expr: sp.Expr) -> None:\n",
    "    remaining_symbols = expr.xreplace(parameter_defaults).free_symbols\n",
    "    assert remaining_symbols <= set(angles) | set(masses) | {σ1, σ2, σ3}\n",
    "\n",
    "\n",
    "subs_intensity_expr = intensity_expr.doit().xreplace(amp_definitions).doit()\n",
    "assert_all_symbols_defined(subs_intensity_expr)\n",
    "print(f\"Intensity expression has {sp.count_ops(subs_intensity_expr):,} operations\")"
   ]
  },
  {
   "cell_type": "markdown",
   "metadata": {},
   "source": [
    "## Polarization sensitivity"
   ]
  },
  {
   "cell_type": "code",
   "execution_count": null,
   "metadata": {
    "tags": []
   },
   "outputs": [],
   "source": [
    "def to_index(helicity):\n",
    "    \"\"\"Symbolic conversion of half-value helicities to Pauli matrix indices.\"\"\"\n",
    "    # https://github.com/ComPWA/compwa-org/pull/129#issuecomment-1096599896\n",
    "    return sp.Piecewise(\n",
    "        (1, sp.LessThan(helicity, 0)),\n",
    "        (0, True),\n",
    "    )\n",
    "\n",
    "\n",
    "ν_prime = sp.Symbol(R\"\\nu^{\\prime}\")\n",
    "polarization_expr = [\n",
    "    PoolSum(\n",
    "        formulate_aligned_amplitude(ν, λ).conjugate()\n",
    "        * pauli_matrix[to_index(ν), to_index(ν_prime)]\n",
    "        * formulate_aligned_amplitude(ν_prime, λ),\n",
    "        (λ, [-half, +half]),\n",
    "        (ν, [-half, +half]),\n",
    "        (ν_prime, [-half, +half]),\n",
    "    )\n",
    "    / intensity_expr\n",
    "    for pauli_matrix in map(msigma, [1, 2, 3])\n",
    "]"
   ]
  },
  {
   "cell_type": "markdown",
   "metadata": {
    "jupyter": {
     "source_hidden": true
    },
    "tags": []
   },
   "source": [
    "It takes about **three minutes** to run this cell, given the resonances as defined in [`data/isobars.json`](../data/isobars.json)."
   ]
  },
  {
   "cell_type": "code",
   "execution_count": null,
   "metadata": {
    "jupyter": {
     "source_hidden": true
    },
    "tags": [
     "hide-cell"
    ]
   },
   "outputs": [],
   "source": [
    "subs_polarization_expr = []\n",
    "for xyz, subscript in enumerate(\"₁₂₃\"):\n",
    "    expr = polarization_expr[xyz].doit().xreplace(amp_definitions).doit()\n",
    "    assert_all_symbols_defined(expr)\n",
    "    print(f\"Polarization expression α{subscript} has {sp.count_ops(expr):,} operations\")\n",
    "    subs_polarization_expr.append(expr)"
   ]
  },
  {
   "cell_type": "markdown",
   "metadata": {},
   "source": [
    "## Computations with TensorWaves\n"
   ]
  },
  {
   "cell_type": "markdown",
   "metadata": {},
   "source": [
    "### Phase space and helicity angles"
   ]
  },
  {
   "cell_type": "code",
   "execution_count": null,
   "metadata": {
    "jupyter": {
     "source_hidden": true
    },
    "tags": []
   },
   "outputs": [],
   "source": [
    "σ3_expr = m0**2 + m1**2 + m2**2 + m3**2 - σ1 - σ2\n",
    "compute_third_mandelstam = create_function(σ3_expr.subs(masses), backend=\"jax\")\n",
    "display_latex({σ3: σ3_expr})"
   ]
  },
  {
   "cell_type": "code",
   "execution_count": null,
   "metadata": {
    "jupyter": {
     "source_hidden": true
    },
    "tags": []
   },
   "outputs": [],
   "source": [
    "def kibble_function(σ1, σ2):\n",
    "    return Källén(\n",
    "        Källén(σ2, m2**2, m0**2),\n",
    "        Källén(σ3, m3**2, m0**2),\n",
    "        Källén(σ1, m1**2, m0**2),\n",
    "    )\n",
    "\n",
    "\n",
    "def is_within_phsp(σ1, σ2, non_phsp_value=sp.nan):\n",
    "    return sp.Piecewise(\n",
    "        (1, sp.LessThan(kibble_function(σ1, σ2), 0)),\n",
    "        (non_phsp_value, True),\n",
    "    )\n",
    "\n",
    "\n",
    "is_within_phsp(σ1, σ2)"
   ]
  },
  {
   "cell_type": "code",
   "execution_count": null,
   "metadata": {
    "tags": []
   },
   "outputs": [],
   "source": [
    "in_phsp_expr = is_within_phsp(σ1, σ2).subs(σ3, σ3_expr).subs(masses).doit()\n",
    "assert in_phsp_expr.free_symbols == {σ1, σ2}"
   ]
  },
  {
   "cell_type": "code",
   "execution_count": null,
   "metadata": {
    "tags": []
   },
   "outputs": [],
   "source": [
    "resolution = 200\n",
    "m0_val, m1_val, m2_val, m3_val = masses.values()\n",
    "σ1_min = (m2_val + m3_val) ** 2\n",
    "σ1_max = (m0_val - m1_val) ** 2\n",
    "σ2_min = (m1_val + m3_val) ** 2\n",
    "σ2_max = (m0_val - m2_val) ** 2\n",
    "x = np.linspace(σ1_min, σ1_max, num=resolution)\n",
    "y = np.linspace(σ2_min, σ2_max, num=resolution)\n",
    "X, Y = np.meshgrid(x, y)\n",
    "Z = compute_third_mandelstam.function(X, Y)\n",
    "σ_arrays = {\"sigma1\": X, \"sigma2\": Y, \"sigma3\": Z}\n",
    "\n",
    "in_phsp = create_function(in_phsp_expr, backend=\"numpy\")\n",
    "phsp = in_phsp(σ_arrays)"
   ]
  },
  {
   "cell_type": "code",
   "execution_count": null,
   "metadata": {
    "tags": []
   },
   "outputs": [],
   "source": [
    "kinematic_variables = {\n",
    "    symbol: expression.doit().subs(masses) for symbol, expression in angles.items()\n",
    "}\n",
    "kinematic_variables.update({s: s for s in [σ1, σ2, σ3]})  # include identity\n",
    "transformer = SympyDataTransformer.from_sympy(kinematic_variables, backend=\"jax\")\n",
    "kinematic_arrays = transformer(σ_arrays)"
   ]
  },
  {
   "cell_type": "markdown",
   "metadata": {},
   "source": [
    "### Definition of free parameters"
   ]
  },
  {
   "cell_type": "code",
   "execution_count": null,
   "metadata": {},
   "outputs": [],
   "source": [
    "free_parameters = {\n",
    "    symbol: value\n",
    "    for symbol, value in parameter_defaults.items()\n",
    "    if symbol.name.startswith(\"m_\")\n",
    "    or symbol.name.startswith(R\"\\Gamma_\")\n",
    "    or symbol in prod_couplings\n",
    "}\n",
    "fixed_parameters = {\n",
    "    symbol: value\n",
    "    for symbol, value in parameter_defaults.items()\n",
    "    if symbol not in free_parameters\n",
    "}\n",
    "fixed_parameters.update(masses)"
   ]
  },
  {
   "cell_type": "markdown",
   "metadata": {},
   "source": [
    "### Intensity distribution"
   ]
  },
  {
   "cell_type": "code",
   "execution_count": null,
   "metadata": {
    "tags": []
   },
   "outputs": [],
   "source": [
    "intensity_func = create_parametrized_function(\n",
    "    subs_intensity_expr.xreplace(fixed_parameters),\n",
    "    parameters=free_parameters,\n",
    "    backend=\"jax\",\n",
    ")"
   ]
  },
  {
   "cell_type": "code",
   "execution_count": null,
   "metadata": {
    "tags": [
     "remove-input"
    ]
   },
   "outputs": [],
   "source": [
    "%config InlineBackend.figure_formats = ['png']"
   ]
  },
  {
   "cell_type": "code",
   "execution_count": null,
   "metadata": {
    "jupyter": {
     "source_hidden": true
    },
    "tags": [
     "hide-input"
    ]
   },
   "outputs": [],
   "source": [
    "s1_label = R\"$\\sigma_1=m^2\\left(K\\pi\\right)$\"\n",
    "s2_label = R\"$\\sigma_2=m^2\\left(pK\\right)$\"\n",
    "s3_label = R\"$\\sigma_3=m^2\\left(p\\pi\\right)$\"\n",
    "\n",
    "fig, ax = plt.subplots(\n",
    "    figsize=(10, 8),\n",
    "    tight_layout=True,\n",
    ")\n",
    "ax.set_title(\"Intensity distribution\")\n",
    "ax.set_xlabel(s1_label)\n",
    "ax.set_ylabel(s2_label)\n",
    "\n",
    "mesh = ax.pcolormesh(\n",
    "    X,\n",
    "    Y,\n",
    "    phsp * intensity_func(kinematic_arrays),\n",
    "    norm=LogNorm(),\n",
    ")\n",
    "fig.colorbar(mesh, ax=ax)\n",
    "plt.show()"
   ]
  },
  {
   "cell_type": "code",
   "execution_count": null,
   "metadata": {
    "tags": [
     "remove-input"
    ]
   },
   "outputs": [],
   "source": [
    "%config InlineBackend.figure_formats = ['svg']"
   ]
  },
  {
   "cell_type": "code",
   "execution_count": null,
   "metadata": {
    "jupyter": {
     "source_hidden": true
    },
    "tags": [
     "hide-input"
    ]
   },
   "outputs": [],
   "source": [
    "def compute_sub_func(\n",
    "    func: ParametrizedBackendFunction, input_data, non_zero_couplings: list[str]\n",
    ") -> None:\n",
    "    old_parameters = dict(func.parameters)\n",
    "    pattern = rf\"\\\\mathcal{{H}}.*\\[(?!{'|'.join(non_zero_couplings)})\"\n",
    "    set_parameter_to_zero(func, pattern)\n",
    "    array = func(input_data)\n",
    "    func.update_parameters(old_parameters)\n",
    "    return array\n",
    "\n",
    "\n",
    "def set_parameter_to_zero(\n",
    "    func: ParametrizedBackendFunction, search_term: Pattern\n",
    ") -> None:\n",
    "    new_parameters = dict(func.parameters)\n",
    "    for par_name in func.parameters:\n",
    "        if re.match(search_term, par_name) is not None:\n",
    "            new_parameters[par_name] = 0\n",
    "    func.update_parameters(new_parameters)\n",
    "\n",
    "\n",
    "def set_ylim_to_zero(ax):\n",
    "    _, y_max = ax.get_ylim()\n",
    "    ax.set_ylim(0, y_max)\n",
    "\n",
    "\n",
    "fig, (ax1, ax2) = plt.subplots(\n",
    "    ncols=2,\n",
    "    figsize=(12, 5),\n",
    "    tight_layout=True,\n",
    ")\n",
    "ax1.set_xlabel(s1_label)\n",
    "ax2.set_xlabel(s2_label)\n",
    "\n",
    "subsystem_identifiers = [\"K\", \"L\", \"D\"]\n",
    "subsystem_labels = [\"K^{**}\", R\"\\Lambda^{**}\", R\"\\Delta^{**}\"]\n",
    "intensity_array = intensity_func(kinematic_arrays)\n",
    "ax1.fill(x, np.nansum(intensity_array, axis=0), alpha=0.3)\n",
    "ax2.fill(y, np.nansum(intensity_array, axis=1), alpha=0.3)\n",
    "\n",
    "original_parameters = dict(intensity_func.parameters)\n",
    "for label, identifier in zip(subsystem_labels, subsystem_identifiers):\n",
    "    label = f\"${label}$\"\n",
    "    intensity_array = compute_sub_func(intensity_func, kinematic_arrays, [identifier])\n",
    "    ax1.plot(x, np.nansum(intensity_array, axis=0), label=label)\n",
    "    ax2.plot(y, np.nansum(intensity_array, axis=1), label=label)\n",
    "    intensity_func.update_parameters(original_parameters)\n",
    "set_ylim_to_zero(ax1)\n",
    "set_ylim_to_zero(ax2)\n",
    "ax1.legend()\n",
    "plt.show()"
   ]
  },
  {
   "cell_type": "markdown",
   "metadata": {},
   "source": [
    "### Fit fractions"
   ]
  },
  {
   "cell_type": "code",
   "execution_count": null,
   "metadata": {
    "tags": []
   },
   "outputs": [],
   "source": [
    "def sub_intensity(data, non_zero_couplings: list[str]):\n",
    "    intensity_array = compute_sub_func(intensity_func, data, non_zero_couplings)\n",
    "    return integrate_intensity(intensity_array)\n",
    "\n",
    "\n",
    "def integrate_intensity(intensities):\n",
    "    return np.nansum(intensities) / len(intensities)\n",
    "\n",
    "\n",
    "I_tot = integrate_intensity(intensity_func(kinematic_arrays))\n",
    "np.testing.assert_allclose(\n",
    "    I_tot,\n",
    "    sub_intensity(kinematic_arrays, [\"K\", \"L\", \"D\"]),\n",
    ")"
   ]
  },
  {
   "cell_type": "code",
   "execution_count": null,
   "metadata": {
    "tags": []
   },
   "outputs": [],
   "source": [
    "def interference_intensity(\n",
    "    data,\n",
    "    chain1: list[str],\n",
    "    chain2: list[str],\n",
    ") -> float:\n",
    "    I_interference = sub_intensity(data, chain1 + chain2)\n",
    "    I_chain1 = sub_intensity(data, chain1)\n",
    "    I_chain2 = sub_intensity(data, chain2)\n",
    "    return I_interference - I_chain1 - I_chain2\n",
    "\n",
    "\n",
    "I_K = sub_intensity(kinematic_arrays, non_zero_couplings=[\"K\"])\n",
    "I_Λ = sub_intensity(kinematic_arrays, non_zero_couplings=[\"L\"])\n",
    "I_Δ = sub_intensity(kinematic_arrays, non_zero_couplings=[\"D\"])\n",
    "I_ΛΔ = interference_intensity(kinematic_arrays, [\"L\"], [\"D\"])\n",
    "I_KΔ = interference_intensity(kinematic_arrays, [\"K\"], [\"D\"])\n",
    "I_KΛ = interference_intensity(kinematic_arrays, [\"K\"], [\"L\"])\n",
    "np.testing.assert_allclose(I_tot, I_K + I_Λ + I_Δ + I_ΛΔ + I_KΔ + I_KΛ)"
   ]
  },
  {
   "cell_type": "code",
   "execution_count": null,
   "metadata": {
    "jupyter": {
     "source_hidden": true
    },
    "tags": [
     "hide-input"
    ]
   },
   "outputs": [],
   "source": [
    "def render_resonance_row(resonance_identifier: str):\n",
    "    filtered_resonances = [\n",
    "        decay.resonance\n",
    "        for decay in decays\n",
    "        if resonance_identifier in decay.resonance.name\n",
    "    ]\n",
    "    rows = []\n",
    "    for res in filtered_resonances:\n",
    "        pattern = res.latex.replace(\"(\", r\"\\(\").replace(\")\", r\"\\)\")\n",
    "        I_sub = sub_intensity(kinematic_arrays, [pattern])\n",
    "        row = (\n",
    "            Rf\"\\color{{gray}}{{{res.latex}}}\",\n",
    "            Rf\"\\color{{gray}}{{{I_sub/I_tot:.3f}}}\",\n",
    "        )\n",
    "        rows.append(row)\n",
    "    if len(rows) > 1:\n",
    "        return rows\n",
    "    return []\n",
    "\n",
    "\n",
    "rows = [\n",
    "    R\"\\hline\",\n",
    "    (\"K^{**}\", f\"{I_K/I_tot:.3f}\"),\n",
    "    *render_resonance_row(\"K\"),\n",
    "    (R\"\\Lambda^{**}\", f\"{I_Λ/I_tot:.3f}\"),\n",
    "    *render_resonance_row(\"L\"),\n",
    "    (R\"\\Delta^{**}\", f\"{I_Δ/I_tot:.3f}\"),\n",
    "    *render_resonance_row(\"D\"),\n",
    "    (R\"\\Delta/\\Lambda\", f\"{I_ΛΔ/I_tot:.3f}\"),\n",
    "    (R\"K/\\Delta\", f\"{I_KΔ/I_tot:.3f}\"),\n",
    "    (R\"K/\\Lambda\", f\"{I_KΛ/I_tot:.3f}\"),\n",
    "    R\"\\hline\",\n",
    "    (\n",
    "        R\"\\mathrm{total}\",\n",
    "        f\"{(I_K + I_Λ + I_Δ + I_ΛΔ + I_KΔ + I_KΛ) /I_tot:.3f}\",\n",
    "    ),\n",
    "]\n",
    "\n",
    "latex = R\"\\begin{array}{crr}\" + \"\\n\"\n",
    "latex += R\"& I_\\mathrm{sub}\\,/\\,I \\\\\" + \"\\n\"\n",
    "for row in rows:\n",
    "    if row == R\"\\hline\":\n",
    "        latex += R\"\\hline\"\n",
    "    else:\n",
    "        latex += \"  \" + \" & \".join(row) + R\" \\\\\" + \"\\n\"\n",
    "latex += R\"\\end{array}\"\n",
    "Math(latex)"
   ]
  },
  {
   "cell_type": "markdown",
   "metadata": {},
   "source": [
    "### Polarization distributions"
   ]
  },
  {
   "cell_type": "code",
   "execution_count": null,
   "metadata": {
    "tags": []
   },
   "outputs": [],
   "source": [
    "polarization_func = [\n",
    "    create_parametrized_function(\n",
    "        subs_polarization_expr[xyz].xreplace(fixed_parameters),\n",
    "        parameters=free_parameters,\n",
    "        backend=\"jax\",\n",
    "    )\n",
    "    for xyz in range(3)\n",
    "]"
   ]
  },
  {
   "cell_type": "code",
   "execution_count": null,
   "metadata": {
    "jupyter": {
     "source_hidden": true
    },
    "tags": [
     "hide-input"
    ]
   },
   "outputs": [],
   "source": [
    "def render_mean(array, plus=True):\n",
    "    array = array.real\n",
    "    mean = f\"{np.nanmean(array):.3f}\"\n",
    "    std = f\"{np.nanstd(array):.3f}\"\n",
    "    if plus and float(mean) > 0:\n",
    "        mean = f\"+{mean}\"\n",
    "    return Rf\"{mean} \\pm {std}\"\n",
    "\n",
    "\n",
    "latex = R\"\\begin{array}{cccc}\" + \"\\n\"\n",
    "latex += R\"& \\bar{|\\alpha|} & \\bar\\alpha_x & \\bar\\alpha_y & \\bar\\alpha_z \\\\\" + \"\\n\"\n",
    "for label, identifier in zip(subsystem_labels, subsystem_identifiers):\n",
    "    latex += f\"  {label} & \"\n",
    "    x, y, z = (\n",
    "        compute_sub_func(polarization_func[xyz], kinematic_arrays, [identifier])\n",
    "        for xyz in range(3)\n",
    "    )\n",
    "    latex += render_mean(np.sqrt(x**2 + y**2 + z**2), plus=False) + \" & \"\n",
    "    latex += \" & \".join(map(render_mean, [x, y, z]))\n",
    "    latex += R\" \\\\\" + \"\\n\"\n",
    "latex += R\"\\end{array}\"\n",
    "Math(latex)"
   ]
  },
  {
   "cell_type": "code",
   "execution_count": null,
   "metadata": {
    "tags": [
     "remove-input"
    ]
   },
   "outputs": [],
   "source": [
    "%config InlineBackend.figure_formats = ['png']\n",
    "%matplotlib widget"
   ]
  },
  {
   "cell_type": "markdown",
   "metadata": {},
   "source": [
    "#### Slider definitions"
   ]
  },
  {
   "cell_type": "code",
   "execution_count": null,
   "metadata": {
    "jupyter": {
     "source_hidden": true
    },
    "tags": [
     "scroll-input",
     "hide-cell",
     "remove-output"
    ]
   },
   "outputs": [],
   "source": [
    "# Slider construction\n",
    "sliders = {}\n",
    "for symbol, value in free_parameters.items():\n",
    "    if symbol.name.startswith(R\"\\mathcal{H}\"):\n",
    "        real_slider = create_slider(symbol)\n",
    "        imag_slider = create_slider(symbol)\n",
    "        sliders[f\"{symbol.name}_real\"] = real_slider\n",
    "        sliders[f\"{symbol.name}_imag\"] = imag_slider\n",
    "        real_slider.description = R\"\\(\\mathrm{Re}\\)\"\n",
    "        imag_slider.description = R\"\\(\\mathrm{Im}\\)\"\n",
    "    else:\n",
    "        slider = create_slider(symbol)\n",
    "        sliders[symbol.name] = slider\n",
    "\n",
    "# Slider ranges\n",
    "σ3_max = (m0_val - m3_val) ** 2\n",
    "σ3_min = (m1_val + m2_val) ** 2\n",
    "\n",
    "for name, slider in sliders.items():\n",
    "    slider.continuous_update = False\n",
    "    slider.step = 0.01\n",
    "    if name.startswith(\"m_\"):\n",
    "        if \"K\" in name:\n",
    "            min_, max_ = np.sqrt(σ1_min), np.sqrt(σ1_max)\n",
    "        elif \"L\" in name:\n",
    "            min_, max_ = np.sqrt(σ2_min), np.sqrt(σ2_max)\n",
    "        elif \"D\" in name:\n",
    "            min_, max_ = np.sqrt(σ3_min), np.sqrt(σ3_max)\n",
    "        diff = max_ - min_\n",
    "        slider.min = min_ - 0.2 * diff\n",
    "        slider.max = max_ + 0.2 * diff\n",
    "    elif name.startswith(R\"\\Gamma_\"):\n",
    "        slider.min = 0\n",
    "        slider.max = max(0.7, 2 * slider.value)\n",
    "    elif name.startswith(R\"\\mathcal{H}\"):\n",
    "        slider.min = -15\n",
    "        slider.max = +15\n",
    "\n",
    "\n",
    "# Slider values\n",
    "def reset_sliders(click_event):\n",
    "    for symbol, value in free_parameters.items():\n",
    "        if symbol.name.startswith(R\"\\mathcal{H}\"):\n",
    "            set_slider(sliders[symbol.name + \"_real\"], value)\n",
    "            set_slider(sliders[symbol.name + \"_imag\"], value)\n",
    "        else:\n",
    "            set_slider(sliders[symbol.name], value)\n",
    "\n",
    "\n",
    "def set_coupling_sliders_to_zero(filter_pattern):\n",
    "    if isinstance(filter_pattern, Combobox):\n",
    "        filter_pattern = filter_pattern.value\n",
    "    for name, slider in sliders.items():\n",
    "        if not name.startswith(R\"\\mathcal{H}\"):\n",
    "            continue\n",
    "        if filter_pattern not in name:\n",
    "            continue\n",
    "        set_slider(slider, 0)\n",
    "\n",
    "\n",
    "def set_slider(slider, value):\n",
    "    if slider.description == R\"\\(\\mathrm{Im}\\)\":\n",
    "        value = complex(value).imag\n",
    "    else:\n",
    "        value = complex(value).real\n",
    "    n_decimals = -round(np.log10(slider.step))\n",
    "    if slider.value != round(value, n_decimals):  # widget performance\n",
    "        slider.value = value\n",
    "\n",
    "\n",
    "reset_sliders(click_event=None)\n",
    "reset_button = Button(description=\"Reset slider values\")\n",
    "reset_button.on_click(reset_sliders)\n",
    "\n",
    "all_resonances = [decay.resonance for decay in decays]\n",
    "filter_button = Combobox(\n",
    "    placeholder=\"Enter coupling filter pattern\",\n",
    "    options=[p.latex for p in all_resonances],\n",
    "    description=R\"$\\mathcal{H}=0$\",\n",
    ")\n",
    "filter_button.on_submit(set_coupling_sliders_to_zero)\n",
    "\n",
    "# UI design\n",
    "latex = {symbol.name: sp.latex(symbol) for symbol in free_parameters}\n",
    "mass_sliders = [sliders[n] for n in sliders if n.startswith(\"m_\")]\n",
    "width_sliders = [sliders[n] for n in sliders if n.startswith(R\"\\Gamma_\")]\n",
    "coupling_sliders = {}\n",
    "for decay in decays:\n",
    "    res = decay.resonance\n",
    "    coupling_sliders[res.name] = (\n",
    "        [s for n, s in sliders.items() if n.endswith(\"_real\") and res.latex in n],\n",
    "        [s for n, s in sliders.items() if n.endswith(\"_imag\") and res.latex in n],\n",
    "        [\n",
    "            HTMLMath(f\"${latex[n[:-5]]}$\")\n",
    "            for n in sliders\n",
    "            if n.endswith(\"_real\") and res.latex in n\n",
    "        ],\n",
    "    )\n",
    "slider_tabs = Tab(\n",
    "    children=[\n",
    "        Tab(\n",
    "            children=[\n",
    "                VBox([HBox(s) for s in zip(*pair)])\n",
    "                for pair in coupling_sliders.values()\n",
    "            ],\n",
    "            _titles={i: label for i, label in enumerate(coupling_sliders)},\n",
    "        ),\n",
    "        VBox([HBox([r, i]) for r, i in zip(mass_sliders, width_sliders)]),\n",
    "    ],\n",
    "    _titles=dict(enumerate([\"Couplings\", \"Masses and widths\"])),\n",
    ")\n",
    "ui = VBox([slider_tabs, HBox([reset_button, filter_button])])"
   ]
  },
  {
   "cell_type": "markdown",
   "metadata": {
    "jupyter": {
     "source_hidden": true
    },
    "tags": []
   },
   "source": [
    "#### Interactive plot"
   ]
  },
  {
   "cell_type": "code",
   "execution_count": null,
   "metadata": {
    "jupyter": {
     "source_hidden": true
    },
    "tags": [
     "scroll-input",
     "hide-cell",
     "remove-output"
    ]
   },
   "outputs": [],
   "source": [
    "nrows = 4\n",
    "ncols = 5\n",
    "scale = 2.6\n",
    "aspect_ratio = 1.15\n",
    "fig, axes = plt.subplots(\n",
    "    figsize=scale * np.array([ncols, aspect_ratio * nrows]),\n",
    "    ncols=ncols,\n",
    "    nrows=nrows,\n",
    "    sharex=True,\n",
    "    sharey=True,\n",
    "    gridspec_kw={\"width_ratios\": (ncols - 1) * [1] + [1.24]},\n",
    "    tight_layout=True,\n",
    ")\n",
    "fig.canvas.toolbar_visible = False\n",
    "fig.canvas.header_visible = False\n",
    "fig.canvas.footer_visible = False\n",
    "\n",
    "for subsystem in range(nrows):\n",
    "    for i in range(ncols):\n",
    "        ax = axes[subsystem, i]\n",
    "        if i == 0:\n",
    "            alpha_str = R\"I_\\mathrm{tot}\"\n",
    "        elif i == 1:\n",
    "            alpha_str = R\"|\\alpha|\"\n",
    "        else:\n",
    "            xyz = i - 2\n",
    "            alpha_str = Rf\"\\alpha_{'xyz'[xyz]}\"\n",
    "        title = alpha_str\n",
    "        if subsystem > 0:\n",
    "            label = subsystem_labels[subsystem - 1]\n",
    "            title = Rf\"{title}\\left({label}\\right)\"\n",
    "        ax.set_title(f\"${title}$\")\n",
    "        if ax is axes[-1, i]:\n",
    "            ax.set_xlabel(s1_label)\n",
    "        if i == 0:\n",
    "            ax.set_ylabel(s2_label)\n",
    "\n",
    "color_mesh = np.full([nrows, ncols], None)\n",
    "\n",
    "\n",
    "def plot3(**kwargs):\n",
    "    global color_mesh\n",
    "    kwargs = to_complex_kwargs(**kwargs)\n",
    "    for subsystem in range(nrows):\n",
    "        # alpha_xyz distributions\n",
    "        alpha_xyz_arrays = []\n",
    "        for i in range(2, ncols):\n",
    "            xyz = i - 2\n",
    "            if subsystem == 0:\n",
    "                z_values = polarization_func[xyz](kinematic_arrays)\n",
    "            else:\n",
    "                identifier = subsystem_identifiers[subsystem - 1]\n",
    "                z_values = compute_sub_func(\n",
    "                    polarization_func[xyz], kinematic_arrays, identifier\n",
    "                )\n",
    "            z_values = np.real(z_values)\n",
    "            alpha_xyz_arrays.append(z_values)\n",
    "            ax = axes[subsystem, i]\n",
    "            if color_mesh[subsystem, i] is None:\n",
    "                color_mesh[subsystem, i] = ax.pcolormesh(\n",
    "                    X, Y, z_values, cmap=cm.coolwarm\n",
    "                )\n",
    "                if ax is axes[subsystem, -1]:\n",
    "                    fig.colorbar(color_mesh[subsystem, i], ax=ax)\n",
    "            else:\n",
    "                color_mesh[subsystem, i].set_array(z_values)\n",
    "            color_mesh[subsystem, i].set_clim(vmin=-1, vmax=+1)\n",
    "        # absolute value of alpha_xyz vector\n",
    "        i = 1\n",
    "        alpha_abs = np.sqrt(np.sum(np.array(alpha_xyz_arrays) ** 2, axis=0))\n",
    "        ax = axes[subsystem, i]\n",
    "        if color_mesh[subsystem, i] is None:\n",
    "            color_mesh[subsystem, i] = ax.pcolormesh(X, Y, alpha_abs, cmap=cm.coolwarm)\n",
    "        else:\n",
    "            color_mesh[subsystem, i].set_array(alpha_abs)\n",
    "        color_mesh[subsystem, i].set_clim(vmin=-1, vmax=+1)\n",
    "        # total intensity\n",
    "        i = 0\n",
    "        if subsystem == 0:\n",
    "            z_values = intensity_func(kinematic_arrays)\n",
    "        else:\n",
    "            identifier = subsystem_identifiers[subsystem - 1]\n",
    "            z_values = compute_sub_func(intensity_func, kinematic_arrays, identifier)\n",
    "        ax = axes[subsystem, i]\n",
    "        if color_mesh[subsystem, i] is None:\n",
    "            color_mesh[subsystem, i] = ax.pcolormesh(X, Y, z_values, norm=LogNorm())\n",
    "        else:\n",
    "            color_mesh[subsystem, i].set_array(z_values)\n",
    "    fig.canvas.draw()\n",
    "\n",
    "\n",
    "def to_complex_kwargs(**kwargs):\n",
    "    complex_valued_kwargs = {}\n",
    "    for key, value in dict(kwargs).items():\n",
    "        if key.endswith(\"real\"):\n",
    "            symbol_name = key[:-5]\n",
    "            imag = kwargs[f\"{symbol_name}_imag\"]\n",
    "            complex_valued_kwargs[symbol_name] = complex(value, imag)\n",
    "        elif key.endswith(\"imag\"):\n",
    "            continue\n",
    "        else:\n",
    "            complex_valued_kwargs[key] = value\n",
    "    return complex_valued_kwargs\n",
    "\n",
    "\n",
    "output = interactive_output(plot3, controls=sliders)\n",
    "display(ui, output)"
   ]
  }
 ],
 "metadata": {
  "kernelspec": {
   "display_name": "Python 3 (ipykernel)",
   "language": "python",
   "name": "python3"
  },
  "language_info": {
   "codemirror_mode": {
    "name": "ipython",
    "version": 3
   },
   "file_extension": ".py",
   "mimetype": "text/x-python",
   "name": "python",
   "nbconvert_exporter": "python",
   "pygments_lexer": "ipython3",
   "version": "3.8.13"
  }
 },
 "nbformat": 4,
 "nbformat_minor": 4
}
