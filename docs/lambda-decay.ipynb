{
 "cells": [
  {
   "cell_type": "markdown",
   "metadata": {},
   "source": [
    "# Polarization sensitivity in $\\Lambda_c \\to p \\pi K$"
   ]
  },
  {
   "cell_type": "markdown",
   "metadata": {},
   "source": [
    "_This notebook originates from [ComPWA/compwa-org#129](https://github.com/ComPWA/compwa-org/pull/129) [[TR-018](https://compwa-org--129.org.readthedocs.build/report/018.html)], [`625e50c`](https://github.com/ComPWA/compwa-org/pull/129/commits/94ceb51)._"
   ]
  },
  {
   "cell_type": "code",
   "execution_count": null,
   "metadata": {
    "jupyter": {
     "source_hidden": true
    },
    "tags": [
     "hide-cell"
    ]
   },
   "outputs": [],
   "source": [
    "from __future__ import annotations\n",
    "\n",
    "import itertools\n",
    "import json\n",
    "from functools import partial\n",
    "\n",
    "import matplotlib.pyplot as plt\n",
    "import numpy as np\n",
    "import qrules\n",
    "import sympy as sp\n",
    "from ampform.sympy import PoolSum, UnevaluatedExpression\n",
    "from IPython.display import HTML, Math, display\n",
    "from ipywidgets import Button, Combobox, HBox, HTMLMath, Tab, VBox, interactive_output\n",
    "from matplotlib import cm\n",
    "from matplotlib.colors import LogNorm\n",
    "from qrules.particle import Particle\n",
    "from symplot import create_slider\n",
    "from sympy.core.symbol import Str\n",
    "from sympy.physics.matrices import msigma\n",
    "from sympy.physics.quantum.spin import Rotation as Wigner\n",
    "from tensorwaves.data.transform import SympyDataTransformer\n",
    "from tensorwaves.function.sympy import create_function, create_parametrized_function\n",
    "\n",
    "from polarization.decay import IsobarNode, Resonance\n",
    "from polarization.dynamics import (\n",
    "    BlattWeisskopf,\n",
    "    EnergyDependentWidth,\n",
    "    Källén,\n",
    "    P,\n",
    "    Q,\n",
    "    RelativisticBreitWigner,\n",
    ")\n",
    "from polarization.io import as_latex, from_qrules, load_resonance_definitions\n",
    "from polarization.spin import (\n",
    "    create_spin_range,\n",
    "    filter_parity_violating_ls,\n",
    "    generate_ls_couplings,\n",
    ")\n",
    "\n",
    "PDG = qrules.load_pdg()\n",
    "\n",
    "\n",
    "def display_latex(obj) -> None:\n",
    "    latex = as_latex(obj)\n",
    "    display(Math(latex))\n",
    "\n",
    "\n",
    "def display_doit(\n",
    "    expr: UnevaluatedExpression, deep=False, terms_per_line: int | None = None\n",
    ") -> None:\n",
    "    if terms_per_line is None:\n",
    "        latex = as_latex({expr: expr.doit(deep=deep)})\n",
    "    else:\n",
    "        latex = sp.multiline_latex(\n",
    "            lhs=expr,\n",
    "            rhs=expr.doit(deep=deep),\n",
    "            terms_per_line=terms_per_line,\n",
    "            environment=\"eqnarray\",\n",
    "        )\n",
    "    display(Math(latex))\n",
    "\n",
    "\n",
    "# hack for moving Indexed indices below superscript of the base\n",
    "def _print_Indexed_latex(self, printer, *args):\n",
    "    base = printer._print(self.base)\n",
    "    indices = \", \".join(map(printer._print, self.indices))\n",
    "    return f\"{base}_{{{indices}}}\"\n",
    "\n",
    "\n",
    "sp.Indexed._latex = _print_Indexed_latex"
   ]
  },
  {
   "cell_type": "markdown",
   "metadata": {
    "tags": []
   },
   "source": [
    "## Amplitude model"
   ]
  },
  {
   "cell_type": "markdown",
   "metadata": {},
   "source": [
    "### Resonances and $LS$-scheme"
   ]
  },
  {
   "cell_type": "markdown",
   "metadata": {},
   "source": [
    "Particle definitions for $\\Lambda_c^+$ and $p, \\pi^+, K^-$:"
   ]
  },
  {
   "cell_type": "code",
   "execution_count": null,
   "metadata": {
    "tags": []
   },
   "outputs": [],
   "source": [
    "Λc = from_qrules(PDG[\"Lambda(c)+\"])\n",
    "p = from_qrules(PDG[\"p\"])\n",
    "K = from_qrules(PDG[\"K-\"])\n",
    "π = from_qrules(PDG[\"pi+\"])"
   ]
  },
  {
   "cell_type": "markdown",
   "metadata": {},
   "source": [
    "Resonance definitions as defined in [`data/isobars.json`](../data/isobars.json):"
   ]
  },
  {
   "cell_type": "code",
   "execution_count": null,
   "metadata": {},
   "outputs": [],
   "source": [
    "resonances = load_resonance_definitions(\"../data/isobars.json\")\n",
    "len(resonances)"
   ]
  },
  {
   "cell_type": "code",
   "execution_count": null,
   "metadata": {},
   "outputs": [],
   "source": [
    "def create_isobar(resonance: Resonance) -> IsobarNode:\n",
    "    if resonance.name.startswith(\"K\"):\n",
    "        child1, child2, sibling = π, K, p\n",
    "    elif resonance.name.startswith(\"L\"):\n",
    "        child1, child2, sibling = p, K, π\n",
    "    elif resonance.name.startswith(\"D\"):\n",
    "        child1, child2, sibling = p, π, K\n",
    "    else:\n",
    "        raise NotImplementedError\n",
    "    return IsobarNode(\n",
    "        parent=Λc,\n",
    "        child1=sibling,\n",
    "        child2=IsobarNode(\n",
    "            parent=resonance,\n",
    "            child1=child1,\n",
    "            child2=child2,\n",
    "            interaction=generate_L_min(resonance, child1, child2),\n",
    "        ),\n",
    "        interaction=generate_L_min(Λc, sibling, resonance),\n",
    "    )\n",
    "\n",
    "\n",
    "def generate_L_min(parent: Resonance, child1: Resonance, child2: Resonance) -> int:\n",
    "    ls = generate_ls_couplings(parent.spin, child1.spin, child2.spin)\n",
    "    ls = filter_parity_violating_ls(ls, parent.parity, child1.parity, child2.parity)\n",
    "    return min(ls)\n",
    "\n",
    "\n",
    "assert len(resonances) == 12\n",
    "isobars = [create_isobar(res) for res in resonances.values()]\n",
    "Math(as_latex(isobars, with_jp=True))"
   ]
  },
  {
   "cell_type": "code",
   "execution_count": null,
   "metadata": {
    "tags": [
     "hide-input"
    ]
   },
   "outputs": [],
   "source": [
    "def create_html_table_row(*items, typ=\"td\"):\n",
    "    items = map(lambda i: f\"<{typ}>{i}</{typ}>\", items)\n",
    "    return \"<tr>\" + \"\".join(items) + \"</tr>\\n\"\n",
    "\n",
    "\n",
    "column_names = [\n",
    "    \"resonance\",\n",
    "    R\"\\(j^P\\)\",\n",
    "    R\"\\(m\\) (MeV)\",\n",
    "    R\"\\(\\Gamma_0\\) (MeV)\",\n",
    "    R\"\\(l_R\\)\",\n",
    "    R\"\\(l_{\\Lambda_c}^\\mathrm{min}\\)\",\n",
    "]\n",
    "src = \"<table>\\n\"\n",
    "src += create_html_table_row(*column_names, typ=\"th\")\n",
    "for production in isobars:\n",
    "    decay = production.child2\n",
    "    assert isinstance(decay, IsobarNode)\n",
    "    assert production.interaction is not None\n",
    "    assert decay.interaction is not None\n",
    "    resonance = decay.parent\n",
    "    child1 = as_latex(decay.child1)\n",
    "    child2 = as_latex(decay.child2)\n",
    "    src += create_html_table_row(\n",
    "        Rf\"\\({resonance.latex} \\to\" Rf\" {child1} {child2}\\)\",\n",
    "        as_latex(resonance, only_jp=True),\n",
    "        resonance.mass,\n",
    "        resonance.width,\n",
    "        production.interaction.L,\n",
    "        decay.interaction.L,\n",
    "    )\n",
    "src += \"</table>\\n\"\n",
    "HTML(src)"
   ]
  },
  {
   "cell_type": "markdown",
   "metadata": {},
   "source": [
    "### Aligned amplitude"
   ]
  },
  {
   "cell_type": "code",
   "execution_count": null,
   "metadata": {
    "tags": [
     "full-width",
     "hide-input"
    ]
   },
   "outputs": [],
   "source": [
    "A_K = sp.IndexedBase(R\"A^K\")\n",
    "A_Λ = sp.IndexedBase(R\"A^{\\Lambda}\")\n",
    "A_Δ = sp.IndexedBase(R\"A^{\\Delta}\")\n",
    "\n",
    "half = sp.S.Half\n",
    "\n",
    "ζ_0_11 = sp.Symbol(R\"\\zeta^0_{1(1)}\", real=True)\n",
    "ζ_0_21 = sp.Symbol(R\"\\zeta^0_{2(1)}\", real=True)\n",
    "ζ_0_31 = sp.Symbol(R\"\\zeta^0_{3(1)}\", real=True)\n",
    "ζ_1_11 = sp.Symbol(R\"\\zeta^1_{1(1)}\", real=True)\n",
    "ζ_1_21 = sp.Symbol(R\"\\zeta^1_{2(1)}\", real=True)\n",
    "ζ_1_31 = sp.Symbol(R\"\\zeta^1_{3(1)}\", real=True)\n",
    "\n",
    "\n",
    "def formulate_aligned_amplitude(λ_Λc, λ_p):\n",
    "    _ν = sp.Symbol(R\"\\nu^{\\prime}\", rational=True)\n",
    "    _λ = sp.Symbol(R\"\\lambda^{\\prime}\", rational=True)\n",
    "    return PoolSum(\n",
    "        A_K[_ν, _λ] * Wigner.d(half, λ_Λc, _ν, ζ_0_11) * Wigner.d(half, _λ, λ_p, ζ_1_11)\n",
    "        + A_Λ[_ν, _λ]\n",
    "        * Wigner.d(half, λ_Λc, _ν, ζ_0_21)\n",
    "        * Wigner.d(half, _λ, λ_p, ζ_1_21)\n",
    "        + A_Δ[_ν, _λ]\n",
    "        * Wigner.d(half, λ_Λc, _ν, ζ_0_31)\n",
    "        * Wigner.d(half, _λ, λ_p, ζ_1_31),\n",
    "        (_λ, [-half, +half]),\n",
    "        (_ν, [-half, +half]),\n",
    "    )\n",
    "\n",
    "\n",
    "ν = sp.Symbol(\"nu\")\n",
    "λ = sp.Symbol(\"lambda\")\n",
    "formulate_aligned_amplitude(λ_Λc=ν, λ_p=λ)"
   ]
  },
  {
   "cell_type": "markdown",
   "metadata": {},
   "source": [
    "### Dynamics"
   ]
  },
  {
   "cell_type": "code",
   "execution_count": null,
   "metadata": {
    "tags": [
     "hide-input"
    ]
   },
   "outputs": [],
   "source": [
    "z = sp.Symbol(\"z\", positive=True)\n",
    "L = sp.Symbol(\"L\", integer=True, nonnegative=True)\n",
    "display_doit(BlattWeisskopf(z, L))"
   ]
  },
  {
   "cell_type": "code",
   "execution_count": null,
   "metadata": {
    "tags": [
     "hide-input"
    ]
   },
   "outputs": [],
   "source": [
    "x, y, z = sp.symbols(\"x:z\")\n",
    "display_doit(Källén(x, y, z))"
   ]
  },
  {
   "cell_type": "code",
   "execution_count": null,
   "metadata": {
    "tags": [
     "hide-input"
    ]
   },
   "outputs": [],
   "source": [
    "s, m0, mi, mj, mk = sp.symbols(\"s m0 m_i:k\", nonnegative=True)\n",
    "display_doit(P(s, mi, mj))\n",
    "display_doit(Q(s, m0, mk))"
   ]
  },
  {
   "cell_type": "code",
   "execution_count": null,
   "metadata": {
    "tags": [
     "hide-input"
    ]
   },
   "outputs": [],
   "source": [
    "R = sp.Symbol(\"R\")\n",
    "parameter_defaults = {\n",
    "    R: 5,  # GeV^{-1} (length factor)\n",
    "}\n",
    "l_R = sp.Symbol(\"l_R\", integer=True, positive=True)\n",
    "m, Γ0, m1, m2 = sp.symbols(\"m Γ0 m1 m2\", nonnegative=True)\n",
    "display_doit(EnergyDependentWidth(s, m, Γ0, m1, m2, l_R, R))"
   ]
  },
  {
   "cell_type": "code",
   "execution_count": null,
   "metadata": {
    "tags": [
     "hide-input"
    ]
   },
   "outputs": [],
   "source": [
    "l_Λc = sp.Symbol(R\"l_{\\Lambda_c}\", integer=True, positive=True)\n",
    "display_doit(RelativisticBreitWigner(s, m, Γ0, m1, m2, l_R, l_Λc, R))"
   ]
  },
  {
   "cell_type": "markdown",
   "metadata": {},
   "source": [
    "### Decay chain amplitudes"
   ]
  },
  {
   "cell_type": "code",
   "execution_count": null,
   "metadata": {
    "tags": [
     "scroll-input",
     "hide-input",
     "full-width"
    ]
   },
   "outputs": [],
   "source": [
    "H_prod = sp.IndexedBase(R\"\\mathcal{H}^\\mathrm{production}\")\n",
    "H_dec = sp.IndexedBase(R\"\\mathcal{H}^\\mathrm{decay}\")\n",
    "\n",
    "θ23 = sp.Symbol(\"theta23\", real=True)\n",
    "θ31 = sp.Symbol(\"theta31\", real=True)\n",
    "θ12 = sp.Symbol(\"theta12\", real=True)\n",
    "\n",
    "σ1, σ2, σ3 = sp.symbols(\"sigma1:4\", nonnegative=True)\n",
    "m1, m2, m3 = sp.symbols(R\"m_p m_pi m_K\", nonnegative=True)\n",
    "\n",
    "\n",
    "def formulate_K_amplitude(λ_Λc, λ_p, isobars: list[IsobarNode]):\n",
    "    τ = sp.Symbol(\"tau\", rational=True)\n",
    "    return sp.Add(\n",
    "        *[\n",
    "            PoolSum(\n",
    "                sp.KroneckerDelta(λ_Λc, τ - λ_p)\n",
    "                * H_prod[stringify(iso.child2), τ, λ_p]\n",
    "                * formulate_dynamics(iso, σ1, m2, m3)\n",
    "                * (-1) ** (half - λ_p)\n",
    "                * Wigner.d(sp.Rational(iso.child2.parent.spin), τ, 0, θ23)\n",
    "                * H_dec[stringify(iso.child2), 0, 0],\n",
    "                (τ, create_spin_range(iso.child2.parent.spin)),\n",
    "            )\n",
    "            for iso in isobars\n",
    "        ]\n",
    "    )\n",
    "\n",
    "\n",
    "def formulate_Λ_amplitude(λ_Λc, λ_p, isobars: list[IsobarNode]):\n",
    "    τ = sp.Symbol(\"tau\", rational=True)\n",
    "    return sp.Add(\n",
    "        *[\n",
    "            PoolSum(\n",
    "                sp.KroneckerDelta(λ_Λc, τ)\n",
    "                * H_prod[stringify(iso.child2), τ, 0]\n",
    "                * formulate_dynamics(iso, σ2, m1, m3)\n",
    "                * Wigner.d(sp.Rational(iso.child2.parent.spin), τ, -λ_p, θ31)\n",
    "                * H_dec[stringify(iso.child2), 0, λ_p]\n",
    "                * (-1) ** (half - λ_p),\n",
    "                (τ, create_spin_range(iso.child2.parent.spin)),\n",
    "            )\n",
    "            for iso in isobars\n",
    "        ]\n",
    "    )\n",
    "\n",
    "\n",
    "def formulate_Δ_amplitude(λ_Λc, λ_p, isobars: list[IsobarNode]):\n",
    "    τ = sp.Symbol(\"tau\", rational=True)\n",
    "    return sp.Add(\n",
    "        *[\n",
    "            PoolSum(\n",
    "                sp.KroneckerDelta(λ_Λc, τ)\n",
    "                * H_prod[stringify(iso.child2), τ, 0]\n",
    "                * formulate_dynamics(iso, σ3, m1, m2)\n",
    "                * Wigner.d(sp.Rational(iso.child2.parent.spin), τ, λ_p, θ12)\n",
    "                * H_dec[stringify(iso.child2), λ_p, 0],\n",
    "                (τ, create_spin_range(iso.child2.parent.spin)),\n",
    "            )\n",
    "            for iso in isobars\n",
    "        ]\n",
    "    )\n",
    "\n",
    "\n",
    "def formulate_dynamics(isobar: IsobarNode, s, m1, m2):\n",
    "    production, decay = isobar, isobar.child2\n",
    "    resonance = decay.parent\n",
    "    assert production.interaction is not None\n",
    "    assert decay.interaction is not None\n",
    "    assert isinstance(resonance, Resonance)\n",
    "    l_R = sp.Rational(production.interaction.L)\n",
    "    l_Λc = sp.Rational(decay.interaction.L)\n",
    "    mass = sp.Symbol(f\"m_{{{resonance.latex}}}\")\n",
    "    width = sp.Symbol(Rf\"\\Gamma_{{{resonance.latex}}}\")\n",
    "    parameter_defaults[mass] = resonance.mass\n",
    "    parameter_defaults[width] = resonance.width\n",
    "    return RelativisticBreitWigner(s, mass, width, m1, m2, l_R, l_Λc, R)\n",
    "\n",
    "\n",
    "def stringify(obj) -> Str:\n",
    "    if isinstance(obj, IsobarNode):\n",
    "        return Str(obj.parent.latex)\n",
    "    if isinstance(obj, (Particle, Resonance)):\n",
    "        return Str(obj.latex)\n",
    "    return Str(f\"{obj}\")\n",
    "\n",
    "\n",
    "def filter_isobars(\n",
    "    isobars: list[IsobarNode], resonance_pattern: str\n",
    ") -> list[IsobarNode]:\n",
    "    return [\n",
    "        isobar\n",
    "        for isobar in isobars\n",
    "        if isobar.child2.parent.name.startswith(resonance_pattern)\n",
    "    ]\n",
    "\n",
    "\n",
    "def formulate_subsystem_amplitude(subsystem: int, λ_Λc, λ_p):\n",
    "    if subsystem == 1:\n",
    "        return formulate_K_amplitude(λ_Λc, λ_p, filter_isobars(isobars, \"K\"))\n",
    "    if subsystem == 2:\n",
    "        return formulate_Λ_amplitude(λ_Λc, λ_p, filter_isobars(isobars, \"L\"))\n",
    "    if subsystem == 3:\n",
    "        return formulate_Δ_amplitude(λ_Λc, λ_p, filter_isobars(isobars, \"D\"))\n",
    "    raise NotImplementedError(f\"No chain implemented for sub-system {subsystem}\")"
   ]
  },
  {
   "cell_type": "markdown",
   "metadata": {},
   "source": [
    "### Angle definitions"
   ]
  },
  {
   "cell_type": "code",
   "execution_count": null,
   "metadata": {
    "tags": [
     "scroll-input",
     "hide-input"
    ]
   },
   "outputs": [],
   "source": [
    "m0 = sp.Symbol(R\"m_{\\Lambda_c}\", nonnegative=True)\n",
    "angles = {\n",
    "    θ12: sp.acos(\n",
    "        (\n",
    "            2 * σ3 * (σ2 - m3**2 - m1**2)\n",
    "            - (σ3 + m1**2 - m2**2) * (m0**2 - σ3 - m3**2)\n",
    "        )\n",
    "        / (\n",
    "            sp.sqrt(Källén(m0**2, m3**2, σ3))\n",
    "            * sp.sqrt(Källén(σ3, m1**2, m2**2))\n",
    "        )\n",
    "    ),\n",
    "    θ23: sp.acos(\n",
    "        (\n",
    "            2 * σ1 * (σ3 - m1**2 - m2**2)\n",
    "            - (σ1 + m2**2 - m3**2) * (m0**2 - σ1 - m1**2)\n",
    "        )\n",
    "        / (\n",
    "            sp.sqrt(Källén(m0**2, m1**2, σ1))\n",
    "            * sp.sqrt(Källén(σ1, m2**2, m3**2))\n",
    "        )\n",
    "    ),\n",
    "    θ31: sp.acos(\n",
    "        (\n",
    "            2 * σ2 * (σ1 - m2**2 - m3**2)\n",
    "            - (σ2 + m3**2 - m1**2) * (m0**2 - σ2 - m2**2)\n",
    "        )\n",
    "        / (\n",
    "            sp.sqrt(Källén(m0**2, m2**2, σ2))\n",
    "            * sp.sqrt(Källén(σ2, m3**2, m1**2))\n",
    "        )\n",
    "    ),\n",
    "    ζ_0_11: sp.S.Zero,  # = \\hat\\theta^0_{1(1)}\n",
    "    ζ_0_21: -sp.acos(  # = -\\hat\\theta^{1(2)}\n",
    "        (\n",
    "            (m0**2 + m1**2 - σ1) * (m0**2 + m2**2 - σ2)\n",
    "            - 2 * m0**2 * (σ3 - m1**2 - m2**2)\n",
    "        )\n",
    "        / (\n",
    "            sp.sqrt(Källén(m0**2, m2**2, σ2))\n",
    "            * sp.sqrt(Källén(m0**2, σ1, m1**2))\n",
    "        )\n",
    "    ),\n",
    "    ζ_0_31: sp.acos(  # = \\hat\\theta^{3(1)}\n",
    "        (\n",
    "            (m0**2 + m3**2 - σ3) * (m0**2 + m1**2 - σ1)\n",
    "            - 2 * m0**2 * (σ2 - m3**2 - m1**2)\n",
    "        )\n",
    "        / (\n",
    "            sp.sqrt(Källén(m0**2, m1**2, σ1))\n",
    "            * sp.sqrt(Källén(m0**2, σ3, m3**2))\n",
    "        )\n",
    "    ),\n",
    "    ζ_1_11: sp.S.Zero,\n",
    "    ζ_1_21: sp.acos(\n",
    "        (\n",
    "            2 * m1**2 * (σ3 - m0**2 - m3**2)\n",
    "            + (m0**2 + m1**2 - σ1) * (σ2 - m1**2 - m3**2)\n",
    "        )\n",
    "        / (\n",
    "            sp.sqrt(Källén(m0**2, m1**2, σ1))\n",
    "            * sp.sqrt(Källén(σ2, m1**2, m3**2))\n",
    "        )\n",
    "    ),\n",
    "    ζ_1_31: -sp.acos(  # = -\\zeta^1_{1(3)}\n",
    "        (\n",
    "            2 * m1**2 * (σ2 - m0**2 - m2**2)\n",
    "            + (m0**2 + m1**2 - σ1) * (σ3 - m1**2 - m2**2)\n",
    "        )\n",
    "        / (\n",
    "            sp.sqrt(Källén(m0**2, m1**2, σ1))\n",
    "            * sp.sqrt(Källén(σ3, m1**2, m2**2))\n",
    "        )\n",
    "    ),\n",
    "}\n",
    "\n",
    "display_latex(angles)"
   ]
  },
  {
   "cell_type": "code",
   "execution_count": null,
   "metadata": {
    "tags": [
     "hide-input"
    ]
   },
   "outputs": [],
   "source": [
    "masses = {\n",
    "    m0: Λc.mass,\n",
    "    m1: p.mass,\n",
    "    m2: π.mass,\n",
    "    m3: K.mass,\n",
    "}\n",
    "display_latex(masses)"
   ]
  },
  {
   "cell_type": "markdown",
   "metadata": {
    "tags": []
   },
   "source": [
    "### Helicity coupling values"
   ]
  },
  {
   "cell_type": "code",
   "execution_count": null,
   "metadata": {},
   "outputs": [],
   "source": [
    "def to_symbol_definitions(\n",
    "    parameter_dict: dict[str, str]\n",
    ") -> dict[sp.Basic, complex | float]:\n",
    "    key_to_val: dict[str, complex | float] = {}\n",
    "    for key, str_value in parameter_dict.items():\n",
    "        if key.startswith(\"Ar\"):\n",
    "            identifier = key[2:]\n",
    "            str_imag = parameter_dict[f\"Ai{identifier}\"]\n",
    "            real = to_float(str_value)\n",
    "            imag = to_float(str_imag)\n",
    "            key_to_val[f\"A{identifier}\"] = complex(real, imag)\n",
    "    return {to_symbol(key): value for key, value in key_to_val.items()}\n",
    "\n",
    "\n",
    "def to_float(str_value: str) -> float:\n",
    "    value, _ = map(float, str_value.split(\" ± \"))\n",
    "    return value\n",
    "\n",
    "\n",
    "def to_symbol(key: str) -> sp.Indexed | sp.Symbol:\n",
    "    if key.startswith(\"A\"):\n",
    "        res = stringify(key[1:-1])\n",
    "        i = int(key[-1])\n",
    "        if str(res).startswith(\"L\"):\n",
    "            if i == 1:\n",
    "                return H_prod[res, +half, 0]\n",
    "            if i == 2:\n",
    "                return H_prod[res, -half, 0]\n",
    "        if str(res).startswith(\"D\"):\n",
    "            if i == 1:\n",
    "                return H_prod[res, +half, 0]\n",
    "            if i == 2:\n",
    "                return H_prod[res, -half, 0]\n",
    "        if str(res).startswith(\"K\"):\n",
    "            if str(res) in {\"K(700)\", \"K(1430)\"}:\n",
    "                if i == 1:\n",
    "                    return H_prod[res, 0, -half]\n",
    "                if i == 2:\n",
    "                    return H_prod[res, 0, +half]\n",
    "            else:\n",
    "                if i == 1:\n",
    "                    return H_prod[res, 0, +half]\n",
    "                if i == 2:\n",
    "                    return H_prod[res, +1, +half]\n",
    "                if i == 3:\n",
    "                    return H_prod[res, -1, -half]\n",
    "                if i == 4:\n",
    "                    return H_prod[res, 0, -half]\n",
    "    raise NotImplementedError(\n",
    "        f'Cannot convert key \"{key}\" in model parameter JSON file to SymPy symbol'\n",
    "    )\n",
    "\n",
    "\n",
    "with open(\"../data/modelparameters.json\") as stream:\n",
    "    data = json.load(stream)\n",
    "assert len(data[\"modelstudies\"]) == 18\n",
    "model_number = 0\n",
    "imported_parameters = to_symbol_definitions(\n",
    "    data[\"modelstudies\"][model_number][\"parameters\"]\n",
    ")"
   ]
  },
  {
   "cell_type": "code",
   "execution_count": null,
   "metadata": {
    "tags": [
     "hide-input"
    ]
   },
   "outputs": [],
   "source": [
    "prod_couplings = {\n",
    "    key: value for key, value in imported_parameters.items() if key.base == H_prod\n",
    "}\n",
    "display_latex(prod_couplings)\n",
    "couplings = dict(prod_couplings)\n",
    "parameter_defaults.update(prod_couplings)"
   ]
  },
  {
   "cell_type": "code",
   "execution_count": null,
   "metadata": {
    "tags": [
     "hide-input"
    ]
   },
   "outputs": [],
   "source": [
    "dec_couplings = {}\n",
    "for isobar in isobars:\n",
    "    res = isobar.child2.parent\n",
    "    assert isinstance(res, Resonance)\n",
    "    i = stringify(res)\n",
    "    if res.name.startswith(\"K\"):\n",
    "        dec_couplings[H_dec[i, 0, 0]] = 1\n",
    "    if res.name.startswith(\"L\"):\n",
    "        dec_couplings[H_dec[i, 0, half]] = 1\n",
    "        dec_couplings[H_dec[i, 0, -half]] = (\n",
    "            int(res.parity)\n",
    "            * int(K.parity)\n",
    "            * int(p.parity)\n",
    "            * (-1) ** (res.spin - K.spin - p.spin)\n",
    "        )\n",
    "    if res.name.startswith(\"D\"):\n",
    "        dec_couplings[H_dec[i, half, 0]] = 1\n",
    "        dec_couplings[H_dec[i, -half, 0]] = (\n",
    "            int(res.parity)\n",
    "            * int(p.parity)\n",
    "            * int(π.parity)\n",
    "            * (-1) ** (res.spin - p.spin - π.spin)\n",
    "        )\n",
    "parameter_defaults.update(dec_couplings)\n",
    "couplings.update(dec_couplings)\n",
    "display_latex(dec_couplings)"
   ]
  },
  {
   "cell_type": "markdown",
   "metadata": {},
   "source": [
    "### Intensity expression"
   ]
  },
  {
   "cell_type": "code",
   "execution_count": null,
   "metadata": {
    "tags": [
     "hide-input",
     "full-width"
    ]
   },
   "outputs": [],
   "source": [
    "def formulate_intensity(amplitude_builder):\n",
    "    return PoolSum(\n",
    "        sp.Abs(amplitude_builder(ν, λ)) ** 2,\n",
    "        (λ, [-half, +half]),\n",
    "        (ν, [-half, +half]),\n",
    "    )\n",
    "\n",
    "\n",
    "intensity_expressions = {\n",
    "    0: formulate_intensity(formulate_aligned_amplitude),\n",
    "    1: formulate_intensity(partial(formulate_subsystem_amplitude, 1)),\n",
    "    2: formulate_intensity(partial(formulate_subsystem_amplitude, 2)),\n",
    "    3: formulate_intensity(partial(formulate_subsystem_amplitude, 3)),\n",
    "}\n",
    "intensity_expressions[0]"
   ]
  },
  {
   "cell_type": "code",
   "execution_count": null,
   "metadata": {
    "tags": [
     "hide-input",
     "full-width"
    ]
   },
   "outputs": [],
   "source": [
    "A = {1: A_K, 2: A_Λ, 3: A_Δ}\n",
    "amp_definitions = {}\n",
    "for subsystem in range(1, 4):\n",
    "    for Λc_heli, p_heli in itertools.product([-half, +half], [-half, +half]):\n",
    "        symbol = A[subsystem][Λc_heli, p_heli]\n",
    "        expr = formulate_subsystem_amplitude(subsystem, ν, λ)\n",
    "        amp_definitions[symbol] = expr.subs({ν: Λc_heli, λ: p_heli})\n",
    "display_latex(amp_definitions)"
   ]
  },
  {
   "cell_type": "code",
   "execution_count": null,
   "metadata": {
    "tags": [
     "hide-cell"
    ]
   },
   "outputs": [],
   "source": [
    "substituted_intensity_expressions = {}\n",
    "for subsystem, expr in intensity_expressions.items():\n",
    "    expr = expr.doit().xreplace(amp_definitions).doit()\n",
    "    expr = expr.xreplace(angles).doit().xreplace(masses)\n",
    "    substituted_intensity_expressions[subsystem] = expr\n",
    "    expr = expr.xreplace(parameter_defaults)\n",
    "    display(sp.Array(expr.free_symbols))\n",
    "    if subsystem == 0:\n",
    "        assert expr.free_symbols == {σ1, σ2, σ3}\n",
    "    else:\n",
    "        assert expr.free_symbols < {σ1, σ2, σ3}"
   ]
  },
  {
   "cell_type": "markdown",
   "metadata": {},
   "source": [
    "## Polarization sensitivity"
   ]
  },
  {
   "cell_type": "markdown",
   "metadata": {},
   "source": [
    "### Total polarization sensitivity"
   ]
  },
  {
   "cell_type": "code",
   "execution_count": null,
   "metadata": {
    "tags": []
   },
   "outputs": [],
   "source": [
    "def to_index(helicity):\n",
    "    \"\"\"Symbolic conversion of half-value helicities to Pauli matrix indices.\"\"\"\n",
    "    # https://github.com/ComPWA/compwa-org/pull/129#issuecomment-1096599896\n",
    "    return sp.Piecewise(\n",
    "        (1, sp.LessThan(helicity, 0)),\n",
    "        (0, True),\n",
    "    )\n",
    "\n",
    "\n",
    "ν_prime = sp.Symbol(R\"\\nu^{\\prime}\")\n",
    "total_polarization = sp.Array(\n",
    "    PoolSum(\n",
    "        formulate_aligned_amplitude(ν, λ).conjugate()\n",
    "        * msigma(i)[to_index(ν), to_index(ν_prime)]\n",
    "        * formulate_aligned_amplitude(ν_prime, λ),\n",
    "        (λ, [-half, +half]),\n",
    "        (ν, [-half, +half]),\n",
    "        (ν_prime, [-half, +half]),\n",
    "    )\n",
    "    / intensity_expressions[0]\n",
    "    for i in [1, 2, 3]\n",
    ")"
   ]
  },
  {
   "cell_type": "markdown",
   "metadata": {},
   "source": [
    "### Polarization sensitivity per chain"
   ]
  },
  {
   "cell_type": "code",
   "execution_count": null,
   "metadata": {
    "tags": []
   },
   "outputs": [],
   "source": [
    "polarization_expressions = {\n",
    "    0: total_polarization,\n",
    "}\n",
    "for subsystem in range(1, 4):\n",
    "    polarization_expressions[subsystem] = sp.Array(\n",
    "        PoolSum(\n",
    "            formulate_subsystem_amplitude(subsystem, ν, λ).conjugate()\n",
    "            * msigma(i)[to_index(ν), to_index(ν_prime)]\n",
    "            * formulate_subsystem_amplitude(subsystem, ν_prime, λ),\n",
    "            (λ, [-half, +half]),\n",
    "            (ν, [-half, +half]),\n",
    "            (ν_prime, [-half, +half]),\n",
    "        )\n",
    "        / intensity_expressions[subsystem]\n",
    "        for i in [1, 2, 3]\n",
    "    )"
   ]
  },
  {
   "cell_type": "code",
   "execution_count": null,
   "metadata": {
    "tags": [
     "hide-cell"
    ]
   },
   "outputs": [],
   "source": [
    "substituted_polarization_expressions = {}\n",
    "for subsystem, expr in polarization_expressions.items():\n",
    "    expr = expr.doit().xreplace(amp_definitions).doit()\n",
    "    expr = expr.xreplace(angles).doit().xreplace(masses)\n",
    "    substituted_polarization_expressions[subsystem] = expr\n",
    "    expr = expr.xreplace(parameter_defaults)\n",
    "    if subsystem == 0:\n",
    "        assert expr.free_symbols == {σ1, σ2, σ3}\n",
    "    else:\n",
    "        assert expr.free_symbols < {σ1, σ2, σ3}"
   ]
  },
  {
   "cell_type": "markdown",
   "metadata": {},
   "source": [
    "## Computations with TensorWaves\n"
   ]
  },
  {
   "cell_type": "markdown",
   "metadata": {
    "tags": []
   },
   "source": [
    "### Conversion to computational backend"
   ]
  },
  {
   "cell_type": "code",
   "execution_count": null,
   "metadata": {},
   "outputs": [],
   "source": [
    "free_parameters = {\n",
    "    symbol: value\n",
    "    for symbol, value in parameter_defaults.items()\n",
    "    if symbol.name.startswith(\"m_\")\n",
    "    or symbol.name.startswith(R\"\\Gamma_\")\n",
    "    or symbol in prod_couplings\n",
    "}\n",
    "fixed_parameters = {\n",
    "    symbol: value\n",
    "    for symbol, value in parameter_defaults.items()\n",
    "    if symbol not in free_parameters\n",
    "}"
   ]
  },
  {
   "cell_type": "code",
   "execution_count": null,
   "metadata": {
    "tags": []
   },
   "outputs": [],
   "source": [
    "intensity_functions = {\n",
    "    subsystem: create_parametrized_function(\n",
    "        expr.subs(fixed_parameters),\n",
    "        parameters=free_parameters,\n",
    "        backend=\"jax\",\n",
    "    )\n",
    "    for subsystem, expr in substituted_intensity_expressions.items()\n",
    "}"
   ]
  },
  {
   "cell_type": "code",
   "execution_count": null,
   "metadata": {
    "tags": []
   },
   "outputs": [],
   "source": [
    "polarization_functions = {\n",
    "    subsystem: [\n",
    "        create_parametrized_function(\n",
    "            expr[i].subs(fixed_parameters),\n",
    "            parameters=free_parameters,\n",
    "            backend=\"jax\",\n",
    "        )\n",
    "        for i in range(3)\n",
    "    ]\n",
    "    for subsystem, expr in substituted_polarization_expressions.items()\n",
    "}"
   ]
  },
  {
   "cell_type": "markdown",
   "metadata": {},
   "source": [
    "### Phase space"
   ]
  },
  {
   "cell_type": "code",
   "execution_count": null,
   "metadata": {
    "tags": []
   },
   "outputs": [],
   "source": [
    "computed_σ3 = m0**2 + m1**2 + m2**2 + m3**2 - σ1 - σ2\n",
    "compute_third_mandelstam = create_function(computed_σ3.subs(masses), backend=\"jax\")\n",
    "display_latex({σ3: computed_σ3})"
   ]
  },
  {
   "cell_type": "code",
   "execution_count": null,
   "metadata": {
    "tags": []
   },
   "outputs": [],
   "source": [
    "def kibble_function(σ1, σ2):\n",
    "    return Källén(\n",
    "        Källén(σ2, m2**2, m0**2),\n",
    "        Källén(σ3, m3**2, m0**2),\n",
    "        Källén(σ1, m1**2, m0**2),\n",
    "    )\n",
    "\n",
    "\n",
    "def is_within_phsp(σ1, σ2, non_phsp_value=sp.nan):\n",
    "    return sp.Piecewise(\n",
    "        (1, sp.LessThan(kibble_function(σ1, σ2), 0)),\n",
    "        (non_phsp_value, True),\n",
    "    )\n",
    "\n",
    "\n",
    "is_within_phsp(σ1, σ2)"
   ]
  },
  {
   "cell_type": "code",
   "execution_count": null,
   "metadata": {
    "tags": []
   },
   "outputs": [],
   "source": [
    "in_phsp_expr = is_within_phsp(σ1, σ2).subs(σ3, computed_σ3).subs(masses).doit()\n",
    "in_phsp_expr.free_symbols"
   ]
  },
  {
   "cell_type": "code",
   "execution_count": null,
   "metadata": {
    "tags": []
   },
   "outputs": [],
   "source": [
    "resolution = 200\n",
    "m0_val, m1_val, m2_val, m3_val = masses.values()\n",
    "σ1_min = (m2_val + m3_val) ** 2\n",
    "σ1_max = (m0_val - m1_val) ** 2\n",
    "σ2_min = (m1_val + m3_val) ** 2\n",
    "σ2_max = (m0_val - m2_val) ** 2\n",
    "x = np.linspace(σ1_min, σ1_max, num=resolution)\n",
    "y = np.linspace(σ2_min, σ2_max, num=resolution)\n",
    "X, Y = np.meshgrid(x, y)\n",
    "Z = compute_third_mandelstam.function(X, Y)\n",
    "σ_arrays = {\"sigma1\": X, \"sigma2\": Y, \"sigma3\": Z}\n",
    "\n",
    "in_phsp = create_function(in_phsp_expr, backend=\"numpy\")\n",
    "phsp = in_phsp(σ_arrays)"
   ]
  },
  {
   "cell_type": "code",
   "execution_count": null,
   "metadata": {
    "tags": []
   },
   "outputs": [],
   "source": [
    "kinematic_variables = {\n",
    "    symbol: expression.doit().subs(masses).subs(fixed_parameters)\n",
    "    for symbol, expression in angles.items()\n",
    "}\n",
    "kinematic_variables.update({s: s for s in [σ1, σ2, σ3]})  # include identity\n",
    "transformer = SympyDataTransformer.from_sympy(kinematic_variables, backend=\"jax\")\n",
    "kinematic_arrays = transformer(σ_arrays)"
   ]
  },
  {
   "cell_type": "markdown",
   "metadata": {},
   "source": [
    "### Intensity distribution"
   ]
  },
  {
   "cell_type": "code",
   "execution_count": null,
   "metadata": {},
   "outputs": [],
   "source": [
    "intensities = {\n",
    "    subsystem: func(kinematic_arrays) for subsystem, func in intensity_functions.items()\n",
    "}"
   ]
  },
  {
   "cell_type": "code",
   "execution_count": null,
   "metadata": {
    "tags": [
     "remove-input"
    ]
   },
   "outputs": [],
   "source": [
    "%config InlineBackend.figure_formats = ['png']"
   ]
  },
  {
   "cell_type": "code",
   "execution_count": null,
   "metadata": {
    "tags": [
     "hide-input"
    ]
   },
   "outputs": [],
   "source": [
    "s1_label = R\"$\\sigma_1=m^2\\left(K\\pi\\right)$\"\n",
    "s2_label = R\"$\\sigma_2=m^2\\left(pK\\right)$\"\n",
    "s3_label = R\"$\\sigma_3=m^2\\left(p\\pi\\right)$\"\n",
    "\n",
    "fig, ax = plt.subplots(\n",
    "    figsize=(10, 8),\n",
    "    tight_layout=True,\n",
    ")\n",
    "ax.set_title(\"Intensity distribution\")\n",
    "ax.set_xlabel(s1_label)\n",
    "ax.set_ylabel(s2_label)\n",
    "\n",
    "mesh = ax.pcolormesh(X, Y, phsp * intensities[0], norm=LogNorm())\n",
    "fig.colorbar(mesh, ax=ax)\n",
    "plt.show()"
   ]
  },
  {
   "cell_type": "code",
   "execution_count": null,
   "metadata": {
    "tags": [
     "remove-input"
    ]
   },
   "outputs": [],
   "source": [
    "%config InlineBackend.figure_formats = ['svg']"
   ]
  },
  {
   "cell_type": "code",
   "execution_count": null,
   "metadata": {
    "tags": [
     "hide-input"
    ]
   },
   "outputs": [],
   "source": [
    "def set_ylim_to_zero(ax):\n",
    "    _, y_max = ax.get_ylim()\n",
    "    ax.set_ylim(0, y_max)\n",
    "\n",
    "\n",
    "fig, (ax1, ax2) = plt.subplots(\n",
    "    ncols=2,\n",
    "    figsize=(12, 5),\n",
    "    tight_layout=True,\n",
    ")\n",
    "ax1.set_xlabel(s1_label)\n",
    "ax2.set_xlabel(s2_label)\n",
    "\n",
    "subsystem_names = {\n",
    "    1: \"K^{**}\",\n",
    "    2: R\"\\Lambda^{**}\",\n",
    "    3: R\"\\Delta^{**}\",\n",
    "}\n",
    "ax1.fill(x, np.nansum(intensities[0], axis=0), alpha=0.3)\n",
    "ax2.fill(y, np.nansum(intensities[0], axis=1), alpha=0.3)\n",
    "for subsystem in range(1, 4):\n",
    "    label = subsystem_names[subsystem]\n",
    "    label = f\"${label}$\"\n",
    "    ax1.plot(x, np.nansum(intensities[subsystem], axis=0), label=label)\n",
    "    ax2.plot(y, np.nansum(intensities[subsystem], axis=1), label=label)\n",
    "set_ylim_to_zero(ax1)\n",
    "set_ylim_to_zero(ax2)\n",
    "ax1.legend()\n",
    "plt.show()"
   ]
  },
  {
   "cell_type": "markdown",
   "metadata": {},
   "source": [
    "### Fit fractions"
   ]
  },
  {
   "cell_type": "code",
   "execution_count": null,
   "metadata": {
    "tags": []
   },
   "outputs": [],
   "source": [
    "def sub_intensity(data, non_zero_couplings: list[str]):\n",
    "    func = intensity_functions[0]\n",
    "    new_parameters = dict(func.parameters)\n",
    "    for par_name in new_parameters:\n",
    "        if not par_name.startswith(R\"\\mathcal{H}\"):\n",
    "            continue\n",
    "        if any(map(lambda s: s in par_name, non_zero_couplings)):\n",
    "            continue\n",
    "        new_parameters[par_name] = 0\n",
    "    old_parameters = dict(func.parameters)\n",
    "    func.update_parameters(new_parameters)\n",
    "    intensities = func(data)\n",
    "    func.update_parameters(old_parameters)\n",
    "    return integrate_intensity(intensities)\n",
    "\n",
    "\n",
    "def integrate_intensity(intensities):\n",
    "    return np.nansum(intensities) / len(intensities)\n",
    "\n",
    "\n",
    "I_tot = integrate_intensity(intensity_functions[0](kinematic_arrays))\n",
    "np.testing.assert_allclose(\n",
    "    I_tot,\n",
    "    sub_intensity(kinematic_arrays, [\"K\", \"L\", \"D\"]),\n",
    ")"
   ]
  },
  {
   "cell_type": "code",
   "execution_count": null,
   "metadata": {
    "tags": []
   },
   "outputs": [],
   "source": [
    "def interference_intensity(\n",
    "    data,\n",
    "    chain1: list[str],\n",
    "    chain2: list[str],\n",
    "):\n",
    "    I_interference = sub_intensity(data, chain1 + chain2)\n",
    "    I_chain1 = sub_intensity(data, chain1)\n",
    "    I_chain2 = sub_intensity(data, chain2)\n",
    "    return I_interference - I_chain1 - I_chain2\n",
    "\n",
    "\n",
    "I_K = sub_intensity(kinematic_arrays, non_zero_couplings=[\"K\"])\n",
    "I_Λ = sub_intensity(kinematic_arrays, non_zero_couplings=[\"L\"])\n",
    "I_Δ = sub_intensity(kinematic_arrays, non_zero_couplings=[\"D\"])\n",
    "I_ΛΔ = interference_intensity(kinematic_arrays, [\"L\"], [\"D\"])\n",
    "I_KΔ = interference_intensity(kinematic_arrays, [\"K\"], [\"D\"])\n",
    "I_KΛ = interference_intensity(kinematic_arrays, [\"K\"], [\"L\"])\n",
    "np.testing.assert_allclose(I_tot, I_K + I_Λ + I_Δ + I_ΛΔ + I_KΔ + I_KΛ)"
   ]
  },
  {
   "cell_type": "code",
   "execution_count": null,
   "metadata": {
    "tags": [
     "hide-input"
    ]
   },
   "outputs": [],
   "source": [
    "def render_resonance_row(resonance_identifier: str):\n",
    "    resonances: list[Resonance] = [\n",
    "        iso.child2.parent\n",
    "        for iso in isobars\n",
    "        if iso.child2.parent.name.startswith(resonance_identifier)\n",
    "    ]\n",
    "    rows = [\n",
    "        (\n",
    "            Rf\"\\color{{gray}}{{{p.latex}}}\",\n",
    "            Rf\"\\color{{gray}}{{{sub_intensity(kinematic_arrays, [p.name])/I_tot:.3f}}}\",\n",
    "        )\n",
    "        for p in resonances\n",
    "    ]\n",
    "    if len(rows) > 1:\n",
    "        return rows\n",
    "    return []\n",
    "\n",
    "\n",
    "rows = [\n",
    "    R\"\\hline\",\n",
    "    (\"K^{**}\", f\"{I_K/I_tot:.3f}\"),\n",
    "    *render_resonance_row(\"L\"),\n",
    "    (R\"\\Lambda^{**}\", f\"{I_Λ/I_tot:.3f}\"),\n",
    "    *render_resonance_row(\"D\"),\n",
    "    (R\"\\Delta^{**}\", f\"{I_Δ/I_tot:.3f}\"),\n",
    "    *render_resonance_row(\"K\"),\n",
    "    (R\"\\Delta/\\Lambda\", f\"{I_ΛΔ/I_tot:.3f}\"),\n",
    "    (R\"K/\\Delta\", f\"{I_KΔ/I_tot:.3f}\"),\n",
    "    (R\"K/\\Lambda\", f\"{I_KΛ/I_tot:.3f}\"),\n",
    "    R\"\\hline\",\n",
    "    (\n",
    "        R\"\\mathrm{total}\",\n",
    "        f\"{(I_K + I_Λ + I_Δ + I_ΛΔ + I_KΔ + I_KΛ) /I_tot:.3f}\",\n",
    "    ),\n",
    "]\n",
    "\n",
    "latex = R\"\\begin{array}{crr}\" + \"\\n\"\n",
    "latex += R\"& I_\\mathrm{sub}\\,/\\,I \\\\\" + \"\\n\"\n",
    "for row in rows:\n",
    "    if row == R\"\\hline\":\n",
    "        latex += R\"\\hline\"\n",
    "    else:\n",
    "        latex += \"  \" + \" & \".join(row) + R\" \\\\\" + \"\\n\"\n",
    "latex += R\"\\end{array}\"\n",
    "Math(latex)"
   ]
  },
  {
   "cell_type": "markdown",
   "metadata": {},
   "source": [
    "### Polarization distributions"
   ]
  },
  {
   "cell_type": "code",
   "execution_count": null,
   "metadata": {
    "tags": []
   },
   "outputs": [],
   "source": [
    "polarization_values = {\n",
    "    subsystem: [func[i](kinematic_arrays) for i in range(3)]\n",
    "    for subsystem, func in polarization_functions.items()\n",
    "}\n",
    "for subsystem in range(4):\n",
    "    for array in polarization_values[subsystem]:\n",
    "        assert np.nanmax(array.imag) < 1e-10"
   ]
  },
  {
   "cell_type": "code",
   "execution_count": null,
   "metadata": {
    "tags": [
     "hide-input"
    ]
   },
   "outputs": [],
   "source": [
    "def render_mean(array, plus=True):\n",
    "    array = array.real\n",
    "    mean = f\"{np.nanmean(array):.3f}\"\n",
    "    std = f\"{np.nanstd(array):.3f}\"\n",
    "    if plus and float(mean) > 0:\n",
    "        mean = f\"+{mean}\"\n",
    "    return Rf\"{mean} \\pm {std}\"\n",
    "\n",
    "\n",
    "latex = R\"\\begin{array}{cccc}\" + \"\\n\"\n",
    "latex += R\"& \\bar{|\\alpha|} & \\bar\\alpha_x & \\bar\\alpha_y & \\bar\\alpha_z \\\\\" + \"\\n\"\n",
    "for subsystem, label in subsystem_names.items():\n",
    "    latex += f\"  {label} & \"\n",
    "    x, y, z = polarization_values[subsystem]\n",
    "    latex += render_mean(np.sqrt(x**2 + y**2 + z**2), plus=False) + \" & \"\n",
    "    latex += \" & \".join(map(render_mean, [x, y, z]))\n",
    "    latex += R\" \\\\\" + \"\\n\"\n",
    "latex += R\"\\end{array}\"\n",
    "Math(latex)"
   ]
  },
  {
   "cell_type": "code",
   "execution_count": null,
   "metadata": {
    "tags": [
     "remove-input"
    ]
   },
   "outputs": [],
   "source": [
    "%config InlineBackend.figure_formats = ['png']\n",
    "%matplotlib widget"
   ]
  },
  {
   "cell_type": "markdown",
   "metadata": {},
   "source": [
    "#### Slider definitions"
   ]
  },
  {
   "cell_type": "code",
   "execution_count": null,
   "metadata": {
    "tags": [
     "scroll-input",
     "hide-cell",
     "remove-output"
    ]
   },
   "outputs": [],
   "source": [
    "# Slider construction\n",
    "sliders = {}\n",
    "for symbol, value in free_parameters.items():\n",
    "    if symbol.name.startswith(R\"\\mathcal{H}\"):\n",
    "        real_slider = create_slider(symbol)\n",
    "        imag_slider = create_slider(symbol)\n",
    "        sliders[f\"{symbol.name}_real\"] = real_slider\n",
    "        sliders[f\"{symbol.name}_imag\"] = imag_slider\n",
    "        real_slider.description = R\"\\(\\mathrm{Re}\\)\"\n",
    "        imag_slider.description = R\"\\(\\mathrm{Im}\\)\"\n",
    "    else:\n",
    "        slider = create_slider(symbol)\n",
    "        sliders[symbol.name] = slider\n",
    "\n",
    "# Slider ranges\n",
    "σ3_max = (m0_val - m3_val) ** 2\n",
    "σ3_min = (m1_val + m2_val) ** 2\n",
    "\n",
    "for name, slider in sliders.items():\n",
    "    slider.continuous_update = False\n",
    "    slider.step = 0.01\n",
    "    if name.startswith(\"m_\"):\n",
    "        if \"K\" in name:\n",
    "            slider.min = np.sqrt(σ1_min)\n",
    "            slider.max = np.sqrt(σ1_max)\n",
    "        elif R\"\\Lambda\" in name:\n",
    "            slider.min = np.sqrt(σ2_min)\n",
    "            slider.max = np.sqrt(σ2_max)\n",
    "        elif R\"\\Delta\" in name:\n",
    "            slider.min = np.sqrt(σ3_min)\n",
    "            slider.max = np.sqrt(σ3_max)\n",
    "    elif name.startswith(R\"\\Gamma_\"):\n",
    "        slider.min = 0\n",
    "        slider.max = max(0.5, 2 * slider.value)\n",
    "    elif name.startswith(R\"\\mathcal{H}\"):\n",
    "        slider.min = -15\n",
    "        slider.max = +15\n",
    "\n",
    "\n",
    "# Slider values\n",
    "def reset_sliders(click_event):\n",
    "    for symbol, value in free_parameters.items():\n",
    "        if symbol.name.startswith(R\"\\mathcal{H}\"):\n",
    "            set_slider(sliders[symbol.name + \"_real\"], value)\n",
    "            set_slider(sliders[symbol.name + \"_imag\"], value)\n",
    "        else:\n",
    "            set_slider(sliders[symbol.name], value)\n",
    "\n",
    "\n",
    "def set_coupling_to_zero(filter_pattern):\n",
    "    if isinstance(filter_pattern, Combobox):\n",
    "        filter_pattern = filter_pattern.value\n",
    "    for name, slider in sliders.items():\n",
    "        if not name.startswith(R\"\\mathcal{H}\"):\n",
    "            continue\n",
    "        if filter_pattern not in name:\n",
    "            continue\n",
    "        set_slider(slider, 0)\n",
    "\n",
    "\n",
    "def set_slider(slider, value):\n",
    "    if slider.description == R\"\\(\\mathrm{Im}\\)\":\n",
    "        value = complex(value).imag\n",
    "    else:\n",
    "        value = complex(value).real\n",
    "    n_decimals = -round(np.log10(slider.step))\n",
    "    if slider.value != round(value, n_decimals):  # widget performance\n",
    "        slider.value = value\n",
    "\n",
    "\n",
    "reset_sliders(click_event=None)\n",
    "reset_button = Button(description=\"Reset slider values\")\n",
    "reset_button.on_click(reset_sliders)\n",
    "\n",
    "all_resonances = [prod.child2.parent for prod in isobars]\n",
    "filter_button = Combobox(\n",
    "    placeholder=\"Enter coupling filter pattern\",\n",
    "    options=all_resonances,\n",
    "    description=R\"$\\mathcal{H}=0$\",\n",
    ")\n",
    "filter_button.on_submit(set_coupling_to_zero)\n",
    "\n",
    "# UI design\n",
    "latex = {symbol.name: sp.latex(symbol) for symbol in free_parameters}\n",
    "mass_sliders = [sliders[n] for n in sliders if n.startswith(\"m_\")]\n",
    "width_sliders = [sliders[n] for n in sliders if n.startswith(R\"\\Gamma_\")]\n",
    "coupling_sliders = {}\n",
    "for isobar in isobars:\n",
    "    res = isobar.child2.parent\n",
    "    coupling_sliders[res.name] = (\n",
    "        [s for n, s in sliders.items() if n.endswith(\"_real\") and res.latex in n],\n",
    "        [s for n, s in sliders.items() if n.endswith(\"_imag\") and res.latex in n],\n",
    "        [\n",
    "            HTMLMath(f\"${latex[n[:-5]]}$\")\n",
    "            for n in sliders\n",
    "            if n.endswith(\"_real\") and res.latex in n\n",
    "        ],\n",
    "    )\n",
    "slider_tabs = Tab(\n",
    "    children=[\n",
    "        Tab(\n",
    "            children=[\n",
    "                VBox([HBox(s) for s in zip(*pair)])\n",
    "                for pair in coupling_sliders.values()\n",
    "            ],\n",
    "            _titles={i: label for i, label in enumerate(coupling_sliders)},\n",
    "        ),\n",
    "        VBox([HBox([r, i]) for r, i in zip(mass_sliders, width_sliders)]),\n",
    "    ],\n",
    "    _titles=dict(enumerate([\"Couplings\", \"Masses and widths\"])),\n",
    ")\n",
    "ui = VBox([slider_tabs, HBox([reset_button, filter_button])])"
   ]
  },
  {
   "cell_type": "markdown",
   "metadata": {},
   "source": [
    "#### Interactive plot"
   ]
  },
  {
   "cell_type": "code",
   "execution_count": null,
   "metadata": {
    "tags": [
     "scroll-input",
     "hide-cell",
     "remove-output"
    ]
   },
   "outputs": [],
   "source": [
    "nrows = 3\n",
    "ncols = 5\n",
    "scale = 2.6\n",
    "aspect_ratio = 1.15\n",
    "fig, axes = plt.subplots(\n",
    "    figsize=scale * np.array([ncols, aspect_ratio * nrows]),\n",
    "    ncols=ncols,\n",
    "    nrows=nrows,\n",
    "    sharex=True,\n",
    "    sharey=True,\n",
    "    gridspec_kw={\"width_ratios\": (ncols - 1) * [1] + [1.24]},\n",
    "    tight_layout=True,\n",
    ")\n",
    "fig.canvas.toolbar_visible = False\n",
    "fig.canvas.header_visible = False\n",
    "fig.canvas.footer_visible = False\n",
    "\n",
    "for subsystem in range(nrows):\n",
    "    for i in range(ncols):\n",
    "        ax = axes[subsystem, i]\n",
    "        if i == 0:\n",
    "            alpha_str = R\"I_\\mathrm{tot}\"\n",
    "        elif i == 1:\n",
    "            alpha_str = R\"|\\alpha|\"\n",
    "        else:\n",
    "            alpha_str = Rf\"\\alpha_{'xyz'[i-2]}\"\n",
    "        title = alpha_str\n",
    "        if subsystem > 0:\n",
    "            title = Rf\"{title}\\left({subsystem_names[subsystem]}\\right)\"\n",
    "        ax.set_title(f\"${title}$\")\n",
    "        if ax is axes[-1, i]:\n",
    "            ax.set_xlabel(s1_label)\n",
    "        if i == 0:\n",
    "            ax.set_ylabel(s2_label)\n",
    "\n",
    "color_mesh = np.full([nrows, ncols], None)\n",
    "\n",
    "\n",
    "def plot3(**kwargs):\n",
    "    global color_mesh\n",
    "    kwargs = to_complex_kwargs(**kwargs)\n",
    "    for subsystem in range(nrows):\n",
    "        # alpha_xyz distributions\n",
    "        alpha_xyz_arrays = []\n",
    "        for i in range(2, ncols):\n",
    "            xyz = i - 2\n",
    "            func = polarization_functions[subsystem][xyz]\n",
    "            func.update_parameters(kwargs)\n",
    "            z_values = func(kinematic_arrays)\n",
    "            z_values = np.real(z_values)\n",
    "            alpha_xyz_arrays.append(z_values)\n",
    "            ax = axes[subsystem, i]\n",
    "            if color_mesh[subsystem, i] is None:\n",
    "                color_mesh[subsystem, i] = ax.pcolormesh(\n",
    "                    X, Y, z_values, cmap=cm.coolwarm\n",
    "                )\n",
    "                if ax is axes[subsystem, -1]:\n",
    "                    fig.colorbar(color_mesh[subsystem, i], ax=ax)\n",
    "            else:\n",
    "                color_mesh[subsystem, i].set_array(z_values)\n",
    "            color_mesh[subsystem, i].set_clim(vmin=-1, vmax=+1)\n",
    "        # absolute value of alpha_xyz vector\n",
    "        i = 1\n",
    "        alpha_abs = np.sqrt(np.sum(np.array(alpha_xyz_arrays) ** 2, axis=0))\n",
    "        ax = axes[subsystem, i]\n",
    "        if color_mesh[subsystem, i] is None:\n",
    "            color_mesh[subsystem, i] = ax.pcolormesh(X, Y, alpha_abs, cmap=cm.coolwarm)\n",
    "        else:\n",
    "            color_mesh[subsystem, i].set_array(alpha_abs)\n",
    "        color_mesh[subsystem, i].set_clim(vmin=-1, vmax=+1)\n",
    "        # total intensity\n",
    "        i = 0\n",
    "        func = intensity_functions[subsystem]\n",
    "        func.update_parameters(kwargs)\n",
    "        z_values = func(kinematic_arrays)\n",
    "        ax = axes[subsystem, i]\n",
    "        if color_mesh[subsystem, i] is None:\n",
    "            color_mesh[subsystem, i] = ax.pcolormesh(X, Y, z_values)\n",
    "        else:\n",
    "            color_mesh[subsystem, i].set_array(z_values)\n",
    "    fig.canvas.draw()\n",
    "\n",
    "\n",
    "def to_complex_kwargs(**kwargs):\n",
    "    complex_valued_kwargs = {}\n",
    "    for key, value in dict(kwargs).items():\n",
    "        if key.endswith(\"real\"):\n",
    "            symbol_name = key[:-5]\n",
    "            imag = kwargs[f\"{symbol_name}_imag\"]\n",
    "            complex_valued_kwargs[symbol_name] = complex(value, imag)\n",
    "        elif key.endswith(\"imag\"):\n",
    "            continue\n",
    "        else:\n",
    "            complex_valued_kwargs[key] = value\n",
    "    return complex_valued_kwargs\n",
    "\n",
    "\n",
    "output = interactive_output(plot3, controls=sliders)\n",
    "display(ui, output)"
   ]
  }
 ],
 "metadata": {
  "kernelspec": {
   "display_name": "Python 3.8.13 ('polarization')",
   "language": "python",
   "name": "python3"
  },
  "language_info": {
   "codemirror_mode": {
    "name": "ipython",
    "version": 3
   },
   "file_extension": ".py",
   "mimetype": "text/x-python",
   "name": "python",
   "nbconvert_exporter": "python",
   "pygments_lexer": "ipython3",
   "version": "3.8.13"
  }
 },
 "nbformat": 4,
 "nbformat_minor": 4
}
