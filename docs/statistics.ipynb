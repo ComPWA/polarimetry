{
 "cells": [
  {
   "cell_type": "markdown",
   "metadata": {},
   "source": [
    "# Statistics"
   ]
  },
  {
   "cell_type": "markdown",
   "metadata": {},
   "source": [
    "```{autolink-concat}\n",
    "```"
   ]
  },
  {
   "cell_type": "code",
   "execution_count": null,
   "metadata": {
    "jupyter": {
     "source_hidden": true
    },
    "tags": [
     "hide-cell",
     "scroll-input"
    ]
   },
   "outputs": [],
   "source": [
    "from __future__ import annotations\n",
    "\n",
    "import jax.numpy as jnp\n",
    "import matplotlib.pyplot as plt\n",
    "import numpy as np\n",
    "from IPython.display import Latex\n",
    "from matplotlib import cm\n",
    "from tensorwaves.function.sympy import create_parametrized_function\n",
    "from tqdm.notebook import tqdm\n",
    "\n",
    "from polarization import formulate_polarization\n",
    "from polarization.amplitude import DalitzPlotDecompositionBuilder\n",
    "from polarization.data import create_data_transformer, generate_meshgrid_sample\n",
    "from polarization.io import mute_jax_warnings, perform_cached_doit\n",
    "from polarization.lhcb import load_model_parameters, load_three_body_decays\n",
    "\n",
    "mute_jax_warnings()\n",
    "\n",
    "reference_subsystem = 1\n",
    "dynamics_configurator = load_three_body_decays(\"../data/isobars.json\")\n",
    "decay = dynamics_configurator.decay\n",
    "amplitude_builder = DalitzPlotDecompositionBuilder(decay)\n",
    "amplitude_builder.dynamics_choices = dynamics_configurator\n",
    "model = amplitude_builder.formulate(reference_subsystem)"
   ]
  },
  {
   "cell_type": "markdown",
   "metadata": {
    "tags": []
   },
   "source": [
    "## Function creation"
   ]
  },
  {
   "cell_type": "code",
   "execution_count": null,
   "metadata": {},
   "outputs": [],
   "source": [
    "%%time\n",
    "polarization_exprs = formulate_polarization(amplitude_builder, reference_subsystem)\n",
    "unfolded_polarization_exprs = [\n",
    "    perform_cached_doit(expr.doit().xreplace(model.amplitudes))\n",
    "    for expr in tqdm(polarization_exprs, desc=\"Unfolding polarization expressions\")\n",
    "]\n",
    "unfolded_intensity_expr = perform_cached_doit(model.full_expression)"
   ]
  },
  {
   "cell_type": "markdown",
   "metadata": {},
   "source": [
    "This time, we do not {ref}`substitute certain parameters with their parameter defaults<polarization:Definition of free parameters>`, but lambdify the full expression, so that parameter values can be set for different models. Note that this makes lambdification slower."
   ]
  },
  {
   "cell_type": "code",
   "execution_count": null,
   "metadata": {
    "tags": []
   },
   "outputs": [],
   "source": [
    "%%time\n",
    "polarization_funcs = [\n",
    "    create_parametrized_function(\n",
    "        unfolded_polarization_exprs[xyz],\n",
    "        parameters=model.parameter_defaults,\n",
    "        backend=\"jax\",\n",
    "    )\n",
    "    for xyz in tqdm(range(3))\n",
    "]\n",
    "intensity_func = create_parametrized_function(\n",
    "    unfolded_intensity_expr,\n",
    "    parameters=model.parameter_defaults,\n",
    "    backend=\"jax\",\n",
    ")"
   ]
  },
  {
   "cell_type": "markdown",
   "metadata": {},
   "source": [
    "## Parameter bootstrapping"
   ]
  },
  {
   "cell_type": "code",
   "execution_count": null,
   "metadata": {},
   "outputs": [],
   "source": [
    "n_bootstraps = 200"
   ]
  },
  {
   "cell_type": "code",
   "execution_count": null,
   "metadata": {
    "jupyter": {
     "source_hidden": true
    },
    "tags": [
     "hide-input"
    ]
   },
   "outputs": [],
   "source": [
    "rng = np.random.default_rng(seed=0)\n",
    "\n",
    "\n",
    "def create_gaussian_distribution(\n",
    "    mean: complex | float, std: complex | float, size: int\n",
    "):\n",
    "    if isinstance(mean, complex) and isinstance(std, complex):\n",
    "        return (\n",
    "            rng.normal(mean.real, std.real, size)\n",
    "            + rng.normal(mean.imag, std.imag, size) * 1j\n",
    "        )\n",
    "    if isinstance(mean, (float, int)) and isinstance(std, (float, int)):\n",
    "        return rng.normal(mean, std, size)\n",
    "    raise NotImplementedError\n",
    "\n",
    "\n",
    "def smear_gaussian(\n",
    "    parameter_values: dict[str, complex | float],\n",
    "    parameter_uncertainties: dict[str, complex | float],\n",
    "    size: int,\n",
    ") -> dict[str, np.ndarray]:\n",
    "    value_distributions = {}\n",
    "    for k, mean in parameter_values.items():\n",
    "        std = parameter_uncertainties[k]\n",
    "        distribution = create_gaussian_distribution(mean, std, size)\n",
    "        value_distributions[k] = distribution\n",
    "    return value_distributions\n",
    "\n",
    "\n",
    "# fmt:off\n",
    "allowed_model_titles = [\n",
    "    \"Default amplitude model.\",\n",
    "    \"Alternative amplitude model with K^*(892) with free mass and width.\",\n",
    "    \"Alternative amplitude model with Lz(1670) with free mass and width.\",\n",
    "    \"Alternative amplitude model with Lz(1690) with free mass and width.\",\n",
    "    \"Alternative amplitude model with Deltares^{++}(1232) with free mass and width.\",\n",
    "    \"Alternative amplitude model with Lz(1600), Deltares(1600)^{++}, Deltares(1700)^{++} with free mass and width.\",\n",
    "    \"Alternative amplitude model with free Lz(1405) Flatt'e widths, indicated as G1 (pK channel) and G2 (Sigmapi).\",\n",
    "    \"Alternative amplitude model with Lz(1800) contribution added with mass and width from Ref.~cite{PDG2020}.\",\n",
    "    \"Alternative amplitude model with  Lz(1810) contribution added with mass and width from Ref.~cite{PDG2020}.\",\n",
    "    \"Alternative amplitude model with Deltares(1620)^{++} contribution added with free mass and width.\",\n",
    "    \"Alternative amplitude model in which a Relativistic Breit-Wigner is used for the K^*(700) contribution.\",\n",
    "    \"Alternative amplitude model with K^*(700) with free mass and width.\",\n",
    "    \"Alternative amplitude model with  K^*(1410) contribution added with mass and width from Ref.~cite{PDG2020}.\",\n",
    "    \"Alternative amplitude model in which a Relativistic Breit-Wigner is used for the K^*(1430) contribution.\",\n",
    "    \"Alternative amplitude model with K^*(1430) with free width.\",\n",
    "    \"Alternative amplitude model with an additional overall exponential form factor exp(-alpha q^2) multiplying Bugg lineshapes. The exponential parameter is indicated as ``alpha''.\",\n",
    "    \"Alternative amplitude model with free radial parameter d for the Lc resonance, indicated as dLc.\",\n",
    "    \"Alternative amplitude model obtained using LS couplings.\",\n",
    "]\n",
    "# fmt:on\n",
    "model_parameters: dict[str, dict[str, np.ndarray]] = {}\n",
    "for title in allowed_model_titles:\n",
    "    symbol_parameters = load_model_parameters(\n",
    "        \"../data/modelparameters.json\", decay, title, typ=\"value\"\n",
    "    )\n",
    "    symbol_uncertainties = load_model_parameters(\n",
    "        \"../data/modelparameters.json\", decay, title, typ=\"uncertainty\"\n",
    "    )\n",
    "    values = {str(k): v for k, v in symbol_parameters.items()}\n",
    "    uncertainties = {str(k): v for k, v in symbol_uncertainties.items()}\n",
    "    model_parameters[title] = smear_gaussian(values, uncertainties, size=n_bootstraps)"
   ]
  },
  {
   "cell_type": "code",
   "execution_count": null,
   "metadata": {},
   "outputs": [],
   "source": [
    "resolution = 200\n",
    "transformer = create_data_transformer(model)\n",
    "phsp = generate_meshgrid_sample(decay, resolution)\n",
    "data = transformer(phsp)\n",
    "X = data[\"sigma1\"]\n",
    "Y = data[\"sigma2\"]"
   ]
  },
  {
   "cell_type": "code",
   "execution_count": null,
   "metadata": {
    "jupyter": {
     "source_hidden": true
    },
    "tags": [
     "hide-input"
    ]
   },
   "outputs": [],
   "source": [
    "model_number = 0\n",
    "model_pars = list(model_parameters.values())[model_number]\n",
    "original_parameters = dict(intensity_func.parameters)\n",
    "\n",
    "bootstrap_intensities = []\n",
    "bootstrap_polarizations = []\n",
    "for i in tqdm(\n",
    "    range(n_bootstraps), desc=\"Computing polarizations for parameter combinations\"\n",
    "):\n",
    "    new_parameters = {k: v[i] for k, v in model_pars.items()}\n",
    "    for func in polarization_funcs + [intensity_func]:\n",
    "        func.update_parameters(original_parameters)\n",
    "        func.update_parameters(new_parameters)\n",
    "    bootstrap_polarizations.append([func(data).real for func in polarization_funcs])\n",
    "    intensity_func.update_parameters(original_parameters)\n",
    "    intensity_func.update_parameters(new_parameters)\n",
    "    bootstrap_intensities.append(intensity_func(data))\n",
    "\n",
    "bootstrap_intensities = jnp.array(bootstrap_intensities)\n",
    "bootstrap_polarizations = jnp.array(bootstrap_polarizations)\n",
    "bootstrap_polarizations = jnp.swapaxes(bootstrap_polarizations, 0, 1)\n",
    "bootstrap_polarization_norms = jnp.sqrt(jnp.sum(bootstrap_polarizations**2, axis=0))"
   ]
  },
  {
   "cell_type": "code",
   "execution_count": null,
   "metadata": {
    "tags": [
     "hide-input"
    ]
   },
   "outputs": [],
   "source": [
    "assert bootstrap_intensities.shape == (n_bootstraps, resolution, resolution)\n",
    "assert bootstrap_polarizations.shape == (3, n_bootstraps, resolution, resolution)\n",
    "assert bootstrap_polarization_norms.shape == (n_bootstraps, resolution, resolution)"
   ]
  },
  {
   "cell_type": "markdown",
   "metadata": {},
   "source": [
    "## Statistical uncertainties"
   ]
  },
  {
   "cell_type": "code",
   "execution_count": null,
   "metadata": {
    "tags": [
     "remove-input"
    ]
   },
   "outputs": [],
   "source": [
    "%config InlineBackend.figure_formats = ['png']"
   ]
  },
  {
   "cell_type": "code",
   "execution_count": null,
   "metadata": {
    "jupyter": {
     "source_hidden": true
    },
    "tags": [
     "hide-input",
     "full-width"
    ]
   },
   "outputs": [],
   "source": [
    "fig, axes = plt.subplots(\n",
    "    ncols=4,\n",
    "    nrows=2,\n",
    "    figsize=(15, 8),\n",
    "    gridspec_kw={\"width_ratios\": [1, 1, 1, 1.15]},\n",
    "    sharex=True,\n",
    "    sharey=True,\n",
    "    tight_layout=True,\n",
    ")\n",
    "fig.suptitle(R\"Polarization sensitivity $\\vec\\alpha$\")\n",
    "s1_label = R\"$\\sigma_1=m^2\\left(K\\pi\\right)$\"\n",
    "s2_label = R\"$\\sigma_2=m^2\\left(pK\\right)$\"\n",
    "axes[0, 0].set_ylabel(s2_label)\n",
    "axes[1, 0].set_ylabel(s2_label)\n",
    "\n",
    "alpha_norm_mean_over_bootstrap = jnp.mean(bootstrap_polarization_norms, axis=0)\n",
    "alpha_norm_std_over_bootstrap = jnp.std(bootstrap_polarization_norms, axis=0)\n",
    "alpha_xyz_mean_over_bootstrap = jnp.mean(bootstrap_polarizations, axis=1)\n",
    "alpha_xyz_std_over_bootstrap = jnp.std(bootstrap_polarizations, axis=1)\n",
    "alpha_mean_over_bootstrap = [\n",
    "    alpha_norm_mean_over_bootstrap,\n",
    "    *alpha_xyz_mean_over_bootstrap,\n",
    "]\n",
    "alpha_std_over_bootstrap = [\n",
    "    alpha_norm_std_over_bootstrap,\n",
    "    *alpha_xyz_std_over_bootstrap,\n",
    "]\n",
    "\n",
    "\n",
    "for i in range(4):\n",
    "    if i != 0:\n",
    "        title = Rf\"$\\alpha_{'xyz'[i-1]}$\"\n",
    "    else:\n",
    "        title = R\"$\\left|\\vec\\alpha\\right|$\"\n",
    "    mesh = axes[0, i].pcolormesh(X, Y, alpha_mean_over_bootstrap[i], cmap=cm.RdYlGn_r)\n",
    "    mesh.set_clim(vmin=-1, vmax=+1)\n",
    "    axes[0, i].set_title(title)\n",
    "    if axes[0, i] is axes[0, -1]:\n",
    "        c_bar = fig.colorbar(mesh, ax=axes[0, i], pad=0.01)\n",
    "        c_bar.ax.set_ylabel(Rf\"$\\alpha$ value averaged with {n_bootstraps} bootstraps\")\n",
    "        c_bar.ax.set_yticks([-1, 0, +1])\n",
    "        c_bar.ax.set_yticklabels([\"-1\", \"0\", \"+1\"])\n",
    "    mesh = axes[1, i].pcolormesh(X, Y, alpha_std_over_bootstrap[i])\n",
    "    axes[1, i].set_xlabel(s1_label)\n",
    "    if axes[1, i] is axes[1, -1]:\n",
    "        c_bar = fig.colorbar(mesh, ax=axes[1, i], pad=0.01)\n",
    "        c_bar.ax.set_ylabel(\"standard deviation\")\n",
    "plt.show()"
   ]
  },
  {
   "cell_type": "code",
   "execution_count": null,
   "metadata": {
    "jupyter": {
     "source_hidden": true
    },
    "tags": [
     "hide-input",
     "full-width"
    ]
   },
   "outputs": [],
   "source": [
    "fig, axes = plt.subplots(\n",
    "    ncols=4,\n",
    "    figsize=(15, 4.5),\n",
    "    gridspec_kw={\"width_ratios\": [1, 1, 1, 1.15]},\n",
    "    sharey=True,\n",
    "    tight_layout=True,\n",
    ")\n",
    "fig.suptitle(R\"$I \\,\\cdot \\vec\\alpha$ distributions\")\n",
    "axes[0].set_ylabel(s2_label)\n",
    "\n",
    "alpha_xyz_times_I = jnp.sum(bootstrap_polarizations * bootstrap_intensities, axis=1)\n",
    "alpha_xyz_times_I /= jnp.sum(bootstrap_intensities, axis=0)\n",
    "alpha_norm_times_I = jnp.sum(\n",
    "    bootstrap_polarization_norms * bootstrap_intensities, axis=0\n",
    ")\n",
    "alpha_norm_times_I /= jnp.sum(bootstrap_intensities, axis=0)\n",
    "alpha_times_I = [alpha_norm_times_I, *alpha_xyz_times_I]\n",
    "\n",
    "for i in range(4):\n",
    "    if i != 0:\n",
    "        title = Rf\"$\\alpha_{'xyz'[i-1]}$\"\n",
    "    else:\n",
    "        title = R\"$\\left|\\vec\\alpha\\right|$\"\n",
    "    axes[i].set_title(title)\n",
    "    mesh = axes[i].pcolormesh(X, Y, alpha_times_I[i], cmap=cm.RdYlGn_r)\n",
    "    mesh.set_clim(vmin=-1, vmax=+1)\n",
    "    if axes[i] is axes[-1]:\n",
    "        c_bar = fig.colorbar(mesh, ax=axes[i], pad=0.02)\n",
    "        c_bar.ax.set_ylabel(Rf\"$\\alpha$ value averaged with {n_bootstraps} bootstraps\")\n",
    "        c_bar.ax.set_yticks([-1, 0, +1])\n",
    "        c_bar.ax.set_yticklabels([\"-1\", \"0\", \"+1\"])\n",
    "plt.show()"
   ]
  },
  {
   "cell_type": "code",
   "execution_count": null,
   "metadata": {
    "jupyter": {
     "source_hidden": true
    },
    "tags": [
     "hide-input",
     "full-width"
    ]
   },
   "outputs": [],
   "source": [
    "fig, (ax1, ax2) = plt.subplots(ncols=2, figsize=(12, 6), sharey=True)\n",
    "fig.suptitle(\"Intensity distribution\")\n",
    "ax1.set_xlabel(s1_label)\n",
    "ax2.set_xlabel(s1_label)\n",
    "ax1.set_ylabel(s2_label)\n",
    "\n",
    "intensity_mean_over_bootstrap = jnp.mean(bootstrap_intensities, axis=0)\n",
    "intensity_std_over_bootstrap = jnp.std(bootstrap_intensities, axis=0)\n",
    "\n",
    "mesh = ax1.pcolormesh(X, Y, intensity_mean_over_bootstrap)\n",
    "fig.colorbar(mesh, ax=ax1, pad=0.01)\n",
    "ax1.set_title(Rf\"average of {n_bootstraps} bootstraps\")\n",
    "\n",
    "Z = intensity_std_over_bootstrap / intensity_mean_over_bootstrap\n",
    "mesh = ax2.pcolormesh(X, Y, Z)\n",
    "fig.colorbar(mesh, ax=ax2, pad=0.01)\n",
    "ax2.set_title(\"standard deviation / intensity\")\n",
    "fig.tight_layout()\n",
    "plt.show()"
   ]
  },
  {
   "cell_type": "markdown",
   "metadata": {},
   "source": [
    "### Averaged polarizations"
   ]
  },
  {
   "cell_type": "markdown",
   "metadata": {},
   "source": [
    "```{autolink-skip} section\n",
    "```"
   ]
  },
  {
   "cell_type": "code",
   "execution_count": null,
   "metadata": {},
   "outputs": [],
   "source": [
    "weighted_ɑ_norm_per_bootstrap = jnp.nansum(\n",
    "    bootstrap_polarization_norms * bootstrap_intensities,\n",
    "    axis=(-1, -2),\n",
    ") / jnp.nansum(\n",
    "    bootstrap_intensities,\n",
    "    axis=(-1, -2),\n",
    ")\n",
    "weighted_ɑ_per_bootstrap = jnp.nansum(\n",
    "    bootstrap_polarizations * bootstrap_intensities,\n",
    "    axis=(-1, -2),\n",
    ") / jnp.nansum(\n",
    "    bootstrap_intensities,\n",
    "    axis=(-1, -2),\n",
    ")"
   ]
  },
  {
   "cell_type": "code",
   "execution_count": null,
   "metadata": {
    "jupyter": {
     "source_hidden": true
    },
    "tags": [
     "hide-input"
    ]
   },
   "outputs": [],
   "source": [
    "ɑ_norm_weighted_mean = weighted_ɑ_norm_per_bootstrap.mean()\n",
    "ɑ_norm_weighted_std = weighted_ɑ_norm_per_bootstrap.std() / np.sqrt(n_bootstraps)\n",
    "ɑ_weighted_mean = weighted_ɑ_per_bootstrap.mean(axis=1)\n",
    "ɑ_weighted_std = weighted_ɑ_per_bootstrap.std(axis=1) / np.sqrt(n_bootstraps)\n",
    "src = Rf\"\"\"\n",
    "\\begin{{array}}{{ccr}}\n",
    "  \\overline{{\\alpha_x}} & = & {ɑ_weighted_mean[0]:.4f} \\pm {ɑ_weighted_std[0]:.4f} \\\\\n",
    "  \\overline{{\\alpha_y}} & = & {ɑ_weighted_mean[1]:.4f} \\pm {ɑ_weighted_std[1]:.4f} \\\\\n",
    "  \\overline{{\\alpha_z}} & = & {ɑ_weighted_mean[2]:.4f} \\pm {ɑ_weighted_std[2]:.4f} \\\\\n",
    "  \\overline{{\\left|\\vec{{\\alpha}}\\right|}} & = & {ɑ_norm_weighted_mean:.4f} \\pm {ɑ_norm_weighted_std:.4f} \\\\\n",
    "\\end{{array}}\n",
    "\"\"\"\n",
    "Latex(src)"
   ]
  },
  {
   "cell_type": "markdown",
   "metadata": {},
   "source": [
    "## Systematic uncertainties"
   ]
  }
 ],
 "metadata": {
  "kernelspec": {
   "display_name": "Python 3 (ipykernel)",
   "language": "python",
   "name": "python3"
  },
  "language_info": {
   "codemirror_mode": {
    "name": "ipython",
    "version": 3
   },
   "file_extension": ".py",
   "mimetype": "text/x-python",
   "name": "python",
   "nbconvert_exporter": "python",
   "pygments_lexer": "ipython3",
   "version": "3.8.13"
  }
 },
 "nbformat": 4,
 "nbformat_minor": 4
}
