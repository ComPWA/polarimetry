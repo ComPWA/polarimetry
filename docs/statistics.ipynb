{
 "cells": [
  {
   "cell_type": "markdown",
   "metadata": {},
   "source": [
    "# Uncertainties"
   ]
  },
  {
   "cell_type": "markdown",
   "metadata": {},
   "source": [
    "```{autolink-concat}\n",
    "```"
   ]
  },
  {
   "cell_type": "code",
   "execution_count": null,
   "metadata": {
    "jupyter": {
     "source_hidden": true
    },
    "tags": [
     "hide-cell",
     "scroll-input"
    ]
   },
   "outputs": [],
   "source": [
    "from __future__ import annotations\n",
    "\n",
    "from collections import defaultdict\n",
    "\n",
    "import jax.numpy as jnp\n",
    "import matplotlib.pyplot as plt\n",
    "import pandas as pd\n",
    "from IPython.display import Latex, Markdown\n",
    "from matplotlib import cm\n",
    "from tensorwaves.function.sympy import create_parametrized_function\n",
    "from tqdm.auto import tqdm\n",
    "\n",
    "from polarization import formulate_polarization\n",
    "from polarization.amplitude import DalitzPlotDecompositionBuilder\n",
    "from polarization.data import create_data_transformer, generate_meshgrid_sample\n",
    "from polarization.function import integrate_intensity, sub_intensity\n",
    "from polarization.io import mute_jax_warnings, perform_cached_doit\n",
    "from polarization.lhcb import ModelParameters, convert_dict_keys, load_three_body_decays\n",
    "\n",
    "mute_jax_warnings()\n",
    "\n",
    "reference_subsystem = 1\n",
    "dynamics_configurator = load_three_body_decays(\"../data/isobars.json\")\n",
    "decay = dynamics_configurator.decay\n",
    "amplitude_builder = DalitzPlotDecompositionBuilder(decay)\n",
    "amplitude_builder.dynamics_choices = dynamics_configurator\n",
    "model = amplitude_builder.formulate(reference_subsystem)"
   ]
  },
  {
   "cell_type": "markdown",
   "metadata": {
    "tags": []
   },
   "source": [
    "## Function creation"
   ]
  },
  {
   "cell_type": "code",
   "execution_count": null,
   "metadata": {},
   "outputs": [],
   "source": [
    "%%time\n",
    "polarization_exprs = formulate_polarization(amplitude_builder, reference_subsystem)\n",
    "unfolded_polarization_exprs = [\n",
    "    perform_cached_doit(expr.doit().xreplace(model.amplitudes))\n",
    "    for expr in tqdm(polarization_exprs, desc=\"Unfolding polarization expressions\")\n",
    "]\n",
    "unfolded_intensity_expr = perform_cached_doit(model.full_expression)"
   ]
  },
  {
   "cell_type": "markdown",
   "metadata": {},
   "source": [
    "This time, we do not {ref}`substitute certain parameters with their parameter defaults<polarization:Definition of free parameters>`, but lambdify the full expression, so that parameter values can be set for different models. Note that this makes lambdification slower."
   ]
  },
  {
   "cell_type": "code",
   "execution_count": null,
   "metadata": {
    "tags": []
   },
   "outputs": [],
   "source": [
    "%%time\n",
    "polarization_funcs = [\n",
    "    create_parametrized_function(\n",
    "        unfolded_polarization_exprs[xyz],\n",
    "        parameters=model.parameter_defaults,\n",
    "        backend=\"jax\",\n",
    "    )\n",
    "    for xyz in tqdm(range(3))\n",
    "]\n",
    "intensity_func = create_parametrized_function(\n",
    "    unfolded_intensity_expr,\n",
    "    parameters=model.parameter_defaults,\n",
    "    backend=\"jax\",\n",
    ")"
   ]
  },
  {
   "cell_type": "markdown",
   "metadata": {},
   "source": [
    "## Parameter bootstrapping"
   ]
  },
  {
   "cell_type": "code",
   "execution_count": null,
   "metadata": {},
   "outputs": [],
   "source": [
    "n_bootstraps = 200\n",
    "model_choice = \"Default amplitude model.\"\n",
    "allowed_model_titles = [\n",
    "    \"Default amplitude model.\",\n",
    "    \"Alternative amplitude model with K^*(892) with free mass and width.\",\n",
    "    \"Alternative amplitude model with Lz(1670) with free mass and width.\",\n",
    "    \"Alternative amplitude model with Lz(1690) with free mass and width.\",\n",
    "    \"Alternative amplitude model with Deltares^{++}(1232) with free mass and width.\",\n",
    "    \"Alternative amplitude model with Lz(1600), Deltares(1600)^{++},\"\n",
    "    \" Deltares(1700)^{++} with free mass and width.\",\n",
    "    \"Alternative amplitude model with K^*(700) with free mass and width.\",\n",
    "    \"Alternative amplitude model with K^*(1430) with free width.\",\n",
    "    \"Alternative amplitude model with free radial parameter d for the Lc resonance,\"\n",
    "    \" indicated as dLc.\",\n",
    "]\n",
    "model_parameters = ModelParameters(\n",
    "    \"../data/modelparameters.json\", decay, allowed_model_titles\n",
    ")\n",
    "bootstrap_parameters = convert_dict_keys(\n",
    "    model_parameters.create_parameter_distribution(model_choice, n_bootstraps, seed=0),\n",
    "    key_converter=str,\n",
    ")"
   ]
  },
  {
   "cell_type": "code",
   "execution_count": null,
   "metadata": {},
   "outputs": [],
   "source": [
    "resolution = 200\n",
    "transformer = create_data_transformer(model)\n",
    "phsp = generate_meshgrid_sample(decay, resolution)\n",
    "data = transformer(phsp)\n",
    "X = data[\"sigma1\"]\n",
    "Y = data[\"sigma2\"]"
   ]
  },
  {
   "cell_type": "code",
   "execution_count": null,
   "metadata": {
    "jupyter": {
     "source_hidden": true
    },
    "tags": [
     "hide-input"
    ]
   },
   "outputs": [],
   "source": [
    "resonances = [chain.resonance.name for chain in decay.chains]\n",
    "original_parameters = dict(intensity_func.parameters)\n",
    "bootstrap_intensities = []\n",
    "bootstrap_fit_fractions = defaultdict(list)\n",
    "bootstrap_polarizations = []\n",
    "for i in tqdm(\n",
    "    range(n_bootstraps),\n",
    "    desc=\"Computing polarizations and intensities for parameter combinations\",\n",
    "):\n",
    "    new_parameters = {k: v[i] for k, v in bootstrap_parameters.items()}\n",
    "    for func in polarization_funcs + [intensity_func]:\n",
    "        func.update_parameters(original_parameters)\n",
    "        func.update_parameters(new_parameters)\n",
    "    bootstrap_polarizations.append([func(data).real for func in polarization_funcs])\n",
    "    intensity_array = intensity_func(data)\n",
    "    bootstrap_intensities.append(intensity_array)\n",
    "    I_tot = integrate_intensity(intensity_array)\n",
    "    for resonance_name in resonances:\n",
    "        res_filter = resonance_name.replace(\"(\", R\"\\(\").replace(\")\", R\"\\)\")\n",
    "        I_sub = sub_intensity(intensity_func, data, [res_filter])\n",
    "        fit_fraction = I_sub / I_tot\n",
    "        bootstrap_fit_fractions[resonance_name].append(fit_fraction)"
   ]
  },
  {
   "cell_type": "code",
   "execution_count": null,
   "metadata": {
    "tags": [
     "hide-input"
    ]
   },
   "outputs": [],
   "source": [
    "bootstrap_intensities = jnp.array(bootstrap_intensities)\n",
    "bootstrap_polarizations = jnp.array(bootstrap_polarizations)\n",
    "bootstrap_polarizations = jnp.swapaxes(bootstrap_polarizations, 0, 1)\n",
    "bootstrap_polarization_norms = jnp.sqrt(jnp.sum(bootstrap_polarizations**2, axis=0))\n",
    "bootstrap_fit_fractions = {k: jnp.array(v) for k, v in bootstrap_fit_fractions.items()}"
   ]
  },
  {
   "cell_type": "code",
   "execution_count": null,
   "metadata": {},
   "outputs": [],
   "source": [
    "assert bootstrap_intensities.shape == (n_bootstraps, resolution, resolution)\n",
    "assert bootstrap_polarizations.shape == (3, n_bootstraps, resolution, resolution)\n",
    "assert bootstrap_polarization_norms.shape == (n_bootstraps, resolution, resolution)"
   ]
  },
  {
   "cell_type": "markdown",
   "metadata": {},
   "source": [
    "## Statistical uncertainties"
   ]
  },
  {
   "cell_type": "code",
   "execution_count": null,
   "metadata": {
    "tags": [
     "remove-input"
    ]
   },
   "outputs": [],
   "source": [
    "%config InlineBackend.figure_formats = ['png']"
   ]
  },
  {
   "cell_type": "code",
   "execution_count": null,
   "metadata": {
    "jupyter": {
     "source_hidden": true
    },
    "tags": [
     "hide-input",
     "full-width"
    ]
   },
   "outputs": [],
   "source": [
    "fig, axes = plt.subplots(\n",
    "    ncols=4,\n",
    "    nrows=2,\n",
    "    figsize=(15, 8),\n",
    "    gridspec_kw={\"width_ratios\": [1, 1, 1, 1.2]},\n",
    "    sharex=True,\n",
    "    sharey=True,\n",
    "    tight_layout=True,\n",
    ")\n",
    "fig.suptitle(R\"Polarization sensitivity $\\vec\\alpha$ (statistical)\")\n",
    "s1_label = R\"$\\sigma_1=m^2\\left(K\\pi\\right)$\"\n",
    "s2_label = R\"$\\sigma_2=m^2\\left(pK\\right)$\"\n",
    "axes[0, 0].set_ylabel(s2_label)\n",
    "axes[1, 0].set_ylabel(s2_label)\n",
    "\n",
    "alpha_mean_over_bootstrap = [\n",
    "    jnp.mean(bootstrap_polarization_norms, axis=0),\n",
    "    *jnp.mean(bootstrap_polarizations, axis=1),\n",
    "]\n",
    "alpha_std_over_bootstrap = [\n",
    "    jnp.std(bootstrap_polarization_norms, axis=0),\n",
    "    *jnp.std(bootstrap_polarizations, axis=1),\n",
    "]\n",
    "alpha_mean_over_bootstrap = jnp.array(alpha_mean_over_bootstrap)\n",
    "alpha_std_over_bootstrap = jnp.array(alpha_std_over_bootstrap)\n",
    "\n",
    "global_max_std = jnp.nanmax(alpha_std_over_bootstrap)\n",
    "for i in range(4):\n",
    "    if i != 0:\n",
    "        title = Rf\"$\\alpha_{'xyz'[i-1]}$\"\n",
    "    else:\n",
    "        title = R\"$\\left|\\vec\\alpha\\right|$\"\n",
    "    axes[0, i].set_title(title)\n",
    "\n",
    "    mesh = axes[0, i].pcolormesh(X, Y, alpha_mean_over_bootstrap[i], cmap=cm.RdYlGn_r)\n",
    "    mesh.set_clim(vmin=-1, vmax=+1)\n",
    "    if axes[0, i] is axes[0, -1]:\n",
    "        c_bar = fig.colorbar(mesh, ax=axes[0, i], pad=0.01)\n",
    "        c_bar.ax.set_ylabel(Rf\"$\\alpha$ averaged with {n_bootstraps} bootstraps\")\n",
    "        c_bar.ax.set_yticks([-1, 0, +1])\n",
    "        c_bar.ax.set_yticklabels([\"-1\", \"0\", \"+1\"])\n",
    "\n",
    "    mesh = axes[1, i].pcolormesh(X, Y, alpha_std_over_bootstrap[i])\n",
    "    mesh.set_clim(vmin=0, vmax=global_max_std)\n",
    "    axes[1, i].set_xlabel(s1_label)\n",
    "    if axes[1, i] is axes[1, -1]:\n",
    "        c_bar = fig.colorbar(mesh, ax=axes[1, i], pad=0.01)\n",
    "        c_bar.ax.set_ylabel(\"standard deviation\")\n",
    "plt.show()"
   ]
  },
  {
   "cell_type": "code",
   "execution_count": null,
   "metadata": {
    "jupyter": {
     "source_hidden": true
    },
    "tags": [
     "hide-input",
     "full-width"
    ]
   },
   "outputs": [],
   "source": [
    "fig, axes = plt.subplots(\n",
    "    ncols=4,\n",
    "    nrows=2,\n",
    "    figsize=(15, 8),\n",
    "    gridspec_kw={\"width_ratios\": [1, 1, 1, 1.2]},\n",
    "    sharex=True,\n",
    "    sharey=True,\n",
    "    tight_layout=True,\n",
    ")\n",
    "fig.suptitle(R\"$\\vec\\alpha \\cdot I$ distributions (statistical)\")\n",
    "axes[0, 0].set_ylabel(s2_label)\n",
    "axes[1, 0].set_ylabel(s2_label)\n",
    "\n",
    "alpha_times_I_mean = [\n",
    "    jnp.mean(bootstrap_polarization_norms * bootstrap_intensities, axis=0),\n",
    "    *jnp.mean(bootstrap_polarizations * bootstrap_intensities, axis=1),\n",
    "]\n",
    "alpha_times_I_std = [\n",
    "    jnp.std(bootstrap_polarization_norms * bootstrap_intensities, axis=0),\n",
    "    *jnp.std(bootstrap_polarizations * bootstrap_intensities, axis=1),\n",
    "]\n",
    "alpha_times_I_mean = jnp.array(alpha_times_I_mean)\n",
    "alpha_times_I_std = jnp.array(alpha_times_I_std)\n",
    "\n",
    "intensity_mean_over_bootstrap = jnp.mean(bootstrap_intensities, axis=0)\n",
    "global_max_mean = jnp.nanmax(jnp.abs(alpha_times_I_mean))\n",
    "global_max_std = jnp.nanmax(alpha_times_I_std / intensity_mean_over_bootstrap)\n",
    "for i in range(4):\n",
    "    if i != 0:\n",
    "        title = Rf\"$\\alpha_{'xyz'[i-1]}$\"\n",
    "    else:\n",
    "        title = R\"$\\left|\\vec\\alpha\\right|$\"\n",
    "    axes[0, i].set_title(title)\n",
    "    axes[1, i].set_xlabel(s1_label)\n",
    "\n",
    "    mesh = axes[0, i].pcolormesh(X, Y, alpha_times_I_mean[i], cmap=cm.RdYlGn_r)\n",
    "    mesh.set_clim(vmin=-global_max_mean, vmax=+global_max_mean)\n",
    "    if axes[0, i] is axes[0, -1]:\n",
    "        c_bar = fig.colorbar(mesh, ax=axes[0, i], pad=0.01)\n",
    "        c_bar.ax.set_ylabel(\n",
    "            Rf\"$\\alpha \\cdot I$ averaged with {n_bootstraps} bootstraps\"\n",
    "        )\n",
    "\n",
    "    mesh = axes[1, i].pcolormesh(\n",
    "        X, Y, alpha_times_I_std[i] / intensity_mean_over_bootstrap\n",
    "    )\n",
    "    mesh.set_clim(vmin=0, vmax=global_max_std)\n",
    "    if axes[1, i] is axes[1, -1]:\n",
    "        c_bar = fig.colorbar(mesh, ax=axes[1, i], pad=0.01)\n",
    "        c_bar.ax.set_ylabel(\"standard deviation / intensity\")\n",
    "plt.show()"
   ]
  },
  {
   "cell_type": "code",
   "execution_count": null,
   "metadata": {
    "jupyter": {
     "source_hidden": true
    },
    "tags": [
     "hide-input",
     "full-width"
    ]
   },
   "outputs": [],
   "source": [
    "fig, (ax1, ax2) = plt.subplots(ncols=2, figsize=(12, 6), sharey=True)\n",
    "fig.suptitle(\"Intensity distribution (statistical)\")\n",
    "ax1.set_xlabel(s1_label)\n",
    "ax2.set_xlabel(s1_label)\n",
    "ax1.set_ylabel(s2_label)\n",
    "\n",
    "intensity_std_over_bootstrap = jnp.std(bootstrap_intensities, axis=0)\n",
    "\n",
    "mesh = ax1.pcolormesh(X, Y, intensity_mean_over_bootstrap, cmap=cm.Reds)\n",
    "fig.colorbar(mesh, ax=ax1, pad=0.01)\n",
    "ax1.set_title(f\"average of {n_bootstraps} bootstraps\")\n",
    "\n",
    "Z = intensity_std_over_bootstrap / intensity_mean_over_bootstrap\n",
    "mesh = ax2.pcolormesh(X, Y, Z)\n",
    "fig.colorbar(mesh, ax=ax2, pad=0.01)\n",
    "ax2.set_title(\"standard deviation / intensity\")\n",
    "fig.tight_layout()\n",
    "plt.show()"
   ]
  },
  {
   "cell_type": "markdown",
   "metadata": {},
   "source": [
    "### Comparison with nominal values"
   ]
  },
  {
   "cell_type": "code",
   "execution_count": null,
   "metadata": {},
   "outputs": [],
   "source": [
    "nominal_parameters = convert_dict_keys(\n",
    "    model_parameters.get_parameter_values(model_choice),\n",
    "    key_converter=str,\n",
    ")\n",
    "for func in polarization_funcs + [intensity_func]:\n",
    "    func.update_parameters(original_parameters)\n",
    "    func.update_parameters(nominal_parameters)\n",
    "nominal_intensities = intensity_func(data)\n",
    "nominal_polarizations = jnp.array([func(data).real for func in polarization_funcs])\n",
    "nominal_polarization_norms = jnp.sqrt(jnp.sum(nominal_polarizations**2, axis=0))"
   ]
  },
  {
   "cell_type": "code",
   "execution_count": null,
   "metadata": {
    "jupyter": {
     "source_hidden": true
    },
    "tags": [
     "full-width",
     "hide-input"
    ]
   },
   "outputs": [],
   "source": [
    "fig, axes = plt.subplots(\n",
    "    ncols=4,\n",
    "    figsize=(15, 4.5),\n",
    "    gridspec_kw={\"width_ratios\": [1, 1, 1, 1.2]},\n",
    "    sharey=True,\n",
    "    tight_layout=True,\n",
    ")\n",
    "fig.suptitle(\"Comparison with nominal values\")\n",
    "axes[0].set_ylabel(s2_label)\n",
    "\n",
    "vmax = 5.0  # %\n",
    "for i in range(4):\n",
    "    if i != 0:\n",
    "        title = Rf\"$\\alpha_{'xyz'[i-1]}$\"\n",
    "        Z = jnp.abs(\n",
    "            (alpha_mean_over_bootstrap[i] - nominal_polarizations[i - 1])\n",
    "            / nominal_polarizations[i - 1]\n",
    "        )\n",
    "    else:\n",
    "        title = \"$I$\"\n",
    "        Z = 100 * jnp.abs(\n",
    "            (intensity_mean_over_bootstrap - nominal_intensities) / nominal_intensities\n",
    "        )\n",
    "    axes[i].set_title(title)\n",
    "\n",
    "    mesh = axes[i].pcolormesh(X, Y, Z, cmap=cm.Reds)\n",
    "    mesh.set_clim(vmin=0, vmax=vmax)\n",
    "    if axes[i] is axes[-1]:\n",
    "        c_bar = fig.colorbar(mesh, ax=axes[i], pad=0.01)\n",
    "        c_bar.ax.set_ylabel(\"difference with nominal value (%)\")\n",
    "\n",
    "plt.show()"
   ]
  },
  {
   "cell_type": "markdown",
   "metadata": {},
   "source": [
    "## Systematic uncertainties"
   ]
  },
  {
   "cell_type": "code",
   "execution_count": null,
   "metadata": {
    "jupyter": {
     "source_hidden": true
    },
    "tags": [
     "hide-cell"
    ]
   },
   "outputs": [],
   "source": [
    "systematic_intensities = []\n",
    "systematic_polarizations = []\n",
    "systematic_fit_fractions = defaultdict(list)\n",
    "for title in tqdm(allowed_model_titles):\n",
    "    new_parameters = convert_dict_keys(\n",
    "        model_parameters.get_parameter_values(title),\n",
    "        key_converter=str,\n",
    "    )\n",
    "    for func in polarization_funcs + [intensity_func]:\n",
    "        func.update_parameters(original_parameters)\n",
    "        func.update_parameters(new_parameters)\n",
    "    systematic_polarizations.append([func(data).real for func in polarization_funcs])\n",
    "    systematic_intensities.append(intensity_func(data))\n",
    "    I_tot = integrate_intensity(intensity_array)\n",
    "    for resonance_name in resonances:\n",
    "        res_filter = resonance_name.replace(\"(\", R\"\\(\").replace(\")\", R\"\\)\")\n",
    "        I_sub = sub_intensity(intensity_func, data, [res_filter])\n",
    "        fit_fraction = I_sub / I_tot\n",
    "        systematic_fit_fractions[resonance_name].append(fit_fraction)\n",
    "\n",
    "systematic_intensities = jnp.array(systematic_intensities)\n",
    "systematic_polarizations = jnp.array(systematic_polarizations)\n",
    "systematic_polarizations = jnp.swapaxes(systematic_polarizations, 0, 1)\n",
    "systematic_polarization_norms = jnp.sqrt(jnp.sum(systematic_polarizations**2, axis=0))\n",
    "systematic_fit_fractions = {\n",
    "    k: jnp.array(v) for k, v in systematic_fit_fractions.items()\n",
    "}"
   ]
  },
  {
   "cell_type": "code",
   "execution_count": null,
   "metadata": {
    "tags": []
   },
   "outputs": [],
   "source": [
    "n_models = len(allowed_model_titles)\n",
    "assert systematic_intensities.shape == (n_models, resolution, resolution)\n",
    "assert systematic_polarizations.shape == (3, n_models, resolution, resolution)\n",
    "assert systematic_polarization_norms.shape == (n_models, resolution, resolution)\n",
    "n_models"
   ]
  },
  {
   "cell_type": "code",
   "execution_count": null,
   "metadata": {
    "jupyter": {
     "source_hidden": true
    },
    "tags": [
     "hide-input",
     "full-width"
    ]
   },
   "outputs": [],
   "source": [
    "fig, axes = plt.subplots(\n",
    "    ncols=4,\n",
    "    nrows=2,\n",
    "    figsize=(15, 8),\n",
    "    gridspec_kw={\"width_ratios\": [1, 1, 1, 1.2]},\n",
    "    sharex=True,\n",
    "    sharey=True,\n",
    "    tight_layout=True,\n",
    ")\n",
    "fig.suptitle(R\"Polarization sensitivity $\\vec\\alpha$ (systematics)\")\n",
    "axes[0, 0].set_ylabel(s2_label)\n",
    "axes[1, 0].set_ylabel(s2_label)\n",
    "\n",
    "alpha_mean_over_models = [\n",
    "    jnp.mean(systematic_polarization_norms, axis=0),\n",
    "    *jnp.mean(systematic_polarizations, axis=1),\n",
    "]\n",
    "alpha_std_over_models = [\n",
    "    jnp.std(systematic_polarization_norms, axis=0),\n",
    "    *jnp.std(systematic_polarizations, axis=1),\n",
    "]\n",
    "alpha_mean_over_models = jnp.array(alpha_mean_over_models)\n",
    "alpha_std_over_models = jnp.array(alpha_std_over_models)\n",
    "\n",
    "global_max_std = jnp.nanmax(alpha_std_over_models)\n",
    "for i in range(4):\n",
    "    if i != 0:\n",
    "        title = Rf\"$\\alpha_{'xyz'[i-1]}$\"\n",
    "    else:\n",
    "        title = R\"$\\left|\\vec\\alpha\\right|$\"\n",
    "    axes[0, i].set_title(title)\n",
    "\n",
    "    mesh = axes[0, i].pcolormesh(X, Y, alpha_mean_over_models[i], cmap=cm.RdYlGn_r)\n",
    "    mesh.set_clim(vmin=-1, vmax=+1)\n",
    "    if axes[0, i] is axes[0, -1]:\n",
    "        c_bar = fig.colorbar(mesh, ax=axes[0, i], pad=0.01)\n",
    "        c_bar.ax.set_ylabel(Rf\"$\\alpha$ averaged with {n_models} models\")\n",
    "        c_bar.ax.set_yticks([-1, 0, +1])\n",
    "        c_bar.ax.set_yticklabels([\"-1\", \"0\", \"+1\"])\n",
    "\n",
    "    mesh = axes[1, i].pcolormesh(X, Y, alpha_std_over_models[i])\n",
    "    mesh.set_clim(vmin=0, vmax=global_max_std)\n",
    "    axes[1, i].set_xlabel(s1_label)\n",
    "    if axes[1, i] is axes[1, -1]:\n",
    "        c_bar = fig.colorbar(mesh, ax=axes[1, i], pad=0.01)\n",
    "        c_bar.ax.set_ylabel(\"standard deviation\")\n",
    "plt.show()"
   ]
  },
  {
   "cell_type": "code",
   "execution_count": null,
   "metadata": {
    "jupyter": {
     "source_hidden": true
    },
    "tags": [
     "hide-input",
     "full-width"
    ]
   },
   "outputs": [],
   "source": [
    "fig, axes = plt.subplots(\n",
    "    ncols=4,\n",
    "    nrows=2,\n",
    "    figsize=(15, 8),\n",
    "    gridspec_kw={\"width_ratios\": [1, 1, 1, 1.2]},\n",
    "    sharex=True,\n",
    "    sharey=True,\n",
    "    tight_layout=True,\n",
    ")\n",
    "fig.suptitle(R\"$\\vec\\alpha \\cdot I$ distributions (systematics)\")\n",
    "axes[0, 0].set_ylabel(s2_label)\n",
    "axes[1, 0].set_ylabel(s2_label)\n",
    "\n",
    "sys_alpha_times_I_mean = [\n",
    "    jnp.mean(systematic_polarization_norms * systematic_intensities, axis=0),\n",
    "    *jnp.mean(systematic_polarizations * systematic_intensities, axis=1),\n",
    "]\n",
    "sys_alpha_times_I_std = [\n",
    "    jnp.std(systematic_polarization_norms * systematic_intensities, axis=0),\n",
    "    *jnp.std(systematic_polarizations * systematic_intensities, axis=1),\n",
    "]\n",
    "sys_alpha_times_I_mean = jnp.array(sys_alpha_times_I_mean)\n",
    "sys_alpha_times_I_std = jnp.array(sys_alpha_times_I_std)\n",
    "\n",
    "intensity_mean_over_models = jnp.mean(systematic_intensities, axis=0)\n",
    "global_max_mean = jnp.nanmax(jnp.abs(sys_alpha_times_I_mean))\n",
    "global_max_std = jnp.nanmax(sys_alpha_times_I_std / intensity_mean_over_models)\n",
    "for i in range(4):\n",
    "    if i != 0:\n",
    "        title = Rf\"$\\alpha_{'xyz'[i-1]}$\"\n",
    "    else:\n",
    "        title = R\"$\\left|\\vec\\alpha\\right|$\"\n",
    "    axes[0, i].set_title(title)\n",
    "    axes[1, i].set_xlabel(s1_label)\n",
    "\n",
    "    mesh = axes[0, i].pcolormesh(X, Y, sys_alpha_times_I_mean[i], cmap=cm.RdYlGn_r)\n",
    "    mesh.set_clim(vmin=-global_max_mean, vmax=+global_max_mean)\n",
    "    if axes[0, i] is axes[0, -1]:\n",
    "        c_bar = fig.colorbar(mesh, ax=axes[0, i], pad=0.01)\n",
    "        c_bar.ax.set_ylabel(Rf\"$\\alpha \\cdot I$ averaged with {n_models} models\")\n",
    "\n",
    "    mesh = axes[1, i].pcolormesh(\n",
    "        X, Y, sys_alpha_times_I_std[i] / intensity_mean_over_models\n",
    "    )\n",
    "    mesh.set_clim(vmin=0, vmax=global_max_std)\n",
    "    if axes[1, i] is axes[1, -1]:\n",
    "        c_bar = fig.colorbar(mesh, ax=axes[1, i], pad=0.01)\n",
    "        c_bar.ax.set_ylabel(\"standard deviation / intensity\")\n",
    "plt.show()"
   ]
  },
  {
   "cell_type": "code",
   "execution_count": null,
   "metadata": {
    "jupyter": {
     "source_hidden": true
    },
    "tags": [
     "hide-input",
     "full-width"
    ]
   },
   "outputs": [],
   "source": [
    "fig, (ax1, ax2) = plt.subplots(ncols=2, figsize=(12, 6), sharey=True)\n",
    "fig.suptitle(\"Intensity distribution (systematics)\")\n",
    "ax1.set_xlabel(s1_label)\n",
    "ax2.set_xlabel(s1_label)\n",
    "ax1.set_ylabel(s2_label)\n",
    "\n",
    "intensity_std_over_models = jnp.std(systematic_intensities, axis=0)\n",
    "\n",
    "mesh = ax1.pcolormesh(X, Y, intensity_mean_over_models, cmap=cm.Reds)\n",
    "fig.colorbar(mesh, ax=ax1, pad=0.01)\n",
    "ax1.set_title(f\"average of {n_models} models\")\n",
    "\n",
    "Z = intensity_std_over_models / intensity_mean_over_models\n",
    "mesh = ax2.pcolormesh(X, Y, Z)\n",
    "fig.colorbar(mesh, ax=ax2, pad=0.01)\n",
    "ax2.set_title(\"standard deviation / intensity\")\n",
    "fig.tight_layout()\n",
    "plt.show()"
   ]
  },
  {
   "cell_type": "markdown",
   "metadata": {},
   "source": [
    "## Fit fractions"
   ]
  },
  {
   "cell_type": "code",
   "execution_count": null,
   "metadata": {
    "jupyter": {
     "source_hidden": true
    },
    "tags": []
   },
   "outputs": [],
   "source": [
    "src = r\"\"\"\n",
    "| Resonance | Fit Fraction (%) |\n",
    "|:----------|:----------------:|\n",
    "\"\"\"\n",
    "for resonance_name in resonances:\n",
    "    ff_models = 100 * systematic_fit_fractions[resonance_name]\n",
    "    ff_bootstraps = 100 * bootstrap_fit_fractions[resonance_name]\n",
    "    ff_nominal = f\"{ff_models[0]:.2f}\"\n",
    "    ff_stat = f\"{ff_bootstraps.std():.2f}\"\n",
    "    ff_syst_min = f\"{(ff_models[1:]-ff_models[0]).min():+.2f}\"\n",
    "    ff_syst_max = f\"{(ff_models[1:]-ff_models[0]).max():+.2f}\"\n",
    "    resonance_latex = resonance_name\n",
    "    resonance_latex = resonance_latex.replace(\"L\", R\"\\Lambda\")\n",
    "    resonance_latex = resonance_latex.replace(\"D\", R\"\\Delta\")\n",
    "    src += f\"| ${resonance_latex}$ | \"\n",
    "    src += Rf\"${ff_nominal} \\pm {ff_stat}_{{{ff_syst_min}}}^{{{ff_syst_max}}}$ |\" \"\\n\"\n",
    "Markdown(src)"
   ]
  },
  {
   "cell_type": "markdown",
   "metadata": {},
   "source": [
    "## Average polarizations"
   ]
  },
  {
   "cell_type": "code",
   "execution_count": null,
   "metadata": {},
   "outputs": [],
   "source": [
    "def compute_weighted_average(v: jnp.ndarray, weights: jnp.ndarray) -> jnp.ndarray:\n",
    "    return jnp.nansum(v * weights, axis=(-1, -2)) / jnp.nansum(weights, axis=(-1, -2))\n",
    "\n",
    "\n",
    "nominal_alpha_norm = compute_weighted_average(\n",
    "    nominal_polarization_norms,\n",
    "    weights=nominal_intensities,\n",
    ")\n",
    "nominal_alpha = compute_weighted_average(\n",
    "    nominal_polarizations,\n",
    "    weights=nominal_intensities,\n",
    ")\n",
    "\n",
    "alpha_norm_per_bootstrap = compute_weighted_average(\n",
    "    bootstrap_polarization_norms,\n",
    "    weights=bootstrap_intensities,\n",
    ")\n",
    "alpha_per_bootstrap = compute_weighted_average(\n",
    "    bootstrap_polarizations,\n",
    "    weights=bootstrap_intensities,\n",
    ")\n",
    "\n",
    "alpha_norm_per_model = compute_weighted_average(\n",
    "    systematic_polarization_norms,\n",
    "    weights=systematic_intensities,\n",
    ")\n",
    "alpha_per_model = compute_weighted_average(\n",
    "    systematic_polarizations,\n",
    "    weights=systematic_intensities,\n",
    ")"
   ]
  },
  {
   "cell_type": "code",
   "execution_count": null,
   "metadata": {
    "tags": []
   },
   "outputs": [],
   "source": [
    "alpha_norm_std = alpha_norm_per_bootstrap.std()\n",
    "alpha_std = alpha_per_bootstrap.std(axis=1)\n",
    "\n",
    "alpha_norm_sys_diff = alpha_norm_per_model - nominal_alpha_norm\n",
    "alpha_sys_diff = jnp.subtract(alpha_per_model.T, nominal_alpha)\n",
    "assert alpha_norm_sys_diff.shape == (n_models,)\n",
    "assert alpha_sys_diff.shape == (n_models, 3)\n",
    "alpha_norm_sys_min = alpha_norm_sys_diff.min()\n",
    "alpha_norm_sys_max = alpha_norm_sys_diff.max()\n",
    "alpha_sys_min = alpha_sys_diff.min(axis=0)\n",
    "alpha_sys_max = alpha_sys_diff.max(axis=0)"
   ]
  },
  {
   "cell_type": "code",
   "execution_count": null,
   "metadata": {
    "jupyter": {
     "source_hidden": true
    },
    "tags": [
     "hide-input"
    ]
   },
   "outputs": [],
   "source": [
    "def render_uncertainties(value, stat, sys_min, sys_max, plus: bool = True) -> str:\n",
    "    if plus:\n",
    "        val = f\"{1e3*value:+.1f}\"\n",
    "    else:\n",
    "        val = f\"{1e3*value:.1f}\"\n",
    "    stat = f\"{1e3*stat:.1f}\"\n",
    "    sys_min = f\"-{1e3*abs(sys_min):.1f}\"\n",
    "    sys_max = f\"+{1e3*abs(sys_max):.1f}\"\n",
    "    return (\n",
    "        Rf\"\\left({val} \\pm {stat}_{{{sys_min}}}^{{{sys_max}}} \\right) \\times 10^{{-3}}\"\n",
    "    )\n",
    "\n",
    "\n",
    "src = Rf\"\"\"\n",
    "\\begin{{array}}{{ccr}}\n",
    "  \\overline{{\\alpha_x}} & = & {render_uncertainties(nominal_alpha[0], alpha_std[0], alpha_sys_min[0], alpha_sys_max[0])} \\\\\n",
    "  \\overline{{\\alpha_y}} & = & {render_uncertainties(nominal_alpha[1], alpha_std[1], alpha_sys_min[1], alpha_sys_max[1])} \\\\\n",
    "  \\overline{{\\alpha_z}} & = & {render_uncertainties(nominal_alpha[2], alpha_std[2], alpha_sys_min[2], alpha_sys_max[2])} \\\\\n",
    "  \\overline{{\\left|\\vec{{\\alpha}}\\right|}} & = & {render_uncertainties(nominal_alpha_norm, alpha_norm_std, alpha_norm_sys_min, alpha_norm_sys_max, False)} \\\\\n",
    "\\end{{array}}\n",
    "\"\"\"\n",
    "Latex(src)"
   ]
  },
  {
   "cell_type": "markdown",
   "metadata": {},
   "source": [
    "Difference between each model and nominal value (computed with the default model):"
   ]
  },
  {
   "cell_type": "code",
   "execution_count": null,
   "metadata": {
    "jupyter": {
     "source_hidden": true
    },
    "tags": [
     "full-width",
     "hide-input"
    ]
   },
   "outputs": [],
   "source": [
    "pd.DataFrame(\n",
    "    {\n",
    "        title.strip(\".\"): (f\"{x:+.4f}\", f\"{y:+.4f}\", f\"{z:+.4f}\", f\"{norm:+.4f}\")\n",
    "        for title, (x, y, z), norm in zip(\n",
    "            allowed_model_titles, alpha_sys_diff, alpha_norm_sys_diff\n",
    "        )\n",
    "    }\n",
    ").transpose().rename(columns={0: \"ɑx\", 1: \"ɑy\", 2: \"ɑz\", 3: \"|ɑ|\"})"
   ]
  }
 ],
 "metadata": {
  "kernelspec": {
   "display_name": "Python 3 (ipykernel)",
   "language": "python",
   "name": "python3"
  },
  "language_info": {
   "codemirror_mode": {
    "name": "ipython",
    "version": 3
   },
   "file_extension": ".py",
   "mimetype": "text/x-python",
   "name": "python",
   "nbconvert_exporter": "python",
   "pygments_lexer": "ipython3",
   "version": "3.8.13"
  }
 },
 "nbformat": 4,
 "nbformat_minor": 4
}
