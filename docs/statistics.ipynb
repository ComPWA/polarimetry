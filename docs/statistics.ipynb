{
 "cells": [
  {
   "cell_type": "markdown",
   "metadata": {},
   "source": [
    "# Statistics"
   ]
  },
  {
   "cell_type": "code",
   "execution_count": null,
   "metadata": {
    "tags": [
     "remove-cell"
    ]
   },
   "outputs": [],
   "source": [
    "%%capture\n",
    "%run ./phase-space.ipynb"
   ]
  },
  {
   "cell_type": "markdown",
   "metadata": {},
   "source": [
    "```{autolink-concat}\n",
    "```"
   ]
  },
  {
   "cell_type": "code",
   "execution_count": null,
   "metadata": {
    "jupyter": {
     "source_hidden": true
    },
    "tags": [
     "hide-cell",
     "scroll-input"
    ]
   },
   "outputs": [],
   "source": [
    "# pyright: reportUndefinedVariable=false\n",
    "from __future__ import annotations\n",
    "\n",
    "import jax.numpy as jnp\n",
    "import matplotlib.pyplot as plt\n",
    "import numpy as np\n",
    "from matplotlib import cm\n",
    "from tensorwaves.function.sympy import create_parametrized_function\n",
    "from tqdm.notebook import tqdm\n",
    "\n",
    "from polarization import formulate_polarization\n",
    "from polarization.io import perform_cached_doit"
   ]
  },
  {
   "cell_type": "markdown",
   "metadata": {},
   "source": [
    "## Parameter loading"
   ]
  },
  {
   "cell_type": "code",
   "execution_count": null,
   "metadata": {},
   "outputs": [],
   "source": [
    "n_bootstraps = 200"
   ]
  },
  {
   "cell_type": "code",
   "execution_count": null,
   "metadata": {
    "jupyter": {
     "source_hidden": true
    },
    "tags": [
     "hide-input"
    ]
   },
   "outputs": [],
   "source": [
    "rng = np.random.default_rng(seed=0)\n",
    "\n",
    "\n",
    "def create_gaussian_distribution(\n",
    "    mean: complex | float, std: complex | float, size: int\n",
    "):\n",
    "    if isinstance(mean, complex) and isinstance(std, complex):\n",
    "        return (\n",
    "            rng.normal(mean.real, std.real, size)\n",
    "            + rng.normal(mean.imag, std.imag, size) * 1j\n",
    "        )\n",
    "    if isinstance(mean, (float, int)) and isinstance(std, (float, int)):\n",
    "        return rng.normal(mean, std, size)\n",
    "    raise NotImplementedError(\n",
    "        f\"Cannot create a Gaussian distribution for a mean/std type of {type(mean)},\"\n",
    "        f\" {type(std)}\"\n",
    "    )\n",
    "\n",
    "\n",
    "def smear_gaussian(\n",
    "    parameter_values: dict[str, complex | float],\n",
    "    parameter_uncertainties: dict[str, complex | float],\n",
    "    size: int,\n",
    ") -> dict[str, np.ndarray]:\n",
    "    value_distributions = {}\n",
    "    for k, mean in parameter_values.items():\n",
    "        std = parameter_uncertainties[k]\n",
    "        distribution = create_gaussian_distribution(mean, std, size)\n",
    "        value_distributions[k] = distribution\n",
    "    return value_distributions\n",
    "\n",
    "\n",
    "# fmt:off\n",
    "allowed_model_titles = [\n",
    "    \"Default amplitude model.\",\n",
    "    \"Alternative amplitude model with K^*(892) with free mass and width.\",\n",
    "    \"Alternative amplitude model with Lz(1670) with free mass and width.\",\n",
    "    \"Alternative amplitude model with Lz(1690) with free mass and width.\",\n",
    "    \"Alternative amplitude model with Deltares^{++}(1232) with free mass and width.\",\n",
    "    \"Alternative amplitude model with Lz(1600), Deltares(1600)^{++}, Deltares(1700)^{++} with free mass and width.\",\n",
    "    \"Alternative amplitude model with free Lz(1405) Flatt'e widths, indicated as G1 (pK channel) and G2 (Sigmapi).\",\n",
    "    \"Alternative amplitude model with Lz(1800) contribution added with mass and width from Ref.~cite{PDG2020}.\",\n",
    "    \"Alternative amplitude model with  Lz(1810) contribution added with mass and width from Ref.~cite{PDG2020}.\",\n",
    "    \"Alternative amplitude model with Deltares(1620)^{++} contribution added with free mass and width.\",\n",
    "    \"Alternative amplitude model in which a Relativistic Breit-Wigner is used for the K^*(700) contribution.\",\n",
    "    \"Alternative amplitude model with K^*(700) with free mass and width.\",\n",
    "    \"Alternative amplitude model with  K^*(1410) contribution added with mass and width from Ref.~cite{PDG2020}.\",\n",
    "    \"Alternative amplitude model in which a Relativistic Breit-Wigner is used for the K^*(1430) contribution.\",\n",
    "    \"Alternative amplitude model with K^*(1430) with free width.\",\n",
    "    \"Alternative amplitude model with an additional overall exponential form factor exp(-alpha q^2) multiplying Bugg lineshapes. The exponential parameter is indicated as ``alpha''.\",\n",
    "    \"Alternative amplitude model with free radial parameter d for the Lc resonance, indicated as dLc.\",\n",
    "    \"Alternative amplitude model obtained using LS couplings.\",\n",
    "]\n",
    "# fmt:on\n",
    "model_parameters: dict[str, dict[str, np.ndarray]] = {}\n",
    "for title in allowed_model_titles:\n",
    "    symbol_parameters = load_model_parameters(\n",
    "        \"../data/modelparameters.json\", decay, title, typ=\"value\"\n",
    "    )\n",
    "    symbol_uncertainties = load_model_parameters(\n",
    "        \"../data/modelparameters.json\", decay, title, typ=\"uncertainty\"\n",
    "    )\n",
    "    values = {str(k): v for k, v in symbol_parameters.items()}\n",
    "    uncertainties = {str(k): v for k, v in symbol_uncertainties.items()}\n",
    "    model_parameters[title] = smear_gaussian(values, uncertainties, size=n_bootstraps)"
   ]
  },
  {
   "cell_type": "markdown",
   "metadata": {
    "tags": []
   },
   "source": [
    "## Function creation"
   ]
  },
  {
   "cell_type": "code",
   "execution_count": null,
   "metadata": {},
   "outputs": [],
   "source": [
    "%%time\n",
    "polarization_exprs = formulate_polarization(amplitude_builder)\n",
    "unfolded_polarization_exprs = [\n",
    "    perform_cached_doit(expr.doit().xreplace(model.amplitudes))\n",
    "    for expr in tqdm(polarization_exprs, desc=\"Unfolding polarization expressions\")\n",
    "]\n",
    "unfolded_intensity_expr = perform_cached_doit(model.full_expression)"
   ]
  },
  {
   "cell_type": "markdown",
   "metadata": {},
   "source": [
    "This time, we do not {ref}`substitute certain parameters with their parameter defaults<polarization:Definition of free parameters>`, but lambdify the full expression, so that parameter values can be set for different models. Note that this makes lambdification slower."
   ]
  },
  {
   "cell_type": "code",
   "execution_count": null,
   "metadata": {
    "tags": []
   },
   "outputs": [],
   "source": [
    "%%time\n",
    "polarization_funcs = [\n",
    "    create_parametrized_function(\n",
    "        unfolded_polarization_exprs[xyz],\n",
    "        parameters=model.parameter_defaults,\n",
    "        backend=\"jax\",\n",
    "    )\n",
    "    for xyz in tqdm(range(3))\n",
    "]\n",
    "intensity_func = create_parametrized_function(\n",
    "    unfolded_intensity_expr,\n",
    "    parameters=model.parameter_defaults,\n",
    "    backend=\"jax\",\n",
    ")"
   ]
  },
  {
   "cell_type": "markdown",
   "metadata": {},
   "source": [
    "## Statistical uncertainties"
   ]
  },
  {
   "cell_type": "code",
   "execution_count": null,
   "metadata": {},
   "outputs": [],
   "source": [
    "X, Y, data, phsp_filter = generate_uniform_phsp(resolution=200)"
   ]
  },
  {
   "cell_type": "code",
   "execution_count": null,
   "metadata": {
    "jupyter": {
     "source_hidden": true
    },
    "tags": []
   },
   "outputs": [],
   "source": [
    "model_number = 0\n",
    "model_pars = list(model_parameters.values())[model_number]\n",
    "original_parameters = dict(intensity_func.parameters)\n",
    "polarization_values = []\n",
    "for i in tqdm(\n",
    "    range(n_bootstraps), desc=\"Computing polarizations for parameter combinations\"\n",
    "):\n",
    "    new_parameters = {k: v[i] for k, v in model_pars.items()}\n",
    "    for func in polarization_funcs:\n",
    "        func.update_parameters(original_parameters)\n",
    "        func.update_parameters(new_parameters)\n",
    "    polarization_values.append([func(data).real for func in polarization_funcs])\n",
    "polarization_values = jnp.array(polarization_values)"
   ]
  },
  {
   "cell_type": "code",
   "execution_count": null,
   "metadata": {
    "tags": [
     "remove-input"
    ]
   },
   "outputs": [],
   "source": [
    "%config InlineBackend.figure_formats = ['png']"
   ]
  },
  {
   "cell_type": "code",
   "execution_count": null,
   "metadata": {
    "jupyter": {
     "source_hidden": true
    },
    "tags": [
     "hide-input",
     "full-width"
    ]
   },
   "outputs": [],
   "source": [
    "fig, axes = plt.subplots(\n",
    "    ncols=3,\n",
    "    nrows=2,\n",
    "    figsize=(15, 10),\n",
    "    gridspec_kw={\"width_ratios\": [1, 1, 1.2]},\n",
    "    sharex=True,\n",
    "    sharey=True,\n",
    "    tight_layout=True,\n",
    ")\n",
    "s1_label = R\"$\\sigma_1=m^2\\left(K\\pi\\right)$\"\n",
    "s2_label = R\"$\\sigma_2=m^2\\left(pK\\right)$\"\n",
    "axes[0, 0].set_ylabel(s2_label)\n",
    "axes[1, 0].set_ylabel(s2_label)\n",
    "Z_mean = jnp.mean(polarization_values, axis=0)\n",
    "Z_std = jnp.std(polarization_values, axis=0)\n",
    "Z_std_max = jnp.nanmax(Z_std)\n",
    "for i in range(3):\n",
    "    axes[0, i].set_title(Rf\"$\\alpha_{'xyz'[i]}$\")\n",
    "    mesh = axes[0, i].pcolormesh(X, Y, Z_mean[i], cmap=cm.coolwarm)\n",
    "    mesh.set_clim(vmin=-1, vmax=+1)\n",
    "    if axes[0, i] is axes[0, -1]:\n",
    "        c_bar = fig.colorbar(mesh, ax=axes[0, i], pad=0.01)\n",
    "        c_bar.ax.set_ylabel(Rf\"$\\alpha$ value averaged with {n_bootstraps} bootstraps\")\n",
    "    mesh = axes[1, i].pcolormesh(X, Y, Z_std[i], cmap=cm.Reds)\n",
    "    mesh.set_clim(vmin=0, vmax=+Z_std_max)\n",
    "    axes[1, i].set_xlabel(s1_label)\n",
    "    if axes[1, i] is axes[1, -1]:\n",
    "        c_bar = fig.colorbar(mesh, ax=axes[1, i], pad=0.01)\n",
    "        c_bar.ax.set_ylabel(\"standard deviation\")\n",
    "plt.show()"
   ]
  },
  {
   "cell_type": "markdown",
   "metadata": {},
   "source": [
    "## Systematic uncertainties"
   ]
  }
 ],
 "metadata": {
  "kernelspec": {
   "display_name": "Python 3 (ipykernel)",
   "language": "python",
   "name": "python3"
  },
  "language_info": {
   "codemirror_mode": {
    "name": "ipython",
    "version": 3
   },
   "file_extension": ".py",
   "mimetype": "text/x-python",
   "name": "python",
   "nbconvert_exporter": "python",
   "pygments_lexer": "ipython3",
   "version": "3.8.13"
  }
 },
 "nbformat": 4,
 "nbformat_minor": 4
}
