{
 "cells": [
  {
   "cell_type": "markdown",
   "metadata": {},
   "source": [
    "# Phase space sample"
   ]
  },
  {
   "cell_type": "code",
   "execution_count": null,
   "metadata": {
    "tags": [
     "remove-cell"
    ]
   },
   "outputs": [],
   "source": [
    "%%capture\n",
    "%run ./amplitude-model.ipynb"
   ]
  },
  {
   "cell_type": "markdown",
   "metadata": {},
   "source": [
    "```{autolink-concat}\n",
    "```"
   ]
  },
  {
   "cell_type": "code",
   "execution_count": null,
   "metadata": {
    "jupyter": {
     "source_hidden": true
    },
    "tags": [
     "hide-cell",
     "scroll-input"
    ]
   },
   "outputs": [],
   "source": [
    "# pyright: reportUndefinedVariable=false\n",
    "import logging\n",
    "\n",
    "import matplotlib.pyplot as plt\n",
    "import numpy as np\n",
    "import sympy as sp\n",
    "from ampform.kinematics.phasespace import Kallen, is_within_phasespace\n",
    "from tensorwaves.data import (\n",
    "    IntensityDistributionGenerator,\n",
    "    NumpyDomainGenerator,\n",
    "    NumpyUniformRNG,\n",
    ")\n",
    "from tensorwaves.data.transform import SympyDataTransformer\n",
    "from tensorwaves.function.sympy import create_function\n",
    "\n",
    "from polarization.io import display_latex\n",
    "\n",
    "JAX_LOGGER = logging.getLogger(\"absl\")\n",
    "JAX_LOGGER.setLevel(logging.ERROR)"
   ]
  },
  {
   "cell_type": "code",
   "execution_count": null,
   "metadata": {
    "jupyter": {
     "source_hidden": true
    },
    "tags": [
     "hide-input"
    ]
   },
   "outputs": [],
   "source": [
    "m0, m1, m2, m3 = sp.symbols(\"m:4\", nonnegative=True)\n",
    "σ1, σ2, σ3 = sp.symbols(\"sigma1:4\", nonnegative=True)\n",
    "σ3_expr = m0**2 + m1**2 + m2**2 + m3**2 - σ1 - σ2\n",
    "display_latex({σ3: σ3_expr})"
   ]
  },
  {
   "cell_type": "code",
   "execution_count": null,
   "metadata": {
    "tags": [
     "hide-input"
    ]
   },
   "outputs": [],
   "source": [
    "is_within_phasespace(σ1, σ2, m0, m1, m2, m3)"
   ]
  },
  {
   "cell_type": "code",
   "execution_count": null,
   "metadata": {
    "jupyter": {
     "source_hidden": true
    },
    "tags": [
     "hide-input"
    ]
   },
   "outputs": [],
   "source": [
    "masses = {\n",
    "    s: model.parameter_defaults[s]\n",
    "    for s in sorted(model.parameter_defaults, key=str)\n",
    "    if s in {m0, m1, m2, m3}\n",
    "}\n",
    "display_latex(masses)"
   ]
  },
  {
   "cell_type": "code",
   "execution_count": null,
   "metadata": {
    "jupyter": {
     "source_hidden": true
    },
    "tags": []
   },
   "outputs": [],
   "source": [
    "in_phsp_expr = is_within_phasespace(σ1, σ2, m0, m1, m2, m3).doit()\n",
    "in_phsp_expr = in_phsp_expr.subs(σ3, σ3_expr).subs(masses)\n",
    "assert in_phsp_expr.free_symbols == {σ1, σ2}, in_phsp_expr.free_symbols\n",
    "in_phsp = create_function(in_phsp_expr, backend=\"numpy\")"
   ]
  },
  {
   "cell_type": "code",
   "execution_count": null,
   "metadata": {
    "tags": [
     "remove-output"
    ]
   },
   "outputs": [],
   "source": [
    "m0_val, m1_val, m2_val, m3_val = masses.values()\n",
    "σ1_min = (m2_val + m3_val) ** 2\n",
    "σ1_max = (m0_val - m1_val) ** 2\n",
    "σ2_min = (m1_val + m3_val) ** 2\n",
    "σ2_max = (m0_val - m2_val) ** 2"
   ]
  },
  {
   "cell_type": "code",
   "execution_count": null,
   "metadata": {
    "tags": []
   },
   "outputs": [],
   "source": [
    "kinematic_variables = {\n",
    "    symbol: expression.doit().subs(masses)\n",
    "    for symbol, expression in model.variables.items()\n",
    "}\n",
    "kinematic_variables.update({s: s for s in [σ1, σ2, σ3]})  # include identity\n",
    "transformer = SympyDataTransformer.from_sympy(kinematic_variables, backend=\"jax\")"
   ]
  },
  {
   "cell_type": "code",
   "execution_count": null,
   "metadata": {
    "tags": [
     "remove-output"
    ]
   },
   "outputs": [],
   "source": [
    "def generate_uniform_phsp(resolution: int):\n",
    "    x = np.linspace(σ1_min, σ1_max, num=resolution)\n",
    "    y = np.linspace(σ2_min, σ2_max, num=resolution)\n",
    "    compute_third_mandelstam = create_function(σ3_expr.subs(masses), backend=\"jax\")\n",
    "    X, Y = np.meshgrid(x, y)\n",
    "    Z = compute_third_mandelstam.function(X, Y)\n",
    "    σ_arrays = {\"sigma1\": X, \"sigma2\": Y, \"sigma3\": Z}\n",
    "    data = transformer(σ_arrays)\n",
    "    phsp = in_phsp(σ_arrays)\n",
    "    return X, Y, data, phsp"
   ]
  },
  {
   "cell_type": "code",
   "execution_count": null,
   "metadata": {},
   "outputs": [],
   "source": [
    "def generate_phasespace_sample(n_events: int, seed=None):\n",
    "    in_phsp_expr = (\n",
    "        is_within_phasespace(σ1, σ2, m0, m1, m2, m3, outside_value=0)\n",
    "        .doit()\n",
    "        .subs(σ3, σ3_expr)\n",
    "        .subs(masses)\n",
    "    )\n",
    "    phsp_filter = create_function(in_phsp_expr, backend=\"numpy\")\n",
    "    rng = NumpyUniformRNG(seed)\n",
    "    domain_generator = NumpyDomainGenerator(\n",
    "        boundaries={\n",
    "            \"sigma1\": (σ1_min, σ1_max),\n",
    "            \"sigma2\": (σ2_min, σ2_max),\n",
    "        }\n",
    "    )\n",
    "    phsp_generator = IntensityDistributionGenerator(domain_generator, phsp_filter)\n",
    "    phsp = phsp_generator.generate(n_events, rng)\n",
    "    compute_third_mandelstam = create_function(σ3_expr.subs(masses), backend=\"numpy\")\n",
    "    phsp[\"sigma3\"] = compute_third_mandelstam(phsp)\n",
    "    return phsp"
   ]
  },
  {
   "cell_type": "code",
   "execution_count": null,
   "metadata": {
    "tags": [
     "remove-input"
    ]
   },
   "outputs": [],
   "source": [
    "%config InlineBackend.figure_formats = ['svg']"
   ]
  },
  {
   "cell_type": "code",
   "execution_count": null,
   "metadata": {
    "jupyter": {
     "source_hidden": true
    },
    "tags": [
     "remove-input"
    ]
   },
   "outputs": [],
   "source": [
    "def __plot_phsp():\n",
    "    X, Y, _, phsp = generate_uniform_phsp(resolution=500)\n",
    "    phsp = np.nan_to_num(phsp)\n",
    "    _, ax = plt.subplots(figsize=(4, 4))\n",
    "    ax.set_xlabel(R\"$\\sigma_1$\")\n",
    "    ax.set_ylabel(R\"$\\sigma_2$\")\n",
    "    ax.set_xticks([])\n",
    "    ax.set_yticks([])\n",
    "    mesh = ax.contour(X, Y, phsp, colors=\"black\")\n",
    "    contour = mesh.collections[0]\n",
    "    contour.set_facecolor(\"lightgray\")\n",
    "    plt.show()\n",
    "\n",
    "\n",
    "__plot_phsp()"
   ]
  }
 ],
 "metadata": {
  "kernelspec": {
   "display_name": "Python 3 (ipykernel)",
   "language": "python",
   "name": "python3"
  },
  "language_info": {
   "codemirror_mode": {
    "name": "ipython",
    "version": 3
   },
   "file_extension": ".py",
   "mimetype": "text/x-python",
   "name": "python",
   "nbconvert_exporter": "python",
   "pygments_lexer": "ipython3",
   "version": "3.8.13"
  }
 },
 "nbformat": 4,
 "nbformat_minor": 4
}
