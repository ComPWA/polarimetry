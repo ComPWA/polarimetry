{
 "cells": [
  {
   "cell_type": "markdown",
   "metadata": {},
   "source": [
    "# Phase space sample"
   ]
  },
  {
   "cell_type": "code",
   "execution_count": null,
   "metadata": {
    "tags": [
     "remove-cell"
    ]
   },
   "outputs": [],
   "source": [
    "%%capture\n",
    "%run ./amplitude-model.ipynb"
   ]
  },
  {
   "cell_type": "markdown",
   "metadata": {},
   "source": [
    "```{autolink-concat}\n",
    "```"
   ]
  },
  {
   "cell_type": "code",
   "execution_count": null,
   "metadata": {
    "jupyter": {
     "source_hidden": true
    },
    "tags": [
     "hide-cell",
     "scroll-input"
    ]
   },
   "outputs": [],
   "source": [
    "# pyright: reportUndefinedVariable=false\n",
    "import matplotlib.pyplot as plt\n",
    "import numpy as np\n",
    "import sympy as sp\n",
    "from tensorwaves.data.transform import SympyDataTransformer\n",
    "from tensorwaves.function.sympy import create_function\n",
    "\n",
    "from polarization.dynamics import Källén\n",
    "from polarization.io import display_latex"
   ]
  },
  {
   "cell_type": "code",
   "execution_count": null,
   "metadata": {
    "jupyter": {
     "source_hidden": true
    },
    "tags": [
     "hide-input"
    ]
   },
   "outputs": [],
   "source": [
    "σ3_expr = m0**2 + m1**2 + m2**2 + m3**2 - σ1 - σ2\n",
    "display_latex({σ3: σ3_expr})"
   ]
  },
  {
   "cell_type": "code",
   "execution_count": null,
   "metadata": {
    "jupyter": {
     "source_hidden": true
    },
    "tags": [
     "hide-input"
    ]
   },
   "outputs": [],
   "source": [
    "def kibble_function(σ1, σ2):\n",
    "    return Källén(\n",
    "        Källén(σ2, m2**2, m0**2),\n",
    "        Källén(σ3, m3**2, m0**2),\n",
    "        Källén(σ1, m1**2, m0**2),\n",
    "    )\n",
    "\n",
    "\n",
    "def is_within_phsp(σ1, σ2, non_phsp_value=sp.nan):\n",
    "    return sp.Piecewise(\n",
    "        (1, sp.LessThan(kibble_function(σ1, σ2), 0)),\n",
    "        (non_phsp_value, True),\n",
    "    )\n",
    "\n",
    "\n",
    "is_within_phsp(σ1, σ2)"
   ]
  },
  {
   "cell_type": "code",
   "execution_count": null,
   "metadata": {},
   "outputs": [],
   "source": [
    "in_phsp_expr = is_within_phsp(σ1, σ2).subs(σ3, σ3_expr).subs(masses).doit()\n",
    "assert in_phsp_expr.free_symbols == {σ1, σ2}\n",
    "in_phsp = create_function(in_phsp_expr, backend=\"numpy\")"
   ]
  },
  {
   "cell_type": "code",
   "execution_count": null,
   "metadata": {
    "tags": [
     "remove-output"
    ]
   },
   "outputs": [],
   "source": [
    "m0_val, m1_val, m2_val, m3_val = masses.values()\n",
    "σ1_min = (m2_val + m3_val) ** 2\n",
    "σ1_max = (m0_val - m1_val) ** 2\n",
    "σ2_min = (m1_val + m3_val) ** 2\n",
    "σ2_max = (m0_val - m2_val) ** 2"
   ]
  },
  {
   "cell_type": "code",
   "execution_count": null,
   "metadata": {
    "tags": []
   },
   "outputs": [],
   "source": [
    "kinematic_variables = {\n",
    "    symbol: expression.doit().subs(masses) for symbol, expression in angles.items()\n",
    "}\n",
    "kinematic_variables.update({s: s for s in [σ1, σ2, σ3]})  # include identity\n",
    "transformer = SympyDataTransformer.from_sympy(kinematic_variables, backend=\"jax\")"
   ]
  },
  {
   "cell_type": "code",
   "execution_count": null,
   "metadata": {
    "tags": [
     "remove-output"
    ]
   },
   "outputs": [],
   "source": [
    "def generate_uniform_phsp(resolution: int):\n",
    "    x = np.linspace(σ1_min, σ1_max, num=resolution)\n",
    "    y = np.linspace(σ2_min, σ2_max, num=resolution)\n",
    "    compute_third_mandelstam = create_function(σ3_expr.subs(masses), backend=\"jax\")\n",
    "    X, Y = np.meshgrid(x, y)\n",
    "    Z = compute_third_mandelstam.function(X, Y)\n",
    "    σ_arrays = {\"sigma1\": X, \"sigma2\": Y, \"sigma3\": Z}\n",
    "    data = transformer(σ_arrays)\n",
    "    phsp = in_phsp(σ_arrays)\n",
    "    return X, Y, data, phsp"
   ]
  },
  {
   "cell_type": "code",
   "execution_count": null,
   "metadata": {
    "tags": [
     "remove-input"
    ]
   },
   "outputs": [],
   "source": [
    "%config InlineBackend.figure_formats = ['svg']"
   ]
  },
  {
   "cell_type": "code",
   "execution_count": null,
   "metadata": {
    "jupyter": {
     "source_hidden": true
    },
    "tags": [
     "remove-input"
    ]
   },
   "outputs": [],
   "source": [
    "def __plot_phsp():\n",
    "    X, Y, _, phsp = generate_uniform_phsp(resolution=500)\n",
    "    phsp = np.nan_to_num(phsp)\n",
    "    _, ax = plt.subplots(figsize=(4, 4))\n",
    "    ax.set_xlabel(R\"$\\sigma_1$\")\n",
    "    ax.set_ylabel(R\"$\\sigma_2$\")\n",
    "    ax.set_xticks([])\n",
    "    ax.set_yticks([])\n",
    "    mesh = ax.contour(X, Y, phsp, colors=\"black\")\n",
    "    contour = mesh.collections[0]\n",
    "    contour.set_facecolor(\"lightgray\")\n",
    "    plt.show()\n",
    "\n",
    "\n",
    "__plot_phsp()"
   ]
  }
 ],
 "metadata": {
  "kernelspec": {
   "display_name": "Python 3 (ipykernel)",
   "language": "python",
   "name": "python3"
  },
  "language_info": {
   "codemirror_mode": {
    "name": "ipython",
    "version": 3
   },
   "file_extension": ".py",
   "mimetype": "text/x-python",
   "name": "python",
   "nbconvert_exporter": "python",
   "pygments_lexer": "ipython3",
   "version": "3.8.13"
  }
 },
 "nbformat": 4,
 "nbformat_minor": 4
}
