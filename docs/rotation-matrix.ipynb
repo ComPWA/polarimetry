{
 "cells": [
  {
   "cell_type": "markdown",
   "metadata": {},
   "source": [
    "# Explicit rotation matrix"
   ]
  },
  {
   "cell_type": "markdown",
   "metadata": {},
   "source": [
    "```{autolink-concat}\n",
    "```"
   ]
  },
  {
   "cell_type": "code",
   "execution_count": 23,
   "metadata": {
    "jupyter": {
     "source_hidden": true
    },
    "tags": [
     "hide-cell",
     "scroll-input"
    ]
   },
   "outputs": [],
   "source": [
    "import sympy as sp\n",
    "import numpy as np"
   ]
  },
  {
   "cell_type": "code",
   "execution_count": 21,
   "metadata": {},
   "outputs": [],
   "source": [
    "α = sp.Symbol(r\"alpha\")\n",
    "θ = sp.Symbol(r\"theta\")\n",
    "ϕ = sp.Symbol(r\"phi\")\n",
    "χ = sp.Symbol(r\"chi\")\n"
   ]
  },
  {
   "cell_type": "code",
   "execution_count": 28,
   "metadata": {},
   "outputs": [],
   "source": [
    "def Rz(α) :\n",
    "    return sp.Matrix(\n",
    "        [[sp.cos(α), -sp.sin(α), 0],\n",
    "        [sp.sin(α), sp.cos(α), 0],\n",
    "        [0,0,1]])\n",
    "#\n",
    "def Ry(α) :\n",
    "    return sp.Matrix(\n",
    "        [[sp.cos(α), 0, sp.sin(α)],\n",
    "        [0,1,0],\n",
    "        [-sp.sin(α),0,sp.cos(α)]])        "
   ]
  },
  {
   "cell_type": "code",
   "execution_count": 38,
   "metadata": {},
   "outputs": [
    {
     "data": {
      "text/latex": [
       "$\\displaystyle \\left[\\begin{matrix}\\cos{\\left(\\chi \\right)} & 0 & \\sin{\\left(\\chi \\right)}\\\\0 & 1 & 0\\\\- \\sin{\\left(\\chi \\right)} & 0 & \\cos{\\left(\\chi \\right)}\\end{matrix}\\right]$"
      ],
      "text/plain": [
       "Matrix([\n",
       "[ cos(chi), 0, sin(chi)],\n",
       "[        0, 1,        0],\n",
       "[-sin(chi), 0, cos(chi)]])"
      ]
     },
     "execution_count": 38,
     "metadata": {},
     "output_type": "execute_result"
    }
   ],
   "source": [
    "Ry(χ)"
   ]
  },
  {
   "cell_type": "code",
   "execution_count": 45,
   "metadata": {},
   "outputs": [],
   "source": [
    "R = Rz(ϕ) @ Ry(θ) @ Rz(χ)"
   ]
  },
  {
   "cell_type": "code",
   "execution_count": 46,
   "metadata": {},
   "outputs": [
    {
     "name": "stdout",
     "output_type": "stream",
     "text": [
      "\\left[\\begin{matrix}- \\sin{\\left(\\chi \\right)} \\sin{\\left(\\phi \\right)} + \\cos{\\left(\\chi \\right)} \\cos{\\left(\\phi \\right)} \\cos{\\left(\\theta \\right)} & - \\sin{\\left(\\chi \\right)} \\cos{\\left(\\phi \\right)} \\cos{\\left(\\theta \\right)} - \\sin{\\left(\\phi \\right)} \\cos{\\left(\\chi \\right)} & \\sin{\\left(\\theta \\right)} \\cos{\\left(\\phi \\right)}\\\\\\sin{\\left(\\chi \\right)} \\cos{\\left(\\phi \\right)} + \\sin{\\left(\\phi \\right)} \\cos{\\left(\\chi \\right)} \\cos{\\left(\\theta \\right)} & - \\sin{\\left(\\chi \\right)} \\sin{\\left(\\phi \\right)} \\cos{\\left(\\theta \\right)} + \\cos{\\left(\\chi \\right)} \\cos{\\left(\\phi \\right)} & \\sin{\\left(\\phi \\right)} \\sin{\\left(\\theta \\right)}\\\\- \\sin{\\left(\\theta \\right)} \\cos{\\left(\\chi \\right)} & \\sin{\\left(\\chi \\right)} \\sin{\\left(\\theta \\right)} & \\cos{\\left(\\theta \\right)}\\end{matrix}\\right]\n"
     ]
    }
   ],
   "source": [
    "sp.print_latex(R)"
   ]
  },
  {
   "cell_type": "code",
   "execution_count": null,
   "metadata": {},
   "outputs": [],
   "source": []
  }
 ],
 "metadata": {
  "kernelspec": {
   "display_name": "Python 3.8.13 ('polarization')",
   "language": "python",
   "name": "python3"
  },
  "language_info": {
   "codemirror_mode": {
    "name": "ipython",
    "version": 3
   },
   "file_extension": ".py",
   "mimetype": "text/x-python",
   "name": "python",
   "nbconvert_exporter": "python",
   "pygments_lexer": "ipython3",
   "version": "3.8.13"
  },
  "vscode": {
   "interpreter": {
    "hash": "d54b55e42db0e71aa222cee01fa24af6ccae1fbbd4d24a4dc92ca39f5243715f"
   }
  }
 },
 "nbformat": 4,
 "nbformat_minor": 4
}
