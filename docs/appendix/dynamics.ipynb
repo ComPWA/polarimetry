{
 "cells": [
  {
   "cell_type": "markdown",
   "metadata": {},
   "source": [
    "# Dynamics lineshapes"
   ]
  },
  {
   "cell_type": "code",
   "execution_count": null,
   "metadata": {
    "jupyter": {
     "source_hidden": true
    },
    "mystnb": {
     "code_prompt_show": "Import Python libraries"
    },
    "tags": [
     "hide-cell",
     "scroll-input"
    ]
   },
   "outputs": [],
   "source": [
    "import matplotlib.pyplot as plt\n",
    "import numpy as np\n",
    "import sympy as sp\n",
    "from ampform.kinematics.phasespace import Kallen\n",
    "from ampform_dpd import DynamicsBuilder, create_mass_symbol_mapping\n",
    "from ampform_dpd.decay import ThreeBodyDecay\n",
    "from ampform_dpd.dynamics import (\n",
    "    BlattWeisskopf,\n",
    "    BreitWignerMinL,\n",
    "    BuggBreitWigner,\n",
    "    EnergyDependentWidth,\n",
    "    FlattéSWave,\n",
    "    P,\n",
    "    Q,\n",
    ")\n",
    "from ampform_dpd.dynamics.builder import get_mandelstam_s\n",
    "from ampform_dpd.io import cached\n",
    "from matplotlib_inline.backend_inline import set_matplotlib_formats\n",
    "\n",
    "from polarimetry.io import (\n",
    "    display_doit,\n",
    "    display_latex,\n",
    "    mute_ampform_warnings,\n",
    "    mute_jax_warnings,\n",
    ")\n",
    "from polarimetry.lhcb import load_model_parameters, load_three_body_decay\n",
    "from polarimetry.lhcb.dynamics import (\n",
    "    formulate_breit_wigner,\n",
    "    formulate_bugg_breit_wigner,\n",
    "    formulate_exponential_bugg_breit_wigner,\n",
    "    formulate_flatte_1405,\n",
    ")\n",
    "from polarimetry.lhcb.particle import load_particles\n",
    "from polarimetry.lhcb.symbol import create_meson_radius_symbol\n",
    "from polarimetry.plot import use_mpl_latex_fonts\n",
    "\n",
    "\n",
    "def load_parameters(\n",
    "    decay: ThreeBodyDecay, model_id: int | str = 0\n",
    ") -> dict[sp.Symbol, complex | float]:\n",
    "    return load_model_parameters(\n",
    "        decay=decay,\n",
    "        filename=\"../../data/model-definitions.yaml\",\n",
    "        model_id=model_id,\n",
    "        particle_definitions=particles,\n",
    "    )\n",
    "\n",
    "\n",
    "particles = load_particles(\"../../data/particle-definitions.yaml\")\n",
    "ls_model_id = \"Alternative amplitude model obtained using LS couplings\"\n",
    "Sigma = particles[\"Sigma-\"]\n",
    "K = particles[\"K-\"]\n",
    "Lambda_c = particles[\"Lambda_c+\"]\n",
    "p = particles[\"p\"]\n",
    "pi = particles[\"pi+\"]\n",
    "mute_jax_warnings()\n",
    "mute_ampform_warnings()\n",
    "set_matplotlib_formats(\"svg\")\n",
    "use_mpl_latex_fonts()"
   ]
  },
  {
   "cell_type": "markdown",
   "metadata": {},
   "source": [
    "In the following, we consider a decay $0 \\xrightarrow{L} (r \\xrightarrow{\\ell} ij)k$, where the resonance&nbsp;$r$ is produced at the **production vertex** with angular momentum $L$ and decays at the **decay vertex** with angular momentum $\\ell$. The meson radii for both vertices are denoted $R_\\mathrm{prod}$ and $R_\\mathrm{dec}$, respectively."
   ]
  },
  {
   "cell_type": "markdown",
   "metadata": {},
   "source": [
    "## Relativistic Breit–Wigner"
   ]
  },
  {
   "cell_type": "markdown",
   "metadata": {},
   "source": [
    "Most resonances were parametrized with a standard relativistic Breit–Wigner with two form factors for the vertices."
   ]
  },
  {
   "cell_type": "code",
   "execution_count": null,
   "metadata": {
    "jupyter": {
     "source_hidden": true
    },
    "tags": [
     "hide-input"
    ]
   },
   "outputs": [],
   "source": [
    "s, mr, Γr, mi, mj = sp.symbols(\"s m_r Gamma_R m_i m_j\", nonnegative=True)\n",
    "m0, mk = sp.symbols(\"m0 m_k\")\n",
    "R_prod = create_meson_radius_symbol(\"prod\")\n",
    "R_dec = create_meson_radius_symbol(\"dec\")\n",
    "L, ell = sp.symbols(\"L ell\", integer=True, nonnegative=True)\n",
    "display_doit(BreitWignerMinL(s, m0, mk, mr, Γr, mi, mj, ell, L, R_dec, R_prod))"
   ]
  },
  {
   "cell_type": "markdown",
   "metadata": {},
   "source": [
    "## Bugg Breit–Wigner"
   ]
  },
  {
   "cell_type": "markdown",
   "metadata": {},
   "source": [
    "The $K(700)$ and $K(1430)$ were modeled with a Bugg Breit–Wigner function. Here, $s_A$ is the **Adler zero**."
   ]
  },
  {
   "cell_type": "code",
   "execution_count": null,
   "metadata": {
    "jupyter": {
     "source_hidden": true
    },
    "tags": [
     "hide-input"
    ]
   },
   "outputs": [],
   "source": [
    "gamma, sA = sp.symbols(\"gamma s_A\")\n",
    "bugg = BuggBreitWigner(s, mr, Γr, mi, mj, gamma)\n",
    "sA_expr = mi**2 - mj**2 / 2\n",
    "display_latex({\n",
    "    bugg: bugg.evaluate().subs(sA_expr, sA),\n",
    "    sA: sA_expr,\n",
    "})"
   ]
  },
  {
   "cell_type": "markdown",
   "metadata": {},
   "source": [
    "One of the models uses a Bugg Breit–Wigner with an exponential factor (see [this paper, Eq. (4)](https://arxiv.org/pdf/hep-ex/0510019.pdf#page=3)):"
   ]
  },
  {
   "cell_type": "code",
   "execution_count": null,
   "metadata": {
    "jupyter": {
     "source_hidden": true
    },
    "tags": [
     "hide-input"
    ]
   },
   "outputs": [],
   "source": [
    "q = Q(s, m0, mk)\n",
    "alpha = sp.Symbol(\"alpha\")\n",
    "bugg * sp.exp(-alpha * q**2)"
   ]
  },
  {
   "cell_type": "markdown",
   "metadata": {},
   "source": [
    "## Flatté for S-waves"
   ]
  },
  {
   "cell_type": "markdown",
   "metadata": {},
   "source": [
    "In the original amplitude analysis, the $\\varLambda(1405)$&nbsp;baryon was modeled with a Flatté for $S$-waves ($\\ell=0$), coupled to the channel $\\varLambda(1405) \\to \\varSigma^-\\pi^+$. Note that both the $\\varSigma^-\\pi^+$ threshold and the mass of the $\\varLambda(1405)$ lies below the $pK^-$ threshold."
   ]
  },
  {
   "cell_type": "code",
   "execution_count": null,
   "metadata": {
    "jupyter": {
     "source_hidden": true
    },
    "tags": [
     "hide-input"
    ]
   },
   "outputs": [],
   "source": [
    "Γ1, Γ2, mπ, mΣ = sp.symbols(\"Gamma1 Gamma2 m_pi m_Sigma\")\n",
    "display_doit(FlattéSWave(s, mr, (Γ1, Γ2), (mi, mj), (mπ, mΣ)))"
   ]
  },
  {
   "cell_type": "markdown",
   "metadata": {},
   "source": [
    "## Other definitions"
   ]
  },
  {
   "cell_type": "code",
   "execution_count": null,
   "metadata": {
    "jupyter": {
     "source_hidden": true
    },
    "tags": [
     "hide-input"
    ]
   },
   "outputs": [],
   "source": [
    "x, y, z = sp.symbols(\"x:z\")\n",
    "exprs = [\n",
    "    EnergyDependentWidth(s, mr, Γr, mi, mj, ell, R_dec),\n",
    "    BlattWeisskopf(z, ell),\n",
    "    P(s, mi, mj),\n",
    "    Q(s, m0, mk),\n",
    "    Kallen(x, y, z),\n",
    "]\n",
    "display_latex({x: x.doit(deep=False) for x in exprs})"
   ]
  },
  {
   "cell_type": "markdown",
   "metadata": {},
   "source": [
    "## Lineshape visualizations"
   ]
  },
  {
   "cell_type": "markdown",
   "metadata": {},
   "source": [
    "The lineshapes are visualized below for some of the relevant resonances. The section of lineshapes for each resonance can be found [`model-definitions.yaml`](../../data/model-definitions.yaml)"
   ]
  },
  {
   "cell_type": "code",
   "execution_count": null,
   "metadata": {
    "jupyter": {
     "source_hidden": true
    },
    "tags": [
     "scroll-input",
     "hide-input"
    ]
   },
   "outputs": [],
   "source": [
    "def plot_lineshape(\n",
    "    dynamics_builder: DynamicsBuilder,\n",
    "    title: str,\n",
    "    resonances: str,\n",
    "    x_range: tuple[float, float],\n",
    "    y_title: float,\n",
    "    legend_position: tuple[int, tuple[float, float]],\n",
    "    model_id: int | str = 0,\n",
    ") -> None:\n",
    "    min_ls = len(resonances) != 1\n",
    "    if not min_ls:\n",
    "        title = f\"{title} for {resonances[0]}\"\n",
    "    decay = load_three_body_decay(resonances, particles, min_ls)\n",
    "    parameter_defaults = load_parameters(decay, model_id)\n",
    "    parameter_defaults.update(create_mass_symbol_mapping(decay))\n",
    "    display_latex({c: dynamics_builder(c)[0].doit(deep=False) for c in decay.chains})\n",
    "    fig, axes = plt.subplots(\n",
    "        figsize=(6, 2 * len(decay.chains)),\n",
    "        nrows=len(decay.chains),\n",
    "        sharex=True,\n",
    "    )\n",
    "    fig.patch.set_facecolor(\"none\")\n",
    "    for ax in axes:\n",
    "        ax.patch.set_facecolor(\"none\")\n",
    "        ax.spines[\"bottom\"].set_position(\"zero\")\n",
    "        ax.spines[\"top\"].set_visible(False)\n",
    "        ax.spines[\"right\"].set_visible(False)\n",
    "    fig.suptitle(title, y=y_title)\n",
    "    x = np.linspace(*x_range, num=300)\n",
    "    for ax, chain in zip(axes, decay.chains, strict=True):\n",
    "        expr, parameters = dynamics_builder(chain)\n",
    "        func = cached.lambdify(\n",
    "            expr.doit(),\n",
    "            parameters=parameters | parameter_defaults,\n",
    "            backend=\"jax\",\n",
    "        )\n",
    "        mass_name = f\"m_{{{chain.resonance.latex}}}\"\n",
    "        resonance_mass = func.parameters[mass_name]\n",
    "        child1, child2 = chain.decay_products\n",
    "        phsp_min = child1.mass + child2.mass\n",
    "        phsp_max = chain.parent.mass - chain.spectator.mass\n",
    "        ax.axvspan(x.min(), phsp_min, alpha=0.15, color=\"gray\", label=\"non-physical\")\n",
    "        ax.axvspan(phsp_max, x.max(), alpha=0.15, color=\"gray\")\n",
    "        ax.axvline(resonance_mass, c=\"red\", ls=\"dotted\", label=R\"$m_\\mathrm{res}$\")\n",
    "        sigma = get_mandelstam_s(chain.decay_node)\n",
    "        z = func({sigma.name: x**2})\n",
    "        ax.plot(x, np.abs(z), label=\"abs\")\n",
    "        ax.plot(x, z.imag, label=\"imag\")\n",
    "        ax.plot(x, z.real, label=\"real\")\n",
    "        if min_ls:\n",
    "            axis_title = f\"${chain.resonance.latex}$\"\n",
    "        else:\n",
    "            axis_title = Rf\"$L={chain.incoming_ls.L}, \\ell={chain.outgoing_ls.L}$\"\n",
    "        ax.set_title(axis_title, y=0.86)\n",
    "        ax.set_xlim(*x_range)\n",
    "    legend_axis, anchor = legend_position\n",
    "    axes[legend_axis].legend(\n",
    "        bbox_to_anchor=anchor,\n",
    "        framealpha=1,\n",
    "        handlelength=1,\n",
    "        handletextpad=0.5,\n",
    "        loc=\"upper right\",\n",
    "    )\n",
    "    fig.tight_layout()\n",
    "    plt.show()"
   ]
  },
  {
   "cell_type": "markdown",
   "metadata": {},
   "source": [
    "### Breit–Wigner with form factors"
   ]
  },
  {
   "cell_type": "code",
   "execution_count": null,
   "metadata": {
    "jupyter": {
     "source_hidden": true
    },
    "tags": [
     "hide-input",
     "full-width"
    ]
   },
   "outputs": [],
   "source": [
    "plot_lineshape(\n",
    "    formulate_breit_wigner,\n",
    "    title=\"Relativistic Breit–Wigner with form factors\",\n",
    "    resonances=[\"K(892)\"],\n",
    "    x_range=(0.5, 1.5),\n",
    "    y_title=0.97,\n",
    "    model_id=ls_model_id,\n",
    "    legend_position=(0, (1.03, 1.03)),\n",
    ")"
   ]
  },
  {
   "cell_type": "markdown",
   "metadata": {},
   "source": [
    "### Bugg Breit–Wigner"
   ]
  },
  {
   "cell_type": "code",
   "execution_count": null,
   "metadata": {
    "jupyter": {
     "source_hidden": true
    },
    "tags": [
     "hide-input"
    ]
   },
   "outputs": [],
   "source": [
    "plot_lineshape(\n",
    "    formulate_bugg_breit_wigner,\n",
    "    title=\"Bugg Breit–Wigner\",\n",
    "    resonances=[\"K(700)\", \"K(1430)\"],\n",
    "    x_range=(0.5, 1.5),\n",
    "    y_title=0.92,\n",
    "    legend_position=(0, (1.03, 1.15)),\n",
    ")"
   ]
  },
  {
   "cell_type": "code",
   "execution_count": null,
   "metadata": {
    "jupyter": {
     "source_hidden": true
    },
    "tags": [
     "hide-input"
    ]
   },
   "outputs": [],
   "source": [
    "plot_lineshape(\n",
    "    formulate_exponential_bugg_breit_wigner,\n",
    "    title=\"Exponential Bugg Breit–Wigner\",\n",
    "    resonances=[\"K(700)\", \"K(1430)\"],\n",
    "    x_range=(0.5, 1.5),\n",
    "    y_title=0.92,\n",
    "    legend_position=(0, (1.03, 1.15)),\n",
    "    model_id=\"Alternative amplitude model with an additional overall exponential form factor exp(-alpha q^2) multiplying Bugg lineshapes. The exponential parameter is indicated as alpha\",\n",
    ")"
   ]
  },
  {
   "cell_type": "markdown",
   "metadata": {},
   "source": [
    "### Flatté for $\\varLambda(1405)$"
   ]
  },
  {
   "cell_type": "code",
   "execution_count": null,
   "metadata": {
    "jupyter": {
     "source_hidden": true
    },
    "tags": [
     "hide-input"
    ]
   },
   "outputs": [],
   "source": [
    "plot_lineshape(\n",
    "    formulate_flatte_1405,\n",
    "    title=\"S-wave Flatté\",\n",
    "    resonances=[\"L(1405)\"],\n",
    "    x_range=(1.3, 2.3),\n",
    "    y_title=0.94,\n",
    "    legend_position=(1, (1.08, 1.02)),\n",
    "    model_id=ls_model_id,\n",
    ")"
   ]
  }
 ],
 "metadata": {
  "colab": {
   "toc_visible": true
  },
  "kernelspec": {
   "display_name": "Python 3 (ipykernel)",
   "language": "python",
   "name": "python3"
  },
  "language_info": {
   "codemirror_mode": {
    "name": "ipython",
    "version": 3
   },
   "file_extension": ".py",
   "mimetype": "text/x-python",
   "name": "python",
   "nbconvert_exporter": "python",
   "pygments_lexer": "ipython3",
   "version": "3.13.9"
  }
 },
 "nbformat": 4,
 "nbformat_minor": 4
}
