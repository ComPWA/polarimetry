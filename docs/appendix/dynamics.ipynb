{
 "cells": [
  {
   "cell_type": "markdown",
   "metadata": {},
   "source": [
    "# Dynamics lineshapes"
   ]
  },
  {
   "cell_type": "code",
   "execution_count": null,
   "metadata": {
    "jupyter": {
     "source_hidden": true
    },
    "mystnb": {
     "code_prompt_show": "Import Python libraries"
    },
    "tags": [
     "hide-cell",
     "scroll-input"
    ]
   },
   "outputs": [],
   "source": [
    "import matplotlib.pyplot as plt\n",
    "import numpy as np\n",
    "import sympy as sp\n",
    "from ampform.kinematics.phasespace import Kallen\n",
    "from ampform_dpd.decay import ThreeBodyDecay\n",
    "from ampform_dpd.dynamics import (\n",
    "    BlattWeisskopf,\n",
    "    BreitWignerMinL,\n",
    "    BuggBreitWigner,\n",
    "    EnergyDependentWidth,\n",
    "    FlattéSWave,\n",
    "    P,\n",
    "    Q,\n",
    ")\n",
    "from ampform_dpd.io import cached\n",
    "from matplotlib_inline.backend_inline import set_matplotlib_formats\n",
    "\n",
    "from polarimetry.io import (\n",
    "    display_doit,\n",
    "    display_latex,\n",
    "    mute_ampform_warnings,\n",
    "    mute_jax_warnings,\n",
    ")\n",
    "from polarimetry.lhcb import load_model_parameters, load_three_body_decay\n",
    "from polarimetry.lhcb.dynamics import formulate_breit_wigner, formulate_flatte_1405\n",
    "from polarimetry.lhcb.particle import load_particles\n",
    "from polarimetry.lhcb.symbol import create_meson_radius_symbol\n",
    "from polarimetry.plot import use_mpl_latex_fonts\n",
    "\n",
    "\n",
    "def load_parameters(\n",
    "    decay: ThreeBodyDecay, model_id: int | str = 0\n",
    ") -> dict[sp.Symbol, complex | float]:\n",
    "    return load_model_parameters(\n",
    "        decay=decay,\n",
    "        filename=\"../../data/model-definitions.yaml\",\n",
    "        model_id=model_id,\n",
    "        particle_definitions=particles,\n",
    "    )\n",
    "\n",
    "\n",
    "particles = load_particles(\"../../data/particle-definitions.yaml\")\n",
    "ls_model_id = \"Alternative amplitude model obtained using LS couplings\"\n",
    "Sigma = particles[\"Sigma-\"]\n",
    "K = particles[\"K-\"]\n",
    "Lambda_c = particles[\"Lambda_c+\"]\n",
    "p = particles[\"p\"]\n",
    "pi = particles[\"pi+\"]\n",
    "mute_jax_warnings()\n",
    "mute_ampform_warnings()\n",
    "set_matplotlib_formats(\"svg\")\n",
    "use_mpl_latex_fonts()"
   ]
  },
  {
   "cell_type": "markdown",
   "metadata": {},
   "source": [
    "In the following, we consider a decay $0 \\xrightarrow{L} (r \\xrightarrow{\\ell} ij)k$, where the resonance&nbsp;$r$ is produced at the **production vertex** with angular momentum $L$ and decays at the **decay vertex** with angular momentum $\\ell$. The meson radii for both vertices are denoted $R_\\mathrm{prod}$ and $R_\\mathrm{dec}$, respectively."
   ]
  },
  {
   "cell_type": "markdown",
   "metadata": {},
   "source": [
    "## Relativistic Breit-Wigner"
   ]
  },
  {
   "cell_type": "code",
   "execution_count": null,
   "metadata": {
    "jupyter": {
     "source_hidden": true
    },
    "tags": [
     "hide-input"
    ]
   },
   "outputs": [],
   "source": [
    "s, mr, Γr, mi, mj = sp.symbols(\"s m_r Gamma_R m_i m_j\", nonnegative=True)\n",
    "m0, mk = sp.symbols(\"m0 m_k\")\n",
    "R_prod = create_meson_radius_symbol(\"prod\")\n",
    "R_dec = create_meson_radius_symbol(\"dec\")\n",
    "L, ell = sp.symbols(\"L ell\", integer=True, nonnegative=True)\n",
    "display_doit(BreitWignerMinL(s, m0, mk, mr, Γr, mi, mj, ell, L, R_dec, R_prod))"
   ]
  },
  {
   "cell_type": "markdown",
   "metadata": {},
   "source": [
    "## Bugg Breit-Wigner"
   ]
  },
  {
   "cell_type": "code",
   "execution_count": null,
   "metadata": {
    "jupyter": {
     "source_hidden": true
    },
    "tags": [
     "hide-input"
    ]
   },
   "outputs": [],
   "source": [
    "gamma, sA = sp.symbols(\"gamma s_A\")\n",
    "bugg = BuggBreitWigner(s, mr, Γr, mi, mj, gamma)\n",
    "sA_expr = mi**2 - mj**2 / 2\n",
    "display_latex({\n",
    "    bugg: bugg.evaluate().subs(sA_expr, sA),\n",
    "    sA: sA_expr,\n",
    "})"
   ]
  },
  {
   "cell_type": "markdown",
   "metadata": {},
   "source": [
    "One of the models uses a Bugg Breit–Wigner with an exponential factor:"
   ]
  },
  {
   "cell_type": "code",
   "execution_count": null,
   "metadata": {
    "jupyter": {
     "source_hidden": true
    },
    "tags": [
     "hide-input"
    ]
   },
   "outputs": [],
   "source": [
    "q = Q(s, m0, mk)\n",
    "alpha = sp.Symbol(\"alpha\")\n",
    "bugg * sp.exp(-alpha * q**2)"
   ]
  },
  {
   "cell_type": "markdown",
   "metadata": {},
   "source": [
    "## Flatté for S-waves"
   ]
  },
  {
   "cell_type": "code",
   "execution_count": null,
   "metadata": {
    "jupyter": {
     "source_hidden": true
    },
    "tags": [
     "hide-input"
    ]
   },
   "outputs": [],
   "source": [
    "Γ1, Γ2, mπ, mΣ = sp.symbols(\"Gamma1 Gamma2 m_pi m_Sigma\")\n",
    "display_doit(FlattéSWave(s, mr, (Γ1, Γ2), (mi, mj), (mπ, mΣ)))"
   ]
  },
  {
   "cell_type": "markdown",
   "metadata": {},
   "source": [
    "where, in this analysis, we couple the $\\varLambda(1405)$ resonance to the channel $\\varLambda(1405) \\to \\varSigma^-\\pi^+$."
   ]
  },
  {
   "cell_type": "markdown",
   "metadata": {},
   "source": [
    "## Other definitions"
   ]
  },
  {
   "cell_type": "code",
   "execution_count": null,
   "metadata": {
    "jupyter": {
     "source_hidden": true
    },
    "tags": [
     "hide-input"
    ]
   },
   "outputs": [],
   "source": [
    "x, y, z = sp.symbols(\"x:z\")\n",
    "exprs = [\n",
    "    EnergyDependentWidth(s, mr, Γr, mi, mj, ell, R_dec),\n",
    "    BlattWeisskopf(z, ell),\n",
    "    P(s, mi, mj),\n",
    "    Q(s, m0, mk),\n",
    "    Kallen(x, y, z),\n",
    "]\n",
    "display_latex({x: x.doit(deep=False) for x in exprs})"
   ]
  },
  {
   "cell_type": "markdown",
   "metadata": {},
   "source": [
    "## Lineshape visualizations"
   ]
  },
  {
   "cell_type": "markdown",
   "metadata": {},
   "source": [
    "### Breit–Wigner with form factors"
   ]
  },
  {
   "cell_type": "code",
   "execution_count": null,
   "metadata": {
    "jupyter": {
     "source_hidden": true
    },
    "tags": [
     "hide-input",
     "full-width"
    ]
   },
   "outputs": [],
   "source": [
    "K892 = particles[\"K(892)\"]\n",
    "decay = load_three_body_decay([K892.name], particles, min_ls=False)\n",
    "parameter_defaults = load_parameters(decay, ls_model_id)\n",
    "exprs = {c: formulate_breit_wigner(c)[0].doit(deep=False) for c in decay.chains}\n",
    "display_latex(exprs)"
   ]
  },
  {
   "cell_type": "code",
   "execution_count": null,
   "metadata": {
    "jupyter": {
     "source_hidden": true
    },
    "tags": [
     "hide-input",
     "scroll-input"
    ]
   },
   "outputs": [],
   "source": [
    "def plot_dynamics(ax, chain) -> None:\n",
    "    dynamics_expr, parameters = formulate_breit_wigner(chain)\n",
    "    dynamics_func = cached.lambdify(\n",
    "        dynamics_expr.doit(),\n",
    "        parameters=parameters | parameter_defaults,\n",
    "        backend=\"jax\",\n",
    "    )\n",
    "    z = dynamics_func({\"sigma1\": x**2})\n",
    "    resonance_mass = dynamics_func.parameters[mass_name]\n",
    "    phsp_min = pi.mass + K.mass\n",
    "    phsp_max = Lambda_c.mass - p.mass\n",
    "    ax.axvline(resonance_mass, c=\"red\", ls=\"dotted\", label=f\"${mass_name}$\")\n",
    "    ax.axvspan(x.min(), phsp_min, alpha=0.15, color=\"gray\", label=\"non-physical\")\n",
    "    ax.axvspan(phsp_max, x.max(), alpha=0.15, color=\"gray\")\n",
    "    ax.plot(x, np.abs(z), label=\"abs\")\n",
    "    ax.plot(x, z.imag, label=\"imag\")\n",
    "    ax.plot(x, z.real, label=\"real\")\n",
    "    title = Rf\"$L={chain.incoming_ls.L}, \\ell={chain.outgoing_ls.L}$\"\n",
    "    ax.set_title(title, y=0.86)\n",
    "    ax.set_xlim(x.min(), x.max())\n",
    "    ax.set_yticks([])\n",
    "\n",
    "\n",
    "mass_name = f\"m_{{{K892.latex}}}\"\n",
    "x = np.linspace(0.5, 1.5, num=300)\n",
    "fig, axes = plt.subplots(\n",
    "    figsize=(6, 2 * len(decay.chains)),\n",
    "    nrows=len(decay.chains),\n",
    "    sharex=True,\n",
    ")\n",
    "fig.patch.set_facecolor(\"none\")\n",
    "for ax in axes:\n",
    "    ax.patch.set_facecolor(\"none\")\n",
    "    ax.spines[\"bottom\"].set_position(\"zero\")\n",
    "    ax.spines[\"top\"].set_visible(False)\n",
    "    ax.spines[\"right\"].set_visible(False)\n",
    "fig.suptitle(f\"Breit–Wigner for ${K892.latex}$\", y=0.96)\n",
    "for ax, chain in zip(axes, decay.chains, strict=True):\n",
    "    plot_dynamics(ax, chain)\n",
    "axes[2].legend(\n",
    "    bbox_to_anchor=(1.03, 1.03),\n",
    "    framealpha=1,\n",
    "    handlelength=1,\n",
    "    handletextpad=0.5,\n",
    "    loc=\"upper right\",\n",
    ")\n",
    "fig.tight_layout()\n",
    "plt.show()"
   ]
  },
  {
   "cell_type": "markdown",
   "metadata": {},
   "source": [
    "### Flatté for $\\varLambda(1405)$"
   ]
  },
  {
   "cell_type": "code",
   "execution_count": null,
   "metadata": {
    "jupyter": {
     "source_hidden": true
    },
    "tags": [
     "hide-input"
    ]
   },
   "outputs": [],
   "source": [
    "L1405 = particles[\"L(1405)\"]\n",
    "decay = load_three_body_decay([L1405.name], particles, min_ls=False)\n",
    "display_latex(decay.chains)"
   ]
  },
  {
   "cell_type": "code",
   "execution_count": null,
   "metadata": {
    "jupyter": {
     "source_hidden": true
    },
    "tags": [
     "hide-input"
    ]
   },
   "outputs": [],
   "source": [
    "exprs = [formulate_flatte_1405(c)[0] for c in decay.chains]\n",
    "display_latex(exprs)"
   ]
  },
  {
   "cell_type": "code",
   "execution_count": null,
   "metadata": {
    "jupyter": {
     "source_hidden": true
    },
    "tags": [
     "hide-input",
     "scroll-input"
    ]
   },
   "outputs": [],
   "source": [
    "def plot_dynamics(ax, chain) -> None:\n",
    "    dynamics_expr, parameters = formulate_flatte_1405(chain)\n",
    "    dynamics_func = cached.lambdify(\n",
    "        dynamics_expr.doit(),\n",
    "        parameters=parameters,\n",
    "        backend=\"jax\",\n",
    "    )\n",
    "    z = dynamics_func({\"sigma2\": x**2})\n",
    "    resonance_mass = dynamics_func.parameters[mass_name]\n",
    "    ax.plot(x, np.abs(z), label=\"Abs $F$\")\n",
    "    ax.plot(x, z.imag, label=\"Im $F$\")\n",
    "    ax.plot(x, z.real, label=\"Re $F$\")\n",
    "    phsp_min = K.mass + p.mass\n",
    "    phsp_max = Lambda_c.mass - pi.mass\n",
    "    ax.axvline(Sigma.mass + pi.mass, c=\"black\", ls=\"dashed\", label=R\"$m_\\Sigma+m_\\pi$\")\n",
    "    ax.axvline(resonance_mass, c=\"red\", ls=\"--\", label=f\"${mass_name}$\")\n",
    "    ax.axvspan(x.min(), phsp_min, alpha=0.15, color=\"gray\", label=\"non-physical\")\n",
    "    ax.axvspan(phsp_max, x.max(), alpha=0.15, color=\"gray\")\n",
    "    title = Rf\"$L={chain.incoming_ls.L}, \\ell={chain.outgoing_ls.L}$\"\n",
    "    ax.set_title(title, y=0.82)\n",
    "    ax.set_xlim(x.min(), x.max())\n",
    "    ax.set_yticks([])\n",
    "\n",
    "\n",
    "mass_name = f\"m_{{{L1405.latex}}}\"\n",
    "x = np.linspace(1.3, 2.3, num=300)\n",
    "fig, axes = plt.subplots(figsize=(6, 4), nrows=2, sharex=True)\n",
    "fig.patch.set_facecolor(\"none\")\n",
    "for ax in axes:\n",
    "    ax.patch.set_facecolor(\"none\")\n",
    "    ax.spines[\"bottom\"].set_position(\"zero\")\n",
    "    ax.spines[\"top\"].set_visible(False)\n",
    "    ax.spines[\"right\"].set_visible(False)\n",
    "fig.suptitle(f\"Flatté for ${L1405.latex}$\", y=0.94)\n",
    "ax0, ax1 = axes\n",
    "plot_dynamics(ax0, decay.chains[0])\n",
    "plot_dynamics(ax1, decay.chains[1])\n",
    "ax1.legend(\n",
    "    bbox_to_anchor=(1.08, 1.02),\n",
    "    framealpha=1,\n",
    "    handlelength=1,\n",
    "    handletextpad=0.5,\n",
    "    loc=\"upper right\",\n",
    ")\n",
    "fig.tight_layout()\n",
    "plt.show()"
   ]
  }
 ],
 "metadata": {
  "colab": {
   "toc_visible": true
  },
  "kernelspec": {
   "display_name": "Python 3 (ipykernel)",
   "language": "python",
   "name": "python3"
  },
  "language_info": {
   "codemirror_mode": {
    "name": "ipython",
    "version": 3
   },
   "file_extension": ".py",
   "mimetype": "text/x-python",
   "name": "python",
   "nbconvert_exporter": "python",
   "pygments_lexer": "ipython3",
   "version": "3.13.9"
  }
 },
 "nbformat": 4,
 "nbformat_minor": 4
}
