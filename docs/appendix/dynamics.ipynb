{
 "cells": [
  {
   "cell_type": "markdown",
   "metadata": {},
   "source": [
    "# Dynamics lineshapes"
   ]
  },
  {
   "cell_type": "code",
   "execution_count": 1,
   "metadata": {
    "execution": {
     "iopub.execute_input": "2025-10-02T14:45:34.363932Z",
     "iopub.status.busy": "2025-10-02T14:45:34.363837Z",
     "iopub.status.idle": "2025-10-02T14:45:35.232464Z",
     "shell.execute_reply": "2025-10-02T14:45:35.232118Z",
     "shell.execute_reply.started": "2025-10-02T14:45:34.363922Z"
    },
    "mystnb": {
     "code_prompt_show": "Import Python libraries"
    },
    "tags": [
     "hide-cell",
     "scroll-input"
    ]
   },
   "outputs": [],
   "source": [
    "import sympy as sp\n",
    "from ampform.kinematics.phasespace import Kallen\n",
    "from ampform_dpd.dynamics import (\n",
    "    BlattWeisskopf,\n",
    "    BreitWignerMinL,\n",
    "    BuggBreitWigner,\n",
    "    EnergyDependentWidth,\n",
    "    FlattéSWave,\n",
    "    P,\n",
    "    Q,\n",
    ")\n",
    "from ampform_dpd.io import cached\n",
    "from polarimetry.lhcb import load_three_body_decay\n",
    "from polarimetry.lhcb import load_three_body_decay\n",
    "from polarimetry.lhcb.particle import Σ, K, Λc, load_particles, p, π\n",
    "from polarimetry.io import display_doit, display_latex\n",
    "from polarimetry.lhcb.dynamics import (\n",
    "    formulate_flatte_1405,\n",
    "    formulate_breit_wigner\n",
    ")\n",
    "import matplotlib.pyplot as plt \n",
    "import numpy as np"
   ]
  },
  {
   "cell_type": "code",
   "execution_count": 2,
   "metadata": {
    "execution": {
     "iopub.execute_input": "2025-10-02T14:45:35.232944Z",
     "iopub.status.busy": "2025-10-02T14:45:35.232790Z",
     "iopub.status.idle": "2025-10-02T14:45:35.246916Z",
     "shell.execute_reply": "2025-10-02T14:45:35.246658Z",
     "shell.execute_reply.started": "2025-10-02T14:45:35.232932Z"
    },
    "tags": [
     "hide-input"
    ]
   },
   "outputs": [
    {
     "data": {
      "text/latex": [
       "$\\displaystyle \\begin{array}{rcl}\n",
       "  F_{L}\\left(z\\right) &=& \\begin{cases} 1 & \\text{for}\\: L = 0 \\\\\\frac{1}{\\sqrt{z^{2} + 1}} & \\text{for}\\: L = 1 \\\\\\frac{1}{\\sqrt{z^{4} + 3 z^{2} + 9}} & \\text{for}\\: L = 2 \\end{cases} \\\\\n",
       "\\end{array}$"
      ],
      "text/plain": [
       "<IPython.core.display.Math object>"
      ]
     },
     "metadata": {},
     "output_type": "display_data"
    }
   ],
   "source": [
    "z = sp.Symbol(\"z\", positive=True)\n",
    "L = sp.Symbol(\"L\", integer=True, nonnegative=True)\n",
    "display_doit(BlattWeisskopf(z, L))"
   ]
  },
  {
   "cell_type": "code",
   "execution_count": 3,
   "metadata": {
    "execution": {
     "iopub.execute_input": "2025-10-02T14:45:35.247699Z",
     "iopub.status.busy": "2025-10-02T14:45:35.247595Z",
     "iopub.status.idle": "2025-10-02T14:45:35.273532Z",
     "shell.execute_reply": "2025-10-02T14:45:35.273300Z",
     "shell.execute_reply.started": "2025-10-02T14:45:35.247689Z"
    },
    "tags": [
     "hide-input"
    ]
   },
   "outputs": [
    {
     "data": {
      "text/latex": [
       "$\\displaystyle \\begin{array}{rcl}\n",
       "  \\lambda\\left(x, y, z\\right) &=& x^{2} - 2 x y - 2 x z + y^{2} - 2 y z + z^{2} \\\\\n",
       "\\end{array}$"
      ],
      "text/plain": [
       "<IPython.core.display.Math object>"
      ]
     },
     "metadata": {},
     "output_type": "display_data"
    }
   ],
   "source": [
    "x, y, z = sp.symbols(\"x:z\")\n",
    "display_doit(Kallen(x, y, z))"
   ]
  },
  {
   "cell_type": "code",
   "execution_count": 4,
   "metadata": {
    "execution": {
     "iopub.execute_input": "2025-10-02T14:45:35.273893Z",
     "iopub.status.busy": "2025-10-02T14:45:35.273794Z",
     "iopub.status.idle": "2025-10-02T14:45:35.289591Z",
     "shell.execute_reply": "2025-10-02T14:45:35.289362Z",
     "shell.execute_reply.started": "2025-10-02T14:45:35.273884Z"
    },
    "tags": [
     "hide-input"
    ]
   },
   "outputs": [
    {
     "data": {
      "text/latex": [
       "$\\displaystyle \\begin{array}{rcl}\n",
       "  p_{_{m_{i},m_{j}}}\\left(s\\right) &=& \\frac{\\sqrt{\\lambda\\left(s, m_{i}^{2}, m_{j}^{2}\\right)}}{2 \\sqrt{s}} \\\\\n",
       "\\end{array}$"
      ],
      "text/plain": [
       "<IPython.core.display.Math object>"
      ]
     },
     "metadata": {},
     "output_type": "display_data"
    },
    {
     "data": {
      "text/latex": [
       "$\\displaystyle \\begin{array}{rcl}\n",
       "  q_{_{m_{0},m_{k}}}\\left(s\\right) &=& \\frac{\\sqrt{\\lambda\\left(s, m_{0}^{2}, m_{k}^{2}\\right)}}{2 m_{0}} \\\\\n",
       "\\end{array}$"
      ],
      "text/plain": [
       "<IPython.core.display.Math object>"
      ]
     },
     "metadata": {},
     "output_type": "display_data"
    }
   ],
   "source": [
    "s, m0, mi, mj, mk = sp.symbols(\"s m0 m_i:k\", nonnegative=True)\n",
    "display_doit(P(s, mi, mj))\n",
    "display_doit(Q(s, m0, mk))"
   ]
  },
  {
   "cell_type": "code",
   "execution_count": 5,
   "metadata": {
    "execution": {
     "iopub.execute_input": "2025-10-02T14:45:35.289959Z",
     "iopub.status.busy": "2025-10-02T14:45:35.289854Z",
     "iopub.status.idle": "2025-10-02T14:45:35.301881Z",
     "shell.execute_reply": "2025-10-02T14:45:35.301636Z",
     "shell.execute_reply.started": "2025-10-02T14:45:35.289949Z"
    },
    "tags": [
     "hide-input"
    ]
   },
   "outputs": [
    {
     "data": {
      "text/latex": [
       "$\\displaystyle \\begin{array}{rcl}\n",
       "  \\Gamma_{l_{R}}\\left(s\\right) &=& Γ_{0} \\frac{m}{\\sqrt{s}} \\frac{F_{l_{R}}\\left(R p_{_{m_{1},m_{2}}}\\left(s\\right)\\right)^{2}}{F_{l_{R}}\\left(R p_{_{m_{1},m_{2}}}\\left(m^{2}\\right)\\right)^{2}} \\left(\\frac{p_{_{m_{1},m_{2}}}\\left(s\\right)}{p_{_{m_{1},m_{2}}}\\left(m^{2}\\right)}\\right)^{2 l_{R} + 1} \\\\\n",
       "\\end{array}$"
      ],
      "text/plain": [
       "<IPython.core.display.Math object>"
      ]
     },
     "metadata": {},
     "output_type": "display_data"
    }
   ],
   "source": [
    "R = sp.Symbol(\"R\")\n",
    "l_R = sp.Symbol(\"l_R\", integer=True, positive=True)\n",
    "m, Γ0, m1, m2 = sp.symbols(\"m Γ0 m1 m2\", nonnegative=True)\n",
    "display_doit(EnergyDependentWidth(s, m, Γ0, m1, m2, l_R, R))"
   ]
  },
  {
   "cell_type": "markdown",
   "metadata": {},
   "source": [
    "## Relativistic Breit-Wigner"
   ]
  },
  {
   "cell_type": "code",
   "execution_count": 6,
   "metadata": {
    "execution": {
     "iopub.execute_input": "2025-10-02T14:45:35.302250Z",
     "iopub.status.busy": "2025-10-02T14:45:35.302152Z",
     "iopub.status.idle": "2025-10-02T14:45:35.317948Z",
     "shell.execute_reply": "2025-10-02T14:45:35.317726Z",
     "shell.execute_reply.started": "2025-10-02T14:45:35.302240Z"
    },
    "tags": [
     "hide-input"
    ]
   },
   "outputs": [
    {
     "data": {
      "text/latex": [
       "$\\displaystyle \\begin{array}{rcl}\n",
       "  \\mathcal{R}^\\mathrm{BW}_{l_{R},l_{\\Lambda_c}}\\left(s\\right) &=& \\frac{\\frac{F_{l_{R}}\\left(R_\\mathrm{res} p_{_{m_{1},m_{2}}}\\left(s\\right)\\right)}{F_{l_{R}}\\left(R_\\mathrm{res} p_{_{m_{1},m_{2}}}\\left(m^{2}\\right)\\right)} \\frac{F_{l_{\\Lambda_c}}\\left(R_{\\Lambda_c} q_{_{m_\\mathrm{top},m_\\mathrm{spectator}}}\\left(s\\right)\\right)}{F_{l_{\\Lambda_c}}\\left(R_{\\Lambda_c} q_{_{m_\\mathrm{top},m_\\mathrm{spectator}}}\\left(m^{2}\\right)\\right)} \\left(\\frac{p_{_{m_{1},m_{2}}}\\left(s\\right)}{p_{_{m_{1},m_{2}}}\\left(m^{2}\\right)}\\right)^{l_{R}} \\left(\\frac{q_{_{m_\\mathrm{top},m_\\mathrm{spectator}}}\\left(s\\right)}{q_{_{m_\\mathrm{top},m_\\mathrm{spectator}}}\\left(m^{2}\\right)}\\right)^{l_{\\Lambda_c}}}{m^{2} - i m \\Gamma_{l_{R}}\\left(s\\right) - s} \\\\\n",
       "\\end{array}$"
      ],
      "text/plain": [
       "<IPython.core.display.Math object>"
      ]
     },
     "metadata": {},
     "output_type": "display_data"
    }
   ],
   "source": [
    "m_top, m_spec = sp.symbols(R\"m_\\mathrm{top} m_\\mathrm{spectator}\")\n",
    "R_dec, R_prod = sp.symbols(R\"R_\\mathrm{res} R_{\\Lambda_c}\")\n",
    "l_Λc = sp.Symbol(R\"l_{\\Lambda_c}\", integer=True, positive=True)\n",
    "display_doit(BreitWignerMinL(s, m_top, m_spec, m, Γ0, m1, m2, l_R, l_Λc, R_dec, R_prod))"
   ]
  },
  {
   "cell_type": "markdown",
   "metadata": {},
   "source": [
    "## Bugg Breit-Wigner"
   ]
  },
  {
   "cell_type": "code",
   "execution_count": 7,
   "metadata": {
    "execution": {
     "iopub.execute_input": "2025-10-02T14:45:35.318362Z",
     "iopub.status.busy": "2025-10-02T14:45:35.318246Z",
     "iopub.status.idle": "2025-10-02T14:45:35.349374Z",
     "shell.execute_reply": "2025-10-02T14:45:35.349152Z",
     "shell.execute_reply.started": "2025-10-02T14:45:35.318351Z"
    },
    "tags": [
     "hide-input"
    ]
   },
   "outputs": [
    {
     "data": {
      "text/latex": [
       "$\\displaystyle \\begin{array}{rcl}\n",
       "  \\mathcal{R}^\\mathrm{Bugg}\\left(m_{K\\pi}^{2}\\right) &=& \\frac{1}{- \\frac{i \\Gamma_{0} m_{0} \\left(m_{K\\pi}^{2} - s_{A}\\right) e^{- \\gamma m_{K\\pi}^{2}}}{m_{0}^{2} - s_{A}} + m_{0}^{2} - m_{K\\pi}^{2}} \\\\\n",
       "\\end{array}$"
      ],
      "text/plain": [
       "<IPython.core.display.Math object>"
      ]
     },
     "metadata": {},
     "output_type": "display_data"
    },
    {
     "data": {
      "text/latex": [
       "$\\displaystyle \\begin{array}{rcl}\n",
       "  s_{A} &=& m_{K}^{2} - \\frac{m_{\\pi}^{2}}{2} \\\\\n",
       "  p_{_{m_{K},m_{\\pi}}}\\left(m_{K\\pi}^{2}\\right) &=& \\frac{\\sqrt{\\lambda\\left(m_{K\\pi}^{2}, m_{K}^{2}, m_{\\pi}^{2}\\right)}}{2 \\sqrt{m_{K\\pi}^{2}}} \\\\\n",
       "\\end{array}$"
      ],
      "text/plain": [
       "<IPython.core.display.Math object>"
      ]
     },
     "metadata": {},
     "output_type": "display_data"
    }
   ],
   "source": [
    "mKπ, m0, Γ0, mK, mπ, γ = sp.symbols(R\"m_{K\\pi} m0 Gamma0 m_K m_pi gamma\")\n",
    "bugg = BuggBreitWigner(mKπ**2, m0, Γ0, mK, mπ, γ)\n",
    "q = P(mKπ**2, mK, mπ)\n",
    "s_A = sp.Symbol(\"s_A\")\n",
    "definitions = {\n",
    "    s_A: mK**2 - mπ**2 / 2,\n",
    "    q: q.evaluate(),\n",
    "}\n",
    "display_latex({bugg: bugg.evaluate().subs({v: k for k, v in definitions.items()})})\n",
    "display_latex(definitions)"
   ]
  },
  {
   "cell_type": "markdown",
   "metadata": {},
   "source": [
    "One of the models uses a Bugg Breit-Wigner with an exponential factor:"
   ]
  },
  {
   "cell_type": "code",
   "execution_count": 8,
   "metadata": {
    "execution": {
     "iopub.execute_input": "2025-10-02T14:45:35.349739Z",
     "iopub.status.busy": "2025-10-02T14:45:35.349636Z",
     "iopub.status.idle": "2025-10-02T14:45:35.369244Z",
     "shell.execute_reply": "2025-10-02T14:45:35.369021Z",
     "shell.execute_reply.started": "2025-10-02T14:45:35.349729Z"
    },
    "tags": [
     "hide-input"
    ]
   },
   "outputs": [
    {
     "data": {
      "text/latex": [
       "$\\displaystyle e^{- \\alpha q_{_{m_{0},m_{1}}}\\left(s\\right)^{2}} \\mathcal{R}^\\mathrm{Bugg}\\left(m_{K\\pi}^{2}\\right)$"
      ],
      "text/plain": [
       "exp(-alpha*Q(s, m0, m1)**2)*BuggBreitWigner(m_{K\\pi}**2, m0, Gamma0, m_K, m_pi, gamma)"
      ]
     },
     "execution_count": 8,
     "metadata": {},
     "output_type": "execute_result"
    }
   ],
   "source": [
    "q = Q(s, m0, m1)\n",
    "alpha = sp.Symbol(\"alpha\")\n",
    "bugg * sp.exp(-alpha * q**2)"
   ]
  },
  {
   "cell_type": "markdown",
   "metadata": {},
   "source": [
    "## Flatté for S-waves"
   ]
  },
  {
   "cell_type": "code",
   "execution_count": 9,
   "metadata": {
    "execution": {
     "iopub.execute_input": "2025-10-02T14:45:35.369579Z",
     "iopub.status.busy": "2025-10-02T14:45:35.369489Z",
     "iopub.status.idle": "2025-10-02T14:45:35.381812Z",
     "shell.execute_reply": "2025-10-02T14:45:35.381589Z",
     "shell.execute_reply.started": "2025-10-02T14:45:35.369571Z"
    },
    "tags": [
     "hide-input"
    ]
   },
   "outputs": [
    {
     "data": {
      "text/latex": [
       "$\\displaystyle \\begin{array}{rcl}\n",
       "  \\mathcal{R}^\\mathrm{Flatté}\\left(s\\right) &=& \\frac{1}{m^{2} - i m \\left(\\frac{\\Gamma_{1} m p_{_{m_{1},m_{2}}}\\left(s\\right)}{\\sqrt{s} p_{_{m_{\\pi},m_{\\Sigma}}}\\left(m^{2}\\right)} + \\frac{\\Gamma_{2} m p_{_{m_{\\pi},m_{\\Sigma}}}\\left(s\\right)}{\\sqrt{s} p_{_{m_{\\pi},m_{\\Sigma}}}\\left(m^{2}\\right)}\\right) - s} \\\\\n",
       "\\end{array}$"
      ],
      "text/plain": [
       "<IPython.core.display.Math object>"
      ]
     },
     "metadata": {},
     "output_type": "display_data"
    }
   ],
   "source": [
    "Γ1, Γ2, m1, m2, mπ, mΣ = sp.symbols(\"Gamma1 Gamma2 m1 m2 m_pi m_Sigma\")\n",
    "display_doit(FlattéSWave(s, m, (Γ1, Γ2), (m1, m2), (mπ, mΣ)))"
   ]
  },
  {
   "cell_type": "markdown",
   "metadata": {},
   "source": [
    "where, in this analysis, we couple the $\\Lambda(1405)$ resonance to the channel $\\Lambda(1405) \\to \\Sigma^-\\pi^+$."
   ]
  },
  {
   "cell_type": "markdown",
   "metadata": {},
   "source": [
    "## Get decay chain"
   ]
  },
  {
   "cell_type": "code",
   "execution_count": 10,
   "metadata": {
    "execution": {
     "iopub.execute_input": "2025-10-02T14:45:35.382161Z",
     "iopub.status.busy": "2025-10-02T14:45:35.382065Z",
     "iopub.status.idle": "2025-10-02T14:45:35.401707Z",
     "shell.execute_reply": "2025-10-02T14:45:35.401431Z",
     "shell.execute_reply.started": "2025-10-02T14:45:35.382152Z"
    }
   },
   "outputs": [],
   "source": [
    "particles = load_particles(\"../../data/particle-definitions.yaml\")"
   ]
  },
  {
   "cell_type": "code",
   "execution_count": 11,
   "metadata": {
    "execution": {
     "iopub.execute_input": "2025-10-02T14:45:35.402024Z",
     "iopub.status.busy": "2025-10-02T14:45:35.401926Z",
     "iopub.status.idle": "2025-10-02T14:45:35.414323Z",
     "shell.execute_reply": "2025-10-02T14:45:35.414042Z",
     "shell.execute_reply.started": "2025-10-02T14:45:35.402015Z"
    }
   },
   "outputs": [],
   "source": [
    "decay= load_three_body_decay([\"L(1405)\"], particles, min_ls= False)"
   ]
  },
  {
   "cell_type": "code",
   "execution_count": 12,
   "metadata": {
    "execution": {
     "iopub.execute_input": "2025-10-02T14:45:35.415225Z",
     "iopub.status.busy": "2025-10-02T14:45:35.415123Z",
     "iopub.status.idle": "2025-10-02T14:45:35.424878Z",
     "shell.execute_reply": "2025-10-02T14:45:35.424639Z",
     "shell.execute_reply.started": "2025-10-02T14:45:35.415216Z"
    }
   },
   "outputs": [
    {
     "name": "stdout",
     "output_type": "stream",
     "text": [
      "0 LSCoupling(L=0, S=1/2) LSCoupling(L=0, S=1/2)\n",
      "1 LSCoupling(L=1, S=1/2) LSCoupling(L=0, S=1/2)\n"
     ]
    }
   ],
   "source": [
    "for i, chain in enumerate(decay.chains):\n",
    "    print(i, chain.incoming_ls, chain.outgoing_ls)"
   ]
  },
  {
   "cell_type": "code",
   "execution_count": 13,
   "metadata": {
    "execution": {
     "iopub.execute_input": "2025-10-02T14:45:35.425209Z",
     "iopub.status.busy": "2025-10-02T14:45:35.425113Z",
     "iopub.status.idle": "2025-10-02T14:45:35.443702Z",
     "shell.execute_reply": "2025-10-02T14:45:35.443469Z",
     "shell.execute_reply.started": "2025-10-02T14:45:35.425200Z"
    }
   },
   "outputs": [],
   "source": [
    "extracted_expr_chain0, params_chain0= formulate_flatte_1405(decay.chains[0])\n",
    "extracted_expr_chain1, params_chain1= formulate_flatte_1405(decay.chains[1])"
   ]
  },
  {
   "cell_type": "code",
   "execution_count": 14,
   "metadata": {
    "execution": {
     "iopub.execute_input": "2025-10-02T14:45:35.444045Z",
     "iopub.status.busy": "2025-10-02T14:45:35.443952Z",
     "iopub.status.idle": "2025-10-02T14:45:35.458243Z",
     "shell.execute_reply": "2025-10-02T14:45:35.457993Z",
     "shell.execute_reply.started": "2025-10-02T14:45:35.444036Z"
    }
   },
   "outputs": [
    {
     "data": {
      "text/latex": [
       "$\\displaystyle \\frac{F_{1}\\left(R_{\\Lambda_c} q_{_{m_{0},m_{\\pi^+}}}\\left(\\sigma_{2}\\right)\\right) \\mathcal{R}^\\mathrm{Flatté}\\left(\\sigma_{2}\\right) q_{_{m_{0},m_{\\pi^+}}}\\left(\\sigma_{2}\\right)}{F_{1}\\left(R_{\\Lambda_c} q_{_{m_{0},m_{\\pi^+}}}\\left(m_{L(1405)}^{2}\\right)\\right) q_{_{m_{0},m_{\\pi^+}}}\\left(m_{L(1405)}^{2}\\right)}$"
      ],
      "text/plain": [
       "BlattWeisskopf(R_{\\Lambda_c}*Q(sigma2, m0, m_{\\pi^+}), 1)*FlattéSWave(sigma2, m_{L(1405)}, (\\Gamma_{L(1405) \\to K^- p}, \\Gamma_{L(1405) \\to \\pi^+ \\Sigma^-}), (m3, m1), (m_{\\pi^+}, m_{\\Sigma^-}))*Q(sigma2, m0, m_{\\pi^+})/(BlattWeisskopf(R_{\\Lambda_c}*Q(m_{L(1405)}**2, m0, m_{\\pi^+}), 1)*Q(m_{L(1405)}**2, m0, m_{\\pi^+}))"
      ]
     },
     "execution_count": 14,
     "metadata": {},
     "output_type": "execute_result"
    }
   ],
   "source": [
    "extracted_expr_chain1"
   ]
  },
  {
   "cell_type": "code",
   "execution_count": 15,
   "metadata": {
    "execution": {
     "iopub.execute_input": "2025-10-02T14:45:35.458566Z",
     "iopub.status.busy": "2025-10-02T14:45:35.458475Z",
     "iopub.status.idle": "2025-10-02T14:45:35.629711Z",
     "shell.execute_reply": "2025-10-02T14:45:35.629410Z",
     "shell.execute_reply.started": "2025-10-02T14:45:35.458557Z"
    }
   },
   "outputs": [],
   "source": [
    "flatte_function_chain0 = cached.lambdify(\n",
    "    extracted_expr_chain0.doit(),\n",
    "    parameters=params_chain0,\n",
    "    backend=\"jax\",\n",
    ")\n",
    "flatte_function_chain1 = cached.lambdify(\n",
    "    extracted_expr_chain1.doit(),\n",
    "    parameters=params_chain1,\n",
    "    backend=\"jax\",\n",
    ")"
   ]
  },
  {
   "cell_type": "code",
   "execution_count": 22,
   "metadata": {
    "execution": {
     "iopub.execute_input": "2025-10-02T14:51:09.054216Z",
     "iopub.status.busy": "2025-10-02T14:51:09.054041Z",
     "iopub.status.idle": "2025-10-02T14:51:09.216883Z",
     "shell.execute_reply": "2025-10-02T14:51:09.216426Z",
     "shell.execute_reply.started": "2025-10-02T14:51:09.054204Z"
    }
   },
   "outputs": [
    {
     "ename": "AttributeError",
     "evalue": "'ThreeBodyDecay' object has no attribute 'chain'",
     "output_type": "error",
     "traceback": [
      "\u001b[31m---------------------------------------------------------------------------\u001b[39m",
      "\u001b[31mAttributeError\u001b[39m                            Traceback (most recent call last)",
      "\u001b[36mCell\u001b[39m\u001b[36m \u001b[39m\u001b[32mIn[22]\u001b[39m\u001b[32m, line 48\u001b[39m\n\u001b[32m     36\u001b[39m ax1.axvline(\n\u001b[32m     37\u001b[39m     Σ.mass + π.mass,\n\u001b[32m     38\u001b[39m     color=\u001b[33m\"\u001b[39m\u001b[33mblack\u001b[39m\u001b[33m\"\u001b[39m,\n\u001b[32m     39\u001b[39m     linestyle=\u001b[33m\"\u001b[39m\u001b[33m--\u001b[39m\u001b[33m\"\u001b[39m,\n\u001b[32m     40\u001b[39m     label=\u001b[33mR\u001b[39m\u001b[33m\"\u001b[39m\u001b[33m$\u001b[39m\u001b[33m\\\u001b[39m\u001b[33mSigma \u001b[39m\u001b[33m\\\u001b[39m\u001b[33mpi$\u001b[39m\u001b[33m\"\u001b[39m,\n\u001b[32m     41\u001b[39m )\n\u001b[32m     42\u001b[39m ax1.axvline(\n\u001b[32m     43\u001b[39m     flatte_function_chain0.parameters[\u001b[33m'\u001b[39m\u001b[33mm_\u001b[39m\u001b[33m{\u001b[39m\u001b[33mL(1405)}\u001b[39m\u001b[33m'\u001b[39m],\n\u001b[32m     44\u001b[39m     color=\u001b[33m\"\u001b[39m\u001b[33mred\u001b[39m\u001b[33m\"\u001b[39m,\n\u001b[32m     45\u001b[39m     linestyle=\u001b[33m\"\u001b[39m\u001b[33m--\u001b[39m\u001b[33m\"\u001b[39m,\n\u001b[32m     46\u001b[39m     label=\u001b[33mR\u001b[39m\u001b[33m\"\u001b[39m\u001b[33mMass $m_\u001b[39m\u001b[33m{\u001b[39m\u001b[33mL(1405)}$\u001b[39m\u001b[33m\"\u001b[39m,\n\u001b[32m     47\u001b[39m )\n\u001b[32m---> \u001b[39m\u001b[32m48\u001b[39m ax1.set_title(\u001b[33mf\u001b[39m\u001b[33m\"\u001b[39m\u001b[33mDecay chain 1, production \u001b[39m\u001b[38;5;132;01m{\u001b[39;00m\u001b[43mdecay\u001b[49m\u001b[43m.\u001b[49m\u001b[43mchain\u001b[49m[\u001b[32m1\u001b[39m].incoming_ls\u001b[38;5;132;01m}\u001b[39;00m\u001b[33m, decay \u001b[39m\u001b[38;5;132;01m{\u001b[39;00mchain[\u001b[32m1\u001b[39m].outgoing_ls\u001b[38;5;132;01m}\u001b[39;00m\u001b[33m\"\u001b[39m)\n\u001b[32m     49\u001b[39m ax1.legend()\n\u001b[32m     50\u001b[39m plt.show()\n",
      "\u001b[31mAttributeError\u001b[39m: 'ThreeBodyDecay' object has no attribute 'chain'"
     ]
    },
    {
     "data": {
      "image/png": "[encoded data removed]",
      "text/plain": [
       "<Figure size 900x900 with 2 Axes>"
      ]
     },
     "metadata": {},
     "output_type": "display_data"
    }
   ],
   "source": [
    "fig, axes = plt.subplots(nrows=2,figsize=(9, 9))\n",
    "ax0, ax1 = axes \n",
    "x= np.linspace(0,5,300)\n",
    "ax0.plot(x, np.abs(flatte_function_chain0({\"sigma2\": x**2})), label=R\"Abs $F$\")\n",
    "ax0.plot(x, flatte_function_chain0({\"sigma2\": x**2}).imag, label=R\"Im $F$\")\n",
    "ax0.plot(x, flatte_function_chain0({\"sigma2\": x**2}).real, label=R\"Re $F$\")\n",
    "ax0.axvline(\n",
    "    K.mass + p.mass,\n",
    "    color=\"gray\",\n",
    "    linestyle=\"dotted\",\n",
    "    label=R\"$K p$\",\n",
    ")\n",
    "ax0.axvline(\n",
    "    Σ.mass + π.mass,\n",
    "    color=\"black\",\n",
    "    linestyle=\"--\",\n",
    "    label=R\"$\\Sigma \\pi$\",\n",
    ")\n",
    "ax0.axvline(\n",
    "    flatte_function_chain0.parameters['m_{L(1405)}'],\n",
    "    color=\"red\",\n",
    "    linestyle=\"--\",\n",
    "    label=R\"Mass $m_{L(1405)}$\",\n",
    ")\n",
    "ax0.legend()\n",
    "\n",
    "ax1.plot(x, np.abs(flatte_function_chain1({\"sigma2\": x**2})), label=R\"Abs $F$\")\n",
    "ax1.plot(x, flatte_function_chain1({\"sigma2\": x**2}).imag, label=R\"Im $F$\")\n",
    "ax1.plot(x, flatte_function_chain1({\"sigma2\": x**2}).real, label=R\"Re $F$\")\n",
    "ax1.axvline(\n",
    "    K.mass + p.mass,\n",
    "    color=\"gray\",\n",
    "    linestyle=\"dotted\",\n",
    "    label=R\"$K p$\",\n",
    ")\n",
    "ax1.axvline(\n",
    "    Σ.mass + π.mass,\n",
    "    color=\"black\",\n",
    "    linestyle=\"--\",\n",
    "    label=R\"$\\Sigma \\pi$\",\n",
    ")\n",
    "ax1.axvline(\n",
    "    flatte_function_chain0.parameters['m_{L(1405)}'],\n",
    "    color=\"red\",\n",
    "    linestyle=\"--\",\n",
    "    label=R\"Mass $m_{L(1405)}$\",\n",
    ")\n",
    "ax1.set_title(f\"Decay chain 1, production {decay.chain[1].incoming_ls}, decay {chain[1].outgoing_ls}\")\n",
    "ax1.legend()\n",
    "plt.show()"
   ]
  },
  {
   "cell_type": "code",
   "execution_count": null,
   "metadata": {},
   "outputs": [],
   "source": []
  },
  {
   "cell_type": "code",
   "execution_count": null,
   "metadata": {},
   "outputs": [],
   "source": []
  },
  {
   "cell_type": "code",
   "execution_count": null,
   "metadata": {},
   "outputs": [],
   "source": []
  }
 ],
 "metadata": {
  "colab": {
   "toc_visible": true
  },
  "kernelspec": {
   "display_name": "Python 3 (ipykernel)",
   "language": "python",
   "name": "python3"
  },
  "language_info": {
   "codemirror_mode": {
    "name": "ipython",
    "version": 3
   },
   "file_extension": ".py",
   "mimetype": "text/x-python",
   "name": "python",
   "nbconvert_exporter": "python",
   "pygments_lexer": "ipython3",
   "version": "3.12.8"
  }
 },
 "nbformat": 4,
 "nbformat_minor": 4
}
