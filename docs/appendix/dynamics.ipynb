{
 "cells": [
  {
   "cell_type": "markdown",
   "metadata": {},
   "source": [
    "# Dynamics lineshapes"
   ]
  },
  {
   "cell_type": "code",
   "execution_count": null,
   "metadata": {
    "jupyter": {
     "source_hidden": true
    },
    "mystnb": {
     "code_prompt_show": "Import Python libraries"
    },
    "tags": [
     "hide-cell",
     "scroll-input"
    ]
   },
   "outputs": [],
   "source": [
    "import sympy as sp\n",
    "from ampform.kinematics.phasespace import Kallen\n",
    "\n",
    "from polarimetry.dynamics import (\n",
    "    BlattWeisskopf,\n",
    "    BreitWignerMinL,\n",
    "    BuggBreitWigner,\n",
    "    EnergyDependentWidth,\n",
    "    FlattéSWave,\n",
    "    P,\n",
    "    Q,\n",
    ")\n",
    "from polarimetry.io import display_doit, display_latex"
   ]
  },
  {
   "cell_type": "code",
   "execution_count": null,
   "metadata": {
    "jupyter": {
     "source_hidden": true
    },
    "tags": [
     "hide-input"
    ]
   },
   "outputs": [],
   "source": [
    "z = sp.Symbol(\"z\", positive=True)\n",
    "L = sp.Symbol(\"L\", integer=True, nonnegative=True)\n",
    "display_doit(BlattWeisskopf(z, L))"
   ]
  },
  {
   "cell_type": "code",
   "execution_count": null,
   "metadata": {
    "jupyter": {
     "source_hidden": true
    },
    "tags": [
     "hide-input"
    ]
   },
   "outputs": [],
   "source": [
    "x, y, z = sp.symbols(\"x:z\")\n",
    "display_doit(Kallen(x, y, z))"
   ]
  },
  {
   "cell_type": "code",
   "execution_count": null,
   "metadata": {
    "jupyter": {
     "source_hidden": true
    },
    "tags": [
     "hide-input"
    ]
   },
   "outputs": [],
   "source": [
    "s, m0, mi, mj, mk = sp.symbols(\"s m0 m_i:k\", nonnegative=True)\n",
    "display_doit(P(s, mi, mj))\n",
    "display_doit(Q(s, m0, mk))"
   ]
  },
  {
   "cell_type": "code",
   "execution_count": null,
   "metadata": {
    "jupyter": {
     "source_hidden": true
    },
    "tags": [
     "hide-input"
    ]
   },
   "outputs": [],
   "source": [
    "R = sp.Symbol(\"R\")\n",
    "l_R = sp.Symbol(\"l_R\", integer=True, positive=True)\n",
    "m, Γ0, m1, m2 = sp.symbols(\"m Γ0 m1 m2\", nonnegative=True)\n",
    "display_doit(EnergyDependentWidth(s, m, Γ0, m1, m2, l_R, R))"
   ]
  },
  {
   "cell_type": "markdown",
   "metadata": {},
   "source": [
    "## Relativistic Breit-Wigner"
   ]
  },
  {
   "cell_type": "code",
   "execution_count": null,
   "metadata": {
    "jupyter": {
     "source_hidden": true
    },
    "tags": [
     "hide-input"
    ]
   },
   "outputs": [],
   "source": [
    "m_top, m_spec = sp.symbols(R\"m_\\mathrm{top} m_\\mathrm{spectator}\")\n",
    "R_dec, R_prod = sp.symbols(R\"R_\\mathrm{res} R_{\\Lambda_c}\")\n",
    "l_Λc = sp.Symbol(R\"l_{\\Lambda_c}\", integer=True, positive=True)\n",
    "display_doit(\n",
    "    BreitWignerMinL(s, m_top, m_spec, m, Γ0, m1, m2, l_R, l_Λc, R_dec, R_prod)\n",
    ")"
   ]
  },
  {
   "cell_type": "markdown",
   "metadata": {},
   "source": [
    "## Bugg Breit-Wigner"
   ]
  },
  {
   "cell_type": "code",
   "execution_count": null,
   "metadata": {
    "jupyter": {
     "source_hidden": true
    },
    "tags": [
     "hide-input"
    ]
   },
   "outputs": [],
   "source": [
    "mKπ, m0, Γ0, mK, mπ, γ = sp.symbols(R\"m_{K\\pi} m0 Gamma0 m_K m_pi gamma\")\n",
    "bugg = BuggBreitWigner(mKπ**2, m0, Γ0, mK, mπ, γ)\n",
    "q = P(mKπ**2, mK, mπ)\n",
    "s_A = sp.Symbol(\"s_A\")\n",
    "definitions = {\n",
    "    s_A: mK**2 - mπ**2 / 2,\n",
    "    q: q.evaluate(),\n",
    "}\n",
    "display_latex({bugg: bugg.evaluate().subs({v: k for k, v in definitions.items()})})\n",
    "display_latex(definitions)"
   ]
  },
  {
   "cell_type": "markdown",
   "metadata": {},
   "source": [
    "One of the models uses a Bugg Breit-Wigner with an exponential factor:"
   ]
  },
  {
   "cell_type": "code",
   "execution_count": null,
   "metadata": {
    "jupyter": {
     "source_hidden": true
    },
    "tags": [
     "hide-input"
    ]
   },
   "outputs": [],
   "source": [
    "q = Q(s, m0, m1)\n",
    "alpha = sp.Symbol(\"alpha\")\n",
    "bugg * sp.exp(-alpha * q**2)"
   ]
  },
  {
   "cell_type": "markdown",
   "metadata": {},
   "source": [
    "## Flatté for S-waves"
   ]
  },
  {
   "cell_type": "code",
   "execution_count": null,
   "metadata": {
    "jupyter": {
     "source_hidden": true
    },
    "tags": [
     "hide-input"
    ]
   },
   "outputs": [],
   "source": [
    "Γ1, Γ2, m1_1, m2_1, m1_2, m2_2 = sp.symbols(\"Gamma1 Gamma2 m1_1 m2_1 m1_2 m2_2\")\n",
    "display_doit(FlattéSWave(s, m, (Γ1, Γ2), (m1_1, m2_1), (m1_2, m2_2)))"
   ]
  }
 ],
 "metadata": {
  "colab": {
   "toc_visible": true
  },
  "kernelspec": {
   "display_name": "Python 3 (ipykernel)",
   "language": "python",
   "name": "python3"
  },
  "language_info": {
   "codemirror_mode": {
    "name": "ipython",
    "version": 3
   },
   "file_extension": ".py",
   "mimetype": "text/x-python",
   "name": "python",
   "nbconvert_exporter": "python",
   "pygments_lexer": "ipython3",
   "version": "3.8.15"
  }
 },
 "nbformat": 4,
 "nbformat_minor": 4
}
