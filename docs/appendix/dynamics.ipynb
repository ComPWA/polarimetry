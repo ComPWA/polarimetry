{
 "cells": [
  {
   "cell_type": "markdown",
   "metadata": {},
   "source": [
    "# Dynamics lineshapes"
   ]
  },
  {
   "cell_type": "code",
   "execution_count": null,
   "metadata": {
    "mystnb": {
     "code_prompt_show": "Import Python libraries"
    },
    "tags": [
     "hide-cell",
     "scroll-input"
    ]
   },
   "outputs": [],
   "source": [
    "import matplotlib.pyplot as plt\n",
    "import numpy as np\n",
    "import sympy as sp\n",
    "from ampform.kinematics.phasespace import Kallen\n",
    "from ampform_dpd.dynamics import (\n",
    "    BlattWeisskopf,\n",
    "    BreitWignerMinL,\n",
    "    BuggBreitWigner,\n",
    "    EnergyDependentWidth,\n",
    "    FlattéSWave,\n",
    "    P,\n",
    "    Q,\n",
    ")\n",
    "from ampform_dpd.io import cached\n",
    "\n",
    "from polarimetry.io import display_doit, display_latex\n",
    "from polarimetry.lhcb import load_three_body_decay\n",
    "from polarimetry.lhcb.dynamics import formulate_flatte_1405\n",
    "from polarimetry.lhcb.particle import Σ, K, load_particles, p, π"
   ]
  },
  {
   "cell_type": "code",
   "execution_count": null,
   "metadata": {
    "tags": [
     "hide-input"
    ]
   },
   "outputs": [],
   "source": [
    "z = sp.Symbol(\"z\", positive=True)\n",
    "L = sp.Symbol(\"L\", integer=True, nonnegative=True)\n",
    "display_doit(BlattWeisskopf(z, L))"
   ]
  },
  {
   "cell_type": "code",
   "execution_count": null,
   "metadata": {
    "tags": [
     "hide-input"
    ]
   },
   "outputs": [],
   "source": [
    "x, y, z = sp.symbols(\"x:z\")\n",
    "display_doit(Kallen(x, y, z))"
   ]
  },
  {
   "cell_type": "code",
   "execution_count": null,
   "metadata": {
    "tags": [
     "hide-input"
    ]
   },
   "outputs": [],
   "source": [
    "s, m0, mi, mj, mk = sp.symbols(\"s m0 m_i:k\", nonnegative=True)\n",
    "display_doit(P(s, mi, mj))\n",
    "display_doit(Q(s, m0, mk))"
   ]
  },
  {
   "cell_type": "code",
   "execution_count": null,
   "metadata": {
    "tags": [
     "hide-input"
    ]
   },
   "outputs": [],
   "source": [
    "R = sp.Symbol(\"R\")\n",
    "l_R = sp.Symbol(\"l_R\", integer=True, positive=True)\n",
    "m, Γ0, m1, m2 = sp.symbols(\"m Γ0 m1 m2\", nonnegative=True)\n",
    "display_doit(EnergyDependentWidth(s, m, Γ0, m1, m2, l_R, R))"
   ]
  },
  {
   "cell_type": "markdown",
   "metadata": {},
   "source": [
    "## Relativistic Breit-Wigner"
   ]
  },
  {
   "cell_type": "code",
   "execution_count": null,
   "metadata": {
    "tags": [
     "hide-input"
    ]
   },
   "outputs": [],
   "source": [
    "m_top, m_spec = sp.symbols(R\"m_\\mathrm{top} m_\\mathrm{spectator}\")\n",
    "R_dec, R_prod = sp.symbols(R\"R_\\mathrm{res} R_{\\Lambda_c}\")\n",
    "l_Λc = sp.Symbol(R\"l_{\\Lambda_c}\", integer=True, positive=True)\n",
    "display_doit(BreitWignerMinL(s, m_top, m_spec, m, Γ0, m1, m2, l_R, l_Λc, R_dec, R_prod))"
   ]
  },
  {
   "cell_type": "markdown",
   "metadata": {},
   "source": [
    "## Bugg Breit-Wigner"
   ]
  },
  {
   "cell_type": "code",
   "execution_count": null,
   "metadata": {
    "tags": [
     "hide-input"
    ]
   },
   "outputs": [],
   "source": [
    "mKπ, m0, Γ0, mK, mπ, γ = sp.symbols(R\"m_{K\\pi} m0 Gamma0 m_K m_pi gamma\")\n",
    "bugg = BuggBreitWigner(mKπ**2, m0, Γ0, mK, mπ, γ)\n",
    "q = P(mKπ**2, mK, mπ)\n",
    "s_A = sp.Symbol(\"s_A\")\n",
    "definitions = {\n",
    "    s_A: mK**2 - mπ**2 / 2,\n",
    "    q: q.evaluate(),\n",
    "}\n",
    "display_latex({bugg: bugg.evaluate().subs({v: k for k, v in definitions.items()})})\n",
    "display_latex(definitions)"
   ]
  },
  {
   "cell_type": "markdown",
   "metadata": {},
   "source": [
    "One of the models uses a Bugg Breit-Wigner with an exponential factor:"
   ]
  },
  {
   "cell_type": "code",
   "execution_count": null,
   "metadata": {
    "tags": [
     "hide-input"
    ]
   },
   "outputs": [],
   "source": [
    "q = Q(s, m0, m1)\n",
    "alpha = sp.Symbol(\"alpha\")\n",
    "bugg * sp.exp(-alpha * q**2)"
   ]
  },
  {
   "cell_type": "markdown",
   "metadata": {},
   "source": [
    "## Flatté for S-waves"
   ]
  },
  {
   "cell_type": "code",
   "execution_count": null,
   "metadata": {
    "tags": [
     "hide-input"
    ]
   },
   "outputs": [],
   "source": [
    "Γ1, Γ2, m1, m2, mπ, mΣ = sp.symbols(\"Gamma1 Gamma2 m1 m2 m_pi m_Sigma\")\n",
    "display_doit(FlattéSWave(s, m, (Γ1, Γ2), (m1, m2), (mπ, mΣ)))"
   ]
  },
  {
   "cell_type": "markdown",
   "metadata": {},
   "source": [
    "where, in this analysis, we couple the $\\Lambda(1405)$ resonance to the channel $\\Lambda(1405) \\to \\Sigma^-\\pi^+$."
   ]
  },
  {
   "cell_type": "markdown",
   "metadata": {},
   "source": [
    "## Get decay chain"
   ]
  },
  {
   "cell_type": "code",
   "execution_count": null,
   "metadata": {},
   "outputs": [],
   "source": [
    "particles = load_particles(\"../../data/particle-definitions.yaml\")"
   ]
  },
  {
   "cell_type": "code",
   "execution_count": null,
   "metadata": {},
   "outputs": [],
   "source": [
    "decay = load_three_body_decay([\"L(1405)\"], particles, min_ls=False)"
   ]
  },
  {
   "cell_type": "code",
   "execution_count": null,
   "metadata": {},
   "outputs": [],
   "source": [
    "for i, chain in enumerate(decay.chains):\n",
    "    print(i, chain.incoming_ls, chain.outgoing_ls)"
   ]
  },
  {
   "cell_type": "code",
   "execution_count": null,
   "metadata": {},
   "outputs": [],
   "source": [
    "extracted_expr_chain0, params_chain0 = formulate_flatte_1405(decay.chains[0])\n",
    "extracted_expr_chain1, params_chain1 = formulate_flatte_1405(decay.chains[1])"
   ]
  },
  {
   "cell_type": "code",
   "execution_count": null,
   "metadata": {},
   "outputs": [],
   "source": [
    "extracted_expr_chain1"
   ]
  },
  {
   "cell_type": "code",
   "execution_count": null,
   "metadata": {},
   "outputs": [],
   "source": [
    "flatte_function_chain0 = cached.lambdify(\n",
    "    extracted_expr_chain0.doit(),\n",
    "    parameters=params_chain0,\n",
    "    backend=\"jax\",\n",
    ")\n",
    "flatte_function_chain1 = cached.lambdify(\n",
    "    extracted_expr_chain1.doit(),\n",
    "    parameters=params_chain1,\n",
    "    backend=\"jax\",\n",
    ")"
   ]
  },
  {
   "cell_type": "code",
   "execution_count": null,
   "metadata": {},
   "outputs": [],
   "source": [
    "fig, axes = plt.subplots(nrows=2, figsize=(9, 9))\n",
    "ax0, ax1 = axes\n",
    "x = np.linspace(0, 5, 300)\n",
    "ax0.plot(x, np.abs(flatte_function_chain0({\"sigma2\": x**2})), label=R\"Abs $F$\")\n",
    "ax0.plot(x, flatte_function_chain0({\"sigma2\": x**2}).imag, label=R\"Im $F$\")\n",
    "ax0.plot(x, flatte_function_chain0({\"sigma2\": x**2}).real, label=R\"Re $F$\")\n",
    "ax0.axvline(\n",
    "    K.mass + p.mass,\n",
    "    color=\"gray\",\n",
    "    linestyle=\"dotted\",\n",
    "    label=R\"$K p$\",\n",
    ")\n",
    "ax0.axvline(\n",
    "    Σ.mass + π.mass,\n",
    "    color=\"black\",\n",
    "    linestyle=\"--\",\n",
    "    label=R\"$\\Sigma \\pi$\",\n",
    ")\n",
    "ax0.axvline(\n",
    "    flatte_function_chain0.parameters[\"m_{L(1405)}\"],\n",
    "    color=\"red\",\n",
    "    linestyle=\"--\",\n",
    "    label=R\"Mass $m_{L(1405)}$\",\n",
    ")\n",
    "ax0.legend()\n",
    "\n",
    "ax1.plot(x, np.abs(flatte_function_chain1({\"sigma2\": x**2})), label=R\"Abs $F$\")\n",
    "ax1.plot(x, flatte_function_chain1({\"sigma2\": x**2}).imag, label=R\"Im $F$\")\n",
    "ax1.plot(x, flatte_function_chain1({\"sigma2\": x**2}).real, label=R\"Re $F$\")\n",
    "ax1.axvline(\n",
    "    K.mass + p.mass,\n",
    "    color=\"gray\",\n",
    "    linestyle=\"dotted\",\n",
    "    label=R\"$K p$\",\n",
    ")\n",
    "ax1.axvline(\n",
    "    Σ.mass + π.mass,\n",
    "    color=\"black\",\n",
    "    linestyle=\"--\",\n",
    "    label=R\"$\\Sigma \\pi$\",\n",
    ")\n",
    "ax1.axvline(\n",
    "    flatte_function_chain0.parameters[\"m_{L(1405)}\"],\n",
    "    color=\"red\",\n",
    "    linestyle=\"--\",\n",
    "    label=R\"Mass $m_{L(1405)}$\",\n",
    ")\n",
    "ax1.set_title(\n",
    "    f\"Decay chain 1, production {decay.chain[1].incoming_ls}, decay {chain[1].outgoing_ls}\"\n",
    ")\n",
    "ax1.legend()\n",
    "plt.show()"
   ]
  }
 ],
 "metadata": {
  "colab": {
   "toc_visible": true
  },
  "kernelspec": {
   "display_name": "Python 3 (ipykernel)",
   "language": "python",
   "name": "python3"
  },
  "language_info": {
   "codemirror_mode": {
    "name": "ipython",
    "version": 3
   },
   "file_extension": ".py",
   "mimetype": "text/x-python",
   "name": "python",
   "nbconvert_exporter": "python",
   "pygments_lexer": "ipython3",
   "version": "3.12.8"
  }
 },
 "nbformat": 4,
 "nbformat_minor": 4
}
