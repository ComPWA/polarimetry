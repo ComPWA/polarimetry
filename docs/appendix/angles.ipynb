{
 "cells": [
  {
   "cell_type": "markdown",
   "metadata": {},
   "source": [
    "# DPD angles"
   ]
  },
  {
   "cell_type": "markdown",
   "metadata": {},
   "source": [
    "```{autolink-concat}\n",
    "```"
   ]
  },
  {
   "cell_type": "code",
   "execution_count": null,
   "metadata": {
    "jupyter": {
     "source_hidden": true
    },
    "tags": [
     "hide-cell"
    ]
   },
   "outputs": [],
   "source": [
    "from polarimetry.amplitude.angles import (\n",
    "    formulate_scattering_angle,\n",
    "    formulate_theta_hat_angle,\n",
    "    formulate_zeta_angle,\n",
    ")\n",
    "from polarimetry.io import display_latex"
   ]
  },
  {
   "cell_type": "markdown",
   "metadata": {},
   "source": [
    "[Equation (A1)](https://journals.aps.org/prd/pdf/10.1103/PhysRevD.101.034033#page=9) from {cite}`JPAC:2019ufm`:"
   ]
  },
  {
   "cell_type": "code",
   "execution_count": null,
   "metadata": {
    "jupyter": {
     "source_hidden": true
    },
    "tags": [
     "hide-input"
    ]
   },
   "outputs": [],
   "source": [
    "angles = [\n",
    "    formulate_scattering_angle(1, 2),\n",
    "    formulate_scattering_angle(2, 3),\n",
    "    formulate_scattering_angle(3, 1),\n",
    "]\n",
    "display_latex(dict(angles))"
   ]
  },
  {
   "cell_type": "markdown",
   "metadata": {},
   "source": [
    "```{only} html\n",
    "[Equation (A2)](https://journals.aps.org/prd/pdf/10.1103/PhysRevD.101.034033#page=9):\n",
    "```"
   ]
  },
  {
   "cell_type": "code",
   "execution_count": null,
   "metadata": {
    "tags": []
   },
   "outputs": [],
   "source": [
    "for i in [1, 2, 3]:\n",
    "    _, θii = formulate_theta_hat_angle(i, i)\n",
    "    assert θii == 0"
   ]
  },
  {
   "cell_type": "markdown",
   "metadata": {},
   "source": [
    "[Equation (A3)](https://journals.aps.org/prd/pdf/10.1103/PhysRevD.101.034033#page=10):"
   ]
  },
  {
   "cell_type": "code",
   "execution_count": null,
   "metadata": {
    "jupyter": {
     "source_hidden": true
    },
    "tags": [
     "hide-input"
    ]
   },
   "outputs": [],
   "source": [
    "angles = [\n",
    "    formulate_theta_hat_angle(3, 1),\n",
    "    formulate_theta_hat_angle(1, 2),\n",
    "    formulate_theta_hat_angle(2, 3),\n",
    "]\n",
    "display_latex(dict(angles))"
   ]
  },
  {
   "cell_type": "markdown",
   "metadata": {},
   "source": [
    "```{only} html\n",
    "[Equations (A4-5)](https://journals.aps.org/prd/pdf/10.1103/PhysRevD.101.034033#page=10):\n",
    "```"
   ]
  },
  {
   "cell_type": "code",
   "execution_count": null,
   "metadata": {
    "jupyter": {
     "source_hidden": true
    },
    "tags": [
     "hide-cell"
    ]
   },
   "outputs": [],
   "source": [
    "θ31hat = formulate_theta_hat_angle(3, 1)[1]\n",
    "θ13hat = formulate_theta_hat_angle(1, 3)[1]\n",
    "θ12hat = formulate_theta_hat_angle(1, 2)[1]\n",
    "θ21hat = formulate_theta_hat_angle(2, 1)[1]\n",
    "θ23hat = formulate_theta_hat_angle(2, 3)[1]\n",
    "θ32hat = formulate_theta_hat_angle(3, 2)[1]"
   ]
  },
  {
   "cell_type": "code",
   "execution_count": null,
   "metadata": {},
   "outputs": [],
   "source": [
    "assert θ31hat == -θ13hat\n",
    "assert θ12hat == -θ21hat\n",
    "assert θ23hat == -θ32hat"
   ]
  },
  {
   "cell_type": "markdown",
   "metadata": {},
   "source": [
    "```{only} html\n",
    "[Equations (A6)](https://journals.aps.org/prd/pdf/10.1103/PhysRevD.101.034033#page=10):\n",
    "```"
   ]
  },
  {
   "cell_type": "code",
   "execution_count": null,
   "metadata": {
    "tags": []
   },
   "outputs": [],
   "source": [
    "for i in [1, 2, 3]:\n",
    "    for k in [1, 2, 3]:\n",
    "        _, ζi_k0 = formulate_zeta_angle(i, k, 0)\n",
    "        _, ζi_ki = formulate_zeta_angle(i, k, i)\n",
    "        _, ζi_kk = formulate_zeta_angle(i, k, k)\n",
    "        assert ζi_ki == ζi_k0\n",
    "        assert ζi_kk == 0"
   ]
  },
  {
   "cell_type": "markdown",
   "metadata": {},
   "source": [
    "[Equations (A7)](https://journals.aps.org/prd/pdf/10.1103/PhysRevD.101.034033#page=10):"
   ]
  },
  {
   "cell_type": "code",
   "execution_count": null,
   "metadata": {
    "jupyter": {
     "source_hidden": true
    },
    "tags": [
     "hide-input"
    ]
   },
   "outputs": [],
   "source": [
    "angles = [\n",
    "    formulate_zeta_angle(1, 1, 3),\n",
    "    formulate_zeta_angle(1, 2, 1),\n",
    "    formulate_zeta_angle(2, 2, 1),\n",
    "    formulate_zeta_angle(2, 3, 2),\n",
    "    formulate_zeta_angle(3, 3, 2),\n",
    "    formulate_zeta_angle(3, 1, 3),\n",
    "]\n",
    "display_latex(dict(angles))"
   ]
  },
  {
   "cell_type": "markdown",
   "metadata": {},
   "source": [
    "```{only} html\n",
    "[Equations (A8)](https://journals.aps.org/prd/pdf/10.1103/PhysRevD.101.034033#page=10):\n",
    "```"
   ]
  },
  {
   "cell_type": "code",
   "execution_count": null,
   "metadata": {
    "jupyter": {
     "source_hidden": true
    },
    "tags": [
     "hide-cell"
    ]
   },
   "outputs": [],
   "source": [
    "ζ1_12 = formulate_zeta_angle(1, 1, 2)[1]\n",
    "ζ1_21 = formulate_zeta_angle(1, 2, 1)[1]\n",
    "ζ2_23 = formulate_zeta_angle(2, 2, 3)[1]\n",
    "ζ2_32 = formulate_zeta_angle(2, 3, 2)[1]\n",
    "ζ3_31 = formulate_zeta_angle(3, 3, 1)[1]\n",
    "ζ3_13 = formulate_zeta_angle(3, 1, 3)[1]"
   ]
  },
  {
   "cell_type": "code",
   "execution_count": null,
   "metadata": {},
   "outputs": [],
   "source": [
    "assert ζ1_12 == -ζ1_21\n",
    "assert ζ2_23 == -ζ2_32\n",
    "assert ζ3_31 == -ζ3_13"
   ]
  },
  {
   "cell_type": "markdown",
   "metadata": {},
   "source": [
    "[Equations (A10)](https://journals.aps.org/prd/pdf/10.1103/PhysRevD.101.034033#page=11):"
   ]
  },
  {
   "cell_type": "code",
   "execution_count": null,
   "metadata": {
    "jupyter": {
     "source_hidden": true
    },
    "tags": [
     "hide-input"
    ]
   },
   "outputs": [],
   "source": [
    "angles = [\n",
    "    formulate_zeta_angle(1, 2, 3),\n",
    "    formulate_zeta_angle(2, 3, 1),\n",
    "    formulate_zeta_angle(3, 1, 2),\n",
    "]\n",
    "display_latex(dict(angles))"
   ]
  },
  {
   "cell_type": "markdown",
   "metadata": {},
   "source": [
    "```{only} html\n",
    "[Equations (A11)](https://journals.aps.org/prd/pdf/10.1103/PhysRevD.101.034033#page=11):\n",
    "```"
   ]
  },
  {
   "cell_type": "code",
   "execution_count": null,
   "metadata": {
    "jupyter": {
     "source_hidden": true
    },
    "tags": [
     "hide-cell"
    ]
   },
   "outputs": [],
   "source": [
    "ζ1_32 = formulate_zeta_angle(1, 3, 2)[1]\n",
    "ζ1_23 = formulate_zeta_angle(1, 2, 3)[1]\n",
    "ζ2_13 = formulate_zeta_angle(2, 1, 3)[1]\n",
    "ζ2_31 = formulate_zeta_angle(2, 3, 1)[1]\n",
    "ζ3_21 = formulate_zeta_angle(3, 2, 1)[1]\n",
    "ζ3_12 = formulate_zeta_angle(3, 1, 2)[1]"
   ]
  },
  {
   "cell_type": "code",
   "execution_count": null,
   "metadata": {},
   "outputs": [],
   "source": [
    "assert ζ1_32 == -ζ1_23\n",
    "assert ζ2_13 == -ζ2_31\n",
    "assert ζ3_21 == -ζ3_12"
   ]
  }
 ],
 "metadata": {
  "colab": {
   "toc_visible": true
  },
  "kernelspec": {
   "display_name": "Python 3 (ipykernel)",
   "language": "python",
   "name": "python3"
  },
  "language_info": {
   "codemirror_mode": {
    "name": "ipython",
    "version": 3
   },
   "file_extension": ".py",
   "mimetype": "text/x-python",
   "name": "python",
   "nbconvert_exporter": "python",
   "pygments_lexer": "ipython3",
   "version": "3.8.15"
  }
 },
 "nbformat": 4,
 "nbformat_minor": 4
}
