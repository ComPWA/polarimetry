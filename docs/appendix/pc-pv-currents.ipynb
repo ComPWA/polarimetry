{
 "cells": [
  {
   "cell_type": "markdown",
   "metadata": {},
   "source": [
    "# PC and PV currents"
   ]
  },
  {
   "cell_type": "markdown",
   "metadata": {},
   "source": [
    "```{autolink-concat}\n",
    "```"
   ]
  },
  {
   "cell_type": "code",
   "execution_count": null,
   "metadata": {
    "jupyter": {
     "source_hidden": true
    },
    "mystnb": {
     "code_prompt_show": "Import python libraries"
    },
    "tags": [
     "hide-cell",
     "scroll-input"
    ]
   },
   "outputs": [],
   "source": [
    "from __future__ import annotations\n",
    "\n",
    "import itertools\n",
    "import re\n",
    "from pathlib import Path\n",
    "\n",
    "import cloudpickle\n",
    "import numpy as np\n",
    "import plotly.graph_objects as go\n",
    "import sympy as sp\n",
    "from ampform.sympy._cache import cache_to_disk\n",
    "from ampform_dpd import AmplitudeModel  # pyright:ignore[reportPrivateUsage]\n",
    "from ampform_dpd.io import cached\n",
    "from IPython.display import Markdown\n",
    "from tensorwaves.interface import ParametrizedFunction\n",
    "from tqdm.auto import tqdm\n",
    "\n",
    "from polarimetry.data import create_data_transformer, generate_phasespace_sample\n",
    "from polarimetry.function import integrate_intensity\n",
    "from polarimetry.io import mute_jax_warnings\n",
    "from polarimetry.lhcb import load_model_builder, load_model_parameters\n",
    "from polarimetry.lhcb.particle import load_particles\n",
    "\n",
    "mute_jax_warnings()\n",
    "\n",
    "MODEL_FILE = \"../../data/model-definitions.yaml\"\n",
    "PARTICLES = load_particles(\"../../data/particle-definitions.yaml\")"
   ]
  },
  {
   "cell_type": "markdown",
   "metadata": {},
   "source": [
    "## Model formulation"
   ]
  },
  {
   "cell_type": "code",
   "execution_count": null,
   "metadata": {
    "jupyter": {
     "source_hidden": true
    },
    "tags": [
     "hide-input"
    ]
   },
   "outputs": [],
   "source": [
    "def formulate_model(title: str) -> AmplitudeModel:\n",
    "    builder = load_model_builder(MODEL_FILE, PARTICLES, title)\n",
    "    imported_parameters = load_model_parameters(\n",
    "        MODEL_FILE, builder.decay, title, PARTICLES\n",
    "    )\n",
    "    model = builder.formulate()\n",
    "    model.parameter_defaults.update(imported_parameters)\n",
    "    return model\n",
    "\n",
    "\n",
    "DEFAULT_MODEL = formulate_model(\"Default amplitude model\")\n",
    "LS_MODEL = formulate_model(\"Alternative amplitude model obtained using LS couplings\")"
   ]
  },
  {
   "cell_type": "code",
   "execution_count": null,
   "metadata": {
    "jupyter": {
     "source_hidden": true
    },
    "mystnb": {
     "code_prompt_show": "Convert expressions to numerical functions"
    },
    "tags": [
     "hide-input",
     "scroll-input"
    ]
   },
   "outputs": [],
   "source": [
    "@cache_to_disk(\n",
    "    dependencies=[\n",
    "        \"ampform\",\n",
    "        \"ampform_dpd\",\n",
    "        \"cloudpickle\",\n",
    "        \"jax\",\n",
    "        \"lc2pkpi-polarimetry\",\n",
    "        \"sympy\",\n",
    "    ],\n",
    "    dump_function=cloudpickle.dump,\n",
    ")\n",
    "def lambdify_ls_and_default_model() -> tuple[\n",
    "    ParametrizedFunction, ParametrizedFunction\n",
    "]:\n",
    "    return lambdify(DEFAULT_MODEL), lambdify(LS_MODEL)\n",
    "\n",
    "\n",
    "def lambdify(model: AmplitudeModel) -> sp.Expr:\n",
    "    intensity_expr = cached.unfold(model)\n",
    "    pars = model.parameter_defaults\n",
    "    free_parameters = {s: v for s, v in pars.items() if \"production\" in str(s)}\n",
    "    fixed_parameters = {s: v for s, v in pars.items() if s not in free_parameters}\n",
    "    subs_intensity_expr = cached.xreplace(intensity_expr, fixed_parameters)\n",
    "    return cached.lambdify(subs_intensity_expr, free_parameters)\n",
    "\n",
    "\n",
    "DEFAULT_INTENSITY_FUNC, LS_INTENSITY_FUNC = lambdify_ls_and_default_model()"
   ]
  },
  {
   "cell_type": "markdown",
   "metadata": {},
   "source": [
    "## Compute decay rates"
   ]
  },
  {
   "cell_type": "code",
   "execution_count": null,
   "metadata": {},
   "outputs": [],
   "source": [
    "TRANSFORMER = create_data_transformer(DEFAULT_MODEL)\n",
    "PHSP = generate_phasespace_sample(DEFAULT_MODEL.decay, n_events=100_000, seed=0)\n",
    "PHSP = TRANSFORMER(PHSP)"
   ]
  },
  {
   "cell_type": "code",
   "execution_count": null,
   "metadata": {
    "jupyter": {
     "source_hidden": true
    },
    "tags": [
     "hide-input",
     "scroll-input"
    ]
   },
   "outputs": [],
   "source": [
    "def compute_decay_rate_matrix(\n",
    "    intensity_func: ParametrizedFunction,\n",
    ") -> tuple[list[str], np.ndarray]:\n",
    "    I_tot = integrate_intensity(intensity_func(PHSP))\n",
    "    couplings = sorted(p for p in intensity_func.parameters if \"product\" in p)\n",
    "    n_couplings = len(couplings)\n",
    "    matrix = np.zeros((n_couplings, n_couplings))\n",
    "    original_parameters = dict(intensity_func.parameters)\n",
    "    cache: dict[tuple[int, int]] = {}\n",
    "    progress_bar = tqdm(\n",
    "        desc=\"Computing decay rates\",\n",
    "        total=n_couplings * (n_couplings + 1) // 2,\n",
    "    )\n",
    "    items = list(enumerate(couplings))\n",
    "    for (i, ci), (j, cj) in itertools.product(items, items):\n",
    "        pi = _simplify_name(ci)\n",
    "        pj = _simplify_name(cj)\n",
    "        progress_bar.set_postfix_str(Rf\"{pi} x {pj}\")\n",
    "        transpose_value = cache.get((j, i))\n",
    "        if transpose_value is None:\n",
    "            new_parameters = dict.fromkeys(couplings, 0)\n",
    "            new_parameters[ci] = original_parameters[ci]\n",
    "            new_parameters[cj] = original_parameters[cj]\n",
    "            intensity_func.update_parameters(new_parameters)\n",
    "            LS_I_sub = integrate_intensity(intensity_func(PHSP))\n",
    "            intensity_func.update_parameters(original_parameters)\n",
    "            cache[i, j] = LS_I_sub / I_tot\n",
    "            matrix[i, j] = cache[i, j]\n",
    "            progress_bar.update()\n",
    "        else:\n",
    "            cache[i, j] = transpose_value\n",
    "            matrix[i, j] = transpose_value\n",
    "    progress_bar.close()\n",
    "    return couplings, matrix\n",
    "\n",
    "\n",
    "def _simplify_name(latex: str) -> str:\n",
    "    name = \"\".join(re.match(r\"^.*\\[\\\\?([DKL])[a-z]*(.+)\\]$\", latex).groups())\n",
    "    return name.replace(\"D\", \"Δ\").replace(\"L\", \"Λ\").replace(\"1/2\", \"½\")"
   ]
  },
  {
   "cell_type": "code",
   "execution_count": null,
   "metadata": {},
   "outputs": [],
   "source": [
    "default_couplings, default_rates = compute_decay_rate_matrix(DEFAULT_INTENSITY_FUNC)"
   ]
  },
  {
   "cell_type": "code",
   "execution_count": null,
   "metadata": {},
   "outputs": [],
   "source": [
    "ls_couplings, ls_rates = compute_decay_rate_matrix(LS_INTENSITY_FUNC)"
   ]
  },
  {
   "cell_type": "markdown",
   "metadata": {},
   "source": [
    "## Visualize decay rates"
   ]
  },
  {
   "cell_type": "code",
   "execution_count": null,
   "metadata": {
    "jupyter": {
     "source_hidden": true
    },
    "tags": [
     "hide-input",
     "scroll-input"
    ]
   },
   "outputs": [],
   "source": [
    "def visualize_rates(couplings: list[str], rates: np.ndarray, model_name: str) -> Path:\n",
    "    categories = np.full((len(couplings), len(couplings)), \"\")\n",
    "    for (i, ci), (j, cj) in itertools.product(\n",
    "        enumerate(couplings),\n",
    "        enumerate(couplings),\n",
    "    ):\n",
    "        subsystem_i = _simplify_name(ci)[0]\n",
    "        subsystem_j = _simplify_name(cj)[0]\n",
    "        if subsystem_i == subsystem_j:\n",
    "            categories[i, j] = subsystem_i.replace(\"Δ\", \"D\").replace(\"Λ\", \"L\")\n",
    "    labels = [_simplify_name(c) for c in couplings]\n",
    "    category_colors = {\n",
    "        \"K\": \"Reds\",\n",
    "        \"L\": \"Blues\",\n",
    "        \"D\": \"Greens\",\n",
    "        \"\": \"Greys\",\n",
    "    }\n",
    "    fig = go.Figure()\n",
    "    for cat, colorscale in category_colors.items():\n",
    "        mask = categories == cat\n",
    "        heatmap_values = np.where(mask, rates, np.nan)\n",
    "        fig.add_trace(\n",
    "            go.Heatmap(\n",
    "                x=labels,\n",
    "                y=labels,\n",
    "                z=heatmap_values,\n",
    "                colorscale=colorscale,\n",
    "                customdata=100 * rates,\n",
    "                showscale=False,\n",
    "            )\n",
    "        )\n",
    "    fig.update_layout(\n",
    "        autosize=False,\n",
    "        height=650,\n",
    "        paper_bgcolor=\"rgba(0, 0, 0, 0)\",\n",
    "        plot_bgcolor=\"rgba(0, 0, 0, 0)\",\n",
    "        title=dict(\n",
    "            text=f\"Decay rates of {model_name}\",\n",
    "            xanchor=\"center\",\n",
    "            x=0.5,\n",
    "            y=0.89,\n",
    "        ),\n",
    "    )\n",
    "    fig.update_scenes(aspectmode=\"data\")\n",
    "    fig.update_traces(\n",
    "        hovertemplate=\"%{x}<br>%{y}<br>Decay rate: <b>%{customdata:.3g}%</b><extra></extra>\"\n",
    "    )\n",
    "    file_id = model_name.replace(\" \", \"-\").lower()\n",
    "    file_path = f\"../_static/images/pc-pv-rates-{file_id}.svg\"\n",
    "    fig.write_image(file_path)\n",
    "    fig.show()\n",
    "    return Path(file_path)"
   ]
  },
  {
   "cell_type": "code",
   "execution_count": null,
   "metadata": {
    "jupyter": {
     "source_hidden": true
    },
    "tags": [
     "hide-input",
     "full-width"
    ]
   },
   "outputs": [],
   "source": [
    "def_file = visualize_rates(default_couplings, default_rates, \"default model\")\n",
    "ls_file = visualize_rates(ls_couplings, ls_rates, \"LS model\")"
   ]
  },
  {
   "cell_type": "code",
   "execution_count": null,
   "metadata": {
    "jupyter": {
     "source_hidden": true
    },
    "tags": [
     "remove-input"
    ]
   },
   "outputs": [],
   "source": [
    "Markdown(f\"\"\"\n",
    "SVG files can be downloaded here:\n",
    "- [`{def_file.name}`]({def_file})\n",
    "- [`{ls_file.name}`]({ls_file})\n",
    "\"\"\")"
   ]
  }
 ],
 "metadata": {
  "colab": {
   "toc_visible": true
  },
  "kernelspec": {
   "display_name": "Python 3 (ipykernel)",
   "language": "python",
   "name": "python3"
  },
  "language_info": {
   "codemirror_mode": {
    "name": "ipython",
    "version": 3
   },
   "file_extension": ".py",
   "mimetype": "text/x-python",
   "name": "python",
   "nbconvert_exporter": "python",
   "pygments_lexer": "ipython3",
   "version": "3.12.9"
  }
 },
 "nbformat": 4,
 "nbformat_minor": 4
}
