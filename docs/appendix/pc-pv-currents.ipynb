{
 "cells": [
  {
   "cell_type": "markdown",
   "metadata": {},
   "source": [
    "# PC and PV currents"
   ]
  },
  {
   "cell_type": "markdown",
   "metadata": {},
   "source": [
    "```{autolink-concat}\n",
    "```"
   ]
  },
  {
   "cell_type": "code",
   "execution_count": null,
   "metadata": {
    "jupyter": {
     "source_hidden": true
    },
    "mystnb": {
     "code_prompt_show": "Import python libraries"
    },
    "tags": [
     "hide-cell",
     "scroll-input"
    ]
   },
   "outputs": [],
   "source": [
    "from __future__ import annotations\n",
    "\n",
    "import itertools\n",
    "import re\n",
    "from collections.abc import Iterable\n",
    "from functools import cache\n",
    "from pathlib import Path\n",
    "\n",
    "import cloudpickle\n",
    "import jax.numpy as jnp\n",
    "import matplotlib.pyplot as plt\n",
    "import numpy as np\n",
    "import plotly.graph_objects as go\n",
    "import sympy as sp\n",
    "import unicodeitplus\n",
    "from ampform.io import aslatex\n",
    "from ampform.sympy._cache import cache_to_disk\n",
    "from ampform_dpd import AmplitudeModel  # pyright:ignore[reportPrivateUsage]\n",
    "from ampform_dpd.decay import IsobarNode, ThreeBodyDecayChain, to_particle\n",
    "from ampform_dpd.io import cached\n",
    "from IPython.display import HTML, Markdown, Math, display\n",
    "from matplotlib.patches import Rectangle\n",
    "from matplotlib.ticker import FuncFormatter\n",
    "from matplotlib_inline.backend_inline import set_matplotlib_formats\n",
    "from plotly.subplots import make_subplots\n",
    "from tensorwaves.interface import ParametrizedFunction\n",
    "from tqdm.auto import tqdm\n",
    "\n",
    "from polarimetry.data import create_data_transformer, generate_phasespace_sample\n",
    "from polarimetry.function import integrate_intensity\n",
    "from polarimetry.io import mute_jax_warnings\n",
    "from polarimetry.lhcb import load_model_builder, load_model_parameters\n",
    "from polarimetry.lhcb.particle import load_particles\n",
    "from polarimetry.plot import reduce_svg_size, use_mpl_latex_fonts\n",
    "\n",
    "src = '<script type=\"text/javascript\" async src=\"https://cdnjs.cloudflare.com/ajax/libs/mathjax/2.7.1/MathJax.js?config=TeX-MML-AM_SVG\"></script>'\n",
    "display(HTML(src))\n",
    "mute_jax_warnings()\n",
    "set_matplotlib_formats(\"svg\")\n",
    "use_mpl_latex_fonts()\n",
    "\n",
    "MODEL_FILE = \"../../data/model-definitions.yaml\"\n",
    "PARTICLES = load_particles(\"../../data/particle-definitions.yaml\")"
   ]
  },
  {
   "cell_type": "markdown",
   "metadata": {
    "jp-MarkdownHeadingCollapsed": true
   },
   "source": [
    "## Model formulation"
   ]
  },
  {
   "cell_type": "code",
   "execution_count": null,
   "metadata": {
    "jupyter": {
     "source_hidden": true
    },
    "tags": [
     "hide-input"
    ]
   },
   "outputs": [],
   "source": [
    "def formulate_model(title: str) -> AmplitudeModel:\n",
    "    builder = load_model_builder(MODEL_FILE, PARTICLES, title)\n",
    "    imported_parameters = load_model_parameters(\n",
    "        MODEL_FILE, builder.decay, title, PARTICLES\n",
    "    )\n",
    "    model = builder.formulate(reference_subsystem=1)\n",
    "    model.parameter_defaults.update(imported_parameters)\n",
    "    return model\n",
    "\n",
    "\n",
    "CANO_MODEL = formulate_model(\"Alternative amplitude model obtained using LS couplings\")\n",
    "HELI_MODEL = formulate_model(\"Default amplitude model\")"
   ]
  },
  {
   "cell_type": "code",
   "execution_count": null,
   "metadata": {
    "jupyter": {
     "source_hidden": true
    },
    "mystnb": {
     "code_prompt_show": "Convert expressions to numerical functions"
    },
    "tags": [
     "hide-input",
     "remove-output",
     "scroll-input"
    ]
   },
   "outputs": [],
   "source": [
    "@cache_to_disk(\n",
    "    dependencies=[\n",
    "        \"ampform\",\n",
    "        \"ampform_dpd\",\n",
    "        \"cloudpickle\",\n",
    "        \"jax\",\n",
    "        \"lc2pkpi-polarimetry\",\n",
    "        \"sympy\",\n",
    "    ],\n",
    "    dump_function=cloudpickle.dump,\n",
    ")\n",
    "def lambdify_ls_and_default_model() -> tuple[\n",
    "    ParametrizedFunction, ParametrizedFunction\n",
    "]:\n",
    "    return lambdify(HELI_MODEL), lambdify(CANO_MODEL)\n",
    "\n",
    "\n",
    "def lambdify(model: AmplitudeModel) -> sp.Expr:\n",
    "    intensity_expr = cached.unfold(model)\n",
    "    pars = model.parameter_defaults\n",
    "    free_parameters = {s: v for s, v in pars.items() if \"production\" in str(s)}\n",
    "    fixed_parameters = {s: v for s, v in pars.items() if s not in free_parameters}\n",
    "    subs_intensity_expr = cached.xreplace(intensity_expr, fixed_parameters)\n",
    "    return cached.lambdify(subs_intensity_expr, free_parameters)\n",
    "\n",
    "\n",
    "HELI_FUNC, CANO_FUNC = lambdify_ls_and_default_model()"
   ]
  },
  {
   "cell_type": "markdown",
   "metadata": {
    "jp-MarkdownHeadingCollapsed": true
   },
   "source": [
    "## Sort couplings by PC/PV"
   ]
  },
  {
   "cell_type": "code",
   "execution_count": null,
   "metadata": {
    "jupyter": {
     "source_hidden": true
    },
    "tags": [
     "hide-input",
     "hide-output"
    ]
   },
   "outputs": [],
   "source": [
    "def is_pc(node: IsobarNode) -> int:\n",
    "    \"\"\"Check if the production node in a decay is parity-conserving.\"\"\"\n",
    "    parent = to_particle(node.parent)\n",
    "    child1 = to_particle(node.child1)\n",
    "    child2 = to_particle(node.child2)\n",
    "    L = node.interaction.L\n",
    "    return parent.parity == child1.parity * child2.parity * (-1) ** L\n",
    "\n",
    "\n",
    "def get_chain_identifier(chain: ThreeBodyDecayChain) -> str:\n",
    "    resonance_id = chain.resonance.latex\n",
    "    S = to_frac(str(chain.incoming_ls.S), frac=False, use_sign=False)\n",
    "    return Rf\"{resonance_id} \\, {{}}^{{L={chain.incoming_ls.L}}}_{{S={S}}}\"\n",
    "\n",
    "\n",
    "@cache\n",
    "def to_frac(text: str, frac: bool, use_sign: bool) -> str:\n",
    "    if \"/\" in text:\n",
    "        denominator, nominator = text.split(\"/\")\n",
    "        denominator = int(denominator)\n",
    "        nominator = int(nominator)\n",
    "        sign = \"\"\n",
    "        if use_sign:\n",
    "            sign = \"-\" if denominator < 0 else \"+\"\n",
    "            denominator = f\"{abs(denominator)}\"\n",
    "        if frac:\n",
    "            return Rf\"{sign}\\frac{{{denominator}}}{{{nominator}}}\"\n",
    "        return Rf\"{sign}{denominator}/{nominator}\"\n",
    "    return text\n",
    "\n",
    "\n",
    "PC_PV_MAPPING: dict[str, bool] = {\n",
    "    get_chain_identifier(chain): Rf\"\\texttt{{{is_pc(chain.production_node)}}}\"\n",
    "    for chain in CANO_MODEL.decay.chains\n",
    "}\n",
    "Math(aslatex(PC_PV_MAPPING))"
   ]
  },
  {
   "cell_type": "code",
   "execution_count": null,
   "metadata": {
    "jupyter": {
     "source_hidden": true
    },
    "tags": [
     "hide-input",
     "scroll-input"
    ]
   },
   "outputs": [],
   "source": [
    "def sort_couplings(parameters: Iterable[str], helicity: bool) -> list[str]:\n",
    "    couplings = (p for p in parameters if \"production\" in p)\n",
    "    if helicity:\n",
    "        return sorted(couplings, key=factorize_latex)\n",
    "    return sorted(\n",
    "        couplings,\n",
    "        key=lambda x: (\n",
    "            PC_PV_MAPPING[get_partial_wave_latex(x, helicity)],\n",
    "            factorize_latex(x),\n",
    "        ),\n",
    "    )\n",
    "\n",
    "\n",
    "@cache\n",
    "def factorize_latex(coupling: str) -> tuple[str, int, str, str]:\n",
    "    resonance, mass, *indices = re.match(\n",
    "        r\"^.*\\[(\\\\?[DKL][a-z]*)\\((\\d+)\\), ([^,]+), ([^,]+)\\]$\", coupling\n",
    "    ).groups()\n",
    "    return resonance, int(mass), *indices\n",
    "\n",
    "\n",
    "@cache\n",
    "def get_partial_wave_latex(coupling: str, helicity: bool) -> str:\n",
    "    R, mass, *indices = factorize_latex(coupling)\n",
    "    if helicity:\n",
    "        latex_indices = (to_frac(x, frac=True, use_sign=True) for x in indices)\n",
    "        λ_resonance, λ_recoil = latex_indices\n",
    "        return f\"{R}({mass}), {λ_resonance}, {λ_recoil}\"\n",
    "    L, S = (to_frac(x, frac=False, use_sign=False) for x in indices)\n",
    "    return Rf\"{R}({mass}) \\, {{}}^{{L={L}}}_{{S={S}}}\""
   ]
  },
  {
   "cell_type": "code",
   "execution_count": null,
   "metadata": {},
   "outputs": [],
   "source": [
    "CANO_COUPLINGS = sort_couplings(CANO_FUNC.parameters, helicity=False)\n",
    "HELI_COUPLINGS = sort_couplings(HELI_FUNC.parameters, helicity=True)"
   ]
  },
  {
   "cell_type": "code",
   "execution_count": null,
   "metadata": {
    "jupyter": {
     "source_hidden": true
    },
    "tags": [
     "hide-input",
     "hide-output"
    ]
   },
   "outputs": [],
   "source": [
    "sp.Matrix([\n",
    "    [sp.Symbol(get_partial_wave_latex(s, helicity=False)) for s in CANO_COUPLINGS],\n",
    "    [sp.Symbol(get_partial_wave_latex(s, helicity=True)) for s in HELI_COUPLINGS],\n",
    "]).T"
   ]
  },
  {
   "cell_type": "markdown",
   "metadata": {},
   "source": [
    "## Compute decay rates"
   ]
  },
  {
   "cell_type": "code",
   "execution_count": null,
   "metadata": {
    "tags": [
     "remove-output"
    ]
   },
   "outputs": [],
   "source": [
    "TRANSFORMER = create_data_transformer(HELI_MODEL)\n",
    "PHSP = generate_phasespace_sample(HELI_MODEL.decay, n_events=100_000, seed=0)\n",
    "PHSP = TRANSFORMER(PHSP)"
   ]
  },
  {
   "cell_type": "code",
   "execution_count": null,
   "metadata": {
    "jupyter": {
     "source_hidden": true
    },
    "tags": [
     "hide-input",
     "scroll-input"
    ]
   },
   "outputs": [],
   "source": [
    "def compute_decay_rate_matrix(\n",
    "    intensity_func: ParametrizedFunction, couplings: list[str]\n",
    ") -> tuple[list[str], np.ndarray]:\n",
    "    I_tot = integrate_intensity(intensity_func(PHSP))\n",
    "    n_couplings = len(couplings)\n",
    "    matrix = np.zeros((n_couplings, n_couplings))\n",
    "    original_parameters = dict(intensity_func.parameters)\n",
    "    cache: dict[tuple[int, int]] = {}\n",
    "    progress_bar = tqdm(\n",
    "        desc=\"Computing decay rates\",\n",
    "        total=n_couplings * (n_couplings + 1) // 2,\n",
    "    )\n",
    "    is_helicity = is_helicity_func(intensity_func)\n",
    "    items = list(enumerate(couplings))\n",
    "    for (i, ci), (j, cj) in itertools.product(items, items):\n",
    "        pi = get_partial_wave_name(ci, is_helicity)\n",
    "        pj = get_partial_wave_name(cj, is_helicity)\n",
    "        progress_bar.set_postfix_str(Rf\"{pi} x {pj}\")\n",
    "        transpose_value = cache.get((j, i))\n",
    "        if transpose_value is None:\n",
    "            new_parameters = dict.fromkeys(couplings, 0)\n",
    "            new_parameters[ci] = original_parameters[ci]\n",
    "            new_parameters[cj] = original_parameters[cj]\n",
    "            intensity_func.update_parameters(new_parameters)\n",
    "            I_sub = integrate_intensity(intensity_func(PHSP))\n",
    "            intensity_func.update_parameters(original_parameters)\n",
    "            cache[i, j] = I_sub / I_tot\n",
    "            matrix[i, j] = cache[i, j]\n",
    "            progress_bar.update()\n",
    "        else:\n",
    "            cache[i, j] = transpose_value\n",
    "            matrix[i, j] = transpose_value\n",
    "    progress_bar.close()\n",
    "    return matrix\n",
    "\n",
    "\n",
    "def is_helicity_func(intensity_func: ParametrizedFunction) -> bool:\n",
    "    couplings = (p for p in intensity_func.parameters if \"production\" in p)\n",
    "    return not any(\"LS\" in p for p in couplings)\n",
    "\n",
    "\n",
    "@cache\n",
    "def get_partial_wave_name(coupling: str, helicity: bool) -> str:\n",
    "    latex = get_partial_wave_latex(coupling, helicity)\n",
    "    latex = re.sub(r\" \\\\, {}\\^{L=([^}]+)}_{S=([^}]+)}\", r\",\\1,\\2\", latex)\n",
    "    latex = re.sub(r\"\\\\frac{(\\d+)}{(\\d+)}\", r\"\\1/\\2\", latex)\n",
    "    latex = latex.replace(\"1/2\", \"½\")\n",
    "    latex = latex.replace(\"3/2\", \"3⁄2\")\n",
    "    return unicodeitplus.replace(latex)"
   ]
  },
  {
   "cell_type": "code",
   "execution_count": null,
   "metadata": {},
   "outputs": [],
   "source": [
    "CANO_RATES = compute_decay_rate_matrix(CANO_FUNC, CANO_COUPLINGS)\n",
    "assert CANO_RATES.shape == (len(CANO_COUPLINGS), len(CANO_COUPLINGS))"
   ]
  },
  {
   "cell_type": "code",
   "execution_count": null,
   "metadata": {},
   "outputs": [],
   "source": [
    "HELI_RATES = compute_decay_rate_matrix(HELI_FUNC, HELI_COUPLINGS)\n",
    "assert HELI_RATES.shape == (len(HELI_COUPLINGS), len(HELI_COUPLINGS))"
   ]
  },
  {
   "cell_type": "code",
   "execution_count": null,
   "metadata": {
    "jupyter": {
     "source_hidden": true
    },
    "tags": [
     "hide-input"
    ]
   },
   "outputs": [],
   "source": [
    "def compute_interference(rates: jnp.ndarray) -> jnp.ndarray:\n",
    "    m, n = rates.shape\n",
    "    assert m == n\n",
    "    d = rates.diagonal()\n",
    "    D = d * np.identity(m)\n",
    "    X = d[None] + d[None].T\n",
    "    return (rates - X + D) / 2 + D"
   ]
  },
  {
   "cell_type": "code",
   "execution_count": null,
   "metadata": {},
   "outputs": [],
   "source": [
    "CANO_INTERFERENCE = compute_interference(CANO_RATES)\n",
    "HELI_INTERFERENCE = compute_interference(HELI_RATES)"
   ]
  },
  {
   "cell_type": "markdown",
   "metadata": {},
   "source": [
    "## Visualize decay rates"
   ]
  },
  {
   "cell_type": "code",
   "execution_count": null,
   "metadata": {
    "jupyter": {
     "source_hidden": true
    },
    "tags": [
     "hide-input",
     "scroll-input"
    ]
   },
   "outputs": [],
   "source": [
    "def visualize_rates(\n",
    "    labels: list[str], rates: np.ndarray, model_name: str, helicity: bool\n",
    ") -> Path:\n",
    "    abs_max = float(jnp.abs(rates).max())\n",
    "    abs_max = np.floor(abs_max * 5) / 5\n",
    "    if not helicity:\n",
    "        rates = jnp.where(jnp.abs(rates) > 1e-7, rates, jnp.nan)\n",
    "    fig = go.Figure()\n",
    "    fig.add_trace(\n",
    "        go.Heatmap(\n",
    "            x=labels,\n",
    "            y=labels,\n",
    "            z=rates,\n",
    "            colorscale=\"RdBu_r\",\n",
    "            customdata=100 * rates,\n",
    "            hovertemplate=\"%{x}<br>%{y}<br>Decay rate: <b>%{customdata:+.3g}%</b><extra></extra>\",\n",
    "            zmin=-abs_max,\n",
    "            zmax=+abs_max,\n",
    "            colorbar=dict(\n",
    "                title=\"Decay rate\",\n",
    "                title_side=\"right\",\n",
    "                tickformat=\"+.0%\",\n",
    "            ),\n",
    "        )\n",
    "    )\n",
    "    if helicity:\n",
    "        indicate_subsystem(fig, 0, 7, label=\"𝐾<sup>*</sup>\")\n",
    "        indicate_subsystem(fig, 8, 13, label=\"𝛥<sup>*</sup>\")\n",
    "        indicate_subsystem(fig, 14, 25, label=\"𝛬</sup>*</sup>\")\n",
    "    else:\n",
    "        indicate_subsystem(fig, 0, 3, label=\"𝐾<sup>*</sup>\")\n",
    "        indicate_subsystem(fig, 4, 6, label=\"𝛥<sup>*</sup>\")\n",
    "        indicate_subsystem(fig, 7, 12, label=\"𝛬</sup>*</sup>\")\n",
    "        indicate_subsystem(fig, 13, 16, label=\"𝐾<sup>*</sup>\", legend=False)\n",
    "        indicate_subsystem(fig, 17, 19, label=\"𝛥<sup>*</sup>\", legend=False)\n",
    "        indicate_subsystem(fig, 20, 25, label=\"𝛬</sup>*</sup>\", legend=False)\n",
    "        fig.add_annotation(\n",
    "            x=13.5,\n",
    "            y=6,\n",
    "            font_size=15,\n",
    "            showarrow=False,\n",
    "            text=\"parity-violating\",\n",
    "            textangle=+90,\n",
    "        )\n",
    "        fig.add_annotation(\n",
    "            x=11.5,\n",
    "            y=19,\n",
    "            font_size=15,\n",
    "            text=\"parity-conserving\",\n",
    "            showarrow=False,\n",
    "            textangle=-90,\n",
    "        )\n",
    "    fig.update_layout(\n",
    "        autosize=False,\n",
    "        height=750,\n",
    "        legend=dict(font_size=16, yanchor=\"top\", y=1, xanchor=\"left\", x=0.85),\n",
    "        paper_bgcolor=\"rgba(0, 0, 0, 0)\",\n",
    "        title=dict(\n",
    "            text=f\"Decay rates of {model_name}\",\n",
    "            xanchor=\"center\",\n",
    "            x=0.5,\n",
    "            y=0.89,\n",
    "        ),\n",
    "    )\n",
    "    fig.update_scenes(aspectmode=\"data\")\n",
    "    fig.update_yaxes(autorange=\"reversed\")\n",
    "    return fig\n",
    "\n",
    "\n",
    "def indicate_subsystem(\n",
    "    fig: go.Figure,\n",
    "    idx1: int,\n",
    "    idx2: int,\n",
    "    label: str,\n",
    "    legend: bool = True,\n",
    "    col: int | None = None,\n",
    ") -> None:\n",
    "    colors = {\n",
    "        \"𝐾<sup>*</sup>\": (\"red\", \"rgba(255,0,0,0.1)\"),\n",
    "        \"𝛬</sup>*</sup>\": (\"green\", \"rgba(0,255,0,0.1)\"),\n",
    "        \"𝛥<sup>*</sup>\": (\"blue\", \"rgba(0,0,255,0.1)\"),\n",
    "    }\n",
    "    linecolor, fillcolor = colors[label]\n",
    "    left = idx1 - 0.5\n",
    "    right = idx2 + 0.5\n",
    "    kwargs = dict(\n",
    "        **dict(x0=left, x1=right, y0=left, y1=right),\n",
    "        fillcolor=fillcolor,\n",
    "        line=dict(color=linecolor, width=1),\n",
    "        name=label,\n",
    "        opacity=0.3,\n",
    "        showlegend=legend,\n",
    "        type=\"rect\",\n",
    "    )\n",
    "    if col is not None:\n",
    "        kwargs[\"col\"] = col\n",
    "        kwargs[\"row\"] = 1\n",
    "    return fig.add_shape(**kwargs)"
   ]
  },
  {
   "cell_type": "code",
   "execution_count": null,
   "metadata": {
    "jupyter": {
     "source_hidden": true
    },
    "tags": [
     "hide-input",
     "full-width"
    ]
   },
   "outputs": [],
   "source": [
    "CANO_LABELS = [get_partial_wave_name(p, helicity=False) for p in CANO_COUPLINGS]\n",
    "fig = visualize_rates(\n",
    "    CANO_LABELS, CANO_INTERFERENCE, \"LS model (canonical basis)\", helicity=False\n",
    ")\n",
    "CANONICAL_PATH = Path(\"../_static/images/decay-rates-default-canonical.svg\")\n",
    "fig.write_image(CANONICAL_PATH)\n",
    "fig"
   ]
  },
  {
   "cell_type": "code",
   "execution_count": null,
   "metadata": {
    "jupyter": {
     "source_hidden": true
    },
    "tags": [
     "hide-input",
     "full-width"
    ]
   },
   "outputs": [],
   "source": [
    "HELI_LABELS = [get_partial_wave_name(p, helicity=True) for p in HELI_COUPLINGS]\n",
    "fig = visualize_rates(\n",
    "    HELI_LABELS, HELI_INTERFERENCE, \"default model (helicity basis)\", helicity=True\n",
    ")\n",
    "HELICITY_PATH = Path(\"../_static/images/decay-rates-default-helicity.svg\")\n",
    "fig.write_image(HELICITY_PATH)\n",
    "fig"
   ]
  },
  {
   "cell_type": "code",
   "execution_count": null,
   "metadata": {
    "jupyter": {
     "source_hidden": true
    },
    "mystnb": {
     "code_prompt_show": "PV/PC currents as subplots"
    },
    "tags": [
     "hide-input",
     "scroll-input"
    ]
   },
   "outputs": [],
   "source": [
    "n_pv = 13\n",
    "rates = CANO_INTERFERENCE\n",
    "pv_rates = rates[:n_pv, :n_pv]\n",
    "pc_rates = rates[n_pv:, n_pv:]\n",
    "abs_max = float(jnp.abs(rates).max())\n",
    "abs_max = np.floor(abs_max * 5) / 5\n",
    "\n",
    "fig = make_subplots(\n",
    "    cols=2,\n",
    "    horizontal_spacing=0.18,\n",
    "    rows=1,\n",
    "    subplot_titles=(\n",
    "        \"parity-violating\",\n",
    "        \"parity-conserving\",\n",
    "    ),\n",
    ")\n",
    "heatmap_kwargs = dict(\n",
    "    colorscale=\"RdBu_r\",\n",
    "    hovertemplate=\"%{x}<br>%{y}<br>Decay rate: <b>%{customdata:+.3g}%</b><extra></extra>\",\n",
    "    zmin=-abs_max,\n",
    "    zmax=+abs_max,\n",
    ")\n",
    "fig.add_trace(\n",
    "    go.Heatmap(\n",
    "        x=CANO_LABELS[:n_pv],\n",
    "        y=CANO_LABELS[:n_pv],\n",
    "        z=pv_rates,\n",
    "        customdata=100 * pv_rates,\n",
    "        showscale=False,\n",
    "        **heatmap_kwargs,\n",
    "    ),\n",
    "    col=1,\n",
    "    row=1,\n",
    ")\n",
    "fig.add_trace(\n",
    "    go.Heatmap(\n",
    "        x=CANO_LABELS[n_pv:],\n",
    "        y=CANO_LABELS[n_pv:],\n",
    "        z=pc_rates,\n",
    "        customdata=100 * pc_rates,\n",
    "        colorbar=dict(\n",
    "            title=\"Decay rate\",\n",
    "            title_side=\"right\",\n",
    "            tickformat=\"+.0%\",\n",
    "            thickness=12,\n",
    "            xpad=1,\n",
    "        ),\n",
    "        **heatmap_kwargs,\n",
    "    ),\n",
    "    col=2,\n",
    "    row=1,\n",
    ")\n",
    "indicate_subsystem(fig, 0, 3, label=\"𝐾<sup>*</sup>\", col=1)\n",
    "indicate_subsystem(fig, 4, 6, label=\"𝛥<sup>*</sup>\", col=1)\n",
    "indicate_subsystem(fig, 7, 12, label=\"𝛬</sup>*</sup>\", col=1)\n",
    "indicate_subsystem(fig, 0, 3, label=\"𝐾<sup>*</sup>\", col=2, legend=False)\n",
    "indicate_subsystem(fig, 4, 6, label=\"𝛥<sup>*</sup>\", col=2, legend=False)\n",
    "indicate_subsystem(fig, 7, 12, label=\"𝛬</sup>*</sup>\", col=2, legend=False)\n",
    "fig.update_layout(\n",
    "    autosize=False,\n",
    "    height=420,\n",
    "    legend=dict(font_size=16, yanchor=\"top\", y=1, xanchor=\"left\", x=0.85),\n",
    "    paper_bgcolor=\"rgba(0, 0, 0, 0)\",\n",
    "    title=dict(\n",
    "        text=\"Decay rates of default model\",\n",
    "        xanchor=\"center\",\n",
    "        x=0.5,\n",
    "        y=0.87,\n",
    "    ),\n",
    ")\n",
    "fig.update_yaxes(autorange=\"reversed\")\n",
    "CANO_PATH_SPLIT = Path(\"../_static/images/decay-rates-default-canonical-split.svg\")\n",
    "fig.write_image(CANO_PATH_SPLIT)\n",
    "fig.show()"
   ]
  },
  {
   "cell_type": "code",
   "execution_count": null,
   "metadata": {
    "jupyter": {
     "source_hidden": true
    },
    "tags": [
     "hide-input"
    ]
   },
   "outputs": [],
   "source": [
    "def indicate_subsystem_mpl(ax, start, end, label, color):\n",
    "    x0 = start - 0.5\n",
    "    y0 = start - 0.5\n",
    "    w = end - start + 1\n",
    "    h = end - start + 1\n",
    "    rect = Rectangle(\n",
    "        (x0, y0),\n",
    "        w,\n",
    "        h,\n",
    "        edgecolor=color,\n",
    "        linewidth=1,\n",
    "        fill=False,\n",
    "        label=label,\n",
    "    )\n",
    "    ax.add_patch(rect)\n",
    "    return rect\n",
    "\n",
    "\n",
    "plt.rc(\"font\", size=13)\n",
    "fig, axes = plt.subplots(\n",
    "    constrained_layout=True,\n",
    "    dpi=300,\n",
    "    figsize=(10.5, 4.6),\n",
    "    ncols=2,\n",
    ")\n",
    "fig.patch.set_facecolor(\"none\")\n",
    "for ax in axes:\n",
    "    for spine in ax.spines.values():\n",
    "        spine.set_visible(False)\n",
    "    ax.patch.set_facecolor(\"none\")\n",
    "    ax.tick_params(axis=\"both\", which=\"both\", length=-4)\n",
    "    ax.xaxis.set_tick_params(pad=7)\n",
    "    ax.yaxis.set_tick_params(pad=7)\n",
    "ax1, ax2 = axes\n",
    "\n",
    "abs_max = 0.15\n",
    "vmin, vmax = -abs_max, +abs_max\n",
    "cmap = \"RdBu_r\"\n",
    "\n",
    "CANO_LABELS_LATEX = [\n",
    "    f\"${get_partial_wave_latex(p, helicity=False)}$\".replace(\n",
    "        R\"\\Delta\", R\"\\mathit{\\Delta}\"\n",
    "    ).replace(R\"\\Lambda\", R\"\\mathit{\\Lambda}\")\n",
    "    for p in CANO_COUPLINGS\n",
    "]\n",
    "im1 = ax1.imshow(pv_rates, cmap=cmap, vmin=vmin, vmax=vmax)\n",
    "im2 = ax2.imshow(pc_rates, cmap=cmap, vmin=vmin, vmax=vmax)\n",
    "ax1.set_xticks(np.arange(pv_rates.shape[1]))\n",
    "ax1.set_yticks(np.arange(pv_rates.shape[0]))\n",
    "ax1.set_xticklabels(CANO_LABELS_LATEX[:n_pv], rotation=90, ha=\"center\")\n",
    "ax1.set_yticklabels(CANO_LABELS_LATEX[:n_pv])\n",
    "ax2.set_xticks(np.arange(pc_rates.shape[1]))\n",
    "ax2.set_yticks(np.arange(pc_rates.shape[0]))\n",
    "ax2.set_xticklabels(CANO_LABELS_LATEX[n_pv:], rotation=90, ha=\"center\")\n",
    "ax2.set_yticklabels(CANO_LABELS_LATEX[n_pv:])\n",
    "\n",
    "indicate_subsystem_mpl(ax1, 0, 3, R\"$K^*$\", \"C0\")\n",
    "indicate_subsystem_mpl(ax1, 4, 6, R\"$\\mathit{\\Delta}^*$\", \"C2\")\n",
    "indicate_subsystem_mpl(ax1, 7, 12, R\"$\\mathit{\\Lambda}^*$\", \"C1\")\n",
    "handles = [\n",
    "    indicate_subsystem_mpl(ax2, 0, 3, R\"$K^*$\", \"C0\"),\n",
    "    indicate_subsystem_mpl(ax2, 4, 6, R\"$\\mathit{\\Delta}^*$\", \"C2\"),\n",
    "    indicate_subsystem_mpl(ax2, 7, 12, R\"$\\mathit{\\Lambda}^*$\", \"C1\"),\n",
    "]\n",
    "ax2.legend(\n",
    "    bbox_to_anchor=(0.7, 1.01),\n",
    "    frameon=False,\n",
    "    handles=handles,\n",
    "    handlelength=1.1,\n",
    "    handletextpad=0.4,\n",
    "    loc=\"upper left\",\n",
    ")\n",
    "\n",
    "cbar = fig.colorbar(im2, ax=axes, fraction=0.028, pad=0.01)\n",
    "cbar.formatter = FuncFormatter(lambda x, _: Rf\"${100 * x:+.0f}\\%$\" if x else R\"$0\\%$\")\n",
    "cbar.set_label(\"Decay rate\", rotation=90, labelpad=-2)\n",
    "\n",
    "CANO_PATH_MPL = \"../_static/images/decay-rates-default-canonical-split-matplotlib.svg\"\n",
    "fig.savefig(CANO_PATH_MPL, bbox_inches=\"tight\")\n",
    "plt.show()"
   ]
  },
  {
   "cell_type": "code",
   "execution_count": null,
   "metadata": {
    "jupyter": {
     "source_hidden": true
    },
    "tags": [
     "hide-input",
     "scroll-input"
    ]
   },
   "outputs": [],
   "source": [
    "fig1 = go.Figure(\n",
    "    data=go.Heatmap(\n",
    "        x=CANO_LABELS[:n_pv],\n",
    "        y=CANO_LABELS[:n_pv],\n",
    "        z=pv_rates,\n",
    "        customdata=100 * pv_rates,\n",
    "        showscale=False,\n",
    "        **heatmap_kwargs,\n",
    "    )\n",
    ")\n",
    "indicate_subsystem(fig1, 0, 3, label=\"𝐾<sup>*</sup>\")\n",
    "indicate_subsystem(fig1, 4, 6, label=\"𝛥<sup>*</sup>\")\n",
    "indicate_subsystem(fig1, 7, 12, label=\"𝛬</sup>*</sup>\")\n",
    "\n",
    "fig2 = go.Figure(\n",
    "    data=go.Heatmap(\n",
    "        x=CANO_LABELS[n_pv:],\n",
    "        y=CANO_LABELS[n_pv:],\n",
    "        z=pc_rates,\n",
    "        customdata=100 * pc_rates,\n",
    "        colorbar=dict(\n",
    "            tickformat=\"+.0%\",\n",
    "            thickness=12,\n",
    "            xpad=2,\n",
    "        ),\n",
    "        **heatmap_kwargs,\n",
    "    )\n",
    ")\n",
    "indicate_subsystem(fig2, 0, 2, label=\"𝐾<sup>*</sup>\", legend=False)\n",
    "indicate_subsystem(fig2, 3, 5, label=\"𝛥<sup>*</sup>\", legend=False)\n",
    "indicate_subsystem(fig2, 6, 11, label=\"𝛬</sup>*</sup>\", legend=False)\n",
    "\n",
    "fig1.update_layout(height=335, width=400)\n",
    "fig2.update_layout(height=335, width=400)\n",
    "for fig in [fig1, fig2]:\n",
    "    fig.update_layout(\n",
    "        autosize=False,\n",
    "        legend=dict(font_size=16, yanchor=\"top\", y=1, xanchor=\"left\", x=0.7),\n",
    "        margin=dict(t=10),\n",
    "        paper_bgcolor=\"rgba(0, 0, 0, 0)\",\n",
    "        plot_bgcolor=\"rgba(0, 0, 0, 0)\",\n",
    "        yaxis_scaleanchor=\"x\",\n",
    "    )\n",
    "    fig.update_yaxes(autorange=\"reversed\")\n",
    "\n",
    "CANO_PATH_PV = Path(\"../_static/images/decay-rates-default-canonical-pv.svg\")\n",
    "CANO_PATH_PC = Path(\"../_static/images/decay-rates-default-canonical-pc.svg\")\n",
    "fig1.write_image(CANO_PATH_PV)\n",
    "fig2.write_image(CANO_PATH_PC)"
   ]
  },
  {
   "cell_type": "code",
   "execution_count": null,
   "metadata": {
    "jupyter": {
     "source_hidden": true
    },
    "tags": [
     "remove-input"
    ]
   },
   "outputs": [],
   "source": [
    "for path in [\n",
    "    CANONICAL_PATH,\n",
    "    CANO_PATH_SPLIT,\n",
    "    CANO_PATH_PC,\n",
    "    CANO_PATH_PV,\n",
    "    HELICITY_PATH,\n",
    "]:\n",
    "    reduce_svg_size(path)\n",
    "\n",
    "Markdown(f\"\"\"\n",
    "SVG files can be downloaded here:\n",
    "- [`{CANONICAL_PATH.name}`]({CANONICAL_PATH})\n",
    "  - [`{CANO_PATH_SPLIT.name}`]({CANO_PATH_SPLIT})\n",
    "  - [`{CANO_PATH_PC.name}`]({CANO_PATH_PC})\n",
    "  - [`{CANO_PATH_PV.name}`]({CANO_PATH_PV})\n",
    "- [`{HELICITY_PATH.name}`]({HELICITY_PATH})\n",
    "\"\"\")"
   ]
  },
  {
   "cell_type": "code",
   "execution_count": null,
   "metadata": {
    "jupyter": {
     "source_hidden": true
    },
    "tags": [
     "hide-input"
    ]
   },
   "outputs": [],
   "source": [
    "pc_current = np.tril(pc_rates).sum()\n",
    "pv_current = np.tril(pv_rates).sum()\n",
    "np.testing.assert_allclose(\n",
    "    pc_current + pv_current,\n",
    "    np.tril(rates).sum(),\n",
    "    atol=1e-15,\n",
    "    rtol=1e-15,\n",
    ")\n",
    "Markdown(f\"\"\"\n",
    ":::{{tip}}\n",
    "- Parity-conserving (PC) current: **{pc_current:.1%}**\n",
    "- Parity-violating (PV) current: **{pv_current:.1%}**\n",
    ":::\n",
    "\"\"\")"
   ]
  }
 ],
 "metadata": {
  "colab": {
   "toc_visible": true
  },
  "kernelspec": {
   "display_name": "Python 3 (ipykernel)",
   "language": "python",
   "name": "python3"
  },
  "language_info": {
   "codemirror_mode": {
    "name": "ipython",
    "version": 3
   },
   "file_extension": ".py",
   "mimetype": "text/x-python",
   "name": "python",
   "nbconvert_exporter": "python",
   "pygments_lexer": "ipython3",
   "version": "3.13.9"
  }
 },
 "nbformat": 4,
 "nbformat_minor": 4
}
