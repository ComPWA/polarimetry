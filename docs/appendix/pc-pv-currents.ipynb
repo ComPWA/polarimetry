{
 "cells": [
  {
   "cell_type": "markdown",
   "metadata": {},
   "source": [
    "# PC and PV currents"
   ]
  },
  {
   "cell_type": "markdown",
   "metadata": {},
   "source": [
    "```{autolink-concat}\n",
    "```"
   ]
  },
  {
   "cell_type": "code",
   "execution_count": null,
   "metadata": {
    "jupyter": {
     "source_hidden": true
    },
    "mystnb": {
     "code_prompt_show": "Import python libraries"
    },
    "tags": [
     "hide-cell",
     "scroll-input"
    ]
   },
   "outputs": [],
   "source": [
    "from __future__ import annotations\n",
    "\n",
    "import itertools\n",
    "import re\n",
    "from collections.abc import Iterable\n",
    "from functools import cache\n",
    "from pathlib import Path\n",
    "\n",
    "import cloudpickle\n",
    "import jax.numpy as jnp\n",
    "import numpy as np\n",
    "import plotly.graph_objects as go\n",
    "import sympy as sp\n",
    "import unicodeitplus\n",
    "from ampform.io import aslatex\n",
    "from ampform.sympy._cache import cache_to_disk\n",
    "from ampform_dpd import AmplitudeModel  # pyright:ignore[reportPrivateUsage]\n",
    "from ampform_dpd.decay import IsobarNode, ThreeBodyDecayChain, to_particle\n",
    "from ampform_dpd.io import cached\n",
    "from IPython.display import HTML, Markdown, Math, display\n",
    "from tensorwaves.interface import ParametrizedFunction\n",
    "from tqdm.auto import tqdm\n",
    "\n",
    "from polarimetry.data import create_data_transformer, generate_phasespace_sample\n",
    "from polarimetry.function import integrate_intensity\n",
    "from polarimetry.io import mute_jax_warnings\n",
    "from polarimetry.lhcb import load_model_builder, load_model_parameters\n",
    "from polarimetry.lhcb.particle import load_particles\n",
    "\n",
    "src = '<script type=\"text/javascript\" async src=\"https://cdnjs.cloudflare.com/ajax/libs/mathjax/2.7.1/MathJax.js?config=TeX-MML-AM_SVG\"></script>'\n",
    "display(HTML(src))\n",
    "mute_jax_warnings()\n",
    "\n",
    "MODEL_FILE = \"../../data/model-definitions.yaml\"\n",
    "PARTICLES = load_particles(\"../../data/particle-definitions.yaml\")"
   ]
  },
  {
   "cell_type": "markdown",
   "metadata": {
    "jp-MarkdownHeadingCollapsed": true
   },
   "source": [
    "## Model formulation"
   ]
  },
  {
   "cell_type": "code",
   "execution_count": null,
   "metadata": {
    "jupyter": {
     "source_hidden": true
    },
    "tags": [
     "hide-input"
    ]
   },
   "outputs": [],
   "source": [
    "def formulate_model(title: str) -> AmplitudeModel:\n",
    "    builder = load_model_builder(MODEL_FILE, PARTICLES, title)\n",
    "    imported_parameters = load_model_parameters(\n",
    "        MODEL_FILE, builder.decay, title, PARTICLES\n",
    "    )\n",
    "    model = builder.formulate()\n",
    "    model.parameter_defaults.update(imported_parameters)\n",
    "    return model\n",
    "\n",
    "\n",
    "CANO_MODEL = formulate_model(\"Alternative amplitude model obtained using LS couplings\")\n",
    "HELI_MODEL = formulate_model(\"Default amplitude model\")"
   ]
  },
  {
   "cell_type": "code",
   "execution_count": null,
   "metadata": {
    "jupyter": {
     "source_hidden": true
    },
    "mystnb": {
     "code_prompt_show": "Convert expressions to numerical functions"
    },
    "tags": [
     "hide-input",
     "scroll-input"
    ]
   },
   "outputs": [],
   "source": [
    "@cache_to_disk(\n",
    "    dependencies=[\n",
    "        \"ampform\",\n",
    "        \"ampform_dpd\",\n",
    "        \"cloudpickle\",\n",
    "        \"jax\",\n",
    "        \"lc2pkpi-polarimetry\",\n",
    "        \"sympy\",\n",
    "    ],\n",
    "    dump_function=cloudpickle.dump,\n",
    ")\n",
    "def lambdify_ls_and_default_model() -> tuple[\n",
    "    ParametrizedFunction, ParametrizedFunction\n",
    "]:\n",
    "    return lambdify(HELI_MODEL), lambdify(CANO_MODEL)\n",
    "\n",
    "\n",
    "def lambdify(model: AmplitudeModel) -> sp.Expr:\n",
    "    intensity_expr = cached.unfold(model)\n",
    "    pars = model.parameter_defaults\n",
    "    free_parameters = {s: v for s, v in pars.items() if \"production\" in str(s)}\n",
    "    fixed_parameters = {s: v for s, v in pars.items() if s not in free_parameters}\n",
    "    subs_intensity_expr = cached.xreplace(intensity_expr, fixed_parameters)\n",
    "    return cached.lambdify(subs_intensity_expr, free_parameters)\n",
    "\n",
    "\n",
    "HELI_FUNC, CANO_FUNC = lambdify_ls_and_default_model()"
   ]
  },
  {
   "cell_type": "markdown",
   "metadata": {
    "jp-MarkdownHeadingCollapsed": true
   },
   "source": [
    "## Sort couplings by PC/PV"
   ]
  },
  {
   "cell_type": "code",
   "execution_count": null,
   "metadata": {
    "jupyter": {
     "source_hidden": true
    },
    "tags": [
     "hide-input"
    ]
   },
   "outputs": [],
   "source": [
    "def is_pc(node: IsobarNode) -> int:\n",
    "    \"\"\"Check if the production node in a decay is parity-conserving.\"\"\"\n",
    "    parent = to_particle(node.parent)\n",
    "    child1 = to_particle(node.child1)\n",
    "    child2 = to_particle(node.child2)\n",
    "    L = node.interaction.L\n",
    "    return parent.parity == child1.parity * child2.parity * (-1) ** L\n",
    "\n",
    "\n",
    "def get_chain_identifier(chain: ThreeBodyDecayChain) -> str:\n",
    "    resonance_id = chain.resonance.latex\n",
    "    return f\"{resonance_id}, L={chain.incoming_ls.L}\"\n",
    "\n",
    "\n",
    "PC_PV_MAPPING: dict[str, bool] = {\n",
    "    get_chain_identifier(chain): Rf\"\\texttt{{{is_pc(chain.production_node)}}}\"\n",
    "    for chain in CANO_MODEL.decay.chains\n",
    "}\n",
    "Math(aslatex(PC_PV_MAPPING))"
   ]
  },
  {
   "cell_type": "code",
   "execution_count": null,
   "metadata": {
    "jupyter": {
     "source_hidden": true
    },
    "tags": [
     "hide-input",
     "scroll-input"
    ]
   },
   "outputs": [],
   "source": [
    "def sort_couplings(parameters: Iterable[str], helicity: bool) -> list[str]:\n",
    "    couplings = (p for p in parameters if \"production\" in p)\n",
    "    if helicity:\n",
    "        return sorted(couplings, key=factorize_latex)\n",
    "    return sorted(\n",
    "        couplings,\n",
    "        key=lambda x: (\n",
    "            PC_PV_MAPPING[get_partial_wave_latex(x, helicity)],\n",
    "            factorize_latex(x),\n",
    "        ),\n",
    "    )\n",
    "\n",
    "\n",
    "@cache\n",
    "def factorize_latex(coupling: str) -> tuple[str, int, str, str]:\n",
    "    resonance, mass, *indices = re.match(\n",
    "        r\"^.*\\[(\\\\?[DKL][a-z]*)\\((\\d+)\\), (.+), (.+)\\]$\", coupling\n",
    "    ).groups()\n",
    "    return resonance, int(mass), *indices\n",
    "\n",
    "\n",
    "@cache\n",
    "def get_partial_wave_latex(coupling: str, helicity: bool) -> str:\n",
    "    R, mass, *indices = factorize_latex(coupling)\n",
    "    latex_indices = map(to_frac, indices)\n",
    "    if helicity:\n",
    "        λ_resonance, λ_recoil = latex_indices\n",
    "        return f\"{R}({mass}), {λ_resonance}, {λ_recoil}\"\n",
    "    L, _ = latex_indices\n",
    "    return f\"{R}({mass}), L={L}\"\n",
    "\n",
    "\n",
    "@cache\n",
    "def to_frac(text: str) -> str:\n",
    "    if \"/\" in text:\n",
    "        denominator, nominator = text.split(\"/\")\n",
    "        denominator = int(denominator)\n",
    "        nominator = int(nominator)\n",
    "        sign = \"-\" if denominator < 0 else \"+\"\n",
    "        return Rf\"{sign}\\frac{{{abs(denominator)}}}{{{nominator}}}\"\n",
    "    return text"
   ]
  },
  {
   "cell_type": "code",
   "execution_count": null,
   "metadata": {},
   "outputs": [],
   "source": [
    "CANO_COUPLINGS = sort_couplings(CANO_FUNC.parameters, helicity=False)\n",
    "HELI_COUPLINGS = sort_couplings(HELI_FUNC.parameters, helicity=True)"
   ]
  },
  {
   "cell_type": "code",
   "execution_count": null,
   "metadata": {
    "jupyter": {
     "source_hidden": true
    },
    "tags": [
     "hide-input"
    ]
   },
   "outputs": [],
   "source": [
    "sp.Matrix([\n",
    "    [sp.Symbol(get_partial_wave_latex(s, helicity=False)) for s in CANO_COUPLINGS],\n",
    "    [sp.Symbol(get_partial_wave_latex(s, helicity=True)) for s in HELI_COUPLINGS],\n",
    "]).T"
   ]
  },
  {
   "cell_type": "markdown",
   "metadata": {},
   "source": [
    "## Compute decay rates"
   ]
  },
  {
   "cell_type": "code",
   "execution_count": null,
   "metadata": {},
   "outputs": [],
   "source": [
    "TRANSFORMER = create_data_transformer(HELI_MODEL)\n",
    "PHSP = generate_phasespace_sample(HELI_MODEL.decay, n_events=100_000, seed=0)\n",
    "PHSP = TRANSFORMER(PHSP)"
   ]
  },
  {
   "cell_type": "code",
   "execution_count": null,
   "metadata": {
    "jupyter": {
     "source_hidden": true
    },
    "tags": [
     "hide-input",
     "scroll-input"
    ]
   },
   "outputs": [],
   "source": [
    "def compute_decay_rate_matrix(\n",
    "    intensity_func: ParametrizedFunction, couplings: list[str]\n",
    ") -> tuple[list[str], np.ndarray]:\n",
    "    I_tot = integrate_intensity(intensity_func(PHSP))\n",
    "    n_couplings = len(couplings)\n",
    "    matrix = np.zeros((n_couplings, n_couplings))\n",
    "    original_parameters = dict(intensity_func.parameters)\n",
    "    cache: dict[tuple[int, int]] = {}\n",
    "    progress_bar = tqdm(\n",
    "        desc=\"Computing decay rates\",\n",
    "        total=n_couplings * (n_couplings + 1) // 2,\n",
    "    )\n",
    "    is_helicity = is_helicity_func(intensity_func)\n",
    "    items = list(enumerate(couplings))\n",
    "    for (i, ci), (j, cj) in itertools.product(items, items):\n",
    "        pi = get_partial_wave_name(ci, is_helicity)\n",
    "        pj = get_partial_wave_name(cj, is_helicity)\n",
    "        progress_bar.set_postfix_str(Rf\"{pi} x {pj}\")\n",
    "        transpose_value = cache.get((j, i))\n",
    "        if transpose_value is None:\n",
    "            new_parameters = dict.fromkeys(couplings, 0)\n",
    "            new_parameters[ci] = original_parameters[ci]\n",
    "            new_parameters[cj] = original_parameters[cj]\n",
    "            intensity_func.update_parameters(new_parameters)\n",
    "            I_sub = integrate_intensity(intensity_func(PHSP))\n",
    "            intensity_func.update_parameters(original_parameters)\n",
    "            cache[i, j] = I_sub / I_tot\n",
    "            matrix[i, j] = cache[i, j]\n",
    "            progress_bar.update()\n",
    "        else:\n",
    "            cache[i, j] = transpose_value\n",
    "            matrix[i, j] = transpose_value\n",
    "    progress_bar.close()\n",
    "    return matrix\n",
    "\n",
    "\n",
    "def is_helicity_func(intensity_func: ParametrizedFunction) -> bool:\n",
    "    couplings = (p for p in intensity_func.parameters if \"production\" in p)\n",
    "    return not any(\"LS\" in p for p in couplings)\n",
    "\n",
    "\n",
    "@cache\n",
    "def get_partial_wave_name(coupling: str, helicity: bool) -> str:\n",
    "    latex = get_partial_wave_latex(coupling, helicity)\n",
    "    latex = re.sub(r\"\\\\frac{(\\d+)}{(\\d+)}\", r\"\\1/\\2\", latex)\n",
    "    latex = latex.replace(\"1/2\", \"½\")\n",
    "    return unicodeitplus.replace(latex)"
   ]
  },
  {
   "cell_type": "code",
   "execution_count": null,
   "metadata": {},
   "outputs": [],
   "source": [
    "CANO_RATES = compute_decay_rate_matrix(CANO_FUNC, CANO_COUPLINGS)\n",
    "assert CANO_RATES.shape == (len(CANO_COUPLINGS), len(CANO_COUPLINGS))"
   ]
  },
  {
   "cell_type": "code",
   "execution_count": null,
   "metadata": {},
   "outputs": [],
   "source": [
    "HELI_RATES = compute_decay_rate_matrix(HELI_FUNC, HELI_COUPLINGS)\n",
    "assert HELI_RATES.shape == (len(HELI_COUPLINGS), len(HELI_COUPLINGS))"
   ]
  },
  {
   "cell_type": "code",
   "execution_count": null,
   "metadata": {
    "jupyter": {
     "source_hidden": true
    },
    "tags": [
     "hide-input"
    ]
   },
   "outputs": [],
   "source": [
    "def compute_interference(rates: jnp.ndarray) -> jnp.ndarray:\n",
    "    m, n = rates.shape\n",
    "    assert m == n\n",
    "    d = rates.diagonal()\n",
    "    D = d * np.identity(m)\n",
    "    X = d[None] + d[None].T\n",
    "    return (rates - X + D) / 2 + D"
   ]
  },
  {
   "cell_type": "code",
   "execution_count": null,
   "metadata": {},
   "outputs": [],
   "source": [
    "CANO_INTERFERENCE = compute_interference(CANO_RATES)\n",
    "HELI_INTERFERENCE = compute_interference(HELI_RATES)"
   ]
  },
  {
   "cell_type": "markdown",
   "metadata": {},
   "source": [
    "## Visualize decay rates"
   ]
  },
  {
   "cell_type": "code",
   "execution_count": null,
   "metadata": {
    "jupyter": {
     "source_hidden": true
    },
    "tags": [
     "hide-input",
     "scroll-input"
    ]
   },
   "outputs": [],
   "source": [
    "def visualize_rates(\n",
    "    labels: list[str], rates: np.ndarray, model_name: str, helicity: bool\n",
    ") -> Path:\n",
    "    rates_percentage = 100 * rates\n",
    "    abs_max = float(jnp.abs(rates_percentage).max())\n",
    "    if not helicity:\n",
    "        rates_percentage = jnp.where(\n",
    "            jnp.abs(rates_percentage) > 1e-7, rates_percentage, jnp.nan\n",
    "        )\n",
    "    fig = go.Figure()\n",
    "    fig.add_trace(\n",
    "        go.Heatmap(\n",
    "            x=labels,\n",
    "            y=labels,\n",
    "            z=rates_percentage,\n",
    "            colorscale=\"RdBu_r\",\n",
    "            customdata=rates_percentage,\n",
    "            hovertemplate=\"%{x}<br>%{y}<br>Decay rate: <b>%{customdata:.3g}%</b><extra></extra>\",\n",
    "            zmin=-abs_max,\n",
    "            zmax=+abs_max,\n",
    "        )\n",
    "    )\n",
    "    if helicity:\n",
    "        indicate_subsystem(fig, 0, 7, label=\"K*\")\n",
    "        indicate_subsystem(fig, 8, 13, label=\"Δ*\")\n",
    "        indicate_subsystem(fig, 14, 25, label=\"Λ*\")\n",
    "    else:\n",
    "        indicate_subsystem(fig, 0, 3, label=\"K*\")\n",
    "        indicate_subsystem(fig, 4, 6, label=\"Δ*\")\n",
    "        indicate_subsystem(fig, 7, 12, label=\"Λ*\")\n",
    "        indicate_subsystem(fig, 13, 15, label=\"K*\", legend=False)\n",
    "        indicate_subsystem(fig, 16, 18, label=\"Δ*\", legend=False)\n",
    "        indicate_subsystem(fig, 19, 24, label=\"Λ*\", legend=False)\n",
    "    fig.update_layout(\n",
    "        autosize=False,\n",
    "        height=750,\n",
    "        legend=dict(font_size=16, yanchor=\"top\", y=1, xanchor=\"left\", x=0.85),\n",
    "        paper_bgcolor=\"rgba(0, 0, 0, 0)\",\n",
    "        plot_bgcolor=\"rgba(0, 0, 0, 0)\",\n",
    "        title=dict(\n",
    "            text=f\"Decay rates of {model_name}\",\n",
    "            xanchor=\"center\",\n",
    "            x=0.5,\n",
    "            y=0.89,\n",
    "        ),\n",
    "    )\n",
    "    fig.update_scenes(aspectmode=\"data\")\n",
    "    fig.update_yaxes(autorange=\"reversed\")\n",
    "    return fig\n",
    "\n",
    "\n",
    "def indicate_subsystem(\n",
    "    fig: go.Figure, idx1: int, idx2: int, label: str, legend: bool = True\n",
    ") -> None:\n",
    "    colors = {\n",
    "        \"K*\": (\"red\", \"rgba(255,0,0,0.1)\"),\n",
    "        \"Λ*\": (\"green\", \"rgba(0,255,0,0.1)\"),\n",
    "        \"Δ*\": (\"blue\", \"rgba(0,0,255,0.1)\"),\n",
    "    }\n",
    "    linecolor, fillcolor = colors[label]\n",
    "    left = idx1 - 0.5\n",
    "    right = idx2 + 0.5\n",
    "    return fig.add_shape(\n",
    "        **dict(x0=left, x1=right, y0=left, y1=right),\n",
    "        fillcolor=fillcolor,\n",
    "        line=dict(color=linecolor, width=1),\n",
    "        name=label,\n",
    "        opacity=0.3,\n",
    "        showlegend=legend,\n",
    "        type=\"rect\",\n",
    "    )"
   ]
  },
  {
   "cell_type": "code",
   "execution_count": null,
   "metadata": {
    "jupyter": {
     "source_hidden": true
    },
    "tags": [
     "hide-input",
     "full-width"
    ]
   },
   "outputs": [],
   "source": [
    "CANO_LABELS = [get_partial_wave_name(p, helicity=False) for p in CANO_COUPLINGS]\n",
    "fig = visualize_rates(CANO_LABELS, CANO_INTERFERENCE, \"LS model\", helicity=False)\n",
    "CANONICAL_PATH = Path(\"../_static/images/decay-rates-default-helicity.svg\")\n",
    "fig.write_image(CANONICAL_PATH)\n",
    "fig"
   ]
  },
  {
   "cell_type": "code",
   "execution_count": null,
   "metadata": {
    "jupyter": {
     "source_hidden": true
    },
    "tags": [
     "hide-input",
     "full-width"
    ]
   },
   "outputs": [],
   "source": [
    "HELI_LABELS = [get_partial_wave_name(p, helicity=True) for p in HELI_COUPLINGS]\n",
    "fig = visualize_rates(HELI_LABELS, HELI_INTERFERENCE, \"default model\", helicity=True)\n",
    "HELICITY_PATH = Path(\"../_static/images/decay-rates-default-helicity.svg\")\n",
    "fig.write_image(HELICITY_PATH)\n",
    "fig"
   ]
  },
  {
   "cell_type": "code",
   "execution_count": null,
   "metadata": {
    "jupyter": {
     "source_hidden": true
    },
    "tags": [
     "remove-input"
    ]
   },
   "outputs": [],
   "source": [
    "Markdown(f\"\"\"\n",
    "SVG files can be downloaded here:\n",
    "- [`{HELICITY_PATH.name}`]({HELICITY_PATH})\n",
    "- [`{CANONICAL_PATH.name}`]({CANONICAL_PATH})\n",
    "\"\"\")"
   ]
  }
 ],
 "metadata": {
  "colab": {
   "toc_visible": true
  },
  "kernelspec": {
   "display_name": "Python 3 (ipykernel)",
   "language": "python",
   "name": "python3"
  },
  "language_info": {
   "codemirror_mode": {
    "name": "ipython",
    "version": 3
   },
   "file_extension": ".py",
   "mimetype": "text/x-python",
   "name": "python",
   "nbconvert_exporter": "python",
   "pygments_lexer": "ipython3",
   "version": "3.12.9"
  }
 },
 "nbformat": 4,
 "nbformat_minor": 4
}
