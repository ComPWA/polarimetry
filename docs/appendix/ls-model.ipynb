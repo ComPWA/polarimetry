{
 "cells": [
  {
   "cell_type": "markdown",
   "metadata": {},
   "source": [
    "# Amplitude model with LS-couplings"
   ]
  },
  {
   "cell_type": "markdown",
   "metadata": {},
   "source": [
    "```{autolink-concat}\n",
    "```"
   ]
  },
  {
   "cell_type": "code",
   "execution_count": null,
   "metadata": {
    "jupyter": {
     "source_hidden": true
    },
    "tags": [
     "hide-cell",
     "scroll-input"
    ]
   },
   "outputs": [],
   "source": [
    "from __future__ import annotations\n",
    "\n",
    "import logging\n",
    "import os\n",
    "\n",
    "import jax.numpy as jnp\n",
    "import matplotlib.pyplot as plt\n",
    "import sympy as sp\n",
    "from tensorwaves.interface import Function\n",
    "from tqdm.auto import tqdm\n",
    "\n",
    "from polarimetry.amplitude import AmplitudeModel, simplify_latex_rendering\n",
    "from polarimetry.data import create_data_transformer, generate_meshgrid_sample\n",
    "from polarimetry.io import (\n",
    "    display_latex,\n",
    "    mute_jax_warnings,\n",
    "    perform_cached_doit,\n",
    "    perform_cached_lambdify,\n",
    ")\n",
    "from polarimetry.lhcb import load_model_builder, load_model_parameters\n",
    "from polarimetry.lhcb.particle import load_particles\n",
    "from polarimetry.plot import use_mpl_latex_fonts\n",
    "\n",
    "mute_jax_warnings()\n",
    "simplify_latex_rendering()\n",
    "MODEL_FILE = \"../../data/model-definitions.yaml\"\n",
    "PARTICLES = load_particles(\"../../data/particle-definitions.yaml\")\n",
    "\n",
    "NO_TQDM = \"EXECUTE_NB\" in os.environ\n",
    "if NO_TQDM:\n",
    "    logging.getLogger().setLevel(logging.ERROR)\n",
    "    logging.getLogger(\"polarimetry.io\").setLevel(logging.ERROR)"
   ]
  },
  {
   "cell_type": "markdown",
   "metadata": {
    "tags": []
   },
   "source": [
    "## Model inspection"
   ]
  },
  {
   "cell_type": "code",
   "execution_count": null,
   "metadata": {
    "jupyter": {
     "source_hidden": true
    },
    "tags": [
     "hide-input",
     "full-width"
    ]
   },
   "outputs": [],
   "source": [
    "def formulate_model(title: str) -> AmplitudeModel:\n",
    "    builder = load_model_builder(MODEL_FILE, PARTICLES, title)\n",
    "    imported_parameters = load_model_parameters(\n",
    "        MODEL_FILE, builder.decay, title, PARTICLES\n",
    "    )\n",
    "    model = builder.formulate()\n",
    "    model.parameter_defaults.update(imported_parameters)\n",
    "    return model\n",
    "\n",
    "\n",
    "def simplify_notation(expr: sp.Expr) -> sp.Expr:\n",
    "    def substitute_node(node):\n",
    "        if isinstance(node, sp.Indexed):\n",
    "            if node.indices[2:] == (0, 0):\n",
    "                return sp.Indexed(node.base, *node.indices[:2])\n",
    "        return node\n",
    "\n",
    "    for node in sp.preorder_traversal(expr):\n",
    "        new_node = substitute_node(node)\n",
    "        expr = expr.xreplace({node: new_node})\n",
    "    return expr\n",
    "\n",
    "\n",
    "LS_MODEL = formulate_model(\"Alternative amplitude model obtained using LS couplings\")\n",
    "simplify_notation(LS_MODEL.intensity.args[0].args[0].args[0].cleanup())"
   ]
  },
  {
   "cell_type": "code",
   "execution_count": null,
   "metadata": {
    "jupyter": {
     "source_hidden": true
    },
    "tags": [
     "hide-input",
     "full-width"
    ]
   },
   "outputs": [],
   "source": [
    "display_latex({simplify_notation(k): v for k, v in LS_MODEL.amplitudes.items()})"
   ]
  },
  {
   "cell_type": "markdown",
   "metadata": {
    "tags": [
     "hide-cell"
    ]
   },
   "source": [
    "It is asserted that these amplitude expressions to not evaluate to $0$ once the Clebsch-Gordan coefficients are evaluated."
   ]
  },
  {
   "cell_type": "code",
   "execution_count": null,
   "metadata": {
    "jupyter": {
     "source_hidden": true
    },
    "tags": [
     "hide-cell"
    ]
   },
   "outputs": [],
   "source": [
    "def assert_non_zero_amplitudes(model: AmplitudeModel) -> None:\n",
    "    for amplitude in tqdm(model.amplitudes.values(), disable=NO_TQDM):\n",
    "        assert amplitude.doit() != 0\n",
    "\n",
    "\n",
    "assert_non_zero_amplitudes(LS_MODEL)"
   ]
  },
  {
   "cell_type": "markdown",
   "metadata": {},
   "source": [
    ":::{seealso}\n",
    "See {ref}`amplitude-model:Resonances and LS-scheme` for the allowed $LS$-values.\n",
    ":::"
   ]
  },
  {
   "cell_type": "markdown",
   "metadata": {},
   "source": [
    "## Distribution"
   ]
  },
  {
   "cell_type": "code",
   "execution_count": null,
   "metadata": {
    "jupyter": {
     "source_hidden": true
    },
    "tags": [
     "hide-cell"
    ]
   },
   "outputs": [],
   "source": [
    "def lambdify(model: AmplitudeModel) -> sp.Expr:\n",
    "    intensity_expr = unfold_intensity(model)\n",
    "    subs_intensity_expr = intensity_expr.xreplace(model.parameter_defaults)\n",
    "    return perform_cached_lambdify(subs_intensity_expr)\n",
    "\n",
    "\n",
    "def unfold_intensity(model: AmplitudeModel) -> sp.Expr:\n",
    "    unfolded_intensity = perform_cached_doit(model.intensity)\n",
    "    return perform_cached_doit(unfolded_intensity.xreplace(model.amplitudes))\n",
    "\n",
    "\n",
    "NOMINAL_MODEL = formulate_model(\"Default amplitude model\")\n",
    "NOMINAL_INTENSITY_FUNC = lambdify(NOMINAL_MODEL)\n",
    "LS_INTENSITY_FUNC = lambdify(LS_MODEL)"
   ]
  },
  {
   "cell_type": "code",
   "execution_count": null,
   "metadata": {
    "jupyter": {
     "source_hidden": true
    },
    "tags": [
     "hide-cell"
    ]
   },
   "outputs": [],
   "source": [
    "GRID = generate_meshgrid_sample(NOMINAL_MODEL.decay, resolution=300)\n",
    "transformer = create_data_transformer(NOMINAL_MODEL)\n",
    "GRID.update(transformer(GRID))\n",
    "del transformer"
   ]
  },
  {
   "cell_type": "code",
   "execution_count": null,
   "metadata": {
    "jupyter": {
     "source_hidden": true
    },
    "tags": [
     "hide-input",
     "full-width"
    ]
   },
   "outputs": [],
   "source": [
    "def compare_2d_distributions() -> None:\n",
    "    NOMINAL_INTENSITIES = compute_normalized_intensity(NOMINAL_INTENSITY_FUNC)\n",
    "    LS_INTENSITIES = compute_normalized_intensity(LS_INTENSITY_FUNC)\n",
    "    max_intensity = max(\n",
    "        jnp.nanmax(NOMINAL_INTENSITIES),\n",
    "        jnp.nanmax(LS_INTENSITIES),\n",
    "    )\n",
    "    use_mpl_latex_fonts()\n",
    "    fig, axes = plt.subplots(\n",
    "        dpi=200,\n",
    "        figsize=(12, 5),\n",
    "        ncols=2,\n",
    "    )\n",
    "    for ax in axes:\n",
    "        ax.set_box_aspect(1)\n",
    "    ax1, ax2 = axes\n",
    "    ax1.set_title(\"Nominal model\")\n",
    "    ax2.set_title(\"LS-model\")\n",
    "    ax1.pcolormesh(\n",
    "        GRID[\"sigma1\"],\n",
    "        GRID[\"sigma2\"],\n",
    "        NOMINAL_INTENSITIES,\n",
    "        vmax=max_intensity,\n",
    "    )\n",
    "    ax2.pcolormesh(\n",
    "        GRID[\"sigma1\"],\n",
    "        GRID[\"sigma2\"],\n",
    "        LS_INTENSITIES,\n",
    "        vmax=max_intensity,\n",
    "    )\n",
    "    plt.show()\n",
    "\n",
    "\n",
    "def compute_normalized_intensity(func: Function) -> jnp.ndarray:\n",
    "    intensities = func(GRID)\n",
    "    integral = jnp.nansum(intensities)\n",
    "    return intensities / integral\n",
    "\n",
    "\n",
    "compare_2d_distributions()"
   ]
  }
 ],
 "metadata": {
  "kernelspec": {
   "display_name": "Python 3 (ipykernel)",
   "language": "python",
   "name": "python3"
  },
  "language_info": {
   "codemirror_mode": {
    "name": "ipython",
    "version": 3
   },
   "file_extension": ".py",
   "mimetype": "text/x-python",
   "name": "python",
   "nbconvert_exporter": "python",
   "pygments_lexer": "ipython3",
   "version": "3.8.13"
  }
 },
 "nbformat": 4,
 "nbformat_minor": 4
}
