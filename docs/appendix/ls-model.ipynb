{
 "cells": [
  {
   "cell_type": "markdown",
   "metadata": {},
   "source": [
    "# Amplitude model with LS-couplings"
   ]
  },
  {
   "cell_type": "markdown",
   "metadata": {},
   "source": [
    "```{autolink-concat}\n",
    "```"
   ]
  },
  {
   "cell_type": "code",
   "execution_count": null,
   "metadata": {
    "jupyter": {
     "source_hidden": true
    },
    "mystnb": {
     "code_prompt_show": "Import python libraries"
    },
    "tags": [
     "hide-cell",
     "scroll-input"
    ]
   },
   "outputs": [],
   "source": [
    "from __future__ import annotations\n",
    "\n",
    "import logging\n",
    "import os\n",
    "\n",
    "import jax\n",
    "import jax.numpy as jnp\n",
    "import matplotlib.pyplot as plt\n",
    "import sympy as sp\n",
    "from ampform_dpd import (\n",
    "    AmplitudeModel,\n",
    "    _get_coupling_base,  # pyright:ignore[reportPrivateUsage]\n",
    ")\n",
    "from ampform_dpd.decay import Particle\n",
    "from ampform_dpd.io import aslatex, cached, simplify_latex_rendering\n",
    "from IPython.display import Latex\n",
    "from matplotlib_inline.backend_inline import set_matplotlib_formats\n",
    "from sympy.core.symbol import Str\n",
    "from tensorwaves.interface import Function\n",
    "from tqdm.auto import tqdm\n",
    "\n",
    "from polarimetry.data import (\n",
    "    create_data_transformer,\n",
    "    generate_meshgrid_sample,\n",
    "    generate_phasespace_sample,\n",
    ")\n",
    "from polarimetry.function import integrate_intensity, sub_intensity\n",
    "from polarimetry.io import display_latex, mute_jax_warnings\n",
    "from polarimetry.lhcb import (\n",
    "    get_conversion_factor_ls,\n",
    "    load_model_builder,\n",
    "    load_model_parameters,\n",
    ")\n",
    "from polarimetry.lhcb.particle import load_particles\n",
    "from polarimetry.plot import use_mpl_latex_fonts\n",
    "\n",
    "plt.rc(\"font\", size=13)\n",
    "mute_jax_warnings()\n",
    "set_matplotlib_formats(\"svg\")\n",
    "simplify_latex_rendering()\n",
    "use_mpl_latex_fonts()\n",
    "\n",
    "MODEL_FILE = \"../../data/model-definitions.yaml\"\n",
    "PARTICLES = load_particles(\"../../data/particle-definitions.yaml\")\n",
    "\n",
    "NO_LOG = \"EXECUTE_NB\" in os.environ\n",
    "if NO_LOG:\n",
    "    logging.disable(logging.CRITICAL)"
   ]
  },
  {
   "cell_type": "markdown",
   "metadata": {
    "jp-MarkdownHeadingCollapsed": true
   },
   "source": [
    "## Model inspection"
   ]
  },
  {
   "cell_type": "code",
   "execution_count": null,
   "metadata": {
    "jupyter": {
     "source_hidden": true
    },
    "tags": [
     "hide-input",
     "full-width"
    ]
   },
   "outputs": [],
   "source": [
    "def formulate_model(title: str) -> AmplitudeModel:\n",
    "    builder = load_model_builder(MODEL_FILE, PARTICLES, title)\n",
    "    imported_parameters = load_model_parameters(\n",
    "        MODEL_FILE, builder.decay, title, PARTICLES\n",
    "    )\n",
    "    model = builder.formulate()\n",
    "    model.parameter_defaults.update(imported_parameters)\n",
    "    return model\n",
    "\n",
    "\n",
    "def simplify_notation(expr: sp.Expr) -> sp.Expr:\n",
    "    def substitute_node(node):\n",
    "        if isinstance(node, sp.Indexed) and node.indices[2:] == (0, 0):\n",
    "            return sp.Indexed(node.base, *node.indices[:2])\n",
    "        return node\n",
    "\n",
    "    substitutions = {n: substitute_node(n) for n in sp.preorder_traversal(expr)}\n",
    "    return cached.xreplace(expr, substitutions)\n",
    "\n",
    "\n",
    "LS_MODEL = formulate_model(\"Alternative amplitude model obtained using LS couplings\")\n",
    "simplify_notation(LS_MODEL.intensity.args[0].args[0].args[0].cleanup())"
   ]
  },
  {
   "cell_type": "code",
   "execution_count": null,
   "metadata": {
    "jupyter": {
     "source_hidden": true
    },
    "tags": [
     "hide-input",
     "scroll-output",
     "full-width"
    ]
   },
   "outputs": [],
   "source": [
    "display_latex({simplify_notation(k): v for k, v in LS_MODEL.amplitudes.items()})"
   ]
  },
  {
   "cell_type": "code",
   "execution_count": null,
   "metadata": {
    "jupyter": {
     "source_hidden": true
    },
    "mystnb": {
     "code_prompt_show": "Show conversion factors for LHCb-PAPER-2022-002"
    },
    "tags": [
     "hide-input",
     "hide-output"
    ]
   },
   "outputs": [],
   "source": [
    "H_prod = _get_coupling_base(helicity_basis=False, typ=\"production\")\n",
    "\n",
    "latex = R\"\"\"\n",
    "\\begin{array}{c|ccc|c}\n",
    "  \\textbf{Decay} & \\textbf{coupling} & & & \\textbf{factor} \\\\\n",
    "  \\hline\n",
    "\"\"\"\n",
    "for chain in LS_MODEL.decay.chains:\n",
    "    R = Str(chain.resonance.latex)\n",
    "    L = chain.incoming_ls.L\n",
    "    S = chain.incoming_ls.S\n",
    "    symbol = H_prod[R, L, S]\n",
    "    value = sp.sympify(LS_MODEL.parameter_defaults[symbol])\n",
    "    factor = get_conversion_factor_ls(chain.resonance, L, S)\n",
    "    coupling_value = f\"{aslatex(symbol)} &=& {aslatex(value.n(3))}\"\n",
    "    latex += Rf\"  {aslatex(chain)} & {coupling_value} & {factor:+d} \\\\\" \"\\n\"\n",
    "latex += R\"\\end{array}\"\n",
    "Latex(f\"{latex}\")"
   ]
  },
  {
   "cell_type": "markdown",
   "metadata": {
    "tags": [
     "hide-cell"
    ]
   },
   "source": [
    "It is asserted that these amplitude expressions to not evaluate to $0$ once the Clebsch-Gordan coefficients are evaluated."
   ]
  },
  {
   "cell_type": "code",
   "execution_count": null,
   "metadata": {
    "jupyter": {
     "source_hidden": true
    },
    "tags": [
     "hide-cell"
    ]
   },
   "outputs": [],
   "source": [
    "def assert_non_zero_amplitudes(model: AmplitudeModel) -> None:\n",
    "    for amplitude in tqdm(model.amplitudes.values(), disable=NO_LOG):\n",
    "        assert cached.doit(amplitude) != 0\n",
    "\n",
    "\n",
    "assert_non_zero_amplitudes(LS_MODEL)"
   ]
  },
  {
   "cell_type": "markdown",
   "metadata": {},
   "source": [
    ":::{seealso}\n",
    "See {ref}`amplitude-model:Resonances and LS-scheme` for the allowed $LS$-values.\n",
    ":::"
   ]
  },
  {
   "cell_type": "markdown",
   "metadata": {},
   "source": [
    "## Distribution"
   ]
  },
  {
   "cell_type": "code",
   "execution_count": null,
   "metadata": {
    "jupyter": {
     "source_hidden": true
    },
    "mystnb": {
     "code_prompt_show": "Convert expressions to numerical functions"
    },
    "tags": [
     "hide-cell"
    ]
   },
   "outputs": [],
   "source": [
    "def lambdify(model: AmplitudeModel) -> sp.Expr:\n",
    "    intensity_expr = cached.unfold(model)\n",
    "    pars = model.parameter_defaults\n",
    "    free_parameters = {s: v for s, v in pars.items() if \"production\" in str(s)}\n",
    "    fixed_parameters = {s: v for s, v in pars.items() if s not in free_parameters}\n",
    "    subs_intensity_expr = cached.xreplace(intensity_expr, fixed_parameters)\n",
    "    return cached.lambdify(subs_intensity_expr, free_parameters)\n",
    "\n",
    "\n",
    "DEFAULT_MODEL = formulate_model(\"Default amplitude model\")\n",
    "DEFAULT_INTENSITY_FUNC = lambdify(DEFAULT_MODEL)\n",
    "LS_INTENSITY_FUNC = lambdify(LS_MODEL)"
   ]
  },
  {
   "cell_type": "code",
   "execution_count": null,
   "metadata": {
    "jupyter": {
     "source_hidden": true
    },
    "mystnb": {
     "code_prompt_show": "Create phase space grid"
    },
    "tags": [
     "hide-cell"
    ]
   },
   "outputs": [],
   "source": [
    "GRID = generate_meshgrid_sample(DEFAULT_MODEL.decay, resolution=1_000)\n",
    "TRANSFORMER = create_data_transformer(DEFAULT_MODEL)\n",
    "GRID.update(TRANSFORMER(GRID))"
   ]
  },
  {
   "cell_type": "code",
   "execution_count": null,
   "metadata": {
    "jupyter": {
     "source_hidden": true
    },
    "tags": [
     "hide-input",
     "full-width"
    ]
   },
   "outputs": [],
   "source": [
    "def compare_2d_distributions() -> None:\n",
    "    DEFAULT_INTENSITIES = compute_normalized_intensity(DEFAULT_INTENSITY_FUNC)\n",
    "    LS_INTENSITIES = compute_normalized_intensity(LS_INTENSITY_FUNC)\n",
    "    max_intensity = max(\n",
    "        jnp.nanmax(DEFAULT_INTENSITIES),\n",
    "        jnp.nanmax(LS_INTENSITIES),\n",
    "    )\n",
    "    fig, axes = plt.subplots(\n",
    "        dpi=200,\n",
    "        figsize=(7, 4),\n",
    "        ncols=2,\n",
    "        sharey=True,\n",
    "    )\n",
    "    fig.subplots_adjust(bottom=0, left=0, right=1, top=1, wspace=0.05)\n",
    "    fig.patch.set_color(\"none\")\n",
    "    for ax in axes:\n",
    "        ax.patch.set_color(\"none\")\n",
    "        ax.set_aspect(\"equal\")\n",
    "        ax.set_xlabel(s_labels[2])\n",
    "    ax1, ax2 = axes\n",
    "    ax1.set_ylabel(s_labels[1])\n",
    "    ax1.set_title(\"default model\")\n",
    "    ax2.set_title(\"LS-model\", size=13)\n",
    "    mesh = ax1.pcolormesh(\n",
    "        GRID[\"sigma2\"],\n",
    "        GRID[\"sigma1\"],\n",
    "        DEFAULT_INTENSITIES,\n",
    "        rasterized=True,\n",
    "        vmin=0,\n",
    "        vmax=max_intensity,\n",
    "    )\n",
    "    mesh = ax2.pcolormesh(\n",
    "        GRID[\"sigma2\"],\n",
    "        GRID[\"sigma1\"],\n",
    "        LS_INTENSITIES,\n",
    "        rasterized=True,\n",
    "        vmin=0,\n",
    "        vmax=max_intensity,\n",
    "    )\n",
    "    cbar = fig.colorbar(mesh, ax=axes, pad=+0.01, shrink=0.4)\n",
    "    cbar.ax.set_ylabel(\"intensity (a.u.)\")\n",
    "    plt.show()\n",
    "\n",
    "\n",
    "def compute_normalized_intensity(func: Function) -> jax.Array:\n",
    "    intensities = func(GRID)\n",
    "    integral = jnp.nansum(intensities)\n",
    "    return intensities / integral\n",
    "\n",
    "\n",
    "s_labels = {\n",
    "    1: R\"$M^2\\left(K^-\\pi^+\\right)$ [GeV$^2$]\",\n",
    "    2: R\"$M^2\\left(pK^-\\right)$ [GeV$^2$]\",\n",
    "    3: R\"$M^2\\left(p\\pi^+\\right)$ [GeV$^2$]\",\n",
    "}\n",
    "compare_2d_distributions()"
   ]
  },
  {
   "cell_type": "code",
   "execution_count": null,
   "metadata": {
    "jupyter": {
     "source_hidden": true
    },
    "tags": [
     "hide-input"
    ]
   },
   "outputs": [],
   "source": [
    "def visualize_difference() -> None:\n",
    "    default_intensities = DEFAULT_INTENSITY_FUNC(GRID)\n",
    "    ls_intensities = compute_normalized_intensity(LS_INTENSITY_FUNC) * jnp.nansum(\n",
    "        default_intensities\n",
    "    )\n",
    "    rel_default_intensities = default_intensities / jnp.nanmax(default_intensities)\n",
    "    rel_ls_intensities = ls_intensities / jnp.nanmax(default_intensities)\n",
    "    difference = rel_default_intensities - rel_ls_intensities\n",
    "    fig, ax = plt.subplots(dpi=500, figsize=(6, 3))\n",
    "    fig.patch.set_color(\"none\")\n",
    "    ax.patch.set_color(\"none\")\n",
    "    ax.set_aspect(\"equal\")\n",
    "    ax.set_xlabel(s_labels[2])\n",
    "    ax.set_ylabel(s_labels[1])\n",
    "    ax.set_xlim(2.02, 4.65)\n",
    "    ax.set_ylim(0.38, 1.84)\n",
    "    zmax = jnp.nanmax(jnp.abs(difference))\n",
    "    zmax = 0.03\n",
    "    mesh = ax.pcolormesh(\n",
    "        GRID[\"sigma2\"],\n",
    "        GRID[\"sigma1\"],\n",
    "        difference,\n",
    "        rasterized=True,\n",
    "        vmin=-zmax,\n",
    "        vmax=+zmax,\n",
    "        cmap=plt.cm.coolwarm,\n",
    "    )\n",
    "    cbar = fig.colorbar(mesh, pad=+0.01, shrink=0.94)\n",
    "    cbar.ax.set_ylabel(\"rel. intensity difference\", labelpad=-15, y=0.53)\n",
    "    cbar.ax.set_yticks([-zmax, 0, +zmax])\n",
    "    cbar.ax.set_yticklabels([f\"${-zmax:+g}$\", \"$0$\", f\"${+zmax:+g}$\"])\n",
    "    fig.savefig(\"../_images/intensity-difference-ls-model.svg\", bbox_inches=\"tight\")\n",
    "    plt.show()\n",
    "\n",
    "\n",
    "visualize_difference()"
   ]
  },
  {
   "cell_type": "markdown",
   "metadata": {},
   "source": [
    "## Decay rates"
   ]
  },
  {
   "cell_type": "code",
   "execution_count": null,
   "metadata": {
    "jupyter": {
     "source_hidden": true
    },
    "tags": [
     "hide-input",
     "scroll-input"
    ]
   },
   "outputs": [],
   "source": [
    "def compute_decay_rates() -> dict[Particle, tuple[float, float]]:\n",
    "    decay_rates = {}\n",
    "    default_I_tot = integrate_intensity(DEFAULT_INTENSITY_FUNC(PHSP))\n",
    "    LS_I_tot = integrate_intensity(LS_INTENSITY_FUNC(PHSP))\n",
    "    for chain in tqdm(DEFAULT_MODEL.decay.chains, disable=NO_LOG):\n",
    "        filter_ = [chain.resonance.latex]\n",
    "        LS_I_sub = sub_intensity(LS_INTENSITY_FUNC, PHSP, filter_)\n",
    "        default_I_sub = sub_intensity(DEFAULT_INTENSITY_FUNC, PHSP, filter_)\n",
    "        decay_rates[chain.resonance] = (\n",
    "            float(default_I_sub / default_I_tot),\n",
    "            float(LS_I_sub / LS_I_tot),\n",
    "        )\n",
    "    return decay_rates\n",
    "\n",
    "\n",
    "PHSP = generate_phasespace_sample(DEFAULT_MODEL.decay, n_events=100_000, seed=0)\n",
    "PHSP = TRANSFORMER(PHSP)\n",
    "DECAY_RATES = compute_decay_rates()\n",
    "src = R\"\"\"\n",
    "\\begin{array}{l|rr|r}\n",
    "  \\textbf{Resonance} & \\textbf{Default} & \\textbf{LS-model} & \\textbf{Difference}\\\\\n",
    "  \\hline\n",
    "\"\"\"\n",
    "for res, (default_rate, ls_rate) in DECAY_RATES.items():\n",
    "    default_rate *= 100\n",
    "    ls_rate *= 100\n",
    "    src += (\n",
    "        Rf\"  {res.latex} & {default_rate:.2f} & {ls_rate:.2f} &\"\n",
    "        rf\" {ls_rate - default_rate:+.2f} \\\\\"\n",
    "        \"\\n\"\n",
    "    )\n",
    "    del res, default_rate, ls_rate\n",
    "src += R\"\\end{array}\"\n",
    "Latex(src)"
   ]
  },
  {
   "cell_type": "code",
   "execution_count": null,
   "metadata": {
    "jupyter": {
     "source_hidden": true
    },
    "tags": [
     "remove-input"
    ]
   },
   "outputs": [],
   "source": [
    "from deepdiff import DeepDiff\n",
    "\n",
    "actual = {p.name: val for p, (val, err) in DECAY_RATES.items()}\n",
    "expected = {\n",
    "    \"L(1405)\": 0.07778927301796905,\n",
    "    \"L(1520)\": 0.019140409080481712,\n",
    "    \"L(1600)\": 0.05156508524716808,\n",
    "    \"L(1670)\": 0.01152765176461739,\n",
    "    \"L(1690)\": 0.011620347822014116,\n",
    "    \"L(2000)\": 0.09545104884536688,\n",
    "    \"D(1232)\": 0.28734702629964115,\n",
    "    \"D(1600)\": 0.04499512444857963,\n",
    "    \"D(1700)\": 0.03886137420714059,\n",
    "    \"K(700)\": 0.02989528640855732,\n",
    "    \"K(892)\": 0.21953853300085216,\n",
    "    \"K(1430)\": 0.14700511274990016,\n",
    "}\n",
    "diff = DeepDiff(actual, expected, significant_digits=16)\n",
    "assert not diff, diff.pretty()"
   ]
  },
  {
   "cell_type": "markdown",
   "metadata": {},
   "source": [
    ":::{tip}\n",
    "Compare with the values with uncertainties as reported in {ref}`uncertainties:Decay rates`.\n",
    ":::"
   ]
  }
 ],
 "metadata": {
  "colab": {
   "toc_visible": true
  },
  "kernelspec": {
   "display_name": "Python 3 (ipykernel)",
   "language": "python",
   "name": "python3"
  },
  "language_info": {
   "codemirror_mode": {
    "name": "ipython",
    "version": 3
   },
   "file_extension": ".py",
   "mimetype": "text/x-python",
   "name": "python",
   "nbconvert_exporter": "python",
   "pygments_lexer": "ipython3",
   "version": "3.12.11"
  }
 },
 "nbformat": 4,
 "nbformat_minor": 4
}
