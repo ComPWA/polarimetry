{
 "cells": [
  {
   "cell_type": "markdown",
   "metadata": {},
   "source": [
    "# Serialization"
   ]
  },
  {
   "cell_type": "markdown",
   "metadata": {},
   "source": [
    "```{autolink-concat}\n",
    "```"
   ]
  },
  {
   "cell_type": "code",
   "execution_count": null,
   "metadata": {
    "jupyter": {
     "source_hidden": true
    },
    "tags": [
     "hide-cell",
     "scroll-input"
    ]
   },
   "outputs": [],
   "source": [
    "from __future__ import annotations\n",
    "\n",
    "import json\n",
    "import logging\n",
    "import math\n",
    "import os\n",
    "import warnings\n",
    "\n",
    "import matplotlib.pyplot as plt\n",
    "import numpy as np\n",
    "import pandas as pd\n",
    "from IPython.display import Markdown, display\n",
    "from scipy.interpolate import interp2d\n",
    "from tensorwaves.function.sympy import create_function\n",
    "from tqdm.auto import tqdm\n",
    "\n",
    "from polarization import formulate_polarization\n",
    "from polarization.amplitude import DalitzPlotDecompositionBuilder\n",
    "from polarization.data import (\n",
    "    create_data_transformer,\n",
    "    generate_meshgrid_sample,\n",
    "    generate_phasespace_sample,\n",
    ")\n",
    "from polarization.io import (\n",
    "    export_polarization_field,\n",
    "    import_polarization_field,\n",
    "    mute_jax_warnings,\n",
    "    perform_cached_doit,\n",
    ")\n",
    "from polarization.lhcb import _load_model_parameters, load_three_body_decays\n",
    "from polarization.plot import use_mpl_latex_fonts\n",
    "\n",
    "mute_jax_warnings()\n",
    "logging.getLogger().setLevel(logging.ERROR)\n",
    "warnings.filterwarnings(\"ignore\")\n",
    "\n",
    "reference_subsystem = 1\n",
    "dynamics_configurator = load_three_body_decays(\"../../data/isobars.json\")\n",
    "decay = dynamics_configurator.decay\n",
    "amplitude_builder = DalitzPlotDecompositionBuilder(decay)\n",
    "amplitude_builder.dynamics_choices = dynamics_configurator\n",
    "model = amplitude_builder.formulate(reference_subsystem)\n",
    "imported_parameter_values = _load_model_parameters(\n",
    "    \"../../data/modelparameters.json\", decay\n",
    ")\n",
    "model.parameter_defaults.update(imported_parameter_values)"
   ]
  },
  {
   "cell_type": "code",
   "execution_count": null,
   "metadata": {},
   "outputs": [],
   "source": [
    "polarization_exprs = formulate_polarization(amplitude_builder, reference_subsystem)\n",
    "unfolded_polarization_exprs = [\n",
    "    perform_cached_doit(expr.doit().xreplace(model.amplitudes))\n",
    "    for expr in tqdm(polarization_exprs, desc=\"Unfolding polarization expressions\")\n",
    "]\n",
    "unfolded_intensity_expr = perform_cached_doit(model.full_expression)"
   ]
  },
  {
   "cell_type": "code",
   "execution_count": null,
   "metadata": {
    "tags": []
   },
   "outputs": [],
   "source": [
    "polarization_funcs = [\n",
    "    create_function(expr.xreplace(model.parameter_defaults), backend=\"jax\")\n",
    "    for expr in tqdm(unfolded_polarization_exprs)\n",
    "]\n",
    "intensity_func = create_function(\n",
    "    unfolded_intensity_expr.xreplace(model.parameter_defaults),\n",
    "    backend=\"jax\",\n",
    ")"
   ]
  },
  {
   "cell_type": "code",
   "execution_count": null,
   "metadata": {
    "tags": [
     "remove-input"
    ]
   },
   "outputs": [],
   "source": [
    "resolution = 100\n",
    "transformer = create_data_transformer(model)\n",
    "grid_sample = generate_meshgrid_sample(decay, resolution)\n",
    "grid_sample = transformer(grid_sample)\n",
    "X = grid_sample[\"sigma1\"]\n",
    "Y = grid_sample[\"sigma2\"]"
   ]
  },
  {
   "cell_type": "code",
   "execution_count": null,
   "metadata": {},
   "outputs": [],
   "source": [
    "polarization_grids = [func(grid_sample).real for func in polarization_funcs]\n",
    "alpha_x = polarization_grids[0]\n",
    "df = pd.DataFrame(alpha_x, index=X[0], columns=Y[:, 0])\n",
    "df.to_json(\"alpha-x-pandas.json\")\n",
    "df.to_json(\"alpha-x-pandas-json.zip\", compression={\"method\": \"zip\"})\n",
    "df.to_csv(\"alpha-x-pandas.csv\")\n",
    "\n",
    "df_dict = df.to_dict()\n",
    "filtered_df_dict = {\n",
    "    x: {y: v for y, v in row.items() if not math.isnan(v)} for x, row in df_dict.items()\n",
    "}\n",
    "with open(\"alpha-x-python.json\", \"w\") as f:\n",
    "    json.dump(filtered_df_dict, f)\n",
    "\n",
    "json_dict = dict(\n",
    "    x=X[0].tolist(),\n",
    "    y=Y[:, 0].tolist(),\n",
    "    z=alpha_x.tolist(),\n",
    ")\n",
    "with open(\"alpha-x-arrays.json\", \"w\") as f:\n",
    "    json.dump(json_dict, f, separators=(\",\", \":\"))"
   ]
  },
  {
   "cell_type": "code",
   "execution_count": null,
   "metadata": {
    "jupyter": {
     "source_hidden": true
    },
    "tags": [
     "remove-input"
    ]
   },
   "outputs": [],
   "source": [
    "def render_kilobytes(path, markdown: bool = False) -> str:\n",
    "    byt = os.path.getsize(path)\n",
    "    kb = f\"{1e-3*byt:.0f}\"\n",
    "    if markdown:\n",
    "        return f\"\\n - **{kb} kB**: {{download}}`{path}`\"\n",
    "    return f\"\\n  {kb:>4s} kB  {path}\"\n",
    "\n",
    "\n",
    "src = f\"File sizes for {len(X[0])}x{len(Y[:, 0])} grid:\"\n",
    "markdown = \"EXECUTE_NB\" in os.environ\n",
    "src += render_kilobytes(\"alpha-x-arrays.json\", markdown)\n",
    "src += render_kilobytes(\"alpha-x-pandas.json\", markdown)\n",
    "src += render_kilobytes(\"alpha-x-python.json\", markdown)\n",
    "src += render_kilobytes(\"alpha-x-pandas-json.zip\", markdown)\n",
    "src += render_kilobytes(\"alpha-x-pandas.csv\", markdown)\n",
    "if markdown:\n",
    "    display(Markdown(src))\n",
    "else:\n",
    "    print(src)"
   ]
  },
  {
   "cell_type": "markdown",
   "metadata": {},
   "source": [
    "## Exported polarization grids"
   ]
  },
  {
   "cell_type": "markdown",
   "metadata": {},
   "source": [
    ":::{note}\n",
    "Decided to use the `alpha-x-arrays.json` format. It can be exported with {func}`.export_polarization_field`.\n",
    ":::"
   ]
  },
  {
   "cell_type": "code",
   "execution_count": null,
   "metadata": {},
   "outputs": [],
   "source": [
    "export_polarization_field(\n",
    "    sigma1=X[0],\n",
    "    sigma2=Y[:, 0],\n",
    "    alpha_x=polarization_grids[0],\n",
    "    alpha_y=polarization_grids[1],\n",
    "    alpha_z=polarization_grids[2],\n",
    "    intensity=intensity_func(grid_sample),\n",
    "    filename=\"polarizations-model-0.json\",\n",
    ")"
   ]
  },
  {
   "cell_type": "code",
   "execution_count": null,
   "metadata": {
    "jupyter": {
     "source_hidden": true
    },
    "tags": [
     "remove-input"
    ]
   },
   "outputs": [],
   "source": [
    "if \"EXECUTE_NB\" in os.environ:\n",
    "    src = (\n",
    "        \"Polarization grid can be downloaded here:\"\n",
    "        \" {download}`polarizations-model-0.json`.\"\n",
    "    )\n",
    "    display(Markdown(src))"
   ]
  },
  {
   "cell_type": "markdown",
   "metadata": {},
   "source": [
    "### Import and interpolate"
   ]
  },
  {
   "cell_type": "code",
   "execution_count": null,
   "metadata": {},
   "outputs": [],
   "source": [
    "imported_resolution = 100\n",
    "steps = int(resolution / imported_resolution)\n",
    "field_definition = import_polarization_field(\"polarizations-model-0.json\", steps)\n",
    "imported_sigma1 = field_definition[\"m^2_Kpi\"]\n",
    "imported_sigma2 = field_definition[\"m^2_pK\"]\n",
    "imported_arrays = (\n",
    "    field_definition[\"intensity\"],\n",
    "    field_definition[\"alpha_x\"],\n",
    "    field_definition[\"alpha_y\"],\n",
    "    field_definition[\"alpha_z\"],\n",
    ")"
   ]
  },
  {
   "cell_type": "code",
   "execution_count": null,
   "metadata": {
    "tags": []
   },
   "outputs": [],
   "source": [
    "xx, yy = np.meshgrid(imported_sigma1, imported_sigma2)\n",
    "interpolated_funcs = tuple(\n",
    "    interp2d(xx, yy, np.nan_to_num(zz), kind=\"linear\") for zz in tqdm(imported_arrays)\n",
    ")"
   ]
  },
  {
   "cell_type": "markdown",
   "metadata": {},
   "source": [
    ":::{warning}\n",
    "{obj}`scipy.interpolate.interp2d` in combination is {mod}`jax.numpy` is slower than using {mod}`numpy`. Also note that {obj}`~numpy.nan` values have to be replaced with `0.0` using {func}`numpy.nan_to_num`.\n",
    ":::"
   ]
  },
  {
   "cell_type": "code",
   "execution_count": null,
   "metadata": {
    "jupyter": {
     "source_hidden": true
    },
    "tags": [
     "hide-input"
    ]
   },
   "outputs": [],
   "source": [
    "n_points = 10\n",
    "mini_sample = generate_phasespace_sample(model.decay, n_points, seed=0)\n",
    "mini_sample = transformer(mini_sample)\n",
    "src = r\"\"\"\n",
    "|   |   | $I$ | $\\alpha_x$ | $\\alpha_y$ | $\\alpha_z$ |\n",
    "|---|--:|:---:|:----------:|:----------:|:----------:|\n",
    "\"\"\".strip()\n",
    "for i in range(n_points):\n",
    "    phsp_point = {\n",
    "        k: float(v[i]) if len(v.shape) else float(v) for k, v in mini_sample.items()\n",
    "    }\n",
    "    x = phsp_point[\"sigma1\"]\n",
    "    y = phsp_point[\"sigma2\"]\n",
    "    computed_values = tuple(float(func(x, y)) for func in interpolated_funcs)\n",
    "    actual_values = tuple(\n",
    "        float(func(phsp_point).real) for func in [intensity_func, *polarization_funcs]\n",
    "    )\n",
    "    src += \"\\n\"\n",
    "    src += f\"| **point {i}** | **interpolated** |\"\n",
    "    for val in computed_values:\n",
    "        src += f\"{val:.2f} |\"\n",
    "    src += \"\\n\"\n",
    "    src += \"|  | **actual** |\"\n",
    "    for val in actual_values:\n",
    "        src += f\"{val:.2f} |\"\n",
    "    src += \"\\n\"\n",
    "    src += \"|  | **difference** |\"\n",
    "    for actual, computed in zip(actual_values, computed_values):\n",
    "        diff = actual - computed\n",
    "        percent = 100 * abs(diff / actual)\n",
    "        diff_str = f\"{percent:.0f}%\"\n",
    "        if percent > 5:\n",
    "            diff_str = f'<span style=\"color:red\">{diff_str}</span>'\n",
    "        src += f\"{diff_str} |\"\n",
    "Markdown(src)"
   ]
  },
  {
   "cell_type": "code",
   "execution_count": null,
   "metadata": {
    "jupyter": {
     "source_hidden": true
    },
    "tags": [
     "hide-input"
    ]
   },
   "outputs": [],
   "source": [
    "use_mpl_latex_fonts()\n",
    "plt.rc(\"font\", size=18)\n",
    "fig, axes = plt.subplots(dpi=200, figsize=(15, 5.2), ncols=4, sharey=True)\n",
    "fig.suptitle(\"Locations of random points\", y=0.92)\n",
    "axes[0].set_ylabel(R\"$\\sigma_2 = m^2_{pK}$ [GeV$/c^2$]\")\n",
    "for i, ax in enumerate(axes):\n",
    "    if ax is axes[0]:\n",
    "        func = intensity_func\n",
    "        title = \"$I$\"\n",
    "        cmap = plt.cm.viridis\n",
    "    else:\n",
    "        xyz = i - 1\n",
    "        func = polarization_funcs[xyz]\n",
    "        title = Rf\"$\\alpha_{'xyz'[xyz]}$\"\n",
    "        cmap = plt.cm.coolwarm\n",
    "    ax.set_title(title)\n",
    "    Z = func(grid_sample).real\n",
    "    ax.set_xlabel(R\"$\\sigma_1 = m^2_{K\\pi}$ [GeV$/c^2$]\")\n",
    "    mesh = ax.pcolormesh(X, Y, Z, cmap=cmap)\n",
    "    if ax is not axes[0]:\n",
    "        mesh.set_clim(-1, +1)\n",
    "    for i in range(n_points):\n",
    "        x = mini_sample[\"sigma1\"][i]\n",
    "        y = mini_sample[\"sigma2\"][i]\n",
    "        ax.text(x, y, f\"{i}\", c=\"red\", fontsize=10)\n",
    "fig.tight_layout()\n",
    "plt.show()"
   ]
  }
 ],
 "metadata": {
  "kernelspec": {
   "display_name": "Python 3 (ipykernel)",
   "language": "python",
   "name": "python3"
  },
  "language_info": {
   "codemirror_mode": {
    "name": "ipython",
    "version": 3
   },
   "file_extension": ".py",
   "mimetype": "text/x-python",
   "name": "python",
   "nbconvert_exporter": "python",
   "pygments_lexer": "ipython3",
   "version": "3.8.13"
  }
 },
 "nbformat": 4,
 "nbformat_minor": 4
}
