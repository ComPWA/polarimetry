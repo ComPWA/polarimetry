{
 "cells": [
  {
   "cell_type": "markdown",
   "metadata": {},
   "source": [
    "# Serialization"
   ]
  },
  {
   "cell_type": "markdown",
   "metadata": {},
   "source": [
    "```{autolink-concat}\n",
    "```"
   ]
  },
  {
   "cell_type": "code",
   "execution_count": null,
   "metadata": {
    "jupyter": {
     "source_hidden": true
    },
    "tags": [
     "hide-cell",
     "scroll-input"
    ]
   },
   "outputs": [],
   "source": [
    "from __future__ import annotations\n",
    "\n",
    "import json\n",
    "import math\n",
    "import os\n",
    "\n",
    "import pandas as pd\n",
    "from IPython.display import Markdown, display\n",
    "from tensorwaves.function.sympy import create_function\n",
    "from tqdm.auto import tqdm\n",
    "\n",
    "from polarization import formulate_polarization\n",
    "from polarization.amplitude import DalitzPlotDecompositionBuilder\n",
    "from polarization.data import create_data_transformer, generate_meshgrid_sample\n",
    "from polarization.io import (\n",
    "    export_polarization_field,\n",
    "    mute_jax_warnings,\n",
    "    perform_cached_doit,\n",
    ")\n",
    "from polarization.lhcb import _load_model_parameters, load_three_body_decays\n",
    "\n",
    "mute_jax_warnings()\n",
    "\n",
    "reference_subsystem = 1\n",
    "dynamics_configurator = load_three_body_decays(\"../../data/isobars.json\")\n",
    "decay = dynamics_configurator.decay\n",
    "amplitude_builder = DalitzPlotDecompositionBuilder(decay)\n",
    "amplitude_builder.dynamics_choices = dynamics_configurator\n",
    "model = amplitude_builder.formulate(reference_subsystem)\n",
    "imported_parameter_values = _load_model_parameters(\n",
    "    \"../../data/modelparameters.json\", decay\n",
    ")\n",
    "model.parameter_defaults.update(imported_parameter_values)"
   ]
  },
  {
   "cell_type": "code",
   "execution_count": null,
   "metadata": {},
   "outputs": [],
   "source": [
    "polarization_exprs = formulate_polarization(amplitude_builder, reference_subsystem)\n",
    "unfolded_polarization_exprs = [\n",
    "    perform_cached_doit(expr.doit().xreplace(model.amplitudes))\n",
    "    for expr in tqdm(polarization_exprs, desc=\"Unfolding polarization expressions\")\n",
    "]\n",
    "unfolded_intensity_expr = perform_cached_doit(model.full_expression)"
   ]
  },
  {
   "cell_type": "code",
   "execution_count": null,
   "metadata": {
    "tags": []
   },
   "outputs": [],
   "source": [
    "polarization_funcs = [\n",
    "    create_function(expr.xreplace(model.parameter_defaults), backend=\"jax\")\n",
    "    for expr in tqdm(unfolded_polarization_exprs)\n",
    "]\n",
    "intensity_func = create_function(\n",
    "    unfolded_intensity_expr.xreplace(model.parameter_defaults),\n",
    "    backend=\"jax\",\n",
    ")"
   ]
  },
  {
   "cell_type": "code",
   "execution_count": null,
   "metadata": {
    "tags": [
     "remove-input"
    ]
   },
   "outputs": [],
   "source": [
    "transformer = create_data_transformer(model)\n",
    "grid_sample = generate_meshgrid_sample(decay, resolution=100)\n",
    "grid_sample = transformer(grid_sample)\n",
    "X = grid_sample[\"sigma1\"]\n",
    "Y = grid_sample[\"sigma2\"]"
   ]
  },
  {
   "cell_type": "code",
   "execution_count": null,
   "metadata": {},
   "outputs": [],
   "source": [
    "polarization_grids = [func(grid_sample).real for func in polarization_funcs]\n",
    "alpha_x = polarization_grids[0]\n",
    "df = pd.DataFrame(alpha_x, index=X[0], columns=Y[:, 0])\n",
    "df.to_json(\"alpha-x-pandas.json\")\n",
    "df.to_json(\"alpha-x-pandas-json.zip\", compression={\"method\": \"zip\"})\n",
    "df.to_csv(\"alpha-x-pandas.csv\")\n",
    "\n",
    "df_dict = df.to_dict()\n",
    "filtered_df_dict = {\n",
    "    x: {y: v for y, v in row.items() if not math.isnan(v)} for x, row in df_dict.items()\n",
    "}\n",
    "with open(\"alpha-x-python.json\", \"w\") as f:\n",
    "    json.dump(filtered_df_dict, f)\n",
    "\n",
    "json_dict = dict(\n",
    "    x=X[0].tolist(),\n",
    "    y=Y[:, 0].tolist(),\n",
    "    z=alpha_x.tolist(),\n",
    ")\n",
    "with open(\"alpha-x-arrays.json\", \"w\") as f:\n",
    "    json.dump(json_dict, f, separators=(\",\", \":\"))"
   ]
  },
  {
   "cell_type": "code",
   "execution_count": null,
   "metadata": {
    "jupyter": {
     "source_hidden": true
    },
    "tags": [
     "remove-input"
    ]
   },
   "outputs": [],
   "source": [
    "def render_kilobytes(path, markdown: bool = False) -> str:\n",
    "    byt = os.path.getsize(path)\n",
    "    kb = f\"{1e-3*byt:.0f}\"\n",
    "    if markdown:\n",
    "        return f\"\\n - **{kb} kB**: {{download}}`{path}`\"\n",
    "    return f\"\\n  {kb:>4s} kB  {path}\"\n",
    "\n",
    "\n",
    "src = f\"File sizes for {len(X[0])}x{len(Y[:, 0])} grid:\"\n",
    "markdown = \"EXECUTE_NB\" in os.environ\n",
    "src += render_kilobytes(\"alpha-x-arrays.json\", markdown)\n",
    "src += render_kilobytes(\"alpha-x-pandas.json\", markdown)\n",
    "src += render_kilobytes(\"alpha-x-python.json\", markdown)\n",
    "src += render_kilobytes(\"alpha-x-pandas-json.zip\", markdown)\n",
    "src += render_kilobytes(\"alpha-x-pandas.csv\", markdown)\n",
    "if markdown:\n",
    "    display(Markdown(src))\n",
    "else:\n",
    "    print(src)"
   ]
  },
  {
   "cell_type": "markdown",
   "metadata": {},
   "source": [
    "## Exported polarization grids"
   ]
  },
  {
   "cell_type": "markdown",
   "metadata": {},
   "source": [
    ":::{note}\n",
    "Decided to use the `alpha-x-arrays.json` format. It can be exported with {func}`.export_polarization_field`.\n",
    ":::"
   ]
  },
  {
   "cell_type": "code",
   "execution_count": null,
   "metadata": {},
   "outputs": [],
   "source": [
    "export_polarization_field(\n",
    "    sigma1=X[0],\n",
    "    sigma2=Y[:, 0],\n",
    "    alpha_x=polarization_grids[0],\n",
    "    alpha_y=polarization_grids[1],\n",
    "    alpha_z=polarization_grids[2],\n",
    "    intensity=intensity_func(grid_sample),\n",
    "    filename=\"polarizations-model-0.json\",\n",
    ")"
   ]
  },
  {
   "cell_type": "code",
   "execution_count": null,
   "metadata": {
    "jupyter": {
     "source_hidden": true
    },
    "tags": [
     "remove-input"
    ]
   },
   "outputs": [],
   "source": [
    "if \"EXECUTE_NB\" in os.environ:\n",
    "    src = (\n",
    "        \"Polarization grid can be downloaded here:\"\n",
    "        \" {download}`polarizations-model-0.json`.\"\n",
    "    )\n",
    "    display(Markdown(src))"
   ]
  }
 ],
 "metadata": {
  "kernelspec": {
   "display_name": "Python 3 (ipykernel)",
   "language": "python",
   "name": "python3"
  },
  "language_info": {
   "codemirror_mode": {
    "name": "ipython",
    "version": 3
   },
   "file_extension": ".py",
   "mimetype": "text/x-python",
   "name": "python",
   "nbconvert_exporter": "python",
   "pygments_lexer": "ipython3",
   "version": "3.8.13"
  }
 },
 "nbformat": 4,
 "nbformat_minor": 4
}
