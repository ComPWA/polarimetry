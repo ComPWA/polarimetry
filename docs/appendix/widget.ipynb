{
 "cells": [
  {
   "cell_type": "markdown",
   "metadata": {},
   "source": [
    "# Interactive visualization\n",
    "\n",
    "```{autolink-concat}\n",
    "```"
   ]
  },
  {
   "cell_type": "code",
   "execution_count": null,
   "metadata": {
    "jupyter": {
     "source_hidden": true
    },
    "mystnb": {
     "code_prompt_show": "Import python libraries"
    },
    "tags": [
     "hide-cell",
     "scroll-input"
    ]
   },
   "outputs": [],
   "source": [
    "from __future__ import annotations\n",
    "\n",
    "import logging\n",
    "import os\n",
    "from collections import defaultdict\n",
    "from functools import lru_cache\n",
    "from textwrap import dedent\n",
    "from warnings import filterwarnings\n",
    "\n",
    "import jax.numpy as jnp\n",
    "import matplotlib.pyplot as plt\n",
    "import numpy as np\n",
    "import sympy as sp\n",
    "from IPython.display import Markdown, display\n",
    "from ipywidgets import (\n",
    "    Button,\n",
    "    Combobox,\n",
    "    FloatSlider,\n",
    "    HBox,\n",
    "    HTMLMath,\n",
    "    Tab,\n",
    "    VBox,\n",
    "    interactive_output,\n",
    ")\n",
    "from matplotlib.colors import LogNorm\n",
    "from symplot import create_slider\n",
    "from tensorwaves.interface import DataSample\n",
    "from tqdm.auto import tqdm\n",
    "\n",
    "from polarimetry import formulate_polarimetry\n",
    "from polarimetry.amplitude import simplify_latex_rendering\n",
    "from polarimetry.data import (\n",
    "    compute_dalitz_boundaries,\n",
    "    create_data_transformer,\n",
    "    generate_meshgrid_sample,\n",
    ")\n",
    "from polarimetry.io import (\n",
    "    mute_jax_warnings,\n",
    "    perform_cached_doit,\n",
    "    perform_cached_lambdify,\n",
    ")\n",
    "from polarimetry.lhcb import load_model_builder, load_model_parameters\n",
    "from polarimetry.lhcb.particle import load_particles\n",
    "from polarimetry.plot import use_mpl_latex_fonts\n",
    "\n",
    "filterwarnings(\"ignore\")\n",
    "logging.getLogger(\"polarimetry.function\").setLevel(logging.INFO)\n",
    "mute_jax_warnings()\n",
    "simplify_latex_rendering()\n",
    "\n",
    "NO_TQDM = \"EXECUTE_NB\" in os.environ\n",
    "if NO_TQDM:\n",
    "    logging.getLogger().setLevel(logging.ERROR)"
   ]
  },
  {
   "cell_type": "code",
   "execution_count": null,
   "metadata": {
    "jupyter": {
     "source_hidden": true
    },
    "mystnb": {
     "code_prompt_show": "Formulate amplitude models"
    },
    "tags": [
     "hide-input"
    ]
   },
   "outputs": [],
   "source": [
    "model_choice = 0\n",
    "model_file = \"../../data/model-definitions.yaml\"\n",
    "PARTICLES = load_particles(\"../../data/particle-definitions.yaml\")\n",
    "BUILDER = load_model_builder(model_file, PARTICLES, model_id=0)\n",
    "imported_parameters = load_model_parameters(\n",
    "    model_file,\n",
    "    BUILDER.decay,\n",
    "    model_id=0,\n",
    "    particle_definitions=PARTICLES,\n",
    ")\n",
    "MODEL = BUILDER.formulate(reference_subsystem=1)\n",
    "MODEL.parameter_defaults.update(imported_parameters)\n",
    "del model_choice, model_file, imported_parameters"
   ]
  },
  {
   "cell_type": "code",
   "execution_count": null,
   "metadata": {
    "jupyter": {
     "source_hidden": true
    },
    "mystnb": {
     "code_prompt_show": "Definition of free parameters"
    },
    "tags": [
     "hide-input"
    ]
   },
   "outputs": [],
   "source": [
    "def to_polar_coordinates(coupling: sp.Indexed) -> tuple[sp.Symbol, sp.Symbol]:\n",
    "    superscript = sp.latex(coupling.indices[0])\n",
    "    subscript = \", \".join(map(sp.latex, coupling.indices[1:]))\n",
    "    suffix = f\"^{{{superscript}}}_{{{subscript}}}\"\n",
    "    norm = sp.Symbol(\"C\" + suffix)\n",
    "    phi = sp.Symbol(R\"\\phi\" + suffix)\n",
    "    return norm, phi\n",
    "\n",
    "\n",
    "POLAR_SUBSTITUTIONS = {}\n",
    "for symbol, value in list(MODEL.parameter_defaults.items()):\n",
    "    if \"production\" not in symbol.name:\n",
    "        continue\n",
    "    del MODEL.parameter_defaults[symbol]\n",
    "    norm, phi = to_polar_coordinates(symbol)\n",
    "    MODEL.parameter_defaults[norm] = np.abs(value)\n",
    "    MODEL.parameter_defaults[phi] = np.angle(value)\n",
    "    POLAR_SUBSTITUTIONS[symbol] = norm * sp.exp(phi * sp.I)\n",
    "\n",
    "FREE_PARAMETERS = {\n",
    "    s: value\n",
    "    for s, value in MODEL.parameter_defaults.items()\n",
    "    if s.name.startswith(\"C\")\n",
    "    or s.name.startswith(R\"\\phi\")\n",
    "    or (s.name.startswith(R\"\\Gamma_\") and \"Sigma\" not in s.name)\n",
    "    or (s.name.startswith(\"m_\") and \"(\" in s.name)\n",
    "}\n",
    "FIXED_PARAMETERS = {\n",
    "    s: value\n",
    "    for s, value in MODEL.parameter_defaults.items()\n",
    "    if s not in FREE_PARAMETERS\n",
    "}\n",
    "\n",
    "\n",
    "@lru_cache(maxsize=None)\n",
    "def unfold_and_substitute(expr: sp.Expr) -> sp.Expr:\n",
    "    expr = perform_cached_doit(expr)\n",
    "    expr = perform_cached_doit(expr.xreplace(MODEL.amplitudes))\n",
    "    expr = expr.xreplace(POLAR_SUBSTITUTIONS)\n",
    "    expr = expr.xreplace(FIXED_PARAMETERS)\n",
    "    return expr"
   ]
  },
  {
   "cell_type": "code",
   "execution_count": null,
   "metadata": {
    "mystnb": {
     "code_prompt_show": "Formulate expressions"
    },
    "tags": [
     "hide-cell"
    ]
   },
   "outputs": [],
   "source": [
    "%%time\n",
    "POLARIMETRY_EXPRS = tuple(\n",
    "    unfold_and_substitute(expr)\n",
    "    for expr in formulate_polarimetry(BUILDER, reference_subsystem=1)\n",
    ")\n",
    "INTENSITY_EXPR = unfold_and_substitute(MODEL.intensity)"
   ]
  },
  {
   "cell_type": "code",
   "execution_count": null,
   "metadata": {
    "mystnb": {
     "code_prompt_show": "Convert to numerical functions"
    },
    "tags": [
     "hide-input"
    ]
   },
   "outputs": [],
   "source": [
    "POLARIMETRY_FUNCS = tuple(\n",
    "    perform_cached_lambdify(expr, parameters=FREE_PARAMETERS)\n",
    "    for expr in tqdm(POLARIMETRY_EXPRS, disable=NO_TQDM, leave=False)\n",
    ")\n",
    "INTENSITY_FUNC = perform_cached_lambdify(INTENSITY_EXPR, parameters=FREE_PARAMETERS)"
   ]
  },
  {
   "cell_type": "code",
   "execution_count": null,
   "metadata": {
    "jupyter": {
     "source_hidden": true
    },
    "mystnb": {
     "code_prompt_show": "Define sliders for the widget"
    },
    "tags": [
     "scroll-input",
     "hide-input"
    ]
   },
   "outputs": [],
   "source": [
    "def create_ui() -> tuple[VBox, dict[str, FloatSlider]]:\n",
    "    # Slider construction\n",
    "    sliders = {}\n",
    "    for symbol, value in FREE_PARAMETERS.items():\n",
    "        slider = create_slider(symbol)\n",
    "        sliders[symbol.name] = slider\n",
    "        if symbol.name.startswith(\"m\"):\n",
    "            slider.readout_format = \".3f\"\n",
    "            slider.description = \"mass\"\n",
    "        elif symbol.name.startswith(R\"\\Gamma\"):\n",
    "            slider.readout_format = \".3f\"\n",
    "            slider.description = \"width\"\n",
    "        elif symbol.name.startswith(\"C\"):\n",
    "            slider.readout_format = \".1f\"\n",
    "            slider.description = \"r\"\n",
    "        elif symbol.name.startswith(R\"\\phi\"):\n",
    "            slider.readout_format = \".2f\"\n",
    "            slider.description = \"φ\"\n",
    "\n",
    "    # Slider ranges\n",
    "    (\n",
    "        (s1_min, s1_max),\n",
    "        (s2_min, s2_max),\n",
    "        (s3_min, s3_max),\n",
    "    ) = compute_dalitz_boundaries(MODEL.decay)\n",
    "    for name, slider in sliders.items():\n",
    "        slider.continuous_update = True\n",
    "        slider.step = 0.01\n",
    "        if name.startswith(\"m_\"):\n",
    "            if \"K\" in name:\n",
    "                slider.min = np.sqrt(s1_min)\n",
    "                slider.max = np.sqrt(s1_max)\n",
    "            elif \"L\" in name:\n",
    "                slider.min = np.sqrt(s2_min)\n",
    "                slider.max = np.sqrt(s2_max)\n",
    "            elif \"D\" in name:\n",
    "                slider.min = np.sqrt(s3_min)\n",
    "                slider.max = np.sqrt(s3_max)\n",
    "        elif name.startswith(R\"\\Gamma_\"):\n",
    "            slider.min = 0\n",
    "            slider.max = max(0.5, 2 * slider.value)\n",
    "        elif name.startswith(R\"\\phi\"):\n",
    "            slider.min = -np.pi\n",
    "            slider.max = +np.pi\n",
    "        elif name.startswith(\"C\"):\n",
    "            slider.min = 0\n",
    "            slider.max = 20\n",
    "\n",
    "    # Slider values\n",
    "    def reset_sliders(click_event):\n",
    "        for symbol, value in FREE_PARAMETERS.items():\n",
    "            set_slider(sliders[symbol.name], value)\n",
    "\n",
    "    def set_coupling_to_zero(filter_pattern):\n",
    "        if isinstance(filter_pattern, Combobox):\n",
    "            filter_pattern = filter_pattern.value\n",
    "        for name, slider in sliders.items():\n",
    "            if not name.startswith(\"C\"):\n",
    "                continue\n",
    "            if filter_pattern not in name:\n",
    "                continue\n",
    "            set_slider(sliders[name], 0)\n",
    "\n",
    "    def set_slider(slider, value):\n",
    "        n_decimals = -round(np.log10(slider.step))\n",
    "        if slider.value != round(value, n_decimals):  # widget performance\n",
    "            slider.value = value\n",
    "\n",
    "    reset_sliders(click_event=None)\n",
    "    reset_button = Button(description=\"Reset slider values\")\n",
    "    reset_button.on_click(reset_sliders)\n",
    "\n",
    "    resonances = sorted(\n",
    "        {c.resonance for c in MODEL.decay.chains},\n",
    "        key=lambda p: (p.name[0], p.mass),\n",
    "    )\n",
    "    filter_button = Combobox(\n",
    "        placeholder=\"Enter coupling filter pattern\",\n",
    "        options=[p.name for p in resonances],\n",
    "        description=R\"$\\mathcal{H}=0$\",\n",
    "    )\n",
    "    filter_button.on_submit(set_coupling_to_zero)\n",
    "\n",
    "    # UI design\n",
    "    get_subscript = lambda p: Rf\"{p.name} \\to p K^-\" if \"1405\" in p.name else p.name\n",
    "    grouped_sliders = defaultdict(list)\n",
    "    for res in resonances:\n",
    "        pole_row = (\n",
    "            sliders[f\"m_{{{res.name}}}\"],\n",
    "            sliders[Rf\"\\Gamma_{{{get_subscript(res)}}}\"],\n",
    "        )\n",
    "        grouped_sliders[res.name].append(pole_row)\n",
    "        for slider_name, slider in sliders.items():\n",
    "            if res.name not in slider_name:\n",
    "                continue\n",
    "            if not slider_name.startswith(\"C\"):\n",
    "                continue\n",
    "            coupling_row = (\n",
    "                sliders[slider_name],\n",
    "                sliders[slider_name.replace(\"C\", R\"\\phi\")],\n",
    "                HTMLMath(f\"${slider_name}$\".replace(\"C\", R\"\\mathcal{H}\")),\n",
    "            )\n",
    "            grouped_sliders[res.name].append(coupling_row)\n",
    "    slider_tabs = Tab(\n",
    "        children=[\n",
    "            VBox([HBox(row) for row in group]) for group in grouped_sliders.values()\n",
    "        ],\n",
    "        titles=tuple(grouped_sliders),\n",
    "    )\n",
    "    ui = VBox([slider_tabs, HBox([reset_button, filter_button])])\n",
    "    return ui, sliders\n",
    "\n",
    "\n",
    "UI, SLIDERS = create_ui()"
   ]
  },
  {
   "cell_type": "code",
   "execution_count": null,
   "metadata": {
    "jupyter": {
     "source_hidden": true
    },
    "mystnb": {
     "code_prompt_show": "Define phase space sample for plotting"
    },
    "tags": [
     "hide-input"
    ]
   },
   "outputs": [],
   "source": [
    "def create_grid(resolution: int) -> DataSample:\n",
    "    sample = generate_meshgrid_sample(MODEL.decay, resolution)\n",
    "    sample.update(TRANSFORMER(sample))\n",
    "    return sample\n",
    "\n",
    "\n",
    "TRANSFORMER = create_data_transformer(MODEL)\n",
    "MESH_GRID = create_grid(resolution=200)\n",
    "QUIVER_GRID = create_grid(resolution=35)"
   ]
  },
  {
   "cell_type": "code",
   "execution_count": null,
   "metadata": {
    "jupyter": {
     "source_hidden": true
    },
    "mystnb": {
     "code_prompt_show": "Create interactive plot"
    },
    "tags": [
     "hide-input",
     "scroll-input"
    ]
   },
   "outputs": [],
   "source": [
    "def create_interactive_plot() -> None:\n",
    "    plt.rcdefaults()\n",
    "    use_mpl_latex_fonts()\n",
    "    plt.rc(\"font\", size=17)\n",
    "    fig, axes = plt.subplots(\n",
    "        figsize=(12, 6.2),\n",
    "        ncols=2,\n",
    "        sharey=True,\n",
    "    )\n",
    "    ax1, ax2 = axes\n",
    "    ax1.set_title(\"Intensity distribution\")\n",
    "    ax2.set_title(\"Polarimeter vector field\")\n",
    "    ax1.set_xlabel(R\"$m^2(K^- \\pi^+)$\")\n",
    "    ax2.set_xlabel(R\"$m^2(K^- \\pi^+), \\alpha_x$\")\n",
    "    ax1.set_ylabel(R\"$m^2(p K^-), \\alpha_x$\")\n",
    "    for ax in axes:\n",
    "        ax.set_box_aspect(1)\n",
    "    fig.canvas.toolbar_visible = False\n",
    "    fig.canvas.header_visible = False\n",
    "    fig.canvas.footer_visible = False\n",
    "\n",
    "    mesh = None\n",
    "    quiver = None\n",
    "    intensity_bar = None\n",
    "    y_min = None\n",
    "\n",
    "    def plot3(**kwargs):\n",
    "        nonlocal quiver, mesh, intensity_bar, y_min\n",
    "        for func in list(POLARIMETRY_FUNCS) + [INTENSITY_FUNC]:\n",
    "            func.update_parameters(kwargs)\n",
    "        intensities = INTENSITY_FUNC(MESH_GRID)\n",
    "        αx, αy, αz = tuple(func(QUIVER_GRID).real for func in POLARIMETRY_FUNCS)\n",
    "        abs_α = jnp.sqrt(αx**2 + αy**2 + αz**2)\n",
    "        if mesh is None:\n",
    "            mesh = ax1.pcolormesh(\n",
    "                MESH_GRID[\"sigma1\"],\n",
    "                MESH_GRID[\"sigma2\"],\n",
    "                intensities,\n",
    "                cmap=plt.cm.YlOrRd,\n",
    "                norm=LogNorm(),\n",
    "            )\n",
    "            intensity_bar = fig.colorbar(mesh, ax=ax1, pad=0.01, fraction=0.0473)\n",
    "            intensity_bar.ax.set_ylabel(\"normalized intensity (a.u.)\")\n",
    "            y_min, _ = intensity_bar.ax.get_ylim()\n",
    "        else:\n",
    "            mesh.set_array(intensities)\n",
    "            if not jnp.isnan(intensities).all():\n",
    "                y_max = np.nanmax(intensities)\n",
    "                mesh.set_clim(vmax=y_max)\n",
    "                intensity_bar.ax.set_ylim(y_min, y_max)\n",
    "        if quiver is None:\n",
    "            quiver = ax2.quiver(\n",
    "                QUIVER_GRID[\"sigma1\"],\n",
    "                QUIVER_GRID[\"sigma2\"],\n",
    "                αz,\n",
    "                αx,\n",
    "                abs_α,\n",
    "                cmap=plt.cm.viridis_r,\n",
    "                clim=(0, 1),\n",
    "            )\n",
    "            c_bar = fig.colorbar(quiver, ax=ax2, pad=0.01, fraction=0.0473)\n",
    "            c_bar.ax.set_ylabel(R\"$\\left|\\vec\\alpha\\right|$\")\n",
    "        else:\n",
    "            quiver.set_UVC(αz, αx, abs_α)\n",
    "        fig.canvas.draw_idle()\n",
    "\n",
    "    output = interactive_output(plot3, controls=SLIDERS)\n",
    "    fig.tight_layout()\n",
    "    if NO_TQDM:\n",
    "        export_file = \"interactive-plot.png\"\n",
    "        fig.savefig(export_file, dpi=200)\n",
    "        src = f\"\"\"\n",
    "        :::{{tip}}\n",
    "        Run this notebook in Jupyter to modify parameters interactively!\n",
    "        :::\n",
    "        \n",
    "        :::{{container}} full-width\n",
    "        ![]({export_file})\n",
    "        :::\n",
    "        \"\"\"\n",
    "        src = dedent(src)\n",
    "        display(Markdown(src))\n",
    "    else:\n",
    "        display(output, UI)\n",
    "\n",
    "\n",
    "%matplotlib widget\n",
    "create_interactive_plot()"
   ]
  }
 ],
 "metadata": {
  "kernelspec": {
   "display_name": "Python 3 (ipykernel)",
   "language": "python",
   "name": "python3"
  },
  "language_info": {
   "codemirror_mode": {
    "name": "ipython",
    "version": 3
   },
   "file_extension": ".py",
   "mimetype": "text/x-python",
   "name": "python",
   "nbconvert_exporter": "python",
   "pygments_lexer": "ipython3",
   "version": "3.8.15"
  },
  "myst": {
   "all_links_external": true
  }
 },
 "nbformat": 4,
 "nbformat_minor": 4
}
