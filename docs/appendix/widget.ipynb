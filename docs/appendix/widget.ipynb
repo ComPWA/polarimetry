{
 "cells": [
  {
   "cell_type": "markdown",
   "metadata": {},
   "source": [
    "# Interactive visualization\n",
    "\n",
    "```{autolink-concat}\n",
    "```"
   ]
  },
  {
   "cell_type": "code",
   "execution_count": null,
   "metadata": {
    "jupyter": {
     "source_hidden": true
    },
    "mystnb": {
     "code_prompt_show": "Import python libraries"
    },
    "tags": [
     "hide-cell",
     "scroll-input"
    ]
   },
   "outputs": [],
   "source": [
    "from __future__ import annotations\n",
    "\n",
    "import logging\n",
    "import os\n",
    "from functools import lru_cache\n",
    "from textwrap import dedent\n",
    "from warnings import filterwarnings\n",
    "\n",
    "import jax.numpy as jnp\n",
    "import matplotlib.pyplot as plt\n",
    "import numpy as np\n",
    "import sympy as sp\n",
    "from IPython.display import Markdown, display\n",
    "from ipywidgets import (\n",
    "    HTML,\n",
    "    Button,\n",
    "    Combobox,\n",
    "    FloatSlider,\n",
    "    HBox,\n",
    "    HTMLMath,\n",
    "    Tab,\n",
    "    VBox,\n",
    "    interactive_output,\n",
    ")\n",
    "from matplotlib.colors import LogNorm\n",
    "from symplot import create_slider\n",
    "from tensorwaves.interface import DataSample\n",
    "from tqdm.auto import tqdm\n",
    "\n",
    "from polarimetry import formulate_polarimetry\n",
    "from polarimetry.amplitude import simplify_latex_rendering\n",
    "from polarimetry.data import create_data_transformer, generate_meshgrid_sample\n",
    "from polarimetry.io import (\n",
    "    mute_jax_warnings,\n",
    "    perform_cached_doit,\n",
    "    perform_cached_lambdify,\n",
    ")\n",
    "from polarimetry.lhcb import load_model_builder, load_model_parameters\n",
    "from polarimetry.lhcb.particle import load_particles\n",
    "from polarimetry.plot import use_mpl_latex_fonts\n",
    "\n",
    "filterwarnings(\"ignore\")\n",
    "logging.getLogger(\"polarimetry.function\").setLevel(logging.INFO)\n",
    "mute_jax_warnings()\n",
    "simplify_latex_rendering()\n",
    "\n",
    "NO_TQDM = \"EXECUTE_NB\" in os.environ\n",
    "if NO_TQDM:\n",
    "    logging.getLogger().setLevel(logging.ERROR)"
   ]
  },
  {
   "cell_type": "code",
   "execution_count": null,
   "metadata": {
    "jupyter": {
     "source_hidden": true
    },
    "mystnb": {
     "code_prompt_show": "Formulate amplitude models"
    },
    "tags": [
     "hide-input"
    ]
   },
   "outputs": [],
   "source": [
    "model_choice = 0\n",
    "model_file = \"../../data/model-definitions.yaml\"\n",
    "PARTICLES = load_particles(\"../../data/particle-definitions.yaml\")\n",
    "BUILDER = load_model_builder(model_file, PARTICLES, model_id=0)\n",
    "imported_parameters = load_model_parameters(\n",
    "    model_file,\n",
    "    BUILDER.decay,\n",
    "    model_id=0,\n",
    "    particle_definitions=PARTICLES,\n",
    ")\n",
    "MODEL = BUILDER.formulate(reference_subsystem=1)\n",
    "MODEL.parameter_defaults.update(imported_parameters)\n",
    "del model_choice, model_file, imported_parameters"
   ]
  },
  {
   "cell_type": "code",
   "execution_count": null,
   "metadata": {
    "mystnb": {
     "code_prompt_show": "Definition of free parameters"
    },
    "tags": [
     "hide-input"
    ]
   },
   "outputs": [],
   "source": [
    "FREE_PARAMETERS = {\n",
    "    s: value\n",
    "    for s, value in MODEL.parameter_defaults.items()\n",
    "    if (isinstance(s, sp.Indexed) and \"production\" in s.name)\n",
    "    or s.name.startswith(R\"\\Gamma_\")\n",
    "    and \"Sigma\" not in s.name\n",
    "    or (s.name.startswith(\"m_\") and \"(\" in s.name)\n",
    "}\n",
    "FIXED_PARAMETERS = {\n",
    "    s: value\n",
    "    for s, value in MODEL.parameter_defaults.items()\n",
    "    if s not in FREE_PARAMETERS\n",
    "}\n",
    "\n",
    "\n",
    "@lru_cache(maxsize=None)\n",
    "def unfold_and_substitute(expr: sp.Expr) -> sp.Expr:\n",
    "    expr = perform_cached_doit(expr)\n",
    "    expr = perform_cached_doit(expr.xreplace(MODEL.amplitudes))\n",
    "    expr = expr.xreplace(FIXED_PARAMETERS)\n",
    "    return expr"
   ]
  },
  {
   "cell_type": "code",
   "execution_count": null,
   "metadata": {
    "mystnb": {
     "code_prompt_show": "Formulate expressions"
    },
    "tags": [
     "hide-input"
    ]
   },
   "outputs": [],
   "source": [
    "POLARIMETRY_EXPRS = tuple(\n",
    "    unfold_and_substitute(expr)\n",
    "    for expr in formulate_polarimetry(BUILDER, reference_subsystem=1)\n",
    ")\n",
    "INTENSITY_EXPR = unfold_and_substitute(MODEL.intensity)"
   ]
  },
  {
   "cell_type": "code",
   "execution_count": null,
   "metadata": {
    "mystnb": {
     "code_prompt_show": "Convert to numerical functions"
    },
    "tags": [
     "hide-input"
    ]
   },
   "outputs": [],
   "source": [
    "POLARIMETRY_FUNCS = tuple(\n",
    "    perform_cached_lambdify(expr, parameters=FREE_PARAMETERS)\n",
    "    for expr in tqdm(POLARIMETRY_EXPRS, disable=NO_TQDM, leave=False)\n",
    ")\n",
    "INTENSITY_FUNC = perform_cached_lambdify(INTENSITY_EXPR, parameters=FREE_PARAMETERS)"
   ]
  },
  {
   "cell_type": "code",
   "execution_count": null,
   "metadata": {
    "mystnb": {
     "code_prompt_show": "Define phase space sample for plotting"
    },
    "tags": [
     "hide-input"
    ]
   },
   "outputs": [],
   "source": [
    "def create_grid(resolution: int) -> DataSample:\n",
    "    sample = generate_meshgrid_sample(MODEL.decay, resolution)\n",
    "    sample.update(TRANSFORMER(sample))\n",
    "    return sample\n",
    "\n",
    "\n",
    "TRANSFORMER = create_data_transformer(MODEL)\n",
    "MESH_GRID = create_grid(resolution=200)\n",
    "QUIVER_GRID = create_grid(resolution=35)"
   ]
  },
  {
   "cell_type": "code",
   "execution_count": null,
   "metadata": {
    "jupyter": {
     "source_hidden": true
    },
    "mystnb": {
     "code_prompt_show": "Define sliders for the widget"
    },
    "tags": [
     "scroll-input",
     "hide-input"
    ]
   },
   "outputs": [],
   "source": [
    "def create_ui() -> tuple[VBox, dict[str, FloatSlider]]:\n",
    "    # Slider construction\n",
    "    sliders = {}\n",
    "    for symbol, value in FREE_PARAMETERS.items():\n",
    "        if isinstance(symbol, sp.Indexed):\n",
    "            real_slider = create_slider(symbol)\n",
    "            imag_slider = create_slider(symbol)\n",
    "            sliders[f\"{symbol.name}_real\"] = real_slider\n",
    "            sliders[f\"{symbol.name}_imag\"] = imag_slider\n",
    "            real_slider.description = \"Re\"\n",
    "            imag_slider.description = \"Im\"\n",
    "        else:\n",
    "            slider = create_slider(symbol)\n",
    "            sliders[symbol.name] = slider\n",
    "            slider.readout_format = \".3f\"\n",
    "            if symbol.name.startswith(\"m\"):\n",
    "                slider.description = \"m\"\n",
    "            elif symbol.name.startswith(R\"\\Gamma\"):\n",
    "                slider.description = \"Γ\"\n",
    "\n",
    "    # Slider ranges\n",
    "    σ1_min, σ1_max = get_min_max(1)\n",
    "    σ2_min, σ2_max = get_min_max(2)\n",
    "    σ3_min, σ3_max = get_min_max(3)\n",
    "    for name, slider in sliders.items():\n",
    "        slider.continuous_update = True\n",
    "        slider.step = 0.01\n",
    "        if name.startswith(\"m_\"):\n",
    "            if \"K\" in name:\n",
    "                slider.min = np.sqrt(σ1_min)\n",
    "                slider.max = np.sqrt(σ1_max)\n",
    "            elif \"L\" in name:\n",
    "                slider.min = np.sqrt(σ2_min)\n",
    "                slider.max = np.sqrt(σ2_max)\n",
    "            elif \"D\" in name:\n",
    "                slider.min = np.sqrt(σ3_min)\n",
    "                slider.max = np.sqrt(σ3_max)\n",
    "        elif name.startswith(R\"\\Gamma_\"):\n",
    "            slider.min = 0\n",
    "            slider.max = max(0.5, 2 * slider.value)\n",
    "        elif \"production\" in name:\n",
    "            slider.min = -15\n",
    "            slider.max = +15\n",
    "\n",
    "    # Slider values\n",
    "    def reset_sliders(click_event):\n",
    "        for symbol, value in FREE_PARAMETERS.items():\n",
    "            if isinstance(symbol, sp.Indexed):\n",
    "                set_slider(sliders[symbol.name + \"_real\"], value.real)\n",
    "                set_slider(sliders[symbol.name + \"_imag\"], value.imag)\n",
    "            else:\n",
    "                set_slider(sliders[symbol.name], value)\n",
    "\n",
    "    def set_coupling_to_zero(filter_pattern):\n",
    "        if isinstance(filter_pattern, Combobox):\n",
    "            filter_pattern = filter_pattern.value\n",
    "        for name, slider in sliders.items():\n",
    "            if \"production\" not in name:\n",
    "                continue\n",
    "            if filter_pattern not in name:\n",
    "                continue\n",
    "            set_slider(sliders[name], 0)\n",
    "\n",
    "    def set_slider(slider, value):\n",
    "        if \"Im\" in slider.description:\n",
    "            value = complex(value).imag\n",
    "        else:\n",
    "            value = complex(value).real\n",
    "        n_decimals = -round(np.log10(slider.step))\n",
    "        if slider.value != round(value, n_decimals):  # widget performance\n",
    "            slider.value = value\n",
    "\n",
    "    reset_sliders(click_event=None)\n",
    "    reset_button = Button(description=\"Reset slider values\")\n",
    "    reset_button.on_click(reset_sliders)\n",
    "\n",
    "    resonances = sorted(\n",
    "        {c.resonance for c in MODEL.decay.chains},\n",
    "        key=lambda p: (p.name[0], p.mass),\n",
    "    )\n",
    "    filter_button = Combobox(\n",
    "        placeholder=\"Enter coupling filter pattern\",\n",
    "        options=[p.name for p in resonances],\n",
    "        description=R\"$\\mathcal{H}=0$\",\n",
    "    )\n",
    "    filter_button.on_submit(set_coupling_to_zero)\n",
    "\n",
    "    # UI design\n",
    "    latex = {symbol.name: sp.latex(symbol) for symbol in FREE_PARAMETERS}\n",
    "    get_subscript = lambda p: Rf\"{p.name} \\to p K^-\" if \"1405\" in p.name else p.name\n",
    "    colors = dict(K=\"red\", L=\"blue\", D=\"green\")\n",
    "    pole_sliders = [\n",
    "        (\n",
    "            sliders[f\"m_{{{p.name}}}\"],\n",
    "            sliders[Rf\"\\Gamma_{{{get_subscript(p)}}}\"],\n",
    "            HTML(f'<b><span style=\"color:{colors[p.name[0]]}\">{p.name}</span></b>'),\n",
    "        )\n",
    "        for p in resonances\n",
    "    ]\n",
    "    coupling_sliders = {\n",
    "        res.name: (\n",
    "            [\n",
    "                s\n",
    "                for n, s in sliders.items()\n",
    "                if n.endswith(\"_real\") and res.name[0] in n\n",
    "            ],\n",
    "            [\n",
    "                s\n",
    "                for n, s in sliders.items()\n",
    "                if n.endswith(\"_imag\") and res.name[0] in n\n",
    "            ],\n",
    "            [\n",
    "                HTMLMath(f\"${latex[n[:-5]]}$\")\n",
    "                for n in sliders\n",
    "                if n.endswith(\"_real\") and res.name[0] in n\n",
    "            ],\n",
    "        )\n",
    "        for res in resonances\n",
    "    }\n",
    "    slider_tabs = Tab(\n",
    "        children=[\n",
    "            VBox([HBox([m, w, t]) for m, w, t in pole_sliders]),\n",
    "            Tab(\n",
    "                children=[\n",
    "                    VBox([HBox(s) for s in zip(*pair)])\n",
    "                    for pair in coupling_sliders.values()\n",
    "                ],\n",
    "                titles=tuple(coupling_sliders),\n",
    "            ),\n",
    "        ],\n",
    "        titles=(\"Masses and widths\", \"Couplings\"),\n",
    "    )\n",
    "    ui = VBox([slider_tabs, HBox([reset_button, filter_button])])\n",
    "    return ui, sliders\n",
    "\n",
    "\n",
    "def get_min_max(sigma: int) -> tuple[float, float]:\n",
    "    array = MESH_GRID[f\"sigma{sigma}\"]\n",
    "    return max(np.nanmin(array), 0), np.nanmax(array)\n",
    "\n",
    "\n",
    "UI, SLIDERS = create_ui()"
   ]
  },
  {
   "cell_type": "code",
   "execution_count": null,
   "metadata": {
    "jupyter": {
     "source_hidden": true
    },
    "mystnb": {
     "code_prompt_show": "Create interactive plot"
    },
    "tags": [
     "hide-input",
     "scroll-input"
    ]
   },
   "outputs": [],
   "source": [
    "%config InlineBackend.figure_formats = ['png']\n",
    "%matplotlib widget\n",
    "\n",
    "\n",
    "def create_interactive_plot() -> None:\n",
    "    plt.rcdefaults()\n",
    "    use_mpl_latex_fonts()\n",
    "    plt.rc(\"font\", size=17)\n",
    "    fig, axes = plt.subplots(\n",
    "        figsize=(12, 6.2),\n",
    "        ncols=2,\n",
    "        sharey=True,\n",
    "    )\n",
    "    ax1, ax2 = axes\n",
    "    ax1.set_title(\"Intensity distribution\")\n",
    "    ax2.set_title(\"Polarimeter vector field\")\n",
    "    ax1.set_xlabel(R\"$m^2(K^- \\pi^+)$\")\n",
    "    ax2.set_xlabel(R\"$m^2(K^- \\pi^+), \\alpha_x$\")\n",
    "    ax1.set_ylabel(R\"$m^2(p K^-), \\alpha_x$\")\n",
    "    for ax in axes:\n",
    "        ax.set_box_aspect(1)\n",
    "    fig.canvas.toolbar_visible = False\n",
    "    fig.canvas.header_visible = False\n",
    "    fig.canvas.footer_visible = False\n",
    "\n",
    "    mesh = None\n",
    "    quiver = None\n",
    "    intensity_bar = None\n",
    "\n",
    "    def plot3(**kwargs):\n",
    "        nonlocal quiver, mesh, intensity_bar\n",
    "        kwargs = to_complex_kwargs(**kwargs)\n",
    "        for func in list(POLARIMETRY_FUNCS) + [INTENSITY_FUNC]:\n",
    "            func.update_parameters(kwargs)\n",
    "        intensities = INTENSITY_FUNC(MESH_GRID)\n",
    "        αx, αy, αz = tuple(func(QUIVER_GRID).real for func in POLARIMETRY_FUNCS)\n",
    "        abs_α = jnp.sqrt(αx**2 + αy**2 + αz**2)\n",
    "        if mesh is None:\n",
    "            mesh = ax1.pcolormesh(\n",
    "                MESH_GRID[\"sigma1\"],\n",
    "                MESH_GRID[\"sigma2\"],\n",
    "                intensities,\n",
    "                cmap=plt.cm.YlOrRd,\n",
    "                norm=LogNorm(),\n",
    "            )\n",
    "            intensity_bar = fig.colorbar(mesh, ax=ax1, pad=0.01, fraction=0.0473)\n",
    "            intensity_bar.ax.set_ylabel(\"normalized intensity (a.u.)\")\n",
    "        else:\n",
    "            y_min, y_max = intensity_bar.ax.get_ylim()\n",
    "            y_max = np.nanmax(intensities)\n",
    "            mesh.set_array(intensities)\n",
    "            mesh.set_clim(vmax=y_max)\n",
    "            intensity_bar.ax.set_ylim(y_min, y_max)\n",
    "        if quiver is None:\n",
    "            quiver = ax2.quiver(\n",
    "                QUIVER_GRID[\"sigma1\"],\n",
    "                QUIVER_GRID[\"sigma2\"],\n",
    "                αz,\n",
    "                αx,\n",
    "                abs_α,\n",
    "                cmap=plt.cm.viridis_r,\n",
    "                clim=(0, 1),\n",
    "            )\n",
    "            c_bar = fig.colorbar(quiver, ax=ax2, pad=0.01, fraction=0.0473)\n",
    "            c_bar.ax.set_ylabel(R\"$\\left|\\vec\\alpha\\right|$\")\n",
    "        else:\n",
    "            quiver.set_UVC(αz, αx, abs_α)\n",
    "        fig.canvas.draw_idle()\n",
    "\n",
    "    def to_complex_kwargs(**kwargs):\n",
    "        complex_valued_kwargs = {}\n",
    "        for key, value in dict(kwargs).items():\n",
    "            if key.endswith(\"real\"):\n",
    "                symbol_name = key[:-5]\n",
    "                imag = kwargs[f\"{symbol_name}_imag\"]\n",
    "                complex_valued_kwargs[symbol_name] = complex(value, imag)\n",
    "            elif key.endswith(\"imag\"):\n",
    "                continue\n",
    "            else:\n",
    "                complex_valued_kwargs[key] = value\n",
    "        return complex_valued_kwargs\n",
    "\n",
    "    output = interactive_output(plot3, controls=SLIDERS)\n",
    "    fig.tight_layout()\n",
    "    if NO_TQDM:\n",
    "        export_file = \"interactive-plot.png\"\n",
    "        fig.savefig(export_file, dpi=200)\n",
    "        src = f\"\"\"\n",
    "        :::{{tip}}\n",
    "        Run this notebook in Jupyter to modify parameters interactively!\n",
    "        :::\n",
    "        \n",
    "        :::{{container}} full-width\n",
    "        ![]({export_file})\n",
    "        :::\n",
    "        \"\"\"\n",
    "        src = dedent(src)\n",
    "        display(Markdown(src))\n",
    "    else:\n",
    "        display(UI, output)\n",
    "\n",
    "\n",
    "create_interactive_plot()"
   ]
  }
 ],
 "metadata": {
  "kernelspec": {
   "display_name": "Python 3 (ipykernel)",
   "language": "python",
   "name": "python3"
  },
  "language_info": {
   "codemirror_mode": {
    "name": "ipython",
    "version": 3
   },
   "file_extension": ".py",
   "mimetype": "text/x-python",
   "name": "python",
   "nbconvert_exporter": "python",
   "pygments_lexer": "ipython3",
   "version": "3.8.15"
  },
  "myst": {
   "all_links_external": true
  }
 },
 "nbformat": 4,
 "nbformat_minor": 4
}
