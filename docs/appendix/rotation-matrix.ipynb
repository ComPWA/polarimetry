{
 "cells": [
  {
   "cell_type": "markdown",
   "metadata": {},
   "source": [
    "# SU(2) → SO(3) homomorphism"
   ]
  },
  {
   "cell_type": "markdown",
   "metadata": {},
   "source": [
    "```{autolink-concat}\n",
    "```"
   ]
  },
  {
   "cell_type": "code",
   "execution_count": null,
   "metadata": {
    "jupyter": {
     "source_hidden": true
    },
    "tags": [
     "hide-cell"
    ]
   },
   "outputs": [],
   "source": [
    "import sympy as sp\n",
    "from sympy.physics.matrices import msigma\n",
    "from sympy.physics.quantum.dagger import Dagger\n",
    "from sympy.physics.quantum.spin import WignerD"
   ]
  },
  {
   "cell_type": "code",
   "execution_count": null,
   "metadata": {
    "tags": [
     "hide-input"
    ]
   },
   "outputs": [],
   "source": [
    "def Rz(α):\n",
    "    return sp.Matrix(\n",
    "        [\n",
    "            [sp.cos(α), -sp.sin(α), 0],\n",
    "            [sp.sin(α), sp.cos(α), 0],\n",
    "            [0, 0, 1],\n",
    "        ]\n",
    "    )\n",
    "\n",
    "\n",
    "def Ry(α):\n",
    "    return sp.Matrix(\n",
    "        [\n",
    "            [sp.cos(α), 0, sp.sin(α)],\n",
    "            [0, 1, 0],\n",
    "            [-sp.sin(α), 0, sp.cos(α)],\n",
    "        ]\n",
    "    )\n",
    "\n",
    "\n",
    "θ, ϕ, χ = sp.symbols(\"theta phi chi\", positive=True)\n",
    "R_SO3 = Rz(ϕ) @ Ry(θ) @ Rz(χ)\n",
    "R_SO3"
   ]
  },
  {
   "cell_type": "code",
   "execution_count": null,
   "metadata": {},
   "outputs": [],
   "source": [
    "h = sp.S(1) / 2\n",
    "Dˣ = sp.conjugate(\n",
    "    sp.Matrix([[WignerD(h, i, j, ϕ, θ, χ) for i in [h, -h]] for j in [h, -h]])\n",
    ")"
   ]
  },
  {
   "cell_type": "code",
   "execution_count": null,
   "metadata": {},
   "outputs": [],
   "source": [
    "def R(i, j):\n",
    "    return sp.Trace(Dˣ @ msigma(i) @ Dagger(Dˣ) @ msigma(j)) / 2"
   ]
  },
  {
   "cell_type": "code",
   "execution_count": null,
   "metadata": {},
   "outputs": [],
   "source": [
    "Rij = sp.Matrix([[R(j, i).doit() for i in range(1, 4)] for j in range(1, 4)])\n",
    "#\n",
    "hangle = {\n",
    "    sp.cos(θ / 2) ** 2: (1 + sp.cos(θ)) / 2,\n",
    "    sp.sin(θ / 2) ** 2: (1 - sp.cos(θ)) / 2,\n",
    "}\n",
    "#\n",
    "R_SU2 = sp.expand_trig(sp.simplify(sp.expand(Rij, complex=True).subs(hangle)))\n",
    "R_SU2"
   ]
  },
  {
   "cell_type": "code",
   "execution_count": null,
   "metadata": {},
   "outputs": [],
   "source": [
    "R_SO3 - R_SU2"
   ]
  }
 ],
 "metadata": {
  "kernelspec": {
   "display_name": "Python 3 (ipykernel)",
   "language": "python",
   "name": "python3"
  },
  "language_info": {
   "codemirror_mode": {
    "name": "ipython",
    "version": 3
   },
   "file_extension": ".py",
   "mimetype": "text/x-python",
   "name": "python",
   "nbconvert_exporter": "python",
   "pygments_lexer": "ipython3",
   "version": "3.8.13"
  }
 },
 "nbformat": 4,
 "nbformat_minor": 4
}
