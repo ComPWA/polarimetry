{
 "cells": [
  {
   "cell_type": "markdown",
   "metadata": {},
   "source": [
    "# Explicit rotation matrix"
   ]
  },
  {
   "cell_type": "markdown",
   "metadata": {},
   "source": [
    "```{autolink-concat}\n",
    "```"
   ]
  },
  {
   "cell_type": "code",
   "execution_count": 196,
   "metadata": {},
   "outputs": [],
   "source": [
    "import sympy as sp\n",
    "from sympy.physics.quantum.spin import Rotation\n",
    "from sympy.physics.quantum.spin import WignerD\n",
    "from sympy.physics.quantum.dagger import Dagger\n",
    "from sympy.physics.matrices import msigma"
   ]
  },
  {
   "cell_type": "code",
   "execution_count": 197,
   "metadata": {
    "tags": [
     "hide-input"
    ]
   },
   "outputs": [
    {
     "data": {
      "text/latex": [
       "$\\displaystyle \\left[\\begin{matrix}- \\sin{\\left(\\chi \\right)} \\sin{\\left(\\phi \\right)} + \\cos{\\left(\\chi \\right)} \\cos{\\left(\\phi \\right)} \\cos{\\left(\\theta \\right)} & - \\sin{\\left(\\chi \\right)} \\cos{\\left(\\phi \\right)} \\cos{\\left(\\theta \\right)} - \\sin{\\left(\\phi \\right)} \\cos{\\left(\\chi \\right)} & \\sin{\\left(\\theta \\right)} \\cos{\\left(\\phi \\right)}\\\\\\sin{\\left(\\chi \\right)} \\cos{\\left(\\phi \\right)} + \\sin{\\left(\\phi \\right)} \\cos{\\left(\\chi \\right)} \\cos{\\left(\\theta \\right)} & - \\sin{\\left(\\chi \\right)} \\sin{\\left(\\phi \\right)} \\cos{\\left(\\theta \\right)} + \\cos{\\left(\\chi \\right)} \\cos{\\left(\\phi \\right)} & \\sin{\\left(\\phi \\right)} \\sin{\\left(\\theta \\right)}\\\\- \\sin{\\left(\\theta \\right)} \\cos{\\left(\\chi \\right)} & \\sin{\\left(\\chi \\right)} \\sin{\\left(\\theta \\right)} & \\cos{\\left(\\theta \\right)}\\end{matrix}\\right]$"
      ],
      "text/plain": [
       "Matrix([\n",
       "[-sin(chi)*sin(phi) + cos(chi)*cos(phi)*cos(theta), -sin(chi)*cos(phi)*cos(theta) - sin(phi)*cos(chi), sin(theta)*cos(phi)],\n",
       "[ sin(chi)*cos(phi) + sin(phi)*cos(chi)*cos(theta), -sin(chi)*sin(phi)*cos(theta) + cos(chi)*cos(phi), sin(phi)*sin(theta)],\n",
       "[                             -sin(theta)*cos(chi),                               sin(chi)*sin(theta),          cos(theta)]])"
      ]
     },
     "execution_count": 197,
     "metadata": {},
     "output_type": "execute_result"
    }
   ],
   "source": [
    "def Rz(α):\n",
    "    return sp.Matrix(\n",
    "        [\n",
    "            [sp.cos(α), -sp.sin(α), 0],\n",
    "            [sp.sin(α), sp.cos(α), 0],\n",
    "            [0, 0, 1],\n",
    "        ]\n",
    "    )\n",
    "\n",
    "\n",
    "def Ry(α):\n",
    "    return sp.Matrix(\n",
    "        [\n",
    "            [sp.cos(α), 0, sp.sin(α)],\n",
    "            [0, 1, 0],\n",
    "            [-sp.sin(α), 0, sp.cos(α)],\n",
    "        ]\n",
    "    )\n",
    "\n",
    "\n",
    "θ, ϕ, χ = sp.symbols(\"theta phi chi\", positive=True)\n",
    "R_SO3 = Rz(ϕ) @ Ry(θ) @ Rz(χ)\n",
    "R_SO3"
   ]
  },
  {
   "cell_type": "code",
   "execution_count": 198,
   "metadata": {},
   "outputs": [],
   "source": [
    "h = sp.S(1)/2\n",
    "Dˣ = sp.conjugate(sp.Matrix([[WignerD(h,i,j,ϕ,θ,χ) for i in [h,-h]] for j in [h,-h]]))"
   ]
  },
  {
   "cell_type": "code",
   "execution_count": 199,
   "metadata": {},
   "outputs": [],
   "source": [
    "def R(i,j) :\n",
    "    return sp.Trace(Dˣ @ msigma(i) @ Dagger(Dˣ) @ msigma(j)) / 2"
   ]
  },
  {
   "cell_type": "code",
   "execution_count": 202,
   "metadata": {},
   "outputs": [
    {
     "data": {
      "text/latex": [
       "$\\displaystyle \\left[\\begin{matrix}- \\sin{\\left(\\chi \\right)} \\sin{\\left(\\phi \\right)} + \\cos{\\left(\\chi \\right)} \\cos{\\left(\\phi \\right)} \\cos{\\left(\\theta \\right)} & - \\sin{\\left(\\chi \\right)} \\cos{\\left(\\phi \\right)} \\cos{\\left(\\theta \\right)} - \\sin{\\left(\\phi \\right)} \\cos{\\left(\\chi \\right)} & \\sin{\\left(\\theta \\right)} \\cos{\\left(\\phi \\right)}\\\\\\sin{\\left(\\chi \\right)} \\cos{\\left(\\phi \\right)} + \\sin{\\left(\\phi \\right)} \\cos{\\left(\\chi \\right)} \\cos{\\left(\\theta \\right)} & - \\sin{\\left(\\chi \\right)} \\sin{\\left(\\phi \\right)} \\cos{\\left(\\theta \\right)} + \\cos{\\left(\\chi \\right)} \\cos{\\left(\\phi \\right)} & \\sin{\\left(\\phi \\right)} \\sin{\\left(\\theta \\right)}\\\\- \\sin{\\left(\\theta \\right)} \\cos{\\left(\\chi \\right)} & \\sin{\\left(\\chi \\right)} \\sin{\\left(\\theta \\right)} & \\cos{\\left(\\theta \\right)}\\end{matrix}\\right]$"
      ],
      "text/plain": [
       "Matrix([\n",
       "[-sin(chi)*sin(phi) + cos(chi)*cos(phi)*cos(theta), -sin(chi)*cos(phi)*cos(theta) - sin(phi)*cos(chi), sin(theta)*cos(phi)],\n",
       "[ sin(chi)*cos(phi) + sin(phi)*cos(chi)*cos(theta), -sin(chi)*sin(phi)*cos(theta) + cos(chi)*cos(phi), sin(phi)*sin(theta)],\n",
       "[                             -sin(theta)*cos(chi),                               sin(chi)*sin(theta),          cos(theta)]])"
      ]
     },
     "execution_count": 202,
     "metadata": {},
     "output_type": "execute_result"
    }
   ],
   "source": [
    "Rij = sp.Matrix([[R(j,i).doit() for i in range(1,4)] for j in range(1,4)])\n",
    "# \n",
    "hangle = {\n",
    "    sp.cos(θ/2)**2: (1 + sp.cos(θ))/2,\n",
    "    sp.sin(θ/2)**2: (1 - sp.cos(θ))/2}\n",
    "# \n",
    "R_SU2 = sp.expand_trig(sp.simplify(sp.expand(Rij, complex = True).subs(hangle)))\n",
    "R_SU2"
   ]
  },
  {
   "cell_type": "code",
   "execution_count": 203,
   "metadata": {},
   "outputs": [
    {
     "data": {
      "text/latex": [
       "$\\displaystyle \\left[\\begin{matrix}0 & 0 & 0\\\\0 & 0 & 0\\\\0 & 0 & 0\\end{matrix}\\right]$"
      ],
      "text/plain": [
       "Matrix([\n",
       "[0, 0, 0],\n",
       "[0, 0, 0],\n",
       "[0, 0, 0]])"
      ]
     },
     "execution_count": 203,
     "metadata": {},
     "output_type": "execute_result"
    }
   ],
   "source": [
    "R_SO3 - R_SU2"
   ]
  }
 ],
 "metadata": {
  "kernelspec": {
   "display_name": "Python 3.8.13 ('polarimetry')",
   "language": "python",
   "name": "python3"
  },
  "language_info": {
   "codemirror_mode": {
    "name": "ipython",
    "version": 3
   },
   "file_extension": ".py",
   "mimetype": "text/x-python",
   "name": "python",
   "nbconvert_exporter": "python",
   "pygments_lexer": "ipython3",
   "version": "3.8.13"
  },
  "vscode": {
   "interpreter": {
    "hash": "5b5f81d4c685eece33b70a468de0de4084a52075b207f568e66be1111b8c7c6e"
   }
  }
 },
 "nbformat": 4,
 "nbformat_minor": 4
}
