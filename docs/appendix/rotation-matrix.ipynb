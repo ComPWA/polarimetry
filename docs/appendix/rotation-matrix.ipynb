{
 "cells": [
  {
   "cell_type": "markdown",
   "metadata": {},
   "source": [
    "# Explicit rotation matrix"
   ]
  },
  {
   "cell_type": "markdown",
   "metadata": {},
   "source": [
    "```{autolink-concat}\n",
    "```"
   ]
  },
  {
   "cell_type": "code",
   "execution_count": null,
   "metadata": {
    "tags": [
     "hide-input"
    ]
   },
   "outputs": [],
   "source": [
    "import sympy as sp\n",
    "\n",
    "\n",
    "def Rz(α):\n",
    "    return sp.Matrix(\n",
    "        [\n",
    "            [sp.cos(α), -sp.sin(α), 0],\n",
    "            [sp.sin(α), sp.cos(α), 0],\n",
    "            [0, 0, 1],\n",
    "        ]\n",
    "    )\n",
    "\n",
    "\n",
    "def Ry(α):\n",
    "    return sp.Matrix(\n",
    "        [\n",
    "            [sp.cos(α), 0, sp.sin(α)],\n",
    "            [0, 1, 0],\n",
    "            [-sp.sin(α), 0, sp.cos(α)],\n",
    "        ]\n",
    "    )\n",
    "\n",
    "\n",
    "θ, ϕ, χ = sp.symbols(\"theta phi chi\")\n",
    "R = Rz(ϕ) @ Ry(θ) @ Rz(χ)\n",
    "R"
   ]
  }
 ],
 "metadata": {
  "kernelspec": {
   "display_name": "Python 3 (ipykernel)",
   "language": "python",
   "name": "python3"
  },
  "language_info": {
   "codemirror_mode": {
    "name": "ipython",
    "version": 3
   },
   "file_extension": ".py",
   "mimetype": "text/x-python",
   "name": "python",
   "nbconvert_exporter": "python",
   "pygments_lexer": "ipython3",
   "version": "3.8.13"
  }
 },
 "nbformat": 4,
 "nbformat_minor": 4
}
