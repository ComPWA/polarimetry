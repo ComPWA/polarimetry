{
 "cells": [
  {
   "cell_type": "markdown",
   "metadata": {
    "tags": []
   },
   "source": [
    "# Determination of polarization\n",
    "\n",
    "```{autolink-concat}\n",
    "```\n",
    "\n",
    "Given the aligned polarimeter field $\\vec\\alpha$ and the corresponding intensity distribution $I_0$, the intensity distribution $I$ for a polarized decay can be computed as follows:\n",
    "\n",
    "$$\n",
    "I\\left(\\phi,\\theta,\\chi; \\tau\\right) = I_0(\\tau)\\left(1+\\vec{P} R(\\phi,\\theta,\\chi) \\vec{\\alpha}(\\tau)\\right)\n",
    "$$ (eq:master.intensity)\n",
    "\n",
    "with $R$ the rotation matrix over the decay plane orientation, represented in Euler angles $\\left(\\phi, \\theta, \\chi\\right)$.\n",
    "\n",
    "In this section, we show that it's possible to determine the polarization $\\vec{P}$ from a given intensity distribution $I$ of a $\\lambda_c$&nbsp;decay if we the $\\vec\\alpha$&nbsp;fields and the corresponding $I_0$&nbsp;values of that $\\Lambda_c$&nbsp;decay. In this example, the intensity and alpha functions are computed from exact amplitude models, but they can be substituted by functions that interpolate the exported polarimeter fields from {ref}`uncertainties:Exported distributions` over a phase space sample. This would remove the need to formulate a complete amplitude model in order to determine polarization. See {ref}`appendix/serialization:Import and interpolate` for how to interpolate these exported distributions over the Dalitz plane."
   ]
  },
  {
   "cell_type": "code",
   "execution_count": null,
   "metadata": {
    "jupyter": {
     "source_hidden": true
    },
    "mystnb": {
     "code_prompt_show": "Import Python libraries"
    },
    "tags": [
     "hide-cell",
     "scroll-input"
    ]
   },
   "outputs": [],
   "source": [
    "from __future__ import annotations\n",
    "\n",
    "import logging\n",
    "import os\n",
    "from warnings import filterwarnings\n",
    "\n",
    "import iminuit\n",
    "import jax.numpy as jnp\n",
    "import matplotlib.pyplot as plt\n",
    "import numpy as np\n",
    "import yaml\n",
    "from IPython.display import Latex, Markdown\n",
    "from tensorwaves.interface import DataSample, Function\n",
    "from tqdm.auto import tqdm\n",
    "\n",
    "from polarimetry import formulate_polarimetry\n",
    "from polarimetry.amplitude import AmplitudeModel, DalitzPlotDecompositionBuilder\n",
    "from polarimetry.data import create_data_transformer, generate_phasespace_sample\n",
    "from polarimetry.io import (\n",
    "    mute_jax_warnings,\n",
    "    perform_cached_doit,\n",
    "    perform_cached_lambdify,\n",
    ")\n",
    "from polarimetry.lhcb import load_model_builder, load_model_parameters\n",
    "from polarimetry.lhcb.particle import load_particles\n",
    "from polarimetry.plot import use_mpl_latex_fonts\n",
    "\n",
    "filterwarnings(\"ignore\")\n",
    "mute_jax_warnings()\n",
    "logging.getLogger(\"tensorwaves.data\").setLevel(logging.ERROR)\n",
    "\n",
    "NO_TQDM = \"EXECUTE_NB\" in os.environ\n",
    "if NO_TQDM:\n",
    "    logging.getLogger().setLevel(logging.ERROR)\n",
    "    logging.getLogger(\"polarimetry.io\").setLevel(logging.ERROR)"
   ]
  },
  {
   "cell_type": "code",
   "execution_count": null,
   "metadata": {
    "mystnb": {
     "code_prompt_show": "Formulate symbolic expressions for intensity and polarization"
    },
    "tags": [
     "hide-cell",
     "scroll-input"
    ]
   },
   "outputs": [],
   "source": [
    "def load_model(\n",
    "    file: str, model_choice: int | str = 0, reference_subsystem: int = 1\n",
    ") -> tuple[AmplitudeModel, DalitzPlotDecompositionBuilder]:\n",
    "    particles = load_particles(\"../../data/particle-definitions.yaml\")\n",
    "    builder = load_model_builder(file, particles, model_choice)\n",
    "    parameters = load_model_parameters(file, builder.decay, model_choice, particles)\n",
    "    model = builder.formulate(reference_subsystem, cleanup_summations=True)\n",
    "    model.parameter_defaults.update(parameters)\n",
    "    return model, builder\n",
    "\n",
    "\n",
    "MODEL_FILE = \"../../data/model-definitions.yaml\"\n",
    "with open(MODEL_FILE) as f:\n",
    "    ALL_MODEL_TITLES = list(yaml.safe_load(f))\n",
    "NOMINAL_MODEL_TITLE = ALL_MODEL_TITLES[0]\n",
    "\n",
    "MODELS = {}\n",
    "INTENSITY_EXPRS = {}\n",
    "POLARIMETRY_EXPRS = {}\n",
    "for title in tqdm(ALL_MODEL_TITLES, desc=\"Formulating models\", disable=NO_TQDM):\n",
    "    if \"LS couplings\" in title:\n",
    "        continue\n",
    "    MODELS[title], builder = load_model(MODEL_FILE, model_choice=title)\n",
    "    folded_polarimetry_exprs = formulate_polarimetry(builder, reference_subsystem=1)\n",
    "    POLARIMETRY_EXPRS[title] = tuple(\n",
    "        perform_cached_doit(expr.doit().xreplace(MODELS[title].amplitudes))\n",
    "        for expr in tqdm(folded_polarimetry_exprs, disable=NO_TQDM, leave=False)\n",
    "    )\n",
    "    INTENSITY_EXPRS[title] = perform_cached_doit(MODELS[title].full_expression)\n",
    "    del title, builder, folded_polarimetry_exprs\n",
    "\n",
    "assert len(MODELS) == 17\n",
    "assert len(INTENSITY_EXPRS) == 17\n",
    "assert len(POLARIMETRY_EXPRS) == 17"
   ]
  },
  {
   "cell_type": "code",
   "execution_count": null,
   "metadata": {
    "mystnb": {
     "code_prompt_show": "Convert expressions to numerical functions"
    },
    "tags": [
     "hide-input"
    ]
   },
   "outputs": [],
   "source": [
    "POLARIMETRY_FUNCS = {\n",
    "    title: tuple(\n",
    "        perform_cached_lambdify(expr.xreplace(MODELS[title].parameter_defaults))\n",
    "        for expr in tqdm(polarimetry_exprs, disable=NO_TQDM, leave=False)\n",
    "    )\n",
    "    for title, polarimetry_exprs in tqdm(POLARIMETRY_EXPRS.items(), disable=NO_TQDM)\n",
    "}\n",
    "INTENSITY_FUNCS = {\n",
    "    title: perform_cached_lambdify(expr.xreplace(MODELS[title].parameter_defaults))\n",
    "    for title, expr in tqdm(INTENSITY_EXPRS.items(), disable=NO_TQDM)\n",
    "}\n",
    "\n",
    "NOMINAL_MODEL_TITLE = ALL_MODEL_TITLES[0]\n",
    "NOMINAL_MODEL = MODELS[NOMINAL_MODEL_TITLE]\n",
    "NOMINAL_INTENSITY_FUNC = INTENSITY_FUNCS[NOMINAL_MODEL_TITLE]\n",
    "NOMINAL_POLARIMETRY_FUNCS = POLARIMETRY_FUNCS[NOMINAL_MODEL_TITLE]"
   ]
  },
  {
   "cell_type": "markdown",
   "metadata": {},
   "source": [
    "The phase space sample is uniformly generated over the Dalitz plane variables $\\tau$. In addition, we extend the phase space samples with a uniform distribution over the decay plane angles $\\left(\\phi, \\theta, \\chi\\right)$."
   ]
  },
  {
   "cell_type": "code",
   "execution_count": null,
   "metadata": {
    "tags": []
   },
   "outputs": [],
   "source": [
    "N_EVENTS = 100_000\n",
    "# Dalitz variables\n",
    "PHSP = generate_phasespace_sample(NOMINAL_MODEL.decay, N_EVENTS, seed=0)\n",
    "PHSP.update(create_data_transformer(NOMINAL_MODEL)(PHSP))\n",
    "# Decay plane variables\n",
    "PHSP[\"phi\"] = np.random.uniform(-np.pi, +np.pi, N_EVENTS)\n",
    "PHSP[\"cos_theta\"] = np.random.uniform(-1, +1, N_EVENTS)\n",
    "PHSP[\"chi\"] = np.random.uniform(-np.pi, +np.pi, N_EVENTS)"
   ]
  },
  {
   "cell_type": "markdown",
   "metadata": {},
   "source": [
    "We now generate an intensity distribution over the phase space sample given a certain[^1] value for $\\vec{P}$ using Eq.&nbsp;{eq}`eq:master.intensity`:\n",
    "\n",
    "[^1]: See [p.&nbsp;18](https://arxiv.org/pdf/2208.03262.pdf#page=20) of _Amplitude analysis of the $\\Lambda^+_c \\to p K^- \\pi^+$ decay and $\\Lambda^+_c$ baryon polarization measurement in semileptonic beauty hadron decays_ (2022) [[link]](https://inspirehep.net/literature/2132745)"
   ]
  },
  {
   "cell_type": "code",
   "execution_count": null,
   "metadata": {
    "jupyter": {
     "source_hidden": true
    },
    "mystnb": {
     "code_prompt_show": "Code for computing polarized intensity"
    },
    "tags": [
     "scroll-input",
     "hide-input"
    ]
   },
   "outputs": [],
   "source": [
    "def compute_polarized_intensity(\n",
    "    Px: float,\n",
    "    Py: float,\n",
    "    Pz: float,\n",
    "    intensity_func: Function[DataSample, jnp.ndarray],\n",
    "    polarimetry_funcs: tuple[\n",
    "        Function[DataSample, jnp.ndarray],\n",
    "        Function[DataSample, jnp.ndarray],\n",
    "        Function[DataSample, jnp.ndarray],\n",
    "    ],\n",
    "    phsp: DataSample,\n",
    ") -> jnp.array:\n",
    "    P = jnp.array([Px, Py, Pz])\n",
    "    R = compute_rotation_matrix(phsp)\n",
    "    alpha = jnp.array([func(phsp).real for func in polarimetry_funcs])\n",
    "    I0 = intensity_func(phsp)\n",
    "    return I0 * (1 + jnp.einsum(\"i,ij...,j...->...\", P, R, alpha))\n",
    "\n",
    "\n",
    "def compute_rotation_matrix(phsp: DataSample) -> jnp.ndarray:\n",
    "    ϕ = phsp[\"phi\"]\n",
    "    θ = jnp.arccos(phsp[\"cos_theta\"])\n",
    "    χ = phsp[\"chi\"]\n",
    "    return jnp.einsum(\"ki...,ij...,j...->k...\", Rz(ϕ), Ry(θ), Rz(χ))\n",
    "\n",
    "\n",
    "def Rz(angle: jnp.ndarray) -> jnp.ndarray:\n",
    "    n_events = len(angle)\n",
    "    ones = jnp.ones(n_events)\n",
    "    zeros = jnp.zeros(n_events)\n",
    "    return jnp.array(\n",
    "        [\n",
    "            [+jnp.cos(angle), -jnp.sin(angle), zeros],\n",
    "            [+jnp.sin(angle), +jnp.cos(angle), zeros],\n",
    "            [zeros, zeros, ones],\n",
    "        ]\n",
    "    )\n",
    "\n",
    "\n",
    "def Ry(angle: jnp.ndarray) -> jnp.ndarray:\n",
    "    n_events = len(angle)\n",
    "    ones = jnp.ones(n_events)\n",
    "    zeros = jnp.zeros(n_events)\n",
    "    return jnp.array(\n",
    "        [\n",
    "            [+jnp.cos(angle), zeros, +jnp.sin(angle)],\n",
    "            [zeros, ones, zeros],\n",
    "            [-jnp.sin(angle), zeros, +jnp.cos(angle)],\n",
    "        ]\n",
    "    )"
   ]
  },
  {
   "cell_type": "code",
   "execution_count": null,
   "metadata": {
    "tags": []
   },
   "outputs": [],
   "source": [
    "P = (+0.2165, +0.0108, -0.665)\n",
    "I = compute_polarized_intensity(\n",
    "    *P, NOMINAL_INTENSITY_FUNC, NOMINAL_POLARIMETRY_FUNCS, PHSP\n",
    ")\n",
    "I /= jnp.mean(I)  # normalized times N for log likelihood"
   ]
  },
  {
   "cell_type": "code",
   "execution_count": null,
   "metadata": {
    "jupyter": {
     "source_hidden": true
    },
    "tags": [
     "hide-input",
     "full-width"
    ]
   },
   "outputs": [],
   "source": [
    "plt.rc(\"font\", size=18)\n",
    "use_mpl_latex_fonts()\n",
    "\n",
    "fig, axes = plt.subplots(figsize=(15, 4), ncols=3)\n",
    "fig.tight_layout()\n",
    "for ax in axes:\n",
    "    ax.set_yticks([])\n",
    "axes[0].hist(PHSP[\"phi\"], weights=I, bins=80)\n",
    "axes[1].hist(PHSP[\"cos_theta\"], weights=I, bins=80)\n",
    "axes[2].hist(PHSP[\"chi\"], weights=I, bins=80)\n",
    "axes[0].set_xlabel(R\"$\\phi$\")\n",
    "axes[1].set_xlabel(R\"$\\cos\\theta$\")\n",
    "axes[2].set_xlabel(R\"$\\chi$\")\n",
    "plt.show()\n",
    "\n",
    "fig, ax = plt.subplots(figsize=(12, 3))\n",
    "ax.hist2d(PHSP[\"sigma2\"], PHSP[\"sigma1\"], weights=I, bins=100, cmin=1)\n",
    "ax.set_xlabel(R\"$\\sigma_2$\")\n",
    "ax.set_ylabel(R\"$\\sigma_1$\")\n",
    "ax.set_aspect(\"equal\")\n",
    "plt.show()"
   ]
  },
  {
   "cell_type": "markdown",
   "metadata": {},
   "source": [
    "The generated distribution is now assumed to be a _measured distribution_&nbsp;$I$ with unknown polarization&nbsp;$\\vec{P}$. It is shown below that the actual $\\vec{P}$ with which the distribution was generated can be found by performing a fit on Eq.&nbsp;{eq}`eq:master.intensity`. This is done with [`iminuit`](https://iminuit.rtfd.io), starting with a certain 'guessed' value for $\\vec{P}$ as initial parameters.\n",
    "\n",
    "To avoid having to generate a hit-and-miss intensity test distribution, the parameters $\\vec{P} = \\left(P_x, P_y, P_z\\right)$ are optimized with regard to a **weighted negative log likelihood estimator**:\n",
    "\n",
    "$$\n",
    "\\mathrm{NLL} = -\\sum_i w_i \\log I_{i,\\vec{P}}\\left(\\phi,\\theta,\\chi;\\tau\\right)\\,.\n",
    "$$ (eq:weighted-nll)\n",
    "\n",
    "with the normalized intensities of the generated distribution taken as weights:\n",
    "\n",
    "$$\n",
    "w_i = n\\,I_i\\,\\big/\\,\\sum_j^n I_j\\,,\n",
    "$$ (eq:intensity-as-nll-weight)\n",
    "\n",
    "such that $\\sum w_i = n$."
   ]
  },
  {
   "cell_type": "code",
   "execution_count": null,
   "metadata": {},
   "outputs": [],
   "source": [
    "P_guess = (+0.3, -0.3, +0.4)"
   ]
  },
  {
   "cell_type": "code",
   "execution_count": null,
   "metadata": {
    "jupyter": {
     "source_hidden": true
    },
    "mystnb": {
     "code_prompt_show": "Fit polarization to generated distribution"
    },
    "tags": [
     "hide-input"
    ]
   },
   "outputs": [],
   "source": [
    "def perform_fit(model_title: str) -> iminuit.Minuit:\n",
    "    progress_bar = tqdm(desc=model_title, disable=NO_TQDM, leave=False)\n",
    "    intensity_func = INTENSITY_FUNCS[model_title]\n",
    "    polarimetry_funcs = POLARIMETRY_FUNCS[model_title]\n",
    "\n",
    "    def weighted_nll(Px: float, Py: float, Pz: float) -> float:\n",
    "        I_new = compute_polarized_intensity(\n",
    "            Px, Py, Pz, intensity_func, polarimetry_funcs, PHSP\n",
    "        )\n",
    "        I_new /= jnp.sum(I_new)\n",
    "        progress_bar.update()\n",
    "        estimator_value = -jnp.sum(jnp.log(I_new) * I)\n",
    "        progress_bar.set_postfix_str(\n",
    "            f\"NLL={estimator_value:.4g}, Px={Px:+.3f}, Py={Py:+.3f}, Pz={Pz:+.3f}\"\n",
    "        )\n",
    "        return estimator_value\n",
    "\n",
    "    optimizer = iminuit.Minuit(weighted_nll, *P_guess)\n",
    "    progress_bar.close()\n",
    "    optimizer.errordef = optimizer.LIKELIHOOD\n",
    "    return optimizer.migrad()\n",
    "\n",
    "\n",
    "FIT_RESULTS = {\n",
    "    title: perform_fit(title)\n",
    "    for title in tqdm(MODELS, desc=\"Performing fit\", disable=NO_TQDM)\n",
    "}"
   ]
  },
  {
   "cell_type": "code",
   "execution_count": null,
   "metadata": {
    "jupyter": {
     "source_hidden": true
    },
    "tags": [
     "scroll-input",
     "hide-input"
    ]
   },
   "outputs": [],
   "source": [
    "P_fit_values = 100 * np.array(\n",
    "    [[p.value for p in fit_result.params] for fit_result in FIT_RESULTS.values()]\n",
    ")\n",
    "P_fit_nominal = P_fit_values[0]\n",
    "P_max = (P_fit_values[1:] - P_fit_nominal).max(axis=0)\n",
    "P_min = (P_fit_values[1:] - P_fit_nominal).min(axis=0)\n",
    "np.testing.assert_array_almost_equal(P_fit_nominal, 100 * np.array(P), decimal=3)\n",
    "\n",
    "\n",
    "def render_p(i: int) -> str:\n",
    "    return f\"{P_fit_nominal[i]:+.2f}_{{{P_min[i]:+.2f}}}^{{{P_max[i]:+.2f}}}\"\n",
    "\n",
    "\n",
    "src = Rf\"\"\"\n",
    "The polarization $\\vec{{P}}$ is determined to be (in %):\n",
    "\n",
    "$$\n",
    "\\begin{{array}}{{ccc}}\n",
    "P_x &=& {render_p(0)} \\\\\n",
    "P_y &=& {render_p(1)} \\\\\n",
    "P_z &=& {render_p(2)} \\\\\n",
    "\\end{{array}}\n",
    "$$\n",
    "\n",
    "with the upper and lower sign being the systematic extrema uncertainties as determined by\n",
    "the alternative models.\n",
    "\"\"\"\n",
    "Markdown(src)"
   ]
  },
  {
   "cell_type": "markdown",
   "metadata": {},
   "source": [
    "This is to be compared with the model uncertainties reported by [^1]:\n",
    "\n",
    "$$\n",
    "\\begin{array}{ccc}\n",
    "P_x &=& +21.65 \\pm 0.36 \\\\\n",
    "P_y &=&  +1.08 \\pm 0.09 \\\\\n",
    "P_z &=& -66.5 \\pm 1.1. \\\\\n",
    "\\end{array}\n",
    "$$\n",
    "\n",
    "The polarimeter values for each model are (in %):"
   ]
  },
  {
   "cell_type": "code",
   "execution_count": null,
   "metadata": {
    "jupyter": {
     "source_hidden": true
    },
    "tags": [
     "hide-input"
    ]
   },
   "outputs": [],
   "source": [
    "src = R\"\"\"\n",
    "\\begin{array}{r|ccc|ccc}\n",
    "  \\textbf{Model} & \\mathbf{P_x} & \\mathbf{P_y} & \\mathbf{P_z}\n",
    "  & \\mathbf{\\Delta P_x} & \\mathbf{\\Delta P_y} & \\mathbf{\\Delta P_z} \\\\\n",
    "  \\hline\n",
    "\"\"\"\n",
    "Px_nom, Py_nom, Pz_nom = P_fit_nominal\n",
    "for i, (Px, Py, Pz) in enumerate(P_fit_values):\n",
    "    src += Rf\"  \\textbf{{{i}}} & {Px:+.2f} & {Py:+.2f} & {Pz:+.1f} & \"\n",
    "    if i != 0:\n",
    "        src += Rf\"{Px-Px_nom:+.2f} & {Py-Py_nom:+.2f} & {Pz-Pz_nom:+.2f}\"\n",
    "    src += R\" \\\\\" \"\\n\"\n",
    "    del Px, Py, Pz\n",
    "del Px_nom, Py_nom, Pz_nom\n",
    "src += R\"\\end{array}\"\n",
    "Latex(src)"
   ]
  }
 ],
 "metadata": {
  "kernelspec": {
   "display_name": "Python 3 (ipykernel)",
   "language": "python",
   "name": "python3"
  },
  "language_info": {
   "codemirror_mode": {
    "name": "ipython",
    "version": 3
   },
   "file_extension": ".py",
   "mimetype": "text/x-python",
   "name": "python",
   "nbconvert_exporter": "python",
   "pygments_lexer": "ipython3",
   "version": "3.8.13"
  },
  "myst": {
   "all_links_external": true
  }
 },
 "nbformat": 4,
 "nbformat_minor": 4
}
