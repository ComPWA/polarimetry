{
 "cells": [
  {
   "cell_type": "markdown",
   "metadata": {
    "tags": []
   },
   "source": [
    "# Determination of polarization\n",
    "\n",
    "```{autolink-concat}\n",
    "```\n",
    "\n",
    "Given the aligned polarimeter field $\\vec\\alpha$ and the corresponding intensity distribution $I_0$, the intensity distribution $I$ for a polarized decay can be computed as follows:\n",
    "\n",
    "$$\n",
    "I\\left(\\phi,\\theta,\\chi; \\tau\\right) = I_0(\\tau)\\left(1+\\vec{P} R(\\phi,\\theta,\\chi) \\vec{\\alpha}(\\tau)\\right)\n",
    "$$ (eq:master.intensity)\n",
    "\n",
    "with $R$ the rotation matrix over the decay plane orientation, represented in Euler angles $\\left(\\phi, \\theta, \\chi\\right)$. In this section, we show that it's possible to determine the polarization $\\vec{P}$ from a given toy study intensity distribution $I$."
   ]
  },
  {
   "cell_type": "code",
   "execution_count": null,
   "metadata": {
    "jupyter": {
     "source_hidden": true
    },
    "mystnb": {
     "code_prompt_show": "Import Python libraries"
    },
    "tags": [
     "hide-cell",
     "scroll-input"
    ]
   },
   "outputs": [],
   "source": [
    "from __future__ import annotations\n",
    "\n",
    "import logging\n",
    "import os\n",
    "from warnings import filterwarnings\n",
    "\n",
    "import iminuit\n",
    "import jax.numpy as jnp\n",
    "import matplotlib.pyplot as plt\n",
    "import numpy as np\n",
    "from tensorwaves.interface import DataSample, Function\n",
    "from tqdm.auto import tqdm\n",
    "\n",
    "from polarimetry import formulate_polarimetry\n",
    "from polarimetry.amplitude import AmplitudeModel, DalitzPlotDecompositionBuilder\n",
    "from polarimetry.data import create_data_transformer, generate_phasespace_sample\n",
    "from polarimetry.io import (\n",
    "    mute_jax_warnings,\n",
    "    perform_cached_doit,\n",
    "    perform_cached_lambdify,\n",
    ")\n",
    "from polarimetry.lhcb import load_model_builder, load_model_parameters\n",
    "from polarimetry.lhcb.particle import load_particles\n",
    "from polarimetry.plot import use_mpl_latex_fonts\n",
    "\n",
    "filterwarnings(\"ignore\")\n",
    "mute_jax_warnings()\n",
    "logging.getLogger(\"tensorwaves.data\").setLevel(logging.ERROR)\n",
    "\n",
    "NO_TQDM = \"EXECUTE_NB\" in os.environ\n",
    "if NO_TQDM:\n",
    "    logging.getLogger().setLevel(logging.ERROR)"
   ]
  },
  {
   "cell_type": "code",
   "execution_count": null,
   "metadata": {
    "jupyter": {
     "source_hidden": true
    },
    "mystnb": {
     "code_prompt_show": "Formulate symbolic expressions for intensity and polarization"
    },
    "tags": [
     "hide-cell",
     "scroll-input"
    ]
   },
   "outputs": [],
   "source": [
    "def load_model(\n",
    "    file: str, model_choice: int | str = 0, reference_subsystem: int = 1\n",
    ") -> tuple[AmplitudeModel, DalitzPlotDecompositionBuilder]:\n",
    "    particles = load_particles(\"../../data/particle-definitions.yaml\")\n",
    "    builder = load_model_builder(file, particles, model_choice)\n",
    "    parameters = load_model_parameters(file, builder.decay, model_choice, particles)\n",
    "    model = builder.formulate(reference_subsystem, cleanup_summations=True)\n",
    "    model.parameter_defaults.update(parameters)\n",
    "    return model, builder\n",
    "\n",
    "\n",
    "MODEL, BUILDER = load_model(\"../../data/model-definitions.yaml\", model_choice=0)\n",
    "POLARIMETRY_EXPRS = formulate_polarimetry(BUILDER, reference_subsystem=1)\n",
    "UNFOLDED_POLARIMETRY_EXPRS = [\n",
    "    perform_cached_doit(expr.doit().xreplace(MODEL.amplitudes))\n",
    "    for expr in tqdm(POLARIMETRY_EXPRS, disable=NO_TQDM, leave=False)\n",
    "]\n",
    "UNFOLDED_INTENSITY_EXPR = perform_cached_doit(MODEL.full_expression)"
   ]
  },
  {
   "cell_type": "code",
   "execution_count": null,
   "metadata": {
    "jupyter": {
     "source_hidden": true
    },
    "mystnb": {
     "code_prompt_show": "Convert expressions to numerical functions"
    },
    "tags": [
     "hide-input"
    ]
   },
   "outputs": [],
   "source": [
    "POLARIMETRY_FUNCS = [\n",
    "    perform_cached_lambdify(expr.xreplace(MODEL.parameter_defaults), backend=\"jax\")\n",
    "    for expr in tqdm(UNFOLDED_POLARIMETRY_EXPRS, disable=NO_TQDM, leave=False)\n",
    "]\n",
    "INTENSITY_FUNC = perform_cached_lambdify(\n",
    "    UNFOLDED_INTENSITY_EXPR.xreplace(MODEL.parameter_defaults),\n",
    "    backend=\"jax\",\n",
    ")"
   ]
  },
  {
   "cell_type": "markdown",
   "metadata": {},
   "source": [
    "The phase space sample is uniformly generated over the Dalitz plane variables $\\tau$. In addition, we extend the phase space samples with a uniform distribution over the decay plane angles $\\left(\\phi, \\theta, \\chi\\right)$."
   ]
  },
  {
   "cell_type": "code",
   "execution_count": null,
   "metadata": {
    "tags": []
   },
   "outputs": [],
   "source": [
    "N_EVENTS = 100_000\n",
    "# Dalitz variables\n",
    "PHSP = generate_phasespace_sample(MODEL.decay, N_EVENTS, seed=0)\n",
    "PHSP.update(create_data_transformer(MODEL)(PHSP))\n",
    "# Decay plane variables\n",
    "PHSP[\"phi\"] = np.random.uniform(-np.pi, +np.pi, N_EVENTS)\n",
    "PHSP[\"cos_theta\"] = np.random.uniform(-1, +1, N_EVENTS)\n",
    "PHSP[\"chi\"] = np.random.uniform(-np.pi, +np.pi, N_EVENTS)"
   ]
  },
  {
   "cell_type": "markdown",
   "metadata": {},
   "source": [
    "We now generate an intensity distribution over the phase space sample given a certain value for $\\vec{P}$ using Eq.&nbsp;{eq}`eq:master.intensity`:"
   ]
  },
  {
   "cell_type": "code",
   "execution_count": null,
   "metadata": {
    "jupyter": {
     "source_hidden": true
    },
    "mystnb": {
     "code_prompt_show": "Code for computing polarized intensity"
    },
    "tags": [
     "scroll-input",
     "hide-input"
    ]
   },
   "outputs": [],
   "source": [
    "def compute_polarized_intensity(\n",
    "    Px: float,\n",
    "    Py: float,\n",
    "    Pz: float,\n",
    "    intensity_func: Function[DataSample, jnp.ndarray],\n",
    "    polarimetry_funcs: tuple[\n",
    "        Function[DataSample, jnp.ndarray],\n",
    "        Function[DataSample, jnp.ndarray],\n",
    "        Function[DataSample, jnp.ndarray],\n",
    "    ],\n",
    "    phsp: DataSample,\n",
    ") -> jnp.array:\n",
    "    P = jnp.array([Px, Py, Pz])\n",
    "    R = compute_rotation_matrix(phsp)\n",
    "    alpha = jnp.array([func(phsp).real for func in polarimetry_funcs])\n",
    "    I0 = intensity_func(phsp)\n",
    "    return I0 * (1 + jnp.einsum(\"i,ij...,j...->...\", P, R, alpha))\n",
    "\n",
    "\n",
    "def compute_rotation_matrix(phsp: DataSample) -> jnp.ndarray:\n",
    "    ϕ = phsp[\"phi\"]\n",
    "    θ = jnp.arccos(phsp[\"cos_theta\"])\n",
    "    χ = phsp[\"chi\"]\n",
    "    return jnp.einsum(\"ki...,ij...,j...->k...\", Rz(ϕ), Ry(θ), Rz(χ))\n",
    "\n",
    "\n",
    "def Rz(angle: jnp.ndarray) -> jnp.ndarray:\n",
    "    N_EVENTS = len(angle)\n",
    "    ones = jnp.ones(N_EVENTS)\n",
    "    zeros = jnp.zeros(N_EVENTS)\n",
    "    return jnp.array(\n",
    "        [\n",
    "            [+jnp.cos(angle), -jnp.sin(angle), zeros],\n",
    "            [+jnp.sin(angle), +jnp.cos(angle), zeros],\n",
    "            [zeros, zeros, ones],\n",
    "        ]\n",
    "    )\n",
    "\n",
    "\n",
    "def Ry(angle: jnp.ndarray) -> jnp.ndarray:\n",
    "    N_EVENTS = len(angle)\n",
    "    ones = jnp.ones(N_EVENTS)\n",
    "    zeros = jnp.zeros(N_EVENTS)\n",
    "    return jnp.array(\n",
    "        [\n",
    "            [+jnp.cos(angle), zeros, +jnp.sin(angle)],\n",
    "            [zeros, ones, zeros],\n",
    "            [-jnp.sin(angle), zeros, +jnp.cos(angle)],\n",
    "        ]\n",
    "    )"
   ]
  },
  {
   "cell_type": "code",
   "execution_count": null,
   "metadata": {
    "tags": []
   },
   "outputs": [],
   "source": [
    "P = (+0.22, +0.01, -0.67)\n",
    "I = compute_polarized_intensity(*P, INTENSITY_FUNC, POLARIMETRY_FUNCS, PHSP)\n",
    "I /= jnp.mean(I)  # normalized times N for log likelihood"
   ]
  },
  {
   "cell_type": "code",
   "execution_count": null,
   "metadata": {
    "jupyter": {
     "source_hidden": true
    },
    "tags": [
     "hide-input",
     "full-width"
    ]
   },
   "outputs": [],
   "source": [
    "plt.rc(\"font\", size=18)\n",
    "use_mpl_latex_fonts()\n",
    "\n",
    "fig, axes = plt.subplots(figsize=(15, 4), ncols=3)\n",
    "fig.tight_layout()\n",
    "for ax in axes:\n",
    "    ax.set_yticks([])\n",
    "axes[0].hist(PHSP[\"phi\"], weights=I, bins=80)\n",
    "axes[1].hist(PHSP[\"cos_theta\"], weights=I, bins=80)\n",
    "axes[2].hist(PHSP[\"chi\"], weights=I, bins=80)\n",
    "axes[0].set_xlabel(R\"$\\phi$\")\n",
    "axes[1].set_xlabel(R\"$\\cos\\theta$\")\n",
    "axes[2].set_xlabel(R\"$\\chi$\")\n",
    "plt.show()\n",
    "\n",
    "fig, ax = plt.subplots(figsize=(12, 3))\n",
    "ax.hist2d(PHSP[\"sigma2\"], PHSP[\"sigma1\"], weights=I, bins=100, cmin=1)\n",
    "ax.set_xlabel(R\"$\\sigma_2$\")\n",
    "ax.set_ylabel(R\"$\\sigma_1$\")\n",
    "ax.set_aspect(\"equal\")\n",
    "plt.show()"
   ]
  },
  {
   "cell_type": "markdown",
   "metadata": {},
   "source": [
    ":::{note}\n",
    "In this example, the intensity and alpha functions are exact amplitude models, but they can be substituted by the **interpolation functions** that use the exported polarimeter fields from {ref}`uncertainties:Exported distributions` as input.  This removes the need to formulate a complete amplitude model in order to determine polarization. See {ref}`appendix/serialization:Import and interpolate` for how to interpolate these exported distributions over the Dalitz plane.\n",
    ":::\n",
    "\n",
    "The distribution is assumed to be a measured distribution where $\\vec{P}$ is unknown. It is shown below that the actual $\\vec{P}$ with which the distribution was generated can be found by performing a fit on Eq.&nbsp;{eq}`eq:master.intensity`. This is done with [`iminuit`](https://iminuit.rtfd.io), starting with a certain 'guessed' value for $\\vec{P}$ as initial parameters."
   ]
  },
  {
   "cell_type": "code",
   "execution_count": null,
   "metadata": {},
   "outputs": [],
   "source": [
    "P_guess = (+0.3, -0.3, +0.4)"
   ]
  },
  {
   "cell_type": "code",
   "execution_count": null,
   "metadata": {
    "jupyter": {
     "source_hidden": true
    },
    "mystnb": {
     "code_prompt_show": "Fit polarization to generated distribution"
    },
    "tags": [
     "hide-input"
    ]
   },
   "outputs": [],
   "source": [
    "progress_bar = tqdm(desc=\"Performing fit\")\n",
    "\n",
    "\n",
    "def weighted_nll(Px: float, Py: float, Pz: float) -> float:\n",
    "    I_new = compute_polarized_intensity(\n",
    "        Px, Py, Pz, INTENSITY_FUNC, POLARIMETRY_FUNCS, PHSP\n",
    "    )\n",
    "    I_new /= jnp.sum(I_new)\n",
    "    progress_bar.update()\n",
    "    estimator_value = -jnp.sum(jnp.log(I_new) * I)\n",
    "    progress_bar.set_postfix_str(\n",
    "        f\"NLL={estimator_value:.4g}, Px={Px:+.3f}, Py={Py:+.3f}, Pz={Pz:+.3f}\"\n",
    "    )\n",
    "    return estimator_value\n",
    "\n",
    "\n",
    "optimizer = iminuit.Minuit(weighted_nll, *P_guess)\n",
    "optimizer.errordef = optimizer.LIKELIHOOD\n",
    "fit_result = optimizer.migrad()\n",
    "fit_result"
   ]
  },
  {
   "cell_type": "markdown",
   "metadata": {},
   "source": [
    "The 'fitted' $\\vec{P}$ is equal to the original $\\vec{P}$ up to 4 decimals."
   ]
  },
  {
   "cell_type": "code",
   "execution_count": null,
   "metadata": {},
   "outputs": [],
   "source": [
    "P_fit = np.array([p.value for p in fit_result.params])\n",
    "np.testing.assert_array_almost_equal(P_fit, P, decimal=4)"
   ]
  }
 ],
 "metadata": {
  "kernelspec": {
   "display_name": "Python 3 (ipykernel)",
   "language": "python",
   "name": "python3"
  },
  "language_info": {
   "codemirror_mode": {
    "name": "ipython",
    "version": 3
   },
   "file_extension": ".py",
   "mimetype": "text/x-python",
   "name": "python",
   "nbconvert_exporter": "python",
   "pygments_lexer": "ipython3",
   "version": "3.8.13"
  },
  "myst": {
   "all_links_external": true
  }
 },
 "nbformat": 4,
 "nbformat_minor": 4
}
