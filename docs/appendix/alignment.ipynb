{
 "cells": [
  {
   "cell_type": "markdown",
   "metadata": {
    "tags": []
   },
   "source": [
    "# Alignment consistency"
   ]
  },
  {
   "cell_type": "markdown",
   "metadata": {},
   "source": [
    "```{autolink-concat}\n",
    "```"
   ]
  },
  {
   "cell_type": "code",
   "execution_count": null,
   "metadata": {
    "jupyter": {
     "source_hidden": true
    },
    "tags": [
     "hide-cell",
     "scroll-input"
    ]
   },
   "outputs": [],
   "source": [
    "from __future__ import annotations\n",
    "\n",
    "import jax.numpy as jnp\n",
    "import matplotlib.pyplot as plt\n",
    "import sympy as sp\n",
    "from numpy.testing import assert_almost_equal\n",
    "from tensorwaves.data import SympyDataTransformer\n",
    "from tensorwaves.function.sympy import create_function\n",
    "from tqdm.auto import tqdm\n",
    "\n",
    "from polarization.amplitude import (\n",
    "    AmplitudeModel,\n",
    "    DalitzPlotDecompositionBuilder,\n",
    "    simplify_latex_rendering,\n",
    ")\n",
    "from polarization.data import create_data_transformer, generate_meshgrid_sample\n",
    "from polarization.io import display_latex, mute_jax_warnings, perform_cached_doit\n",
    "from polarization.lhcb import (\n",
    "    _load_model_parameters,\n",
    "    flip_production_coupling_signs,\n",
    "    load_three_body_decays,\n",
    ")\n",
    "\n",
    "mute_jax_warnings()\n",
    "simplify_latex_rendering()"
   ]
  },
  {
   "cell_type": "code",
   "execution_count": null,
   "metadata": {
    "tags": []
   },
   "outputs": [],
   "source": [
    "dynamics_configurator = load_three_body_decays(\"../../data/isobars.json\")\n",
    "decay = dynamics_configurator.decay\n",
    "amplitude_builder = DalitzPlotDecompositionBuilder(decay)\n",
    "amplitude_builder.dynamics_choices = dynamics_configurator\n",
    "imported_parameter_values = _load_model_parameters(\n",
    "    \"../../data/modelparameters.json\", decay\n",
    ")\n",
    "models = {}\n",
    "for reference_subsystem in [1, 2, 3]:\n",
    "    models[reference_subsystem] = amplitude_builder.formulate(\n",
    "        reference_subsystem, cleanup_summations=True\n",
    "    )\n",
    "    models[reference_subsystem].parameter_defaults.update(imported_parameter_values)\n",
    "models[2] = flip_production_coupling_signs(models[2], subsystem_names=[\"K\", \"L\"])\n",
    "models[3] = flip_production_coupling_signs(models[3], subsystem_names=[\"K\", \"D\"])"
   ]
  },
  {
   "cell_type": "code",
   "execution_count": null,
   "metadata": {
    "jupyter": {
     "source_hidden": true
    },
    "tags": [
     "full-width",
     "hide-input"
    ]
   },
   "outputs": [],
   "source": [
    "display_latex(m.intensity.cleanup() for m in models.values())"
   ]
  },
  {
   "cell_type": "markdown",
   "metadata": {},
   "source": [
    "See {doc}`/appendix/angles` for the definition of each $\\zeta^i_{j(k)}$.\n",
    "\n",
    "Note that a change in reference sub-system requires the production couplings for certain sub-systems to flip sign:\n",
    "- **Sub-system 2** as reference system: flip signs of $\\mathcal{H}^\\mathrm{production}_{K^{**}}$ and  $\\mathcal{H}^\\mathrm{production}_{L^{**}}$\n",
    "- **Sub-system 3** as reference system: flip signs of $\\mathcal{H}^\\mathrm{production}_{K^{**}}$ and  $\\mathcal{H}^\\mathrm{production}_{D^{**}}$"
   ]
  },
  {
   "cell_type": "code",
   "execution_count": null,
   "metadata": {
    "jupyter": {
     "source_hidden": true
    },
    "tags": [
     "remove-cell"
    ]
   },
   "outputs": [],
   "source": [
    "coupling = [\n",
    "    symbol\n",
    "    for symbol in models[1].parameter_defaults\n",
    "    if str(symbol) == R\"\\mathcal{H}^\\mathrm{production}[K(892), -1, -1/2]\"\n",
    "][0]\n",
    "assert models[2].parameter_defaults[coupling] == -models[1].parameter_defaults[coupling]\n",
    "assert models[3].parameter_defaults[coupling] == -models[1].parameter_defaults[coupling]"
   ]
  },
  {
   "cell_type": "code",
   "execution_count": null,
   "metadata": {
    "tags": [
     "remove-output"
    ]
   },
   "outputs": [],
   "source": [
    "unfolded_intensity_exprs = {\n",
    "    reference_subsystem: perform_cached_doit(model.full_expression)\n",
    "    for reference_subsystem, model in tqdm(models.items())\n",
    "}"
   ]
  },
  {
   "cell_type": "code",
   "execution_count": null,
   "metadata": {
    "jupyter": {
     "source_hidden": true
    },
    "tags": [
     "remove-input"
    ]
   },
   "outputs": [],
   "source": [
    "def assert_all_symbols_defined(expr: sp.Expr, model: AmplitudeModel) -> None:\n",
    "    sigmas = sp.symbols(\"sigma1:4\", nonnegative=True)\n",
    "    remaining_symbols = expr.xreplace(model.parameter_defaults).free_symbols\n",
    "    remaining_symbols -= set(model.variables)\n",
    "    remaining_symbols -= set(sigmas)\n",
    "    assert not remaining_symbols, remaining_symbols\n",
    "\n",
    "\n",
    "for reference_subsystem in unfolded_intensity_exprs:\n",
    "    assert_all_symbols_defined(\n",
    "        expr=unfolded_intensity_exprs[reference_subsystem],\n",
    "        model=models[reference_subsystem],\n",
    "    )"
   ]
  },
  {
   "cell_type": "code",
   "execution_count": null,
   "metadata": {
    "tags": []
   },
   "outputs": [],
   "source": [
    "subs_intensity_exprs = {\n",
    "    reference_subsystem: expr.xreplace(models[reference_subsystem].parameter_defaults)\n",
    "    for reference_subsystem, expr in unfolded_intensity_exprs.items()\n",
    "}"
   ]
  },
  {
   "cell_type": "code",
   "execution_count": null,
   "metadata": {
    "tags": [
     "remove-output"
    ]
   },
   "outputs": [],
   "source": [
    "intensity_funcs = {\n",
    "    reference_subsystem: create_function(expr, backend=\"jax\")\n",
    "    for reference_subsystem, expr in tqdm(subs_intensity_exprs.items())\n",
    "}"
   ]
  },
  {
   "cell_type": "code",
   "execution_count": null,
   "metadata": {
    "tags": [
     "remove-output"
    ]
   },
   "outputs": [],
   "source": [
    "transformer = {}\n",
    "for reference_subsystem in tqdm([1, 2, 3]):\n",
    "    model = models[reference_subsystem]\n",
    "    transformer.update(create_data_transformer(model).functions)\n",
    "transformer = SympyDataTransformer(transformer)\n",
    "grid_sample = generate_meshgrid_sample(decay, resolution=200)\n",
    "grid_sample = transformer(grid_sample)\n",
    "intensity_grids = {i: func(grid_sample) for i, func in intensity_funcs.items()}"
   ]
  },
  {
   "cell_type": "code",
   "execution_count": null,
   "metadata": {
    "jupyter": {
     "source_hidden": true
    },
    "tags": [
     "hide-input"
    ]
   },
   "outputs": [],
   "source": [
    "{i: jnp.nansum(grid) for i, grid in intensity_grids.items()}"
   ]
  },
  {
   "cell_type": "code",
   "execution_count": null,
   "metadata": {},
   "outputs": [],
   "source": [
    "assert_almost_equal(jnp.nansum(intensity_grids[2] - intensity_grids[1]), 0)\n",
    "assert_almost_equal(jnp.nansum(intensity_grids[2] - intensity_grids[1]), 0)"
   ]
  },
  {
   "cell_type": "code",
   "execution_count": null,
   "metadata": {
    "tags": [
     "remove-input"
    ]
   },
   "outputs": [],
   "source": [
    "%config InlineBackend.figure_formats = ['png']"
   ]
  },
  {
   "cell_type": "code",
   "execution_count": null,
   "metadata": {
    "jupyter": {
     "source_hidden": true
    },
    "tags": [
     "full-width",
     "hide-input"
    ]
   },
   "outputs": [],
   "source": [
    "s1_label = R\"$\\sigma_1=m^2\\left(K\\pi\\right)$\"\n",
    "s2_label = R\"$\\sigma_2=m^2\\left(pK\\right)$\"\n",
    "s3_label = R\"$\\sigma_3=m^2\\left(p\\pi\\right)$\"\n",
    "\n",
    "X = grid_sample[\"sigma1\"]\n",
    "Y = grid_sample[\"sigma2\"]\n",
    "\n",
    "fig, axes = plt.subplots(\n",
    "    ncols=3,\n",
    "    figsize=(20, 7),\n",
    "    tight_layout=True,\n",
    "    sharey=True,\n",
    "    gridspec_kw={\"width_ratios\": [1, 1, 1.2]},\n",
    ")\n",
    "fig.suptitle(\"Intensity distribution\")\n",
    "global_max = max(map(jnp.nanmax, intensity_grids.values()))\n",
    "axes[0].set_ylabel(s2_label)\n",
    "for i, ax in enumerate(axes, 1):\n",
    "    ax.set_title(f\"Subsystem {i} as reference\")\n",
    "    ax.set_xlabel(s1_label)\n",
    "    Z = intensity_grids[i]\n",
    "    mesh = ax.pcolormesh(X, Y, Z)\n",
    "    mesh.set_clim(vmax=global_max)\n",
    "    if ax is axes[-1]:\n",
    "        fig.colorbar(mesh, ax=ax)\n",
    "plt.show()"
   ]
  }
 ],
 "metadata": {
  "kernelspec": {
   "display_name": "Python 3 (ipykernel)",
   "language": "python",
   "name": "python3"
  },
  "language_info": {
   "codemirror_mode": {
    "name": "ipython",
    "version": 3
   },
   "file_extension": ".py",
   "mimetype": "text/x-python",
   "name": "python",
   "nbconvert_exporter": "python",
   "pygments_lexer": "ipython3",
   "version": "3.8.13"
  }
 },
 "nbformat": 4,
 "nbformat_minor": 4
}
