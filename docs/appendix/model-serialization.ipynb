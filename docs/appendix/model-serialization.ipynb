{
 "cells": [
  {
   "cell_type": "markdown",
   "metadata": {
    "editable": true,
    "slideshow": {
     "slide_type": ""
    },
    "tags": []
   },
   "source": [
    "# Model serialization\n",
    "\n",
    "```{autolink-concat}\n",
    "```\n",
    "\n",
    "This page demonstrates a strategy for exporting an amplitude model with its suggested parameter defaults to disk and loading it back into memory later on for computations with the computational backend."
   ]
  },
  {
   "cell_type": "code",
   "execution_count": null,
   "metadata": {
    "jupyter": {
     "source_hidden": true
    },
    "mystnb": {
     "code_prompt_show": "Import Python libraries"
    },
    "tags": [
     "hide-cell",
     "scroll-input"
    ]
   },
   "outputs": [],
   "source": [
    "from __future__ import annotations\n",
    "\n",
    "import os\n",
    "import pickle\n",
    "from textwrap import shorten\n",
    "\n",
    "import cloudpickle\n",
    "import jax.numpy as jnp\n",
    "import sympy as sp\n",
    "from IPython.display import Markdown\n",
    "from tensorwaves.function.sympy import create_function\n",
    "\n",
    "from polarimetry.io import mute_jax_warnings, perform_cached_doit\n",
    "from polarimetry.lhcb import load_model\n",
    "from polarimetry.lhcb.particle import load_particles\n",
    "\n",
    "mute_jax_warnings()"
   ]
  },
  {
   "cell_type": "markdown",
   "metadata": {},
   "source": [
    "## Export model"
   ]
  },
  {
   "cell_type": "code",
   "execution_count": null,
   "metadata": {
    "mystnb": {
     "code_prompt_show": "Import Python libraries"
    },
    "tags": [
     "hide-input"
    ]
   },
   "outputs": [],
   "source": [
    "data_dir = \"../../data\"\n",
    "particles = load_particles(f\"{data_dir}/particle-definitions.yaml\")\n",
    "model = load_model(f\"{data_dir}/model-definitions.yaml\", particles, model_id=0)\n",
    "unfolded_intensity_expr = perform_cached_doit(model.full_expression)"
   ]
  },
  {
   "cell_type": "code",
   "execution_count": null,
   "metadata": {
    "mystnb": {
     "code_prompt_show": "Substitute fixed parameters"
    },
    "tags": [
     "hide-input"
    ]
   },
   "outputs": [],
   "source": [
    "free_parameters = {\n",
    "    symbol: value\n",
    "    for symbol, value in model.parameter_defaults.items()\n",
    "    if isinstance(symbol, sp.Indexed)\n",
    "    if \"production\" in str(symbol)\n",
    "}\n",
    "fixed_parameters = {\n",
    "    symbol: value\n",
    "    for symbol, value in model.parameter_defaults.items()\n",
    "    if symbol not in free_parameters\n",
    "}\n",
    "subs_intensity_expr = unfolded_intensity_expr.xreplace(fixed_parameters)"
   ]
  },
  {
   "cell_type": "code",
   "execution_count": null,
   "metadata": {},
   "outputs": [],
   "source": [
    "def sigma3via12() -> dict[sp.Symbol, sp.Expr]:\n",
    "    s1, s2, s3 = sp.symbols(\"sigma1:4\", nonnegative=True)\n",
    "    m0, m1, m2, m3 = sp.symbols(\"m:4\", nonnegative=True)\n",
    "    return {s3: m1**2 + m2**2 + m3**2 + m0**2 - s1 - s2}"
   ]
  },
  {
   "cell_type": "code",
   "execution_count": null,
   "metadata": {},
   "outputs": [],
   "source": [
    "dict_forms = {\n",
    "    \"intensity_expr\": unfolded_intensity_expr,\n",
    "    \"variables\": {k: v.doit() for (k, v) in model.variables.items()},\n",
    "    \"parameter_defaults\": model.parameter_defaults,\n",
    "    \"sigma3\": sigma3via12(),\n",
    "}"
   ]
  },
  {
   "cell_type": "code",
   "execution_count": null,
   "metadata": {},
   "outputs": [],
   "source": [
    "filename = \"exported-model.pkl\"\n",
    "with open(filename, \"wb\") as f:\n",
    "    cloudpickle.dump(dict_forms, f)"
   ]
  },
  {
   "cell_type": "markdown",
   "metadata": {},
   "source": [
    "## Import model\n",
    "\n",
    "The model is saved in a Python {obj}`dict` and to a {mod}`pickle` file. The dictionary contains a SymPy expressions for the model and suggested parameter default values. These parameter and variable symbols are substituted using the `fully_substitute()` function."
   ]
  },
  {
   "cell_type": "code",
   "execution_count": null,
   "metadata": {},
   "outputs": [],
   "source": [
    "def load_model(filename: str) -> dict:\n",
    "    if not os.path.exists(filename):\n",
    "        msg = f\"The input file not found at ${filename}\"\n",
    "        raise ValueError(msg)\n",
    "    with open(filename, \"rb\") as f:\n",
    "        return pickle.load(f)"
   ]
  },
  {
   "cell_type": "code",
   "execution_count": null,
   "metadata": {},
   "outputs": [],
   "source": [
    "def fully_substitute(model_description: dict) -> sp.Expr:\n",
    "    return (\n",
    "        model_description[\"intensity_expr\"]\n",
    "        .xreplace(model_description[\"variables\"])\n",
    "        .xreplace(model_description[\"sigma3\"])\n",
    "        .xreplace(model_description[\"parameter_defaults\"])\n",
    "    )"
   ]
  },
  {
   "cell_type": "code",
   "execution_count": null,
   "metadata": {},
   "outputs": [],
   "source": [
    "imported_model = load_model(filename)\n",
    "intensity_on_2vars = fully_substitute(imported_model)"
   ]
  },
  {
   "cell_type": "markdown",
   "metadata": {},
   "source": [
    "### Compilation\n",
    "\n",
    "The resulting symbolic expression depends on two variables:\n",
    "\n",
    "- $\\sigma_1 = m_{K\\pi}^2$, mass of the $K^- \\pi^+$ system, and\n",
    "- $\\sigma_2 = m_{pK}^2$, mass of the $p K^-$ system.\n",
    "\n",
    "This expression is turned into a numerical function by either {func}`~sympy.utilities.lambdify.lambdify`, using {doc}`JAX<jax:index>` as a computational backend.\n",
    "\n",
    "For {mod}`sympy` backend the position argument are used."
   ]
  },
  {
   "cell_type": "code",
   "execution_count": null,
   "metadata": {},
   "outputs": [],
   "source": [
    "s12 = sp.symbols(\"sigma1:3\", nonnegative=True)\n",
    "assert intensity_on_2vars.free_symbols == set(s12)\n",
    "\n",
    "func = sp.lambdify(s12, intensity_on_2vars)"
   ]
  },
  {
   "cell_type": "code",
   "execution_count": null,
   "metadata": {},
   "outputs": [],
   "source": [
    "func(1.0, 3.0), func(1.1, 3.2)"
   ]
  },
  {
   "cell_type": "markdown",
   "metadata": {},
   "source": [
    "The compilation to JAX is facilitated by {mod}`tensorwaves`:"
   ]
  },
  {
   "cell_type": "code",
   "execution_count": null,
   "metadata": {},
   "outputs": [],
   "source": [
    "density = create_function(intensity_on_2vars, backend=\"jax\")"
   ]
  },
  {
   "cell_type": "code",
   "execution_count": null,
   "metadata": {
    "editable": true,
    "slideshow": {
     "slide_type": ""
    },
    "tags": []
   },
   "outputs": [],
   "source": [
    "density({\"sigma1\": jnp.array([1.0, 1.1]), \"sigma2\": jnp.array([3.0, 3.2])})"
   ]
  },
  {
   "cell_type": "markdown",
   "metadata": {},
   "source": [
    "## Serialization with `srepr`"
   ]
  },
  {
   "cell_type": "markdown",
   "metadata": {},
   "source": [
    "SymPy expressions can directly be serialized to Python code as well, with the function [`srepr()`](https://docs.sympy.org/latest/modules/printing.html#sympy.printing.repr.srepr). For the full intensity expression, we can do so with:"
   ]
  },
  {
   "cell_type": "code",
   "execution_count": null,
   "metadata": {
    "editable": true,
    "slideshow": {
     "slide_type": ""
    },
    "tags": []
   },
   "outputs": [],
   "source": [
    "%%time\n",
    "eval_str = sp.srepr(unfolded_intensity_expr)"
   ]
  },
  {
   "cell_type": "code",
   "execution_count": null,
   "metadata": {
    "editable": true,
    "slideshow": {
     "slide_type": ""
    },
    "tags": [
     "hide-input"
    ]
   },
   "outputs": [],
   "source": [
    "n_nodes = sp.count_ops(unfolded_intensity_expr)\n",
    "byt = len(eval_str.encode(\"utf-8\"))\n",
    "mb = f\"{1e-6*byt:.2f}\"\n",
    "rendering = shorten(eval_str, placeholder=\" ...\", width=85)\n",
    "src = f\"\"\"\n",
    "This serializes the intensity expression of {n_nodes:,d} nodes\n",
    "to a string of **{mb} MB**.\n",
    "\n",
    "```\n",
    "{rendering}\n",
    "```\n",
    "\"\"\"\n",
    "Markdown(src)"
   ]
  },
  {
   "cell_type": "markdown",
   "metadata": {
    "editable": true,
    "slideshow": {
     "slide_type": ""
    },
    "tags": []
   },
   "source": [
    "It is up to the user, however, to import the classes of each exported node before the string can be unparsed with [`eval()`](https://docs.python.org/3/library/functions.html#eval) (see [this comment](https://github.com/ComPWA/polarimetry/issues/20#issuecomment-1809840854))."
   ]
  },
  {
   "cell_type": "code",
   "execution_count": null,
   "metadata": {
    "editable": true,
    "slideshow": {
     "slide_type": ""
    },
    "tags": [
     "raises-exception"
    ]
   },
   "outputs": [],
   "source": [
    "eval(eval_str)"
   ]
  },
  {
   "cell_type": "markdown",
   "metadata": {
    "editable": true,
    "slideshow": {
     "slide_type": ""
    },
    "tags": []
   },
   "source": [
    "In the case of this intensity expression, it is sufficient to import all definition from the main `sympy` module and the `Str` class."
   ]
  },
  {
   "cell_type": "code",
   "execution_count": null,
   "metadata": {
    "editable": true,
    "slideshow": {
     "slide_type": ""
    },
    "tags": []
   },
   "outputs": [],
   "source": [
    "from sympy import *  # noqa: F403\n",
    "from sympy.core.symbol import Str  # noqa: F401"
   ]
  },
  {
   "cell_type": "code",
   "execution_count": null,
   "metadata": {
    "editable": true,
    "slideshow": {
     "slide_type": ""
    },
    "tags": []
   },
   "outputs": [],
   "source": [
    "%%time\n",
    "eval_imported_intensity_expr = eval(eval_str)"
   ]
  },
  {
   "cell_type": "markdown",
   "metadata": {
    "editable": true,
    "slideshow": {
     "slide_type": ""
    },
    "tags": []
   },
   "source": [
    "Notice how the imported expression is **exactly the same** as the serialized one, including assumptions:"
   ]
  },
  {
   "cell_type": "code",
   "execution_count": null,
   "metadata": {
    "editable": true,
    "slideshow": {
     "slide_type": ""
    },
    "tags": []
   },
   "outputs": [],
   "source": [
    "assert eval_imported_intensity_expr == unfolded_intensity_expr\n",
    "assert hash(eval_imported_intensity_expr) == hash(unfolded_intensity_expr)"
   ]
  },
  {
   "cell_type": "markdown",
   "metadata": {
    "editable": true,
    "slideshow": {
     "slide_type": ""
    },
    "tags": []
   },
   "source": [
    "Optionally, the `import` statements can be embedded into the string. The parsing is then done with [`exec()`](https://docs.python.org/3/library/functions.html#exec) instead:"
   ]
  },
  {
   "cell_type": "code",
   "execution_count": null,
   "metadata": {
    "editable": true,
    "slideshow": {
     "slide_type": ""
    },
    "tags": []
   },
   "outputs": [],
   "source": [
    "exec_str = f\"\"\"\\\n",
    "from sympy import *\n",
    "from sympy.core.symbol import Str\n",
    "\n",
    "def get_intensity_function() -> Expr:\n",
    "    return {eval_str}\n",
    "\"\"\""
   ]
  },
  {
   "cell_type": "code",
   "execution_count": null,
   "metadata": {
    "editable": true,
    "slideshow": {
     "slide_type": ""
    },
    "tags": []
   },
   "outputs": [],
   "source": [
    "exec_filename = \"exported_intensity_model.py\"\n",
    "with open(exec_filename, \"w\") as f:\n",
    "    f.write(exec_str)"
   ]
  },
  {
   "cell_type": "code",
   "execution_count": null,
   "metadata": {
    "editable": true,
    "jupyter": {
     "source_hidden": true
    },
    "slideshow": {
     "slide_type": ""
    },
    "tags": [
     "remove-input"
    ]
   },
   "outputs": [],
   "source": [
    "src = f\"\"\"\n",
    "See {{download}}`{exec_filename}` for the exported model.\n",
    "\"\"\"\n",
    "Markdown(src)"
   ]
  },
  {
   "cell_type": "code",
   "execution_count": null,
   "metadata": {
    "editable": true,
    "slideshow": {
     "slide_type": ""
    },
    "tags": []
   },
   "outputs": [],
   "source": [
    "%%time\n",
    "exec(exec_str)\n",
    "exec_imported_intensity_expr = get_intensity_function()  # noqa: F405"
   ]
  },
  {
   "cell_type": "code",
   "execution_count": null,
   "metadata": {
    "editable": true,
    "slideshow": {
     "slide_type": ""
    },
    "tags": []
   },
   "outputs": [],
   "source": [
    "assert exec_imported_intensity_expr == unfolded_intensity_expr\n",
    "assert hash(exec_imported_intensity_expr) == hash(unfolded_intensity_expr)"
   ]
  },
  {
   "cell_type": "markdown",
   "metadata": {
    "editable": true,
    "slideshow": {
     "slide_type": ""
    },
    "tags": []
   },
   "source": [
    ":::{note}\n",
    "The load time is faster due to caching within SymPy.\n",
    ":::"
   ]
  }
 ],
 "metadata": {
  "colab": {
   "toc_visible": true
  },
  "kernelspec": {
   "display_name": "Python 3 (ipykernel)",
   "language": "python",
   "name": "python3"
  },
  "language_info": {
   "codemirror_mode": {
    "name": "ipython",
    "version": 3
   },
   "file_extension": ".py",
   "mimetype": "text/x-python",
   "name": "python",
   "nbconvert_exporter": "python",
   "pygments_lexer": "ipython3",
   "version": "3.8.18"
  },
  "myst": {
   "all_links_external": true
  }
 },
 "nbformat": 4,
 "nbformat_minor": 4
}
