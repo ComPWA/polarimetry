{
 "cells": [
  {
   "cell_type": "markdown",
   "metadata": {
    "tags": []
   },
   "source": [
    "# Model serialization\n",
    "\n",
    "```{autolink-concat}\n",
    "```\n",
    "\n",
    "This page demonstrates a strategy for exporting an amplitude model with its suggested parameter defaults to disk and loading it back into memory later on for computations with the computational backend."
   ]
  },
  {
   "cell_type": "code",
   "execution_count": null,
   "metadata": {
    "jupyter": {
     "source_hidden": true
    },
    "mystnb": {
     "code_prompt_show": "Import Python libraries"
    },
    "tags": [
     "hide-cell",
     "scroll-input"
    ]
   },
   "outputs": [],
   "source": [
    "from __future__ import annotations\n",
    "\n",
    "import os\n",
    "import pickle\n",
    "\n",
    "import cloudpickle\n",
    "import jax.numpy as jnp\n",
    "import sympy as sp\n",
    "from tensorwaves.function.sympy import create_function\n",
    "\n",
    "from polarimetry.io import mute_jax_warnings, perform_cached_doit\n",
    "from polarimetry.lhcb import load_model\n",
    "from polarimetry.lhcb.particle import load_particles\n",
    "\n",
    "mute_jax_warnings()"
   ]
  },
  {
   "cell_type": "markdown",
   "metadata": {},
   "source": [
    "## Export model"
   ]
  },
  {
   "cell_type": "code",
   "execution_count": null,
   "metadata": {
    "mystnb": {
     "code_prompt_show": "Import Python libraries"
    },
    "tags": [
     "hide-input"
    ]
   },
   "outputs": [],
   "source": [
    "data_dir = \"../../data\"\n",
    "particles = load_particles(f\"{data_dir}/particle-definitions.yaml\")\n",
    "model = load_model(f\"{data_dir}/model-definitions.yaml\", particles, model_id=0)\n",
    "unfolded_intensity_expr = perform_cached_doit(model.full_expression)"
   ]
  },
  {
   "cell_type": "code",
   "execution_count": null,
   "metadata": {
    "mystnb": {
     "code_prompt_show": "Substitute fixed parameters"
    },
    "tags": [
     "hide-input"
    ]
   },
   "outputs": [],
   "source": [
    "free_parameters = {\n",
    "    symbol: value\n",
    "    for symbol, value in model.parameter_defaults.items()\n",
    "    if isinstance(symbol, sp.Indexed)\n",
    "    if \"production\" in str(symbol)\n",
    "}\n",
    "fixed_parameters = {\n",
    "    symbol: value\n",
    "    for symbol, value in model.parameter_defaults.items()\n",
    "    if symbol not in free_parameters\n",
    "}\n",
    "subs_intensity_expr = unfolded_intensity_expr.xreplace(fixed_parameters)"
   ]
  },
  {
   "cell_type": "code",
   "execution_count": null,
   "metadata": {},
   "outputs": [],
   "source": [
    "def sigma3via12() -> dict[sp.Symbol, sp.Expr]:\n",
    "    s1, s2, s3 = sp.symbols(\"sigma1:4\", nonnegative=True)\n",
    "    m0, m1, m2, m3 = sp.symbols(\"m:4\", nonnegative=True)\n",
    "    return {s3: m1**2 + m2**2 + m3**2 + m0**2 - s1 - s2}"
   ]
  },
  {
   "cell_type": "code",
   "execution_count": null,
   "metadata": {},
   "outputs": [],
   "source": [
    "dict_forms = {\n",
    "    \"intensity_expr\": unfolded_intensity_expr,\n",
    "    \"variables\": {k: v.doit() for (k, v) in model.variables.items()},\n",
    "    \"parameter_defaults\": model.parameter_defaults,\n",
    "    \"sigma3\": sigma3via12(),\n",
    "}"
   ]
  },
  {
   "cell_type": "code",
   "execution_count": null,
   "metadata": {},
   "outputs": [],
   "source": [
    "filename = \"exported-model.pkl\"\n",
    "with open(filename, \"wb\") as f:\n",
    "    cloudpickle.dump(dict_forms, f)"
   ]
  },
  {
   "cell_type": "markdown",
   "metadata": {},
   "source": [
    "## Import model\n",
    "\n",
    "The model is saved in a Python {obj}`dict` and to a {mod}`pickle` file. The dictionary contains a SymPy expressions for the model and suggested parameter default values. These parameter and variable symbols are substituted using the `fully_substitute()` function."
   ]
  },
  {
   "cell_type": "code",
   "execution_count": null,
   "metadata": {},
   "outputs": [],
   "source": [
    "def load_model(filename: str) -> dict:\n",
    "    if not os.path.exists(filename):\n",
    "        raise ValueError(f\"The input file not found at ${filename}\")\n",
    "    with open(filename, \"rb\") as f:\n",
    "        return pickle.load(f)"
   ]
  },
  {
   "cell_type": "code",
   "execution_count": null,
   "metadata": {},
   "outputs": [],
   "source": [
    "def fully_substitute(model_description: dict) -> sp.Expr:\n",
    "    expr = (\n",
    "        model_description[\"intensity_expr\"]\n",
    "        .xreplace(model_description[\"variables\"])\n",
    "        .xreplace(model_description[\"sigma3\"])\n",
    "        .xreplace(model_description[\"parameter_defaults\"])\n",
    "    )\n",
    "    return expr"
   ]
  },
  {
   "cell_type": "code",
   "execution_count": null,
   "metadata": {},
   "outputs": [],
   "source": [
    "imported_model = load_model(filename)\n",
    "intensity_on_2vars = fully_substitute(imported_model)"
   ]
  },
  {
   "cell_type": "markdown",
   "metadata": {},
   "source": [
    "### Compilation\n",
    "\n",
    "The resulting symbolic expression depends on two variables:\n",
    "\n",
    "- $\\sigma_1 = m_{K\\pi}^2$, mass of the $K^- \\pi^+$ system, and\n",
    "- $\\sigma_2 = m_{pK}^2$, mass of the $p K^-$ system.\n",
    "\n",
    "This expression is turned into a numerical function by either {func}`~sympy.utilities.lambdify.lambdify`, using {doc}`JAX<jax:index>` as a computational backend.\n",
    "\n",
    "For {mod}`sympy` backend the position argument are used."
   ]
  },
  {
   "cell_type": "code",
   "execution_count": null,
   "metadata": {},
   "outputs": [],
   "source": [
    "s12 = sp.symbols(\"sigma1:3\", nonnegative=True)\n",
    "assert intensity_on_2vars.free_symbols == set(s12)\n",
    "\n",
    "func = sp.lambdify(s12, intensity_on_2vars)"
   ]
  },
  {
   "cell_type": "code",
   "execution_count": null,
   "metadata": {},
   "outputs": [],
   "source": [
    "func(1.0, 3.0), func(1.1, 3.2)"
   ]
  },
  {
   "cell_type": "markdown",
   "metadata": {},
   "source": [
    "The compilation to JAX is facilitated by {mod}`tensorwaves`:"
   ]
  },
  {
   "cell_type": "code",
   "execution_count": null,
   "metadata": {},
   "outputs": [],
   "source": [
    "density = create_function(intensity_on_2vars, backend=\"jax\")"
   ]
  },
  {
   "cell_type": "code",
   "execution_count": null,
   "metadata": {},
   "outputs": [],
   "source": [
    "density({\"sigma1\": jnp.array([1.0, 1.1]), \"sigma2\": jnp.array([3.0, 3.2])})"
   ]
  }
 ],
 "metadata": {
  "kernelspec": {
   "display_name": "Python 3 (ipykernel)",
   "language": "python",
   "name": "python3"
  },
  "language_info": {
   "codemirror_mode": {
    "name": "ipython",
    "version": 3
   },
   "file_extension": ".py",
   "mimetype": "text/x-python",
   "name": "python",
   "nbconvert_exporter": "python",
   "pygments_lexer": "ipython3",
   "version": "3.8.16"
  },
  "myst": {
   "all_links_external": true
  }
 },
 "nbformat": 4,
 "nbformat_minor": 4
}
