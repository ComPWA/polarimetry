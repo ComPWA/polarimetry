{
 "cells": [
  {
   "attachments": {},
   "cell_type": "markdown",
   "metadata": {},
   "source": [
    "# Invensity distribution for $\\Lambda_c^+ \\to p K^- \\pi^+$ default model"
   ]
  },
  {
   "cell_type": "code",
   "execution_count": null,
   "metadata": {},
   "outputs": [],
   "source": [
    "import os\n",
    "import pickle\n",
    "\n",
    "import jax.numpy as jnp\n",
    "import sympy as sp\n",
    "\n",
    "#\n",
    "from tensorwaves.function.sympy import create_function"
   ]
  },
  {
   "attachments": {},
   "cell_type": "markdown",
   "metadata": {},
   "source": [
    "#### Build the model\n",
    "\n",
    "The model is saved in a python dictionary dumped to a pickle file.\n",
    "The dictionary contains a sympy expressions for the model and default values of the constant which are substituted in the `fully_substitute` function."
   ]
  },
  {
   "cell_type": "code",
   "execution_count": null,
   "metadata": {},
   "outputs": [],
   "source": [
    "def load_model(filename):\n",
    "    if not os.path.exists(filename):\n",
    "        raise ValueError(f\"The input file not found at ${filename}\")\n",
    "    with open(filename, \"rb\") as f:\n",
    "        return pickle.load(f)"
   ]
  },
  {
   "cell_type": "code",
   "execution_count": null,
   "metadata": {},
   "outputs": [],
   "source": [
    "def fully_substitute(model_description):\n",
    "    expr = (\n",
    "        model_description[\"intensity\"]\n",
    "        .xreplace(model_description[\"variables\"])\n",
    "        .xreplace(model_description[\"Hproduction\"])\n",
    "        .xreplace(model_description[\"sigma3\"])\n",
    "        .xreplace(model_description[\"parameter_defaults\"])\n",
    "    )\n",
    "    return expr"
   ]
  },
  {
   "cell_type": "code",
   "execution_count": null,
   "metadata": {},
   "outputs": [],
   "source": [
    "docs_dir = os.getcwd()\n",
    "filename = f\"{docs_dir}/.sympy-cache-default-model.pkl\"\n",
    "#\n",
    "model_description = load_model(filename)\n",
    "intensity_on_2vars = fully_substitute(model_description)"
   ]
  },
  {
   "attachments": {},
   "cell_type": "markdown",
   "metadata": {},
   "source": [
    "### Compilation\n",
    "\n",
    "The symbolic expression depends on two variables:\n",
    "\n",
    "- $\\sigma_1 == m_{K\\pi}^2$, mass of the $K^- \\pi^+$ system, and\n",
    "- $\\sigma_2 == m_{pK}^2$, mass of the $p K^-$ system\n",
    "\n",
    "The expression is turned into a numerical function by either `sp.lamdify`, or using the `jax` backend."
   ]
  },
  {
   "attachments": {},
   "cell_type": "markdown",
   "metadata": {},
   "source": [
    "For `sympy` backend the position argument are used."
   ]
  },
  {
   "cell_type": "code",
   "execution_count": null,
   "metadata": {},
   "outputs": [],
   "source": [
    "s12 = sp.symbols(\"sigma1:3\", nonnegative=True)\n",
    "assert intensity_on_2vars.free_symbols == set(s12)\n",
    "#\n",
    "lf = sp.lambdify(s12, intensity_on_2vars)"
   ]
  },
  {
   "cell_type": "code",
   "execution_count": null,
   "metadata": {},
   "outputs": [],
   "source": [
    "lf(1.0, 3.0), lf(1.1, 3.2)"
   ]
  },
  {
   "cell_type": "markdown",
   "metadata": {},
   "source": [
    "The compilation with the `jax` backend is done by `tensorwaves` functionality"
   ]
  },
  {
   "cell_type": "code",
   "execution_count": null,
   "metadata": {},
   "outputs": [],
   "source": [
    "density = create_function(intensity_on_2vars, backend=\"jax\")"
   ]
  },
  {
   "cell_type": "code",
   "execution_count": null,
   "metadata": {},
   "outputs": [],
   "source": [
    "density({\"sigma1\": jnp.array([1.0, 1.1]), \"sigma2\": jnp.array([3.0, 3.2])})"
   ]
  }
 ],
 "metadata": {
  "kernelspec": {
   "display_name": "polarimetry",
   "language": "python",
   "name": "python3"
  },
  "language_info": {
   "codemirror_mode": {
    "name": "ipython",
    "version": 3
   },
   "file_extension": ".py",
   "mimetype": "text/x-python",
   "name": "python",
   "nbconvert_exporter": "python",
   "pygments_lexer": "ipython3",
   "version": "3.8.13"
  }
 },
 "nbformat": 4,
 "nbformat_minor": 2
}
