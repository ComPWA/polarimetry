{
 "cells": [
  {
   "cell_type": "markdown",
   "metadata": {},
   "source": [
    "# Dynamics lineshapes"
   ]
  },
  {
   "cell_type": "code",
   "execution_count": null,
   "metadata": {
    "jupyter": {
     "source_hidden": true
    },
    "tags": [
     "hide-cell",
     "scroll-input"
    ]
   },
   "outputs": [],
   "source": [
    "from __future__ import annotations\n",
    "\n",
    "import sympy as sp\n",
    "from ampform.sympy import UnevaluatedExpression\n",
    "from IPython.display import Math, display\n",
    "\n",
    "from polarization.dynamics import (\n",
    "    BlattWeisskopf,\n",
    "    BuggBreitWigner,\n",
    "    EnergyDependentWidth,\n",
    "    FlattéSWave,\n",
    "    Källén,\n",
    "    P,\n",
    "    Q,\n",
    "    RelativisticBreitWigner,\n",
    ")\n",
    "from polarization.io import as_latex\n",
    "\n",
    "\n",
    "def display_latex(obj) -> None:\n",
    "    latex = as_latex(obj)\n",
    "    display(Math(latex))\n",
    "\n",
    "\n",
    "def display_doit(expr: UnevaluatedExpression, deep: bool = False) -> None:\n",
    "    latex = as_latex({expr: expr.doit(deep=deep)})\n",
    "    display(Math(latex))"
   ]
  },
  {
   "cell_type": "code",
   "execution_count": null,
   "metadata": {
    "jupyter": {
     "source_hidden": true
    },
    "tags": [
     "hide-input"
    ]
   },
   "outputs": [],
   "source": [
    "z = sp.Symbol(\"z\", positive=True)\n",
    "L = sp.Symbol(\"L\", integer=True, nonnegative=True)\n",
    "display_doit(BlattWeisskopf(z, L))"
   ]
  },
  {
   "cell_type": "code",
   "execution_count": null,
   "metadata": {
    "jupyter": {
     "source_hidden": true
    },
    "tags": [
     "hide-input"
    ]
   },
   "outputs": [],
   "source": [
    "x, y, z = sp.symbols(\"x:z\")\n",
    "display_doit(Källén(x, y, z))"
   ]
  },
  {
   "cell_type": "code",
   "execution_count": null,
   "metadata": {
    "jupyter": {
     "source_hidden": true
    },
    "tags": [
     "hide-input"
    ]
   },
   "outputs": [],
   "source": [
    "s, m0, mi, mj, mk = sp.symbols(\"s m0 m_i:k\", nonnegative=True)\n",
    "display_doit(P(s, mi, mj))\n",
    "display_doit(Q(s, m0, mk))"
   ]
  },
  {
   "cell_type": "code",
   "execution_count": null,
   "metadata": {
    "jupyter": {
     "source_hidden": true
    },
    "tags": [
     "hide-input"
    ]
   },
   "outputs": [],
   "source": [
    "R = sp.Symbol(\"R\")\n",
    "l_R = sp.Symbol(\"l_R\", integer=True, positive=True)\n",
    "m, Γ0, m1, m2 = sp.symbols(\"m Γ0 m1 m2\", nonnegative=True)\n",
    "display_doit(EnergyDependentWidth(s, m, Γ0, m1, m2, l_R, R))"
   ]
  },
  {
   "cell_type": "markdown",
   "metadata": {},
   "source": [
    "## Relativistic Breit-Wigner"
   ]
  },
  {
   "cell_type": "code",
   "execution_count": null,
   "metadata": {
    "jupyter": {
     "source_hidden": true
    },
    "tags": [
     "hide-input"
    ]
   },
   "outputs": [],
   "source": [
    "l_Λc = sp.Symbol(R\"l_{\\Lambda_c}\", integer=True, positive=True)\n",
    "display_doit(RelativisticBreitWigner(s, m, Γ0, m1, m2, l_R, l_Λc, R))"
   ]
  },
  {
   "cell_type": "markdown",
   "metadata": {},
   "source": [
    "## Bugg Breit-Wigner"
   ]
  },
  {
   "cell_type": "code",
   "execution_count": null,
   "metadata": {
    "jupyter": {
     "source_hidden": true
    },
    "tags": [
     "hide-input"
    ]
   },
   "outputs": [],
   "source": [
    "mKπ, m0, Γ0, mK, mπ, γ = sp.symbols(R\"m_{K\\pi} m0 Gamma0 m_K m_pi gamma\")\n",
    "bugg = BuggBreitWigner(mKπ**2, m0, Γ0, mK, mπ, γ)\n",
    "q = P(mKπ**2, mK, mπ)\n",
    "s_A = sp.Symbol(\"s_A\")\n",
    "definitions = {\n",
    "    s_A: mK**2 - mπ**2,\n",
    "    sp.Symbol(R\"\\rho_{K\\pi}\"): 2 * q / mKπ**2,\n",
    "    q: q.evaluate(),\n",
    "}\n",
    "display_latex({bugg: bugg.evaluate().subs({v: k for k, v in definitions.items()})})\n",
    "display_latex(definitions)"
   ]
  },
  {
   "cell_type": "markdown",
   "metadata": {},
   "source": [
    "## Flatté for $S$-waves"
   ]
  },
  {
   "cell_type": "code",
   "execution_count": null,
   "metadata": {
    "jupyter": {
     "source_hidden": true
    },
    "tags": [
     "hide-input"
    ]
   },
   "outputs": [],
   "source": [
    "m1_1, m2_1, m1_2, m2_2 = sp.symbols(\"m1_1 m2_1 m1_2 m2_2\")\n",
    "display_doit(FlattéSWave(s, m, Γ0, (m1_1, m2_1), (m1_2, m2_2)))"
   ]
  }
 ],
 "metadata": {
  "kernelspec": {
   "display_name": "Python 3.8.13 ('polarization')",
   "language": "python",
   "name": "python3"
  },
  "language_info": {
   "codemirror_mode": {
    "name": "ipython",
    "version": 3
   },
   "file_extension": ".py",
   "mimetype": "text/x-python",
   "name": "python",
   "nbconvert_exporter": "python",
   "pygments_lexer": "ipython3",
   "version": "3.8.13"
  }
 },
 "nbformat": 4,
 "nbformat_minor": 4
}
