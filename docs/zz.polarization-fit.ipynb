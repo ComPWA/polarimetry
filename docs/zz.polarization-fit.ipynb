{
 "cells": [
  {
   "cell_type": "markdown",
   "metadata": {
    "tags": []
   },
   "source": [
    "# Determination of polarization\n",
    "\n",
    "::::{only} html\n",
    ":::{margin}\n",
    "This notebook has a `zz.` prefix because it has to be executed _after_ the polarimeter fields are exported in {doc}`/uncertainties`.\n",
    ":::\n",
    "::::\n",
    "\n",
    "```{autolink-concat}\n",
    "```"
   ]
  },
  {
   "cell_type": "code",
   "execution_count": null,
   "metadata": {
    "jupyter": {
     "source_hidden": true
    },
    "mystnb": {
     "code_prompt_show": "Import Python libraries"
    },
    "tags": [
     "hide-cell",
     "scroll-input"
    ]
   },
   "outputs": [],
   "source": [
    "from __future__ import annotations\n",
    "\n",
    "import logging\n",
    "import os\n",
    "from functools import lru_cache\n",
    "from warnings import filterwarnings\n",
    "\n",
    "import iminuit\n",
    "import jax.numpy as jnp\n",
    "import matplotlib.pyplot as plt\n",
    "import numpy as np\n",
    "from IPython.display import Latex, Markdown\n",
    "from scipy.interpolate import interp2d\n",
    "from tensorwaves.interface import DataSample\n",
    "from tqdm.auto import tqdm\n",
    "\n",
    "from polarimetry.data import generate_phasespace_sample\n",
    "from polarimetry.io import import_polarimetry_field, mute_jax_warnings\n",
    "from polarimetry.lhcb import load_model_builder\n",
    "from polarimetry.lhcb.particle import load_particles\n",
    "from polarimetry.plot import use_mpl_latex_fonts\n",
    "\n",
    "filterwarnings(\"ignore\")\n",
    "mute_jax_warnings()\n",
    "logging.getLogger(\"tensorwaves.data\").setLevel(logging.ERROR)\n",
    "\n",
    "NO_TQDM = \"EXECUTE_NB\" in os.environ\n",
    "if NO_TQDM:\n",
    "    logging.getLogger().setLevel(logging.ERROR)\n",
    "    logging.getLogger(\"polarimetry.io\").setLevel(logging.ERROR)"
   ]
  },
  {
   "cell_type": "markdown",
   "metadata": {
    "tags": []
   },
   "source": [
    "Given the aligned polarimeter field $\\vec\\alpha$ and the corresponding intensity distribution $I_0$, the intensity distribution $I$ for a polarized decay can be computed as follows:\n",
    "\n",
    "$$\n",
    "I\\left(\\phi,\\theta,\\chi; \\tau\\right) = I_0(\\tau)\\left(1+\\vec{P} R(\\phi,\\theta,\\chi) \\vec{\\alpha}(\\tau)\\right)\n",
    "$$ (eq:master.intensity)\n",
    "\n",
    "with $R$ the rotation matrix over the decay plane orientation, represented in Euler angles $\\left(\\phi, \\theta, \\chi\\right)$.\n",
    "\n",
    "In this section, we show that it's possible to determine the polarization $\\vec{P}$ from a given intensity distribution $I$ of a $\\lambda_c$&nbsp;decay if we the $\\vec\\alpha$&nbsp;fields and the corresponding $I_0$&nbsp;values of that $\\Lambda_c$&nbsp;decay. We get $\\vec\\alpha$ and $I_0$ by interpolating the grid samples provided from {ref}`uncertainties:Exported distributions` using the method described in {ref}`appendix/serialization:Import and interpolate`.\n",
    "\n",
    "For this study, a phase space sample is uniformly generated over the Dalitz plane variables $\\tau$. The phase space sample is extended with uniform distributions over the decay plane angles $\\left(\\phi, \\theta, \\chi\\right)$, so that the phase space can be used to generate a hit-and-miss toy sample for a polarized intensity distribution."
   ]
  },
  {
   "cell_type": "code",
   "execution_count": null,
   "metadata": {
    "mystnb": {
     "code_prompt_show": "Generate phase space sample"
    },
    "tags": [
     "hide-input"
    ]
   },
   "outputs": [],
   "source": [
    "DECAY = load_model_builder(\n",
    "    \"../data/model-definitions.yaml\",\n",
    "    load_particles(\"../data/particle-definitions.yaml\"),\n",
    "    model_id=0,\n",
    ").decay\n",
    "\n",
    "N_EVENTS = 100_000\n",
    "# Dalitz variables\n",
    "PHSP = generate_phasespace_sample(DECAY, N_EVENTS, seed=0)\n",
    "# Decay plane variables\n",
    "RNG = np.random.default_rng(seed=0)\n",
    "PHSP[\"phi\"] = RNG.uniform(-np.pi, +np.pi, N_EVENTS)\n",
    "PHSP[\"cos_theta\"] = RNG.uniform(-1, +1, N_EVENTS)\n",
    "PHSP[\"chi\"] = RNG.uniform(-np.pi, +np.pi, N_EVENTS)"
   ]
  },
  {
   "cell_type": "markdown",
   "metadata": {},
   "source": [
    "We now generate an intensity distribution over the phase space sample given a certain[^1] value for $\\vec{P}$ using Eq.&nbsp;{eq}`eq:master.intensity` and by interpolating the $\\vec\\alpha$ and $I_0$ fields with the grid samples for the nominal model.\n",
    "\n",
    "[^1]: See [p.&nbsp;18](https://arxiv.org/pdf/2208.03262.pdf#page=20) of _Amplitude analysis of the $\\Lambda^+_c \\to p K^- \\pi^+$ decay and $\\Lambda^+_c$ baryon polarization measurement in semileptonic beauty hadron decays_ (2022) [[link]](https://inspirehep.net/literature/2132745)"
   ]
  },
  {
   "cell_type": "code",
   "execution_count": null,
   "metadata": {
    "jupyter": {
     "source_hidden": true
    },
    "mystnb": {
     "code_prompt_show": "Code for interpolating α and I₀"
    },
    "tags": [
     "hide-input"
    ]
   },
   "outputs": [],
   "source": [
    "def interpolate_intensity(phsp: DataSample, model_id: int) -> jnp.ndarray:\n",
    "    x = PHSP[\"sigma1\"]\n",
    "    y = PHSP[\"sigma2\"]\n",
    "    return jnp.array(create_interpolated_function(model_id, \"intensity\")(x, y))\n",
    "\n",
    "\n",
    "def interpolate_polarimetry_field(phsp: DataSample, model_id: int) -> jnp.ndarray:\n",
    "    x = PHSP[\"sigma1\"]\n",
    "    y = PHSP[\"sigma2\"]\n",
    "    return jnp.array(\n",
    "        [create_interpolated_function(model_id, f\"alpha_{i}\")(x, y) for i in \"xyz\"]\n",
    "    )\n",
    "\n",
    "\n",
    "@lru_cache(maxsize=0)\n",
    "def create_interpolated_function(model_id: int, variable: str):\n",
    "    field_file = f\"_static/export/polarimetry-field-model-{model_id}.json\"\n",
    "    field_data = import_polarimetry_field(field_file)\n",
    "    interpolated_func = interp2d(\n",
    "        x=field_data[\"m^2_Kpi\"],\n",
    "        y=field_data[\"m^2_pK\"],\n",
    "        z=np.nan_to_num(field_data[variable]),\n",
    "        kind=\"linear\",\n",
    "    )\n",
    "    return np.vectorize(interpolated_func)"
   ]
  },
  {
   "cell_type": "code",
   "execution_count": null,
   "metadata": {
    "jupyter": {
     "source_hidden": true
    },
    "mystnb": {
     "code_prompt_show": "Code for computing polarized intensity"
    },
    "tags": [
     "scroll-input",
     "hide-input"
    ]
   },
   "outputs": [],
   "source": [
    "def compute_polarized_intensity(\n",
    "    Px: float,\n",
    "    Py: float,\n",
    "    Pz: float,\n",
    "    I0: jnp.ndarray,\n",
    "    alpha: jnp.ndarray,\n",
    "    phsp: DataSample,\n",
    ") -> jnp.array:\n",
    "    P = jnp.array([Px, Py, Pz])\n",
    "    R = compute_rotation_matrix(phsp)\n",
    "    return I0 * (1 + jnp.einsum(\"i,ij...,j...->...\", P, R, alpha))\n",
    "\n",
    "\n",
    "def compute_rotation_matrix(phsp: DataSample) -> jnp.ndarray:\n",
    "    ϕ = phsp[\"phi\"]\n",
    "    θ = jnp.arccos(phsp[\"cos_theta\"])\n",
    "    χ = phsp[\"chi\"]\n",
    "    return jnp.einsum(\"ki...,ij...,j...->k...\", Rz(ϕ), Ry(θ), Rz(χ))\n",
    "\n",
    "\n",
    "def Rz(angle: jnp.ndarray) -> jnp.ndarray:\n",
    "    n_events = len(angle)\n",
    "    ones = jnp.ones(n_events)\n",
    "    zeros = jnp.zeros(n_events)\n",
    "    return jnp.array(\n",
    "        [\n",
    "            [+jnp.cos(angle), -jnp.sin(angle), zeros],\n",
    "            [+jnp.sin(angle), +jnp.cos(angle), zeros],\n",
    "            [zeros, zeros, ones],\n",
    "        ]\n",
    "    )\n",
    "\n",
    "\n",
    "def Ry(angle: jnp.ndarray) -> jnp.ndarray:\n",
    "    n_events = len(angle)\n",
    "    ones = jnp.ones(n_events)\n",
    "    zeros = jnp.zeros(n_events)\n",
    "    return jnp.array(\n",
    "        [\n",
    "            [+jnp.cos(angle), zeros, +jnp.sin(angle)],\n",
    "            [zeros, ones, zeros],\n",
    "            [-jnp.sin(angle), zeros, +jnp.cos(angle)],\n",
    "        ]\n",
    "    )"
   ]
  },
  {
   "cell_type": "code",
   "execution_count": null,
   "metadata": {
    "tags": []
   },
   "outputs": [],
   "source": [
    "P = (+0.2165, +0.0108, -0.665)\n",
    "I = compute_polarized_intensity(\n",
    "    *P,\n",
    "    I0=interpolate_intensity(PHSP, model_id=0),\n",
    "    alpha=interpolate_polarimetry_field(PHSP, model_id=0),\n",
    "    phsp=PHSP,\n",
    ")\n",
    "I /= jnp.mean(I)  # normalized times N for log likelihood"
   ]
  },
  {
   "cell_type": "code",
   "execution_count": null,
   "metadata": {
    "jupyter": {
     "source_hidden": true
    },
    "tags": [
     "hide-input",
     "full-width"
    ]
   },
   "outputs": [],
   "source": [
    "plt.rc(\"font\", size=18)\n",
    "use_mpl_latex_fonts()\n",
    "\n",
    "fig, axes = plt.subplots(figsize=(15, 4), ncols=3)\n",
    "fig.tight_layout()\n",
    "for ax in axes:\n",
    "    ax.set_yticks([])\n",
    "axes[0].hist(PHSP[\"phi\"], weights=I, bins=80)\n",
    "axes[1].hist(PHSP[\"cos_theta\"], weights=I, bins=80)\n",
    "axes[2].hist(PHSP[\"chi\"], weights=I, bins=80)\n",
    "axes[0].set_xlabel(R\"$\\phi$\")\n",
    "axes[1].set_xlabel(R\"$\\cos\\theta$\")\n",
    "axes[2].set_xlabel(R\"$\\chi$\")\n",
    "plt.show()\n",
    "\n",
    "fig, ax = plt.subplots(figsize=(12, 3))\n",
    "ax.hist2d(PHSP[\"sigma2\"], PHSP[\"sigma1\"], weights=I, bins=100, cmin=1)\n",
    "ax.set_xlabel(R\"$\\sigma_2$\")\n",
    "ax.set_ylabel(R\"$\\sigma_1$\")\n",
    "ax.set_aspect(\"equal\")\n",
    "plt.show()"
   ]
  },
  {
   "cell_type": "markdown",
   "metadata": {},
   "source": [
    "The generated distribution is now assumed to be a _measured distribution_&nbsp;$I$ with unknown polarization&nbsp;$\\vec{P}$. It is shown below that the actual $\\vec{P}$ with which the distribution was generated can be found by performing a fit on Eq.&nbsp;{eq}`eq:master.intensity`. This is done with [`iminuit`](https://iminuit.rtfd.io), starting with a certain 'guessed' value for $\\vec{P}$ as initial parameters.\n",
    "\n",
    "To avoid having to generate a hit-and-miss intensity test distribution, the parameters $\\vec{P} = \\left(P_x, P_y, P_z\\right)$ are optimized with regard to a **weighted negative log likelihood estimator**:\n",
    "\n",
    "$$\n",
    "\\mathrm{NLL} = -\\sum_i w_i \\log I_{i,\\vec{P}}\\left(\\phi,\\theta,\\chi;\\tau\\right)\\,.\n",
    "$$ (eq:weighted-nll)\n",
    "\n",
    "with the normalized intensities of the generated distribution taken as weights:\n",
    "\n",
    "$$\n",
    "w_i = n\\,I_i\\,\\big/\\,\\sum_j^n I_j\\,,\n",
    "$$ (eq:intensity-as-nll-weight)\n",
    "\n",
    "such that $\\sum w_i = n$. To propagate uncertainties, a fit is performed using the exported grids of each alternative model."
   ]
  },
  {
   "cell_type": "code",
   "execution_count": null,
   "metadata": {},
   "outputs": [],
   "source": [
    "P_guess = (+0.3, -0.3, +0.4)"
   ]
  },
  {
   "cell_type": "code",
   "execution_count": null,
   "metadata": {
    "mystnb": {
     "code_prompt_show": "Fit polarization to generated distribution"
    },
    "tags": [
     "hide-input"
    ]
   },
   "outputs": [],
   "source": [
    "def perform_fit(phsp: DataSample, model_id: int) -> iminuit.Minuit:\n",
    "    I0 = interpolate_intensity(phsp, model_id)\n",
    "    alpha = interpolate_polarimetry_field(phsp, model_id)\n",
    "\n",
    "    def weighted_nll(Px: float, Py: float, Pz: float) -> float:\n",
    "        I_new = compute_polarized_intensity(Px, Py, Pz, I0, alpha, phsp)\n",
    "        I_new /= jnp.sum(I_new)\n",
    "        estimator_value = -jnp.sum(jnp.log(I_new) * I)\n",
    "        return estimator_value\n",
    "\n",
    "    optimizer = iminuit.Minuit(weighted_nll, *P_guess)\n",
    "    optimizer.errordef = optimizer.LIKELIHOOD\n",
    "    return optimizer.migrad()\n",
    "\n",
    "\n",
    "FIT_RESULTS = [\n",
    "    perform_fit(PHSP, i)\n",
    "    for i in tqdm(range(17), desc=\"Performing fits\", disable=NO_TQDM)\n",
    "]"
   ]
  },
  {
   "cell_type": "code",
   "execution_count": null,
   "metadata": {
    "jupyter": {
     "source_hidden": true
    },
    "mystnb": {
     "code_prompt_show": "Show Minuit fit result for nominal model"
    },
    "tags": [
     "hide-cell"
    ]
   },
   "outputs": [],
   "source": [
    "FIT_RESULTS[0]"
   ]
  },
  {
   "cell_type": "code",
   "execution_count": null,
   "metadata": {
    "jupyter": {
     "source_hidden": true
    },
    "tags": [
     "scroll-input",
     "hide-input"
    ]
   },
   "outputs": [],
   "source": [
    "P_fit_values = 100 * np.array([[p.value for p in fit.params] for fit in FIT_RESULTS])\n",
    "P_fit_nominal = P_fit_values[0]\n",
    "P_max = (P_fit_values[1:] - P_fit_nominal).max(axis=0)\n",
    "P_min = (P_fit_values[1:] - P_fit_nominal).min(axis=0)\n",
    "np.testing.assert_array_almost_equal(P_fit_nominal, 100 * np.array(P), decimal=2)\n",
    "\n",
    "\n",
    "def render_p(i: int) -> str:\n",
    "    return f\"{P_fit_nominal[i]:+.2f}_{{{P_min[i]:+.2f}}}^{{{P_max[i]:+.2f}}}\"\n",
    "\n",
    "\n",
    "src = Rf\"\"\"\n",
    "The polarization $\\vec{{P}}$ is determined to be (in %):\n",
    "\n",
    "$$\n",
    "\\begin{{array}}{{ccc}}\n",
    "P_x &=& {render_p(0)} \\\\\n",
    "P_y &=& {render_p(1)} \\\\\n",
    "P_z &=& {render_p(2)} \\\\\n",
    "\\end{{array}}\n",
    "$$\n",
    "\n",
    "with the upper and lower sign being the systematic extrema uncertainties as determined by\n",
    "the alternative models.\n",
    "\"\"\"\n",
    "Markdown(src)"
   ]
  },
  {
   "cell_type": "markdown",
   "metadata": {},
   "source": [
    "This is to be compared with the model uncertainties reported by [^1]:\n",
    "\n",
    "$$\n",
    "\\begin{array}{ccc}\n",
    "P_x &=& +21.65 \\pm 0.36 \\\\\n",
    "P_y &=&  +1.08 \\pm 0.09 \\\\\n",
    "P_z &=& -66.5 \\pm 1.1. \\\\\n",
    "\\end{array}\n",
    "$$\n",
    "\n",
    "The polarimeter values for each model are (in %):"
   ]
  },
  {
   "cell_type": "code",
   "execution_count": null,
   "metadata": {
    "jupyter": {
     "source_hidden": true
    },
    "tags": [
     "hide-input"
    ]
   },
   "outputs": [],
   "source": [
    "src = R\"\"\"\n",
    "\\begin{array}{r|ccc|ccc}\n",
    "  \\textbf{Model} & \\mathbf{P_x} & \\mathbf{P_y} & \\mathbf{P_z}\n",
    "  & \\mathbf{\\Delta P_x} & \\mathbf{\\Delta P_y} & \\mathbf{\\Delta P_z} \\\\\n",
    "  \\hline\n",
    "\"\"\"\n",
    "Px_nom, Py_nom, Pz_nom = P_fit_nominal\n",
    "for i, (Px, Py, Pz) in enumerate(P_fit_values):\n",
    "    src += Rf\"  \\textbf{{{i}}} & {Px:+.2f} & {Py:+.2f} & {Pz:+.1f} & \"\n",
    "    if i != 0:\n",
    "        src += Rf\"{Px-Px_nom:+.2f} & {Py-Py_nom:+.2f} & {Pz-Pz_nom:+.2f}\"\n",
    "    src += R\" \\\\\" \"\\n\"\n",
    "    del Px, Py, Pz\n",
    "del Px_nom, Py_nom, Pz_nom\n",
    "src += R\"\\end{array}\"\n",
    "Latex(src)"
   ]
  }
 ],
 "metadata": {
  "kernelspec": {
   "display_name": "Python 3 (ipykernel)",
   "language": "python",
   "name": "python3"
  },
  "language_info": {
   "codemirror_mode": {
    "name": "ipython",
    "version": 3
   },
   "file_extension": ".py",
   "mimetype": "text/x-python",
   "name": "python",
   "nbconvert_exporter": "python",
   "pygments_lexer": "ipython3",
   "version": "3.8.13"
  },
  "myst": {
   "all_links_external": true
  }
 },
 "nbformat": 4,
 "nbformat_minor": 4
}
