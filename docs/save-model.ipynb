{
 "cells": [
  {
   "cell_type": "markdown",
   "metadata": {
    "tags": []
   },
   "source": [
    "# Intensity distribution"
   ]
  },
  {
   "cell_type": "markdown",
   "metadata": {},
   "source": [
    "```{autolink-concat}\n",
    "```"
   ]
  },
  {
   "cell_type": "code",
   "execution_count": null,
   "metadata": {
    "jupyter": {
     "source_hidden": true
    },
    "mystnb": {
     "code_prompt_show": "Import Python libraries"
    },
    "tags": [
     "hide-cell",
     "scroll-input"
    ]
   },
   "outputs": [],
   "source": [
    "from __future__ import annotations\n",
    "\n",
    "import os \n",
    "import cloudpickle\n",
    "\n",
    "import sympy as sp\n",
    "\n",
    "from polarimetry.io import (\n",
    "    mute_jax_warnings,\n",
    "    perform_cached_doit,\n",
    ")\n",
    "from polarimetry.lhcb import load_model\n",
    "from polarimetry.lhcb.particle import load_particles\n",
    "\n",
    "mute_jax_warnings()\n",
    "particles = load_particles(\"../data/particle-definitions.yaml\")\n",
    "model = load_model(\"../data/model-definitions.yaml\", particles, model_id=0)"
   ]
  },
  {
   "cell_type": "code",
   "execution_count": null,
   "metadata": {
    "tags": []
   },
   "outputs": [],
   "source": [
    "unfolded_intensity_expr = perform_cached_doit(model.full_expression)"
   ]
  },
  {
   "cell_type": "markdown",
   "metadata": {},
   "source": [
    "## Definition of free parameters"
   ]
  },
  {
   "cell_type": "code",
   "execution_count": null,
   "metadata": {
    "jupyter": {
     "source_hidden": true
    },
    "tags": []
   },
   "outputs": [],
   "source": [
    "free_parameters = {\n",
    "    symbol: value\n",
    "    for symbol, value in model.parameter_defaults.items()\n",
    "    if isinstance(symbol, sp.Indexed)\n",
    "    if \"production\" in str(symbol)\n",
    "}\n",
    "fixed_parameters = {\n",
    "    symbol: value\n",
    "    for symbol, value in model.parameter_defaults.items()\n",
    "    if symbol not in free_parameters\n",
    "}\n",
    "subs_intensity_expr = unfolded_intensity_expr.xreplace(fixed_parameters)"
   ]
  },
  {
   "cell_type": "code",
   "execution_count": null,
   "metadata": {},
   "outputs": [],
   "source": [
    "def sigma3via12() :\n",
    "    s1, s2, s3 = sp.symbols(\"sigma1:4\", nonnegative=True)\n",
    "    m1, m2, m3 = sp.symbols(\"m1:4\", nonnegative=True)\n",
    "    m0 = sp.Symbol(\"m0\", nonnegative=True)\n",
    "\n",
    "    return {s3: m1**2+m2**2+m3**2+m0**2-s1-s2}"
   ]
  },
  {
   "cell_type": "code",
   "execution_count": null,
   "metadata": {},
   "outputs": [],
   "source": [
    "dict_forms = {\n",
    "    \"intensity\" : unfolded_intensity_expr,\n",
    "    \"variables\" : {k: v.doit() for (k, v) in model.variables.items()},\n",
    "    \"parameter_defaults\" : model.parameter_defaults,\n",
    "    \"sigma3\" : sigma3via12(),\n",
    "    \"Hproduction\" : free_parameters,\n",
    "}"
   ]
  },
  {
   "cell_type": "code",
   "execution_count": null,
   "metadata": {},
   "outputs": [],
   "source": [
    "docs_dir = os.getcwd()\n",
    "filename = f\"{docs_dir}/.sympy-cache-default-model.pkl\""
   ]
  },
  {
   "cell_type": "code",
   "execution_count": null,
   "metadata": {},
   "outputs": [],
   "source": [
    "with open(filename, \"wb\") as f:\n",
    "    cloudpickle.dump(dict_forms, f)"
   ]
  },
  {
   "cell_type": "code",
   "execution_count": null,
   "metadata": {},
   "outputs": [],
   "source": []
  }
 ],
 "metadata": {
  "kernelspec": {
   "display_name": "polarimetry",
   "language": "python",
   "name": "python3"
  },
  "language_info": {
   "codemirror_mode": {
    "name": "ipython",
    "version": 3
   },
   "file_extension": ".py",
   "mimetype": "text/x-python",
   "name": "python",
   "nbconvert_exporter": "python",
   "pygments_lexer": "ipython3",
   "version": "3.8.13"
  },
  "myst": {
   "all_links_external": true
  },
  "vscode": {
   "interpreter": {
    "hash": "5b5f81d4c685eece33b70a468de0de4084a52075b207f568e66be1111b8c7c6e"
   }
  }
 },
 "nbformat": 4,
 "nbformat_minor": 4
}
