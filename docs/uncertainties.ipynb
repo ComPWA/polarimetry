{
 "cells": [
  {
   "cell_type": "markdown",
   "metadata": {},
   "source": [
    "# Uncertainties"
   ]
  },
  {
   "cell_type": "markdown",
   "metadata": {},
   "source": [
    "```{autolink-concat}\n",
    "```"
   ]
  },
  {
   "cell_type": "code",
   "execution_count": null,
   "metadata": {
    "jupyter": {
     "source_hidden": true
    },
    "tags": [
     "hide-cell",
     "scroll-input"
    ]
   },
   "outputs": [],
   "source": [
    "from __future__ import annotations\n",
    "\n",
    "from collections import defaultdict\n",
    "\n",
    "import jax.numpy as jnp\n",
    "import matplotlib.pyplot as plt\n",
    "import pandas as pd\n",
    "import sympy as sp\n",
    "from IPython.display import Latex, Markdown\n",
    "from matplotlib import cm\n",
    "from tensorwaves.function import ParametrizedBackendFunction\n",
    "from tensorwaves.function.sympy import create_parametrized_function\n",
    "from tqdm.auto import tqdm\n",
    "\n",
    "from polarization import formulate_polarization\n",
    "from polarization.amplitude import AmplitudeModel\n",
    "from polarization.data import create_data_transformer, generate_meshgrid_sample\n",
    "from polarization.function import integrate_intensity, sub_intensity\n",
    "from polarization.io import mute_jax_warnings, perform_cached_doit\n",
    "from polarization.lhcb import (\n",
    "    ParameterBootstrap,\n",
    "    load_model_builder,\n",
    "    load_model_parameters,\n",
    ")\n",
    "from polarization.lhcb.particle import load_particles\n",
    "from polarization.plot import use_mpl_latex_fonts\n",
    "\n",
    "mute_jax_warnings()\n",
    "FUNCTION_CACHE: dict[sp.Expr, ParametrizedBackendFunction] = {}"
   ]
  },
  {
   "cell_type": "markdown",
   "metadata": {
    "tags": []
   },
   "source": [
    "## Model loading"
   ]
  },
  {
   "cell_type": "code",
   "execution_count": null,
   "metadata": {
    "tags": [
     "full-width"
    ]
   },
   "outputs": [],
   "source": [
    "# fmt: off\n",
    "allowed_model_titles = [\n",
    "    \"Default amplitude model\",\n",
    "    \"Alternative amplitude model with K(892) with free mass and width\",\n",
    "    \"Alternative amplitude model with L(1670) with free mass and width\",\n",
    "    \"Alternative amplitude model with L(1690) with free mass and width\",\n",
    "    \"Alternative amplitude model with D(1232) with free mass and width\",\n",
    "    \"Alternative amplitude model with L(1600), D(1600), D(1700) with free mass and width\",\n",
    "    \"Alternative amplitude model with K(700) with free mass and width\",\n",
    "    \"Alternative amplitude model with K(1430) with free width\",\n",
    "    \"Alternative amplitude model with free radial parameter d for the Lc resonance, indicated as dLc\",\n",
    "]\n",
    "# fmt: on"
   ]
  },
  {
   "cell_type": "code",
   "execution_count": null,
   "metadata": {},
   "outputs": [],
   "source": [
    "model_file = \"../data/model-definitions.yaml\"\n",
    "particles = load_particles(\"../data/particle-definitions.yaml\")\n",
    "reference_subsystem = 1\n",
    "\n",
    "models = {}\n",
    "progress_bar = tqdm(desc=\"Formulating models\", total=len(allowed_model_titles))\n",
    "for title in allowed_model_titles:\n",
    "    progress_bar.set_postfix_str(title)\n",
    "    amplitude_builder = load_model_builder(model_file, particles, model_id=title)\n",
    "    model = amplitude_builder.formulate(reference_subsystem)\n",
    "    imported_parameter_values = load_model_parameters(model_file, model.decay, title)\n",
    "    model.parameter_defaults.update(imported_parameter_values)\n",
    "    models[title] = model\n",
    "    progress_bar.update()\n",
    "progress_bar.set_postfix_str(\"\")\n",
    "progress_bar.close()"
   ]
  },
  {
   "cell_type": "code",
   "execution_count": null,
   "metadata": {},
   "outputs": [],
   "source": [
    "unfolded_exprs = {}\n",
    "progress_bar = tqdm(desc=\"Unfolding expressions\", total=len(models))\n",
    "for title, model in models.items():\n",
    "    progress_bar.set_postfix_str(title)\n",
    "    polarization_exprs = formulate_polarization(\n",
    "        amplitude_builder, reference_subsystem\n",
    "    )\n",
    "    unfolded_exprs[title] = {\n",
    "        f\"alpha_{i}\": perform_cached_doit(expr.doit().xreplace(model.amplitudes))\n",
    "        for i, expr in zip(\"xyz\", polarization_exprs)\n",
    "    }\n",
    "    unfolded_exprs[title][\"intensity\"] = perform_cached_doit(model.full_expression)\n",
    "    progress_bar.update()\n",
    "progress_bar.set_postfix_str(\"\")\n",
    "progress_bar.close()"
   ]
  },
  {
   "cell_type": "code",
   "execution_count": null,
   "metadata": {
    "jupyter": {
     "source_hidden": true
    },
    "tags": [
     "remove-input"
    ]
   },
   "outputs": [],
   "source": [
    "unique_model_hashes = {hash(exprs[\"intensity\"]) for exprs in unfolded_exprs.values()}\n",
    "src = f\"\"\"\n",
    "Of the {len(allowed_model_titles)} imported models, there are\n",
    "{len(unique_model_hashes)} with a unique expression tree.\n",
    "\"\"\"\n",
    "Markdown(src)"
   ]
  },
  {
   "cell_type": "markdown",
   "metadata": {},
   "source": [
    "## Numerical function creation"
   ]
  },
  {
   "cell_type": "markdown",
   "metadata": {},
   "source": [
    "This time, we do not {ref}`substitute certain parameters with their parameter defaults<polarization:Definition of free parameters>`, but lambdify the full expression, so that parameter values can be set for different models. Note that this makes lambdification slower. This is mitigated by caching the lambdified function if using the unfolded expression as cache key."
   ]
  },
  {
   "cell_type": "code",
   "execution_count": null,
   "metadata": {
    "tags": []
   },
   "outputs": [],
   "source": [
    "def cached_lambdify(\n",
    "    expr: sp.Expr, model: AmplitudeModel\n",
    ") -> ParametrizedBackendFunction:\n",
    "    func = FUNCTION_CACHE.get(expr)\n",
    "    if func is None:\n",
    "        func = create_parametrized_function(\n",
    "            expr,\n",
    "            parameters=model.parameter_defaults,\n",
    "            backend=\"jax\",\n",
    "        )\n",
    "        FUNCTION_CACHE[expr] = func\n",
    "    str_parameters = {str(k): v for k, v in model.parameter_defaults.items()}\n",
    "    func.update_parameters(str_parameters)\n",
    "    return func\n",
    "\n",
    "\n",
    "jax_functions = {}\n",
    "original_parameters: dict[str, dict[str, complex | float | int]] = {}\n",
    "progress_bar = tqdm(desc=\"Lambdifying to JAX\", total=len(models))\n",
    "for title, model in models.items():\n",
    "    progress_bar.set_postfix_str(title)\n",
    "    jax_functions[title] = {\n",
    "        key: cached_lambdify(expr, model)\n",
    "        for key, expr in tqdm(unfolded_exprs[title].items(), leave=False)\n",
    "    }\n",
    "    original_parameters[title] = dict(jax_functions[title][\"intensity\"].parameters)\n",
    "    progress_bar.update()\n",
    "progress_bar.set_postfix_str(\"\")\n",
    "progress_bar.close()"
   ]
  },
  {
   "cell_type": "markdown",
   "metadata": {},
   "source": [
    "## Statistical uncertainties"
   ]
  },
  {
   "cell_type": "markdown",
   "metadata": {},
   "source": [
    "### Parameter bootstrapping"
   ]
  },
  {
   "cell_type": "code",
   "execution_count": null,
   "metadata": {},
   "outputs": [],
   "source": [
    "n_bootstraps = 200\n",
    "nominal_model_title: str = \"Default amplitude model\"\n",
    "nominal_functions = jax_functions[nominal_model_title]\n",
    "bootstrap = ParameterBootstrap(model_file, model.decay, nominal_model_title)\n",
    "bootstrap_parameters = bootstrap.create_distribution(n_bootstraps, seed=0)"
   ]
  },
  {
   "cell_type": "code",
   "execution_count": null,
   "metadata": {},
   "outputs": [],
   "source": [
    "resolution = 200\n",
    "transformer = create_data_transformer(model)\n",
    "phsp = generate_meshgrid_sample(model.decay, resolution)\n",
    "data = transformer(phsp)\n",
    "X = data[\"sigma1\"]\n",
    "Y = data[\"sigma2\"]"
   ]
  },
  {
   "cell_type": "code",
   "execution_count": null,
   "metadata": {
    "jupyter": {
     "source_hidden": true
    },
    "tags": [
     "hide-input"
    ]
   },
   "outputs": [],
   "source": [
    "resonances = [chain.resonance for chain in model.decay.chains]\n",
    "nominal_parameters = dict(original_parameters[nominal_model_title])\n",
    "stat_grids = defaultdict(list)\n",
    "stat_decay_rates = defaultdict(list)\n",
    "for i in tqdm(\n",
    "    range(n_bootstraps),\n",
    "    desc=\"Computing polarizations and intensities for parameter combinations\",\n",
    "):\n",
    "    new_parameters = {k: v[i] for k, v in bootstrap_parameters.items()}\n",
    "    for key, func in nominal_functions.items():\n",
    "        func.update_parameters(nominal_parameters)\n",
    "        func.update_parameters(new_parameters)\n",
    "        stat_grids[key].append(func(data).real)\n",
    "    I_tot = integrate_intensity(stat_grids[\"intensity\"][-1])\n",
    "    for resonance in resonances:\n",
    "        res_filter = resonance.name.replace(\"(\", R\"\\(\").replace(\")\", R\"\\)\")\n",
    "        I_sub = sub_intensity(nominal_functions[\"intensity\"], data, [res_filter])\n",
    "        stat_decay_rates[resonance.name].append(I_sub / I_tot)"
   ]
  },
  {
   "cell_type": "code",
   "execution_count": null,
   "metadata": {
    "tags": [
     "hide-input"
    ]
   },
   "outputs": [],
   "source": [
    "stat_intensities = jnp.array(stat_grids[\"intensity\"])\n",
    "stat_polarizations = jnp.array([stat_grids[f\"alpha_{i}\"] for i in \"xyz\"])\n",
    "stat_polarization_norms = jnp.sqrt(jnp.sum(stat_polarizations**2, axis=0))\n",
    "stat_decay_rates = {k: jnp.array(v) for k, v in stat_decay_rates.items()}"
   ]
  },
  {
   "cell_type": "markdown",
   "metadata": {},
   "source": [
    "### Mean and standard deviations"
   ]
  },
  {
   "cell_type": "code",
   "execution_count": null,
   "metadata": {},
   "outputs": [],
   "source": [
    "assert stat_intensities.shape == (n_bootstraps, resolution, resolution)\n",
    "assert stat_polarizations.shape == (3, n_bootstraps, resolution, resolution)\n",
    "assert stat_polarization_norms.shape == (n_bootstraps, resolution, resolution)\n",
    "(n_bootstraps, resolution, resolution)"
   ]
  },
  {
   "cell_type": "code",
   "execution_count": null,
   "metadata": {
    "tags": []
   },
   "outputs": [],
   "source": [
    "stat_alpha_mean = [\n",
    "    jnp.mean(stat_polarization_norms, axis=0),\n",
    "    *jnp.mean(stat_polarizations, axis=1),\n",
    "]\n",
    "stat_alpha_std = [\n",
    "    jnp.std(stat_polarization_norms, axis=0),\n",
    "    *jnp.std(stat_polarizations, axis=1),\n",
    "]\n",
    "\n",
    "stat_alpha_times_I_mean = [\n",
    "    jnp.mean(stat_polarization_norms * stat_intensities, axis=0),\n",
    "    *jnp.mean(stat_polarizations * stat_intensities, axis=1),\n",
    "]\n",
    "stat_alpha_times_I_std = [\n",
    "    jnp.std(stat_polarization_norms * stat_intensities, axis=0),\n",
    "    *jnp.std(stat_polarizations * stat_intensities, axis=1),\n",
    "]\n",
    "stat_alpha_times_I_mean = jnp.array(stat_alpha_times_I_mean)\n",
    "stat_alpha_times_I_std = jnp.array(stat_alpha_times_I_std)\n",
    "\n",
    "stat_intensity_mean = jnp.mean(stat_intensities, axis=0)\n",
    "stat_intensity_std = jnp.std(stat_intensities, axis=0)"
   ]
  },
  {
   "cell_type": "markdown",
   "metadata": {},
   "source": [
    "### Distributions"
   ]
  },
  {
   "cell_type": "code",
   "execution_count": null,
   "metadata": {
    "tags": [
     "remove-input"
    ]
   },
   "outputs": [],
   "source": [
    "%config InlineBackend.figure_formats = ['png']"
   ]
  },
  {
   "cell_type": "code",
   "execution_count": null,
   "metadata": {
    "jupyter": {
     "source_hidden": true
    },
    "tags": [
     "hide-input",
     "full-width"
    ]
   },
   "outputs": [],
   "source": [
    "plt.rcdefaults()\n",
    "use_mpl_latex_fonts()\n",
    "plt.rc(\"font\", size=18)\n",
    "fig, axes = plt.subplots(\n",
    "    dpi=200,\n",
    "    figsize=(16.7, 8),\n",
    "    gridspec_kw={\"width_ratios\": [1, 1, 1, 1.18]},\n",
    "    ncols=4,\n",
    "    nrows=2,\n",
    "    sharex=True,\n",
    "    sharey=True,\n",
    ")\n",
    "plt.subplots_adjust(hspace=0.02, wspace=0.02)\n",
    "fig.suptitle(R\"Polarization sensitivity $\\vec\\alpha$ (statistical)\")\n",
    "s1_label = R\"$m^2\\left(K\\pi\\right)$ [GeV$/c^2$]\"\n",
    "s2_label = R\"$m^2\\left(pK\\right)$ [GeV$/c^2$]\"\n",
    "axes[0, 0].set_ylabel(s2_label)\n",
    "axes[1, 0].set_ylabel(s2_label)\n",
    "\n",
    "global_max_std = max(map(jnp.nanmax, stat_alpha_std))\n",
    "for i in range(4):\n",
    "    if i != 0:\n",
    "        title = Rf\"$\\alpha_{'xyz'[i-1]}$\"\n",
    "    else:\n",
    "        title = R\"$\\left|\\vec\\alpha\\right|$\"\n",
    "    axes[0, i].set_title(title)\n",
    "\n",
    "    Z = stat_alpha_mean[i]\n",
    "    mesh = axes[0, i].pcolormesh(X, Y, Z, cmap=cm.RdYlGn_r)\n",
    "    mesh.set_clim(vmin=-1, vmax=+1)\n",
    "    if axes[0, i] is axes[0, -1]:\n",
    "        c_bar = fig.colorbar(mesh, ax=axes[0, i], pad=0.01)\n",
    "        c_bar.ax.set_ylabel(Rf\"$\\alpha$ averaged with {n_bootstraps} bootstraps\")\n",
    "        c_bar.ax.set_yticks([-1, 0, +1])\n",
    "        c_bar.ax.set_yticklabels([\"-1\", \"0\", \"+1\"])\n",
    "\n",
    "    Z = stat_alpha_std[i]\n",
    "    mesh = axes[1, i].pcolormesh(X, Y, Z)\n",
    "    mesh.set_clim(vmin=0, vmax=global_max_std)\n",
    "    axes[1, i].set_xlabel(s1_label)\n",
    "    if axes[1, i] is axes[1, -1]:\n",
    "        c_bar = fig.colorbar(mesh, ax=axes[1, i], pad=0.01)\n",
    "        c_bar.ax.set_ylabel(\"standard deviation\")\n",
    "plt.show()"
   ]
  },
  {
   "cell_type": "code",
   "execution_count": null,
   "metadata": {
    "jupyter": {
     "source_hidden": true
    },
    "tags": [
     "hide-input",
     "full-width"
    ]
   },
   "outputs": [],
   "source": [
    "fig, axes = plt.subplots(\n",
    "    dpi=200,\n",
    "    figsize=(16.7, 8),\n",
    "    gridspec_kw={\"width_ratios\": [1, 1, 1, 1.18]},\n",
    "    ncols=4,\n",
    "    nrows=2,\n",
    "    sharex=True,\n",
    "    sharey=True,\n",
    ")\n",
    "plt.subplots_adjust(hspace=0.02, wspace=0.02)\n",
    "fig.suptitle(R\"$\\vec\\alpha \\cdot I$ distributions (statistical)\")\n",
    "axes[0, 0].set_ylabel(s2_label)\n",
    "axes[1, 0].set_ylabel(s2_label)\n",
    "\n",
    "global_max_mean = jnp.nanmax(jnp.abs(stat_alpha_times_I_mean))\n",
    "global_max_std = jnp.nanmax(stat_alpha_times_I_std / stat_intensity_mean)\n",
    "for i in range(4):\n",
    "    if i != 0:\n",
    "        title = Rf\"$\\alpha_{'xyz'[i-1]}$\"\n",
    "    else:\n",
    "        title = R\"$\\left|\\vec\\alpha\\right|$\"\n",
    "    axes[0, i].set_title(title)\n",
    "    axes[1, i].set_xlabel(s1_label)\n",
    "\n",
    "    Z = stat_alpha_times_I_mean[i]\n",
    "    mesh = axes[0, i].pcolormesh(X, Y, Z, cmap=cm.RdYlGn_r)\n",
    "    mesh.set_clim(vmin=-global_max_mean, vmax=+global_max_mean)\n",
    "    if axes[0, i] is axes[0, -1]:\n",
    "        c_bar = fig.colorbar(mesh, ax=axes[0, i], pad=0.01)\n",
    "        c_bar.ax.set_ylabel(\n",
    "            Rf\"$\\alpha \\cdot I$ averaged with {n_bootstraps} bootstraps\"\n",
    "        )\n",
    "\n",
    "    Z = stat_alpha_times_I_std[i] / stat_intensity_mean\n",
    "    mesh = axes[1, i].pcolormesh(X, Y, Z)\n",
    "    mesh.set_clim(vmin=0, vmax=global_max_std)\n",
    "    if axes[1, i] is axes[1, -1]:\n",
    "        c_bar = fig.colorbar(mesh, ax=axes[1, i], pad=0.01)\n",
    "        c_bar.ax.set_ylabel(\"standard deviation / intensity\")\n",
    "plt.show()"
   ]
  },
  {
   "cell_type": "code",
   "execution_count": null,
   "metadata": {
    "tags": [
     "hide-input",
     "full-width"
    ]
   },
   "outputs": [],
   "source": [
    "fig, (ax1, ax2) = plt.subplots(\n",
    "    dpi=200,\n",
    "    figsize=(12, 6.2),\n",
    "    ncols=2,\n",
    "    sharey=True,\n",
    ")\n",
    "fig.suptitle(\"Intensity distribution (statistical)\", y=0.95)\n",
    "ax1.set_xlabel(s1_label)\n",
    "ax2.set_xlabel(s1_label)\n",
    "ax1.set_ylabel(s2_label)\n",
    "\n",
    "Z = stat_intensity_mean\n",
    "mesh = ax1.pcolormesh(X, Y, Z, cmap=cm.Reds)\n",
    "fig.colorbar(mesh, ax=ax1, pad=0.01)\n",
    "ax1.set_title(f\"average of {n_bootstraps} bootstraps\")\n",
    "\n",
    "Z = stat_intensity_std / stat_intensity_mean\n",
    "mesh = ax2.pcolormesh(X, Y, Z)\n",
    "fig.colorbar(mesh, ax=ax2, pad=0.01)\n",
    "ax2.set_title(\"standard deviation / intensity\")\n",
    "fig.tight_layout()\n",
    "plt.show()"
   ]
  },
  {
   "cell_type": "markdown",
   "metadata": {},
   "source": [
    "### Comparison with nominal values"
   ]
  },
  {
   "cell_type": "code",
   "execution_count": null,
   "metadata": {},
   "outputs": [],
   "source": [
    "for func in nominal_functions.values():\n",
    "    func.update_parameters(nominal_parameters)\n",
    "nominal_intensity = nominal_functions[\"intensity\"](data)\n",
    "nominal_polarizations = jnp.array(\n",
    "    [nominal_functions[f\"alpha_{i}\"](data).real for i in \"xyz\"]\n",
    ")\n",
    "nominal_polarization_norms = jnp.sqrt(jnp.sum(nominal_polarizations**2, axis=0))"
   ]
  },
  {
   "cell_type": "code",
   "execution_count": null,
   "metadata": {
    "jupyter": {
     "source_hidden": true
    },
    "tags": [
     "full-width",
     "hide-input"
    ]
   },
   "outputs": [],
   "source": [
    "fig, axes = plt.subplots(\n",
    "    dpi=200,\n",
    "    figsize=(17.3, 4),\n",
    "    gridspec_kw={\"width_ratios\": [1, 1, 1, 1.2]},\n",
    "    ncols=4,\n",
    "    sharey=True,\n",
    ")\n",
    "plt.subplots_adjust(hspace=0.2, wspace=0.05)\n",
    "fig.suptitle(\"Comparison with nominal values\", y=1.04)\n",
    "axes[0].set_ylabel(s2_label)\n",
    "for ax in axes:\n",
    "    ax.set_xlabel(s1_label)\n",
    "\n",
    "vmax = 5.0  # %\n",
    "for i in range(4):\n",
    "    if i != 0:\n",
    "        title = Rf\"$\\alpha_{'xyz'[i-1]}$\"\n",
    "        z_values = jnp.abs(\n",
    "            (stat_alpha_mean[i] - nominal_polarizations[i - 1])\n",
    "            / nominal_polarizations[i - 1]\n",
    "        )\n",
    "    else:\n",
    "        title = \"$I$\"\n",
    "        z_values = 100 * jnp.abs(\n",
    "            (stat_intensity_mean - nominal_intensity) / nominal_intensity\n",
    "        )\n",
    "    axes[i].set_title(title)\n",
    "\n",
    "    Z = z_values\n",
    "    mesh = axes[i].pcolormesh(X, Y, Z, cmap=cm.Reds)\n",
    "    mesh.set_clim(vmin=0, vmax=vmax)\n",
    "    if axes[i] is axes[-1]:\n",
    "        c_bar = fig.colorbar(mesh, ax=axes[i], pad=0.02)\n",
    "        c_bar.ax.set_ylabel(R\"difference with nominal value (\\%)\")\n",
    "\n",
    "plt.show()"
   ]
  },
  {
   "cell_type": "markdown",
   "metadata": {},
   "source": [
    "## Systematic uncertainties"
   ]
  },
  {
   "cell_type": "code",
   "execution_count": null,
   "metadata": {
    "jupyter": {
     "source_hidden": true
    },
    "tags": [
     "hide-cell"
    ]
   },
   "outputs": [],
   "source": [
    "syst_grids = defaultdict(list)\n",
    "syst_decay_rates = defaultdict(list)\n",
    "progress_bar = tqdm(desc=\"Computing systematics\", total=len(models))\n",
    "for title, model in models.items():\n",
    "    progress_bar.set_postfix_str(title)\n",
    "    for key, func in jax_functions[title].items():\n",
    "        func.update_parameters(original_parameters[title])\n",
    "        syst_grids[key].append(func(data).real)\n",
    "    I_tot = integrate_intensity(syst_grids[\"intensity\"][-1])\n",
    "    intensity_func = jax_functions[title][\"intensity\"]\n",
    "    for resonance in resonances:\n",
    "        res_filter = resonance.name.replace(\"(\", R\"\\(\").replace(\")\", R\"\\)\")\n",
    "        I_sub = sub_intensity(intensity_func, data, [res_filter])\n",
    "        syst_decay_rates[resonance.name].append(I_sub / I_tot)\n",
    "    progress_bar.update()\n",
    "progress_bar.set_postfix_str(\"\")\n",
    "progress_bar.close()"
   ]
  },
  {
   "cell_type": "code",
   "execution_count": null,
   "metadata": {
    "tags": [
     "hide-cell"
    ]
   },
   "outputs": [],
   "source": [
    "syst_intensities = jnp.array(syst_grids[\"intensity\"])\n",
    "syst_polarizations = jnp.array([syst_grids[f\"alpha_{i}\"] for i in \"xyz\"])\n",
    "syst_polarization_norms = jnp.sqrt(jnp.sum(syst_polarizations**2, axis=0))\n",
    "syst_decay_rates = {k: jnp.array(v) for k, v in syst_decay_rates.items()}"
   ]
  },
  {
   "cell_type": "markdown",
   "metadata": {},
   "source": [
    "### Mean and standard deviations"
   ]
  },
  {
   "cell_type": "code",
   "execution_count": null,
   "metadata": {
    "tags": []
   },
   "outputs": [],
   "source": [
    "n_models = len(models)\n",
    "assert syst_intensities.shape == (n_models, resolution, resolution)\n",
    "assert syst_polarizations.shape == (3, n_models, resolution, resolution)\n",
    "assert syst_polarization_norms.shape == (n_models, resolution, resolution)\n",
    "n_models, resolution, resolution"
   ]
  },
  {
   "cell_type": "code",
   "execution_count": null,
   "metadata": {},
   "outputs": [],
   "source": [
    "syst_alpha_mean = [\n",
    "    jnp.mean(syst_polarization_norms, axis=0),\n",
    "    *jnp.mean(syst_polarizations, axis=1),\n",
    "]\n",
    "alpha_diff_with_model_0 = [\n",
    "    syst_polarization_norms - syst_polarization_norms[0],\n",
    "    *(syst_polarizations - syst_polarizations[:, None, 0]),\n",
    "]\n",
    "\n",
    "syst_alpha_mean = jnp.array(syst_alpha_mean)\n",
    "alpha_diff_with_model_0 = jnp.array(alpha_diff_with_model_0)\n",
    "\n",
    "assert alpha_diff_with_model_0.shape == (4, n_models, resolution, resolution)\n",
    "assert jnp.nanmax(alpha_diff_with_model_0[:, 0]) == 0.0\n",
    "alpha_syst_extrema = jnp.abs(alpha_diff_with_model_0).max(axis=1)"
   ]
  },
  {
   "cell_type": "code",
   "execution_count": null,
   "metadata": {},
   "outputs": [],
   "source": [
    "syst_polarizations_times_I = [\n",
    "    syst_polarization_norms * syst_intensities,\n",
    "    *(syst_polarizations * syst_intensities),\n",
    "]\n",
    "syst_polarizations_times_I = jnp.array(syst_polarizations_times_I)\n",
    "\n",
    "\n",
    "syst_alpha_times_I_mean = syst_polarizations_times_I.mean(axis=1)\n",
    "syst_alpha_times_I_diff = (\n",
    "    syst_polarizations_times_I - syst_polarizations_times_I[:, None, 0]\n",
    ")\n",
    "assert syst_alpha_times_I_diff.shape == (4, n_models, resolution, resolution)\n",
    "assert jnp.nanmax(syst_alpha_times_I_diff[:, 0]) == 0.0\n",
    "syst_alpha_times_I_extrema = jnp.abs(syst_alpha_times_I_diff).max(axis=1)"
   ]
  },
  {
   "cell_type": "code",
   "execution_count": null,
   "metadata": {},
   "outputs": [],
   "source": [
    "intensity_diff_with_model_0 = syst_intensities - syst_intensities[0]\n",
    "intensity_extrema = jnp.nanmax(intensity_diff_with_model_0, axis=0)"
   ]
  },
  {
   "cell_type": "markdown",
   "metadata": {},
   "source": [
    "### Distributions"
   ]
  },
  {
   "cell_type": "code",
   "execution_count": null,
   "metadata": {
    "jupyter": {
     "source_hidden": true
    },
    "tags": [
     "hide-input",
     "full-width"
    ]
   },
   "outputs": [],
   "source": [
    "fig, axes = plt.subplots(\n",
    "    dpi=200,\n",
    "    figsize=(16.7, 8),\n",
    "    gridspec_kw={\"width_ratios\": [1, 1, 1, 1.18]},\n",
    "    ncols=4,\n",
    "    nrows=2,\n",
    "    sharex=True,\n",
    "    sharey=True,\n",
    ")\n",
    "plt.subplots_adjust(hspace=0.02, wspace=0.02)\n",
    "fig.suptitle(R\"Polarization sensitivity $\\vec\\alpha$ (systematics)\")\n",
    "axes[0, 0].set_ylabel(s2_label)\n",
    "axes[1, 0].set_ylabel(s2_label)\n",
    "\n",
    "global_max_std = jnp.nanmax(alpha_syst_extrema)\n",
    "for i in range(4):\n",
    "    if i != 0:\n",
    "        title = Rf\"$\\alpha_{'xyz'[i-1]}$\"\n",
    "    else:\n",
    "        title = R\"$\\left|\\vec\\alpha\\right|$\"\n",
    "    axes[0, i].set_title(title)\n",
    "\n",
    "    Z = syst_alpha_mean[i]\n",
    "    mesh = axes[0, i].pcolormesh(X, Y, Z, cmap=cm.RdYlGn_r)\n",
    "    mesh.set_clim(vmin=-1, vmax=+1)\n",
    "    if axes[0, i] is axes[0, -1]:\n",
    "        c_bar = fig.colorbar(mesh, ax=axes[0, i], pad=0.01)\n",
    "        c_bar.ax.set_ylabel(Rf\"$\\alpha$ averaged with {n_models} models\")\n",
    "        c_bar.ax.set_yticks([-1, 0, +1])\n",
    "        c_bar.ax.set_yticklabels([\"-1\", \"0\", \"+1\"])\n",
    "\n",
    "    Z = alpha_syst_extrema[i]\n",
    "    mesh = axes[1, i].pcolormesh(X, Y, Z)\n",
    "    mesh.set_clim(vmin=0, vmax=global_max_std)\n",
    "    axes[1, i].set_xlabel(s1_label)\n",
    "    if axes[1, i] is axes[1, -1]:\n",
    "        c_bar = fig.colorbar(mesh, ax=axes[1, i], pad=0.01)\n",
    "        c_bar.ax.set_ylabel(\"maximum absolute difference\\nwith the default model\")\n",
    "plt.show()"
   ]
  },
  {
   "cell_type": "code",
   "execution_count": null,
   "metadata": {
    "jupyter": {
     "source_hidden": true
    },
    "tags": [
     "hide-input",
     "full-width"
    ]
   },
   "outputs": [],
   "source": [
    "fig, axes = plt.subplots(\n",
    "    dpi=200,\n",
    "    figsize=(16.7, 8),\n",
    "    gridspec_kw={\"width_ratios\": [1, 1, 1, 1.18]},\n",
    "    ncols=4,\n",
    "    nrows=2,\n",
    "    sharex=True,\n",
    "    sharey=True,\n",
    ")\n",
    "plt.subplots_adjust(hspace=0.02, wspace=0.02)\n",
    "axes[0, 0].set_ylabel(s2_label)\n",
    "axes[1, 0].set_ylabel(s2_label)\n",
    "\n",
    "syst_intensity_mean = jnp.mean(syst_intensities, axis=0)\n",
    "global_max_mean = jnp.nanmax(jnp.abs(syst_alpha_times_I_mean))\n",
    "global_max_diff = jnp.nanmax(syst_alpha_times_I_extrema / syst_intensity_mean)\n",
    "for i in range(4):\n",
    "    if i != 0:\n",
    "        title = Rf\"$\\alpha_{'xyz'[i-1]}$\"\n",
    "    else:\n",
    "        title = R\"$\\left|\\vec\\alpha\\right|$\"\n",
    "    axes[0, i].set_title(title)\n",
    "    axes[1, i].set_xlabel(s1_label)\n",
    "\n",
    "    Z = syst_alpha_times_I_mean[i]\n",
    "    mesh = axes[0, i].pcolormesh(X, Y, Z, cmap=cm.RdYlGn_r)\n",
    "    mesh.set_clim(vmin=-global_max_mean, vmax=+global_max_mean)\n",
    "    if axes[0, i] is axes[0, -1]:\n",
    "        c_bar = fig.colorbar(mesh, ax=axes[0, i], pad=0.01)\n",
    "        c_bar.ax.set_ylabel(Rf\"$\\alpha \\cdot I$ averaged with {n_models} models\")\n",
    "\n",
    "    Z = syst_alpha_times_I_extrema[i] / syst_intensity_mean\n",
    "    mesh = axes[1, i].pcolormesh(X, Y, Z)\n",
    "    mesh.set_clim(vmin=0, vmax=global_max_diff)\n",
    "    if axes[1, i] is axes[1, -1]:\n",
    "        c_bar = fig.colorbar(mesh, ax=axes[1, i], pad=0.01)\n",
    "        c_bar.ax.set_ylabel(\n",
    "            \"maximum absolute difference\\n\"\n",
    "            \"with the default model\\n\"\n",
    "            \"divided by nominal intensity\"\n",
    "        )\n",
    "plt.show()"
   ]
  },
  {
   "cell_type": "code",
   "execution_count": null,
   "metadata": {
    "jupyter": {
     "source_hidden": true
    },
    "tags": [
     "hide-input",
     "full-width"
    ]
   },
   "outputs": [],
   "source": [
    "fig, (ax1, ax2) = plt.subplots(\n",
    "    dpi=200,\n",
    "    figsize=(12, 6.9),\n",
    "    ncols=2,\n",
    "    sharey=True,\n",
    ")\n",
    "fig.suptitle(\"Intensity distribution (systematics)\", y=0.95)\n",
    "ax1.set_xlabel(s1_label)\n",
    "ax2.set_xlabel(s1_label)\n",
    "ax1.set_ylabel(s2_label)\n",
    "\n",
    "Z = syst_intensity_mean\n",
    "mesh = ax1.pcolormesh(X, Y, Z, cmap=cm.Reds)\n",
    "fig.colorbar(mesh, ax=ax1, pad=0.01)\n",
    "ax1.set_title(f\"average of {n_models} models\")\n",
    "\n",
    "Z = intensity_extrema / syst_intensity_mean\n",
    "mesh = ax2.pcolormesh(X, Y, Z)\n",
    "fig.colorbar(mesh, ax=ax2, pad=0.01)\n",
    "ax2.set_title(\"maximum absolute difference\\n\" R\"with the default model (\\%)\")\n",
    "fig.tight_layout()\n",
    "plt.show()"
   ]
  },
  {
   "cell_type": "markdown",
   "metadata": {},
   "source": [
    "## Fit fractions"
   ]
  },
  {
   "cell_type": "code",
   "execution_count": null,
   "metadata": {
    "jupyter": {
     "source_hidden": true
    },
    "tags": [
     "hide-input"
    ]
   },
   "outputs": [],
   "source": [
    "src = r\"\"\"\n",
    "| Resonance | Fit Fraction (%) |\n",
    "|----------:|:-----------------|\n",
    "\"\"\"\n",
    "for resonance in resonances:\n",
    "    ff_statistical = 100 * stat_decay_rates[resonance.name]\n",
    "    ff_systematics = 100 * syst_decay_rates[resonance.name]\n",
    "    ff_nominal = f\"{ff_systematics[0]:.2f}\"\n",
    "    ff_stat = f\"{ff_statistical.std():.2f}\"\n",
    "    ff_syst_min = f\"{(ff_systematics[1:]-ff_systematics[0]).min():+.2f}\"\n",
    "    ff_syst_max = f\"{(ff_systematics[1:]-ff_systematics[0]).max():+.2f}\"\n",
    "    src += f\"| ${resonance.latex}$ | \"\n",
    "    src += (\n",
    "        Rf\"${ff_nominal} \\pm {ff_stat}_{{{ff_syst_min}}}^{{{ff_syst_max}}}$ |\" \"\\n\"\n",
    "    )\n",
    "Markdown(src)"
   ]
  },
  {
   "cell_type": "code",
   "execution_count": null,
   "metadata": {
    "jupyter": {
     "source_hidden": true
    },
    "tags": [
     "hide-input",
     "full-width"
    ]
   },
   "outputs": [],
   "source": [
    "src = \"|   |\"\n",
    "for i, _ in enumerate(models):\n",
    "    if i == 0:\n",
    "        continue\n",
    "    src += f\" {i} |\"\n",
    "src += \"\\n\"\n",
    "for _ in models:\n",
    "    src += \"|:---:\"\n",
    "src += \"| \\n\"\n",
    "\n",
    "for resonance in resonances:\n",
    "    ff_systematics = 100 * syst_decay_rates[resonance.name]\n",
    "    src += f\"| ${resonance.latex}$ | \"\n",
    "    for ff_model in ff_systematics[1:]:\n",
    "        diff = f\"{ff_model-ff_systematics[0]:+.2f}\"\n",
    "        if ff_model == ff_systematics[1:].min():\n",
    "            src += f'<span style=\"color:blue\">{diff}</span> | '\n",
    "        elif ff_model == ff_systematics[1:].max():\n",
    "            src += f'<span style=\"color:red\">{diff}</span> | '\n",
    "        else:\n",
    "            src += f\"{diff} | \"\n",
    "    src += \"\\n\"\n",
    "\n",
    "for i, title in enumerate(models):\n",
    "    src += f\"\\n- **{i}**: {title}\"\n",
    "Markdown(src)"
   ]
  },
  {
   "cell_type": "markdown",
   "metadata": {},
   "source": [
    "## Average polarizations"
   ]
  },
  {
   "cell_type": "code",
   "execution_count": null,
   "metadata": {},
   "outputs": [],
   "source": [
    "def compute_weighted_average(v: jnp.ndarray, weights: jnp.ndarray) -> jnp.ndarray:\n",
    "    return jnp.nansum(v * weights, axis=(-1, -2)) / jnp.nansum(\n",
    "        weights, axis=(-1, -2)\n",
    "    )\n",
    "\n",
    "\n",
    "stat_weighted_alpha_norm = compute_weighted_average(\n",
    "    stat_polarization_norms,\n",
    "    weights=stat_intensities,\n",
    ")\n",
    "stat_weighted_alpha = compute_weighted_average(\n",
    "    stat_polarizations,\n",
    "    weights=stat_intensities,\n",
    ")\n",
    "\n",
    "syst_weighted_alpha_norm = compute_weighted_average(\n",
    "    syst_polarization_norms,\n",
    "    weights=syst_intensities,\n",
    ")\n",
    "syst_weighted_alpha = compute_weighted_average(\n",
    "    syst_polarizations,\n",
    "    weights=syst_intensities,\n",
    ")\n",
    "\n",
    "nominal_weighted_alpha_norm = syst_weighted_alpha_norm[0]\n",
    "nominal_weighted_alpha = syst_weighted_alpha[:, 0]"
   ]
  },
  {
   "cell_type": "code",
   "execution_count": null,
   "metadata": {
    "tags": []
   },
   "outputs": [],
   "source": [
    "syst_weighted_alpha_norm_diff = (\n",
    "    syst_weighted_alpha_norm - syst_weighted_alpha_norm[0]\n",
    ")\n",
    "syst_weighted_alpha_diff = (syst_weighted_alpha.T - syst_weighted_alpha[:, 0]).T\n",
    "\n",
    "stat_weighted_alpha_std = stat_weighted_alpha.std(axis=1)\n",
    "syst_weighted_alpha_min = syst_weighted_alpha_diff.min(axis=1)\n",
    "syst_weighted_alpha_max = syst_weighted_alpha_diff.max(axis=1)"
   ]
  },
  {
   "cell_type": "code",
   "execution_count": null,
   "metadata": {
    "jupyter": {
     "source_hidden": true
    },
    "tags": [
     "hide-input"
    ]
   },
   "outputs": [],
   "source": [
    "def render_uncertainties(value, stat, syst_min, syst_max, plus: bool = True) -> str:\n",
    "    if plus:\n",
    "        val = f\"{1e3*value:+.1f}\"\n",
    "    else:\n",
    "        val = f\"{1e3*value:.1f}\"\n",
    "    stat = f\"{1e3*stat:.1f}\"\n",
    "    syst_min = f\"-{1e3*abs(syst_min):.1f}\"\n",
    "    syst_max = f\"+{1e3*abs(syst_max):.1f}\"\n",
    "    return (\n",
    "        Rf\"\\left({val} \\pm {stat}_{{{syst_min}}}^{{{syst_max}}} \\right) \\times\"\n",
    "        \" 10^{-3}\"\n",
    "    )\n",
    "\n",
    "\n",
    "src = R\"\\begin{array}{ccr}\"\n",
    "for i in range(4):\n",
    "    if i < 3:\n",
    "        title = Rf\"\\alpha_{'xyz'[i]}\"\n",
    "        value_with_uncertainties = render_uncertainties(\n",
    "            nominal_weighted_alpha[i],\n",
    "            stat_weighted_alpha_std[i],\n",
    "            syst_weighted_alpha_min[i],\n",
    "            syst_weighted_alpha_max[i],\n",
    "        )\n",
    "    else:\n",
    "        title = R\"\\left|\\vec{{\\alpha}}\\right|\"\n",
    "        value_with_uncertainties = render_uncertainties(\n",
    "            nominal_weighted_alpha_norm,\n",
    "            stat_weighted_alpha_norm.std(),\n",
    "            syst_weighted_alpha_norm_diff.min(),\n",
    "            syst_weighted_alpha_norm_diff.max(),\n",
    "            plus=False,\n",
    "        )\n",
    "    src += Rf\"\\overline{{{title}}} & = & {value_with_uncertainties} \\\\\"\n",
    "src += R\"\\end{array}\"\n",
    "Latex(src)"
   ]
  },
  {
   "cell_type": "markdown",
   "metadata": {},
   "source": [
    "Difference between each model and nominal value (computed with the default model):"
   ]
  },
  {
   "cell_type": "code",
   "execution_count": null,
   "metadata": {
    "jupyter": {
     "source_hidden": true
    },
    "tags": [
     "full-width",
     "hide-input"
    ]
   },
   "outputs": [],
   "source": [
    "pd.DataFrame(\n",
    "    {\n",
    "        title: (f\"{x:+.4f}\", f\"{y:+.4f}\", f\"{z:+.4f}\", f\"{norm:+.4f}\")\n",
    "        for title, x, y, z, norm in zip(\n",
    "            models,\n",
    "            *syst_weighted_alpha_diff,\n",
    "            syst_weighted_alpha_norm_diff,\n",
    "        )\n",
    "    }\n",
    ").transpose().rename(columns={0: \"ɑx\", 1: \"ɑy\", 2: \"ɑz\", 3: \"|ɑ|\"})"
   ]
  }
 ],
 "metadata": {
  "kernelspec": {
   "display_name": "Python 3 (ipykernel)",
   "language": "python",
   "name": "python3"
  },
  "language_info": {
   "codemirror_mode": {
    "name": "ipython",
    "version": 3
   },
   "file_extension": ".py",
   "mimetype": "text/x-python",
   "name": "python",
   "nbconvert_exporter": "python",
   "pygments_lexer": "ipython3",
   "version": "3.8.13"
  }
 },
 "nbformat": 4,
 "nbformat_minor": 4
}
