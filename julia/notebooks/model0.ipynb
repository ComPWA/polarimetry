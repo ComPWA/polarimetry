{
 "cells": [
  {
   "cell_type": "markdown",
   "metadata": {},
   "source": [
    "# Model $\\Lambda_c \\to p \\pi K$\n",
    "\n",
    "<!-- cspell:ignore onlyls Xlineshape -->"
   ]
  },
  {
   "cell_type": "code",
   "execution_count": null,
   "metadata": {},
   "outputs": [],
   "source": [
    "using Markdown\n",
    "using InteractiveUtils"
   ]
  },
  {
   "cell_type": "code",
   "execution_count": null,
   "metadata": {},
   "outputs": [],
   "source": [
    "begin\n",
    "  cd(joinpath(@__DIR__, \"..\"))\n",
    "  using Pkg\n",
    "  Pkg.activate(\".\")\n",
    "  Pkg.instantiate()\n",
    "  #\n",
    "  using JSON\n",
    "  using Plots\n",
    "  using RecipesBase\n",
    "  #\n",
    "  using LinearAlgebra\n",
    "  using Parameters\n",
    "  #\n",
    "  using ThreeBodyDecay\n",
    "  using ThreeBodyDecay.PartialWaveFunctions\n",
    "end"
   ]
  },
  {
   "cell_type": "code",
   "execution_count": null,
   "metadata": {},
   "outputs": [],
   "source": [
    "theme(:wong2, frame=:box, grid=false, minorticks=true,\n",
    "  guidefontvalign=:top, guidefonthalign=:right,\n",
    "  xlim=(:auto, :auto), ylim=(:auto, :auto),\n",
    "  lw=1, lab=\"\", colorbar=false)"
   ]
  },
  {
   "cell_type": "code",
   "execution_count": null,
   "metadata": {},
   "outputs": [],
   "source": [
    "begin\n",
    "  const mK = 0.493\n",
    "  const mπ = 0.140\n",
    "  const mp = 0.938\n",
    "  const mΣ = 1.18925\n",
    "  const mΛc = 2.28\n",
    "end\n",
    "\n",
    "const ms = ThreeBodyMasses(m1=mp, m2=mπ, m3=mK, m0=mΛc)\n",
    "const tbs = ThreeBodySystem(ms, ThreeBodySpins(1, 0, 0; two_h0=1))\n",
    "const parities = ['+', '-', '-', '±']"
   ]
  },
  {
   "cell_type": "code",
   "execution_count": null,
   "metadata": {},
   "outputs": [],
   "source": [
    "function readjson(path)\n",
    "  f = read(path, String)\n",
    "  return JSON.parse(f)\n",
    "end"
   ]
  },
  {
   "cell_type": "markdown",
   "metadata": {},
   "source": [
    "## Lineshapes"
   ]
  },
  {
   "cell_type": "code",
   "execution_count": null,
   "metadata": {},
   "outputs": [],
   "source": [
    "breakup(m², m1², m2²) = sqrt(Kallen(m², m1², m2²))"
   ]
  },
  {
   "cell_type": "markdown",
   "metadata": {},
   "source": [
    "### `BreitWignerMinL`"
   ]
  },
  {
   "cell_type": "code",
   "execution_count": null,
   "metadata": {},
   "outputs": [],
   "source": [
    "begin\n",
    "  @with_kw struct BreitWignerMinL{T}\n",
    "    pars::T\n",
    "    l::Int\n",
    "    minL::Int\n",
    "    #\n",
    "    name::String\n",
    "    #\n",
    "    m1::Float64\n",
    "    m2::Float64\n",
    "    mk::Float64\n",
    "    m0::Float64\n",
    "  end\n",
    "  BreitWignerMinL(pars::T; kw...) where {T} = BreitWignerMinL(; pars, kw...)\n",
    "  function (BW::BreitWignerMinL)(s, σ)\n",
    "    m, Γ₀ = BW.pars\n",
    "    @unpack l, minL = BW\n",
    "    @unpack m1, m2, mk, m0 = BW\n",
    "    p, p0 = breakup(σ, m1^2, m2^2), breakup(m^2, m1^2, m2^2)\n",
    "    q, q0 = breakup(s, σ, mk^2), breakup(s, m^2, mk^2)\n",
    "    Γ = Γ₀ * (p / p0)^(2l + 1) * m / sqrt(σ)  # should also have F\n",
    "    1 / (m^2 - σ - 1im * m * Γ) * (p / p0)^l * (q / q0)^minL # should also have F\n",
    "  end\n",
    "end"
   ]
  },
  {
   "cell_type": "markdown",
   "metadata": {},
   "source": [
    "### `BuggBreitWignerMinL`"
   ]
  },
  {
   "cell_type": "code",
   "execution_count": null,
   "metadata": {},
   "outputs": [],
   "source": [
    "begin\n",
    "  @with_kw struct BuggBreitWignerMinL{T}\n",
    "    pars::T\n",
    "    l::Int\n",
    "    minL::Int\n",
    "    #\n",
    "    name::String\n",
    "    #\n",
    "    m1::Float64\n",
    "    m2::Float64\n",
    "    mk::Float64\n",
    "    m0::Float64\n",
    "  end\n",
    "  BuggBreitWignerMinL(pars::T; kw...) where {\n",
    "    T<:NamedTuple{X,Tuple{Float64,Float64}}} where {X} =\n",
    "    BuggBreitWignerMinL(; pars=merge(pars, (γ=1.1,)), kw...)\n",
    "  #\n",
    "  function (BW::BuggBreitWignerMinL)(s, σ)\n",
    "    σA = mK^2 - mπ^2 / 2\n",
    "    m, Γ₀, γ = BW.pars\n",
    "    mΓ = (σ - σA) / (m^2 - σA) * Γ₀^2 * exp(-γ * σ)\n",
    "    1 / (m^2 - σ - 1im * mΓ)\n",
    "  end\n",
    "end"
   ]
  },
  {
   "cell_type": "markdown",
   "metadata": {},
   "source": [
    "### `Flatte1405`"
   ]
  },
  {
   "cell_type": "code",
   "execution_count": null,
   "metadata": {},
   "outputs": [],
   "source": [
    "begin\n",
    "  @with_kw struct Flatte1405{T}\n",
    "    pars::T\n",
    "    l::Int\n",
    "    minL::Int\n",
    "    #\n",
    "    name::String\n",
    "    #\n",
    "    m1::Float64\n",
    "    m2::Float64\n",
    "    mk::Float64\n",
    "    m0::Float64\n",
    "  end\n",
    "  #\n",
    "  Flatte1405(pars::T; kw...) where {T} = Flatte1405(; pars, kw...)\n",
    "  function (BW::Flatte1405)(s, σ)\n",
    "    m, Γ₀ = BW.pars\n",
    "    @unpack m1, m2 = BW\n",
    "    p, p0 = breakup(σ, m1^2, m2^2), breakup(m^2, m1^2, m2^2)\n",
    "    p′, p0′ = breakup(σ, mπ^2, mΣ^2), breakup(m^2, mp^2, mΣ^2)\n",
    "    Γ1 = Γ₀ * (p / p0) * m / sqrt(σ)  # should also have F\n",
    "    Γ2 = Γ₀ * (p′ / p0′) * m / sqrt(σ)  # should also have F\n",
    "    Γ = Γ1 + Γ2\n",
    "    1 / (m^2 - σ - 1im * m * Γ)\n",
    "  end\n",
    "end"
   ]
  },
  {
   "cell_type": "markdown",
   "metadata": {},
   "source": [
    "## Parsing the input\n"
   ]
  },
  {
   "cell_type": "code",
   "execution_count": null,
   "metadata": {},
   "outputs": [],
   "source": [
    "function ifhyphenaverage(s::String)\n",
    "  factor = findfirst('-', s) === nothing ? 1 : 2\n",
    "  eval(Meta.parse(replace(s, '-' => '+'))) / factor\n",
    "end"
   ]
  },
  {
   "cell_type": "code",
   "execution_count": null,
   "metadata": {},
   "outputs": [],
   "source": [
    "function buildchain(key, dict)\n",
    "  @unpack mass, width, lineshape = dict\n",
    "  #\n",
    "  k = Dict('K' => 1, 'D' => 3, 'L' => 2)[first(key)]\n",
    "  #\n",
    "  parity = dict[\"jp\"][end]\n",
    "  two_j = Int(2 * eval(Meta.parse(dict[\"jp\"][1:end-2])))\n",
    "  #\n",
    "  massval, widthval = ifhyphenaverage.((mass, width)) ./ 1e3\n",
    "  #\n",
    "  LS = vcat(\n",
    "    [possible_ls(\n",
    "      jp(two_j // 2, parity),\n",
    "      jp(tbs.two_js[k] // 2, parities[k]);\n",
    "      jp=jp(tbs.two_js[0] // 2, P0)) for P0 in ['+', '-']]...)\n",
    "  #\n",
    "  i, j = ij_from_k(k)\n",
    "  ls = possible_ls(\n",
    "    jp(tbs.two_js[i] // 2, parities[i]),\n",
    "    jp(tbs.two_js[j] // 2, parities[j]);\n",
    "    jp=jp(two_j // 2, parity))\n",
    "  length(ls) != 1 && error(\"weird\")\n",
    "  onlyls = first(ls)\n",
    "  minLS = first(sort(vcat(LS...); by=x -> x[1]))\n",
    "  #\n",
    "  code = quote\n",
    "    decay_chain(\n",
    "      k=$k,\n",
    "      Xlineshape=$(Symbol(lineshape))(\n",
    "        (; m=$massval, Γ=$widthval);\n",
    "        name=$key,\n",
    "        l=$(onlyls[1]),\n",
    "        minL=$(minLS[1]),\n",
    "        m1=$(ms[i]), m2=$(ms[j]), mk=$(ms[k]), m0=$(ms[0])),\n",
    "      two_LS=$(minLS .|> x2),\n",
    "      two_ls=$(onlyls .|> x2),\n",
    "      two_s=$two_j, tbs=$tbs,\n",
    "    )\n",
    "  end\n",
    "  eval(code)\n",
    "  # code\n",
    "end"
   ]
  },
  {
   "cell_type": "code",
   "execution_count": null,
   "metadata": {},
   "outputs": [],
   "source": [
    "isobarsinput = readjson(joinpath(\"..\", \"data\", \"isobars.json\"))[\"isobars\"];"
   ]
  },
  {
   "cell_type": "code",
   "execution_count": null,
   "metadata": {},
   "outputs": [],
   "source": [
    "ds = [buildchain(keys, dict) for (keys, dict) in isobarsinput]"
   ]
  },
  {
   "cell_type": "code",
   "execution_count": null,
   "metadata": {},
   "outputs": [],
   "source": [
    "let\n",
    "  plot(layout=grid(1, 3), size=(1000, 240))\n",
    "  for d in ds\n",
    "    plot!(sp=d.k, x -> abs2(d.Xlineshape(ms[0]^2, x)), lims(d.k, ms)...,\n",
    "      lab=d.Xlineshape.name)\n",
    "  end\n",
    "  plot!()\n",
    "end"
   ]
  }
 ],
 "metadata": {
  "kernelspec": {
   "display_name": "Julia 1.7.2",
   "language": "julia",
   "name": "julia-1.7"
  },
  "language_info": {
   "file_extension": ".jl",
   "mimetype": "application/julia",
   "name": "julia",
   "version": "1.7.2"
  }
 },
 "nbformat": 4,
 "nbformat_minor": 2
}
